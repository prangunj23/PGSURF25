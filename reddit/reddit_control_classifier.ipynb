{
 "cells": [
  {
   "cell_type": "code",
   "execution_count": 2,
   "id": "7037fa5a",
   "metadata": {},
   "outputs": [
    {
     "name": "stderr",
     "output_type": "stream",
     "text": [
      "/Users/pranitgunjal/Library/Python/3.9/lib/python/site-packages/urllib3/__init__.py:35: NotOpenSSLWarning: urllib3 v2 only supports OpenSSL 1.1.1+, currently the 'ssl' module is compiled with 'LibreSSL 2.8.3'. See: https://github.com/urllib3/urllib3/issues/3020\n",
      "  warnings.warn(\n"
     ]
    }
   ],
   "source": [
    "import sys\n",
    "sys.path.append('../utilities/')\n",
    "import pandas as pd\n",
    "import numpy as np\n",
    "from sklearn import svm\n",
    "from sklearn.model_selection import train_test_split, GridSearchCV\n",
    "from sklearn.metrics import accuracy_score, precision_score, recall_score, roc_auc_score\n",
    "import torch\n",
    "from sentence_transformers import SentenceTransformer\n",
    "from joblib import dump\n",
    "from openai import OpenAI\n",
    "from tqdm import tqdm\n",
    "from mmd import MMD\n",
    "import re\n",
    "from sklearn.feature_extraction.text import CountVectorizer"
   ]
  },
  {
   "cell_type": "markdown",
   "id": "795e3f8d",
   "metadata": {},
   "source": [
    "# **Transformer**"
   ]
  },
  {
   "cell_type": "code",
   "execution_count": 3,
   "id": "859bea8e",
   "metadata": {},
   "outputs": [],
   "source": [
    "sentence_transformer = SentenceTransformer('all-mpnet-base-v2')"
   ]
  },
  {
   "cell_type": "markdown",
   "id": "0c697929",
   "metadata": {},
   "source": [
    "# **Data Pre-processing**"
   ]
  },
  {
   "cell_type": "code",
   "execution_count": 12,
   "id": "d112222d",
   "metadata": {},
   "outputs": [],
   "source": [
    "gen_df = pd.read_csv('../data/generated/reddit/control/initial_gen.csv')\n",
    "orig_df = pd.read_csv('../data/initial_datasets/reddit_test.csv')"
   ]
  },
  {
   "cell_type": "code",
   "execution_count": 13,
   "id": "d963be54",
   "metadata": {},
   "outputs": [
    {
     "data": {
      "application/vnd.microsoft.datawrangler.viewer.v0+json": {
       "columns": [
        {
         "name": "index",
         "rawType": "int64",
         "type": "integer"
        },
        {
         "name": "sentences",
         "rawType": "object",
         "type": "string"
        },
        {
         "name": "labels",
         "rawType": "int64",
         "type": "integer"
        }
       ],
       "ref": "3154c837-1171-4043-8e0b-1314b4901eb5",
       "rows": [
        [
         "0",
         "Finally finished that game last night! So epic! 🎮",
         "1"
        ],
        [
         "1",
         "Ugh, stuck in traffic AGAIN. Feels like I'm wasting my life. 😤",
         "-1"
        ],
        [
         "2",
         "[NAME]'s new album dropped today and it's fire!! 🔥🔥",
         "1"
        ],
        [
         "3",
         "Why is this app so glitchy? It's driving me nuts. 🤦‍♂️",
         "-1"
        ],
        [
         "4",
         "Got a surprise gift from [NAME], totally made my day! 🎁",
         "1"
        ],
        [
         "5",
         "This weather is absolutely miserable, can't wait for summer. 🌧️",
         "-1"
        ],
        [
         "6",
         "Just aced my exam, feeling on top of the world! 📚😊",
         "1"
        ],
        [
         "7",
         "Every single order from this place is messed up. Unreal. 😡",
         "-1"
        ],
        [
         "8",
         "Had the best brunch with friends today, still smiling! 🥞",
         "1"
        ],
        [
         "9",
         "Seriously, the wifi here is the worst. 😩",
         "-1"
        ],
        [
         "10",
         "I'm so hyped for the new game release next week! 🎮",
         "1"
        ],
        [
         "11",
         "That movie was absolute trash, waste of time.",
         "-1"
        ],
        [
         "12",
         "[NAME]'s concert last night was insane! Best night ever!",
         "1"
        ],
        [
         "13",
         "Ugh, stuck in traffic AGAIN, I'm gonna be so late!",
         "-1"
        ],
        [
         "14",
         "Just got a new puppy and she's the cutest! 🐶❤️",
         "1"
        ],
        [
         "15",
         "Can't believe I missed the sale, everything's gone now. 😒",
         "-1"
        ],
        [
         "16",
         "Had an awesome run this morning, feeling great!",
         "1"
        ],
        [
         "17",
         "This update made the app even worse. Who thought this was a good idea?",
         "-1"
        ],
        [
         "18",
         "Finished the book in one sitting, totally recommend it!",
         "1"
        ],
        [
         "19",
         "The customer service there is the worst, never shopping there again.",
         "-1"
        ],
        [
         "20",
         "Ugh, this video is so lame",
         "-1"
        ],
        [
         "21",
         "I can't believe how awesome this game is! 🎮",
         "1"
        ],
        [
         "22",
         "Totally disappointed with the new update 😒",
         "-1"
        ],
        [
         "23",
         "Best coffee I've ever had, hands down ☕️",
         "1"
        ],
        [
         "24",
         "Why do ppl even like this show? It's so boring",
         "-1"
        ],
        [
         "25",
         "Had an amazing time at the concert last night! 🎶",
         "1"
        ],
        [
         "26",
         "This product is a waste of money, don't buy it",
         "-1"
        ],
        [
         "27",
         "LOL, that joke was hilarious 😂",
         "1"
        ],
        [
         "28",
         "This movie was a complete letdown",
         "-1"
        ],
        [
         "29",
         "Can't recommend this book enough, totally worth it 📚",
         "1"
        ],
        [
         "30",
         "Wow, this movie was amazing! 🎉",
         "1"
        ],
        [
         "31",
         "Ugh, why do the updates always ruin everything? 😡",
         "-1"
        ],
        [
         "32",
         "Just got a new puppy and I'm in love! 🐶❤️",
         "1"
        ],
        [
         "33",
         "Can't believe how awful that service was 🤦‍♂️",
         "-1"
        ],
        [
         "34",
         "Finally hit my gym goal today! 💪",
         "1"
        ],
        [
         "35",
         "This game is totally overrated... smh",
         "-1"
        ],
        [
         "36",
         "So glad I found this community, you guys rock! 🤗",
         "1"
        ],
        [
         "37",
         "Another day, another bug. So frustrating! 😤",
         "-1"
        ],
        [
         "38",
         "Just aced my finals, feeling on top of the world! 🎓",
         "1"
        ],
        [
         "39",
         "Why is the internet so slow today?! 😩",
         "-1"
        ],
        [
         "40",
         "I just finished the whole season and it was AMAZING! 🤩",
         "1"
        ],
        [
         "41",
         "Ugh, this movie was a total waste of time 😒",
         "-1"
        ],
        [
         "42",
         "Can't believe how epic that concert was last night!! 🎸",
         "1"
        ],
        [
         "43",
         "Honestly, this app keeps crashing and I'm super annoyed.",
         "-1"
        ],
        [
         "44",
         "Big thanks to [NAME] for being such a great friend! 😊",
         "1"
        ],
        [
         "45",
         "Why is customer service so bad everywhere these days? 😤",
         "-1"
        ],
        [
         "46",
         "OMG, the new album from [NAME] is fire! 🔥🔥",
         "1"
        ],
        [
         "47",
         "Another day, another headache... when will it stop? 😩",
         "-1"
        ],
        [
         "48",
         "The community here is so helpful and welcoming! 💪",
         "1"
        ],
        [
         "49",
         "Tried the recipe and it was a disaster, wouldn't recommend.",
         "-1"
        ]
       ],
       "shape": {
        "columns": 2,
        "rows": 1000
       }
      },
      "text/html": [
       "<div>\n",
       "<style scoped>\n",
       "    .dataframe tbody tr th:only-of-type {\n",
       "        vertical-align: middle;\n",
       "    }\n",
       "\n",
       "    .dataframe tbody tr th {\n",
       "        vertical-align: top;\n",
       "    }\n",
       "\n",
       "    .dataframe thead th {\n",
       "        text-align: right;\n",
       "    }\n",
       "</style>\n",
       "<table border=\"1\" class=\"dataframe\">\n",
       "  <thead>\n",
       "    <tr style=\"text-align: right;\">\n",
       "      <th></th>\n",
       "      <th>sentences</th>\n",
       "      <th>labels</th>\n",
       "    </tr>\n",
       "  </thead>\n",
       "  <tbody>\n",
       "    <tr>\n",
       "      <th>0</th>\n",
       "      <td>Finally finished that game last night! So epic! 🎮</td>\n",
       "      <td>1</td>\n",
       "    </tr>\n",
       "    <tr>\n",
       "      <th>1</th>\n",
       "      <td>Ugh, stuck in traffic AGAIN. Feels like I'm wa...</td>\n",
       "      <td>-1</td>\n",
       "    </tr>\n",
       "    <tr>\n",
       "      <th>2</th>\n",
       "      <td>[NAME]'s new album dropped today and it's fire...</td>\n",
       "      <td>1</td>\n",
       "    </tr>\n",
       "    <tr>\n",
       "      <th>3</th>\n",
       "      <td>Why is this app so glitchy? It's driving me nu...</td>\n",
       "      <td>-1</td>\n",
       "    </tr>\n",
       "    <tr>\n",
       "      <th>4</th>\n",
       "      <td>Got a surprise gift from [NAME], totally made ...</td>\n",
       "      <td>1</td>\n",
       "    </tr>\n",
       "    <tr>\n",
       "      <th>...</th>\n",
       "      <td>...</td>\n",
       "      <td>...</td>\n",
       "    </tr>\n",
       "    <tr>\n",
       "      <th>995</th>\n",
       "      <td>Honestly, this movie was a huge letdown 🤦‍♂️</td>\n",
       "      <td>-1</td>\n",
       "    </tr>\n",
       "    <tr>\n",
       "      <th>996</th>\n",
       "      <td>Found the cutest puppy today, made my year! 🐶</td>\n",
       "      <td>1</td>\n",
       "    </tr>\n",
       "    <tr>\n",
       "      <th>997</th>\n",
       "      <td>Service at this restaurant was awful 👎</td>\n",
       "      <td>-1</td>\n",
       "    </tr>\n",
       "    <tr>\n",
       "      <th>998</th>\n",
       "      <td>This book is an absolute masterpiece 📚</td>\n",
       "      <td>1</td>\n",
       "    </tr>\n",
       "    <tr>\n",
       "      <th>999</th>\n",
       "      <td>Hate it when my internet keeps cutting out 😤</td>\n",
       "      <td>-1</td>\n",
       "    </tr>\n",
       "  </tbody>\n",
       "</table>\n",
       "<p>1000 rows × 2 columns</p>\n",
       "</div>"
      ],
      "text/plain": [
       "                                             sentences  labels\n",
       "0    Finally finished that game last night! So epic! 🎮       1\n",
       "1    Ugh, stuck in traffic AGAIN. Feels like I'm wa...      -1\n",
       "2    [NAME]'s new album dropped today and it's fire...       1\n",
       "3    Why is this app so glitchy? It's driving me nu...      -1\n",
       "4    Got a surprise gift from [NAME], totally made ...       1\n",
       "..                                                 ...     ...\n",
       "995       Honestly, this movie was a huge letdown 🤦‍♂️      -1\n",
       "996      Found the cutest puppy today, made my year! 🐶       1\n",
       "997             Service at this restaurant was awful 👎      -1\n",
       "998             This book is an absolute masterpiece 📚       1\n",
       "999       Hate it when my internet keeps cutting out 😤      -1\n",
       "\n",
       "[1000 rows x 2 columns]"
      ]
     },
     "execution_count": 13,
     "metadata": {},
     "output_type": "execute_result"
    }
   ],
   "source": [
    "gen_df"
   ]
  },
  {
   "cell_type": "code",
   "execution_count": 14,
   "id": "6944db73",
   "metadata": {},
   "outputs": [
    {
     "data": {
      "application/vnd.microsoft.datawrangler.viewer.v0+json": {
       "columns": [
        {
         "name": "index",
         "rawType": "int64",
         "type": "integer"
        },
        {
         "name": "text",
         "rawType": "object",
         "type": "string"
        },
        {
         "name": "label",
         "rawType": "int64",
         "type": "integer"
        }
       ],
       "ref": "96223677-fb6e-4073-b49e-bde60b769db8",
       "rows": [
        [
         "0",
         "First is the worst",
         "-1"
        ],
        [
         "1",
         "Our education system has been a complete and utter failure...",
         "-1"
        ],
        [
         "2",
         "The fuck you call me!? A cunt!? Damn man, didn’t know I meant so much to you, right in the feels.",
         "-1"
        ],
        [
         "3",
         "It will probably take him some time to figure out whether he’s really ok with it or not.",
         "1"
        ],
        [
         "4",
         "Somebody is really insecure about their career decisions.",
         "-1"
        ],
        [
         "5",
         "I just saw that they deleted their account. Good.",
         "1"
        ],
        [
         "6",
         "You can only fit so much in 20ish min show.",
         "1"
        ],
        [
         "7",
         "Thanks for looking out but we will take our chances with this grave danger.",
         "1"
        ],
        [
         "8",
         "I feel like I already knew, I just needed to have someone else tell me to really open up my eyes. Thank you for your comment",
         "1"
        ],
        [
         "9",
         "Let's get things back on track! Happy new year!",
         "1"
        ],
        [
         "10",
         "Ah the classic \"I don't deserve you\" argument.",
         "1"
        ],
        [
         "11",
         "Childhood is happiness. After that the rest of your life is spent chasing that feeling, a feeling that you’ll never experience again ",
         "-1"
        ],
        [
         "12",
         "Hey thanks! Happy new year to you too!",
         "1"
        ],
        [
         "13",
         "Haha fucking gottem",
         "1"
        ],
        [
         "14",
         "Hi, [NAME]! I am stopping by to wish you the best day, and the best year! -HappyFriendlyBot",
         "1"
        ],
        [
         "15",
         "Haha Nice. I finished paying [NAME] back about a year ago. Great feeling! Congrats.",
         "1"
        ],
        [
         "16",
         "Borrowed time is stupid",
         "-1"
        ],
        [
         "17",
         "You're a mean person.",
         "-1"
        ],
        [
         "18",
         "is this sub scared to talk about [NAME] getting arrested",
         "-1"
        ],
        [
         "19",
         "Hope you're still doing ok ❤✌",
         "1"
        ],
        [
         "20",
         "Yah a couple years been together for 7 total...we are in healthcare",
         "1"
        ],
        [
         "21",
         "Lol I lol'd *I too am down with the kids. But not like that because that would be illegal*",
         "1"
        ],
        [
         "22",
         "Ah the good old Russian Right Hook.",
         "1"
        ],
        [
         "23",
         "Reports of a small fire or a transformer that blew. Nothing that I’ve seen has confirmed either though.",
         "1"
        ],
        [
         "24",
         "Glad those underprivileged West Loop kids will finally have something nice to take advantage of.",
         "1"
        ],
        [
         "25",
         "I wish everything the I was going through was a hallucination",
         "1"
        ],
        [
         "26",
         "That was a brutal shift. Honestly he should be playing sheltered minutes. Team needs [NAME] and [NAME] back, give bulk of his minutes to [NAME]. ",
         "-1"
        ],
        [
         "27",
         "The Nashville Design is just a placeholder. The actual plans have yet to been finalized.",
         "1"
        ],
        [
         "28",
         "This is the worst Hellraiser reboot script I've read this month, and let me tell you, I've read a lot of them.",
         "-1"
        ],
        [
         "29",
         "Meh, same branch of religion. Just opposing views on the sequel to the story.",
         "-1"
        ],
        [
         "30",
         "People like you are why I follow this sub. Keep it up I need more laughs like that!",
         "1"
        ],
        [
         "31",
         "No one does... that what makes it so provocative.",
         "-1"
        ],
        [
         "32",
         "I like this one",
         "1"
        ],
        [
         "33",
         "If you have schools in your city, I got bad news for ya champ...",
         "-1"
        ],
        [
         "34",
         "annoyed at most",
         "-1"
        ],
        [
         "35",
         "Yes, we are going to kink shame you. ",
         "-1"
        ],
        [
         "36",
         "I would say love is never enough. Love is unconditional. Relationships are not.",
         "1"
        ],
        [
         "37",
         "Helps quite a bit when the opponent forfeits the game by playing a high school QB. This is [NAME] in the playoffs bad.",
         "1"
        ],
        [
         "38",
         "Man. Just tuned in. Forgot it was an early game. Looks like it's been a positive game so far from pretty much everyone.",
         "1"
        ],
        [
         "39",
         "glad you made the trip from a fellow austinite",
         "1"
        ],
        [
         "40",
         "I'm happy I live in a country where machete attacks don't have to be a real concern.",
         "1"
        ],
        [
         "41",
         "I thought I was the only knicks/browns fan on this sub! That's cool. But yeah I love hearing him and clyde do broadcasts",
         "1"
        ],
        [
         "42",
         "I was just trying to work around the \"no rude\" rule. I like a challenge ;-)",
         "1"
        ],
        [
         "43",
         "I’m just gonna go ahead and call bullshit on most of the details of this story.",
         "-1"
        ],
        [
         "44",
         "That tiny shoulder pad is freaking adorable.",
         "1"
        ],
        [
         "45",
         "Haven't played in forever, but [NAME] solo was my jam back in the day. Glad to hear damage tanks are still good",
         "1"
        ],
        [
         "46",
         "ok thanks alot :), just extremely weird VAC bans are less harsh than throwing for Skins. lol",
         "1"
        ],
        [
         "47",
         "Yeah you’re right, I’m not fit for the position! Thank you for giving me the right words to say. ",
         "1"
        ],
        [
         "48",
         "And then he calls the fans crybabies for saying his movie sucked. Just take the L dude.",
         "-1"
        ],
        [
         "49",
         "I never understood the part where he dives into a pile of money, even as a child. It seems wildly painful.",
         "-1"
        ]
       ],
       "shape": {
        "columns": 2,
        "rows": 1000
       }
      },
      "text/html": [
       "<div>\n",
       "<style scoped>\n",
       "    .dataframe tbody tr th:only-of-type {\n",
       "        vertical-align: middle;\n",
       "    }\n",
       "\n",
       "    .dataframe tbody tr th {\n",
       "        vertical-align: top;\n",
       "    }\n",
       "\n",
       "    .dataframe thead th {\n",
       "        text-align: right;\n",
       "    }\n",
       "</style>\n",
       "<table border=\"1\" class=\"dataframe\">\n",
       "  <thead>\n",
       "    <tr style=\"text-align: right;\">\n",
       "      <th></th>\n",
       "      <th>text</th>\n",
       "      <th>label</th>\n",
       "    </tr>\n",
       "  </thead>\n",
       "  <tbody>\n",
       "    <tr>\n",
       "      <th>0</th>\n",
       "      <td>First is the worst</td>\n",
       "      <td>-1</td>\n",
       "    </tr>\n",
       "    <tr>\n",
       "      <th>1</th>\n",
       "      <td>Our education system has been a complete and u...</td>\n",
       "      <td>-1</td>\n",
       "    </tr>\n",
       "    <tr>\n",
       "      <th>2</th>\n",
       "      <td>The fuck you call me!? A cunt!? Damn man, didn...</td>\n",
       "      <td>-1</td>\n",
       "    </tr>\n",
       "    <tr>\n",
       "      <th>3</th>\n",
       "      <td>It will probably take him some time to figure ...</td>\n",
       "      <td>1</td>\n",
       "    </tr>\n",
       "    <tr>\n",
       "      <th>4</th>\n",
       "      <td>Somebody is really insecure about their career...</td>\n",
       "      <td>-1</td>\n",
       "    </tr>\n",
       "    <tr>\n",
       "      <th>...</th>\n",
       "      <td>...</td>\n",
       "      <td>...</td>\n",
       "    </tr>\n",
       "    <tr>\n",
       "      <th>995</th>\n",
       "      <td>Be glad you don't know the answer.</td>\n",
       "      <td>1</td>\n",
       "    </tr>\n",
       "    <tr>\n",
       "      <th>996</th>\n",
       "      <td>I’m laughing more that I feel I should st this...</td>\n",
       "      <td>1</td>\n",
       "    </tr>\n",
       "    <tr>\n",
       "      <th>997</th>\n",
       "      <td>I wouldnt necessarily call you and addict but ...</td>\n",
       "      <td>-1</td>\n",
       "    </tr>\n",
       "    <tr>\n",
       "      <th>998</th>\n",
       "      <td>I'm genuinely interested in the responses to t...</td>\n",
       "      <td>1</td>\n",
       "    </tr>\n",
       "    <tr>\n",
       "      <th>999</th>\n",
       "      <td>I hope things get better soon. I'm proud of yo...</td>\n",
       "      <td>1</td>\n",
       "    </tr>\n",
       "  </tbody>\n",
       "</table>\n",
       "<p>1000 rows × 2 columns</p>\n",
       "</div>"
      ],
      "text/plain": [
       "                                                  text  label\n",
       "0                                   First is the worst     -1\n",
       "1    Our education system has been a complete and u...     -1\n",
       "2    The fuck you call me!? A cunt!? Damn man, didn...     -1\n",
       "3    It will probably take him some time to figure ...      1\n",
       "4    Somebody is really insecure about their career...     -1\n",
       "..                                                 ...    ...\n",
       "995                 Be glad you don't know the answer.      1\n",
       "996  I’m laughing more that I feel I should st this...      1\n",
       "997  I wouldnt necessarily call you and addict but ...     -1\n",
       "998  I'm genuinely interested in the responses to t...      1\n",
       "999  I hope things get better soon. I'm proud of yo...      1\n",
       "\n",
       "[1000 rows x 2 columns]"
      ]
     },
     "execution_count": 14,
     "metadata": {},
     "output_type": "execute_result"
    }
   ],
   "source": [
    "orig_df"
   ]
  },
  {
   "cell_type": "code",
   "execution_count": 15,
   "id": "498815e2",
   "metadata": {},
   "outputs": [],
   "source": [
    "orig_df.rename(columns={'text': 'sentences', 'label': 'labels'}, inplace=True)"
   ]
  },
  {
   "cell_type": "markdown",
   "id": "eb9dea3f",
   "metadata": {},
   "source": [
    "# **MMD**"
   ]
  },
  {
   "cell_type": "code",
   "execution_count": 16,
   "id": "3a14f84d",
   "metadata": {},
   "outputs": [],
   "source": [
    "X = np.array(sentence_transformer.encode(orig_df['sentences'].to_list()))\n",
    "Y = np.array(sentence_transformer.encode(gen_df['sentences'].to_list()))"
   ]
  },
  {
   "cell_type": "code",
   "execution_count": 17,
   "id": "01441896",
   "metadata": {},
   "outputs": [],
   "source": [
    "def report_MMD(X, Y, normalize=False):\n",
    "    \n",
    "    tensorX = torch.tensor(X)\n",
    "    tensorY = torch.tensor(Y)\n",
    "    rbf_mmd = MMD(tensorX, tensorY, \"rbf\")\n",
    "    scale_mmd = MMD(tensorX, tensorY, \"multiscale\")\n",
    "\n",
    "\n",
    "    if normalize:\n",
    "        return (rbf_mmd.item() / np.sqrt((1.0 / X.shape[0]) + (1.0 / Y.shape[0]))), (scale_mmd.item() / np.sqrt(1.0 / X.shape[0] + 1.0 / Y.shape[0]))\n",
    "    else:\n",
    "        return rbf_mmd.item(), scale_mmd.item()"
   ]
  },
  {
   "cell_type": "code",
   "execution_count": 18,
   "id": "cc1039dc",
   "metadata": {},
   "outputs": [
    {
     "data": {
      "text/plain": [
       "(1000, 768)"
      ]
     },
     "execution_count": 18,
     "metadata": {},
     "output_type": "execute_result"
    }
   ],
   "source": [
    "X.shape"
   ]
  },
  {
   "cell_type": "code",
   "execution_count": 19,
   "id": "779b1759",
   "metadata": {},
   "outputs": [
    {
     "data": {
      "text/plain": [
       "(0.878304784672583, 3.2406348060106684)"
      ]
     },
     "execution_count": 19,
     "metadata": {},
     "output_type": "execute_result"
    }
   ],
   "source": [
    "report_MMD(X, Y, normalize=True)"
   ]
  },
  {
   "cell_type": "markdown",
   "id": "6298fb74",
   "metadata": {},
   "source": [
    "# **Wasserstein**"
   ]
  },
  {
   "cell_type": "code",
   "execution_count": 20,
   "id": "f16a2e50",
   "metadata": {},
   "outputs": [],
   "source": [
    "import numpy as np\n",
    "import ot\n",
    "\n",
    "def wasserstein(X, Y):\n",
    "    \n",
    "    a = np.ones((X.shape[0],)) / X.shape[0]\n",
    "    b = np.ones((Y.shape[0],)) / Y.shape[0]\n",
    "\n",
    "    M = ot.dist(X, Y)\n",
    "    M /= M.max()\n",
    "\n",
    "    return ot.emd2(a, b, M)"
   ]
  },
  {
   "cell_type": "code",
   "execution_count": 21,
   "id": "d1212a05",
   "metadata": {},
   "outputs": [
    {
     "name": "stderr",
     "output_type": "stream",
     "text": [
      "Python(94782) MallocStackLogging: can't turn off malloc stack logging because it was not enabled.\n",
      "huggingface/tokenizers: The current process just got forked, after parallelism has already been used. Disabling parallelism to avoid deadlocks...\n",
      "To disable this warning, you can either:\n",
      "\t- Avoid using `tokenizers` before the fork if possible\n",
      "\t- Explicitly set the environment variable TOKENIZERS_PARALLELISM=(true | false)\n"
     ]
    },
    {
     "data": {
      "text/plain": [
       "0.5666999897956844"
      ]
     },
     "execution_count": 21,
     "metadata": {},
     "output_type": "execute_result"
    }
   ],
   "source": [
    "wasserstein(X, Y)"
   ]
  },
  {
   "cell_type": "markdown",
   "id": "d38b20f6",
   "metadata": {},
   "source": [
    "# **Synthetic Classifier**"
   ]
  },
  {
   "cell_type": "code",
   "execution_count": 22,
   "id": "e0744fff",
   "metadata": {},
   "outputs": [],
   "source": [
    "train_df = gen_df\n",
    "test_df = orig_df\n",
    "\n",
    "X_train = train_df['sentences']\n",
    "X_test = test_df['sentences']\n",
    "\n",
    "y_train = train_df['labels']\n",
    "y_test = test_df['labels']"
   ]
  },
  {
   "cell_type": "code",
   "execution_count": 23,
   "id": "5e61de64",
   "metadata": {},
   "outputs": [
    {
     "data": {
      "application/vnd.microsoft.datawrangler.viewer.v0+json": {
       "columns": [
        {
         "name": "index",
         "rawType": "int64",
         "type": "integer"
        },
        {
         "name": "sentences",
         "rawType": "object",
         "type": "string"
        },
        {
         "name": "labels",
         "rawType": "int64",
         "type": "integer"
        }
       ],
       "ref": "22313a9a-a557-46e4-a91a-dc9b5710295d",
       "rows": [
        [
         "0",
         "Finally finished that game last night! So epic! 🎮",
         "1"
        ],
        [
         "1",
         "Ugh, stuck in traffic AGAIN. Feels like I'm wasting my life. 😤",
         "-1"
        ],
        [
         "2",
         "[NAME]'s new album dropped today and it's fire!! 🔥🔥",
         "1"
        ],
        [
         "3",
         "Why is this app so glitchy? It's driving me nuts. 🤦‍♂️",
         "-1"
        ],
        [
         "4",
         "Got a surprise gift from [NAME], totally made my day! 🎁",
         "1"
        ],
        [
         "5",
         "This weather is absolutely miserable, can't wait for summer. 🌧️",
         "-1"
        ],
        [
         "6",
         "Just aced my exam, feeling on top of the world! 📚😊",
         "1"
        ],
        [
         "7",
         "Every single order from this place is messed up. Unreal. 😡",
         "-1"
        ],
        [
         "8",
         "Had the best brunch with friends today, still smiling! 🥞",
         "1"
        ],
        [
         "9",
         "Seriously, the wifi here is the worst. 😩",
         "-1"
        ],
        [
         "10",
         "I'm so hyped for the new game release next week! 🎮",
         "1"
        ],
        [
         "11",
         "That movie was absolute trash, waste of time.",
         "-1"
        ],
        [
         "12",
         "[NAME]'s concert last night was insane! Best night ever!",
         "1"
        ],
        [
         "13",
         "Ugh, stuck in traffic AGAIN, I'm gonna be so late!",
         "-1"
        ],
        [
         "14",
         "Just got a new puppy and she's the cutest! 🐶❤️",
         "1"
        ],
        [
         "15",
         "Can't believe I missed the sale, everything's gone now. 😒",
         "-1"
        ],
        [
         "16",
         "Had an awesome run this morning, feeling great!",
         "1"
        ],
        [
         "17",
         "This update made the app even worse. Who thought this was a good idea?",
         "-1"
        ],
        [
         "18",
         "Finished the book in one sitting, totally recommend it!",
         "1"
        ],
        [
         "19",
         "The customer service there is the worst, never shopping there again.",
         "-1"
        ],
        [
         "20",
         "Ugh, this video is so lame",
         "-1"
        ],
        [
         "21",
         "I can't believe how awesome this game is! 🎮",
         "1"
        ],
        [
         "22",
         "Totally disappointed with the new update 😒",
         "-1"
        ],
        [
         "23",
         "Best coffee I've ever had, hands down ☕️",
         "1"
        ],
        [
         "24",
         "Why do ppl even like this show? It's so boring",
         "-1"
        ],
        [
         "25",
         "Had an amazing time at the concert last night! 🎶",
         "1"
        ],
        [
         "26",
         "This product is a waste of money, don't buy it",
         "-1"
        ],
        [
         "27",
         "LOL, that joke was hilarious 😂",
         "1"
        ],
        [
         "28",
         "This movie was a complete letdown",
         "-1"
        ],
        [
         "29",
         "Can't recommend this book enough, totally worth it 📚",
         "1"
        ],
        [
         "30",
         "Wow, this movie was amazing! 🎉",
         "1"
        ],
        [
         "31",
         "Ugh, why do the updates always ruin everything? 😡",
         "-1"
        ],
        [
         "32",
         "Just got a new puppy and I'm in love! 🐶❤️",
         "1"
        ],
        [
         "33",
         "Can't believe how awful that service was 🤦‍♂️",
         "-1"
        ],
        [
         "34",
         "Finally hit my gym goal today! 💪",
         "1"
        ],
        [
         "35",
         "This game is totally overrated... smh",
         "-1"
        ],
        [
         "36",
         "So glad I found this community, you guys rock! 🤗",
         "1"
        ],
        [
         "37",
         "Another day, another bug. So frustrating! 😤",
         "-1"
        ],
        [
         "38",
         "Just aced my finals, feeling on top of the world! 🎓",
         "1"
        ],
        [
         "39",
         "Why is the internet so slow today?! 😩",
         "-1"
        ],
        [
         "40",
         "I just finished the whole season and it was AMAZING! 🤩",
         "1"
        ],
        [
         "41",
         "Ugh, this movie was a total waste of time 😒",
         "-1"
        ],
        [
         "42",
         "Can't believe how epic that concert was last night!! 🎸",
         "1"
        ],
        [
         "43",
         "Honestly, this app keeps crashing and I'm super annoyed.",
         "-1"
        ],
        [
         "44",
         "Big thanks to [NAME] for being such a great friend! 😊",
         "1"
        ],
        [
         "45",
         "Why is customer service so bad everywhere these days? 😤",
         "-1"
        ],
        [
         "46",
         "OMG, the new album from [NAME] is fire! 🔥🔥",
         "1"
        ],
        [
         "47",
         "Another day, another headache... when will it stop? 😩",
         "-1"
        ],
        [
         "48",
         "The community here is so helpful and welcoming! 💪",
         "1"
        ],
        [
         "49",
         "Tried the recipe and it was a disaster, wouldn't recommend.",
         "-1"
        ]
       ],
       "shape": {
        "columns": 2,
        "rows": 1000
       }
      },
      "text/html": [
       "<div>\n",
       "<style scoped>\n",
       "    .dataframe tbody tr th:only-of-type {\n",
       "        vertical-align: middle;\n",
       "    }\n",
       "\n",
       "    .dataframe tbody tr th {\n",
       "        vertical-align: top;\n",
       "    }\n",
       "\n",
       "    .dataframe thead th {\n",
       "        text-align: right;\n",
       "    }\n",
       "</style>\n",
       "<table border=\"1\" class=\"dataframe\">\n",
       "  <thead>\n",
       "    <tr style=\"text-align: right;\">\n",
       "      <th></th>\n",
       "      <th>sentences</th>\n",
       "      <th>labels</th>\n",
       "    </tr>\n",
       "  </thead>\n",
       "  <tbody>\n",
       "    <tr>\n",
       "      <th>0</th>\n",
       "      <td>Finally finished that game last night! So epic! 🎮</td>\n",
       "      <td>1</td>\n",
       "    </tr>\n",
       "    <tr>\n",
       "      <th>1</th>\n",
       "      <td>Ugh, stuck in traffic AGAIN. Feels like I'm wa...</td>\n",
       "      <td>-1</td>\n",
       "    </tr>\n",
       "    <tr>\n",
       "      <th>2</th>\n",
       "      <td>[NAME]'s new album dropped today and it's fire...</td>\n",
       "      <td>1</td>\n",
       "    </tr>\n",
       "    <tr>\n",
       "      <th>3</th>\n",
       "      <td>Why is this app so glitchy? It's driving me nu...</td>\n",
       "      <td>-1</td>\n",
       "    </tr>\n",
       "    <tr>\n",
       "      <th>4</th>\n",
       "      <td>Got a surprise gift from [NAME], totally made ...</td>\n",
       "      <td>1</td>\n",
       "    </tr>\n",
       "    <tr>\n",
       "      <th>...</th>\n",
       "      <td>...</td>\n",
       "      <td>...</td>\n",
       "    </tr>\n",
       "    <tr>\n",
       "      <th>995</th>\n",
       "      <td>Honestly, this movie was a huge letdown 🤦‍♂️</td>\n",
       "      <td>-1</td>\n",
       "    </tr>\n",
       "    <tr>\n",
       "      <th>996</th>\n",
       "      <td>Found the cutest puppy today, made my year! 🐶</td>\n",
       "      <td>1</td>\n",
       "    </tr>\n",
       "    <tr>\n",
       "      <th>997</th>\n",
       "      <td>Service at this restaurant was awful 👎</td>\n",
       "      <td>-1</td>\n",
       "    </tr>\n",
       "    <tr>\n",
       "      <th>998</th>\n",
       "      <td>This book is an absolute masterpiece 📚</td>\n",
       "      <td>1</td>\n",
       "    </tr>\n",
       "    <tr>\n",
       "      <th>999</th>\n",
       "      <td>Hate it when my internet keeps cutting out 😤</td>\n",
       "      <td>-1</td>\n",
       "    </tr>\n",
       "  </tbody>\n",
       "</table>\n",
       "<p>1000 rows × 2 columns</p>\n",
       "</div>"
      ],
      "text/plain": [
       "                                             sentences  labels\n",
       "0    Finally finished that game last night! So epic! 🎮       1\n",
       "1    Ugh, stuck in traffic AGAIN. Feels like I'm wa...      -1\n",
       "2    [NAME]'s new album dropped today and it's fire...       1\n",
       "3    Why is this app so glitchy? It's driving me nu...      -1\n",
       "4    Got a surprise gift from [NAME], totally made ...       1\n",
       "..                                                 ...     ...\n",
       "995       Honestly, this movie was a huge letdown 🤦‍♂️      -1\n",
       "996      Found the cutest puppy today, made my year! 🐶       1\n",
       "997             Service at this restaurant was awful 👎      -1\n",
       "998             This book is an absolute masterpiece 📚       1\n",
       "999       Hate it when my internet keeps cutting out 😤      -1\n",
       "\n",
       "[1000 rows x 2 columns]"
      ]
     },
     "execution_count": 23,
     "metadata": {},
     "output_type": "execute_result"
    }
   ],
   "source": [
    "train_df"
   ]
  },
  {
   "cell_type": "code",
   "execution_count": null,
   "id": "8f89230f",
   "metadata": {},
   "outputs": [],
   "source": []
  }
 ],
 "metadata": {
  "kernelspec": {
   "display_name": "Python 3",
   "language": "python",
   "name": "python3"
  },
  "language_info": {
   "codemirror_mode": {
    "name": "ipython",
    "version": 3
   },
   "file_extension": ".py",
   "mimetype": "text/x-python",
   "name": "python",
   "nbconvert_exporter": "python",
   "pygments_lexer": "ipython3",
   "version": "3.9.6"
  }
 },
 "nbformat": 4,
 "nbformat_minor": 5
}
