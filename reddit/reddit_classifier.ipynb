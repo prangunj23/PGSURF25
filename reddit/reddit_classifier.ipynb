{
 "cells": [
  {
   "cell_type": "code",
   "execution_count": 1,
   "id": "8fb95dea",
   "metadata": {},
   "outputs": [],
   "source": [
    "import sys\n",
    "sys.path.append('../utilities/')"
   ]
  },
  {
   "cell_type": "code",
   "execution_count": 2,
   "id": "3a70ce89",
   "metadata": {},
   "outputs": [
    {
     "name": "stderr",
     "output_type": "stream",
     "text": [
      "/Users/pranitgunjal/Library/Python/3.9/lib/python/site-packages/urllib3/__init__.py:35: NotOpenSSLWarning: urllib3 v2 only supports OpenSSL 1.1.1+, currently the 'ssl' module is compiled with 'LibreSSL 2.8.3'. See: https://github.com/urllib3/urllib3/issues/3020\n",
      "  warnings.warn(\n"
     ]
    }
   ],
   "source": [
    "import pandas as pd\n",
    "import numpy as np\n",
    "from sklearn import svm\n",
    "from sklearn.model_selection import train_test_split, GridSearchCV\n",
    "from sklearn.metrics import accuracy_score, precision_score, recall_score, roc_auc_score\n",
    "from sentence_transformers import SentenceTransformer\n",
    "from joblib import dump\n",
    "from openai import OpenAI\n",
    "from tqdm import tqdm\n",
    "from mmd import MMD\n",
    "import torch\n",
    "import json"
   ]
  },
  {
   "cell_type": "code",
   "execution_count": 3,
   "id": "ea6d119a",
   "metadata": {},
   "outputs": [],
   "source": [
    "df = pd.read_csv('../data/initial_datasets/reddit_binary_labels.csv')"
   ]
  },
  {
   "cell_type": "code",
   "execution_count": 4,
   "id": "64760f52",
   "metadata": {},
   "outputs": [],
   "source": [
    "sentence_transformer = SentenceTransformer('all-mpnet-base-v2')"
   ]
  },
  {
   "cell_type": "code",
   "execution_count": 6,
   "id": "3d1002d8",
   "metadata": {},
   "outputs": [
    {
     "data": {
      "application/vnd.microsoft.datawrangler.viewer.v0+json": {
       "columns": [
        {
         "name": "index",
         "rawType": "int64",
         "type": "integer"
        },
        {
         "name": "text",
         "rawType": "object",
         "type": "string"
        },
        {
         "name": "label",
         "rawType": "int64",
         "type": "integer"
        }
       ],
       "ref": "296d6e48-4a0d-4433-992b-e91fd69db505",
       "rows": [
        [
         "0",
         "That game hurt.",
         "-1"
        ],
        [
         "1",
         "Man I love reddit.",
         "1"
        ],
        [
         "2",
         "Right? Considering it’s such an important document, I should know the damned thing backwards and forwards... thanks again for the help!",
         "1"
        ],
        [
         "3",
         "He isn't as big, but he's still quite popular. I've heard the same thing about his content. Never watched him much.",
         "-1"
        ],
        [
         "4",
         "That's crazy; I went to a super [RELIGION] high school and I think I can remember 2 girls the entire 4 years that became teen moms.",
         "1"
        ],
        [
         "5",
         "that's adorable asf",
         "1"
        ],
        [
         "6",
         "\"Sponge Blurb Pubs Quaw Haha GURR ha AAa!\" finale is too real",
         "1"
        ],
        [
         "7",
         "I wanted to downvote this, but it's not your fault homie.",
         "-1"
        ],
        [
         "8",
         "That is odd.",
         "-1"
        ],
        [
         "9",
         "I appreciate it, that's good to know. I hope I'll have to apply that knowledge one day",
         "1"
        ],
        [
         "10",
         "Pretty much every Punjabi dude I've met.",
         "1"
        ],
        [
         "11",
         "For extra measure tape it right by your crotch so she can't take it for sexual assault reasons",
         "-1"
        ],
        [
         "12",
         "\"You may die, but it's a sacrifice I'm willing to make\"",
         "1"
        ],
        [
         "13",
         "Now I'm wondering on what I've been missing out. Again thank you for this.",
         "1"
        ],
        [
         "14",
         "\"Seeeee! We have one of them coloureds too!\"",
         "1"
        ],
        [
         "15",
         "Yup, not anymore. Keep your blood sugar up! It really helps and DRINK water...",
         "1"
        ],
        [
         "16",
         "Lots, play store or apple store vpn. Nord is good",
         "1"
        ],
        [
         "17",
         "Dark and funny, but not really nice guy. He has yet to call the dead girls whores for declining to sleep with him. ",
         "-1"
        ],
        [
         "18",
         "I’m glad he’s okay but I’m even gladder it’s not that same gif of the guy ski/parachuting down a mountain",
         "1"
        ],
        [
         "19",
         "nice!! I'll try this one",
         "1"
        ],
        [
         "20",
         "I can't stand [NAME]. Especially since her \"tatooing my own face\" video. ",
         "-1"
        ],
        [
         "21",
         "I just came home, what the fuck is this lineup? I love you [NAME] you mad bastard !!!",
         "1"
        ],
        [
         "22",
         "Go troll elsewhere. This woman needs support, not crass questions.",
         "-1"
        ],
        [
         "23",
         "Just rumors online, it most likely won't happen",
         "-1"
        ],
        [
         "24",
         "Na. Rediting my post. Sorry for the ignorance.",
         "-1"
        ],
        [
         "25",
         "Pity. I had some decent lunches there, but never went there at night.",
         "-1"
        ],
        [
         "26",
         "By far the coolest thing I've seen on this thread yet",
         "1"
        ],
        [
         "27",
         "If there’s a pattern, yes.",
         "1"
        ],
        [
         "28",
         "Sending love and strength vibes <3",
         "1"
        ],
        [
         "29",
         "She’s like a kewpie doll with them. Precious.",
         "1"
        ],
        [
         "30",
         "Thanks for the info mate gonna watch out next time",
         "1"
        ],
        [
         "31",
         "Honestly at this point I don't think there's anything that will make me feel better. Maybe down the road, but right now nothing is helping. ",
         "-1"
        ],
        [
         "32",
         "There has to be some repercussions for this judge, right? Considering the crimes, that bail seems incredibly low...",
         "-1"
        ],
        [
         "33",
         "Good old guardian refusing to accept that [NAME] is stauncly anti-EU and anti-Brussels",
         "-1"
        ],
        [
         "34",
         "I don’t even try to make shots like this myself. So I gotta watch other people make them.",
         "-1"
        ],
        [
         "35",
         "Me too! First time in a couple of years!",
         "1"
        ],
        [
         "36",
         "Gotta protect’em!",
         "1"
        ],
        [
         "37",
         "\"Oh, how DARE you discuss the disgustingly unhealthy and dangerous lifestyle I pursue!\" /s",
         "-1"
        ],
        [
         "38",
         "Which totally makes it less funny for a person like me who has never seen this before, and laughed. ",
         "1"
        ],
        [
         "39",
         "Thanks, it was no effort at all.",
         "1"
        ],
        [
         "40",
         "Nice. I'll look around for it. Thanks!",
         "1"
        ],
        [
         "41",
         "Press fucken charges the moment they use your info.",
         "-1"
        ],
        [
         "42",
         "I love this woman.",
         "1"
        ],
        [
         "43",
         "Do you not give your snowmen brooms? I feel like that's a thing people do",
         "-1"
        ],
        [
         "44",
         "I loved how [NAME] feels like everyone in the office is her family. Her relationship with [NAME] is so cute and innocent",
         "1"
        ],
        [
         "45",
         "Then I’m sorry but this game really isn’t for you. Progression like that would ruin the base of what this game is.",
         "-1"
        ],
        [
         "46",
         "Am I the only INTP here who cared about deadlines. It's how I got so good at crunch time and working last minute.",
         "-1"
        ],
        [
         "47",
         ">Did you just call me a liar? Sick reference.",
         "-1"
        ],
        [
         "48",
         "Shut up 15 year-old",
         "-1"
        ],
        [
         "49",
         "It doesn't matter. You can pick someone with the #1 Pick that will never be any good...",
         "-1"
        ]
       ],
       "shape": {
        "columns": 2,
        "rows": 41701
       }
      },
      "text/html": [
       "<div>\n",
       "<style scoped>\n",
       "    .dataframe tbody tr th:only-of-type {\n",
       "        vertical-align: middle;\n",
       "    }\n",
       "\n",
       "    .dataframe tbody tr th {\n",
       "        vertical-align: top;\n",
       "    }\n",
       "\n",
       "    .dataframe thead th {\n",
       "        text-align: right;\n",
       "    }\n",
       "</style>\n",
       "<table border=\"1\" class=\"dataframe\">\n",
       "  <thead>\n",
       "    <tr style=\"text-align: right;\">\n",
       "      <th></th>\n",
       "      <th>text</th>\n",
       "      <th>label</th>\n",
       "    </tr>\n",
       "  </thead>\n",
       "  <tbody>\n",
       "    <tr>\n",
       "      <th>0</th>\n",
       "      <td>That game hurt.</td>\n",
       "      <td>-1</td>\n",
       "    </tr>\n",
       "    <tr>\n",
       "      <th>1</th>\n",
       "      <td>Man I love reddit.</td>\n",
       "      <td>1</td>\n",
       "    </tr>\n",
       "    <tr>\n",
       "      <th>2</th>\n",
       "      <td>Right? Considering it’s such an important docu...</td>\n",
       "      <td>1</td>\n",
       "    </tr>\n",
       "    <tr>\n",
       "      <th>3</th>\n",
       "      <td>He isn't as big, but he's still quite popular....</td>\n",
       "      <td>-1</td>\n",
       "    </tr>\n",
       "    <tr>\n",
       "      <th>4</th>\n",
       "      <td>That's crazy; I went to a super [RELIGION] hig...</td>\n",
       "      <td>1</td>\n",
       "    </tr>\n",
       "    <tr>\n",
       "      <th>...</th>\n",
       "      <td>...</td>\n",
       "      <td>...</td>\n",
       "    </tr>\n",
       "    <tr>\n",
       "      <th>41696</th>\n",
       "      <td>You’re good, no worries</td>\n",
       "      <td>1</td>\n",
       "    </tr>\n",
       "    <tr>\n",
       "      <th>41697</th>\n",
       "      <td>one's a rapist, and the other's a stingy yank ...</td>\n",
       "      <td>-1</td>\n",
       "    </tr>\n",
       "    <tr>\n",
       "      <th>41698</th>\n",
       "      <td>Ugh i wish i had seen this earlier! Have fun a...</td>\n",
       "      <td>1</td>\n",
       "    </tr>\n",
       "    <tr>\n",
       "      <th>41699</th>\n",
       "      <td>This is great! Can anyone make a request with ...</td>\n",
       "      <td>1</td>\n",
       "    </tr>\n",
       "    <tr>\n",
       "      <th>41700</th>\n",
       "      <td>This is so cruel. I literally feel physically ...</td>\n",
       "      <td>-1</td>\n",
       "    </tr>\n",
       "  </tbody>\n",
       "</table>\n",
       "<p>41701 rows × 2 columns</p>\n",
       "</div>"
      ],
      "text/plain": [
       "                                                    text  label\n",
       "0                                        That game hurt.     -1\n",
       "1                                     Man I love reddit.      1\n",
       "2      Right? Considering it’s such an important docu...      1\n",
       "3      He isn't as big, but he's still quite popular....     -1\n",
       "4      That's crazy; I went to a super [RELIGION] hig...      1\n",
       "...                                                  ...    ...\n",
       "41696                            You’re good, no worries      1\n",
       "41697  one's a rapist, and the other's a stingy yank ...     -1\n",
       "41698  Ugh i wish i had seen this earlier! Have fun a...      1\n",
       "41699  This is great! Can anyone make a request with ...      1\n",
       "41700  This is so cruel. I literally feel physically ...     -1\n",
       "\n",
       "[41701 rows x 2 columns]"
      ]
     },
     "execution_count": 6,
     "metadata": {},
     "output_type": "execute_result"
    }
   ],
   "source": [
    "df"
   ]
  },
  {
   "cell_type": "code",
   "execution_count": 81,
   "id": "8d042297",
   "metadata": {},
   "outputs": [
    {
     "data": {
      "text/plain": [
       "(41701,)"
      ]
     },
     "execution_count": 81,
     "metadata": {},
     "output_type": "execute_result"
    }
   ],
   "source": [
    "y.shape"
   ]
  },
  {
   "cell_type": "code",
   "execution_count": 80,
   "id": "d483ee34",
   "metadata": {},
   "outputs": [
    {
     "data": {
      "text/plain": [
       "(41701, 768)"
      ]
     },
     "execution_count": 80,
     "metadata": {},
     "output_type": "execute_result"
    }
   ],
   "source": [
    "X.shape"
   ]
  },
  {
   "cell_type": "code",
   "execution_count": 5,
   "id": "75a67814",
   "metadata": {},
   "outputs": [],
   "source": [
    "sample_df = df.sample(n=1000)"
   ]
  },
  {
   "cell_type": "code",
   "execution_count": 8,
   "id": "e3ed13e8",
   "metadata": {},
   "outputs": [],
   "source": [
    "transformer = SentenceTransformer('all-mpnet-base-v2')\n",
    "X = np.array(transformer.encode(sample_df['text'].to_list()))\n",
    "y = np.array(sample_df['label'].to_list())"
   ]
  },
  {
   "cell_type": "code",
   "execution_count": 9,
   "id": "5f31fde4",
   "metadata": {},
   "outputs": [],
   "source": [
    "X_train, X_test, y_train, y_test = train_test_split(X, y, test_size=0.3)"
   ]
  },
  {
   "cell_type": "code",
   "execution_count": 16,
   "id": "5e3c4b39",
   "metadata": {},
   "outputs": [
    {
     "name": "stdout",
     "output_type": "stream",
     "text": [
      "Train acc: 0.88\n",
      "Test acc: 0.7366666666666667\n"
     ]
    }
   ],
   "source": [
    "model = svm.SVC(kernel='linear', probability=True)\n",
    "model.fit(X_train, y_train)\n",
    "\n",
    "y_pred = model.predict(X_train)\n",
    "train_acc = accuracy_score(y_pred, y_train)\n",
    "print(f'Train acc: {train_acc}')\n",
    "\n",
    "y_pred = model.predict(X_test)\n",
    "test_acc = accuracy_score(y_pred, y_test)\n",
    "print(f'Test acc: {test_acc}')"
   ]
  },
  {
   "cell_type": "code",
   "execution_count": 11,
   "id": "bc2d0cf5",
   "metadata": {},
   "outputs": [],
   "source": [
    "param_grid = {\n",
    "    'C': [10**(i) for i in range(-2, 3)],\n",
    "    'kernel': ['linear', 'poly', 'rbf'],\n",
    "    'gamma': ['scale', 'auto'],\n",
    "    'degree': [2, 3, 4],\n",
    "}"
   ]
  },
  {
   "cell_type": "code",
   "execution_count": 19,
   "id": "1ae7407c",
   "metadata": {},
   "outputs": [
    {
     "name": "stderr",
     "output_type": "stream",
     "text": [
      "huggingface/tokenizers: The current process just got forked, after parallelism has already been used. Disabling parallelism to avoid deadlocks...\n",
      "To disable this warning, you can either:\n",
      "\t- Avoid using `tokenizers` before the fork if possible\n",
      "\t- Explicitly set the environment variable huggingface/tokenizers: The current process just got forked, after parallelism has already been used. Disabling parallelism to avoid deadlocks...\n",
      "To disable this warning, you can either:\n",
      "\t- Avoid using `tokenizers` before the fork if possible\n",
      "\t- Explicitly set the environment variable TOKENIZERS_PARALLELISM=(true | false)\n",
      "TOKENIZERS_PARALLELISM=(true | false)\n",
      "huggingface/tokenizers: The current process just got forked, after parallelism has already been used. Disabling parallelism to avoid deadlocks...\n",
      "To disable this warning, you can either:\n",
      "\t- Avoid using `tokenizers` before the fork if possible\n",
      "\t- Explicitly set the environment variable TOKENIZERS_PARALLELISM=(true | false)\n",
      "huggingface/tokenizers: The current process just got forked, after parallelism has already been used. Disabling parallelism to avoid deadlocks...\n",
      "To disable this warning, you can either:\n",
      "\t- Avoid using `tokenizers` before the fork if possible\n",
      "\t- Explicitly set the environment variable TOKENIZERS_PARALLELISM=(true | false)\n",
      "huggingface/tokenizers: The current process just got forked, after parallelism has already been used. Disabling parallelism to avoid deadlocks...\n",
      "To disable this warning, you can either:\n",
      "\t- Avoid using `tokenizers` before the fork if possible\n",
      "\t- Explicitly set the environment variable TOKENIZERS_PARALLELISM=(true | false)\n",
      "huggingface/tokenizers: The current process just got forked, after parallelism has already been used. Disabling parallelism to avoid deadlocks...\n",
      "To disable this warning, you can either:\n",
      "\t- Avoid using `tokenizers` before the fork if possible\n",
      "\t- Explicitly set the environment variable TOKENIZERS_PARALLELISM=(true | false)\n",
      "huggingface/tokenizers: The current process just got forked, after parallelism has already been used. Disabling parallelism to avoid deadlocks...\n",
      "To disable this warning, you can either:\n",
      "\t- Avoid using `tokenizers` before the fork if possible\n",
      "\t- Explicitly set the environment variable TOKENIZERS_PARALLELISM=(true | false)\n",
      "huggingface/tokenizers: The current process just got forked, after parallelism has already been used. Disabling parallelism to avoid deadlocks...\n",
      "To disable this warning, you can either:\n",
      "\t- Avoid using `tokenizers` before the fork if possible\n",
      "\t- Explicitly set the environment variable TOKENIZERS_PARALLELISM=(true | false)\n"
     ]
    },
    {
     "name": "stdout",
     "output_type": "stream",
     "text": [
      "0.7685714285714286\n",
      "{'C': 1, 'degree': 2, 'gamma': 'scale', 'kernel': 'linear'}\n"
     ]
    }
   ],
   "source": [
    "model = svm.SVC(probability=True)\n",
    "\n",
    "grid_search = GridSearchCV(estimator=model, param_grid=param_grid, verbose=0, scoring='accuracy', cv=5, n_jobs=-1)\n",
    "grid_search.fit(X_train, y_train)\n",
    "print(grid_search.best_score_)\n",
    "print(grid_search.best_params_)"
   ]
  },
  {
   "cell_type": "code",
   "execution_count": null,
   "id": "2f699d7c",
   "metadata": {},
   "outputs": [],
   "source": [
    "y_pred = model.predict(X_train)\n",
    "train_acc = accuracy_score(y_pred, y_train)\n",
    "print(f'Train acc: {train_acc}')\n",
    "\n",
    "y_pred = model.predict(X_test)\n",
    "test_acc = accuracy_score(y_pred, y_test)\n",
    "print(f'Test acc: {test_acc}')"
   ]
  },
  {
   "cell_type": "code",
   "execution_count": 25,
   "id": "73a10d92",
   "metadata": {},
   "outputs": [],
   "source": [
    "best_model = grid_search.best_estimator_"
   ]
  },
  {
   "cell_type": "code",
   "execution_count": 26,
   "id": "c7d7168c",
   "metadata": {},
   "outputs": [
    {
     "name": "stdout",
     "output_type": "stream",
     "text": [
      "Train acc: 0.88\n",
      "Test acc: 0.7366666666666667\n"
     ]
    }
   ],
   "source": [
    "y_pred = best_model.predict(X_train)\n",
    "train_acc = accuracy_score(y_pred, y_train)\n",
    "print(f'Train acc: {train_acc}')\n",
    "\n",
    "y_pred = best_model.predict(X_test)\n",
    "test_acc = accuracy_score(y_pred, y_test)\n",
    "print(f'Test acc: {test_acc}')"
   ]
  },
  {
   "cell_type": "code",
   "execution_count": 17,
   "id": "e71820a2",
   "metadata": {},
   "outputs": [
    {
     "name": "stdout",
     "output_type": "stream",
     "text": [
      "0.7540106951871658\n",
      "0.8103448275862069\n"
     ]
    }
   ],
   "source": [
    "print(precision_score(y_test, y_pred))\n",
    "print(recall_score(y_test, y_pred))"
   ]
  },
  {
   "cell_type": "code",
   "execution_count": 28,
   "id": "cfddce03",
   "metadata": {},
   "outputs": [
    {
     "name": "stdout",
     "output_type": "stream",
     "text": [
      "0.8294563035942346\n"
     ]
    }
   ],
   "source": [
    "y_prob = best_model.predict_proba(X_test)[:, 1]\n",
    "print(roc_auc_score(y_test, y_prob))"
   ]
  },
  {
   "cell_type": "markdown",
   "id": "787577d0",
   "metadata": {},
   "source": [
    "# **Control Classifier**"
   ]
  },
  {
   "cell_type": "code",
   "execution_count": 55,
   "id": "c7cc6c3f",
   "metadata": {},
   "outputs": [],
   "source": [
    "gen_df = pd.read_csv('../data/generated/reddit/privacy_protected/new_reddit_agg_stats_gen.csv')\n",
    "orig_df = pd.read_csv('../data/initial_datasets/reddit_test.csv')\n",
    "orig_df = orig_df.sample(n=1000)"
   ]
  },
  {
   "cell_type": "code",
   "execution_count": 7,
   "id": "b8afe6ff",
   "metadata": {},
   "outputs": [
    {
     "data": {
      "application/vnd.microsoft.datawrangler.viewer.v0+json": {
       "columns": [
        {
         "name": "index",
         "rawType": "int64",
         "type": "integer"
        },
        {
         "name": "text",
         "rawType": "object",
         "type": "string"
        },
        {
         "name": "label",
         "rawType": "int64",
         "type": "integer"
        }
       ],
       "ref": "e93c8ca8-a8e6-4c13-8c95-bb74e3062a2c",
       "rows": [
        [
         "750",
         "An especially large comfortable shirty [NAME] wear. It's annoying though because people get jealous of how comfy you are so they climb in your shirt.",
         "-1"
        ],
        [
         "733",
         "State of [NAME] trying to be funny and spelling ‘lose’ wrong",
         "1"
        ],
        [
         "151",
         "You can still joke but people will react negatively and will cause consequences",
         "1"
        ],
        [
         "773",
         "I will, thank you! ",
         "1"
        ],
        [
         "923",
         "Look at her all grown up 😍beautiful.",
         "1"
        ],
        [
         "249",
         "I watch it because I enjoy it",
         "1"
        ],
        [
         "567",
         "Congrats!! If you don’t mind me asking: what country?",
         "1"
        ],
        [
         "950",
         "She forced him to sing a valentine song by threatening him with anthrax and then called him pathetic for allowing himself to be manipulated.. sounds like love to me.",
         "1"
        ],
        [
         "426",
         "Right? I’ve never heard of it being made with French dressing.",
         "1"
        ],
        [
         "230",
         "[NAME] is in no way comparable to [NAME]. [NAME] is an imbecile.",
         "-1"
        ],
        [
         "125",
         "Saw thundamentals live. happy that this song got in top 30",
         "1"
        ],
        [
         "531",
         "If you're in the Arrowverse, stay away from [NAME] and [NAME]. Swipe motherfucking **left**.",
         "-1"
        ],
        [
         "788",
         "Sounds like you know the answer, and at first she will resent you. But hopefully over time will realize what your doing. ",
         "1"
        ],
        [
         "177",
         "its even worse because the starter kit is like $70 too right? So in reality she probably made closer to $30",
         "-1"
        ],
        [
         "100",
         "No worries! Sometimes wires get crossed, I missed the mark as well.",
         "1"
        ],
        [
         "172",
         "This is actually kinda funny",
         "1"
        ],
        [
         "202",
         "I appreciate this reference very much",
         "1"
        ],
        [
         "106",
         "The snapchat news feed on the stories page is horrendous, its entirely just celebs, porn and hookup culture shit. ",
         "-1"
        ],
        [
         "932",
         "Don't torture yourself like that.",
         "-1"
        ],
        [
         "128",
         "Im kinda hoping some woman flips the coin and posts how secretly poking holes in condoms with sewing needles to get pregnant was the best decision of her life.",
         "1"
        ],
        [
         "913",
         "They might be giants. Anything, but albums John Henry and Apollo 18 are good value.",
         "1"
        ],
        [
         "82",
         "I dont want to live in this world no more",
         "-1"
        ],
        [
         "496",
         "I thought you were just going to wait her out. You actually engineered her loss of space to someone else. WELL DONE!!!!",
         "1"
        ],
        [
         "554",
         "Opponents will try to figure out how to stop our running game...but they'll be Stumped.",
         "-1"
        ],
        [
         "281",
         "Impressive to have such foresight.",
         "1"
        ],
        [
         "349",
         "Good on you dude. I'm west coast, but I'd love if anyone ever finds themselves in Seattle, I extend this offer.",
         "1"
        ],
        [
         "931",
         "lmao i wish it was 10 am for us in south america",
         "1"
        ],
        [
         "228",
         "What about a meet tomorow night (saturday night jan 12th) its supposed to be nice, just let me know and ill swing on by. 👍",
         "1"
        ],
        [
         "133",
         "I like His And Hers Poker Podcast",
         "1"
        ],
        [
         "841",
         "Thank you for correcting me on these! I have taken them down. I will do more research in the future.",
         "1"
        ],
        [
         "474",
         "I wish, the brainwashed idiots here in California love her. It makes me sick. California is a lost cause.",
         "-1"
        ],
        [
         "193",
         "Wow .. this is more terrifying than if they were a ghost ! Amazing twist",
         "-1"
        ],
        [
         "498",
         "Guys help I can’t stop playing it, my hands are in so much pain!",
         "-1"
        ],
        [
         "501",
         "Treat your wife like gold. Feed her well. Rub her feet. Repeat.",
         "1"
        ],
        [
         "158",
         "Dude! Coyotes are no joke. Good job, [NAME]. ",
         "1"
        ],
        [
         "680",
         "Sure. The subject of her video was certainly creepy and obnoxious.",
         "1"
        ],
        [
         "708",
         "See this is why they should merge r/forhonor and r/forhonormemes cause clearly it makes no difference what subreddit it’s on",
         "-1"
        ],
        [
         "184",
         "You’re not alone OP. Stay strong. It’s rough now but everything will be back to normal soon.",
         "1"
        ],
        [
         "960",
         "Thats not what i said but okay schlomo",
         "-1"
        ],
        [
         "54",
         "Being physically attractive 😒",
         "1"
        ],
        [
         "618",
         "Bitch real man just panicking purchases a m82 barret..Now excuse me while i hide from my wife for the next month.",
         "-1"
        ],
        [
         "269",
         "me too. it's a way of keeping distance. feels too intimate to use someone's name.",
         "-1"
        ],
        [
         "538",
         "Oh my good lord. I just somethinged over his highlight reel.",
         "-1"
        ],
        [
         "823",
         "I like your attitude :) yeah, you're awesome!",
         "1"
        ],
        [
         "438",
         "I agree. Girls digg when you take the lead on this, Just be upfront.",
         "1"
        ],
        [
         "267",
         "Idk how but that's nice",
         "1"
        ],
        [
         "715",
         "Am love u",
         "1"
        ],
        [
         "60",
         "lol why would we leave the PL’s top scorer on the bench",
         "1"
        ],
        [
         "167",
         "Ok I see what you mean. Thanks.",
         "1"
        ],
        [
         "88",
         "[NAME] that was funny too. She was mothering him the whole episode",
         "1"
        ]
       ],
       "shape": {
        "columns": 2,
        "rows": 1000
       }
      },
      "text/html": [
       "<div>\n",
       "<style scoped>\n",
       "    .dataframe tbody tr th:only-of-type {\n",
       "        vertical-align: middle;\n",
       "    }\n",
       "\n",
       "    .dataframe tbody tr th {\n",
       "        vertical-align: top;\n",
       "    }\n",
       "\n",
       "    .dataframe thead th {\n",
       "        text-align: right;\n",
       "    }\n",
       "</style>\n",
       "<table border=\"1\" class=\"dataframe\">\n",
       "  <thead>\n",
       "    <tr style=\"text-align: right;\">\n",
       "      <th></th>\n",
       "      <th>text</th>\n",
       "      <th>label</th>\n",
       "    </tr>\n",
       "  </thead>\n",
       "  <tbody>\n",
       "    <tr>\n",
       "      <th>750</th>\n",
       "      <td>An especially large comfortable shirty [NAME] ...</td>\n",
       "      <td>-1</td>\n",
       "    </tr>\n",
       "    <tr>\n",
       "      <th>733</th>\n",
       "      <td>State of [NAME] trying to be funny and spellin...</td>\n",
       "      <td>1</td>\n",
       "    </tr>\n",
       "    <tr>\n",
       "      <th>151</th>\n",
       "      <td>You can still joke but people will react negat...</td>\n",
       "      <td>1</td>\n",
       "    </tr>\n",
       "    <tr>\n",
       "      <th>773</th>\n",
       "      <td>I will, thank you!</td>\n",
       "      <td>1</td>\n",
       "    </tr>\n",
       "    <tr>\n",
       "      <th>923</th>\n",
       "      <td>Look at her all grown up 😍beautiful.</td>\n",
       "      <td>1</td>\n",
       "    </tr>\n",
       "    <tr>\n",
       "      <th>...</th>\n",
       "      <td>...</td>\n",
       "      <td>...</td>\n",
       "    </tr>\n",
       "    <tr>\n",
       "      <th>207</th>\n",
       "      <td>no worries! expense double date ;p I hope you ...</td>\n",
       "      <td>1</td>\n",
       "    </tr>\n",
       "    <tr>\n",
       "      <th>187</th>\n",
       "      <td>Me too I hope all goes well for both of us</td>\n",
       "      <td>1</td>\n",
       "    </tr>\n",
       "    <tr>\n",
       "      <th>770</th>\n",
       "      <td>I like him too but when we DFAd him last year ...</td>\n",
       "      <td>1</td>\n",
       "    </tr>\n",
       "    <tr>\n",
       "      <th>782</th>\n",
       "      <td>It's one of my most hoped-for things. I think ...</td>\n",
       "      <td>1</td>\n",
       "    </tr>\n",
       "    <tr>\n",
       "      <th>492</th>\n",
       "      <td>So you can make funny sex jokes on iFunny, obv...</td>\n",
       "      <td>1</td>\n",
       "    </tr>\n",
       "  </tbody>\n",
       "</table>\n",
       "<p>1000 rows × 2 columns</p>\n",
       "</div>"
      ],
      "text/plain": [
       "                                                  text  label\n",
       "750  An especially large comfortable shirty [NAME] ...     -1\n",
       "733  State of [NAME] trying to be funny and spellin...      1\n",
       "151  You can still joke but people will react negat...      1\n",
       "773                                I will, thank you!       1\n",
       "923               Look at her all grown up 😍beautiful.      1\n",
       "..                                                 ...    ...\n",
       "207  no worries! expense double date ;p I hope you ...      1\n",
       "187         Me too I hope all goes well for both of us      1\n",
       "770  I like him too but when we DFAd him last year ...      1\n",
       "782  It's one of my most hoped-for things. I think ...      1\n",
       "492  So you can make funny sex jokes on iFunny, obv...      1\n",
       "\n",
       "[1000 rows x 2 columns]"
      ]
     },
     "execution_count": 7,
     "metadata": {},
     "output_type": "execute_result"
    }
   ],
   "source": [
    "orig_df"
   ]
  },
  {
   "cell_type": "code",
   "execution_count": 56,
   "id": "abb5f54f",
   "metadata": {},
   "outputs": [],
   "source": [
    "gen_df['type'] = 'synthetic'\n",
    "orig_df['type'] = 'original'"
   ]
  },
  {
   "cell_type": "code",
   "execution_count": 57,
   "id": "b39efa2d",
   "metadata": {},
   "outputs": [],
   "source": [
    "orig_df.rename(columns={'text': 'sentences', 'label': 'labels'}, inplace=True)"
   ]
  },
  {
   "cell_type": "markdown",
   "id": "6bf92e2b",
   "metadata": {},
   "source": [
    "## **Only Synth Classifier**"
   ]
  },
  {
   "cell_type": "code",
   "execution_count": 58,
   "id": "300bcd75",
   "metadata": {},
   "outputs": [],
   "source": [
    "train_df = gen_df\n",
    "test_df = orig_df\n",
    "\n",
    "X_train = train_df['sentences']\n",
    "y_train = train_df['labels']\n",
    "\n",
    "X_test = test_df['sentences']\n",
    "y_test = test_df['labels']"
   ]
  },
  {
   "cell_type": "code",
   "execution_count": 59,
   "id": "7cf8778d",
   "metadata": {},
   "outputs": [
    {
     "data": {
      "application/vnd.microsoft.datawrangler.viewer.v0+json": {
       "columns": [
        {
         "name": "type",
         "rawType": "object",
         "type": "string"
        },
        {
         "name": "count",
         "rawType": "int64",
         "type": "integer"
        }
       ],
       "ref": "001fb3eb-d962-422c-b570-b2f08d4f4db0",
       "rows": [
        [
         "synthetic",
         "1000"
        ]
       ],
       "shape": {
        "columns": 1,
        "rows": 1
       }
      },
      "text/plain": [
       "type\n",
       "synthetic    1000\n",
       "Name: count, dtype: int64"
      ]
     },
     "execution_count": 59,
     "metadata": {},
     "output_type": "execute_result"
    }
   ],
   "source": [
    "train_df['type'].value_counts()"
   ]
  },
  {
   "cell_type": "code",
   "execution_count": 60,
   "id": "bc94577d",
   "metadata": {},
   "outputs": [
    {
     "data": {
      "application/vnd.microsoft.datawrangler.viewer.v0+json": {
       "columns": [
        {
         "name": "type",
         "rawType": "object",
         "type": "string"
        },
        {
         "name": "count",
         "rawType": "int64",
         "type": "integer"
        }
       ],
       "ref": "4ae40003-08ee-4fe8-9caa-e34c3294d097",
       "rows": [
        [
         "original",
         "1000"
        ]
       ],
       "shape": {
        "columns": 1,
        "rows": 1
       }
      },
      "text/plain": [
       "type\n",
       "original    1000\n",
       "Name: count, dtype: int64"
      ]
     },
     "execution_count": 60,
     "metadata": {},
     "output_type": "execute_result"
    }
   ],
   "source": [
    "test_df['type'].value_counts()"
   ]
  },
  {
   "cell_type": "code",
   "execution_count": 61,
   "id": "d4c48578",
   "metadata": {},
   "outputs": [],
   "source": [
    "X_train = np.array(sentence_transformer.encode(X_train.to_list()))\n",
    "X_test = np.array(sentence_transformer.encode(X_test.to_list()))"
   ]
  },
  {
   "cell_type": "code",
   "execution_count": 62,
   "id": "26fb53fa",
   "metadata": {},
   "outputs": [
    {
     "name": "stdout",
     "output_type": "stream",
     "text": [
      "Train acc: 1.0\n",
      "Test acc: 0.677\n"
     ]
    }
   ],
   "source": [
    "model = svm.SVC(kernel='linear', probability=True, class_weight='balanced')\n",
    "model.fit(X_train, y_train)\n",
    "\n",
    "y_pred = model.predict(X_train)\n",
    "train_acc = accuracy_score(y_pred, y_train)\n",
    "print(f'Train acc: {train_acc}')\n",
    "\n",
    "y_pred = model.predict(X_test)\n",
    "test_acc = accuracy_score(y_pred, y_test)\n",
    "print(f'Test acc: {test_acc}')"
   ]
  },
  {
   "cell_type": "code",
   "execution_count": 63,
   "id": "de5ea2a4",
   "metadata": {},
   "outputs": [
    {
     "name": "stdout",
     "output_type": "stream",
     "text": [
      "0.868421052631579\n",
      "0.5752773375594294\n"
     ]
    }
   ],
   "source": [
    "print(precision_score(y_test, y_pred))\n",
    "print(recall_score(y_test, y_pred))"
   ]
  },
  {
   "cell_type": "code",
   "execution_count": 64,
   "id": "04d5060b",
   "metadata": {},
   "outputs": [
    {
     "name": "stdout",
     "output_type": "stream",
     "text": [
      "0.8074055463217074\n"
     ]
    }
   ],
   "source": [
    "y_prob = model.predict_proba(X_test)[:, 1]\n",
    "print(roc_auc_score(y_test, y_prob))"
   ]
  },
  {
   "cell_type": "code",
   "execution_count": 53,
   "id": "c6cb5124",
   "metadata": {},
   "outputs": [
    {
     "data": {
      "text/plain": [
       "(0.031891822814941406, 0.11844038963317871)"
      ]
     },
     "execution_count": 53,
     "metadata": {},
     "output_type": "execute_result"
    }
   ],
   "source": [
    "report_MMD(X_train, X_test)"
   ]
  },
  {
   "cell_type": "markdown",
   "id": "b3f06c1c",
   "metadata": {},
   "source": [
    "## **Only Synth + 100 Samples**"
   ]
  },
  {
   "cell_type": "code",
   "execution_count": 17,
   "id": "de1866b0",
   "metadata": {},
   "outputs": [
    {
     "data": {
      "application/vnd.microsoft.datawrangler.viewer.v0+json": {
       "columns": [
        {
         "name": "index",
         "rawType": "int64",
         "type": "integer"
        },
        {
         "name": "sentences",
         "rawType": "object",
         "type": "string"
        },
        {
         "name": "labels",
         "rawType": "int64",
         "type": "integer"
        },
        {
         "name": "type",
         "rawType": "object",
         "type": "string"
        }
       ],
       "ref": "1985a24b-fe09-4eb5-9c68-e301802b0e77",
       "rows": [
        [
         "750",
         "An especially large comfortable shirty [NAME] wear. It's annoying though because people get jealous of how comfy you are so they climb in your shirt.",
         "-1",
         "original"
        ],
        [
         "733",
         "State of [NAME] trying to be funny and spelling ‘lose’ wrong",
         "1",
         "original"
        ],
        [
         "151",
         "You can still joke but people will react negatively and will cause consequences",
         "1",
         "original"
        ],
        [
         "773",
         "I will, thank you! ",
         "1",
         "original"
        ],
        [
         "923",
         "Look at her all grown up 😍beautiful.",
         "1",
         "original"
        ],
        [
         "249",
         "I watch it because I enjoy it",
         "1",
         "original"
        ],
        [
         "567",
         "Congrats!! If you don’t mind me asking: what country?",
         "1",
         "original"
        ],
        [
         "950",
         "She forced him to sing a valentine song by threatening him with anthrax and then called him pathetic for allowing himself to be manipulated.. sounds like love to me.",
         "1",
         "original"
        ],
        [
         "426",
         "Right? I’ve never heard of it being made with French dressing.",
         "1",
         "original"
        ],
        [
         "230",
         "[NAME] is in no way comparable to [NAME]. [NAME] is an imbecile.",
         "-1",
         "original"
        ],
        [
         "125",
         "Saw thundamentals live. happy that this song got in top 30",
         "1",
         "original"
        ],
        [
         "531",
         "If you're in the Arrowverse, stay away from [NAME] and [NAME]. Swipe motherfucking **left**.",
         "-1",
         "original"
        ],
        [
         "788",
         "Sounds like you know the answer, and at first she will resent you. But hopefully over time will realize what your doing. ",
         "1",
         "original"
        ],
        [
         "177",
         "its even worse because the starter kit is like $70 too right? So in reality she probably made closer to $30",
         "-1",
         "original"
        ],
        [
         "100",
         "No worries! Sometimes wires get crossed, I missed the mark as well.",
         "1",
         "original"
        ],
        [
         "172",
         "This is actually kinda funny",
         "1",
         "original"
        ],
        [
         "202",
         "I appreciate this reference very much",
         "1",
         "original"
        ],
        [
         "106",
         "The snapchat news feed on the stories page is horrendous, its entirely just celebs, porn and hookup culture shit. ",
         "-1",
         "original"
        ],
        [
         "932",
         "Don't torture yourself like that.",
         "-1",
         "original"
        ],
        [
         "128",
         "Im kinda hoping some woman flips the coin and posts how secretly poking holes in condoms with sewing needles to get pregnant was the best decision of her life.",
         "1",
         "original"
        ],
        [
         "913",
         "They might be giants. Anything, but albums John Henry and Apollo 18 are good value.",
         "1",
         "original"
        ],
        [
         "82",
         "I dont want to live in this world no more",
         "-1",
         "original"
        ],
        [
         "496",
         "I thought you were just going to wait her out. You actually engineered her loss of space to someone else. WELL DONE!!!!",
         "1",
         "original"
        ],
        [
         "554",
         "Opponents will try to figure out how to stop our running game...but they'll be Stumped.",
         "-1",
         "original"
        ],
        [
         "281",
         "Impressive to have such foresight.",
         "1",
         "original"
        ],
        [
         "349",
         "Good on you dude. I'm west coast, but I'd love if anyone ever finds themselves in Seattle, I extend this offer.",
         "1",
         "original"
        ],
        [
         "931",
         "lmao i wish it was 10 am for us in south america",
         "1",
         "original"
        ],
        [
         "228",
         "What about a meet tomorow night (saturday night jan 12th) its supposed to be nice, just let me know and ill swing on by. 👍",
         "1",
         "original"
        ],
        [
         "133",
         "I like His And Hers Poker Podcast",
         "1",
         "original"
        ],
        [
         "841",
         "Thank you for correcting me on these! I have taken them down. I will do more research in the future.",
         "1",
         "original"
        ],
        [
         "474",
         "I wish, the brainwashed idiots here in California love her. It makes me sick. California is a lost cause.",
         "-1",
         "original"
        ],
        [
         "193",
         "Wow .. this is more terrifying than if they were a ghost ! Amazing twist",
         "-1",
         "original"
        ],
        [
         "498",
         "Guys help I can’t stop playing it, my hands are in so much pain!",
         "-1",
         "original"
        ],
        [
         "501",
         "Treat your wife like gold. Feed her well. Rub her feet. Repeat.",
         "1",
         "original"
        ],
        [
         "158",
         "Dude! Coyotes are no joke. Good job, [NAME]. ",
         "1",
         "original"
        ],
        [
         "680",
         "Sure. The subject of her video was certainly creepy and obnoxious.",
         "1",
         "original"
        ],
        [
         "708",
         "See this is why they should merge r/forhonor and r/forhonormemes cause clearly it makes no difference what subreddit it’s on",
         "-1",
         "original"
        ],
        [
         "184",
         "You’re not alone OP. Stay strong. It’s rough now but everything will be back to normal soon.",
         "1",
         "original"
        ],
        [
         "960",
         "Thats not what i said but okay schlomo",
         "-1",
         "original"
        ],
        [
         "54",
         "Being physically attractive 😒",
         "1",
         "original"
        ],
        [
         "618",
         "Bitch real man just panicking purchases a m82 barret..Now excuse me while i hide from my wife for the next month.",
         "-1",
         "original"
        ],
        [
         "269",
         "me too. it's a way of keeping distance. feels too intimate to use someone's name.",
         "-1",
         "original"
        ],
        [
         "538",
         "Oh my good lord. I just somethinged over his highlight reel.",
         "-1",
         "original"
        ],
        [
         "823",
         "I like your attitude :) yeah, you're awesome!",
         "1",
         "original"
        ],
        [
         "438",
         "I agree. Girls digg when you take the lead on this, Just be upfront.",
         "1",
         "original"
        ],
        [
         "267",
         "Idk how but that's nice",
         "1",
         "original"
        ],
        [
         "715",
         "Am love u",
         "1",
         "original"
        ],
        [
         "60",
         "lol why would we leave the PL’s top scorer on the bench",
         "1",
         "original"
        ],
        [
         "167",
         "Ok I see what you mean. Thanks.",
         "1",
         "original"
        ],
        [
         "88",
         "[NAME] that was funny too. She was mothering him the whole episode",
         "1",
         "original"
        ]
       ],
       "shape": {
        "columns": 3,
        "rows": 1000
       }
      },
      "text/html": [
       "<div>\n",
       "<style scoped>\n",
       "    .dataframe tbody tr th:only-of-type {\n",
       "        vertical-align: middle;\n",
       "    }\n",
       "\n",
       "    .dataframe tbody tr th {\n",
       "        vertical-align: top;\n",
       "    }\n",
       "\n",
       "    .dataframe thead th {\n",
       "        text-align: right;\n",
       "    }\n",
       "</style>\n",
       "<table border=\"1\" class=\"dataframe\">\n",
       "  <thead>\n",
       "    <tr style=\"text-align: right;\">\n",
       "      <th></th>\n",
       "      <th>sentences</th>\n",
       "      <th>labels</th>\n",
       "      <th>type</th>\n",
       "    </tr>\n",
       "  </thead>\n",
       "  <tbody>\n",
       "    <tr>\n",
       "      <th>750</th>\n",
       "      <td>An especially large comfortable shirty [NAME] ...</td>\n",
       "      <td>-1</td>\n",
       "      <td>original</td>\n",
       "    </tr>\n",
       "    <tr>\n",
       "      <th>733</th>\n",
       "      <td>State of [NAME] trying to be funny and spellin...</td>\n",
       "      <td>1</td>\n",
       "      <td>original</td>\n",
       "    </tr>\n",
       "    <tr>\n",
       "      <th>151</th>\n",
       "      <td>You can still joke but people will react negat...</td>\n",
       "      <td>1</td>\n",
       "      <td>original</td>\n",
       "    </tr>\n",
       "    <tr>\n",
       "      <th>773</th>\n",
       "      <td>I will, thank you!</td>\n",
       "      <td>1</td>\n",
       "      <td>original</td>\n",
       "    </tr>\n",
       "    <tr>\n",
       "      <th>923</th>\n",
       "      <td>Look at her all grown up 😍beautiful.</td>\n",
       "      <td>1</td>\n",
       "      <td>original</td>\n",
       "    </tr>\n",
       "    <tr>\n",
       "      <th>...</th>\n",
       "      <td>...</td>\n",
       "      <td>...</td>\n",
       "      <td>...</td>\n",
       "    </tr>\n",
       "    <tr>\n",
       "      <th>207</th>\n",
       "      <td>no worries! expense double date ;p I hope you ...</td>\n",
       "      <td>1</td>\n",
       "      <td>original</td>\n",
       "    </tr>\n",
       "    <tr>\n",
       "      <th>187</th>\n",
       "      <td>Me too I hope all goes well for both of us</td>\n",
       "      <td>1</td>\n",
       "      <td>original</td>\n",
       "    </tr>\n",
       "    <tr>\n",
       "      <th>770</th>\n",
       "      <td>I like him too but when we DFAd him last year ...</td>\n",
       "      <td>1</td>\n",
       "      <td>original</td>\n",
       "    </tr>\n",
       "    <tr>\n",
       "      <th>782</th>\n",
       "      <td>It's one of my most hoped-for things. I think ...</td>\n",
       "      <td>1</td>\n",
       "      <td>original</td>\n",
       "    </tr>\n",
       "    <tr>\n",
       "      <th>492</th>\n",
       "      <td>So you can make funny sex jokes on iFunny, obv...</td>\n",
       "      <td>1</td>\n",
       "      <td>original</td>\n",
       "    </tr>\n",
       "  </tbody>\n",
       "</table>\n",
       "<p>1000 rows × 3 columns</p>\n",
       "</div>"
      ],
      "text/plain": [
       "                                             sentences  labels      type\n",
       "750  An especially large comfortable shirty [NAME] ...      -1  original\n",
       "733  State of [NAME] trying to be funny and spellin...       1  original\n",
       "151  You can still joke but people will react negat...       1  original\n",
       "773                                I will, thank you!        1  original\n",
       "923               Look at her all grown up 😍beautiful.       1  original\n",
       "..                                                 ...     ...       ...\n",
       "207  no worries! expense double date ;p I hope you ...       1  original\n",
       "187         Me too I hope all goes well for both of us       1  original\n",
       "770  I like him too but when we DFAd him last year ...       1  original\n",
       "782  It's one of my most hoped-for things. I think ...       1  original\n",
       "492  So you can make funny sex jokes on iFunny, obv...       1  original\n",
       "\n",
       "[1000 rows x 3 columns]"
      ]
     },
     "execution_count": 17,
     "metadata": {},
     "output_type": "execute_result"
    }
   ],
   "source": [
    "orig_df"
   ]
  },
  {
   "cell_type": "code",
   "execution_count": 65,
   "id": "a7252f11",
   "metadata": {},
   "outputs": [],
   "source": [
    "orig_train_df = pd.read_csv('../data/initial_datasets/reddit_train.csv')\n",
    "orig_train_df['type'] = 'original'\n",
    "orig_train_df = orig_train_df.sample(n=100)"
   ]
  },
  {
   "cell_type": "code",
   "execution_count": 66,
   "id": "7db2e2ed",
   "metadata": {},
   "outputs": [],
   "source": [
    "orig_train_df.rename(columns={'text': 'sentences', 'label': 'labels'}, inplace=True)"
   ]
  },
  {
   "cell_type": "code",
   "execution_count": 18,
   "id": "41c9e4fd",
   "metadata": {},
   "outputs": [
    {
     "data": {
      "application/vnd.microsoft.datawrangler.viewer.v0+json": {
       "columns": [
        {
         "name": "index",
         "rawType": "int64",
         "type": "integer"
        },
        {
         "name": "sentences",
         "rawType": "object",
         "type": "string"
        },
        {
         "name": "labels",
         "rawType": "int64",
         "type": "integer"
        },
        {
         "name": "type",
         "rawType": "object",
         "type": "string"
        }
       ],
       "ref": "a034995a-5c60-49a3-8dae-11cb9f4c5145",
       "rows": [
        [
         "0",
         "Finally finished that game last night! So epic! 🎮",
         "1",
         "synthetic"
        ],
        [
         "1",
         "Ugh, stuck in traffic AGAIN. Feels like I'm wasting my life. 😤",
         "-1",
         "synthetic"
        ],
        [
         "2",
         "[NAME]'s new album dropped today and it's fire!! 🔥🔥",
         "1",
         "synthetic"
        ],
        [
         "3",
         "Why is this app so glitchy? It's driving me nuts. 🤦‍♂️",
         "-1",
         "synthetic"
        ],
        [
         "4",
         "Got a surprise gift from [NAME], totally made my day! 🎁",
         "1",
         "synthetic"
        ],
        [
         "5",
         "This weather is absolutely miserable, can't wait for summer. 🌧️",
         "-1",
         "synthetic"
        ],
        [
         "6",
         "Just aced my exam, feeling on top of the world! 📚😊",
         "1",
         "synthetic"
        ],
        [
         "7",
         "Every single order from this place is messed up. Unreal. 😡",
         "-1",
         "synthetic"
        ],
        [
         "8",
         "Had the best brunch with friends today, still smiling! 🥞",
         "1",
         "synthetic"
        ],
        [
         "9",
         "Seriously, the wifi here is the worst. 😩",
         "-1",
         "synthetic"
        ],
        [
         "10",
         "I'm so hyped for the new game release next week! 🎮",
         "1",
         "synthetic"
        ],
        [
         "11",
         "That movie was absolute trash, waste of time.",
         "-1",
         "synthetic"
        ],
        [
         "12",
         "[NAME]'s concert last night was insane! Best night ever!",
         "1",
         "synthetic"
        ],
        [
         "13",
         "Ugh, stuck in traffic AGAIN, I'm gonna be so late!",
         "-1",
         "synthetic"
        ],
        [
         "14",
         "Just got a new puppy and she's the cutest! 🐶❤️",
         "1",
         "synthetic"
        ],
        [
         "15",
         "Can't believe I missed the sale, everything's gone now. 😒",
         "-1",
         "synthetic"
        ],
        [
         "16",
         "Had an awesome run this morning, feeling great!",
         "1",
         "synthetic"
        ],
        [
         "17",
         "This update made the app even worse. Who thought this was a good idea?",
         "-1",
         "synthetic"
        ],
        [
         "18",
         "Finished the book in one sitting, totally recommend it!",
         "1",
         "synthetic"
        ],
        [
         "19",
         "The customer service there is the worst, never shopping there again.",
         "-1",
         "synthetic"
        ],
        [
         "20",
         "Ugh, this video is so lame",
         "-1",
         "synthetic"
        ],
        [
         "21",
         "I can't believe how awesome this game is! 🎮",
         "1",
         "synthetic"
        ],
        [
         "22",
         "Totally disappointed with the new update 😒",
         "-1",
         "synthetic"
        ],
        [
         "23",
         "Best coffee I've ever had, hands down ☕️",
         "1",
         "synthetic"
        ],
        [
         "24",
         "Why do ppl even like this show? It's so boring",
         "-1",
         "synthetic"
        ],
        [
         "25",
         "Had an amazing time at the concert last night! 🎶",
         "1",
         "synthetic"
        ],
        [
         "26",
         "This product is a waste of money, don't buy it",
         "-1",
         "synthetic"
        ],
        [
         "27",
         "LOL, that joke was hilarious 😂",
         "1",
         "synthetic"
        ],
        [
         "28",
         "This movie was a complete letdown",
         "-1",
         "synthetic"
        ],
        [
         "29",
         "Can't recommend this book enough, totally worth it 📚",
         "1",
         "synthetic"
        ],
        [
         "30",
         "Wow, this movie was amazing! 🎉",
         "1",
         "synthetic"
        ],
        [
         "31",
         "Ugh, why do the updates always ruin everything? 😡",
         "-1",
         "synthetic"
        ],
        [
         "32",
         "Just got a new puppy and I'm in love! 🐶❤️",
         "1",
         "synthetic"
        ],
        [
         "33",
         "Can't believe how awful that service was 🤦‍♂️",
         "-1",
         "synthetic"
        ],
        [
         "34",
         "Finally hit my gym goal today! 💪",
         "1",
         "synthetic"
        ],
        [
         "35",
         "This game is totally overrated... smh",
         "-1",
         "synthetic"
        ],
        [
         "36",
         "So glad I found this community, you guys rock! 🤗",
         "1",
         "synthetic"
        ],
        [
         "37",
         "Another day, another bug. So frustrating! 😤",
         "-1",
         "synthetic"
        ],
        [
         "38",
         "Just aced my finals, feeling on top of the world! 🎓",
         "1",
         "synthetic"
        ],
        [
         "39",
         "Why is the internet so slow today?! 😩",
         "-1",
         "synthetic"
        ],
        [
         "40",
         "I just finished the whole season and it was AMAZING! 🤩",
         "1",
         "synthetic"
        ],
        [
         "41",
         "Ugh, this movie was a total waste of time 😒",
         "-1",
         "synthetic"
        ],
        [
         "42",
         "Can't believe how epic that concert was last night!! 🎸",
         "1",
         "synthetic"
        ],
        [
         "43",
         "Honestly, this app keeps crashing and I'm super annoyed.",
         "-1",
         "synthetic"
        ],
        [
         "44",
         "Big thanks to [NAME] for being such a great friend! 😊",
         "1",
         "synthetic"
        ],
        [
         "45",
         "Why is customer service so bad everywhere these days? 😤",
         "-1",
         "synthetic"
        ],
        [
         "46",
         "OMG, the new album from [NAME] is fire! 🔥🔥",
         "1",
         "synthetic"
        ],
        [
         "47",
         "Another day, another headache... when will it stop? 😩",
         "-1",
         "synthetic"
        ],
        [
         "48",
         "The community here is so helpful and welcoming! 💪",
         "1",
         "synthetic"
        ],
        [
         "49",
         "Tried the recipe and it was a disaster, wouldn't recommend.",
         "-1",
         "synthetic"
        ]
       ],
       "shape": {
        "columns": 3,
        "rows": 1000
       }
      },
      "text/html": [
       "<div>\n",
       "<style scoped>\n",
       "    .dataframe tbody tr th:only-of-type {\n",
       "        vertical-align: middle;\n",
       "    }\n",
       "\n",
       "    .dataframe tbody tr th {\n",
       "        vertical-align: top;\n",
       "    }\n",
       "\n",
       "    .dataframe thead th {\n",
       "        text-align: right;\n",
       "    }\n",
       "</style>\n",
       "<table border=\"1\" class=\"dataframe\">\n",
       "  <thead>\n",
       "    <tr style=\"text-align: right;\">\n",
       "      <th></th>\n",
       "      <th>sentences</th>\n",
       "      <th>labels</th>\n",
       "      <th>type</th>\n",
       "    </tr>\n",
       "  </thead>\n",
       "  <tbody>\n",
       "    <tr>\n",
       "      <th>0</th>\n",
       "      <td>Finally finished that game last night! So epic! 🎮</td>\n",
       "      <td>1</td>\n",
       "      <td>synthetic</td>\n",
       "    </tr>\n",
       "    <tr>\n",
       "      <th>1</th>\n",
       "      <td>Ugh, stuck in traffic AGAIN. Feels like I'm wa...</td>\n",
       "      <td>-1</td>\n",
       "      <td>synthetic</td>\n",
       "    </tr>\n",
       "    <tr>\n",
       "      <th>2</th>\n",
       "      <td>[NAME]'s new album dropped today and it's fire...</td>\n",
       "      <td>1</td>\n",
       "      <td>synthetic</td>\n",
       "    </tr>\n",
       "    <tr>\n",
       "      <th>3</th>\n",
       "      <td>Why is this app so glitchy? It's driving me nu...</td>\n",
       "      <td>-1</td>\n",
       "      <td>synthetic</td>\n",
       "    </tr>\n",
       "    <tr>\n",
       "      <th>4</th>\n",
       "      <td>Got a surprise gift from [NAME], totally made ...</td>\n",
       "      <td>1</td>\n",
       "      <td>synthetic</td>\n",
       "    </tr>\n",
       "    <tr>\n",
       "      <th>...</th>\n",
       "      <td>...</td>\n",
       "      <td>...</td>\n",
       "      <td>...</td>\n",
       "    </tr>\n",
       "    <tr>\n",
       "      <th>995</th>\n",
       "      <td>Honestly, this movie was a huge letdown 🤦‍♂️</td>\n",
       "      <td>-1</td>\n",
       "      <td>synthetic</td>\n",
       "    </tr>\n",
       "    <tr>\n",
       "      <th>996</th>\n",
       "      <td>Found the cutest puppy today, made my year! 🐶</td>\n",
       "      <td>1</td>\n",
       "      <td>synthetic</td>\n",
       "    </tr>\n",
       "    <tr>\n",
       "      <th>997</th>\n",
       "      <td>Service at this restaurant was awful 👎</td>\n",
       "      <td>-1</td>\n",
       "      <td>synthetic</td>\n",
       "    </tr>\n",
       "    <tr>\n",
       "      <th>998</th>\n",
       "      <td>This book is an absolute masterpiece 📚</td>\n",
       "      <td>1</td>\n",
       "      <td>synthetic</td>\n",
       "    </tr>\n",
       "    <tr>\n",
       "      <th>999</th>\n",
       "      <td>Hate it when my internet keeps cutting out 😤</td>\n",
       "      <td>-1</td>\n",
       "      <td>synthetic</td>\n",
       "    </tr>\n",
       "  </tbody>\n",
       "</table>\n",
       "<p>1000 rows × 3 columns</p>\n",
       "</div>"
      ],
      "text/plain": [
       "                                             sentences  labels       type\n",
       "0    Finally finished that game last night! So epic! 🎮       1  synthetic\n",
       "1    Ugh, stuck in traffic AGAIN. Feels like I'm wa...      -1  synthetic\n",
       "2    [NAME]'s new album dropped today and it's fire...       1  synthetic\n",
       "3    Why is this app so glitchy? It's driving me nu...      -1  synthetic\n",
       "4    Got a surprise gift from [NAME], totally made ...       1  synthetic\n",
       "..                                                 ...     ...        ...\n",
       "995       Honestly, this movie was a huge letdown 🤦‍♂️      -1  synthetic\n",
       "996      Found the cutest puppy today, made my year! 🐶       1  synthetic\n",
       "997             Service at this restaurant was awful 👎      -1  synthetic\n",
       "998             This book is an absolute masterpiece 📚       1  synthetic\n",
       "999       Hate it when my internet keeps cutting out 😤      -1  synthetic\n",
       "\n",
       "[1000 rows x 3 columns]"
      ]
     },
     "execution_count": 18,
     "metadata": {},
     "output_type": "execute_result"
    }
   ],
   "source": [
    "gen_df"
   ]
  },
  {
   "cell_type": "code",
   "execution_count": 67,
   "id": "4a0f5122",
   "metadata": {},
   "outputs": [],
   "source": [
    "gen_df['type'] = 'synthetic'\n",
    "orig_df['type'] = 'original'"
   ]
  },
  {
   "cell_type": "code",
   "execution_count": null,
   "id": "d1e0e15d",
   "metadata": {},
   "outputs": [],
   "source": [
    "orig_sample = orig_df.sample(n=1000)"
   ]
  },
  {
   "cell_type": "code",
   "execution_count": 68,
   "id": "e2e7e8dd",
   "metadata": {},
   "outputs": [],
   "source": [
    "train_df = pd.concat([gen_df.sample(n=900), orig_train_df]).sample(frac=1).reset_index(drop=True)\n",
    "test_df = orig_df.sample(frac=1).reset_index(drop=True)\n",
    "\n",
    "X_train = train_df['sentences']\n",
    "X_test = test_df['sentences']\n",
    "\n",
    "y_train = train_df['labels']\n",
    "y_test = test_df['labels']"
   ]
  },
  {
   "cell_type": "code",
   "execution_count": 69,
   "id": "0cfeae82",
   "metadata": {},
   "outputs": [
    {
     "data": {
      "application/vnd.microsoft.datawrangler.viewer.v0+json": {
       "columns": [
        {
         "name": "type",
         "rawType": "object",
         "type": "string"
        },
        {
         "name": "count",
         "rawType": "int64",
         "type": "integer"
        }
       ],
       "ref": "3798399f-7d71-48a2-b37b-1215e2779920",
       "rows": [
        [
         "synthetic",
         "900"
        ],
        [
         "original",
         "100"
        ]
       ],
       "shape": {
        "columns": 1,
        "rows": 2
       }
      },
      "text/plain": [
       "type\n",
       "synthetic    900\n",
       "original     100\n",
       "Name: count, dtype: int64"
      ]
     },
     "execution_count": 69,
     "metadata": {},
     "output_type": "execute_result"
    }
   ],
   "source": [
    "train_df['type'].value_counts()"
   ]
  },
  {
   "cell_type": "code",
   "execution_count": 70,
   "id": "1c30e83f",
   "metadata": {},
   "outputs": [
    {
     "data": {
      "application/vnd.microsoft.datawrangler.viewer.v0+json": {
       "columns": [
        {
         "name": "type",
         "rawType": "object",
         "type": "string"
        },
        {
         "name": "count",
         "rawType": "int64",
         "type": "integer"
        }
       ],
       "ref": "3fdce46d-6e8c-42f5-8b62-52ab3ce7fb58",
       "rows": [
        [
         "original",
         "1000"
        ]
       ],
       "shape": {
        "columns": 1,
        "rows": 1
       }
      },
      "text/plain": [
       "type\n",
       "original    1000\n",
       "Name: count, dtype: int64"
      ]
     },
     "execution_count": 70,
     "metadata": {},
     "output_type": "execute_result"
    }
   ],
   "source": [
    "test_df['type'].value_counts()"
   ]
  },
  {
   "cell_type": "code",
   "execution_count": 28,
   "id": "4b3af90e",
   "metadata": {},
   "outputs": [
    {
     "data": {
      "application/vnd.microsoft.datawrangler.viewer.v0+json": {
       "columns": [
        {
         "name": "labels",
         "rawType": "int64",
         "type": "integer"
        },
        {
         "name": "count",
         "rawType": "int64",
         "type": "integer"
        }
       ],
       "ref": "a8351ec6-9bbd-4c42-aaa4-e0a3d8a7d61b",
       "rows": [
        [
         "1",
         "631"
        ],
        [
         "-1",
         "369"
        ]
       ],
       "shape": {
        "columns": 1,
        "rows": 2
       }
      },
      "text/plain": [
       "labels\n",
       " 1    631\n",
       "-1    369\n",
       "Name: count, dtype: int64"
      ]
     },
     "execution_count": 28,
     "metadata": {},
     "output_type": "execute_result"
    }
   ],
   "source": [
    "test_df['labels'].value_counts()"
   ]
  },
  {
   "cell_type": "code",
   "execution_count": null,
   "id": "16dbec00",
   "metadata": {},
   "outputs": [
    {
     "data": {
      "application/vnd.microsoft.datawrangler.viewer.v0+json": {
       "columns": [
        {
         "name": "index",
         "rawType": "int64",
         "type": "integer"
        },
        {
         "name": "sentences",
         "rawType": "object",
         "type": "string"
        }
       ],
       "ref": "89aa9697-7eaa-4bfe-a334-798a5e4a0449",
       "rows": [
        [
         "264",
         "Just had the best sushi ever, highly recommend! 🍣"
        ],
        [
         "679",
         "Woke up late and missed my train, again 😒"
        ],
        [
         "640",
         "Just got into biking and it's amazing! 🚴‍♂️"
        ],
        [
         "69",
         "These bugs in the game are driving me nuts"
        ],
        [
         "589",
         "What a waste of time, totally disappointed."
        ],
        [
         "347",
         "Every time I try to login, it crashes. So annoying!"
        ],
        [
         "34",
         "Finally hit my gym goal today! 💪"
        ],
        [
         "532",
         "[NAME]'s latest album is pure 🔥"
        ],
        [
         "263",
         "Ugh, the traffic today was unbearable 🤦‍♂️🚗"
        ],
        [
         "951",
         "Ugh, the weather today is absolutely miserable 😩"
        ],
        [
         "713",
         "Why does this update have sooo many bugs???"
        ],
        [
         "898",
         "Got tickets to the concert, can't wait!! 🎵"
        ],
        [
         "320",
         "omg this movie was lit!! 🔥🔥"
        ],
        [
         "824",
         "Just got a raise at work!! 🎉"
        ],
        [
         "38",
         "Just aced my finals, feeling on top of the world! 🎓"
        ],
        [
         "706",
         "Learning to cook during lockdown was the best decision ever! 🍝"
        ],
        [
         "105",
         "Customer service took forever, what a joke"
        ],
        [
         "789",
         "This movie was such a waste of time 😡"
        ],
        [
         "142",
         "[NAME] really nailed it with their performance today, so proud!"
        ],
        [
         "282",
         "[NAME] always has the best takes on this sub!"
        ],
        [
         "57",
         "I'm so done with all this drama, seriously...😤"
        ],
        [
         "250",
         "Wow, this sunset is unreal! 🌅"
        ],
        [
         "966",
         "Just got a raise at work, feels amazing!"
        ],
        [
         "996",
         "Found the cutest puppy today, made my year! 🐶"
        ],
        [
         "15",
         "Can't believe I missed the sale, everything's gone now. 😒"
        ],
        [
         "858",
         "Stuck in traffic for hours...ugh"
        ],
        [
         "375",
         "The way they handled the situation was so disappointing 😤"
        ],
        [
         "749",
         "Lost my keys for the third time this week, so frustrating 😤"
        ],
        [
         "864",
         "I tried that new recipe and it turned out delicious 😋"
        ],
        [
         "601",
         "Ugh, this update totally broke my game, so frustrating! 😡"
        ],
        [
         "236",
         "Got a new job and my boss is super chill, couldn't be happier! 😊"
        ],
        [
         "245",
         "Spent the whole day cleaning and it still feels messy 🤦‍♂️"
        ],
        [
         "349",
         "The plot twist was so predictable, totally ruined the movie for me."
        ],
        [
         "602",
         "Just tried the new cafe in town, totally worth it ☕️"
        ],
        [
         "483",
         "Seriously, this new update ruined the whole game for me 👎"
        ],
        [
         "133",
         "Why do they keep changing the UI, it's so annoying 😩"
        ],
        [
         "818",
         "Adopted a new puppy and I'm in love! 🐶💕"
        ],
        [
         "929",
         "My computer crashed and I lost everything... 🤦‍♂️"
        ],
        [
         "487",
         "Service at that restaurant was terrible, never going back."
        ],
        [
         "465",
         "Can't stand my boss, he's the worst 🙄"
        ],
        [
         "892",
         "Best movie I've seen in ages, seriously worth it!"
        ],
        [
         "59",
         "Can't believe I wasted money on this, totally disappointed 😞"
        ],
        [
         "766",
         "Finished my first marathon today, still on cloud nine! 🏃‍♂️"
        ],
        [
         "924",
         "Just aced my exam! Hard work pays off!! 🎉"
        ],
        [
         "14",
         "Just got a new puppy and she's the cutest! 🐶❤️"
        ],
        [
         "229",
         "When will this rain ever stop?? I'm so over it."
        ],
        [
         "312",
         "Couldn't stop laughing at the latest episode 😂"
        ],
        [
         "893",
         "Ugh the service was so slow, never going back 👎"
        ],
        [
         "878",
         "Finally got the raise I've been working for! Super stoked! 💪"
        ],
        [
         "599",
         "Seriously can't stand all these ads on the app, super annoying."
        ]
       ],
       "shape": {
        "columns": 1,
        "rows": 1000
       }
      },
      "text/plain": [
       "264      Just had the best sushi ever, highly recommend! 🍣\n",
       "679              Woke up late and missed my train, again 😒\n",
       "640            Just got into biking and it's amazing! 🚴‍♂️\n",
       "69              These bugs in the game are driving me nuts\n",
       "589            What a waste of time, totally disappointed.\n",
       "                               ...                        \n",
       "13854    I think my worry would be if another dog attac...\n",
       "2988                              Now I can’t unhear it...\n",
       "4012     She went from normal mom to ~~[NAME] amazed by...\n",
       "29357    I started this morning barging seven minutes l...\n",
       "9230     A complete lack of self-reflection is a prereq...\n",
       "Name: sentences, Length: 1000, dtype: object"
      ]
     },
     "execution_count": 42,
     "metadata": {},
     "output_type": "execute_result"
    }
   ],
   "source": [
    "X_train.shuffle()"
   ]
  },
  {
   "cell_type": "code",
   "execution_count": null,
   "id": "8ef03c45",
   "metadata": {},
   "outputs": [],
   "source": []
  },
  {
   "cell_type": "code",
   "execution_count": 71,
   "id": "6e0ee5b6",
   "metadata": {},
   "outputs": [
    {
     "name": "stdout",
     "output_type": "stream",
     "text": [
      "sentences\n",
      "<class 'str'>    1000\n",
      "Name: count, dtype: int64\n"
     ]
    }
   ],
   "source": [
    "print(X_train.apply(type).value_counts())"
   ]
  },
  {
   "cell_type": "code",
   "execution_count": 72,
   "id": "f2985b92",
   "metadata": {},
   "outputs": [],
   "source": [
    "X_train = np.array(sentence_transformer.encode(X_train.to_list()))\n",
    "X_test = np.array(sentence_transformer.encode(X_test.to_list()))"
   ]
  },
  {
   "cell_type": "code",
   "execution_count": 73,
   "id": "fb3ad7b0",
   "metadata": {},
   "outputs": [
    {
     "name": "stdout",
     "output_type": "stream",
     "text": [
      "Train acc: 0.994\n",
      "Test acc: 0.715\n"
     ]
    }
   ],
   "source": [
    "model = svm.SVC(kernel='linear', probability=True, class_weight='balanced')\n",
    "model.fit(X_train, y_train)\n",
    "\n",
    "y_pred = model.predict(X_train)\n",
    "train_acc = accuracy_score(y_pred, y_train)\n",
    "print(f'Train acc: {train_acc}')\n",
    "\n",
    "y_pred = model.predict(X_test)\n",
    "test_acc = accuracy_score(y_pred, y_test)\n",
    "print(f'Test acc: {test_acc}')"
   ]
  },
  {
   "cell_type": "code",
   "execution_count": 74,
   "id": "d40c69be",
   "metadata": {},
   "outputs": [
    {
     "name": "stdout",
     "output_type": "stream",
     "text": [
      "0.8134057971014492\n",
      "0.7115689381933439\n"
     ]
    }
   ],
   "source": [
    "print(precision_score(y_test, y_pred))\n",
    "print(recall_score(y_test, y_pred))"
   ]
  },
  {
   "cell_type": "code",
   "execution_count": 75,
   "id": "5d88f1df",
   "metadata": {},
   "outputs": [
    {
     "name": "stdout",
     "output_type": "stream",
     "text": [
      "0.7886500972775179\n"
     ]
    }
   ],
   "source": [
    "y_prob = model.predict_proba(X_test)[:, 1]\n",
    "print(roc_auc_score(y_test, y_prob))"
   ]
  },
  {
   "cell_type": "markdown",
   "id": "920de3ee",
   "metadata": {},
   "source": [
    "# **MMD**"
   ]
  },
  {
   "cell_type": "code",
   "execution_count": 51,
   "id": "16778853",
   "metadata": {},
   "outputs": [],
   "source": [
    "def report_MMD(X, Y, normalize=False):\n",
    "    \n",
    "    tensorX = torch.tensor(X)\n",
    "    tensorY = torch.tensor(Y)\n",
    "    rbf_mmd = MMD(tensorX, tensorY, \"rbf\")\n",
    "    scale_mmd = MMD(tensorX, tensorY, \"multiscale\")\n",
    "\n",
    "\n",
    "    if normalize:\n",
    "        return (rbf_mmd.item() / np.sqrt((1.0 / X.shape[0]) + (1.0 / Y.shape[0]))), (scale_mmd.item() / np.sqrt(1.0 / X.shape[0] + 1.0 / Y.shape[0]))\n",
    "    else:\n",
    "        return rbf_mmd.item(), scale_mmd.item()"
   ]
  },
  {
   "cell_type": "code",
   "execution_count": 19,
   "id": "38303210",
   "metadata": {},
   "outputs": [
    {
     "data": {
      "application/vnd.microsoft.datawrangler.viewer.v0+json": {
       "columns": [
        {
         "name": "index",
         "rawType": "int64",
         "type": "integer"
        },
        {
         "name": "sentences",
         "rawType": "object",
         "type": "string"
        },
        {
         "name": "labels",
         "rawType": "int64",
         "type": "integer"
        }
       ],
       "ref": "b44c6640-7c9e-4401-8ea6-1f92af82f7dc",
       "rows": [
        [
         "6729",
         "The way that ladder is attached to the building is pretty terrible.",
         "-1"
        ],
        [
         "33148",
         "The left solution is to make them all citizens and to buy their votes with welfare and to never lose an election again as they destroy America.",
         "-1"
        ],
        [
         "25660",
         "Me too! They were half off at the grocery store and people love ‘em.",
         "1"
        ],
        [
         "11460",
         "She forced him to sing a valentine song by threatening him with anthrax and then called him pathetic for allowing himself to be manipulated.. sounds like love to me.",
         "1"
        ],
        [
         "5842",
         "It is actually out on the steam store right now.",
         "1"
        ],
        [
         "14923",
         "Great! I love hotsssssssssssss",
         "1"
        ],
        [
         "19993",
         "Glad to see that thoughtful doggo found a home here!",
         "1"
        ],
        [
         "33360",
         "As a kid, I was way more excited to see the [NAME] truck.",
         "1"
        ],
        [
         "26279",
         "I don't understand how her hair is 'too light' or how that effects the concealer.",
         "-1"
        ],
        [
         "23180",
         "Yeehaw! It's time for a hoedown!!!!",
         "1"
        ],
        [
         "34367",
         "[NAME] thinks [NAME] for [NAME] is a bad deal for the Bulls.",
         "-1"
        ],
        [
         "15689",
         "Actually that's the wrong guy. The guy you're thinking of is in prison now facing life. This guy sucks just as bad though..",
         "-1"
        ],
        [
         "17857",
         "They sound amazing :)",
         "1"
        ],
        [
         "10858",
         "Felt like yesterday when they got married in that barn/bar/bistro. Truly the halcyon days.",
         "1"
        ],
        [
         "34672",
         "Good assumption there except for the part where I didn't vote for the guy.",
         "1"
        ],
        [
         "3299",
         "Right :-) The rookie was so scared to show his hand and he thought his two pairs weren’t good and thought he had lost.",
         "1"
        ],
        [
         "18263",
         "Well she’s still kind of awful but she’s hilarious. Definitely a huge improvement. I could barely watch her!!",
         "-1"
        ],
        [
         "10697",
         "Damn [NAME] is KILLING it",
         "-1"
        ],
        [
         "26453",
         "> Places of business need wider tables and open seating Open-plan Offices are a Disaster.",
         "-1"
        ],
        [
         "21740",
         "Yeah that’s one of the things I’m most worried about, still hopeful!",
         "-1"
        ],
        [
         "1353",
         "plz pm the telegram group thanks",
         "1"
        ],
        [
         "10779",
         "Easy money, thank you [NAME]",
         "1"
        ],
        [
         "23879",
         "I hate they way he says \"ssssshit\"",
         "-1"
        ],
        [
         "32731",
         "I guess my story was too subtle. Alone on an indian burial ground after dark. It's literally the core of multiple horror stories.",
         "1"
        ],
        [
         "10144",
         "Some of my best rolls were with 50mg. Less is more!",
         "1"
        ],
        [
         "22948",
         "Damn didn’t know it was for a whole now that’s crazy",
         "1"
        ],
        [
         "12631",
         "Thank you [NAME]",
         "1"
        ],
        [
         "19988",
         "Please don't ruin our self-deprecating-humor cope.",
         "-1"
        ],
        [
         "21787",
         "No thanks.",
         "1"
        ],
        [
         "5612",
         "Well [NAME] made me laugh",
         "1"
        ],
        [
         "39271",
         "Really? I could've sworn I've seen people disabling comments on certain posts before..",
         "1"
        ],
        [
         "34763",
         "I sure as hell hope your username is a joke",
         "1"
        ],
        [
         "24776",
         "I read that whole thing, so damn funny. But seriously, all those guys need to be sterilized.",
         "1"
        ],
        [
         "26781",
         "Watching porn on your phone is a thing people do now? It's such an inconvenient thing to do tbh.",
         "-1"
        ],
        [
         "827",
         "This comment is complete garbage.",
         "-1"
        ],
        [
         "244",
         "I like seeing this. There is hope. I want to hug this guy. He'll be allright.",
         "1"
        ],
        [
         "37655",
         "[NAME] is a cute woman, A Shyster, but cute.",
         "1"
        ],
        [
         "37612",
         "Real fact, Elephants see us as cute in the same way we see dogs and cats as cute.",
         "1"
        ],
        [
         "8903",
         "Let's get petty! Love it",
         "1"
        ],
        [
         "35973",
         "It's even worse when you get someone from NJ who has no clue how to drive in the city environment.",
         "-1"
        ],
        [
         "8243",
         "lol why ? they were both garbage when their time was up",
         "1"
        ],
        [
         "35048",
         "I do this everyday... lol",
         "1"
        ],
        [
         "31410",
         "I'm pretty sure you killed me. I got killed by a pounder on a plane on that very same map 2 days ago or so lol",
         "1"
        ],
        [
         "36298",
         "Thank you. I’ve got till next week to find out then :)",
         "1"
        ],
        [
         "20067",
         "I regret not grabbing my work laptop today, then I wouldn't have to leave fort blanket until Thursday. ",
         "-1"
        ],
        [
         "37103",
         "No, i'm arguing that if she calls someone disgusting for how they act it's wrong to act like the other person is an asshole for retaliating. ",
         "1"
        ],
        [
         "262",
         "Counteracting my cold soul takes sacrifice",
         "1"
        ],
        [
         "14798",
         "so doing something illegal only dehumanises you when caught?",
         "-1"
        ],
        [
         "19225",
         "I like you.",
         "1"
        ],
        [
         "39292",
         "That looked HARD",
         "-1"
        ]
       ],
       "shape": {
        "columns": 2,
        "rows": 1000
       }
      },
      "text/html": [
       "<div>\n",
       "<style scoped>\n",
       "    .dataframe tbody tr th:only-of-type {\n",
       "        vertical-align: middle;\n",
       "    }\n",
       "\n",
       "    .dataframe tbody tr th {\n",
       "        vertical-align: top;\n",
       "    }\n",
       "\n",
       "    .dataframe thead th {\n",
       "        text-align: right;\n",
       "    }\n",
       "</style>\n",
       "<table border=\"1\" class=\"dataframe\">\n",
       "  <thead>\n",
       "    <tr style=\"text-align: right;\">\n",
       "      <th></th>\n",
       "      <th>sentences</th>\n",
       "      <th>labels</th>\n",
       "    </tr>\n",
       "  </thead>\n",
       "  <tbody>\n",
       "    <tr>\n",
       "      <th>6729</th>\n",
       "      <td>The way that ladder is attached to the buildin...</td>\n",
       "      <td>-1</td>\n",
       "    </tr>\n",
       "    <tr>\n",
       "      <th>33148</th>\n",
       "      <td>The left solution is to make them all citizens...</td>\n",
       "      <td>-1</td>\n",
       "    </tr>\n",
       "    <tr>\n",
       "      <th>25660</th>\n",
       "      <td>Me too! They were half off at the grocery stor...</td>\n",
       "      <td>1</td>\n",
       "    </tr>\n",
       "    <tr>\n",
       "      <th>11460</th>\n",
       "      <td>She forced him to sing a valentine song by thr...</td>\n",
       "      <td>1</td>\n",
       "    </tr>\n",
       "    <tr>\n",
       "      <th>5842</th>\n",
       "      <td>It is actually out on the steam store right now.</td>\n",
       "      <td>1</td>\n",
       "    </tr>\n",
       "    <tr>\n",
       "      <th>...</th>\n",
       "      <td>...</td>\n",
       "      <td>...</td>\n",
       "    </tr>\n",
       "    <tr>\n",
       "      <th>34084</th>\n",
       "      <td>What absolute garbage</td>\n",
       "      <td>-1</td>\n",
       "    </tr>\n",
       "    <tr>\n",
       "      <th>28297</th>\n",
       "      <td>Reminds me of that last scene in Coraline, whe...</td>\n",
       "      <td>1</td>\n",
       "    </tr>\n",
       "    <tr>\n",
       "      <th>804</th>\n",
       "      <td>\"If you don't support no go zones, you are rac...</td>\n",
       "      <td>-1</td>\n",
       "    </tr>\n",
       "    <tr>\n",
       "      <th>27159</th>\n",
       "      <td>That is absurd, man. I'm sorry you don't belie...</td>\n",
       "      <td>-1</td>\n",
       "    </tr>\n",
       "    <tr>\n",
       "      <th>15401</th>\n",
       "      <td>you can tell she's insanely insecure by her bo...</td>\n",
       "      <td>-1</td>\n",
       "    </tr>\n",
       "  </tbody>\n",
       "</table>\n",
       "<p>1000 rows × 2 columns</p>\n",
       "</div>"
      ],
      "text/plain": [
       "                                               sentences  labels\n",
       "6729   The way that ladder is attached to the buildin...      -1\n",
       "33148  The left solution is to make them all citizens...      -1\n",
       "25660  Me too! They were half off at the grocery stor...       1\n",
       "11460  She forced him to sing a valentine song by thr...       1\n",
       "5842    It is actually out on the steam store right now.       1\n",
       "...                                                  ...     ...\n",
       "34084                              What absolute garbage      -1\n",
       "28297  Reminds me of that last scene in Coraline, whe...       1\n",
       "804    \"If you don't support no go zones, you are rac...      -1\n",
       "27159  That is absurd, man. I'm sorry you don't belie...      -1\n",
       "15401  you can tell she's insanely insecure by her bo...      -1\n",
       "\n",
       "[1000 rows x 2 columns]"
      ]
     },
     "execution_count": 19,
     "metadata": {},
     "output_type": "execute_result"
    }
   ],
   "source": [
    "orig_df"
   ]
  },
  {
   "cell_type": "code",
   "execution_count": 20,
   "id": "4dda33eb",
   "metadata": {},
   "outputs": [
    {
     "data": {
      "application/vnd.microsoft.datawrangler.viewer.v0+json": {
       "columns": [
        {
         "name": "index",
         "rawType": "int64",
         "type": "integer"
        },
        {
         "name": "text",
         "rawType": "object",
         "type": "string"
        },
        {
         "name": "label",
         "rawType": "int64",
         "type": "integer"
        }
       ],
       "ref": "06dfb468-c108-44b6-9eca-d20cf4fa3b3c",
       "rows": [
        [
         "13205",
         "I used it for a while. It made me way more sociable and generally happier, optimistic Less anxious and stuck up Until it didnt, so enjoy it while it lasts",
         "1"
        ],
        [
         "23193",
         "Now this is a Contrapoints video I want to see",
         "1"
        ],
        [
         "33371",
         "May [NAME] bless and keep the President... far away from us!",
         "1"
        ],
        [
         "38983",
         "The main reason I left is a hidden mmr used to influence matchmaking in a mode that requires a paid entry. That's disgusting",
         "-1"
        ],
        [
         "29165",
         "I'm glad you could relate and that you also found some peace and resolution in your relationship. I'm glad we didn't give up!",
         "1"
        ],
        [
         "26865",
         "Who was it? I got here after it was deleted, and I'd like to read the comment history.",
         "1"
        ],
        [
         "10836",
         "They come to your house and rob you at gun point. Be honest. What are some ways that this could be resolved?",
         "-1"
        ],
        [
         "23367",
         "Read decrease at first and thought \"Oh boy, reddit is gonna love this one\"",
         "1"
        ],
        [
         "22895",
         "The most my dad did to help with the housework in 35+ years of their marriage was to lift his legs while mum vacuums around the couch",
         "-1"
        ],
        [
         "13834",
         "Girl I got you. guys haven’t experienced culture where basically every girl calls herself fat or tries to restrict their eating because they have insecurity or dysmorphia",
         "1"
        ],
        [
         "13499",
         "Hi, [NAME]! I just wanted to stop by and wish you peace and happiness! -HappyFriendlyBot",
         "1"
        ],
        [
         "16716",
         "You know the answer man, you are programmed to capture those codes they send you, don’t avoid them!",
         "1"
        ],
        [
         "11476",
         "luckily for us all the retarded companies are plummeting",
         "1"
        ],
        [
         "21778",
         "But the panther saddle is sexy af.",
         "1"
        ],
        [
         "12597",
         "He isn't as big, but he's still quite popular. I've heard the same thing about his content. Never watched him much.",
         "1"
        ],
        [
         "10629",
         "We got nowhere with that because you only drop one-liners and refuse to actually engage.",
         "-1"
        ],
        [
         "21528",
         "I wish the federal government would step in to take care of people. It’s overwhelming to care for them on a city or even state level.",
         "1"
        ],
        [
         "27891",
         "Just watched The Pass on Netflix--really great movie, but not exactly a feel-good time...",
         "1"
        ],
        [
         "7937",
         "LOL SO RANDOM",
         "1"
        ],
        [
         "15425",
         "The fact someone could read your post and literally go and do this saddens me.",
         "1"
        ],
        [
         "41112",
         "[NAME] damn it",
         "-1"
        ],
        [
         "36856",
         "I didn't see it either! I feel like the kid at the birthday party that didn't get a piece of cake...",
         "-1"
        ],
        [
         "16284",
         "Our education system has been a complete and utter failure...",
         "-1"
        ],
        [
         "10998",
         "Thank you. You’ve given me a beam of hope",
         "1"
        ],
        [
         "22424",
         "I was really hoping you meant that we shouldn't need to call ourselves feminists because it should just be common sense, but I guess I was wrong. ",
         "-1"
        ],
        [
         "12067",
         "Sometimes you gotta hate living to love life ya feel?",
         "1"
        ],
        [
         "14564",
         "A “10” on the landing.",
         "1"
        ],
        [
         "36121",
         "You’re supposed to go around them",
         "1"
        ],
        [
         "14572",
         "Sorry about that!",
         "-1"
        ],
        [
         "22623",
         "That sounds great, I *love* Rogue One. It's also the movie that's perfectly safe for TLJ fans to despise.",
         "1"
        ],
        [
         "24181",
         "Which one? I like their podcast but I can totally see why a lot of people wouldn’t hahaha",
         "1"
        ],
        [
         "5136",
         "Looking at the thread now, it seems that this comment was also deleted.",
         "-1"
        ],
        [
         "22599",
         "That's great to hear, we need more Maki lovers",
         "1"
        ],
        [
         "1505",
         "Haha yes! Ill do that to my cat all the time. He seeems to appreciate the assist",
         "1"
        ],
        [
         "31162",
         "Haha that's so true!",
         "1"
        ],
        [
         "22230",
         "wow octane is pure garbage lmao",
         "1"
        ],
        [
         "3651",
         "true I am a troll, but fortunately for me I'm not emotionally invested in it.",
         "-1"
        ],
        [
         "10395",
         "Better slap that car roof.",
         "-1"
        ],
        [
         "17154",
         "literally my favorite movie of all time not even exaggerating it’s stellar",
         "1"
        ],
        [
         "19874",
         "I'm sorry. That's awful",
         "-1"
        ],
        [
         "14734",
         "i used that as an example, and i also said it would be very difficult. this is hypothetical there’s no need to be rude.",
         "-1"
        ],
        [
         "41147",
         "If someone posts it I would need some hard fuckin proof that it’s actually a [NAME] pick",
         "1"
        ],
        [
         "29915",
         "Ha congrats!",
         "1"
        ],
        [
         "8644",
         "I love it",
         "1"
        ],
        [
         "32598",
         "I punch them in the throat before they get the chance to speak.",
         "-1"
        ],
        [
         "21573",
         "Had she gone into the left shoulder before braking she may have had a chance.",
         "1"
        ],
        [
         "3928",
         "I friggin choked scrolling up to this",
         "-1"
        ],
        [
         "16063",
         "Happy birtday my dude",
         "1"
        ],
        [
         "40510",
         "80% of the country is putting their faith in a man who doesn’t even have personal awareness of where he is.",
         "-1"
        ],
        [
         "9108",
         "I would consider it a date! Plus dancing (ballroom) is intimate...hope you have fun and good luck!",
         "1"
        ]
       ],
       "shape": {
        "columns": 2,
        "rows": 1000
       }
      },
      "text/html": [
       "<div>\n",
       "<style scoped>\n",
       "    .dataframe tbody tr th:only-of-type {\n",
       "        vertical-align: middle;\n",
       "    }\n",
       "\n",
       "    .dataframe tbody tr th {\n",
       "        vertical-align: top;\n",
       "    }\n",
       "\n",
       "    .dataframe thead th {\n",
       "        text-align: right;\n",
       "    }\n",
       "</style>\n",
       "<table border=\"1\" class=\"dataframe\">\n",
       "  <thead>\n",
       "    <tr style=\"text-align: right;\">\n",
       "      <th></th>\n",
       "      <th>text</th>\n",
       "      <th>label</th>\n",
       "    </tr>\n",
       "  </thead>\n",
       "  <tbody>\n",
       "    <tr>\n",
       "      <th>13205</th>\n",
       "      <td>I used it for a while. It made me way more soc...</td>\n",
       "      <td>1</td>\n",
       "    </tr>\n",
       "    <tr>\n",
       "      <th>23193</th>\n",
       "      <td>Now this is a Contrapoints video I want to see</td>\n",
       "      <td>1</td>\n",
       "    </tr>\n",
       "    <tr>\n",
       "      <th>33371</th>\n",
       "      <td>May [NAME] bless and keep the President... far...</td>\n",
       "      <td>1</td>\n",
       "    </tr>\n",
       "    <tr>\n",
       "      <th>38983</th>\n",
       "      <td>The main reason I left is a hidden mmr used to...</td>\n",
       "      <td>-1</td>\n",
       "    </tr>\n",
       "    <tr>\n",
       "      <th>29165</th>\n",
       "      <td>I'm glad you could relate and that you also fo...</td>\n",
       "      <td>1</td>\n",
       "    </tr>\n",
       "    <tr>\n",
       "      <th>...</th>\n",
       "      <td>...</td>\n",
       "      <td>...</td>\n",
       "    </tr>\n",
       "    <tr>\n",
       "      <th>22908</th>\n",
       "      <td>You can. I've used my Kroger-linked phone numb...</td>\n",
       "      <td>1</td>\n",
       "    </tr>\n",
       "    <tr>\n",
       "      <th>27778</th>\n",
       "      <td>I liked it better when [NAME] was half naked</td>\n",
       "      <td>-1</td>\n",
       "    </tr>\n",
       "    <tr>\n",
       "      <th>9024</th>\n",
       "      <td>[NAME] game sucks. He's good at comps but his ...</td>\n",
       "      <td>1</td>\n",
       "    </tr>\n",
       "    <tr>\n",
       "      <th>22259</th>\n",
       "      <td>&gt;[NAME] One of the most horrifying stories I'v...</td>\n",
       "      <td>1</td>\n",
       "    </tr>\n",
       "    <tr>\n",
       "      <th>6504</th>\n",
       "      <td>Which makes zero sense lol</td>\n",
       "      <td>1</td>\n",
       "    </tr>\n",
       "  </tbody>\n",
       "</table>\n",
       "<p>1000 rows × 2 columns</p>\n",
       "</div>"
      ],
      "text/plain": [
       "                                                    text  label\n",
       "13205  I used it for a while. It made me way more soc...      1\n",
       "23193     Now this is a Contrapoints video I want to see      1\n",
       "33371  May [NAME] bless and keep the President... far...      1\n",
       "38983  The main reason I left is a hidden mmr used to...     -1\n",
       "29165  I'm glad you could relate and that you also fo...      1\n",
       "...                                                  ...    ...\n",
       "22908  You can. I've used my Kroger-linked phone numb...      1\n",
       "27778       I liked it better when [NAME] was half naked     -1\n",
       "9024   [NAME] game sucks. He's good at comps but his ...      1\n",
       "22259  >[NAME] One of the most horrifying stories I'v...      1\n",
       "6504                          Which makes zero sense lol      1\n",
       "\n",
       "[1000 rows x 2 columns]"
      ]
     },
     "execution_count": 20,
     "metadata": {},
     "output_type": "execute_result"
    }
   ],
   "source": [
    "sample_df"
   ]
  },
  {
   "cell_type": "code",
   "execution_count": 9,
   "id": "9609f872",
   "metadata": {},
   "outputs": [],
   "source": [
    "orig_dist = np.array(sentence_transformer.encode(orig_df['sentences'].to_list()))\n",
    "sample_dist = np.array(sentence_transformer.encode(gen_df['sentences'].to_list()))"
   ]
  },
  {
   "cell_type": "code",
   "execution_count": 52,
   "id": "d2a7e3f4",
   "metadata": {},
   "outputs": [
    {
     "ename": "NameError",
     "evalue": "name 'orig_dist' is not defined",
     "output_type": "error",
     "traceback": [
      "\u001b[0;31m---------------------------------------------------------------------------\u001b[0m",
      "\u001b[0;31mNameError\u001b[0m                                 Traceback (most recent call last)",
      "Cell \u001b[0;32mIn[52], line 1\u001b[0m\n\u001b[0;32m----> 1\u001b[0m report_MMD(\u001b[43morig_dist\u001b[49m, sample_dist, normalize\u001b[38;5;241m=\u001b[39m\u001b[38;5;28;01mTrue\u001b[39;00m)\n",
      "\u001b[0;31mNameError\u001b[0m: name 'orig_dist' is not defined"
     ]
    }
   ],
   "source": [
    "report_MMD(orig_dist, sample_dist, normalize=True)"
   ]
  },
  {
   "cell_type": "code",
   "execution_count": 12,
   "id": "6df0994d",
   "metadata": {},
   "outputs": [],
   "source": [
    "gen_df = pd.read_csv('../data/generated/reddit/privacy_protected/new_reddit_agg_stats_gen.csv')\n",
    "orig_df = pd.read_csv('../data/initial_datasets/reddit_binary_labels.csv')\n",
    "orig_df = orig_df.sample(n=1000)"
   ]
  },
  {
   "cell_type": "code",
   "execution_count": 13,
   "id": "186e5813",
   "metadata": {},
   "outputs": [],
   "source": [
    "orig_df.rename(columns={'text': 'sentences', 'label': 'labels'}, inplace=True)"
   ]
  },
  {
   "cell_type": "code",
   "execution_count": 14,
   "id": "5d76e489",
   "metadata": {},
   "outputs": [],
   "source": [
    "orig_dist = np.array(sentence_transformer.encode(orig_df['sentences'].to_list()))\n",
    "sample_dist = np.array(sentence_transformer.encode(gen_df['sentences'].to_list()))"
   ]
  },
  {
   "cell_type": "code",
   "execution_count": 10,
   "id": "03123742",
   "metadata": {},
   "outputs": [],
   "source": [
    "import numpy as np\n",
    "import ot\n",
    "\n",
    "def wasserstein(X, Y):\n",
    "    \n",
    "    a = np.ones((X.shape[0],)) / X.shape[0]\n",
    "    b = np.ones((Y.shape[0],)) / Y.shape[0]\n",
    "\n",
    "    M = ot.dist(X, Y)\n",
    "    M /= M.max()\n",
    "\n",
    "    return ot.emd2(a, b, M)"
   ]
  },
  {
   "cell_type": "code",
   "execution_count": 15,
   "id": "74d363cf",
   "metadata": {},
   "outputs": [
    {
     "data": {
      "text/plain": [
       "0.5408510427325971"
      ]
     },
     "execution_count": 15,
     "metadata": {},
     "output_type": "execute_result"
    }
   ],
   "source": [
    "wasserstein(orig_dist, sample_dist)"
   ]
  }
 ],
 "metadata": {
  "kernelspec": {
   "display_name": "Python 3",
   "language": "python",
   "name": "python3"
  },
  "language_info": {
   "codemirror_mode": {
    "name": "ipython",
    "version": 3
   },
   "file_extension": ".py",
   "mimetype": "text/x-python",
   "name": "python",
   "nbconvert_exporter": "python",
   "pygments_lexer": "ipython3",
   "version": "3.9.6"
  }
 },
 "nbformat": 4,
 "nbformat_minor": 5
}
