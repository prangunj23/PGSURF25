{
 "cells": [
  {
   "cell_type": "code",
   "execution_count": 1,
   "id": "eb70967b",
   "metadata": {},
   "outputs": [
    {
     "name": "stderr",
     "output_type": "stream",
     "text": [
      "/Users/pranitgunjal/Library/Python/3.9/lib/python/site-packages/urllib3/__init__.py:35: NotOpenSSLWarning: urllib3 v2 only supports OpenSSL 1.1.1+, currently the 'ssl' module is compiled with 'LibreSSL 2.8.3'. See: https://github.com/urllib3/urllib3/issues/3020\n",
      "  warnings.warn(\n"
     ]
    }
   ],
   "source": [
    "import sys\n",
    "sys.path.append('../utilities/')\n",
    "import pandas as pd\n",
    "import numpy as np\n",
    "from sklearn import svm\n",
    "from sklearn.model_selection import train_test_split, GridSearchCV\n",
    "from sklearn.metrics import accuracy_score, precision_score, recall_score, roc_auc_score\n",
    "import torch\n",
    "from sentence_transformers import SentenceTransformer\n",
    "from joblib import dump\n",
    "from openai import OpenAI\n",
    "from tqdm import tqdm\n",
    "from mmd import MMD\n",
    "import re\n",
    "from sklearn.feature_extraction.text import CountVectorizer"
   ]
  },
  {
   "cell_type": "markdown",
   "id": "4aed9b25",
   "metadata": {},
   "source": [
    "# **Transformer**"
   ]
  },
  {
   "cell_type": "code",
   "execution_count": 2,
   "id": "5e54ed84",
   "metadata": {},
   "outputs": [],
   "source": [
    "sentence_transformer = SentenceTransformer('all-mpnet-base-v2')"
   ]
  },
  {
   "cell_type": "markdown",
   "id": "e35c51fc",
   "metadata": {},
   "source": [
    "# **Data Pre-processing**"
   ]
  },
  {
   "cell_type": "code",
   "execution_count": 3,
   "id": "545af30a",
   "metadata": {},
   "outputs": [],
   "source": [
    "train_df = pd.read_csv('../data/initial_datasets/reddit/reddit_train.csv')\n",
    "test_df = pd.read_csv('../data/initial_datasets/reddit/reddit_test.csv')"
   ]
  },
  {
   "cell_type": "code",
   "execution_count": 4,
   "id": "5a6b6137",
   "metadata": {},
   "outputs": [
    {
     "data": {
      "application/vnd.microsoft.datawrangler.viewer.v0+json": {
       "columns": [
        {
         "name": "index",
         "rawType": "int64",
         "type": "integer"
        },
        {
         "name": "text",
         "rawType": "object",
         "type": "string"
        },
        {
         "name": "label",
         "rawType": "int64",
         "type": "integer"
        }
       ],
       "ref": "44a3a69d-ef8d-46bb-98cf-0cc2be0f01cd",
       "rows": [
        [
         "0",
         "That game hurt.",
         "-1"
        ],
        [
         "1",
         "Man I love reddit.",
         "1"
        ],
        [
         "2",
         "Right? Considering it’s such an important document, I should know the damned thing backwards and forwards... thanks again for the help!",
         "1"
        ],
        [
         "3",
         "He isn't as big, but he's still quite popular. I've heard the same thing about his content. Never watched him much.",
         "-1"
        ],
        [
         "4",
         "That's crazy; I went to a super [RELIGION] high school and I think I can remember 2 girls the entire 4 years that became teen moms.",
         "1"
        ],
        [
         "5",
         "that's adorable asf",
         "1"
        ],
        [
         "6",
         "\"Sponge Blurb Pubs Quaw Haha GURR ha AAa!\" finale is too real",
         "1"
        ],
        [
         "7",
         "I wanted to downvote this, but it's not your fault homie.",
         "-1"
        ],
        [
         "8",
         "That is odd.",
         "-1"
        ],
        [
         "9",
         "I appreciate it, that's good to know. I hope I'll have to apply that knowledge one day",
         "1"
        ],
        [
         "10",
         "Pretty much every Punjabi dude I've met.",
         "1"
        ],
        [
         "11",
         "For extra measure tape it right by your crotch so she can't take it for sexual assault reasons",
         "-1"
        ],
        [
         "12",
         "\"You may die, but it's a sacrifice I'm willing to make\"",
         "1"
        ],
        [
         "13",
         "Now I'm wondering on what I've been missing out. Again thank you for this.",
         "1"
        ],
        [
         "14",
         "\"Seeeee! We have one of them coloureds too!\"",
         "1"
        ],
        [
         "15",
         "Yup, not anymore. Keep your blood sugar up! It really helps and DRINK water...",
         "1"
        ],
        [
         "16",
         "Lots, play store or apple store vpn. Nord is good",
         "1"
        ],
        [
         "17",
         "Dark and funny, but not really nice guy. He has yet to call the dead girls whores for declining to sleep with him. ",
         "-1"
        ],
        [
         "18",
         "I’m glad he’s okay but I’m even gladder it’s not that same gif of the guy ski/parachuting down a mountain",
         "1"
        ],
        [
         "19",
         "nice!! I'll try this one",
         "1"
        ],
        [
         "20",
         "I can't stand [NAME]. Especially since her \"tatooing my own face\" video. ",
         "-1"
        ],
        [
         "21",
         "I just came home, what the fuck is this lineup? I love you [NAME] you mad bastard !!!",
         "1"
        ],
        [
         "22",
         "Go troll elsewhere. This woman needs support, not crass questions.",
         "-1"
        ],
        [
         "23",
         "Just rumors online, it most likely won't happen",
         "-1"
        ],
        [
         "24",
         "Na. Rediting my post. Sorry for the ignorance.",
         "-1"
        ],
        [
         "25",
         "Pity. I had some decent lunches there, but never went there at night.",
         "-1"
        ],
        [
         "26",
         "By far the coolest thing I've seen on this thread yet",
         "1"
        ],
        [
         "27",
         "If there’s a pattern, yes.",
         "1"
        ],
        [
         "28",
         "Sending love and strength vibes <3",
         "1"
        ],
        [
         "29",
         "She’s like a kewpie doll with them. Precious.",
         "1"
        ],
        [
         "30",
         "Thanks for the info mate gonna watch out next time",
         "1"
        ],
        [
         "31",
         "Honestly at this point I don't think there's anything that will make me feel better. Maybe down the road, but right now nothing is helping. ",
         "-1"
        ],
        [
         "32",
         "There has to be some repercussions for this judge, right? Considering the crimes, that bail seems incredibly low...",
         "-1"
        ],
        [
         "33",
         "Good old guardian refusing to accept that [NAME] is stauncly anti-EU and anti-Brussels",
         "-1"
        ],
        [
         "34",
         "I don’t even try to make shots like this myself. So I gotta watch other people make them.",
         "-1"
        ],
        [
         "35",
         "Me too! First time in a couple of years!",
         "1"
        ],
        [
         "36",
         "Gotta protect’em!",
         "1"
        ],
        [
         "37",
         "\"Oh, how DARE you discuss the disgustingly unhealthy and dangerous lifestyle I pursue!\" /s",
         "-1"
        ],
        [
         "38",
         "Which totally makes it less funny for a person like me who has never seen this before, and laughed. ",
         "1"
        ],
        [
         "39",
         "Thanks, it was no effort at all.",
         "1"
        ],
        [
         "40",
         "Nice. I'll look around for it. Thanks!",
         "1"
        ],
        [
         "41",
         "Press fucken charges the moment they use your info.",
         "-1"
        ],
        [
         "42",
         "I love this woman.",
         "1"
        ],
        [
         "43",
         "Do you not give your snowmen brooms? I feel like that's a thing people do",
         "-1"
        ],
        [
         "44",
         "I loved how [NAME] feels like everyone in the office is her family. Her relationship with [NAME] is so cute and innocent",
         "1"
        ],
        [
         "45",
         "Then I’m sorry but this game really isn’t for you. Progression like that would ruin the base of what this game is.",
         "-1"
        ],
        [
         "46",
         "Am I the only INTP here who cared about deadlines. It's how I got so good at crunch time and working last minute.",
         "-1"
        ],
        [
         "47",
         ">Did you just call me a liar? Sick reference.",
         "-1"
        ],
        [
         "48",
         "Shut up 15 year-old",
         "-1"
        ],
        [
         "49",
         "I just got a shirt made that says “I can’t have kids my dog is allergic”",
         "1"
        ]
       ],
       "shape": {
        "columns": 2,
        "rows": 40701
       }
      },
      "text/html": [
       "<div>\n",
       "<style scoped>\n",
       "    .dataframe tbody tr th:only-of-type {\n",
       "        vertical-align: middle;\n",
       "    }\n",
       "\n",
       "    .dataframe tbody tr th {\n",
       "        vertical-align: top;\n",
       "    }\n",
       "\n",
       "    .dataframe thead th {\n",
       "        text-align: right;\n",
       "    }\n",
       "</style>\n",
       "<table border=\"1\" class=\"dataframe\">\n",
       "  <thead>\n",
       "    <tr style=\"text-align: right;\">\n",
       "      <th></th>\n",
       "      <th>text</th>\n",
       "      <th>label</th>\n",
       "    </tr>\n",
       "  </thead>\n",
       "  <tbody>\n",
       "    <tr>\n",
       "      <th>0</th>\n",
       "      <td>That game hurt.</td>\n",
       "      <td>-1</td>\n",
       "    </tr>\n",
       "    <tr>\n",
       "      <th>1</th>\n",
       "      <td>Man I love reddit.</td>\n",
       "      <td>1</td>\n",
       "    </tr>\n",
       "    <tr>\n",
       "      <th>2</th>\n",
       "      <td>Right? Considering it’s such an important docu...</td>\n",
       "      <td>1</td>\n",
       "    </tr>\n",
       "    <tr>\n",
       "      <th>3</th>\n",
       "      <td>He isn't as big, but he's still quite popular....</td>\n",
       "      <td>-1</td>\n",
       "    </tr>\n",
       "    <tr>\n",
       "      <th>4</th>\n",
       "      <td>That's crazy; I went to a super [RELIGION] hig...</td>\n",
       "      <td>1</td>\n",
       "    </tr>\n",
       "    <tr>\n",
       "      <th>...</th>\n",
       "      <td>...</td>\n",
       "      <td>...</td>\n",
       "    </tr>\n",
       "    <tr>\n",
       "      <th>40696</th>\n",
       "      <td>Oh man is this true. Coffee has a seriously ne...</td>\n",
       "      <td>-1</td>\n",
       "    </tr>\n",
       "    <tr>\n",
       "      <th>40697</th>\n",
       "      <td>You’re good, no worries</td>\n",
       "      <td>1</td>\n",
       "    </tr>\n",
       "    <tr>\n",
       "      <th>40698</th>\n",
       "      <td>one's a rapist, and the other's a stingy yank ...</td>\n",
       "      <td>-1</td>\n",
       "    </tr>\n",
       "    <tr>\n",
       "      <th>40699</th>\n",
       "      <td>This is great! Can anyone make a request with ...</td>\n",
       "      <td>1</td>\n",
       "    </tr>\n",
       "    <tr>\n",
       "      <th>40700</th>\n",
       "      <td>This is so cruel. I literally feel physically ...</td>\n",
       "      <td>-1</td>\n",
       "    </tr>\n",
       "  </tbody>\n",
       "</table>\n",
       "<p>40701 rows × 2 columns</p>\n",
       "</div>"
      ],
      "text/plain": [
       "                                                    text  label\n",
       "0                                        That game hurt.     -1\n",
       "1                                     Man I love reddit.      1\n",
       "2      Right? Considering it’s such an important docu...      1\n",
       "3      He isn't as big, but he's still quite popular....     -1\n",
       "4      That's crazy; I went to a super [RELIGION] hig...      1\n",
       "...                                                  ...    ...\n",
       "40696  Oh man is this true. Coffee has a seriously ne...     -1\n",
       "40697                            You’re good, no worries      1\n",
       "40698  one's a rapist, and the other's a stingy yank ...     -1\n",
       "40699  This is great! Can anyone make a request with ...      1\n",
       "40700  This is so cruel. I literally feel physically ...     -1\n",
       "\n",
       "[40701 rows x 2 columns]"
      ]
     },
     "execution_count": 4,
     "metadata": {},
     "output_type": "execute_result"
    }
   ],
   "source": [
    "train_df"
   ]
  },
  {
   "cell_type": "code",
   "execution_count": 5,
   "id": "6c3db578",
   "metadata": {},
   "outputs": [
    {
     "data": {
      "application/vnd.microsoft.datawrangler.viewer.v0+json": {
       "columns": [
        {
         "name": "index",
         "rawType": "int64",
         "type": "integer"
        },
        {
         "name": "text",
         "rawType": "object",
         "type": "string"
        },
        {
         "name": "label",
         "rawType": "int64",
         "type": "integer"
        }
       ],
       "ref": "48528cdd-14a3-4d9a-be2f-d279d7c4335a",
       "rows": [
        [
         "0",
         "First is the worst",
         "-1"
        ],
        [
         "1",
         "Our education system has been a complete and utter failure...",
         "-1"
        ],
        [
         "2",
         "The fuck you call me!? A cunt!? Damn man, didn’t know I meant so much to you, right in the feels.",
         "-1"
        ],
        [
         "3",
         "It will probably take him some time to figure out whether he’s really ok with it or not.",
         "1"
        ],
        [
         "4",
         "Somebody is really insecure about their career decisions.",
         "-1"
        ],
        [
         "5",
         "I just saw that they deleted their account. Good.",
         "1"
        ],
        [
         "6",
         "You can only fit so much in 20ish min show.",
         "1"
        ],
        [
         "7",
         "Thanks for looking out but we will take our chances with this grave danger.",
         "1"
        ],
        [
         "8",
         "I feel like I already knew, I just needed to have someone else tell me to really open up my eyes. Thank you for your comment",
         "1"
        ],
        [
         "9",
         "Let's get things back on track! Happy new year!",
         "1"
        ],
        [
         "10",
         "Ah the classic \"I don't deserve you\" argument.",
         "1"
        ],
        [
         "11",
         "Childhood is happiness. After that the rest of your life is spent chasing that feeling, a feeling that you’ll never experience again ",
         "-1"
        ],
        [
         "12",
         "Hey thanks! Happy new year to you too!",
         "1"
        ],
        [
         "13",
         "Haha fucking gottem",
         "1"
        ],
        [
         "14",
         "Hi, [NAME]! I am stopping by to wish you the best day, and the best year! -HappyFriendlyBot",
         "1"
        ],
        [
         "15",
         "Haha Nice. I finished paying [NAME] back about a year ago. Great feeling! Congrats.",
         "1"
        ],
        [
         "16",
         "Borrowed time is stupid",
         "-1"
        ],
        [
         "17",
         "You're a mean person.",
         "-1"
        ],
        [
         "18",
         "is this sub scared to talk about [NAME] getting arrested",
         "-1"
        ],
        [
         "19",
         "Hope you're still doing ok ❤✌",
         "1"
        ],
        [
         "20",
         "Yah a couple years been together for 7 total...we are in healthcare",
         "1"
        ],
        [
         "21",
         "Lol I lol'd *I too am down with the kids. But not like that because that would be illegal*",
         "1"
        ],
        [
         "22",
         "Ah the good old Russian Right Hook.",
         "1"
        ],
        [
         "23",
         "Reports of a small fire or a transformer that blew. Nothing that I’ve seen has confirmed either though.",
         "1"
        ],
        [
         "24",
         "Glad those underprivileged West Loop kids will finally have something nice to take advantage of.",
         "1"
        ],
        [
         "25",
         "I wish everything the I was going through was a hallucination",
         "1"
        ],
        [
         "26",
         "That was a brutal shift. Honestly he should be playing sheltered minutes. Team needs [NAME] and [NAME] back, give bulk of his minutes to [NAME]. ",
         "-1"
        ],
        [
         "27",
         "The Nashville Design is just a placeholder. The actual plans have yet to been finalized.",
         "1"
        ],
        [
         "28",
         "This is the worst Hellraiser reboot script I've read this month, and let me tell you, I've read a lot of them.",
         "-1"
        ],
        [
         "29",
         "Meh, same branch of religion. Just opposing views on the sequel to the story.",
         "-1"
        ],
        [
         "30",
         "People like you are why I follow this sub. Keep it up I need more laughs like that!",
         "1"
        ],
        [
         "31",
         "No one does... that what makes it so provocative.",
         "-1"
        ],
        [
         "32",
         "I like this one",
         "1"
        ],
        [
         "33",
         "If you have schools in your city, I got bad news for ya champ...",
         "-1"
        ],
        [
         "34",
         "annoyed at most",
         "-1"
        ],
        [
         "35",
         "Yes, we are going to kink shame you. ",
         "-1"
        ],
        [
         "36",
         "I would say love is never enough. Love is unconditional. Relationships are not.",
         "1"
        ],
        [
         "37",
         "Helps quite a bit when the opponent forfeits the game by playing a high school QB. This is [NAME] in the playoffs bad.",
         "1"
        ],
        [
         "38",
         "Man. Just tuned in. Forgot it was an early game. Looks like it's been a positive game so far from pretty much everyone.",
         "1"
        ],
        [
         "39",
         "glad you made the trip from a fellow austinite",
         "1"
        ],
        [
         "40",
         "I'm happy I live in a country where machete attacks don't have to be a real concern.",
         "1"
        ],
        [
         "41",
         "I thought I was the only knicks/browns fan on this sub! That's cool. But yeah I love hearing him and clyde do broadcasts",
         "1"
        ],
        [
         "42",
         "I was just trying to work around the \"no rude\" rule. I like a challenge ;-)",
         "1"
        ],
        [
         "43",
         "I’m just gonna go ahead and call bullshit on most of the details of this story.",
         "-1"
        ],
        [
         "44",
         "That tiny shoulder pad is freaking adorable.",
         "1"
        ],
        [
         "45",
         "Haven't played in forever, but [NAME] solo was my jam back in the day. Glad to hear damage tanks are still good",
         "1"
        ],
        [
         "46",
         "ok thanks alot :), just extremely weird VAC bans are less harsh than throwing for Skins. lol",
         "1"
        ],
        [
         "47",
         "Yeah you’re right, I’m not fit for the position! Thank you for giving me the right words to say. ",
         "1"
        ],
        [
         "48",
         "And then he calls the fans crybabies for saying his movie sucked. Just take the L dude.",
         "-1"
        ],
        [
         "49",
         "I never understood the part where he dives into a pile of money, even as a child. It seems wildly painful.",
         "-1"
        ]
       ],
       "shape": {
        "columns": 2,
        "rows": 1000
       }
      },
      "text/html": [
       "<div>\n",
       "<style scoped>\n",
       "    .dataframe tbody tr th:only-of-type {\n",
       "        vertical-align: middle;\n",
       "    }\n",
       "\n",
       "    .dataframe tbody tr th {\n",
       "        vertical-align: top;\n",
       "    }\n",
       "\n",
       "    .dataframe thead th {\n",
       "        text-align: right;\n",
       "    }\n",
       "</style>\n",
       "<table border=\"1\" class=\"dataframe\">\n",
       "  <thead>\n",
       "    <tr style=\"text-align: right;\">\n",
       "      <th></th>\n",
       "      <th>text</th>\n",
       "      <th>label</th>\n",
       "    </tr>\n",
       "  </thead>\n",
       "  <tbody>\n",
       "    <tr>\n",
       "      <th>0</th>\n",
       "      <td>First is the worst</td>\n",
       "      <td>-1</td>\n",
       "    </tr>\n",
       "    <tr>\n",
       "      <th>1</th>\n",
       "      <td>Our education system has been a complete and u...</td>\n",
       "      <td>-1</td>\n",
       "    </tr>\n",
       "    <tr>\n",
       "      <th>2</th>\n",
       "      <td>The fuck you call me!? A cunt!? Damn man, didn...</td>\n",
       "      <td>-1</td>\n",
       "    </tr>\n",
       "    <tr>\n",
       "      <th>3</th>\n",
       "      <td>It will probably take him some time to figure ...</td>\n",
       "      <td>1</td>\n",
       "    </tr>\n",
       "    <tr>\n",
       "      <th>4</th>\n",
       "      <td>Somebody is really insecure about their career...</td>\n",
       "      <td>-1</td>\n",
       "    </tr>\n",
       "    <tr>\n",
       "      <th>...</th>\n",
       "      <td>...</td>\n",
       "      <td>...</td>\n",
       "    </tr>\n",
       "    <tr>\n",
       "      <th>995</th>\n",
       "      <td>Be glad you don't know the answer.</td>\n",
       "      <td>1</td>\n",
       "    </tr>\n",
       "    <tr>\n",
       "      <th>996</th>\n",
       "      <td>I’m laughing more that I feel I should st this...</td>\n",
       "      <td>1</td>\n",
       "    </tr>\n",
       "    <tr>\n",
       "      <th>997</th>\n",
       "      <td>I wouldnt necessarily call you and addict but ...</td>\n",
       "      <td>-1</td>\n",
       "    </tr>\n",
       "    <tr>\n",
       "      <th>998</th>\n",
       "      <td>I'm genuinely interested in the responses to t...</td>\n",
       "      <td>1</td>\n",
       "    </tr>\n",
       "    <tr>\n",
       "      <th>999</th>\n",
       "      <td>I hope things get better soon. I'm proud of yo...</td>\n",
       "      <td>1</td>\n",
       "    </tr>\n",
       "  </tbody>\n",
       "</table>\n",
       "<p>1000 rows × 2 columns</p>\n",
       "</div>"
      ],
      "text/plain": [
       "                                                  text  label\n",
       "0                                   First is the worst     -1\n",
       "1    Our education system has been a complete and u...     -1\n",
       "2    The fuck you call me!? A cunt!? Damn man, didn...     -1\n",
       "3    It will probably take him some time to figure ...      1\n",
       "4    Somebody is really insecure about their career...     -1\n",
       "..                                                 ...    ...\n",
       "995                 Be glad you don't know the answer.      1\n",
       "996  I’m laughing more that I feel I should st this...      1\n",
       "997  I wouldnt necessarily call you and addict but ...     -1\n",
       "998  I'm genuinely interested in the responses to t...      1\n",
       "999  I hope things get better soon. I'm proud of yo...      1\n",
       "\n",
       "[1000 rows x 2 columns]"
      ]
     },
     "execution_count": 5,
     "metadata": {},
     "output_type": "execute_result"
    }
   ],
   "source": [
    "test_df"
   ]
  },
  {
   "cell_type": "markdown",
   "id": "8751b1fd",
   "metadata": {},
   "source": [
    "# **Classifier**"
   ]
  },
  {
   "cell_type": "code",
   "execution_count": 6,
   "id": "5e791a19",
   "metadata": {},
   "outputs": [],
   "source": [
    "train_df = train_df.sample(n=1000)"
   ]
  },
  {
   "cell_type": "code",
   "execution_count": 8,
   "id": "c9ae72b1",
   "metadata": {},
   "outputs": [],
   "source": [
    "X_train = np.array(sentence_transformer.encode(train_df['text'].to_list()))\n",
    "X_test = np.array(sentence_transformer.encode(test_df['text'].to_list()))"
   ]
  },
  {
   "cell_type": "code",
   "execution_count": 9,
   "id": "626ecfcc",
   "metadata": {},
   "outputs": [],
   "source": [
    "y_train = train_df['label']\n",
    "y_test = test_df['label']"
   ]
  },
  {
   "cell_type": "code",
   "execution_count": 10,
   "id": "c2967849",
   "metadata": {},
   "outputs": [
    {
     "name": "stdout",
     "output_type": "stream",
     "text": [
      "Train acc: 0.843\n",
      "Test acc: 0.736\n"
     ]
    }
   ],
   "source": [
    "model = svm.SVC(kernel='linear', probability=True, class_weight='balanced')\n",
    "model.fit(X_train, y_train)\n",
    "\n",
    "y_pred = model.predict(X_train)\n",
    "train_acc = accuracy_score(y_pred, y_train)\n",
    "print(f'Train acc: {train_acc}')\n",
    "\n",
    "y_pred = model.predict(X_test)\n",
    "test_acc = accuracy_score(y_pred, y_test)\n",
    "print(f'Test acc: {test_acc}')"
   ]
  },
  {
   "cell_type": "code",
   "execution_count": 11,
   "id": "1bd288b8",
   "metadata": {},
   "outputs": [
    {
     "name": "stdout",
     "output_type": "stream",
     "text": [
      "0.8429906542056075\n",
      "0.7147385103011094\n"
     ]
    }
   ],
   "source": [
    "print(precision_score(y_test, y_pred))\n",
    "print(recall_score(y_test, y_pred))"
   ]
  },
  {
   "cell_type": "code",
   "execution_count": null,
   "id": "c4ecaa9a",
   "metadata": {},
   "outputs": [
    {
     "name": "stdout",
     "output_type": "stream",
     "text": [
      "0.8264616322866873\n"
     ]
    }
   ],
   "source": [
    "y_prob = model.predict_proba(X_test)[:, 1]\n",
    "print(roc_auc_score(y_test, y_prob))"
   ]
  }
 ],
 "metadata": {
  "kernelspec": {
   "display_name": "Python 3",
   "language": "python",
   "name": "python3"
  },
  "language_info": {
   "codemirror_mode": {
    "name": "ipython",
    "version": 3
   },
   "file_extension": ".py",
   "mimetype": "text/x-python",
   "name": "python",
   "nbconvert_exporter": "python",
   "pygments_lexer": "ipython3",
   "version": "3.9.6"
  }
 },
 "nbformat": 4,
 "nbformat_minor": 5
}
