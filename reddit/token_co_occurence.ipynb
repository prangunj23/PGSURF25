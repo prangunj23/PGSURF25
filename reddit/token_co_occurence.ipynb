{
 "cells": [
  {
   "cell_type": "code",
   "execution_count": 7,
   "id": "1d52812c",
   "metadata": {},
   "outputs": [],
   "source": [
    "import sys\n",
    "sys.path.append('../utilities/')\n",
    "import pandas as pd\n",
    "import numpy as np\n",
    "from sklearn import svm\n",
    "from sklearn.model_selection import train_test_split, GridSearchCV\n",
    "from sklearn.metrics import accuracy_score, precision_score, recall_score, roc_auc_score\n",
    "import torch\n",
    "from sentence_transformers import SentenceTransformer\n",
    "from joblib import dump\n",
    "from openai import OpenAI\n",
    "from tqdm import tqdm\n",
    "from mmd import MMD\n",
    "import re\n",
    "from sklearn.feature_extraction.text import CountVectorizer\n",
    "import tiktoken\n"
   ]
  },
  {
   "cell_type": "markdown",
   "id": "ee5e1e9b",
   "metadata": {},
   "source": [
    "# **Sentence Transformer**"
   ]
  },
  {
   "cell_type": "code",
   "execution_count": 2,
   "id": "581f36c8",
   "metadata": {},
   "outputs": [],
   "source": [
    "sentence_transformer = SentenceTransformer('all-mpnet-base-v2')"
   ]
  },
  {
   "cell_type": "markdown",
   "id": "c4a5336c",
   "metadata": {},
   "source": [
    "# **Data Pre-processing**"
   ]
  },
  {
   "cell_type": "code",
   "execution_count": 3,
   "id": "142a99ea",
   "metadata": {},
   "outputs": [],
   "source": [
    "train_df = pd.read_csv('../data/initial_datasets/reddit/reddit_train.csv')\n",
    "test_df = pd.read_csv('../data/initial_datasets/reddit/reddit_test.csv')"
   ]
  },
  {
   "cell_type": "code",
   "execution_count": 5,
   "id": "df478ae7",
   "metadata": {},
   "outputs": [],
   "source": [
    "train_df = train_df.sample(n=1000)"
   ]
  },
  {
   "cell_type": "markdown",
   "id": "468a7bdb",
   "metadata": {},
   "source": [
    "# **Tokenizer**"
   ]
  },
  {
   "cell_type": "code",
   "execution_count": null,
   "id": "2c233dc2",
   "metadata": {},
   "outputs": [],
   "source": []
  }
 ],
 "metadata": {
  "kernelspec": {
   "display_name": "Python 3",
   "language": "python",
   "name": "python3"
  },
  "language_info": {
   "codemirror_mode": {
    "name": "ipython",
    "version": 3
   },
   "file_extension": ".py",
   "mimetype": "text/x-python",
   "name": "python",
   "nbconvert_exporter": "python",
   "pygments_lexer": "ipython3",
   "version": "3.9.6"
  }
 },
 "nbformat": 4,
 "nbformat_minor": 5
}
