{
 "cells": [
  {
   "cell_type": "code",
   "execution_count": 1,
   "id": "d092b1fe",
   "metadata": {},
   "outputs": [],
   "source": [
    "import sys\n",
    "sys.path.append('../utilities/')"
   ]
  },
  {
   "cell_type": "code",
   "execution_count": 2,
   "id": "84c5549a",
   "metadata": {},
   "outputs": [
    {
     "name": "stderr",
     "output_type": "stream",
     "text": [
      "/Users/pranitgunjal/Library/Python/3.9/lib/python/site-packages/urllib3/__init__.py:35: NotOpenSSLWarning: urllib3 v2 only supports OpenSSL 1.1.1+, currently the 'ssl' module is compiled with 'LibreSSL 2.8.3'. See: https://github.com/urllib3/urllib3/issues/3020\n",
      "  warnings.warn(\n"
     ]
    }
   ],
   "source": [
    "import pandas as pd\n",
    "import numpy as np\n",
    "from sklearn import svm\n",
    "from sklearn.model_selection import train_test_split, GridSearchCV\n",
    "from sklearn.metrics import accuracy_score, precision_score, recall_score, roc_auc_score\n",
    "from sentence_transformers import SentenceTransformer\n",
    "from joblib import dump\n",
    "from openai import OpenAI\n",
    "from tqdm import tqdm\n",
    "from mmd import MMD\n",
    "import torch\n",
    "import json\n",
    "import re"
   ]
  },
  {
   "cell_type": "code",
   "execution_count": null,
   "id": "4aebeb15",
   "metadata": {},
   "outputs": [],
   "source": [
    "import os\n",
    "from dotenv import load_dotenv"
   ]
  },
  {
   "cell_type": "markdown",
   "id": "4ccda6e4",
   "metadata": {},
   "source": [
    "# **Tools Setup**"
   ]
  },
  {
   "cell_type": "code",
   "execution_count": null,
   "id": "66b86be7",
   "metadata": {},
   "outputs": [],
   "source": [
    "load_dotenv()\n",
    "API_KEY = os.getenv(\"OPENAI_API_KEY\")\n",
    "client = OpenAI(api_key=API_KEY)"
   ]
  },
  {
   "cell_type": "code",
   "execution_count": 4,
   "id": "81986803",
   "metadata": {},
   "outputs": [],
   "source": [
    "sentence_transformer = SentenceTransformer('all-mpnet-base-v2')"
   ]
  },
  {
   "cell_type": "markdown",
   "id": "58b7096d",
   "metadata": {},
   "source": [
    "# **DataFrame Reading**"
   ]
  },
  {
   "cell_type": "code",
   "execution_count": 6,
   "id": "0120d5c5",
   "metadata": {},
   "outputs": [],
   "source": [
    "df = pd.read_csv('../data/initial_datasets/reddit_binary_labels.csv')"
   ]
  },
  {
   "cell_type": "code",
   "execution_count": 7,
   "id": "6d475764",
   "metadata": {},
   "outputs": [],
   "source": [
    "sample_df = df.sample(n=1000)"
   ]
  },
  {
   "cell_type": "code",
   "execution_count": 8,
   "id": "a745345c",
   "metadata": {},
   "outputs": [
    {
     "data": {
      "application/vnd.microsoft.datawrangler.viewer.v0+json": {
       "columns": [
        {
         "name": "index",
         "rawType": "int64",
         "type": "integer"
        },
        {
         "name": "text",
         "rawType": "object",
         "type": "string"
        },
        {
         "name": "label",
         "rawType": "int64",
         "type": "integer"
        }
       ],
       "ref": "cb3d1d26-7a6f-4c60-a43e-fcebb1f6352e",
       "rows": [
        [
         "5997",
         "Thank you OP, I love you (no homo if you’re a male).",
         "1"
        ],
        [
         "26923",
         "I’m convinced WB is more of a pain than it’s worth. Good luck making adjustments during the semester. I feel your pain.",
         "1"
        ],
        [
         "29783",
         "Me too. It’s my favorite. His cadence in saying it is so perfect lol.",
         "1"
        ],
        [
         "19077",
         "Ive gone through very similar things...i completely understand. Praying wont do much, seek a therapist to talk about things",
         "-1"
        ],
        [
         "37812",
         "Feels weird when something that wasn't bad but not the best back then is now incredibly overrated.",
         "-1"
        ],
        [
         "5031",
         "Wish they showed us more of their friendship in previous episodes, this drawing is amazing.",
         "1"
        ],
        [
         "35627",
         "You better be praying for me. I'm living in SO MUCH SIN!",
         "1"
        ],
        [
         "12694",
         "He's given them a year and a new budget. Everyone knew this was going to happen.",
         "1"
        ],
        [
         "1841",
         "I’m still sorry you had to go through that. I’m sorry anybody has to experience fear on a daily basis.",
         "-1"
        ],
        [
         "14792",
         "What a waste of money and time",
         "-1"
        ],
        [
         "9570",
         "[NAME] damn I love Coops",
         "1"
        ],
        [
         "39077",
         "What a REPOST! STOP REPOSTING THINGS PEOPLE LITERALLY JUST POSTED.",
         "-1"
        ],
        [
         "5797",
         "I feel you :(",
         "1"
        ],
        [
         "38852",
         "Looking forward to seeing these people have their characters die in sudden and extravagant ways.",
         "1"
        ],
        [
         "10191",
         "Awesome! Welcome aboard! I'm glad your first game was a win!",
         "1"
        ],
        [
         "12892",
         "the dude wanted to watch the talking car show. geez. haha jk. thats freaking creepy",
         "1"
        ],
        [
         "13184",
         "These edits are retarded. Why do people get so giddy for internet points.",
         "-1"
        ],
        [
         "34709",
         "I can't stop staring at \"[NAME]\". ",
         "1"
        ],
        [
         "297",
         "love you comrade! <3 you should get a cool flair too",
         "1"
        ],
        [
         "37071",
         "Yeah, it’s a really similar thing. Some kids love it, some kids are really freaked out. ",
         "1"
        ],
        [
         "18547",
         "It's 3 Calling Cards I believe, and one sticker for getting Flawless. Other than that, no (unless you wanna count bragging rights).",
         "1"
        ],
        [
         "21723",
         "You sound upset.",
         "-1"
        ],
        [
         "877",
         "Grew up watching avatar and [NAME] is one of my favorite video game protagonists, especially when RDR2 came out. ",
         "1"
        ],
        [
         "28939",
         "I liked [NAME] updated “I thought this was a teaching hospital!”",
         "1"
        ],
        [
         "30367",
         "Probably. The internet is a physically threatening place",
         "-1"
        ],
        [
         "20086",
         "[NAME] loves it",
         "1"
        ],
        [
         "31287",
         "Aw, good times, picking off them pesky 'tennas and coyotes! Me too, I'd love that! Thank you for playing, my friend!",
         "1"
        ],
        [
         "32840",
         "you’re acting mad pretentious lol there’s nothing wrong with wanting to live in Cali",
         "-1"
        ],
        [
         "37495",
         "Sad thing is it would probably forcibly ground the plane.",
         "-1"
        ],
        [
         "30199",
         "YEAH, YOU MOTHERFUCKER",
         "-1"
        ],
        [
         "16560",
         "Please don't think the way they're trolling represents us [NAME]. I'm sorry this happened.",
         "-1"
        ],
        [
         "7883",
         "Don't confused sex with gender. Gender identity can't be boiled down to beards and balls.",
         "-1"
        ],
        [
         "2313",
         "It’s pretty clear UBI is not going to actually Make the character interesting. We should stop deluding ourselves.",
         "-1"
        ],
        [
         "856",
         "I feel sorry for her son that must have been super cringe",
         "-1"
        ],
        [
         "16554",
         "That was a very well put together video, entertaining and informative. [NAME] is a national treasure.",
         "1"
        ],
        [
         "27920",
         "Appreciate the update, hope this one is the right one though ! ",
         "1"
        ],
        [
         "22516",
         "Haha yep. Thanks. Fixed it!",
         "1"
        ],
        [
         "27106",
         "I honestly can't imagine [NAME] using any kind of profanity lol",
         "1"
        ],
        [
         "1904",
         "Lmfao i don't know why this is so funny",
         "1"
        ],
        [
         "16956",
         "It's good, good, good, good - good good good!",
         "1"
        ],
        [
         "15797",
         "Yeah I think this is a well rounded pov. Agree.",
         "1"
        ],
        [
         "7098",
         "What an awful last 10 minutes. Can't even make one pass to someone.",
         "-1"
        ],
        [
         "21989",
         "I'll dance with you.",
         "1"
        ],
        [
         "31056",
         "You must be fun at parties.",
         "1"
        ],
        [
         "9197",
         "Its all good until that episode where [NAME] traps the bat on [NAME] head comes on and she screams bloody murder and wakes us up.",
         "-1"
        ],
        [
         "25499",
         "That place must be a gold mine of good stories.",
         "1"
        ],
        [
         "3990",
         "Man hope he recovers fast. Looked really painful",
         "1"
        ],
        [
         "4334",
         "Sorry, What I meant to say was if it had been worded differently it wouldn't have the same effect. ",
         "-1"
        ],
        [
         "15953",
         "Oh, I definitely got muted, too.",
         "-1"
        ],
        [
         "2343",
         "Oh sorry I didn’t realize that journalists weren’t actually autonomous humans that can think for themselves.",
         "-1"
        ]
       ],
       "shape": {
        "columns": 2,
        "rows": 1000
       }
      },
      "text/html": [
       "<div>\n",
       "<style scoped>\n",
       "    .dataframe tbody tr th:only-of-type {\n",
       "        vertical-align: middle;\n",
       "    }\n",
       "\n",
       "    .dataframe tbody tr th {\n",
       "        vertical-align: top;\n",
       "    }\n",
       "\n",
       "    .dataframe thead th {\n",
       "        text-align: right;\n",
       "    }\n",
       "</style>\n",
       "<table border=\"1\" class=\"dataframe\">\n",
       "  <thead>\n",
       "    <tr style=\"text-align: right;\">\n",
       "      <th></th>\n",
       "      <th>text</th>\n",
       "      <th>label</th>\n",
       "    </tr>\n",
       "  </thead>\n",
       "  <tbody>\n",
       "    <tr>\n",
       "      <th>5997</th>\n",
       "      <td>Thank you OP, I love you (no homo if you’re a ...</td>\n",
       "      <td>1</td>\n",
       "    </tr>\n",
       "    <tr>\n",
       "      <th>26923</th>\n",
       "      <td>I’m convinced WB is more of a pain than it’s w...</td>\n",
       "      <td>1</td>\n",
       "    </tr>\n",
       "    <tr>\n",
       "      <th>29783</th>\n",
       "      <td>Me too. It’s my favorite. His cadence in sayin...</td>\n",
       "      <td>1</td>\n",
       "    </tr>\n",
       "    <tr>\n",
       "      <th>19077</th>\n",
       "      <td>Ive gone through very similar things...i compl...</td>\n",
       "      <td>-1</td>\n",
       "    </tr>\n",
       "    <tr>\n",
       "      <th>37812</th>\n",
       "      <td>Feels weird when something that wasn't bad but...</td>\n",
       "      <td>-1</td>\n",
       "    </tr>\n",
       "    <tr>\n",
       "      <th>...</th>\n",
       "      <td>...</td>\n",
       "      <td>...</td>\n",
       "    </tr>\n",
       "    <tr>\n",
       "      <th>36605</th>\n",
       "      <td>Nice man!! Wish you guys the best. Here I am F...</td>\n",
       "      <td>1</td>\n",
       "    </tr>\n",
       "    <tr>\n",
       "      <th>34102</th>\n",
       "      <td>I think I could watch an entire show with just...</td>\n",
       "      <td>1</td>\n",
       "    </tr>\n",
       "    <tr>\n",
       "      <th>22308</th>\n",
       "      <td>The beautiful moment when Fridays and Sundays ...</td>\n",
       "      <td>1</td>\n",
       "    </tr>\n",
       "    <tr>\n",
       "      <th>28812</th>\n",
       "      <td>I only remember her getting flamed by Thooorin...</td>\n",
       "      <td>-1</td>\n",
       "    </tr>\n",
       "    <tr>\n",
       "      <th>5320</th>\n",
       "      <td>Stimulating rebuttal!</td>\n",
       "      <td>1</td>\n",
       "    </tr>\n",
       "  </tbody>\n",
       "</table>\n",
       "<p>1000 rows × 2 columns</p>\n",
       "</div>"
      ],
      "text/plain": [
       "                                                    text  label\n",
       "5997   Thank you OP, I love you (no homo if you’re a ...      1\n",
       "26923  I’m convinced WB is more of a pain than it’s w...      1\n",
       "29783  Me too. It’s my favorite. His cadence in sayin...      1\n",
       "19077  Ive gone through very similar things...i compl...     -1\n",
       "37812  Feels weird when something that wasn't bad but...     -1\n",
       "...                                                  ...    ...\n",
       "36605  Nice man!! Wish you guys the best. Here I am F...      1\n",
       "34102  I think I could watch an entire show with just...      1\n",
       "22308  The beautiful moment when Fridays and Sundays ...      1\n",
       "28812  I only remember her getting flamed by Thooorin...     -1\n",
       "5320                               Stimulating rebuttal!      1\n",
       "\n",
       "[1000 rows x 2 columns]"
      ]
     },
     "execution_count": 8,
     "metadata": {},
     "output_type": "execute_result"
    }
   ],
   "source": [
    "sample_df"
   ]
  },
  {
   "cell_type": "markdown",
   "id": "828e6f79",
   "metadata": {},
   "source": [
    "# **Control Chat Generation**"
   ]
  },
  {
   "cell_type": "code",
   "execution_count": 5,
   "id": "4e66dc45",
   "metadata": {},
   "outputs": [],
   "source": [
    "instruction = (\n",
    "    \"You are a data generator tasked with creating realistic Reddit comments. \"\n",
    "    \"These comments should be labeled according to their sentiment: positive or negative.\\n\"\n",
    "    \"Base the style on typical Reddit comments — include informal internet language, typos, abbreviations, and emojis.\\n\"\n",
    "    \"Use [NAME] as a placeholder anytime a person's name would appear.\\n\"\n",
    "    \"Generate exactly 10 realistic Reddit comments, one per line.\\n\"\n",
    "    \"Each line should follow this format: the comment in double quotes, followed by a space and then the label (1 for positive, -1 for negative).\\n\"\n",
    "    \"No extra formatting — just plain text output, one line per comment.\\n\"\n",
    "    \"Here is the format:\\n\"\n",
    "    \"\\\"I love pizza\\\" 1\\n\"\n",
    "    \"\\\"I hate baseball\\\" -1\"\n",
    ")\n",
    "input = (\n",
    "    \"Generate the 10 new comments below:\"\n",
    ")"
   ]
  },
  {
   "cell_type": "code",
   "execution_count": 16,
   "id": "cfd1dc68",
   "metadata": {},
   "outputs": [],
   "source": [
    "res = []\n",
    "for i in range(50):\n",
    "    response = client.responses.create(\n",
    "        model=\"gpt-4o\",\n",
    "        instructions=instruction,\n",
    "        input=input\n",
    "    )\n",
    "    res.append(response.output_text)"
   ]
  },
  {
   "cell_type": "code",
   "execution_count": 17,
   "id": "c9f8ea00",
   "metadata": {},
   "outputs": [],
   "source": [
    "labels = []\n",
    "sentences = []\n",
    "for i in range(50):\n",
    "    for word in res[i].split(\"\\n\"):\n",
    "        match = re.match(r'\"(.*?)\"\\s*(-?\\d+)', word)\n",
    "        if match:\n",
    "            quoted = match.group(1)      \n",
    "            label = match.group(2)       \n",
    "            sentences.append(quoted)\n",
    "            labels.append(int(label))"
   ]
  },
  {
   "cell_type": "code",
   "execution_count": 18,
   "id": "a9108f36",
   "metadata": {},
   "outputs": [],
   "source": [
    "generated_df = pd.DataFrame({\n",
    "    'sentences': sentences,\n",
    "    'labels': labels\n",
    "})"
   ]
  },
  {
   "cell_type": "code",
   "execution_count": 19,
   "id": "feb6ecd3",
   "metadata": {},
   "outputs": [
    {
     "data": {
      "application/vnd.microsoft.datawrangler.viewer.v0+json": {
       "columns": [
        {
         "name": "index",
         "rawType": "int64",
         "type": "integer"
        },
        {
         "name": "sentences",
         "rawType": "object",
         "type": "string"
        },
        {
         "name": "labels",
         "rawType": "int64",
         "type": "integer"
        }
       ],
       "ref": "056245fa-b446-41b6-96f6-285a0a2d28fb",
       "rows": [
        [
         "0",
         "Wow, this game is freaking amazing! 😍",
         "1"
        ],
        [
         "1",
         "Ugh, can't stand this band anymore, so overrated.",
         "-1"
        ],
        [
         "2",
         "Just got a new puppy and I'm soooo in love 🐶",
         "1"
        ],
        [
         "3",
         "Why do people even like this movie? It's trash.",
         "-1"
        ],
        [
         "4",
         "Had the best day with friends at the park today! ☀️",
         "1"
        ],
        [
         "5",
         "Man, the service at that place was terrible. Never going back.",
         "-1"
        ],
        [
         "6",
         "Just finished a great book, totally recommend it! 📚",
         "1"
        ],
        [
         "7",
         "This update ruined the app...such a letdown.",
         "-1"
        ],
        [
         "8",
         "Finally tried sushi and it was amazing!! 🍣",
         "1"
        ],
        [
         "9",
         "Missed my bus AGAIN. Seriously the worst luck 🙄",
         "-1"
        ],
        [
         "10",
         "I'm so hyped for this game release!! 🤩",
         "1"
        ],
        [
         "11",
         "Ugh, this update totally ruined everything 💀",
         "-1"
        ],
        [
         "12",
         "Just finished the series and omg it was awesome!!",
         "1"
        ],
        [
         "13",
         "Can't believe they fired [NAME], this sucks 😡",
         "-1"
        ],
        [
         "14",
         "LOL, this meme made my day 😂",
         "1"
        ],
        [
         "15",
         "Was expecting more, but it was kinda boring tbh",
         "-1"
        ],
        [
         "16",
         "Finally hit my fitness goal, feeling amazing! 💪",
         "1"
        ],
        [
         "17",
         "Why does this always happen to me... so unfair 😩",
         "-1"
        ],
        [
         "18",
         "Stoked about the vacation plans! 🌴",
         "1"
        ],
        [
         "19",
         "Seriously tho, customer service was useless 😒",
         "-1"
        ],
        [
         "20",
         "Just got a new job and I'm sooo hyped!!! 🎉",
         "1"
        ],
        [
         "21",
         "This update totally ruined the app 😡",
         "-1"
        ],
        [
         "22",
         "Can't believe I passed that exam, feelin' pumped! 😎",
         "1"
        ],
        [
         "23",
         "Ugh, I can't stand when people drive like that 🤦‍♂️",
         "-1"
        ],
        [
         "24",
         "Got a compliment on my outfit today, made my day! 😊",
         "1"
        ],
        [
         "25",
         "Why is the wifi always trash when I need it most...ugh",
         "-1"
        ],
        [
         "26",
         "Had an awesome workout, feelin' great! 💪",
         "1"
        ],
        [
         "27",
         "Seriously tho, this traffic is the WORST 🚗💢",
         "-1"
        ],
        [
         "28",
         "Found $20 in an old coat, best surprise ever! 😁",
         "1"
        ],
        [
         "29",
         "Another delay at the airport, just my luck 😒",
         "-1"
        ],
        [
         "30",
         "Totally hooked on this new show! 🎉",
         "1"
        ],
        [
         "31",
         "This update ruined the whole game, ugh.",
         "-1"
        ],
        [
         "32",
         "[NAME]'s latest album is pure 🔥",
         "1"
        ],
        [
         "33",
         "Can't believe how much this place has gone downhill. 😢",
         "-1"
        ],
        [
         "34",
         "Weekend plans are gonna be epic!! 🚀",
         "1"
        ],
        [
         "35",
         "Wish they'd stop changing stuff that ain't broken.",
         "-1"
        ],
        [
         "36",
         "I'm soo proud of [NAME], they nailed it! 👏",
         "1"
        ],
        [
         "37",
         "Service was awful, not going back there again.",
         "-1"
        ],
        [
         "38",
         "Just got my exam results, and I passed!! 🎉😄",
         "1"
        ],
        [
         "39",
         "Why is everything so expensive now?? 😠",
         "-1"
        ],
        [
         "40",
         "I'm so hyped for the new season of the show!! 🥳",
         "1"
        ],
        [
         "41",
         "I just can't stand how slow this game is 😒",
         "-1"
        ],
        [
         "42",
         "Wow, that was such a helpful tip, thx!!",
         "1"
        ],
        [
         "43",
         "Ugh, another update that's broken everything again 🙄",
         "-1"
        ],
        [
         "44",
         "Can't believe how beautiful the sunset is tonight 😍",
         "1"
        ],
        [
         "45",
         "Why is this service always down when I need it?! 🤦‍♂️",
         "-1"
        ],
        [
         "46",
         "Got tickets to my fav band, can't wait!! 🎶",
         "1"
        ],
        [
         "47",
         "This is the worst design I've ever seen 🤔",
         "-1"
        ],
        [
         "48",
         "Haha, that meme made my day 😂",
         "1"
        ],
        [
         "49",
         "Really tired of all the negativity here... smh",
         "-1"
        ]
       ],
       "shape": {
        "columns": 2,
        "rows": 500
       }
      },
      "text/html": [
       "<div>\n",
       "<style scoped>\n",
       "    .dataframe tbody tr th:only-of-type {\n",
       "        vertical-align: middle;\n",
       "    }\n",
       "\n",
       "    .dataframe tbody tr th {\n",
       "        vertical-align: top;\n",
       "    }\n",
       "\n",
       "    .dataframe thead th {\n",
       "        text-align: right;\n",
       "    }\n",
       "</style>\n",
       "<table border=\"1\" class=\"dataframe\">\n",
       "  <thead>\n",
       "    <tr style=\"text-align: right;\">\n",
       "      <th></th>\n",
       "      <th>sentences</th>\n",
       "      <th>labels</th>\n",
       "    </tr>\n",
       "  </thead>\n",
       "  <tbody>\n",
       "    <tr>\n",
       "      <th>0</th>\n",
       "      <td>Wow, this game is freaking amazing! 😍</td>\n",
       "      <td>1</td>\n",
       "    </tr>\n",
       "    <tr>\n",
       "      <th>1</th>\n",
       "      <td>Ugh, can't stand this band anymore, so overrated.</td>\n",
       "      <td>-1</td>\n",
       "    </tr>\n",
       "    <tr>\n",
       "      <th>2</th>\n",
       "      <td>Just got a new puppy and I'm soooo in love 🐶</td>\n",
       "      <td>1</td>\n",
       "    </tr>\n",
       "    <tr>\n",
       "      <th>3</th>\n",
       "      <td>Why do people even like this movie? It's trash.</td>\n",
       "      <td>-1</td>\n",
       "    </tr>\n",
       "    <tr>\n",
       "      <th>4</th>\n",
       "      <td>Had the best day with friends at the park toda...</td>\n",
       "      <td>1</td>\n",
       "    </tr>\n",
       "    <tr>\n",
       "      <th>...</th>\n",
       "      <td>...</td>\n",
       "      <td>...</td>\n",
       "    </tr>\n",
       "    <tr>\n",
       "      <th>495</th>\n",
       "      <td>Honestly, this movie was a huge letdown 🤦‍♂️</td>\n",
       "      <td>-1</td>\n",
       "    </tr>\n",
       "    <tr>\n",
       "      <th>496</th>\n",
       "      <td>Found the cutest puppy today, made my year! 🐶</td>\n",
       "      <td>1</td>\n",
       "    </tr>\n",
       "    <tr>\n",
       "      <th>497</th>\n",
       "      <td>Service at this restaurant was awful 👎</td>\n",
       "      <td>-1</td>\n",
       "    </tr>\n",
       "    <tr>\n",
       "      <th>498</th>\n",
       "      <td>This book is an absolute masterpiece 📚</td>\n",
       "      <td>1</td>\n",
       "    </tr>\n",
       "    <tr>\n",
       "      <th>499</th>\n",
       "      <td>Hate it when my internet keeps cutting out 😤</td>\n",
       "      <td>-1</td>\n",
       "    </tr>\n",
       "  </tbody>\n",
       "</table>\n",
       "<p>500 rows × 2 columns</p>\n",
       "</div>"
      ],
      "text/plain": [
       "                                             sentences  labels\n",
       "0                Wow, this game is freaking amazing! 😍       1\n",
       "1    Ugh, can't stand this band anymore, so overrated.      -1\n",
       "2         Just got a new puppy and I'm soooo in love 🐶       1\n",
       "3      Why do people even like this movie? It's trash.      -1\n",
       "4    Had the best day with friends at the park toda...       1\n",
       "..                                                 ...     ...\n",
       "495       Honestly, this movie was a huge letdown 🤦‍♂️      -1\n",
       "496      Found the cutest puppy today, made my year! 🐶       1\n",
       "497             Service at this restaurant was awful 👎      -1\n",
       "498             This book is an absolute masterpiece 📚       1\n",
       "499       Hate it when my internet keeps cutting out 😤      -1\n",
       "\n",
       "[500 rows x 2 columns]"
      ]
     },
     "execution_count": 19,
     "metadata": {},
     "output_type": "execute_result"
    }
   ],
   "source": [
    "generated_df"
   ]
  }
 ],
 "metadata": {
  "kernelspec": {
   "display_name": "Python 3",
   "language": "python",
   "name": "python3"
  },
  "language_info": {
   "codemirror_mode": {
    "name": "ipython",
    "version": 3
   },
   "file_extension": ".py",
   "mimetype": "text/x-python",
   "name": "python",
   "nbconvert_exporter": "python",
   "pygments_lexer": "ipython3",
   "version": "3.9.6"
  }
 },
 "nbformat": 4,
 "nbformat_minor": 5
}
