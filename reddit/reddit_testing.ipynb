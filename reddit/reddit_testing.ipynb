{
 "cells": [
  {
   "cell_type": "code",
   "execution_count": 4,
   "id": "92e37274",
   "metadata": {},
   "outputs": [],
   "source": [
    "from sklearn.feature_extraction.text import CountVectorizer"
   ]
  },
  {
   "cell_type": "code",
   "execution_count": 2,
   "id": "d9935b5f",
   "metadata": {},
   "outputs": [],
   "source": [
    "import sys\n",
    "sys.path.append('../utilities/')"
   ]
  },
  {
   "cell_type": "code",
   "execution_count": 3,
   "id": "0afd1305",
   "metadata": {},
   "outputs": [],
   "source": [
    "import pandas as pd\n",
    "import numpy as np\n",
    "from sklearn import svm\n",
    "from sklearn.model_selection import train_test_split, GridSearchCV\n",
    "from sklearn.metrics import accuracy_score, precision_score, recall_score, roc_auc_score\n",
    "from sentence_transformers import SentenceTransformer\n",
    "from joblib import dump\n",
    "from openai import OpenAI\n",
    "from tqdm import tqdm\n",
    "from mmd import MMD\n",
    "import torch\n",
    "import re"
   ]
  },
  {
   "cell_type": "markdown",
   "id": "a1657923",
   "metadata": {},
   "source": [
    "# **Sentence Transfromer**"
   ]
  },
  {
   "cell_type": "code",
   "execution_count": 25,
   "id": "6a0537c3",
   "metadata": {},
   "outputs": [],
   "source": [
    "sentence_transformer = SentenceTransformer('all-mpnet-base-v2')"
   ]
  },
  {
   "cell_type": "markdown",
   "id": "fa77e154",
   "metadata": {},
   "source": [
    "# **Reading Data**"
   ]
  },
  {
   "cell_type": "code",
   "execution_count": 5,
   "id": "3c6831eb",
   "metadata": {},
   "outputs": [],
   "source": [
    "df = pd.read_csv('../data/generated/reddit/privacy_protected/reddit_agg_stats_gen.csv')"
   ]
  },
  {
   "cell_type": "code",
   "execution_count": 13,
   "id": "656e871b",
   "metadata": {},
   "outputs": [
    {
     "data": {
      "application/vnd.microsoft.datawrangler.viewer.v0+json": {
       "columns": [
        {
         "name": "index",
         "rawType": "int64",
         "type": "integer"
        },
        {
         "name": "sentences",
         "rawType": "object",
         "type": "string"
        },
        {
         "name": "labels",
         "rawType": "int64",
         "type": "integer"
        }
       ],
       "ref": "910e178c-97a2-4ecb-adb9-35b54858945d",
       "rows": [
        [
         "0",
         "I'm so happy for [NAME], they really deserve the promotion! 🎉",
         "1"
        ],
        [
         "1",
         "Had the worst experience at the restaurant yesterday, not going back. 😒",
         "-1"
        ],
        [
         "2",
         "Can't believe how awesome the concert was last night, still buzzing! 🎶",
         "1"
        ],
        [
         "3",
         "[NAME] really messed up this time, can't trust them anymore. 🙄",
         "-1"
        ],
        [
         "4",
         "Just finished the book you recommended, it was amazing, thank you!",
         "1"
        ],
        [
         "5",
         "Their service was terrible, waited over an hour for cold food. 😠",
         "-1"
        ],
        [
         "6",
         "Honestly, that movie blew my mind, can't stop thinking about it.",
         "1"
        ],
        [
         "7",
         "I don't understand why people hype that game, it's so boring.",
         "-1"
        ],
        [
         "8",
         "Finally met [NAME] today and they were just as cool IRL!",
         "1"
        ],
        [
         "9",
         "That meeting was a waste of time, could have been an email. 🙄",
         "-1"
        ],
        [
         "10",
         "Did anyone else see the new episode? It was amazing! 🤘",
         "1"
        ],
        [
         "11",
         "I really don't like the way they handled that scene.",
         "-1"
        ],
        [
         "12",
         "Honestly, this is the best community I've been part of! 😄",
         "1"
        ],
        [
         "13",
         "Why is everyone so obsessed with that game? It's overrated.",
         "-1"
        ],
        [
         "14",
         "The food there is absolutely fantastic, you gotta try it.",
         "1"
        ],
        [
         "15",
         "I'm not a fan of how they redesigned the interface, it looks messy.",
         "-1"
        ],
        [
         "16",
         "Thanks to everyone for the help, you're all awesome! ❤️",
         "1"
        ],
        [
         "17",
         "Ugh, the movie was such a letdown, I was bored.",
         "-1"
        ],
        [
         "18",
         "Had the best time with [NAME] today, can't wait to do it again!",
         "1"
        ],
        [
         "19",
         "I was really disappointed when my order got messed up.",
         "-1"
        ],
        [
         "20",
         "I'm so excited for the movie tonight! 🎥",
         "1"
        ],
        [
         "21",
         "Idk why ppl love that game, it's so boring 😒",
         "-1"
        ],
        [
         "22",
         "This is honestly the best cake I've ever had, love it! 🍰",
         "1"
        ],
        [
         "23",
         "The update on my phone just made everything worse ugh",
         "-1"
        ],
        [
         "24",
         "I met [NAME] last week and they were super nice to me!",
         "1"
        ],
        [
         "25",
         "Not gonna lie, the service at that restaurant was terrible",
         "-1"
        ],
        [
         "26",
         "Really happy with how the project turned out, great team effort!",
         "1"
        ],
        [
         "27",
         "Why is it so hard to find a good pizza place in this city? 😑",
         "-1"
        ],
        [
         "28",
         "Finally got my promotion and I'm over the moon right now! 🌟",
         "1"
        ],
        [
         "29",
         "Ugh, another delay on my order. This is getting ridiculous",
         "-1"
        ],
        [
         "30",
         "I'm just sayin, this is the most awesome thing ever!!! 😍",
         "1"
        ],
        [
         "31",
         "Ugh, the service was terrible and the food was cold. Never again. 😡",
         "-1"
        ],
        [
         "32",
         "Wow, what an amazing game! The energy in the stadium was unreal!",
         "1"
        ],
        [
         "33",
         "I can't believe they canceled the show. It was the best part of my week. 😢",
         "-1"
        ],
        [
         "34",
         "Just got back from vacation, and it was honestly the best time of my life!",
         "1"
        ],
        [
         "35",
         "The app is so buggy, I can't even use it without crashing every time.",
         "-1"
        ],
        [
         "36",
         "Amazing concert last night! [NAME] was on fire! 🎸",
         "1"
        ],
        [
         "37",
         "Seriously, why does this always happen to me? I'm done with it. 😤",
         "-1"
        ],
        [
         "38",
         "Love how friendly everyone was at the event! Can't wait for next year!",
         "1"
        ],
        [
         "39",
         "The update ruined everything I liked about the game. It's not fun anymore.",
         "-1"
        ],
        [
         "40",
         "I'm really excited about the new game release, hope it's as good as they say! 😄",
         "1"
        ],
        [
         "41",
         "Ugh, I can't believe how slow the service was today. Just the worst.",
         "-1"
        ],
        [
         "42",
         "Just finished watching the movie, and wow, it was amazing! Highly recommend it.",
         "1"
        ],
        [
         "43",
         "I don't get why people like that show. It's so boring imo.",
         "-1"
        ],
        [
         "44",
         "It's awesome how supportive this community is. Really appreciate you guys!",
         "1"
        ],
        [
         "45",
         "Did you see that episode last night? It was terrible and so disappointing.",
         "-1"
        ],
        [
         "46",
         "Finally tried that new restaurant, and oh my, the food was delicious!",
         "1"
        ],
        [
         "47",
         "I was hoping for a better outcome, but it was a total letdown.",
         "-1"
        ],
        [
         "48",
         "Thank you all for the advice, it actually worked out perfectly for me!",
         "1"
        ],
        [
         "49",
         "Why does this app always have glitches? It's super frustrating.",
         "-1"
        ]
       ],
       "shape": {
        "columns": 2,
        "rows": 1000
       }
      },
      "text/html": [
       "<div>\n",
       "<style scoped>\n",
       "    .dataframe tbody tr th:only-of-type {\n",
       "        vertical-align: middle;\n",
       "    }\n",
       "\n",
       "    .dataframe tbody tr th {\n",
       "        vertical-align: top;\n",
       "    }\n",
       "\n",
       "    .dataframe thead th {\n",
       "        text-align: right;\n",
       "    }\n",
       "</style>\n",
       "<table border=\"1\" class=\"dataframe\">\n",
       "  <thead>\n",
       "    <tr style=\"text-align: right;\">\n",
       "      <th></th>\n",
       "      <th>sentences</th>\n",
       "      <th>labels</th>\n",
       "    </tr>\n",
       "  </thead>\n",
       "  <tbody>\n",
       "    <tr>\n",
       "      <th>0</th>\n",
       "      <td>I'm so happy for [NAME], they really deserve t...</td>\n",
       "      <td>1</td>\n",
       "    </tr>\n",
       "    <tr>\n",
       "      <th>1</th>\n",
       "      <td>Had the worst experience at the restaurant yes...</td>\n",
       "      <td>-1</td>\n",
       "    </tr>\n",
       "    <tr>\n",
       "      <th>2</th>\n",
       "      <td>Can't believe how awesome the concert was last...</td>\n",
       "      <td>1</td>\n",
       "    </tr>\n",
       "    <tr>\n",
       "      <th>3</th>\n",
       "      <td>[NAME] really messed up this time, can't trust...</td>\n",
       "      <td>-1</td>\n",
       "    </tr>\n",
       "    <tr>\n",
       "      <th>4</th>\n",
       "      <td>Just finished the book you recommended, it was...</td>\n",
       "      <td>1</td>\n",
       "    </tr>\n",
       "    <tr>\n",
       "      <th>...</th>\n",
       "      <td>...</td>\n",
       "      <td>...</td>\n",
       "    </tr>\n",
       "    <tr>\n",
       "      <th>495</th>\n",
       "      <td>Can't believe how bad the food was at that pla...</td>\n",
       "      <td>-1</td>\n",
       "    </tr>\n",
       "    <tr>\n",
       "      <th>496</th>\n",
       "      <td>Got to see my favorite band live, still buzzing!</td>\n",
       "      <td>1</td>\n",
       "    </tr>\n",
       "    <tr>\n",
       "      <th>497</th>\n",
       "      <td>I've had enough of the service there, it's alw...</td>\n",
       "      <td>-1</td>\n",
       "    </tr>\n",
       "    <tr>\n",
       "      <th>498</th>\n",
       "      <td>Just finished the series and OMG, loved every ...</td>\n",
       "      <td>1</td>\n",
       "    </tr>\n",
       "    <tr>\n",
       "      <th>499</th>\n",
       "      <td>I wasted my time on this movie, it was just bo...</td>\n",
       "      <td>-1</td>\n",
       "    </tr>\n",
       "  </tbody>\n",
       "</table>\n",
       "<p>1000 rows × 2 columns</p>\n",
       "</div>"
      ],
      "text/plain": [
       "                                             sentences  labels\n",
       "0    I'm so happy for [NAME], they really deserve t...       1\n",
       "1    Had the worst experience at the restaurant yes...      -1\n",
       "2    Can't believe how awesome the concert was last...       1\n",
       "3    [NAME] really messed up this time, can't trust...      -1\n",
       "4    Just finished the book you recommended, it was...       1\n",
       "..                                                 ...     ...\n",
       "495  Can't believe how bad the food was at that pla...      -1\n",
       "496   Got to see my favorite band live, still buzzing!       1\n",
       "497  I've had enough of the service there, it's alw...      -1\n",
       "498  Just finished the series and OMG, loved every ...       1\n",
       "499  I wasted my time on this movie, it was just bo...      -1\n",
       "\n",
       "[1000 rows x 2 columns]"
      ]
     },
     "execution_count": 13,
     "metadata": {},
     "output_type": "execute_result"
    }
   ],
   "source": [
    "df"
   ]
  },
  {
   "cell_type": "code",
   "execution_count": 14,
   "id": "40fa2198",
   "metadata": {},
   "outputs": [],
   "source": [
    "gen_df = df"
   ]
  },
  {
   "cell_type": "code",
   "execution_count": 99,
   "id": "8470027d",
   "metadata": {},
   "outputs": [],
   "source": [
    "orig_df = pd.read_csv('../data/initial_datasets/reddit_binary_labels.csv')\n",
    "orig_df = orig_df.sample(n=1000)\n",
    "orig_df.reset_index(drop=True, inplace=True)\n",
    "orig_df.rename(columns={'text': 'sentences', 'label': 'labels'}, inplace=True)"
   ]
  },
  {
   "cell_type": "markdown",
   "id": "dbd49f87",
   "metadata": {},
   "source": [
    "# **Classification**"
   ]
  },
  {
   "cell_type": "markdown",
   "id": "3a5304ce",
   "metadata": {},
   "source": [
    "## **Preparing Only Synthetic Model**"
   ]
  },
  {
   "cell_type": "code",
   "execution_count": 18,
   "id": "6fab51b7",
   "metadata": {},
   "outputs": [
    {
     "data": {
      "application/vnd.microsoft.datawrangler.viewer.v0+json": {
       "columns": [
        {
         "name": "index",
         "rawType": "int64",
         "type": "integer"
        },
        {
         "name": "sentences",
         "rawType": "object",
         "type": "string"
        },
        {
         "name": "labels",
         "rawType": "int64",
         "type": "integer"
        }
       ],
       "ref": "969c5c13-a7de-4132-9111-e91ca8fb310d",
       "rows": [
        [
         "0",
         "I'm so happy for [NAME], they really deserve the promotion! 🎉",
         "1"
        ],
        [
         "1",
         "Had the worst experience at the restaurant yesterday, not going back. 😒",
         "-1"
        ],
        [
         "2",
         "Can't believe how awesome the concert was last night, still buzzing! 🎶",
         "1"
        ],
        [
         "3",
         "[NAME] really messed up this time, can't trust them anymore. 🙄",
         "-1"
        ],
        [
         "4",
         "Just finished the book you recommended, it was amazing, thank you!",
         "1"
        ],
        [
         "5",
         "Their service was terrible, waited over an hour for cold food. 😠",
         "-1"
        ],
        [
         "6",
         "Honestly, that movie blew my mind, can't stop thinking about it.",
         "1"
        ],
        [
         "7",
         "I don't understand why people hype that game, it's so boring.",
         "-1"
        ],
        [
         "8",
         "Finally met [NAME] today and they were just as cool IRL!",
         "1"
        ],
        [
         "9",
         "That meeting was a waste of time, could have been an email. 🙄",
         "-1"
        ],
        [
         "10",
         "Did anyone else see the new episode? It was amazing! 🤘",
         "1"
        ],
        [
         "11",
         "I really don't like the way they handled that scene.",
         "-1"
        ],
        [
         "12",
         "Honestly, this is the best community I've been part of! 😄",
         "1"
        ],
        [
         "13",
         "Why is everyone so obsessed with that game? It's overrated.",
         "-1"
        ],
        [
         "14",
         "The food there is absolutely fantastic, you gotta try it.",
         "1"
        ],
        [
         "15",
         "I'm not a fan of how they redesigned the interface, it looks messy.",
         "-1"
        ],
        [
         "16",
         "Thanks to everyone for the help, you're all awesome! ❤️",
         "1"
        ],
        [
         "17",
         "Ugh, the movie was such a letdown, I was bored.",
         "-1"
        ],
        [
         "18",
         "Had the best time with [NAME] today, can't wait to do it again!",
         "1"
        ],
        [
         "19",
         "I was really disappointed when my order got messed up.",
         "-1"
        ],
        [
         "20",
         "I'm so excited for the movie tonight! 🎥",
         "1"
        ],
        [
         "21",
         "Idk why ppl love that game, it's so boring 😒",
         "-1"
        ],
        [
         "22",
         "This is honestly the best cake I've ever had, love it! 🍰",
         "1"
        ],
        [
         "23",
         "The update on my phone just made everything worse ugh",
         "-1"
        ],
        [
         "24",
         "I met [NAME] last week and they were super nice to me!",
         "1"
        ],
        [
         "25",
         "Not gonna lie, the service at that restaurant was terrible",
         "-1"
        ],
        [
         "26",
         "Really happy with how the project turned out, great team effort!",
         "1"
        ],
        [
         "27",
         "Why is it so hard to find a good pizza place in this city? 😑",
         "-1"
        ],
        [
         "28",
         "Finally got my promotion and I'm over the moon right now! 🌟",
         "1"
        ],
        [
         "29",
         "Ugh, another delay on my order. This is getting ridiculous",
         "-1"
        ],
        [
         "30",
         "I'm just sayin, this is the most awesome thing ever!!! 😍",
         "1"
        ],
        [
         "31",
         "Ugh, the service was terrible and the food was cold. Never again. 😡",
         "-1"
        ],
        [
         "32",
         "Wow, what an amazing game! The energy in the stadium was unreal!",
         "1"
        ],
        [
         "33",
         "I can't believe they canceled the show. It was the best part of my week. 😢",
         "-1"
        ],
        [
         "34",
         "Just got back from vacation, and it was honestly the best time of my life!",
         "1"
        ],
        [
         "35",
         "The app is so buggy, I can't even use it without crashing every time.",
         "-1"
        ],
        [
         "36",
         "Amazing concert last night! [NAME] was on fire! 🎸",
         "1"
        ],
        [
         "37",
         "Seriously, why does this always happen to me? I'm done with it. 😤",
         "-1"
        ],
        [
         "38",
         "Love how friendly everyone was at the event! Can't wait for next year!",
         "1"
        ],
        [
         "39",
         "The update ruined everything I liked about the game. It's not fun anymore.",
         "-1"
        ],
        [
         "40",
         "I'm really excited about the new game release, hope it's as good as they say! 😄",
         "1"
        ],
        [
         "41",
         "Ugh, I can't believe how slow the service was today. Just the worst.",
         "-1"
        ],
        [
         "42",
         "Just finished watching the movie, and wow, it was amazing! Highly recommend it.",
         "1"
        ],
        [
         "43",
         "I don't get why people like that show. It's so boring imo.",
         "-1"
        ],
        [
         "44",
         "It's awesome how supportive this community is. Really appreciate you guys!",
         "1"
        ],
        [
         "45",
         "Did you see that episode last night? It was terrible and so disappointing.",
         "-1"
        ],
        [
         "46",
         "Finally tried that new restaurant, and oh my, the food was delicious!",
         "1"
        ],
        [
         "47",
         "I was hoping for a better outcome, but it was a total letdown.",
         "-1"
        ],
        [
         "48",
         "Thank you all for the advice, it actually worked out perfectly for me!",
         "1"
        ],
        [
         "49",
         "Why does this app always have glitches? It's super frustrating.",
         "-1"
        ]
       ],
       "shape": {
        "columns": 2,
        "rows": 1000
       }
      },
      "text/html": [
       "<div>\n",
       "<style scoped>\n",
       "    .dataframe tbody tr th:only-of-type {\n",
       "        vertical-align: middle;\n",
       "    }\n",
       "\n",
       "    .dataframe tbody tr th {\n",
       "        vertical-align: top;\n",
       "    }\n",
       "\n",
       "    .dataframe thead th {\n",
       "        text-align: right;\n",
       "    }\n",
       "</style>\n",
       "<table border=\"1\" class=\"dataframe\">\n",
       "  <thead>\n",
       "    <tr style=\"text-align: right;\">\n",
       "      <th></th>\n",
       "      <th>sentences</th>\n",
       "      <th>labels</th>\n",
       "    </tr>\n",
       "  </thead>\n",
       "  <tbody>\n",
       "    <tr>\n",
       "      <th>0</th>\n",
       "      <td>I'm so happy for [NAME], they really deserve t...</td>\n",
       "      <td>1</td>\n",
       "    </tr>\n",
       "    <tr>\n",
       "      <th>1</th>\n",
       "      <td>Had the worst experience at the restaurant yes...</td>\n",
       "      <td>-1</td>\n",
       "    </tr>\n",
       "    <tr>\n",
       "      <th>2</th>\n",
       "      <td>Can't believe how awesome the concert was last...</td>\n",
       "      <td>1</td>\n",
       "    </tr>\n",
       "    <tr>\n",
       "      <th>3</th>\n",
       "      <td>[NAME] really messed up this time, can't trust...</td>\n",
       "      <td>-1</td>\n",
       "    </tr>\n",
       "    <tr>\n",
       "      <th>4</th>\n",
       "      <td>Just finished the book you recommended, it was...</td>\n",
       "      <td>1</td>\n",
       "    </tr>\n",
       "    <tr>\n",
       "      <th>...</th>\n",
       "      <td>...</td>\n",
       "      <td>...</td>\n",
       "    </tr>\n",
       "    <tr>\n",
       "      <th>495</th>\n",
       "      <td>Can't believe how bad the food was at that pla...</td>\n",
       "      <td>-1</td>\n",
       "    </tr>\n",
       "    <tr>\n",
       "      <th>496</th>\n",
       "      <td>Got to see my favorite band live, still buzzing!</td>\n",
       "      <td>1</td>\n",
       "    </tr>\n",
       "    <tr>\n",
       "      <th>497</th>\n",
       "      <td>I've had enough of the service there, it's alw...</td>\n",
       "      <td>-1</td>\n",
       "    </tr>\n",
       "    <tr>\n",
       "      <th>498</th>\n",
       "      <td>Just finished the series and OMG, loved every ...</td>\n",
       "      <td>1</td>\n",
       "    </tr>\n",
       "    <tr>\n",
       "      <th>499</th>\n",
       "      <td>I wasted my time on this movie, it was just bo...</td>\n",
       "      <td>-1</td>\n",
       "    </tr>\n",
       "  </tbody>\n",
       "</table>\n",
       "<p>1000 rows × 2 columns</p>\n",
       "</div>"
      ],
      "text/plain": [
       "                                             sentences  labels\n",
       "0    I'm so happy for [NAME], they really deserve t...       1\n",
       "1    Had the worst experience at the restaurant yes...      -1\n",
       "2    Can't believe how awesome the concert was last...       1\n",
       "3    [NAME] really messed up this time, can't trust...      -1\n",
       "4    Just finished the book you recommended, it was...       1\n",
       "..                                                 ...     ...\n",
       "495  Can't believe how bad the food was at that pla...      -1\n",
       "496   Got to see my favorite band live, still buzzing!       1\n",
       "497  I've had enough of the service there, it's alw...      -1\n",
       "498  Just finished the series and OMG, loved every ...       1\n",
       "499  I wasted my time on this movie, it was just bo...      -1\n",
       "\n",
       "[1000 rows x 2 columns]"
      ]
     },
     "execution_count": 18,
     "metadata": {},
     "output_type": "execute_result"
    }
   ],
   "source": [
    "gen_df"
   ]
  },
  {
   "cell_type": "code",
   "execution_count": 23,
   "id": "64568056",
   "metadata": {},
   "outputs": [
    {
     "data": {
      "application/vnd.microsoft.datawrangler.viewer.v0+json": {
       "columns": [
        {
         "name": "index",
         "rawType": "int64",
         "type": "integer"
        },
        {
         "name": "text",
         "rawType": "object",
         "type": "string"
        },
        {
         "name": "label",
         "rawType": "int64",
         "type": "integer"
        }
       ],
       "ref": "fc3fa8e4-bccc-49f0-867d-395b62f126ad",
       "rows": [
        [
         "0",
         "Uhhhh, existed... Ever been to Arkansas? It’s boring as fuck.",
         "-1"
        ],
        [
         "1",
         "Honestly rams are my second NFC team. I wanted you to win it all since the beginning of the playoffs and I love the team even more now",
         "1"
        ],
        [
         "2",
         "Ah. So cardboard. Haha",
         "1"
        ],
        [
         "3",
         "Oh to find someone who loves you enough to put a blanket over you when you’re sleepy. That’s the dream.",
         "1"
        ],
        [
         "4",
         "I can’t wait",
         "-1"
        ],
        [
         "5",
         "Hey I just reposted this without reading it dont blame me for it putting boy friend",
         "-1"
        ],
        [
         "6",
         "Love pasta. Not a fan of cosmos. I’ll take an aperol spritz though 😍",
         "1"
        ],
        [
         "7",
         "My first messages from women are either \"hi\" \"hello\" or \"psst.\" Yeah I'm not wasting my time.",
         "1"
        ],
        [
         "8",
         "I'd love for someone to pay a little attention to me",
         "1"
        ],
        [
         "9",
         "Texas, I'm really just mad at myself for not double checking. But now I have a year to find something better",
         "-1"
        ],
        [
         "10",
         "A 70’s Pontiac bonneville , it was a huge boat.",
         "1"
        ],
        [
         "11",
         "Wait did he actually do this? Seems like it would be insanely disrespectful to you fellow craftsmen.",
         "-1"
        ],
        [
         "12",
         "Posts like this depress me severely. I pray to [NAME] my kids don't live with me until they are almost 30.",
         "1"
        ],
        [
         "13",
         "😂 thanks. I like yours!! Makes me think of yoga retreats but like in the best way possible",
         "1"
        ],
        [
         "14",
         "Damn. Moving like that in those heels is impressive.",
         "1"
        ],
        [
         "15",
         "It’s also dangerous to be riding a motorcycle waiting behind a stationary car if another car isn’t paying attention and slams into you.",
         "-1"
        ],
        [
         "16",
         "Journalists not writing the headlines remains one of the most frustrating aspects of print media on digital platforms.",
         "-1"
        ],
        [
         "17",
         "Wow that’s scary, she’s so young and healthy. I hate that. ",
         "-1"
        ],
        [
         "18",
         "Nice. I'll look around for it. Thanks!",
         "1"
        ],
        [
         "19",
         "I've come to the conclusion that TMoR's Snoo needs to be more orange.",
         "1"
        ],
        [
         "20",
         "Thank god I'm not dating anymore. I wouldn't want to risk some girl I'm trying to bang seeing my reddit history.",
         "1"
        ],
        [
         "21",
         "More like [NAME]. ",
         "1"
        ],
        [
         "22",
         "My only criticism is xhaka, too slow on and off the ball.",
         "-1"
        ],
        [
         "23",
         "Say it with me! S! A! T! I! R! E! What does that spell? SATIRE!!!",
         "1"
        ],
        [
         "24",
         "Good news. Good for you buddy. Hope all of us get back our money soon :-)",
         "1"
        ],
        [
         "25",
         "Seattle has both, and is building a huge extension to the existing light rail system. Traffic is still absolutely fucked.",
         "-1"
        ],
        [
         "26",
         "Great reply as usual",
         "1"
        ],
        [
         "27",
         "That level 20 purifier upgrade can get so juicy.... i love artanis",
         "1"
        ],
        [
         "28",
         "Your welcome and I know what you mean. Whenever I feel sad, our dogs would come to me and they would either lick or lie with me. ",
         "1"
        ],
        [
         "29",
         "Omg yes!",
         "1"
        ],
        [
         "30",
         "I’m more worried about the dude getting pissed all over my shoes",
         "-1"
        ],
        [
         "31",
         "Which totally makes it less funny for a person like me who has never seen this before, and laughed. ",
         "1"
        ],
        [
         "32",
         "Happy Birthday!",
         "1"
        ],
        [
         "33",
         "What did you use to kill them all? Sorry I’m kinda a noob",
         "-1"
        ],
        [
         "34",
         "I like how this story's problem is literally the opposite of the next oldest post on this subreddit",
         "1"
        ],
        [
         "35",
         "It's the universe trying to kill us with radiation :D",
         "-1"
        ],
        [
         "36",
         "Pressure 7 targets/10 targets, popcorn, any tracking, and any tile frenzy because I enjoy trying to beat my highscore",
         "1"
        ],
        [
         "37",
         "Thanks for sharing.",
         "1"
        ],
        [
         "38",
         "SUBSCRIBE TO PEWDIEPIE OR I WILL HACK YOUR REDDIT ACCOUNT!!!!!!",
         "-1"
        ],
        [
         "39",
         "I've had such bad memories, I remember when I remember bad times now! Haha",
         "-1"
        ],
        [
         "40",
         "That fascist bigot!",
         "-1"
        ],
        [
         "41",
         "I love working with people but sometimes I really hate people. 🤷🤷🤷",
         "-1"
        ],
        [
         "42",
         "TeamViolet going strong fam!",
         "1"
        ],
        [
         "43",
         "Awesome; two steps back then one forward; so many big devs these days.",
         "1"
        ],
        [
         "44",
         "Yeah, you get worried sick, imagine them hey slaughtered by Coyotes AND realize it’s all your fault.",
         "-1"
        ],
        [
         "45",
         "“That’s also cute” I say as I look at the 5k in LEGO I’m hoarding",
         "1"
        ],
        [
         "46",
         "Contact Blue Mammoth staff, they're usually pretty nice about this stuff.",
         "1"
        ],
        [
         "47",
         "Do you have any recommended places? A lot of the sites I’ve looked at want you to pay, kinda hard when your broke lol. ",
         "-1"
        ],
        [
         "48",
         "I was hoping it wouldn’t come to that tbh...",
         "1"
        ],
        [
         "49",
         "I completely agree, someone would take a flier on the kid.",
         "1"
        ]
       ],
       "shape": {
        "columns": 2,
        "rows": 1000
       }
      },
      "text/html": [
       "<div>\n",
       "<style scoped>\n",
       "    .dataframe tbody tr th:only-of-type {\n",
       "        vertical-align: middle;\n",
       "    }\n",
       "\n",
       "    .dataframe tbody tr th {\n",
       "        vertical-align: top;\n",
       "    }\n",
       "\n",
       "    .dataframe thead th {\n",
       "        text-align: right;\n",
       "    }\n",
       "</style>\n",
       "<table border=\"1\" class=\"dataframe\">\n",
       "  <thead>\n",
       "    <tr style=\"text-align: right;\">\n",
       "      <th></th>\n",
       "      <th>text</th>\n",
       "      <th>label</th>\n",
       "    </tr>\n",
       "  </thead>\n",
       "  <tbody>\n",
       "    <tr>\n",
       "      <th>0</th>\n",
       "      <td>Uhhhh, existed... Ever been to Arkansas? It’s ...</td>\n",
       "      <td>-1</td>\n",
       "    </tr>\n",
       "    <tr>\n",
       "      <th>1</th>\n",
       "      <td>Honestly rams are my second NFC team. I wanted...</td>\n",
       "      <td>1</td>\n",
       "    </tr>\n",
       "    <tr>\n",
       "      <th>2</th>\n",
       "      <td>Ah. So cardboard. Haha</td>\n",
       "      <td>1</td>\n",
       "    </tr>\n",
       "    <tr>\n",
       "      <th>3</th>\n",
       "      <td>Oh to find someone who loves you enough to put...</td>\n",
       "      <td>1</td>\n",
       "    </tr>\n",
       "    <tr>\n",
       "      <th>4</th>\n",
       "      <td>I can’t wait</td>\n",
       "      <td>-1</td>\n",
       "    </tr>\n",
       "    <tr>\n",
       "      <th>...</th>\n",
       "      <td>...</td>\n",
       "      <td>...</td>\n",
       "    </tr>\n",
       "    <tr>\n",
       "      <th>995</th>\n",
       "      <td>You have too many knives, I don't trust you. S...</td>\n",
       "      <td>-1</td>\n",
       "    </tr>\n",
       "    <tr>\n",
       "      <th>996</th>\n",
       "      <td>Be prepared for many old men to hit on you</td>\n",
       "      <td>-1</td>\n",
       "    </tr>\n",
       "    <tr>\n",
       "      <th>997</th>\n",
       "      <td>Stay strong.</td>\n",
       "      <td>1</td>\n",
       "    </tr>\n",
       "    <tr>\n",
       "      <th>998</th>\n",
       "      <td>You know, girls really like it when you make t...</td>\n",
       "      <td>1</td>\n",
       "    </tr>\n",
       "    <tr>\n",
       "      <th>999</th>\n",
       "      <td>\"Everyone knows the [NAME] make good stuff!\" -...</td>\n",
       "      <td>1</td>\n",
       "    </tr>\n",
       "  </tbody>\n",
       "</table>\n",
       "<p>1000 rows × 2 columns</p>\n",
       "</div>"
      ],
      "text/plain": [
       "                                                  text  label\n",
       "0    Uhhhh, existed... Ever been to Arkansas? It’s ...     -1\n",
       "1    Honestly rams are my second NFC team. I wanted...      1\n",
       "2                               Ah. So cardboard. Haha      1\n",
       "3    Oh to find someone who loves you enough to put...      1\n",
       "4                                         I can’t wait     -1\n",
       "..                                                 ...    ...\n",
       "995  You have too many knives, I don't trust you. S...     -1\n",
       "996         Be prepared for many old men to hit on you     -1\n",
       "997                                       Stay strong.      1\n",
       "998  You know, girls really like it when you make t...      1\n",
       "999  \"Everyone knows the [NAME] make good stuff!\" -...      1\n",
       "\n",
       "[1000 rows x 2 columns]"
      ]
     },
     "execution_count": 23,
     "metadata": {},
     "output_type": "execute_result"
    }
   ],
   "source": [
    "orig_df"
   ]
  },
  {
   "cell_type": "code",
   "execution_count": 24,
   "id": "0c72904e",
   "metadata": {},
   "outputs": [],
   "source": [
    "test_df = orig_df.sample(n=300)\n",
    "train_df = gen_df.sample(n=700)\n",
    "\n",
    "X_train = gen_df['sentences']\n",
    "X_test = orig_df['text']\n",
    "\n",
    "y_train = gen_df['labels']\n",
    "y_test = orig_df['label']"
   ]
  },
  {
   "cell_type": "code",
   "execution_count": 28,
   "id": "6cea9ea1",
   "metadata": {},
   "outputs": [],
   "source": [
    "X_train = np.array(sentence_transformer.encode(X_train.to_list()))\n",
    "X_test = np.array(sentence_transformer.encode(X_test.to_list()))"
   ]
  },
  {
   "cell_type": "markdown",
   "id": "1eafa85f",
   "metadata": {},
   "source": [
    "## **Preparing Synthetic+100 Samples Model**"
   ]
  },
  {
   "cell_type": "code",
   "execution_count": 45,
   "id": "7dd64868",
   "metadata": {},
   "outputs": [
    {
     "data": {
      "application/vnd.microsoft.datawrangler.viewer.v0+json": {
       "columns": [
        {
         "name": "index",
         "rawType": "int64",
         "type": "integer"
        },
        {
         "name": "text",
         "rawType": "object",
         "type": "string"
        },
        {
         "name": "label",
         "rawType": "int64",
         "type": "integer"
        }
       ],
       "ref": "087dccc1-4c92-4f5f-a01f-bb279a523ee0",
       "rows": [
        [
         "0",
         "Uhhhh, existed... Ever been to Arkansas? It’s boring as fuck.",
         "-1"
        ],
        [
         "1",
         "Honestly rams are my second NFC team. I wanted you to win it all since the beginning of the playoffs and I love the team even more now",
         "1"
        ],
        [
         "2",
         "Ah. So cardboard. Haha",
         "1"
        ],
        [
         "3",
         "Oh to find someone who loves you enough to put a blanket over you when you’re sleepy. That’s the dream.",
         "1"
        ],
        [
         "4",
         "I can’t wait",
         "-1"
        ],
        [
         "5",
         "Hey I just reposted this without reading it dont blame me for it putting boy friend",
         "-1"
        ],
        [
         "6",
         "Love pasta. Not a fan of cosmos. I’ll take an aperol spritz though 😍",
         "1"
        ],
        [
         "7",
         "My first messages from women are either \"hi\" \"hello\" or \"psst.\" Yeah I'm not wasting my time.",
         "1"
        ],
        [
         "8",
         "I'd love for someone to pay a little attention to me",
         "1"
        ],
        [
         "9",
         "Texas, I'm really just mad at myself for not double checking. But now I have a year to find something better",
         "-1"
        ],
        [
         "10",
         "A 70’s Pontiac bonneville , it was a huge boat.",
         "1"
        ],
        [
         "11",
         "Wait did he actually do this? Seems like it would be insanely disrespectful to you fellow craftsmen.",
         "-1"
        ],
        [
         "12",
         "Posts like this depress me severely. I pray to [NAME] my kids don't live with me until they are almost 30.",
         "1"
        ],
        [
         "13",
         "😂 thanks. I like yours!! Makes me think of yoga retreats but like in the best way possible",
         "1"
        ],
        [
         "14",
         "Damn. Moving like that in those heels is impressive.",
         "1"
        ],
        [
         "15",
         "It’s also dangerous to be riding a motorcycle waiting behind a stationary car if another car isn’t paying attention and slams into you.",
         "-1"
        ],
        [
         "16",
         "Journalists not writing the headlines remains one of the most frustrating aspects of print media on digital platforms.",
         "-1"
        ],
        [
         "17",
         "Wow that’s scary, she’s so young and healthy. I hate that. ",
         "-1"
        ],
        [
         "18",
         "Nice. I'll look around for it. Thanks!",
         "1"
        ],
        [
         "19",
         "I've come to the conclusion that TMoR's Snoo needs to be more orange.",
         "1"
        ],
        [
         "20",
         "Thank god I'm not dating anymore. I wouldn't want to risk some girl I'm trying to bang seeing my reddit history.",
         "1"
        ],
        [
         "21",
         "More like [NAME]. ",
         "1"
        ],
        [
         "22",
         "My only criticism is xhaka, too slow on and off the ball.",
         "-1"
        ],
        [
         "23",
         "Say it with me! S! A! T! I! R! E! What does that spell? SATIRE!!!",
         "1"
        ],
        [
         "24",
         "Good news. Good for you buddy. Hope all of us get back our money soon :-)",
         "1"
        ],
        [
         "25",
         "Seattle has both, and is building a huge extension to the existing light rail system. Traffic is still absolutely fucked.",
         "-1"
        ],
        [
         "26",
         "Great reply as usual",
         "1"
        ],
        [
         "27",
         "That level 20 purifier upgrade can get so juicy.... i love artanis",
         "1"
        ],
        [
         "28",
         "Your welcome and I know what you mean. Whenever I feel sad, our dogs would come to me and they would either lick or lie with me. ",
         "1"
        ],
        [
         "29",
         "Omg yes!",
         "1"
        ],
        [
         "30",
         "I’m more worried about the dude getting pissed all over my shoes",
         "-1"
        ],
        [
         "31",
         "Which totally makes it less funny for a person like me who has never seen this before, and laughed. ",
         "1"
        ],
        [
         "32",
         "Happy Birthday!",
         "1"
        ],
        [
         "33",
         "What did you use to kill them all? Sorry I’m kinda a noob",
         "-1"
        ],
        [
         "34",
         "I like how this story's problem is literally the opposite of the next oldest post on this subreddit",
         "1"
        ],
        [
         "35",
         "It's the universe trying to kill us with radiation :D",
         "-1"
        ],
        [
         "36",
         "Pressure 7 targets/10 targets, popcorn, any tracking, and any tile frenzy because I enjoy trying to beat my highscore",
         "1"
        ],
        [
         "37",
         "Thanks for sharing.",
         "1"
        ],
        [
         "38",
         "SUBSCRIBE TO PEWDIEPIE OR I WILL HACK YOUR REDDIT ACCOUNT!!!!!!",
         "-1"
        ],
        [
         "39",
         "I've had such bad memories, I remember when I remember bad times now! Haha",
         "-1"
        ],
        [
         "40",
         "That fascist bigot!",
         "-1"
        ],
        [
         "41",
         "I love working with people but sometimes I really hate people. 🤷🤷🤷",
         "-1"
        ],
        [
         "42",
         "TeamViolet going strong fam!",
         "1"
        ],
        [
         "43",
         "Awesome; two steps back then one forward; so many big devs these days.",
         "1"
        ],
        [
         "44",
         "Yeah, you get worried sick, imagine them hey slaughtered by Coyotes AND realize it’s all your fault.",
         "-1"
        ],
        [
         "45",
         "“That’s also cute” I say as I look at the 5k in LEGO I’m hoarding",
         "1"
        ],
        [
         "46",
         "Contact Blue Mammoth staff, they're usually pretty nice about this stuff.",
         "1"
        ],
        [
         "47",
         "Do you have any recommended places? A lot of the sites I’ve looked at want you to pay, kinda hard when your broke lol. ",
         "-1"
        ],
        [
         "48",
         "I was hoping it wouldn’t come to that tbh...",
         "1"
        ],
        [
         "49",
         "I completely agree, someone would take a flier on the kid.",
         "1"
        ]
       ],
       "shape": {
        "columns": 2,
        "rows": 1000
       }
      },
      "text/html": [
       "<div>\n",
       "<style scoped>\n",
       "    .dataframe tbody tr th:only-of-type {\n",
       "        vertical-align: middle;\n",
       "    }\n",
       "\n",
       "    .dataframe tbody tr th {\n",
       "        vertical-align: top;\n",
       "    }\n",
       "\n",
       "    .dataframe thead th {\n",
       "        text-align: right;\n",
       "    }\n",
       "</style>\n",
       "<table border=\"1\" class=\"dataframe\">\n",
       "  <thead>\n",
       "    <tr style=\"text-align: right;\">\n",
       "      <th></th>\n",
       "      <th>text</th>\n",
       "      <th>label</th>\n",
       "    </tr>\n",
       "  </thead>\n",
       "  <tbody>\n",
       "    <tr>\n",
       "      <th>0</th>\n",
       "      <td>Uhhhh, existed... Ever been to Arkansas? It’s ...</td>\n",
       "      <td>-1</td>\n",
       "    </tr>\n",
       "    <tr>\n",
       "      <th>1</th>\n",
       "      <td>Honestly rams are my second NFC team. I wanted...</td>\n",
       "      <td>1</td>\n",
       "    </tr>\n",
       "    <tr>\n",
       "      <th>2</th>\n",
       "      <td>Ah. So cardboard. Haha</td>\n",
       "      <td>1</td>\n",
       "    </tr>\n",
       "    <tr>\n",
       "      <th>3</th>\n",
       "      <td>Oh to find someone who loves you enough to put...</td>\n",
       "      <td>1</td>\n",
       "    </tr>\n",
       "    <tr>\n",
       "      <th>4</th>\n",
       "      <td>I can’t wait</td>\n",
       "      <td>-1</td>\n",
       "    </tr>\n",
       "    <tr>\n",
       "      <th>...</th>\n",
       "      <td>...</td>\n",
       "      <td>...</td>\n",
       "    </tr>\n",
       "    <tr>\n",
       "      <th>995</th>\n",
       "      <td>You have too many knives, I don't trust you. S...</td>\n",
       "      <td>-1</td>\n",
       "    </tr>\n",
       "    <tr>\n",
       "      <th>996</th>\n",
       "      <td>Be prepared for many old men to hit on you</td>\n",
       "      <td>-1</td>\n",
       "    </tr>\n",
       "    <tr>\n",
       "      <th>997</th>\n",
       "      <td>Stay strong.</td>\n",
       "      <td>1</td>\n",
       "    </tr>\n",
       "    <tr>\n",
       "      <th>998</th>\n",
       "      <td>You know, girls really like it when you make t...</td>\n",
       "      <td>1</td>\n",
       "    </tr>\n",
       "    <tr>\n",
       "      <th>999</th>\n",
       "      <td>\"Everyone knows the [NAME] make good stuff!\" -...</td>\n",
       "      <td>1</td>\n",
       "    </tr>\n",
       "  </tbody>\n",
       "</table>\n",
       "<p>1000 rows × 2 columns</p>\n",
       "</div>"
      ],
      "text/plain": [
       "                                                  text  label\n",
       "0    Uhhhh, existed... Ever been to Arkansas? It’s ...     -1\n",
       "1    Honestly rams are my second NFC team. I wanted...      1\n",
       "2                               Ah. So cardboard. Haha      1\n",
       "3    Oh to find someone who loves you enough to put...      1\n",
       "4                                         I can’t wait     -1\n",
       "..                                                 ...    ...\n",
       "995  You have too many knives, I don't trust you. S...     -1\n",
       "996         Be prepared for many old men to hit on you     -1\n",
       "997                                       Stay strong.      1\n",
       "998  You know, girls really like it when you make t...      1\n",
       "999  \"Everyone knows the [NAME] make good stuff!\" -...      1\n",
       "\n",
       "[1000 rows x 2 columns]"
      ]
     },
     "execution_count": 45,
     "metadata": {},
     "output_type": "execute_result"
    }
   ],
   "source": [
    "orig_df"
   ]
  },
  {
   "cell_type": "code",
   "execution_count": 46,
   "id": "ff874b77",
   "metadata": {},
   "outputs": [
    {
     "data": {
      "application/vnd.microsoft.datawrangler.viewer.v0+json": {
       "columns": [
        {
         "name": "index",
         "rawType": "int64",
         "type": "integer"
        },
        {
         "name": "sentences",
         "rawType": "object",
         "type": "string"
        },
        {
         "name": "labels",
         "rawType": "int64",
         "type": "integer"
        }
       ],
       "ref": "7cdf422c-d8bf-459e-8f54-408fb98f954b",
       "rows": [
        [
         "0",
         "I'm so happy for [NAME], they really deserve the promotion! 🎉",
         "1"
        ],
        [
         "1",
         "Had the worst experience at the restaurant yesterday, not going back. 😒",
         "-1"
        ],
        [
         "2",
         "Can't believe how awesome the concert was last night, still buzzing! 🎶",
         "1"
        ],
        [
         "3",
         "[NAME] really messed up this time, can't trust them anymore. 🙄",
         "-1"
        ],
        [
         "4",
         "Just finished the book you recommended, it was amazing, thank you!",
         "1"
        ],
        [
         "5",
         "Their service was terrible, waited over an hour for cold food. 😠",
         "-1"
        ],
        [
         "6",
         "Honestly, that movie blew my mind, can't stop thinking about it.",
         "1"
        ],
        [
         "7",
         "I don't understand why people hype that game, it's so boring.",
         "-1"
        ],
        [
         "8",
         "Finally met [NAME] today and they were just as cool IRL!",
         "1"
        ],
        [
         "9",
         "That meeting was a waste of time, could have been an email. 🙄",
         "-1"
        ],
        [
         "10",
         "Did anyone else see the new episode? It was amazing! 🤘",
         "1"
        ],
        [
         "11",
         "I really don't like the way they handled that scene.",
         "-1"
        ],
        [
         "12",
         "Honestly, this is the best community I've been part of! 😄",
         "1"
        ],
        [
         "13",
         "Why is everyone so obsessed with that game? It's overrated.",
         "-1"
        ],
        [
         "14",
         "The food there is absolutely fantastic, you gotta try it.",
         "1"
        ],
        [
         "15",
         "I'm not a fan of how they redesigned the interface, it looks messy.",
         "-1"
        ],
        [
         "16",
         "Thanks to everyone for the help, you're all awesome! ❤️",
         "1"
        ],
        [
         "17",
         "Ugh, the movie was such a letdown, I was bored.",
         "-1"
        ],
        [
         "18",
         "Had the best time with [NAME] today, can't wait to do it again!",
         "1"
        ],
        [
         "19",
         "I was really disappointed when my order got messed up.",
         "-1"
        ],
        [
         "20",
         "I'm so excited for the movie tonight! 🎥",
         "1"
        ],
        [
         "21",
         "Idk why ppl love that game, it's so boring 😒",
         "-1"
        ],
        [
         "22",
         "This is honestly the best cake I've ever had, love it! 🍰",
         "1"
        ],
        [
         "23",
         "The update on my phone just made everything worse ugh",
         "-1"
        ],
        [
         "24",
         "I met [NAME] last week and they were super nice to me!",
         "1"
        ],
        [
         "25",
         "Not gonna lie, the service at that restaurant was terrible",
         "-1"
        ],
        [
         "26",
         "Really happy with how the project turned out, great team effort!",
         "1"
        ],
        [
         "27",
         "Why is it so hard to find a good pizza place in this city? 😑",
         "-1"
        ],
        [
         "28",
         "Finally got my promotion and I'm over the moon right now! 🌟",
         "1"
        ],
        [
         "29",
         "Ugh, another delay on my order. This is getting ridiculous",
         "-1"
        ],
        [
         "30",
         "I'm just sayin, this is the most awesome thing ever!!! 😍",
         "1"
        ],
        [
         "31",
         "Ugh, the service was terrible and the food was cold. Never again. 😡",
         "-1"
        ],
        [
         "32",
         "Wow, what an amazing game! The energy in the stadium was unreal!",
         "1"
        ],
        [
         "33",
         "I can't believe they canceled the show. It was the best part of my week. 😢",
         "-1"
        ],
        [
         "34",
         "Just got back from vacation, and it was honestly the best time of my life!",
         "1"
        ],
        [
         "35",
         "The app is so buggy, I can't even use it without crashing every time.",
         "-1"
        ],
        [
         "36",
         "Amazing concert last night! [NAME] was on fire! 🎸",
         "1"
        ],
        [
         "37",
         "Seriously, why does this always happen to me? I'm done with it. 😤",
         "-1"
        ],
        [
         "38",
         "Love how friendly everyone was at the event! Can't wait for next year!",
         "1"
        ],
        [
         "39",
         "The update ruined everything I liked about the game. It's not fun anymore.",
         "-1"
        ],
        [
         "40",
         "I'm really excited about the new game release, hope it's as good as they say! 😄",
         "1"
        ],
        [
         "41",
         "Ugh, I can't believe how slow the service was today. Just the worst.",
         "-1"
        ],
        [
         "42",
         "Just finished watching the movie, and wow, it was amazing! Highly recommend it.",
         "1"
        ],
        [
         "43",
         "I don't get why people like that show. It's so boring imo.",
         "-1"
        ],
        [
         "44",
         "It's awesome how supportive this community is. Really appreciate you guys!",
         "1"
        ],
        [
         "45",
         "Did you see that episode last night? It was terrible and so disappointing.",
         "-1"
        ],
        [
         "46",
         "Finally tried that new restaurant, and oh my, the food was delicious!",
         "1"
        ],
        [
         "47",
         "I was hoping for a better outcome, but it was a total letdown.",
         "-1"
        ],
        [
         "48",
         "Thank you all for the advice, it actually worked out perfectly for me!",
         "1"
        ],
        [
         "49",
         "Why does this app always have glitches? It's super frustrating.",
         "-1"
        ]
       ],
       "shape": {
        "columns": 2,
        "rows": 1000
       }
      },
      "text/html": [
       "<div>\n",
       "<style scoped>\n",
       "    .dataframe tbody tr th:only-of-type {\n",
       "        vertical-align: middle;\n",
       "    }\n",
       "\n",
       "    .dataframe tbody tr th {\n",
       "        vertical-align: top;\n",
       "    }\n",
       "\n",
       "    .dataframe thead th {\n",
       "        text-align: right;\n",
       "    }\n",
       "</style>\n",
       "<table border=\"1\" class=\"dataframe\">\n",
       "  <thead>\n",
       "    <tr style=\"text-align: right;\">\n",
       "      <th></th>\n",
       "      <th>sentences</th>\n",
       "      <th>labels</th>\n",
       "    </tr>\n",
       "  </thead>\n",
       "  <tbody>\n",
       "    <tr>\n",
       "      <th>0</th>\n",
       "      <td>I'm so happy for [NAME], they really deserve t...</td>\n",
       "      <td>1</td>\n",
       "    </tr>\n",
       "    <tr>\n",
       "      <th>1</th>\n",
       "      <td>Had the worst experience at the restaurant yes...</td>\n",
       "      <td>-1</td>\n",
       "    </tr>\n",
       "    <tr>\n",
       "      <th>2</th>\n",
       "      <td>Can't believe how awesome the concert was last...</td>\n",
       "      <td>1</td>\n",
       "    </tr>\n",
       "    <tr>\n",
       "      <th>3</th>\n",
       "      <td>[NAME] really messed up this time, can't trust...</td>\n",
       "      <td>-1</td>\n",
       "    </tr>\n",
       "    <tr>\n",
       "      <th>4</th>\n",
       "      <td>Just finished the book you recommended, it was...</td>\n",
       "      <td>1</td>\n",
       "    </tr>\n",
       "    <tr>\n",
       "      <th>...</th>\n",
       "      <td>...</td>\n",
       "      <td>...</td>\n",
       "    </tr>\n",
       "    <tr>\n",
       "      <th>495</th>\n",
       "      <td>Can't believe how bad the food was at that pla...</td>\n",
       "      <td>-1</td>\n",
       "    </tr>\n",
       "    <tr>\n",
       "      <th>496</th>\n",
       "      <td>Got to see my favorite band live, still buzzing!</td>\n",
       "      <td>1</td>\n",
       "    </tr>\n",
       "    <tr>\n",
       "      <th>497</th>\n",
       "      <td>I've had enough of the service there, it's alw...</td>\n",
       "      <td>-1</td>\n",
       "    </tr>\n",
       "    <tr>\n",
       "      <th>498</th>\n",
       "      <td>Just finished the series and OMG, loved every ...</td>\n",
       "      <td>1</td>\n",
       "    </tr>\n",
       "    <tr>\n",
       "      <th>499</th>\n",
       "      <td>I wasted my time on this movie, it was just bo...</td>\n",
       "      <td>-1</td>\n",
       "    </tr>\n",
       "  </tbody>\n",
       "</table>\n",
       "<p>1000 rows × 2 columns</p>\n",
       "</div>"
      ],
      "text/plain": [
       "                                             sentences  labels\n",
       "0    I'm so happy for [NAME], they really deserve t...       1\n",
       "1    Had the worst experience at the restaurant yes...      -1\n",
       "2    Can't believe how awesome the concert was last...       1\n",
       "3    [NAME] really messed up this time, can't trust...      -1\n",
       "4    Just finished the book you recommended, it was...       1\n",
       "..                                                 ...     ...\n",
       "495  Can't believe how bad the food was at that pla...      -1\n",
       "496   Got to see my favorite band live, still buzzing!       1\n",
       "497  I've had enough of the service there, it's alw...      -1\n",
       "498  Just finished the series and OMG, loved every ...       1\n",
       "499  I wasted my time on this movie, it was just bo...      -1\n",
       "\n",
       "[1000 rows x 2 columns]"
      ]
     },
     "execution_count": 46,
     "metadata": {},
     "output_type": "execute_result"
    }
   ],
   "source": [
    "gen_df"
   ]
  },
  {
   "cell_type": "code",
   "execution_count": 57,
   "id": "bd855be5",
   "metadata": {},
   "outputs": [],
   "source": [
    "orig_sample = orig_df.sample(n=400)\n",
    "orig_train = orig_sample.sample(n=100)\n",
    "orig_test = orig_sample.drop(orig_train.index)"
   ]
  },
  {
   "cell_type": "code",
   "execution_count": 58,
   "id": "a848431d",
   "metadata": {},
   "outputs": [],
   "source": [
    "orig_train.reset_index(drop=True, inplace=True)\n",
    "orig_test.reset_index(drop=True, inplace=True)"
   ]
  },
  {
   "cell_type": "code",
   "execution_count": 68,
   "id": "2d70539a",
   "metadata": {},
   "outputs": [
    {
     "data": {
      "application/vnd.microsoft.datawrangler.viewer.v0+json": {
       "columns": [
        {
         "name": "index",
         "rawType": "int64",
         "type": "integer"
        },
        {
         "name": "sentences",
         "rawType": "object",
         "type": "string"
        },
        {
         "name": "labels",
         "rawType": "int64",
         "type": "integer"
        }
       ],
       "ref": "f3c6a999-fffc-4b1b-bc26-3a25ece5b036",
       "rows": [
        [
         "0",
         "Finally got to try that recipe and it turned out amazing, everyone loved it!",
         "1"
        ],
        [
         "1",
         "Had a terrible experience with the customer service.",
         "-1"
        ],
        [
         "2",
         "Why do they always mess up my order? Frustrating to deal with.",
         "-1"
        ],
        [
         "3",
         "Ugh, my internet is down again. So frustrating!",
         "-1"
        ],
        [
         "4",
         "Just finished the book, and I love it! Highly recommend to everyone.",
         "1"
        ],
        [
         "5",
         "I'm so happy I got tickets to the concert! 🎉 can't wait!",
         "1"
        ],
        [
         "6",
         "Missed the bus again, and it's freezing out... FML.",
         "-1"
        ],
        [
         "7",
         "Ugh, I can't believe how bad the service was at [RESTAURANT].",
         "-1"
        ],
        [
         "8",
         "the weather is so bad today, just want to stay in bed",
         "-1"
        ],
        [
         "9",
         "Thanks for the advice, it really helped me out a lot!",
         "1"
        ],
        [
         "10",
         "I love how supportive this community is, really amazing! ❤️",
         "1"
        ],
        [
         "11",
         "The customer service at that place is terrible.",
         "-1"
        ],
        [
         "12",
         "The traffic today was a nightmare, took forever to get home 😩",
         "-1"
        ],
        [
         "13",
         "Why do they always mess up my order? It's so annoying! 😒",
         "-1"
        ],
        [
         "14",
         "Just finished watching the movie, and wow, it was amazing! Highly recommend it.",
         "1"
        ],
        [
         "15",
         "Why do people have to be so rude in traffic? 😠",
         "-1"
        ],
        [
         "16",
         "I'm loving this new game, it's amazing! 😊",
         "1"
        ],
        [
         "17",
         "The way they handled the ending was just perfect!",
         "1"
        ],
        [
         "18",
         "Wow, I finally got the promotion I've been working for!",
         "1"
        ],
        [
         "19",
         "I absolutely love the new update! It's so good 😍",
         "1"
        ],
        [
         "20",
         "It was a waste of time, and I'm never going back.",
         "-1"
        ],
        [
         "21",
         "Got to meet [NAME] today, totally made my day! 😄",
         "1"
        ],
        [
         "22",
         "So glad I found this sub, you guys are awesome!",
         "1"
        ],
        [
         "23",
         "Wow, the food at that restaurant was super delicious and the service was great!",
         "1"
        ],
        [
         "24",
         "I'm so happy with the new game update! 😄 Love how they improved everything.",
         "1"
        ],
        [
         "25",
         "The food there is absolutely fantastic, you gotta try it.",
         "1"
        ],
        [
         "26",
         "I'm loving the new game update, so much better than before! 😊",
         "1"
        ],
        [
         "27",
         "Ugh, that experience at the restaurant was just the worst. Never going back.",
         "-1"
        ],
        [
         "28",
         "I luv the way this game plays out, it's sooo fun! 🌟",
         "1"
        ],
        [
         "29",
         "The movie was such a letdown, couldn't wait for it to end 😴",
         "-1"
        ],
        [
         "30",
         "I'm not sure about the changes, they seem unnecessary.",
         "-1"
        ],
        [
         "31",
         "I just love how peaceful this place is, makes me so happy every time 😊",
         "1"
        ],
        [
         "32",
         "Why does this always happen? I'm so tired of it honestly",
         "-1"
        ],
        [
         "33",
         "This dessert is absolutely amazing, the best I've had in ages! 😋",
         "1"
        ],
        [
         "34",
         "Thanks for the help, you're the best! 🙌",
         "1"
        ],
        [
         "35",
         "Ugh, can't believe it happened again. 😒",
         "-1"
        ],
        [
         "36",
         "The new update is awesome and just what we needed! 😊",
         "1"
        ],
        [
         "37",
         "Thanks for the advice, it worked out perfectly for my situation!",
         "1"
        ],
        [
         "38",
         "I just finished the book and it was amazing!",
         "1"
        ],
        [
         "39",
         "I finally got my dream job, can't believe it! 😊",
         "1"
        ],
        [
         "40",
         "So happy that [NAME] finally got the recognition they deserve!",
         "1"
        ],
        [
         "41",
         "This new policy change is the worst decision ever. 🥴",
         "-1"
        ],
        [
         "42",
         "Ugh, this place is the worst, never going back again.",
         "-1"
        ],
        [
         "43",
         "This is just another reason why I can't stand that update.",
         "-1"
        ],
        [
         "44",
         "I'm so happy with the new game update! 😄",
         "1"
        ],
        [
         "45",
         "Honestly, the service at this place is terrible. Never coming back.",
         "-1"
        ],
        [
         "46",
         "just got a new puppy and omg it's the cutest 😍",
         "1"
        ],
        [
         "47",
         "The food was great, but the service could've been better",
         "1"
        ],
        [
         "48",
         "This restaurant charged me so much for such bad food, not going back",
         "-1"
        ],
        [
         "49",
         "My weekend was the best, spent time with the family and relaxed.",
         "1"
        ]
       ],
       "shape": {
        "columns": 2,
        "rows": 600
       }
      },
      "text/html": [
       "<div>\n",
       "<style scoped>\n",
       "    .dataframe tbody tr th:only-of-type {\n",
       "        vertical-align: middle;\n",
       "    }\n",
       "\n",
       "    .dataframe tbody tr th {\n",
       "        vertical-align: top;\n",
       "    }\n",
       "\n",
       "    .dataframe thead th {\n",
       "        text-align: right;\n",
       "    }\n",
       "</style>\n",
       "<table border=\"1\" class=\"dataframe\">\n",
       "  <thead>\n",
       "    <tr style=\"text-align: right;\">\n",
       "      <th></th>\n",
       "      <th>sentences</th>\n",
       "      <th>labels</th>\n",
       "    </tr>\n",
       "  </thead>\n",
       "  <tbody>\n",
       "    <tr>\n",
       "      <th>0</th>\n",
       "      <td>Finally got to try that recipe and it turned o...</td>\n",
       "      <td>1</td>\n",
       "    </tr>\n",
       "    <tr>\n",
       "      <th>1</th>\n",
       "      <td>Had a terrible experience with the customer se...</td>\n",
       "      <td>-1</td>\n",
       "    </tr>\n",
       "    <tr>\n",
       "      <th>2</th>\n",
       "      <td>Why do they always mess up my order? Frustrati...</td>\n",
       "      <td>-1</td>\n",
       "    </tr>\n",
       "    <tr>\n",
       "      <th>3</th>\n",
       "      <td>Ugh, my internet is down again. So frustrating!</td>\n",
       "      <td>-1</td>\n",
       "    </tr>\n",
       "    <tr>\n",
       "      <th>4</th>\n",
       "      <td>Just finished the book, and I love it! Highly ...</td>\n",
       "      <td>1</td>\n",
       "    </tr>\n",
       "    <tr>\n",
       "      <th>...</th>\n",
       "      <td>...</td>\n",
       "      <td>...</td>\n",
       "    </tr>\n",
       "    <tr>\n",
       "      <th>595</th>\n",
       "      <td>Not going back to that restaurant, food was aw...</td>\n",
       "      <td>-1</td>\n",
       "    </tr>\n",
       "    <tr>\n",
       "      <th>596</th>\n",
       "      <td>This was really disappointing, expected more tbh</td>\n",
       "      <td>-1</td>\n",
       "    </tr>\n",
       "    <tr>\n",
       "      <th>597</th>\n",
       "      <td>I had the best time at the concert last night! 🎶</td>\n",
       "      <td>1</td>\n",
       "    </tr>\n",
       "    <tr>\n",
       "      <th>598</th>\n",
       "      <td>Had the best pizza ever last night! 🍕</td>\n",
       "      <td>1</td>\n",
       "    </tr>\n",
       "    <tr>\n",
       "      <th>599</th>\n",
       "      <td>The customer service here is terrible, nobody ...</td>\n",
       "      <td>-1</td>\n",
       "    </tr>\n",
       "  </tbody>\n",
       "</table>\n",
       "<p>600 rows × 2 columns</p>\n",
       "</div>"
      ],
      "text/plain": [
       "                                             sentences  labels\n",
       "0    Finally got to try that recipe and it turned o...       1\n",
       "1    Had a terrible experience with the customer se...      -1\n",
       "2    Why do they always mess up my order? Frustrati...      -1\n",
       "3      Ugh, my internet is down again. So frustrating!      -1\n",
       "4    Just finished the book, and I love it! Highly ...       1\n",
       "..                                                 ...     ...\n",
       "595  Not going back to that restaurant, food was aw...      -1\n",
       "596   This was really disappointing, expected more tbh      -1\n",
       "597   I had the best time at the concert last night! 🎶       1\n",
       "598              Had the best pizza ever last night! 🍕       1\n",
       "599  The customer service here is terrible, nobody ...      -1\n",
       "\n",
       "[600 rows x 2 columns]"
      ]
     },
     "execution_count": 68,
     "metadata": {},
     "output_type": "execute_result"
    }
   ],
   "source": [
    "gen_train"
   ]
  },
  {
   "cell_type": "code",
   "execution_count": 69,
   "id": "87cdec95",
   "metadata": {},
   "outputs": [],
   "source": [
    "gen_train = gen_df.sample(n=600).reset_index(drop=True)\n"
   ]
  },
  {
   "cell_type": "code",
   "execution_count": 75,
   "id": "45a351cd",
   "metadata": {},
   "outputs": [],
   "source": [
    "orig_train.rename(columns={'text': 'sentences', 'label': 'labels'}, inplace=True)"
   ]
  },
  {
   "cell_type": "code",
   "execution_count": 76,
   "id": "99c1d16d",
   "metadata": {},
   "outputs": [],
   "source": [
    "orig_test.rename(columns={'text': 'sentences', 'label': 'labels'}, inplace=True)"
   ]
  },
  {
   "cell_type": "code",
   "execution_count": 79,
   "id": "429b83fe",
   "metadata": {},
   "outputs": [],
   "source": [
    "train_df = pd.concat([gen_train, orig_train], axis=0)\n",
    "test_df = orig_test"
   ]
  },
  {
   "cell_type": "code",
   "execution_count": 81,
   "id": "d75222f4",
   "metadata": {},
   "outputs": [],
   "source": [
    "X_train = train_df['sentences']\n",
    "X_test = test_df['sentences']\n",
    "\n",
    "y_train = train_df['labels']\n",
    "y_test = test_df['labels']"
   ]
  },
  {
   "cell_type": "code",
   "execution_count": 84,
   "id": "1a962262",
   "metadata": {},
   "outputs": [],
   "source": [
    "X_train = np.array(sentence_transformer.encode(X_train.to_list()))\n",
    "X_test = np.array(sentence_transformer.encode(X_test.to_list()))"
   ]
  },
  {
   "cell_type": "markdown",
   "id": "f78356f1",
   "metadata": {},
   "source": [
    "## **Model Training**"
   ]
  },
  {
   "cell_type": "code",
   "execution_count": 93,
   "id": "79e4b2c1",
   "metadata": {},
   "outputs": [],
   "source": [
    "model = svm.SVC(C=1, degree=2, gamma='scale', kernel='linear', probability=True)"
   ]
  },
  {
   "cell_type": "code",
   "execution_count": 94,
   "id": "53a81003",
   "metadata": {},
   "outputs": [
    {
     "name": "stdout",
     "output_type": "stream",
     "text": [
      "Train acc: 0.9857142857142858\n",
      "Test acc: 0.7266666666666667\n"
     ]
    }
   ],
   "source": [
    "model.fit(X_train, y_train)\n",
    "y_pred = model.predict(X_train)\n",
    "train_acc = accuracy_score(y_pred, y_train)\n",
    "print(f'Train acc: {train_acc}')\n",
    "\n",
    "y_pred = model.predict(X_test)\n",
    "test_acc = accuracy_score(y_pred, y_test)\n",
    "print(f'Test acc: {test_acc}')"
   ]
  },
  {
   "cell_type": "code",
   "execution_count": 95,
   "id": "cd6943d9",
   "metadata": {},
   "outputs": [
    {
     "name": "stdout",
     "output_type": "stream",
     "text": [
      "0.8451612903225807\n",
      "0.6931216931216931\n"
     ]
    }
   ],
   "source": [
    "print(precision_score(y_test, y_pred))\n",
    "print(recall_score(y_test, y_pred))"
   ]
  },
  {
   "cell_type": "code",
   "execution_count": 96,
   "id": "f6bfadb7",
   "metadata": {},
   "outputs": [
    {
     "name": "stdout",
     "output_type": "stream",
     "text": [
      "0.8033748033748034\n"
     ]
    }
   ],
   "source": [
    "y_prob = model.predict_proba(X_test)[:, 1]\n",
    "print(roc_auc_score(y_test, y_prob))"
   ]
  },
  {
   "cell_type": "code",
   "execution_count": 89,
   "id": "4de1fd22",
   "metadata": {},
   "outputs": [],
   "source": [
    "param_grid = {\n",
    "    'C': [10**(i) for i in range(-2, 3)],\n",
    "    'kernel': ['linear', 'poly', 'rbf'],\n",
    "    'gamma': ['scale', 'auto'],\n",
    "    'degree': [2, 3, 4],\n",
    "}"
   ]
  },
  {
   "cell_type": "code",
   "execution_count": 90,
   "id": "4e18e451",
   "metadata": {},
   "outputs": [
    {
     "name": "stdout",
     "output_type": "stream",
     "text": [
      "Fitting 5 folds for each of 90 candidates, totalling 450 fits\n"
     ]
    },
    {
     "name": "stderr",
     "output_type": "stream",
     "text": [
      "huggingface/tokenizers: The current process just got forked, after parallelism has already been used. Disabling parallelism to avoid deadlocks...\n",
      "To disable this warning, you can either:\n",
      "\t- Avoid using `tokenizers` before the fork if possible\n",
      "\t- Explicitly set the environment variable TOKENIZERS_PARALLELISM=(true | false)\n",
      "huggingface/tokenizers: The current process just got forked, after parallelism has already been used. Disabling parallelism to avoid deadlocks...\n",
      "To disable this warning, you can either:\n",
      "\t- Avoid using `tokenizers` before the fork if possible\n",
      "\t- Explicitly set the environment variable TOKENIZERS_PARALLELISM=(true | false)\n",
      "huggingface/tokenizers: The current process just got forked, after parallelism has already been used. Disabling parallelism to avoid deadlocks...\n",
      "To disable this warning, you can either:\n",
      "\t- Avoid using `tokenizers` before the fork if possible\n",
      "\t- Explicitly set the environment variable TOKENIZERS_PARALLELISM=(true | false)\n",
      "huggingface/tokenizers: The current process just got forked, after parallelism has already been used. Disabling parallelism to avoid deadlocks...\n",
      "To disable this warning, you can either:\n",
      "\t- Avoid using `tokenizers` before the fork if possible\n",
      "\t- Explicitly set the environment variable TOKENIZERS_PARALLELISM=(true | false)\n",
      "huggingface/tokenizers: The current process just got forked, after parallelism has already been used. Disabling parallelism to avoid deadlocks...\n",
      "To disable this warning, you can either:\n",
      "\t- Avoid using `tokenizers` before the fork if possible\n",
      "\t- Explicitly set the environment variable TOKENIZERS_PARALLELISM=(true | false)\n",
      "huggingface/tokenizers: The current process just got forked, after parallelism has already been used. Disabling parallelism to avoid deadlocks...\n",
      "To disable this warning, you can either:\n",
      "\t- Avoid using `tokenizers` before the fork if possible\n",
      "\t- Explicitly set the environment variable TOKENIZERS_PARALLELISM=(true | false)\n",
      "huggingface/tokenizers: The current process just got forked, after parallelism has already been used. Disabling parallelism to avoid deadlocks...\n",
      "To disable this warning, you can either:\n",
      "\t- Avoid using `tokenizers` before the fork if possible\n",
      "\t- Explicitly set the environment variable TOKENIZERS_PARALLELISM=(true | false)\n",
      "huggingface/tokenizers: The current process just got forked, after parallelism has already been used. Disabling parallelism to avoid deadlocks...\n",
      "To disable this warning, you can either:\n",
      "\t- Avoid using `tokenizers` before the fork if possible\n",
      "\t- Explicitly set the environment variable TOKENIZERS_PARALLELISM=(true | false)\n"
     ]
    },
    {
     "name": "stdout",
     "output_type": "stream",
     "text": [
      "0.9557142857142857\n",
      "{'C': 1, 'degree': 2, 'gamma': 'scale', 'kernel': 'linear'}\n"
     ]
    }
   ],
   "source": [
    "model = svm.SVC()\n",
    "\n",
    "grid_search = GridSearchCV(estimator=model, param_grid=param_grid, verbose=1, scoring='accuracy', cv=5, n_jobs=-1)\n",
    "grid_search.fit(X_train, y_train)\n",
    "print(grid_search.best_score_)\n",
    "print(grid_search.best_params_)"
   ]
  },
  {
   "cell_type": "code",
   "execution_count": 92,
   "id": "bd20e520",
   "metadata": {},
   "outputs": [
    {
     "name": "stdout",
     "output_type": "stream",
     "text": [
      "0.7266666666666667\n"
     ]
    }
   ],
   "source": [
    "print(accuracy_score(grid_search.best_estimator_.predict(X_test), y_test))"
   ]
  },
  {
   "cell_type": "markdown",
   "id": "3eeba6a5",
   "metadata": {},
   "source": [
    "# **MMD Comparison**"
   ]
  },
  {
   "cell_type": "code",
   "execution_count": 97,
   "id": "adb508bb",
   "metadata": {},
   "outputs": [
    {
     "data": {
      "application/vnd.microsoft.datawrangler.viewer.v0+json": {
       "columns": [
        {
         "name": "index",
         "rawType": "int64",
         "type": "integer"
        },
        {
         "name": "sentences",
         "rawType": "object",
         "type": "string"
        },
        {
         "name": "labels",
         "rawType": "int64",
         "type": "integer"
        }
       ],
       "ref": "e61d29ff-dfd1-4a0e-9a11-a52b715b8598",
       "rows": [
        [
         "0",
         "I'm so happy for [NAME], they really deserve the promotion! 🎉",
         "1"
        ],
        [
         "1",
         "Had the worst experience at the restaurant yesterday, not going back. 😒",
         "-1"
        ],
        [
         "2",
         "Can't believe how awesome the concert was last night, still buzzing! 🎶",
         "1"
        ],
        [
         "3",
         "[NAME] really messed up this time, can't trust them anymore. 🙄",
         "-1"
        ],
        [
         "4",
         "Just finished the book you recommended, it was amazing, thank you!",
         "1"
        ],
        [
         "5",
         "Their service was terrible, waited over an hour for cold food. 😠",
         "-1"
        ],
        [
         "6",
         "Honestly, that movie blew my mind, can't stop thinking about it.",
         "1"
        ],
        [
         "7",
         "I don't understand why people hype that game, it's so boring.",
         "-1"
        ],
        [
         "8",
         "Finally met [NAME] today and they were just as cool IRL!",
         "1"
        ],
        [
         "9",
         "That meeting was a waste of time, could have been an email. 🙄",
         "-1"
        ],
        [
         "10",
         "Did anyone else see the new episode? It was amazing! 🤘",
         "1"
        ],
        [
         "11",
         "I really don't like the way they handled that scene.",
         "-1"
        ],
        [
         "12",
         "Honestly, this is the best community I've been part of! 😄",
         "1"
        ],
        [
         "13",
         "Why is everyone so obsessed with that game? It's overrated.",
         "-1"
        ],
        [
         "14",
         "The food there is absolutely fantastic, you gotta try it.",
         "1"
        ],
        [
         "15",
         "I'm not a fan of how they redesigned the interface, it looks messy.",
         "-1"
        ],
        [
         "16",
         "Thanks to everyone for the help, you're all awesome! ❤️",
         "1"
        ],
        [
         "17",
         "Ugh, the movie was such a letdown, I was bored.",
         "-1"
        ],
        [
         "18",
         "Had the best time with [NAME] today, can't wait to do it again!",
         "1"
        ],
        [
         "19",
         "I was really disappointed when my order got messed up.",
         "-1"
        ],
        [
         "20",
         "I'm so excited for the movie tonight! 🎥",
         "1"
        ],
        [
         "21",
         "Idk why ppl love that game, it's so boring 😒",
         "-1"
        ],
        [
         "22",
         "This is honestly the best cake I've ever had, love it! 🍰",
         "1"
        ],
        [
         "23",
         "The update on my phone just made everything worse ugh",
         "-1"
        ],
        [
         "24",
         "I met [NAME] last week and they were super nice to me!",
         "1"
        ],
        [
         "25",
         "Not gonna lie, the service at that restaurant was terrible",
         "-1"
        ],
        [
         "26",
         "Really happy with how the project turned out, great team effort!",
         "1"
        ],
        [
         "27",
         "Why is it so hard to find a good pizza place in this city? 😑",
         "-1"
        ],
        [
         "28",
         "Finally got my promotion and I'm over the moon right now! 🌟",
         "1"
        ],
        [
         "29",
         "Ugh, another delay on my order. This is getting ridiculous",
         "-1"
        ],
        [
         "30",
         "I'm just sayin, this is the most awesome thing ever!!! 😍",
         "1"
        ],
        [
         "31",
         "Ugh, the service was terrible and the food was cold. Never again. 😡",
         "-1"
        ],
        [
         "32",
         "Wow, what an amazing game! The energy in the stadium was unreal!",
         "1"
        ],
        [
         "33",
         "I can't believe they canceled the show. It was the best part of my week. 😢",
         "-1"
        ],
        [
         "34",
         "Just got back from vacation, and it was honestly the best time of my life!",
         "1"
        ],
        [
         "35",
         "The app is so buggy, I can't even use it without crashing every time.",
         "-1"
        ],
        [
         "36",
         "Amazing concert last night! [NAME] was on fire! 🎸",
         "1"
        ],
        [
         "37",
         "Seriously, why does this always happen to me? I'm done with it. 😤",
         "-1"
        ],
        [
         "38",
         "Love how friendly everyone was at the event! Can't wait for next year!",
         "1"
        ],
        [
         "39",
         "The update ruined everything I liked about the game. It's not fun anymore.",
         "-1"
        ],
        [
         "40",
         "I'm really excited about the new game release, hope it's as good as they say! 😄",
         "1"
        ],
        [
         "41",
         "Ugh, I can't believe how slow the service was today. Just the worst.",
         "-1"
        ],
        [
         "42",
         "Just finished watching the movie, and wow, it was amazing! Highly recommend it.",
         "1"
        ],
        [
         "43",
         "I don't get why people like that show. It's so boring imo.",
         "-1"
        ],
        [
         "44",
         "It's awesome how supportive this community is. Really appreciate you guys!",
         "1"
        ],
        [
         "45",
         "Did you see that episode last night? It was terrible and so disappointing.",
         "-1"
        ],
        [
         "46",
         "Finally tried that new restaurant, and oh my, the food was delicious!",
         "1"
        ],
        [
         "47",
         "I was hoping for a better outcome, but it was a total letdown.",
         "-1"
        ],
        [
         "48",
         "Thank you all for the advice, it actually worked out perfectly for me!",
         "1"
        ],
        [
         "49",
         "Why does this app always have glitches? It's super frustrating.",
         "-1"
        ]
       ],
       "shape": {
        "columns": 2,
        "rows": 1000
       }
      },
      "text/html": [
       "<div>\n",
       "<style scoped>\n",
       "    .dataframe tbody tr th:only-of-type {\n",
       "        vertical-align: middle;\n",
       "    }\n",
       "\n",
       "    .dataframe tbody tr th {\n",
       "        vertical-align: top;\n",
       "    }\n",
       "\n",
       "    .dataframe thead th {\n",
       "        text-align: right;\n",
       "    }\n",
       "</style>\n",
       "<table border=\"1\" class=\"dataframe\">\n",
       "  <thead>\n",
       "    <tr style=\"text-align: right;\">\n",
       "      <th></th>\n",
       "      <th>sentences</th>\n",
       "      <th>labels</th>\n",
       "    </tr>\n",
       "  </thead>\n",
       "  <tbody>\n",
       "    <tr>\n",
       "      <th>0</th>\n",
       "      <td>I'm so happy for [NAME], they really deserve t...</td>\n",
       "      <td>1</td>\n",
       "    </tr>\n",
       "    <tr>\n",
       "      <th>1</th>\n",
       "      <td>Had the worst experience at the restaurant yes...</td>\n",
       "      <td>-1</td>\n",
       "    </tr>\n",
       "    <tr>\n",
       "      <th>2</th>\n",
       "      <td>Can't believe how awesome the concert was last...</td>\n",
       "      <td>1</td>\n",
       "    </tr>\n",
       "    <tr>\n",
       "      <th>3</th>\n",
       "      <td>[NAME] really messed up this time, can't trust...</td>\n",
       "      <td>-1</td>\n",
       "    </tr>\n",
       "    <tr>\n",
       "      <th>4</th>\n",
       "      <td>Just finished the book you recommended, it was...</td>\n",
       "      <td>1</td>\n",
       "    </tr>\n",
       "    <tr>\n",
       "      <th>...</th>\n",
       "      <td>...</td>\n",
       "      <td>...</td>\n",
       "    </tr>\n",
       "    <tr>\n",
       "      <th>495</th>\n",
       "      <td>Can't believe how bad the food was at that pla...</td>\n",
       "      <td>-1</td>\n",
       "    </tr>\n",
       "    <tr>\n",
       "      <th>496</th>\n",
       "      <td>Got to see my favorite band live, still buzzing!</td>\n",
       "      <td>1</td>\n",
       "    </tr>\n",
       "    <tr>\n",
       "      <th>497</th>\n",
       "      <td>I've had enough of the service there, it's alw...</td>\n",
       "      <td>-1</td>\n",
       "    </tr>\n",
       "    <tr>\n",
       "      <th>498</th>\n",
       "      <td>Just finished the series and OMG, loved every ...</td>\n",
       "      <td>1</td>\n",
       "    </tr>\n",
       "    <tr>\n",
       "      <th>499</th>\n",
       "      <td>I wasted my time on this movie, it was just bo...</td>\n",
       "      <td>-1</td>\n",
       "    </tr>\n",
       "  </tbody>\n",
       "</table>\n",
       "<p>1000 rows × 2 columns</p>\n",
       "</div>"
      ],
      "text/plain": [
       "                                             sentences  labels\n",
       "0    I'm so happy for [NAME], they really deserve t...       1\n",
       "1    Had the worst experience at the restaurant yes...      -1\n",
       "2    Can't believe how awesome the concert was last...       1\n",
       "3    [NAME] really messed up this time, can't trust...      -1\n",
       "4    Just finished the book you recommended, it was...       1\n",
       "..                                                 ...     ...\n",
       "495  Can't believe how bad the food was at that pla...      -1\n",
       "496   Got to see my favorite band live, still buzzing!       1\n",
       "497  I've had enough of the service there, it's alw...      -1\n",
       "498  Just finished the series and OMG, loved every ...       1\n",
       "499  I wasted my time on this movie, it was just bo...      -1\n",
       "\n",
       "[1000 rows x 2 columns]"
      ]
     },
     "execution_count": 97,
     "metadata": {},
     "output_type": "execute_result"
    }
   ],
   "source": [
    "gen_df"
   ]
  },
  {
   "cell_type": "code",
   "execution_count": 100,
   "id": "e283be19",
   "metadata": {},
   "outputs": [
    {
     "data": {
      "application/vnd.microsoft.datawrangler.viewer.v0+json": {
       "columns": [
        {
         "name": "index",
         "rawType": "int64",
         "type": "integer"
        },
        {
         "name": "sentences",
         "rawType": "object",
         "type": "string"
        },
        {
         "name": "labels",
         "rawType": "int64",
         "type": "integer"
        }
       ],
       "ref": "14894848-7287-47a6-b0d0-3f6cc6c2faf5",
       "rows": [
        [
         "0",
         "That's really sad. I used to live not far from there and spent a lot of time in that park. Fished in those ponds many times.",
         "-1"
        ],
        [
         "1",
         "Bless your heart.",
         "1"
        ],
        [
         "2",
         "I actually don’t mind Sudbury to Nipigon but whole North Ontario sucks overall.",
         "-1"
        ],
        [
         "3",
         "Pfft. That's awful of him and her. They deserve each other then. Grab your shite and gtfo. Hope he enjoys his fog and dysfunction.",
         "-1"
        ],
        [
         "4",
         "Came here to say this",
         "1"
        ],
        [
         "5",
         "The real power move is to write \"Have a nice day\" even if you lose.",
         "1"
        ],
        [
         "6",
         "That's not really libertarianism, is it?",
         "-1"
        ],
        [
         "7",
         "I'm a fan from Oregon and listen to KFANN alot. If PA i sucks so much what do locals listen to?",
         "-1"
        ],
        [
         "8",
         "Its just a prank bro.",
         "1"
        ],
        [
         "9",
         "[NAME] is a traitor to this country.",
         "-1"
        ],
        [
         "10",
         "Sorry, I was misinformed. My apologies, brother in [NAME].",
         "-1"
        ],
        [
         "11",
         "And they went to therapy. At least they made active steps to work on their problems unlike a lot of other people.",
         "1"
        ],
        [
         "12",
         "Mexico didn't start the war. Thats probably where you are confused. The US invaded Mexico in both occasions, Mexico only defended itself in both occasions.",
         "-1"
        ],
        [
         "13",
         "Non-stop fun.",
         "1"
        ],
        [
         "14",
         "Wow man, that is DEAD. You have no marriage, just a roommate. Life is short, get out and find someone who meets your needs.",
         "1"
        ],
        [
         "15",
         "That's an unusual idea, I must try it out! Thank you!",
         "1"
        ],
        [
         "16",
         "A fucking power outage during a hurricane and your car is fucked.",
         "-1"
        ],
        [
         "17",
         "Wow man, that is DEAD. You have no marriage, just a roommate. Life is short, get out and find someone who meets your needs.",
         "1"
        ],
        [
         "18",
         "There are a few. I've gotten a couple messages. Thanks for the support but people judging my throwaway account... who cares?",
         "1"
        ],
        [
         "19",
         "great pass wiggins",
         "1"
        ],
        [
         "20",
         "Thank you for this!",
         "1"
        ],
        [
         "21",
         "yes, I could link the playlist, but my voice was even higher back then than it is now, and the video quality is terrible",
         "-1"
        ],
        [
         "22",
         "Lol.... i guess your personal experience explains everything.... personally I've seen this play out numerous times in the work place..... so.....",
         "1"
        ],
        [
         "23",
         "Yes, it can be a very stressful read at times.",
         "-1"
        ],
        [
         "24",
         "Shiiiiit I’m about to fuck [NAME].",
         "-1"
        ],
        [
         "25",
         "Most important!!! ALWAYS AIM THE HEAD! [NAME] arrows are pretty fat woodsticks, so keep aiming on the head on long distance. Thats it",
         "1"
        ],
        [
         "26",
         "Haha, why are you still thinking about that? That's super weird.",
         "1"
        ],
        [
         "27",
         "Good call. Run!",
         "1"
        ],
        [
         "28",
         "We never knew what friends we had, until we came to Lehningrad",
         "-1"
        ],
        [
         "29",
         "They are loving this choice in maga canada of course. Just a typical day of bigotry.",
         "1"
        ],
        [
         "30",
         "Just made it! ‘03! StOp GrOuPiNg Me In WiTh ThE tIdE pOd GeNeRaTiOn!",
         "-1"
        ],
        [
         "31",
         "Yes. (That's the back side of the Palace hotel.)",
         "1"
        ],
        [
         "32",
         "A one-line whip is still whipping against, although it is a pretty disappointing decision.",
         "1"
        ],
        [
         "33",
         "I could see that nobody wants to be called ignorant. I also learned about the fallacy from [NAME].",
         "-1"
        ],
        [
         "34",
         "i was not prepared for this",
         "1"
        ],
        [
         "35",
         "I love how they keep getting smaller 🙊",
         "1"
        ],
        [
         "36",
         "The first resonates with me much more than the second.",
         "-1"
        ],
        [
         "37",
         "Ha! I like that one.",
         "1"
        ],
        [
         "38",
         "To bad we aren’t getting [NAME] vs [NAME] and [NAME] literally burning it down to close out mania. But man I love this belt.",
         "1"
        ],
        [
         "39",
         "That's great to hear, we need more Maki lovers",
         "1"
        ],
        [
         "40",
         "Oh poor guy. That’s so sad. I can see why she is an ex friend.",
         "-1"
        ],
        [
         "41",
         "nah he only had one good year really",
         "-1"
        ],
        [
         "42",
         "Obviously. Just like men are not raping or beating their wives. Rapists and wife beaters are. Thanks for playing.",
         "1"
        ],
        [
         "43",
         "There was an article about it in E news. I pray for everyone, no one is above that or below that. ",
         "1"
        ],
        [
         "44",
         "Pretty sure that had been upped to at least 10k subs. It actually might even be higher now.",
         "1"
        ],
        [
         "45",
         "Only Ten more minutes of watching [NAME] drop easy ass throws",
         "-1"
        ],
        [
         "46",
         "This is adorable I want an update",
         "1"
        ],
        [
         "47",
         "I miss the bch/bsv war...the quality of posts were getting better....back to square 1",
         "-1"
        ],
        [
         "48",
         "You gotta try harder than that. That wouldnt even take a bronze in mental gymnastics",
         "1"
        ],
        [
         "49",
         "Just turned on the game. I hope I brought the boys some good luck",
         "1"
        ]
       ],
       "shape": {
        "columns": 2,
        "rows": 1000
       }
      },
      "text/html": [
       "<div>\n",
       "<style scoped>\n",
       "    .dataframe tbody tr th:only-of-type {\n",
       "        vertical-align: middle;\n",
       "    }\n",
       "\n",
       "    .dataframe tbody tr th {\n",
       "        vertical-align: top;\n",
       "    }\n",
       "\n",
       "    .dataframe thead th {\n",
       "        text-align: right;\n",
       "    }\n",
       "</style>\n",
       "<table border=\"1\" class=\"dataframe\">\n",
       "  <thead>\n",
       "    <tr style=\"text-align: right;\">\n",
       "      <th></th>\n",
       "      <th>sentences</th>\n",
       "      <th>labels</th>\n",
       "    </tr>\n",
       "  </thead>\n",
       "  <tbody>\n",
       "    <tr>\n",
       "      <th>0</th>\n",
       "      <td>That's really sad. I used to live not far from...</td>\n",
       "      <td>-1</td>\n",
       "    </tr>\n",
       "    <tr>\n",
       "      <th>1</th>\n",
       "      <td>Bless your heart.</td>\n",
       "      <td>1</td>\n",
       "    </tr>\n",
       "    <tr>\n",
       "      <th>2</th>\n",
       "      <td>I actually don’t mind Sudbury to Nipigon but w...</td>\n",
       "      <td>-1</td>\n",
       "    </tr>\n",
       "    <tr>\n",
       "      <th>3</th>\n",
       "      <td>Pfft. That's awful of him and her. They deserv...</td>\n",
       "      <td>-1</td>\n",
       "    </tr>\n",
       "    <tr>\n",
       "      <th>4</th>\n",
       "      <td>Came here to say this</td>\n",
       "      <td>1</td>\n",
       "    </tr>\n",
       "    <tr>\n",
       "      <th>...</th>\n",
       "      <td>...</td>\n",
       "      <td>...</td>\n",
       "    </tr>\n",
       "    <tr>\n",
       "      <th>995</th>\n",
       "      <td>That sounds really cool! I'll be there</td>\n",
       "      <td>1</td>\n",
       "    </tr>\n",
       "    <tr>\n",
       "      <th>996</th>\n",
       "      <td>I see you're a man of culture as well. But rea...</td>\n",
       "      <td>1</td>\n",
       "    </tr>\n",
       "    <tr>\n",
       "      <th>997</th>\n",
       "      <td>So bad its funny</td>\n",
       "      <td>1</td>\n",
       "    </tr>\n",
       "    <tr>\n",
       "      <th>998</th>\n",
       "      <td>Lol I don’t disagree, but the perimeter defens...</td>\n",
       "      <td>1</td>\n",
       "    </tr>\n",
       "    <tr>\n",
       "      <th>999</th>\n",
       "      <td>Ok! I like making friends</td>\n",
       "      <td>1</td>\n",
       "    </tr>\n",
       "  </tbody>\n",
       "</table>\n",
       "<p>1000 rows × 2 columns</p>\n",
       "</div>"
      ],
      "text/plain": [
       "                                             sentences  labels\n",
       "0    That's really sad. I used to live not far from...      -1\n",
       "1                                    Bless your heart.       1\n",
       "2    I actually don’t mind Sudbury to Nipigon but w...      -1\n",
       "3    Pfft. That's awful of him and her. They deserv...      -1\n",
       "4                                Came here to say this       1\n",
       "..                                                 ...     ...\n",
       "995             That sounds really cool! I'll be there       1\n",
       "996  I see you're a man of culture as well. But rea...       1\n",
       "997                                   So bad its funny       1\n",
       "998  Lol I don’t disagree, but the perimeter defens...       1\n",
       "999                          Ok! I like making friends       1\n",
       "\n",
       "[1000 rows x 2 columns]"
      ]
     },
     "execution_count": 100,
     "metadata": {},
     "output_type": "execute_result"
    }
   ],
   "source": [
    "orig_df"
   ]
  },
  {
   "cell_type": "code",
   "execution_count": 106,
   "id": "79f554fb",
   "metadata": {},
   "outputs": [],
   "source": [
    "gen_embeddings = np.array(sentence_transformer.encode(gen_df['sentences']))\n",
    "orig_embeddings = np.array(sentence_transformer.encode(orig_df['sentences']))"
   ]
  },
  {
   "cell_type": "code",
   "execution_count": 108,
   "id": "73f48653",
   "metadata": {},
   "outputs": [],
   "source": [
    "def report_MMD(X, Y, normalize=False):\n",
    "    \n",
    "    tensorX = torch.tensor(X)\n",
    "    tensorY = torch.tensor(Y)\n",
    "    rbf_mmd = MMD(tensorX, tensorY, \"rbf\")\n",
    "    scale_mmd = MMD(tensorX, tensorY, \"multiscale\")\n",
    "\n",
    "\n",
    "    if normalize:\n",
    "        return (rbf_mmd.item() / np.sqrt((1.0 / X.shape[0]) + (1.0 / Y.shape[0]))), (scale_mmd.item() / np.sqrt(1.0 / X.shape[0] + 1.0 / Y.shape[0]))\n",
    "    else:\n",
    "        return rbf_mmd.item(), scale_mmd.item()"
   ]
  },
  {
   "cell_type": "code",
   "execution_count": 110,
   "id": "4994fe03",
   "metadata": {},
   "outputs": [
    {
     "data": {
      "text/plain": [
       "(0.5528775827278929, 2.071449005111452)"
      ]
     },
     "execution_count": 110,
     "metadata": {},
     "output_type": "execute_result"
    }
   ],
   "source": [
    "report_MMD(gen_embeddings, orig_embeddings, normalize=True)"
   ]
  }
 ],
 "metadata": {
  "kernelspec": {
   "display_name": "Python 3",
   "language": "python",
   "name": "python3"
  },
  "language_info": {
   "codemirror_mode": {
    "name": "ipython",
    "version": 3
   },
   "file_extension": ".py",
   "mimetype": "text/x-python",
   "name": "python",
   "nbconvert_exporter": "python",
   "pygments_lexer": "ipython3",
   "version": "3.9.6"
  }
 },
 "nbformat": 4,
 "nbformat_minor": 5
}
