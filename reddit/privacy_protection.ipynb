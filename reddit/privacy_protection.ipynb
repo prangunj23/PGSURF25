{
 "cells": [
  {
   "cell_type": "code",
   "execution_count": 1,
   "id": "779cfe2e",
   "metadata": {},
   "outputs": [],
   "source": [
    "import sys\n",
    "sys.path.append('../utilities/')"
   ]
  },
  {
   "cell_type": "code",
   "execution_count": 2,
   "id": "786135f3",
   "metadata": {},
   "outputs": [
    {
     "name": "stderr",
     "output_type": "stream",
     "text": [
      "/Users/pranitgunjal/Library/Python/3.9/lib/python/site-packages/urllib3/__init__.py:35: NotOpenSSLWarning: urllib3 v2 only supports OpenSSL 1.1.1+, currently the 'ssl' module is compiled with 'LibreSSL 2.8.3'. See: https://github.com/urllib3/urllib3/issues/3020\n",
      "  warnings.warn(\n"
     ]
    }
   ],
   "source": [
    "import pandas as pd\n",
    "import numpy as np\n",
    "from sklearn import svm\n",
    "from sklearn.model_selection import train_test_split, GridSearchCV\n",
    "from sklearn.metrics import accuracy_score, precision_score, recall_score, roc_auc_score\n",
    "import torch\n",
    "from sentence_transformers import SentenceTransformer\n",
    "from joblib import dump\n",
    "from openai import OpenAI\n",
    "from tqdm import tqdm\n",
    "from mmd import MMD\n",
    "import re\n",
    "from sklearn.feature_extraction.text import CountVectorizer"
   ]
  },
  {
   "cell_type": "markdown",
   "id": "d42e3d1a",
   "metadata": {},
   "source": [
    "# **Tools Setup**"
   ]
  },
  {
   "cell_type": "code",
   "execution_count": 3,
   "id": "d3e1b77d",
   "metadata": {},
   "outputs": [],
   "source": [
    "API_KEY = \"***REMOVED***proj-0UjcP502wYIPoNWqF8jfT3BlbkFJIxTanFmlBGh0Om851d4z\"\n",
    "client = OpenAI(api_key=API_KEY)"
   ]
  },
  {
   "cell_type": "code",
   "execution_count": 4,
   "id": "c1b6311c",
   "metadata": {},
   "outputs": [],
   "source": [
    "sentence_transformer = SentenceTransformer('all-mpnet-base-v2')"
   ]
  },
  {
   "cell_type": "markdown",
   "id": "903c6ba6",
   "metadata": {},
   "source": [
    "# **DataFrame Reading**"
   ]
  },
  {
   "cell_type": "code",
   "execution_count": 5,
   "id": "8fe9c5b1",
   "metadata": {},
   "outputs": [],
   "source": [
    "df = pd.read_csv('../data/initial_datasets/reddit_train.csv')"
   ]
  },
  {
   "cell_type": "code",
   "execution_count": 6,
   "id": "2f241a30",
   "metadata": {},
   "outputs": [],
   "source": [
    "sample_df = df.sample(n=1000)"
   ]
  },
  {
   "cell_type": "code",
   "execution_count": 7,
   "id": "594e55a6",
   "metadata": {},
   "outputs": [
    {
     "data": {
      "application/vnd.microsoft.datawrangler.viewer.v0+json": {
       "columns": [
        {
         "name": "index",
         "rawType": "int64",
         "type": "integer"
        },
        {
         "name": "text",
         "rawType": "object",
         "type": "string"
        },
        {
         "name": "label",
         "rawType": "int64",
         "type": "integer"
        }
       ],
       "ref": "9d2d4835-6e8f-4cc6-b5ea-8366dc12d57b",
       "rows": [
        [
         "19514",
         "Thank you! I will!",
         "1"
        ],
        [
         "11292",
         "Im desperately hoping that that is either sarcasm or a troll.",
         "1"
        ],
        [
         "16166",
         "That was a very well put together video, entertaining and informative. [NAME] is a national treasure.",
         "1"
        ],
        [
         "40564",
         "I would try to find someone who wasn’t married and exploring sex parties because...I’m boring as fuck, I guess.",
         "1"
        ],
        [
         "6347",
         "Which makes zero sense lol",
         "1"
        ],
        [
         "4856",
         "nolan is overrated",
         "-1"
        ],
        [
         "23568",
         "Downvote because prophet",
         "-1"
        ],
        [
         "38018",
         "Thanks, Now I hate you, and will have dreams about this tonight.... Just what I needed",
         "-1"
        ],
        [
         "20960",
         "JV for AD - i know its lopsided, but we need to swallow that pill.",
         "-1"
        ],
        [
         "28702",
         "I was in the hospital two years ago and definitely had His help! My family saw some signs. It was very amazing.",
         "1"
        ],
        [
         "8056",
         "Great for domestic workers.",
         "1"
        ],
        [
         "20499",
         "It makes for awkward conversation when I ask \"What's your favorite song?\" And I get \"I just liked the shirt\" in response",
         "-1"
        ],
        [
         "4197",
         "It seriously is impressive to wake up and see Clemson fans taking full blown hay makers at all of their competition at once.",
         "1"
        ],
        [
         "22434",
         "I love the people who confuse this sub for some kind of \"intellectual\" gathering lmao",
         "1"
        ],
        [
         "20626",
         "Yes! My Big Fat Fabulous Life",
         "1"
        ],
        [
         "38744",
         "This guy gets it (and feels it as well... Sorry brother)",
         "-1"
        ],
        [
         "34768",
         "Replace that friend with a whole pile of desillusioned friends and you might as well @me",
         "1"
        ],
        [
         "6031",
         "I feel like she’s going to defect sometime between now and when the baby is 6 months old... I hope she sees the light! 💛",
         "1"
        ],
        [
         "23335",
         "No. It’s creepy.",
         "-1"
        ],
        [
         "23757",
         "Oh no, not what I meant at all! Sorry for the confusion :O",
         "-1"
        ],
        [
         "4891",
         "Parks and Rec gets great in season 3. However The Office is still better.",
         "1"
        ],
        [
         "24301",
         "Sadly this is not a new issue for Ukraine. Please take a moment to remember Babi Yar :(",
         "-1"
        ],
        [
         "6304",
         "I mean I love [NAME] as a player, but emotional attachment aside, we really need a consistent shooter ",
         "1"
        ],
        [
         "39077",
         "Thanks friend, you have a good day! ([NAME] is fab btw just not quite [NAME] or [NAME] for me!)",
         "1"
        ],
        [
         "27688",
         "I will never forgive and never forget for this one",
         "-1"
        ],
        [
         "4206",
         "One of my favorite post fight moments, [NAME] is a funny guy. ",
         "1"
        ],
        [
         "28305",
         "this is just brother and sister but with extra steps",
         "1"
        ],
        [
         "6384",
         "Yep that’s the problem I have. Can’t make friends",
         "-1"
        ],
        [
         "13015",
         "Hey at least we’re still 5th after losing 2 straight.",
         "1"
        ],
        [
         "3270",
         "You are a human, because of off-by-one error*. THIS IS A GOOD ~~BOT~~ FELLOW HUMAN.",
         "1"
        ],
        [
         "23273",
         "GG. We played as best as we could. Utah just a better team.",
         "1"
        ],
        [
         "21694",
         "Sob then! Be with the emotions and let them out until they pass. I always feel better afterwards.",
         "1"
        ],
        [
         "7602",
         "[NAME] is an awesome film school...not surprised this came from Dodge",
         "1"
        ],
        [
         "32744",
         "Welcome to the party pal!",
         "1"
        ],
        [
         "27536",
         "More kids = more people to get addicted to Disney In an odd way I could see that happening.",
         "1"
        ],
        [
         "15495",
         "Perfect World was my first mmorpg that I played for years. Super fond memories of the game.",
         "1"
        ],
        [
         "39718",
         "I thought she would run into an axe thrower and barely miss the axe!",
         "1"
        ],
        [
         "15176",
         "I talked to her family previous co workers and friends",
         "1"
        ],
        [
         "32526",
         "Same. OP go hug your mom and tell her she matters to you and your brother. Support and love would be your best bet.",
         "1"
        ],
        [
         "16932",
         "My first [NAME] bio said something like \"I'm not gonna fuck any of you, so don't try\"😂😂",
         "-1"
        ],
        [
         "35610",
         "I can't keep up! This drama is too much 😭🤣",
         "-1"
        ],
        [
         "31192",
         "Infatuation and love and really different and I've found our the hard way, wait a couple weeks before using the big L word Nice tho :)",
         "-1"
        ],
        [
         "31343",
         "Welcome to the gloaming. Yes.",
         "1"
        ],
        [
         "7353",
         "I want someone to just spoil every remaining elimination for them.",
         "1"
        ],
        [
         "31749",
         "This. One of my biggest pet peeves. What the hell does it even mean?",
         "-1"
        ],
        [
         "17905",
         "Same here, i hope my upcoming trip is gonna kill me",
         "1"
        ],
        [
         "16575",
         "Women, in the modern world, know how to fight these weasels. We need many more women in positions of power.",
         "1"
        ],
        [
         "27410",
         "Happy cake day!",
         "1"
        ],
        [
         "39088",
         "I live in southern Ohio and my WV based phlebotomist was literally was just telling me about this today,",
         "1"
        ],
        [
         "25978",
         "Disturbing =/= awful. Its incredibly well done by a professional. I feel like this sub is more for unintentional awfulness, not purposeful shock value/ theatrical makeup.",
         "-1"
        ]
       ],
       "shape": {
        "columns": 2,
        "rows": 1000
       }
      },
      "text/html": [
       "<div>\n",
       "<style scoped>\n",
       "    .dataframe tbody tr th:only-of-type {\n",
       "        vertical-align: middle;\n",
       "    }\n",
       "\n",
       "    .dataframe tbody tr th {\n",
       "        vertical-align: top;\n",
       "    }\n",
       "\n",
       "    .dataframe thead th {\n",
       "        text-align: right;\n",
       "    }\n",
       "</style>\n",
       "<table border=\"1\" class=\"dataframe\">\n",
       "  <thead>\n",
       "    <tr style=\"text-align: right;\">\n",
       "      <th></th>\n",
       "      <th>text</th>\n",
       "      <th>label</th>\n",
       "    </tr>\n",
       "  </thead>\n",
       "  <tbody>\n",
       "    <tr>\n",
       "      <th>19514</th>\n",
       "      <td>Thank you! I will!</td>\n",
       "      <td>1</td>\n",
       "    </tr>\n",
       "    <tr>\n",
       "      <th>11292</th>\n",
       "      <td>Im desperately hoping that that is either sarc...</td>\n",
       "      <td>1</td>\n",
       "    </tr>\n",
       "    <tr>\n",
       "      <th>16166</th>\n",
       "      <td>That was a very well put together video, enter...</td>\n",
       "      <td>1</td>\n",
       "    </tr>\n",
       "    <tr>\n",
       "      <th>40564</th>\n",
       "      <td>I would try to find someone who wasn’t married...</td>\n",
       "      <td>1</td>\n",
       "    </tr>\n",
       "    <tr>\n",
       "      <th>6347</th>\n",
       "      <td>Which makes zero sense lol</td>\n",
       "      <td>1</td>\n",
       "    </tr>\n",
       "    <tr>\n",
       "      <th>...</th>\n",
       "      <td>...</td>\n",
       "      <td>...</td>\n",
       "    </tr>\n",
       "    <tr>\n",
       "      <th>1794</th>\n",
       "      <td>Their mere presence is all it takes, but being...</td>\n",
       "      <td>1</td>\n",
       "    </tr>\n",
       "    <tr>\n",
       "      <th>31518</th>\n",
       "      <td>We love him, duh. He's our NT captain and our ...</td>\n",
       "      <td>1</td>\n",
       "    </tr>\n",
       "    <tr>\n",
       "      <th>1034</th>\n",
       "      <td>Thank you for your advice! I really do appreci...</td>\n",
       "      <td>1</td>\n",
       "    </tr>\n",
       "    <tr>\n",
       "      <th>23796</th>\n",
       "      <td>&gt;YOUR STATEMENT I'm not that person.</td>\n",
       "      <td>1</td>\n",
       "    </tr>\n",
       "    <tr>\n",
       "      <th>16504</th>\n",
       "      <td>Hey bro there’s no judging here</td>\n",
       "      <td>-1</td>\n",
       "    </tr>\n",
       "  </tbody>\n",
       "</table>\n",
       "<p>1000 rows × 2 columns</p>\n",
       "</div>"
      ],
      "text/plain": [
       "                                                    text  label\n",
       "19514                                 Thank you! I will!      1\n",
       "11292  Im desperately hoping that that is either sarc...      1\n",
       "16166  That was a very well put together video, enter...      1\n",
       "40564  I would try to find someone who wasn’t married...      1\n",
       "6347                          Which makes zero sense lol      1\n",
       "...                                                  ...    ...\n",
       "1794   Their mere presence is all it takes, but being...      1\n",
       "31518  We love him, duh. He's our NT captain and our ...      1\n",
       "1034   Thank you for your advice! I really do appreci...      1\n",
       "23796               >YOUR STATEMENT I'm not that person.      1\n",
       "16504                    Hey bro there’s no judging here     -1\n",
       "\n",
       "[1000 rows x 2 columns]"
      ]
     },
     "execution_count": 7,
     "metadata": {},
     "output_type": "execute_result"
    }
   ],
   "source": [
    "sample_df"
   ]
  },
  {
   "cell_type": "markdown",
   "id": "4daf59a4",
   "metadata": {},
   "source": [
    "# **Aggregate Stats**"
   ]
  },
  {
   "cell_type": "code",
   "execution_count": 8,
   "id": "5287dbe6",
   "metadata": {},
   "outputs": [],
   "source": [
    "sample_df['phrase_len'] = sample_df['text'].str.len()"
   ]
  },
  {
   "cell_type": "code",
   "execution_count": 9,
   "id": "3b54e810",
   "metadata": {},
   "outputs": [],
   "source": [
    "avg_len = sample_df['phrase_len'].mean()\n",
    "std_len = sample_df['phrase_len'].std()"
   ]
  },
  {
   "cell_type": "markdown",
   "id": "ef62a08f",
   "metadata": {},
   "source": [
    "## **Whole data Frequency**"
   ]
  },
  {
   "cell_type": "code",
   "execution_count": 10,
   "id": "704240ed",
   "metadata": {},
   "outputs": [],
   "source": [
    "sample_df['text'] = sample_df['text'].astype(str)"
   ]
  },
  {
   "cell_type": "code",
   "execution_count": 11,
   "id": "6b39b465",
   "metadata": {},
   "outputs": [],
   "source": [
    "vectorizer = CountVectorizer()\n",
    "X = vectorizer.fit_transform(sample_df['text'])\n",
    "counts = pd.DataFrame(X.toarray(), columns=vectorizer.get_feature_names_out())\n",
    "total_counts = counts.sum().sort_values(ascending=False)"
   ]
  },
  {
   "cell_type": "code",
   "execution_count": 12,
   "id": "c3e2133b",
   "metadata": {},
   "outputs": [],
   "source": [
    "total_counts = total_counts.reset_index()\n",
    "total_counts.columns = ['text', 'count']\n",
    "total_counts['freq'] = total_counts['count'] / total_counts['count'].sum()"
   ]
  },
  {
   "cell_type": "markdown",
   "id": "a9ab9346",
   "metadata": {},
   "source": [
    "## **Postive data Frequency**"
   ]
  },
  {
   "cell_type": "code",
   "execution_count": 13,
   "id": "b8a7c3f2",
   "metadata": {},
   "outputs": [],
   "source": [
    "positive_df = sample_df[sample_df['label'] == 1]\n",
    "X = vectorizer.fit_transform(positive_df['text'])\n",
    "counts = pd.DataFrame(X.toarray(), columns=vectorizer.get_feature_names_out())\n",
    "positive_counts = counts.sum().sort_values(ascending=False)"
   ]
  },
  {
   "cell_type": "markdown",
   "id": "0fa1229a",
   "metadata": {},
   "source": [
    "## **Negative data Frequency**"
   ]
  },
  {
   "cell_type": "code",
   "execution_count": 14,
   "id": "80766c44",
   "metadata": {},
   "outputs": [],
   "source": [
    "negative_df = sample_df[sample_df['label'] == -1]\n",
    "X = vectorizer.fit_transform(negative_df['text'])\n",
    "counts = pd.DataFrame(X.toarray(), columns=vectorizer.get_feature_names_out())\n",
    "negative_counts = counts.sum().sort_values(ascending=False)"
   ]
  },
  {
   "cell_type": "markdown",
   "id": "eb7e2878",
   "metadata": {},
   "source": [
    "## **Compare Across Both**"
   ]
  },
  {
   "cell_type": "code",
   "execution_count": 15,
   "id": "e4a48f92",
   "metadata": {},
   "outputs": [],
   "source": [
    "positive_counts = positive_counts.reset_index()\n",
    "negative_counts = negative_counts.reset_index()"
   ]
  },
  {
   "cell_type": "code",
   "execution_count": 16,
   "id": "3de524d8",
   "metadata": {},
   "outputs": [],
   "source": [
    "positive_counts.columns = ['text', 'count']\n",
    "negative_counts.columns = ['text', 'count']"
   ]
  },
  {
   "cell_type": "code",
   "execution_count": 17,
   "id": "4edda2e3",
   "metadata": {},
   "outputs": [],
   "source": [
    "positive_counts['freq'] = positive_counts['count'] / positive_counts['count'].sum()\n",
    "negative_counts['freq'] = negative_counts['count'] / negative_counts['count'].sum()"
   ]
  },
  {
   "cell_type": "code",
   "execution_count": 18,
   "id": "6048bfd8",
   "metadata": {},
   "outputs": [],
   "source": [
    "merged_df = pd.merge(positive_counts, negative_counts, on=['text'], how='outer').sort_values(by='freq_y', ascending=False)"
   ]
  },
  {
   "cell_type": "code",
   "execution_count": 19,
   "id": "a68ef5e5",
   "metadata": {},
   "outputs": [],
   "source": [
    "top_100 = total_counts.iloc[:100].merge(merged_df, on=['text'], how='left')"
   ]
  },
  {
   "cell_type": "code",
   "execution_count": 20,
   "id": "c0e1575f",
   "metadata": {},
   "outputs": [],
   "source": [
    "top_100 = top_100.drop(columns=['count', 'count_x', 'count_y'])"
   ]
  },
  {
   "cell_type": "code",
   "execution_count": 21,
   "id": "9155a908",
   "metadata": {},
   "outputs": [],
   "source": [
    "top_100.rename(columns={'freq_x': 'positive_freq', 'freq_y': 'negative_freq'}, inplace=True)"
   ]
  },
  {
   "cell_type": "code",
   "execution_count": 22,
   "id": "e22a6f13",
   "metadata": {},
   "outputs": [],
   "source": [
    "top_100 = top_100.drop(columns=['freq'])"
   ]
  },
  {
   "cell_type": "code",
   "execution_count": 23,
   "id": "3dbdc6d4",
   "metadata": {},
   "outputs": [
    {
     "data": {
      "application/vnd.microsoft.datawrangler.viewer.v0+json": {
       "columns": [
        {
         "name": "index",
         "rawType": "int64",
         "type": "integer"
        },
        {
         "name": "text",
         "rawType": "object",
         "type": "string"
        },
        {
         "name": "positive_freq",
         "rawType": "float64",
         "type": "float"
        },
        {
         "name": "negative_freq",
         "rawType": "float64",
         "type": "float"
        }
       ],
       "ref": "1110428c-3870-411a-b49b-0f2e9387081e",
       "rows": [
        [
         "0",
         "the",
         "0.03271537622682661",
         "0.03424794712597637"
        ],
        [
         "1",
         "to",
         "0.02480916030534351",
         "0.024033647105948328"
        ],
        [
         "2",
         "it",
         "0.02194656488549618",
         "0.02002803925495694"
        ],
        [
         "3",
         "and",
         "0.01935659760087241",
         "0.021029441217704788"
        ],
        [
         "4",
         "you",
         "0.02153762268266085",
         "0.017424394151812538"
        ],
        [
         "5",
         "that",
         "0.01594874591057797",
         "0.015822151011415982"
        ],
        [
         "6",
         "is",
         "0.015403489640130861",
         "0.014219907871019427"
        ],
        [
         "7",
         "of",
         "0.014040348964013086",
         "0.015621870618866412"
        ],
        [
         "8",
         "this",
         "0.01431297709923664",
         "0.014420188263568997"
        ],
        [
         "9",
         "name",
         "0.013358778625954198",
         "0.010614860805127179"
        ],
        [
         "10",
         "for",
         "0.014721919302071973",
         "0.007810935309433206"
        ],
        [
         "11",
         "in",
         "0.008996728462377318",
         "0.010214300020028039"
        ],
        [
         "12",
         "my",
         "0.00886041439476554",
         "0.006408972561586221"
        ],
        [
         "13",
         "just",
         "0.007360959651035987",
         "0.008612056879631484"
        ],
        [
         "14",
         "on",
         "0.008178844056706653",
         "0.007009813739234929"
        ],
        [
         "15",
         "be",
         "0.006679389312977099",
         "0.008411776487081914"
        ],
        [
         "16",
         "have",
         "0.006406761177753544",
         "0.008411776487081914"
        ],
        [
         "17",
         "like",
         "0.006679389312977099",
         "0.00680953334668536"
        ],
        [
         "18",
         "but",
         "0.006815703380588877",
         "0.00660925295413579"
        ],
        [
         "19",
         "not",
         "0.004225736095965104",
         "0.009813739234928901"
        ],
        [
         "20",
         "was",
         "0.006406761177753544",
         "0.006408972561586221"
        ],
        [
         "21",
         "so",
         "0.006543075245365322",
         "0.005808131383937512"
        ],
        [
         "22",
         "me",
         "0.0057251908396946565",
         "0.006208692169036651"
        ],
        [
         "23",
         "they",
         "0.003953107960741549",
         "0.008211496094532346"
        ],
        [
         "24",
         "are",
         "0.004634678298800436",
         "0.0072100941317844985"
        ],
        [
         "25",
         "with",
         "0.0057251908396946565",
         "0.0052072902062888045"
        ],
        [
         "26",
         "your",
         "0.006815703380588877",
         "0.0036050470658922492"
        ],
        [
         "27",
         "all",
         "0.004498364231188659",
         "0.005007009813739235"
        ],
        [
         "28",
         "don",
         "0.0027262813522355507",
         "0.007009813739234929"
        ],
        [
         "29",
         "he",
         "0.004225736095965104",
         "0.004806729421189666"
        ],
        [
         "30",
         "we",
         "0.005179934569247546",
         "0.00340476667334268"
        ],
        [
         "31",
         "love",
         "0.006406761177753544",
         "0.0008011215701982776"
        ],
        [
         "32",
         "would",
         "0.004634678298800436",
         "0.00340476667334268"
        ],
        [
         "33",
         "if",
         "0.003953107960741549",
         "0.004205888243540957"
        ],
        [
         "34",
         "can",
         "0.0034078516902944383",
         "0.005007009813739235"
        ],
        [
         "35",
         "an",
         "0.004225736095965104",
         "0.0036050470658922492"
        ],
        [
         "36",
         "one",
         "0.004225736095965104",
         "0.0036050470658922492"
        ],
        [
         "37",
         "what",
         "0.003271537622682661",
         "0.004806729421189666"
        ],
        [
         "38",
         "good",
         "0.0057251908396946565",
         "0.0012016823552974164"
        ],
        [
         "39",
         "about",
         "0.0036804798255179933",
         "0.004205888243540957"
        ],
        [
         "40",
         "at",
         "0.003816793893129771",
         "0.0032044862807931104"
        ],
        [
         "41",
         "re",
         "0.003544165757906216",
         "0.0032044862807931104"
        ],
        [
         "42",
         "too",
         "0.0028625954198473282",
         "0.004205888243540957"
        ],
        [
         "43",
         "people",
         "0.002589967284623773",
         "0.004606449028640096"
        ],
        [
         "44",
         "as",
         "0.003816793893129771",
         "0.0026036451031444022"
        ],
        [
         "45",
         "up",
         "0.0028625954198473282",
         "0.004005607850991388"
        ],
        [
         "46",
         "when",
         "0.0029989094874591058",
         "0.0036050470658922492"
        ],
        [
         "47",
         "get",
         "0.0028625954198473282",
         "0.0036050470658922492"
        ],
        [
         "48",
         "will",
         "0.0036804798255179933",
         "0.0022030843180452634"
        ],
        [
         "49",
         "she",
         "0.002317339149400218",
         "0.004205888243540957"
        ]
       ],
       "shape": {
        "columns": 3,
        "rows": 100
       }
      },
      "text/html": [
       "<div>\n",
       "<style scoped>\n",
       "    .dataframe tbody tr th:only-of-type {\n",
       "        vertical-align: middle;\n",
       "    }\n",
       "\n",
       "    .dataframe tbody tr th {\n",
       "        vertical-align: top;\n",
       "    }\n",
       "\n",
       "    .dataframe thead th {\n",
       "        text-align: right;\n",
       "    }\n",
       "</style>\n",
       "<table border=\"1\" class=\"dataframe\">\n",
       "  <thead>\n",
       "    <tr style=\"text-align: right;\">\n",
       "      <th></th>\n",
       "      <th>text</th>\n",
       "      <th>positive_freq</th>\n",
       "      <th>negative_freq</th>\n",
       "    </tr>\n",
       "  </thead>\n",
       "  <tbody>\n",
       "    <tr>\n",
       "      <th>0</th>\n",
       "      <td>the</td>\n",
       "      <td>0.032715</td>\n",
       "      <td>0.034248</td>\n",
       "    </tr>\n",
       "    <tr>\n",
       "      <th>1</th>\n",
       "      <td>to</td>\n",
       "      <td>0.024809</td>\n",
       "      <td>0.024034</td>\n",
       "    </tr>\n",
       "    <tr>\n",
       "      <th>2</th>\n",
       "      <td>it</td>\n",
       "      <td>0.021947</td>\n",
       "      <td>0.020028</td>\n",
       "    </tr>\n",
       "    <tr>\n",
       "      <th>3</th>\n",
       "      <td>and</td>\n",
       "      <td>0.019357</td>\n",
       "      <td>0.021029</td>\n",
       "    </tr>\n",
       "    <tr>\n",
       "      <th>4</th>\n",
       "      <td>you</td>\n",
       "      <td>0.021538</td>\n",
       "      <td>0.017424</td>\n",
       "    </tr>\n",
       "    <tr>\n",
       "      <th>...</th>\n",
       "      <td>...</td>\n",
       "      <td>...</td>\n",
       "      <td>...</td>\n",
       "    </tr>\n",
       "    <tr>\n",
       "      <th>95</th>\n",
       "      <td>made</td>\n",
       "      <td>0.001499</td>\n",
       "      <td>0.001602</td>\n",
       "    </tr>\n",
       "    <tr>\n",
       "      <th>96</th>\n",
       "      <td>their</td>\n",
       "      <td>0.001363</td>\n",
       "      <td>0.001803</td>\n",
       "    </tr>\n",
       "    <tr>\n",
       "      <th>97</th>\n",
       "      <td>who</td>\n",
       "      <td>0.001908</td>\n",
       "      <td>0.001001</td>\n",
       "    </tr>\n",
       "    <tr>\n",
       "      <th>98</th>\n",
       "      <td>want</td>\n",
       "      <td>0.001636</td>\n",
       "      <td>0.001402</td>\n",
       "    </tr>\n",
       "    <tr>\n",
       "      <th>99</th>\n",
       "      <td>yes</td>\n",
       "      <td>0.001772</td>\n",
       "      <td>0.001001</td>\n",
       "    </tr>\n",
       "  </tbody>\n",
       "</table>\n",
       "<p>100 rows × 3 columns</p>\n",
       "</div>"
      ],
      "text/plain": [
       "     text  positive_freq  negative_freq\n",
       "0     the       0.032715       0.034248\n",
       "1      to       0.024809       0.024034\n",
       "2      it       0.021947       0.020028\n",
       "3     and       0.019357       0.021029\n",
       "4     you       0.021538       0.017424\n",
       "..    ...            ...            ...\n",
       "95   made       0.001499       0.001602\n",
       "96  their       0.001363       0.001803\n",
       "97    who       0.001908       0.001001\n",
       "98   want       0.001636       0.001402\n",
       "99    yes       0.001772       0.001001\n",
       "\n",
       "[100 rows x 3 columns]"
      ]
     },
     "execution_count": 23,
     "metadata": {},
     "output_type": "execute_result"
    }
   ],
   "source": [
    "top_100"
   ]
  },
  {
   "cell_type": "markdown",
   "id": "60290f6b",
   "metadata": {},
   "source": [
    "# **Chat Generation**"
   ]
  },
  {
   "cell_type": "markdown",
   "id": "86915256",
   "metadata": {},
   "source": [
    "## **Instruction Based Prompting**"
   ]
  },
  {
   "cell_type": "code",
   "execution_count": 24,
   "id": "00a8bf39",
   "metadata": {},
   "outputs": [],
   "source": [
    "common_words = \"\\n\".join([\n",
    "    f\"{row['text']}: {row['positive_freq']} {row['negative_freq']}\"\n",
    "    for _, row in top_100.iterrows()\n",
    "])"
   ]
  },
  {
   "cell_type": "code",
   "execution_count": 25,
   "id": "b6f9963c",
   "metadata": {},
   "outputs": [],
   "source": [
    "instruction = (\n",
    "    \"You are a data generator tasked with creating realistic Reddit comments. \"\n",
    "    \"These comments should be labeled according to their sentiment: positive or negative.\\n\"\n",
    "    \"Base the style on typical Reddit comments — include informal internet language, typos, abbreviations, and emojis.\\n\"\n",
    "    \"You will be given statistics about the distribution, including average comment length, standard deviation, and most common words associated with each label.\\n\"\n",
    "    \"Use [NAME] as a placeholder anytime a person's name would appear.\\n\"\n",
    "    \"Generate exactly 10 realistic Reddit comments, one per line.\\n\"\n",
    "    \"Each line should follow this format: the comment in double quotes, followed by a space and then the label (1 for positive, -1 for negative).\\n\"\n",
    "    \"No extra formatting — just plain text output, one line per comment.\\n\"\n",
    "    \"Here is the format:\\n\"\n",
    "    \"\\\"I love pizza\\\" 1\\n\"\n",
    "    \"\\\"I hate baseball\\\" -1\"\n",
    ")\n",
    "input = (\n",
    "    f\"Here is the average length of all the comments: {avg_len}. \"\n",
    "    f\"Here is the standard deviation of the length for all the comments: {std_len}.\\n\"\n",
    "    f\"Here are the most frequent words (format: word: frequency (sentiment)):\\n\\n{common_words}\\n\"\n",
    "    f\"Now, generate the 10 new comments below:\"\n",
    ")"
   ]
  },
  {
   "cell_type": "code",
   "execution_count": 134,
   "id": "6d527c12",
   "metadata": {},
   "outputs": [
    {
     "name": "stdout",
     "output_type": "stream",
     "text": [
      "You are a data generator tasked with creating realistic Reddit comments, these comments should be labeled according to the sentiment, positive or negative.\n",
      "Base the style on what Reddit comments should look like, which contain informal internet language including typos, abbreviations, and emojis.\n",
      "You will also be given some statistics about the distribution, such as the average length and the standard deviation of the comments as well as the frequency of the most common words in positive and negative labelsUse [NAME] as a placeholder anytime a person's name would appear. Generate exactly 10 new and realistic Reddit comments, one per line. Label the comments with a 1 for positive or -1 for negative, attach a space at the end of the comment followed by the label. Separate each comment with a newline only. No extra formatting, just plain text.Here is the format:'I love pizza! 1''I hate baseball -1'\n"
     ]
    }
   ],
   "source": [
    "print(instruction)"
   ]
  },
  {
   "cell_type": "code",
   "execution_count": 136,
   "id": "cf133156",
   "metadata": {},
   "outputs": [
    {
     "name": "stdout",
     "output_type": "stream",
     "text": [
      "\"I'm really loving the new update, it's so smooth! 😄\" 1  \n",
      "\"I can't believe how buggy this app has become, it's the worst!\" -1  \n",
      "\"The movie was amazing, I had such a great time with [NAME]!\" 1  \n",
      "\"Ugh, the service at that restaurant was terrible, never going back.\" -1  \n",
      "\"I'm grateful for the support from everyone, it means a lot to me.\" 1  \n",
      "\"Wish they would fix the issues, the app crashes every time.\" -1  \n",
      "\"[NAME] is the best, always makes the experience so much fun!\" 1  \n",
      "\"This product was not worth the money, very disappointed.\" -1  \n",
      "\"Had an awesome weekend with friends, can't wait to do it again!\" 1  \n",
      "\"The package arrived damaged, I'm so annoyed with their service.\" -1\n"
     ]
    }
   ],
   "source": [
    "response = client.responses.create(\n",
    "    model=\"gpt-4o\",\n",
    "    instructions=instruction,\n",
    "    input=input\n",
    ")\n",
    "print(response.output_text)"
   ]
  },
  {
   "cell_type": "code",
   "execution_count": 38,
   "id": "01b1a5b0",
   "metadata": {},
   "outputs": [],
   "source": [
    "res = []\n",
    "for i in range(50):\n",
    "    response = client.responses.create(\n",
    "        model=\"gpt-4o\",\n",
    "        instructions=instruction,\n",
    "        input=input\n",
    "    )\n",
    "    res.append(response.output_text)"
   ]
  },
  {
   "cell_type": "code",
   "execution_count": 141,
   "id": "b99b4063",
   "metadata": {},
   "outputs": [
    {
     "name": "stdout",
     "output_type": "stream",
     "text": [
      "['\"I\\'m so happy for [NAME], they really deserve the promotion! 🎉\" 1  ', '\"Had the worst experience at the restaurant yesterday, not going back. 😒\" -1  ', '\"Can\\'t believe how awesome the concert was last night, still buzzing! 🎶\" 1  ', '\"[NAME] really messed up this time, can\\'t trust them anymore. 🙄\" -1  ', '\"Just finished the book you recommended, it was amazing, thank you!\" 1  ', '\"Their service was terrible, waited over an hour for cold food. 😠\" -1  ', '\"Honestly, that movie blew my mind, can\\'t stop thinking about it.\" 1  ', '\"I don\\'t understand why people hype that game, it\\'s so boring.\" -1  ', '\"Finally met [NAME] today and they were just as cool IRL!\" 1  ', '\"That meeting was a waste of time, could have been an email. 🙄\" -1']\n"
     ]
    }
   ],
   "source": [
    "print(res[0].split(\"\\n\"))"
   ]
  },
  {
   "cell_type": "code",
   "execution_count": 143,
   "id": "e125050d",
   "metadata": {},
   "outputs": [
    {
     "name": "stdout",
     "output_type": "stream",
     "text": [
      "Quoted text: I'm so happy for [NAME], they really deserve the promotion! 🎉\n",
      "Label: 1\n"
     ]
    }
   ],
   "source": [
    "temp = res[0].split(\"\\n\")[0]\n",
    "match = re.match(r'\"(.*?)\"\\s*(-?\\d+)', temp)\n",
    "\n",
    "if match:\n",
    "    quoted = match.group(1)      # 'I love pizza'\n",
    "    label = match.group(2)       # '1'\n",
    "    print(\"Quoted text:\", quoted)\n",
    "    print(\"Label:\", label)"
   ]
  },
  {
   "cell_type": "code",
   "execution_count": 39,
   "id": "7da45621",
   "metadata": {},
   "outputs": [],
   "source": [
    "labels = []\n",
    "sentences = []\n",
    "for i in range(50):\n",
    "    for word in res[i].split(\"\\n\"):\n",
    "        match = re.match(r'\"(.*?)\"\\s*(-?\\d+)', word)\n",
    "        if match:\n",
    "            quoted = match.group(1)      \n",
    "            label = match.group(2)       \n",
    "            sentences.append(quoted)\n",
    "            labels.append(int(label))"
   ]
  },
  {
   "cell_type": "code",
   "execution_count": 40,
   "id": "292c847c",
   "metadata": {},
   "outputs": [],
   "source": [
    "generated_df = pd.DataFrame({\n",
    "    'sentences': sentences,\n",
    "    'labels': labels\n",
    "})"
   ]
  },
  {
   "cell_type": "code",
   "execution_count": 36,
   "id": "2e740ffa",
   "metadata": {},
   "outputs": [],
   "source": [
    "first_df = generated_df"
   ]
  },
  {
   "cell_type": "code",
   "execution_count": 42,
   "id": "5bc371b3",
   "metadata": {},
   "outputs": [],
   "source": [
    "pd.concat([first_df, generated_df]).to_csv('../data/generated/reddit/privacy_protected/new_reddit_agg_stats_gen.csv', index=False)"
   ]
  },
  {
   "cell_type": "code",
   "execution_count": 33,
   "id": "df1d5842",
   "metadata": {},
   "outputs": [],
   "source": [
    "generated_df.to_csv('../data/generated/reddit/privacy_protected/new_reddit_agg_stats_gen.csv', index=False)"
   ]
  },
  {
   "cell_type": "markdown",
   "id": "dd00e090",
   "metadata": {},
   "source": [
    "## **Metrics for Generated Data**"
   ]
  },
  {
   "cell_type": "code",
   "execution_count": 30,
   "id": "385b6ac1",
   "metadata": {},
   "outputs": [],
   "source": [
    "generated_df['type'] = 'generated'\n",
    "sample_df['type'] = 'original'"
   ]
  },
  {
   "cell_type": "code",
   "execution_count": 31,
   "id": "ca9c3ffd",
   "metadata": {},
   "outputs": [
    {
     "data": {
      "application/vnd.microsoft.datawrangler.viewer.v0+json": {
       "columns": [
        {
         "name": "index",
         "rawType": "int64",
         "type": "integer"
        },
        {
         "name": "sentences",
         "rawType": "object",
         "type": "string"
        },
        {
         "name": "labels",
         "rawType": "int64",
         "type": "integer"
        },
        {
         "name": "type",
         "rawType": "object",
         "type": "string"
        }
       ],
       "ref": "e058c0b1-d299-4c22-8193-bd6f7a7bafa1",
       "rows": [
        [
         "0",
         "I'm so ready for the new season of [NAME]'s show, the last one was epic! 🎉",
         "1",
         "generated"
        ],
        [
         "1",
         "Ugh, I can't believe how bad the movie was, definitely not worth my time.",
         "-1",
         "generated"
        ],
        [
         "2",
         "Just finished the book and omg it was amazing, highly recommend it to everyone!",
         "1",
         "generated"
        ],
        [
         "3",
         "The weather today has been just awful, can't wait for summer to come back.",
         "-1",
         "generated"
        ],
        [
         "4",
         "Played the game with friends and we had such a blast, it was hilarious!",
         "1",
         "generated"
        ],
        [
         "5",
         "Another delay for the project and honestly it just sucks, we're all frustrated.",
         "-1",
         "generated"
        ],
        [
         "6",
         "Got a promotion today at work! I’m thrilled and can't wait to celebrate! 🎉",
         "1",
         "generated"
        ],
        [
         "7",
         "My internet has been down all day, and it's really driving me insane.",
         "-1",
         "generated"
        ],
        [
         "8",
         "Went hiking this weekend, and the views were absolutely breathtaking!",
         "1",
         "generated"
        ],
        [
         "9",
         "I tried the new restaurant and it was so disappointing, won't go back.",
         "-1",
         "generated"
        ],
        [
         "10",
         "I'm really enjoying the new series on Netflix, it's epic! 😍",
         "1",
         "generated"
        ],
        [
         "11",
         "Can't stand the way this game developers handle updates, so frustrating.",
         "-1",
         "generated"
        ],
        [
         "12",
         "Just had the best burger of my life at [NAME]'s place! 🍔🔥",
         "1",
         "generated"
        ],
        [
         "13",
         "Ugh, another day of terrible traffic, it's never-ending.",
         "-1",
         "generated"
        ],
        [
         "14",
         "Love how supportive the community here is, you guys rock! 🤘",
         "1",
         "generated"
        ],
        [
         "15",
         "Why do they always make things more complicated than necessary?",
         "-1",
         "generated"
        ],
        [
         "16",
         "Caught up with some old friends, and it was the best day ever 🌟",
         "1",
         "generated"
        ],
        [
         "17",
         "This weather is ruining all my plans. Not cool. ☔",
         "-1",
         "generated"
        ],
        [
         "18",
         "Finally completed my project, feeling so accomplished! 🙌",
         "1",
         "generated"
        ],
        [
         "19",
         "Truly can't believe they canceled my favorite show, what a bummer.",
         "-1",
         "generated"
        ],
        [
         "20",
         "I think this game is freaking amazing, played all night! 🎮",
         "1",
         "generated"
        ],
        [
         "21",
         "The service at that place was so bad, never going back...",
         "-1",
         "generated"
        ],
        [
         "22",
         "Wow, this movie blew my mind, the story was insane!",
         "1",
         "generated"
        ],
        [
         "23",
         "Ugh, why is the internet so slow today? It's driving me nuts.",
         "-1",
         "generated"
        ],
        [
         "24",
         "Got the new phone and it's seriously the best thing ever!",
         "1",
         "generated"
        ],
        [
         "25",
         "Can't believe how rude people are online these days 🤦‍♂️",
         "-1",
         "generated"
        ],
        [
         "26",
         "Just finished the book and it's hands down one of my faves now!",
         "1",
         "generated"
        ],
        [
         "27",
         "Spent hours waiting for a table, just not worth it 🤷",
         "-1",
         "generated"
        ],
        [
         "28",
         "Had an awesome day at the beach, perfect weather 🌞",
         "1",
         "generated"
        ],
        [
         "29",
         "Ordered the pizza and it was cold and awful, what a waste of money.",
         "-1",
         "generated"
        ],
        [
         "30",
         "I'm so happy with how the project turned out, really made my day! 😊",
         "1",
         "generated"
        ],
        [
         "31",
         "Can't believe I wasted my time on this, it's just really bad.",
         "-1",
         "generated"
        ],
        [
         "32",
         "Thanks for all the support, you guys are the best! 🙌",
         "1",
         "generated"
        ],
        [
         "33",
         "This app keeps crashing, and it's driving me nuts. Not worth it.",
         "-1",
         "generated"
        ],
        [
         "34",
         "Love how this community comes together to help one another. ❤️",
         "1",
         "generated"
        ],
        [
         "35",
         "Worst service ever, wouldn't recommend it to anyone.",
         "-1",
         "generated"
        ],
        [
         "36",
         "Finally got my order today and I'm super satisfied! 🎉",
         "1",
         "generated"
        ],
        [
         "37",
         "Why does it always have to be so complicated? Makes me mad.",
         "-1",
         "generated"
        ],
        [
         "38",
         "Everything fell into place perfectly, couldn't be happier!",
         "1",
         "generated"
        ],
        [
         "39",
         "Didn't like the movie at all, it was a total letdown.",
         "-1",
         "generated"
        ],
        [
         "40",
         "Absolutely love the new updates on my phone! 💯",
         "1",
         "generated"
        ],
        [
         "41",
         "I can't believe how bad the movie was last night 😒",
         "-1",
         "generated"
        ],
        [
         "42",
         "The new restaurant in town is amazing, already went twice!",
         "1",
         "generated"
        ],
        [
         "43",
         "Ugh, the traffic today was the worst! Why can't ppl drive?!",
         "-1",
         "generated"
        ],
        [
         "44",
         "Just got a raise at work, so happy rn! 🎉",
         "1",
         "generated"
        ],
        [
         "45",
         "Really don't like when they change stuff without asking.",
         "-1",
         "generated"
        ],
        [
         "46",
         "Finally finished the series and OMG it was so good!!",
         "1",
         "generated"
        ],
        [
         "47",
         "The service at the cafe was terrible, never going back.",
         "-1",
         "generated"
        ],
        [
         "48",
         "Best day ever! Got to spend time with my fam. ❤️",
         "1",
         "generated"
        ],
        [
         "49",
         "This game used to be fun, but now it's boring and repetitive.",
         "-1",
         "generated"
        ]
       ],
       "shape": {
        "columns": 3,
        "rows": 500
       }
      },
      "text/html": [
       "<div>\n",
       "<style scoped>\n",
       "    .dataframe tbody tr th:only-of-type {\n",
       "        vertical-align: middle;\n",
       "    }\n",
       "\n",
       "    .dataframe tbody tr th {\n",
       "        vertical-align: top;\n",
       "    }\n",
       "\n",
       "    .dataframe thead th {\n",
       "        text-align: right;\n",
       "    }\n",
       "</style>\n",
       "<table border=\"1\" class=\"dataframe\">\n",
       "  <thead>\n",
       "    <tr style=\"text-align: right;\">\n",
       "      <th></th>\n",
       "      <th>sentences</th>\n",
       "      <th>labels</th>\n",
       "      <th>type</th>\n",
       "    </tr>\n",
       "  </thead>\n",
       "  <tbody>\n",
       "    <tr>\n",
       "      <th>0</th>\n",
       "      <td>I'm so ready for the new season of [NAME]'s sh...</td>\n",
       "      <td>1</td>\n",
       "      <td>generated</td>\n",
       "    </tr>\n",
       "    <tr>\n",
       "      <th>1</th>\n",
       "      <td>Ugh, I can't believe how bad the movie was, de...</td>\n",
       "      <td>-1</td>\n",
       "      <td>generated</td>\n",
       "    </tr>\n",
       "    <tr>\n",
       "      <th>2</th>\n",
       "      <td>Just finished the book and omg it was amazing,...</td>\n",
       "      <td>1</td>\n",
       "      <td>generated</td>\n",
       "    </tr>\n",
       "    <tr>\n",
       "      <th>3</th>\n",
       "      <td>The weather today has been just awful, can't w...</td>\n",
       "      <td>-1</td>\n",
       "      <td>generated</td>\n",
       "    </tr>\n",
       "    <tr>\n",
       "      <th>4</th>\n",
       "      <td>Played the game with friends and we had such a...</td>\n",
       "      <td>1</td>\n",
       "      <td>generated</td>\n",
       "    </tr>\n",
       "    <tr>\n",
       "      <th>...</th>\n",
       "      <td>...</td>\n",
       "      <td>...</td>\n",
       "      <td>...</td>\n",
       "    </tr>\n",
       "    <tr>\n",
       "      <th>495</th>\n",
       "      <td>Heard that new album, and honestly, it was not...</td>\n",
       "      <td>-1</td>\n",
       "      <td>generated</td>\n",
       "    </tr>\n",
       "    <tr>\n",
       "      <th>496</th>\n",
       "      <td>Finally got around to cleaning my room, feels ...</td>\n",
       "      <td>1</td>\n",
       "      <td>generated</td>\n",
       "    </tr>\n",
       "    <tr>\n",
       "      <th>497</th>\n",
       "      <td>Netflix removed my favorite show again, so fru...</td>\n",
       "      <td>-1</td>\n",
       "      <td>generated</td>\n",
       "    </tr>\n",
       "    <tr>\n",
       "      <th>498</th>\n",
       "      <td>Big shoutout to [NAME] for helping me out toda...</td>\n",
       "      <td>1</td>\n",
       "      <td>generated</td>\n",
       "    </tr>\n",
       "    <tr>\n",
       "      <th>499</th>\n",
       "      <td>Why is this internet so slow? It's driving me ...</td>\n",
       "      <td>-1</td>\n",
       "      <td>generated</td>\n",
       "    </tr>\n",
       "  </tbody>\n",
       "</table>\n",
       "<p>500 rows × 3 columns</p>\n",
       "</div>"
      ],
      "text/plain": [
       "                                             sentences  labels       type\n",
       "0    I'm so ready for the new season of [NAME]'s sh...       1  generated\n",
       "1    Ugh, I can't believe how bad the movie was, de...      -1  generated\n",
       "2    Just finished the book and omg it was amazing,...       1  generated\n",
       "3    The weather today has been just awful, can't w...      -1  generated\n",
       "4    Played the game with friends and we had such a...       1  generated\n",
       "..                                                 ...     ...        ...\n",
       "495  Heard that new album, and honestly, it was not...      -1  generated\n",
       "496  Finally got around to cleaning my room, feels ...       1  generated\n",
       "497  Netflix removed my favorite show again, so fru...      -1  generated\n",
       "498  Big shoutout to [NAME] for helping me out toda...       1  generated\n",
       "499  Why is this internet so slow? It's driving me ...      -1  generated\n",
       "\n",
       "[500 rows x 3 columns]"
      ]
     },
     "execution_count": 31,
     "metadata": {},
     "output_type": "execute_result"
    }
   ],
   "source": [
    "generated_df"
   ]
  },
  {
   "cell_type": "code",
   "execution_count": 34,
   "id": "5ff71144",
   "metadata": {},
   "outputs": [],
   "source": [
    "sample_df = sample_df.rename(columns={'text': 'sentences', 'label': 'labels'})"
   ]
  },
  {
   "cell_type": "code",
   "execution_count": 35,
   "id": "de7f4430",
   "metadata": {},
   "outputs": [],
   "source": [
    "tot_df = pd.concat([sample_df[['sentences', 'labels', 'type']], generated_df], axis=0).reset_index(drop=True)"
   ]
  },
  {
   "cell_type": "code",
   "execution_count": 196,
   "id": "86d62063",
   "metadata": {},
   "outputs": [],
   "source": [
    "sample_orig = sample_df.sample(n=700)"
   ]
  },
  {
   "cell_type": "code",
   "execution_count": 197,
   "id": "96b466d5",
   "metadata": {},
   "outputs": [],
   "source": [
    "gen_sample = tot_df[tot_df['type'] == 'generated'].sample(n=100)"
   ]
  },
  {
   "cell_type": "code",
   "execution_count": 198,
   "id": "3aeb4093",
   "metadata": {},
   "outputs": [],
   "source": [
    "train = pd.concat([sample_orig[['sentences', 'labels', 'type']], gen_sample], axis=0).reset_index(drop=True)"
   ]
  },
  {
   "cell_type": "code",
   "execution_count": 199,
   "id": "a0ad7244",
   "metadata": {},
   "outputs": [],
   "source": [
    "train = train.sample(frac=1)"
   ]
  },
  {
   "cell_type": "code",
   "execution_count": 201,
   "id": "7c79b7a9",
   "metadata": {},
   "outputs": [],
   "source": [
    "test_orig = sample_df.drop(sample_orig.index)"
   ]
  },
  {
   "cell_type": "code",
   "execution_count": 208,
   "id": "e3677536",
   "metadata": {},
   "outputs": [],
   "source": [
    "test = test_orig[['sentences', 'labels']]"
   ]
  },
  {
   "cell_type": "code",
   "execution_count": 207,
   "id": "da17ed23",
   "metadata": {},
   "outputs": [],
   "source": [
    "X_train = train['sentences'].to_list()\n",
    "y_train = train['labels'].to_list()"
   ]
  },
  {
   "cell_type": "code",
   "execution_count": 209,
   "id": "3ba9a2c1",
   "metadata": {},
   "outputs": [],
   "source": [
    "X_test = test['sentences'].to_list()\n",
    "y_test = test['labels'].to_list()"
   ]
  },
  {
   "cell_type": "code",
   "execution_count": 210,
   "id": "90f12ffd",
   "metadata": {},
   "outputs": [],
   "source": [
    "X_train = np.array(sentence_transformer.encode(X_train))"
   ]
  },
  {
   "cell_type": "code",
   "execution_count": 211,
   "id": "3dd28e89",
   "metadata": {},
   "outputs": [],
   "source": [
    "X_test = np.array(sentence_transformer.encode(X_test))"
   ]
  },
  {
   "cell_type": "code",
   "execution_count": 222,
   "id": "f0c92dfe",
   "metadata": {},
   "outputs": [],
   "source": [
    "model = svm.SVC(C=1, degree=2, gamma='scale', kernel='linear', probability=True)"
   ]
  },
  {
   "cell_type": "code",
   "execution_count": 219,
   "id": "896229dd",
   "metadata": {},
   "outputs": [
    {
     "data": {
      "application/vnd.microsoft.datawrangler.viewer.v0+json": {
       "columns": [
        {
         "name": "type",
         "rawType": "object",
         "type": "string"
        },
        {
         "name": "count",
         "rawType": "int64",
         "type": "integer"
        }
       ],
       "ref": "b63fdd08-2668-4be5-9cda-e18d55bc7ca4",
       "rows": [
        [
         "original",
         "300"
        ]
       ],
       "shape": {
        "columns": 1,
        "rows": 1
       }
      },
      "text/plain": [
       "type\n",
       "original    300\n",
       "Name: count, dtype: int64"
      ]
     },
     "execution_count": 219,
     "metadata": {},
     "output_type": "execute_result"
    }
   ],
   "source": [
    "test_orig['type'].value_counts()"
   ]
  },
  {
   "cell_type": "code",
   "execution_count": 223,
   "id": "c8443f87",
   "metadata": {},
   "outputs": [
    {
     "name": "stdout",
     "output_type": "stream",
     "text": [
      "Train acc: 0.88375\n",
      "Test acc: 0.77\n"
     ]
    }
   ],
   "source": [
    "model.fit(X_train, y_train)\n",
    "y_pred = model.predict(X_train)\n",
    "train_acc = accuracy_score(y_pred, y_train)\n",
    "print(f'Train acc: {train_acc}')\n",
    "\n",
    "y_pred = model.predict(X_test)\n",
    "test_acc = accuracy_score(y_pred, y_test)\n",
    "print(f'Test acc: {test_acc}')"
   ]
  },
  {
   "cell_type": "code",
   "execution_count": 220,
   "id": "188b17b5",
   "metadata": {},
   "outputs": [
    {
     "name": "stdout",
     "output_type": "stream",
     "text": [
      "0.8465608465608465\n",
      "0.8\n"
     ]
    }
   ],
   "source": [
    "print(precision_score(y_test, y_pred))\n",
    "print(recall_score(y_test, y_pred))"
   ]
  },
  {
   "cell_type": "code",
   "execution_count": 227,
   "id": "916d4455",
   "metadata": {},
   "outputs": [
    {
     "name": "stdout",
     "output_type": "stream",
     "text": [
      "0.8372999999999999\n"
     ]
    }
   ],
   "source": [
    "y_prob = model.predict_proba(X_test)[:, 1]\n",
    "print(roc_auc_score(y_test, y_prob))"
   ]
  }
 ],
 "metadata": {
  "kernelspec": {
   "display_name": "Python 3",
   "language": "python",
   "name": "python3"
  },
  "language_info": {
   "codemirror_mode": {
    "name": "ipython",
    "version": 3
   },
   "file_extension": ".py",
   "mimetype": "text/x-python",
   "name": "python",
   "nbconvert_exporter": "python",
   "pygments_lexer": "ipython3",
   "version": "3.9.6"
  }
 },
 "nbformat": 4,
 "nbformat_minor": 5
}
