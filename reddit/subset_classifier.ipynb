{
 "cells": [
  {
   "cell_type": "code",
   "execution_count": 2,
   "id": "b0d80a49",
   "metadata": {},
   "outputs": [
    {
     "name": "stderr",
     "output_type": "stream",
     "text": [
      "/Users/pranitgunjal/Library/Python/3.9/lib/python/site-packages/urllib3/__init__.py:35: NotOpenSSLWarning: urllib3 v2 only supports OpenSSL 1.1.1+, currently the 'ssl' module is compiled with 'LibreSSL 2.8.3'. See: https://github.com/urllib3/urllib3/issues/3020\n",
      "  warnings.warn(\n"
     ]
    }
   ],
   "source": [
    "import sys\n",
    "sys.path.append('../utilities/')\n",
    "import pandas as pd\n",
    "import numpy as np\n",
    "from sklearn import svm\n",
    "from sklearn.model_selection import train_test_split, GridSearchCV\n",
    "from sklearn.metrics import accuracy_score, precision_score, recall_score, roc_auc_score\n",
    "import torch\n",
    "from sentence_transformers import SentenceTransformer\n",
    "from joblib import dump\n",
    "from openai import OpenAI\n",
    "from tqdm import tqdm\n",
    "from mmd import MMD\n",
    "import re\n",
    "from sklearn.feature_extraction.text import CountVectorizer"
   ]
  },
  {
   "cell_type": "code",
   "execution_count": 3,
   "id": "e047aa83",
   "metadata": {},
   "outputs": [],
   "source": [
    "sentence_transformer = SentenceTransformer('all-mpnet-base-v2')"
   ]
  },
  {
   "cell_type": "markdown",
   "id": "ec9f9d25",
   "metadata": {},
   "source": [
    "# **Data Pre-processing**"
   ]
  },
  {
   "cell_type": "code",
   "execution_count": 4,
   "id": "ceae9706",
   "metadata": {},
   "outputs": [],
   "source": [
    "df = pd.read_csv('../data/initial_datasets/reddit_binary_labels.csv')"
   ]
  },
  {
   "cell_type": "code",
   "execution_count": 7,
   "id": "b6042c4b",
   "metadata": {},
   "outputs": [],
   "source": [
    "test_df = df.sample(n=1000)"
   ]
  },
  {
   "cell_type": "code",
   "execution_count": 8,
   "id": "b8ef94a8",
   "metadata": {},
   "outputs": [],
   "source": [
    "test_df.to_csv('../data/initial_datasets/reddit_test.csv', index=False)"
   ]
  },
  {
   "cell_type": "code",
   "execution_count": 9,
   "id": "f796a245",
   "metadata": {},
   "outputs": [],
   "source": [
    "train_df = df.drop(test_df.index)"
   ]
  },
  {
   "cell_type": "code",
   "execution_count": 12,
   "id": "5bee18ec",
   "metadata": {},
   "outputs": [],
   "source": [
    "train_df.to_csv('../data/initial_datasets/reddit_train.csv', index=False)"
   ]
  },
  {
   "cell_type": "code",
   "execution_count": 13,
   "id": "3c68cfcb",
   "metadata": {},
   "outputs": [
    {
     "data": {
      "application/vnd.microsoft.datawrangler.viewer.v0+json": {
       "columns": [
        {
         "name": "label",
         "rawType": "int64",
         "type": "integer"
        },
        {
         "name": "count",
         "rawType": "float64",
         "type": "float"
        }
       ],
       "ref": "7c425673-7e3d-4717-a276-3b957b595af8",
       "rows": [
        [
         "1",
         "0.6165559578906981"
        ],
        [
         "-1",
         "0.38344404210930194"
        ]
       ],
       "shape": {
        "columns": 1,
        "rows": 2
       }
      },
      "text/plain": [
       "label\n",
       " 1    0.616556\n",
       "-1    0.383444\n",
       "Name: count, dtype: float64"
      ]
     },
     "execution_count": 13,
     "metadata": {},
     "output_type": "execute_result"
    }
   ],
   "source": [
    "df['label'].value_counts() / df.shape[0]"
   ]
  },
  {
   "cell_type": "markdown",
   "id": "6b79ec61",
   "metadata": {},
   "source": [
    "# **Classifier**"
   ]
  },
  {
   "cell_type": "code",
   "execution_count": 39,
   "id": "079c590a",
   "metadata": {},
   "outputs": [],
   "source": [
    "n = [10, 50, 100, 200]"
   ]
  },
  {
   "cell_type": "code",
   "execution_count": 40,
   "id": "bacf3432",
   "metadata": {},
   "outputs": [
    {
     "name": "stdout",
     "output_type": "stream",
     "text": [
      "10\n",
      "Test Acc: 0.593\n",
      "Roc Auc: 0.35859327689948844\n",
      "Precision: 0.6830065359477124\n",
      "Recall: 0.6624405705229794\n",
      "50\n",
      "Test Acc: 0.697\n",
      "Roc Auc: 0.770938287829788\n",
      "Precision: 0.811787072243346\n",
      "Recall: 0.6767036450079239\n",
      "100\n",
      "Test Acc: 0.682\n",
      "Roc Auc: 0.7638776150043592\n",
      "Precision: 0.8050682261208577\n",
      "Recall: 0.6545166402535658\n",
      "200\n",
      "Test Acc: 0.693\n",
      "Roc Auc: 0.7658145757368826\n",
      "Precision: 0.78125\n",
      "Recall: 0.7131537242472267\n"
     ]
    }
   ],
   "source": [
    "for ni in n:\n",
    "    train_sample = train_df.sample(n=ni)\n",
    "    X_train = np.array(sentence_transformer.encode(train_sample['text'].to_list()))\n",
    "    y_train = train_sample['label']\n",
    "\n",
    "    X_test = np.array(sentence_transformer.encode(test_df['text'].to_list()))\n",
    "    y_test = test_df['label']\n",
    "\n",
    "    model = svm.SVC(kernel='linear', probability=True, class_weight='balanced')\n",
    "    model.fit(X_train, y_train)\n",
    "\n",
    "    y_pred = model.predict(X_test)\n",
    "    test_acc = accuracy_score(y_test, y_pred)\n",
    "\n",
    "    print(ni)\n",
    "    print(f\"Test Acc: {test_acc}\")\n",
    "\n",
    "    y_prob = model.predict_proba(X_test)[:, 1]\n",
    "    print(f\"Roc Auc: {roc_auc_score(y_test, y_prob)}\")\n",
    "\n",
    "    print(f\"Precision: {precision_score(y_test, y_pred)}\")\n",
    "    print(f\"Recall: {recall_score(y_test, y_pred)}\")"
   ]
  },
  {
   "cell_type": "code",
   "execution_count": 34,
   "id": "06199040",
   "metadata": {},
   "outputs": [],
   "source": [
    "train_sample = train_df.sample(n=n)"
   ]
  },
  {
   "cell_type": "code",
   "execution_count": 35,
   "id": "18e72609",
   "metadata": {},
   "outputs": [
    {
     "data": {
      "application/vnd.microsoft.datawrangler.viewer.v0+json": {
       "columns": [
        {
         "name": "label",
         "rawType": "int64",
         "type": "integer"
        },
        {
         "name": "count",
         "rawType": "int64",
         "type": "integer"
        }
       ],
       "ref": "5275cef3-f416-40f8-9a87-85a2b0d295af",
       "rows": [
        [
         "1",
         "124"
        ],
        [
         "-1",
         "76"
        ]
       ],
       "shape": {
        "columns": 1,
        "rows": 2
       }
      },
      "text/plain": [
       "label\n",
       " 1    124\n",
       "-1     76\n",
       "Name: count, dtype: int64"
      ]
     },
     "execution_count": 35,
     "metadata": {},
     "output_type": "execute_result"
    }
   ],
   "source": [
    "train_sample['label'].value_counts()"
   ]
  },
  {
   "cell_type": "code",
   "execution_count": 36,
   "id": "e8e1508e",
   "metadata": {},
   "outputs": [],
   "source": [
    "X_train = np.array(sentence_transformer.encode(train_sample['text'].to_list()))\n",
    "y_train = train_sample['label']"
   ]
  },
  {
   "cell_type": "code",
   "execution_count": 37,
   "id": "d3e996ea",
   "metadata": {},
   "outputs": [],
   "source": [
    "X_test = np.array(sentence_transformer.encode(test_df['text'].to_list()))\n",
    "y_test = test_df['label']"
   ]
  },
  {
   "cell_type": "code",
   "execution_count": null,
   "id": "ad19164b",
   "metadata": {},
   "outputs": [
    {
     "name": "stdout",
     "output_type": "stream",
     "text": [
      "Test Acc: 0.68\n",
      "0.8031189083820662\n",
      "0.652931854199683\n",
      "0.7522880617078754\n"
     ]
    }
   ],
   "source": [
    "model = svm.SVC(kernel='linear', probability=True, class_weight='balanced')\n",
    "model.fit(X_train, y_train)\n",
    "\n",
    "y_pred = model.predict(X_test)\n",
    "test_acc = accuracy_score(y_test, y_pred)\n",
    "print(f\"Test Acc: {test_acc}\")\n",
    "\n",
    "y_prob = model.predict_proba(X_test)[:, 1]\n",
    "print(roc_auc_score(y_test, y_prob))\n",
    "\n",
    "print(precision_score(y_test, y_pred))\n",
    "print(recall_score(y_test, y_pred))"
   ]
  }
 ],
 "metadata": {
  "kernelspec": {
   "display_name": "Python 3",
   "language": "python",
   "name": "python3"
  },
  "language_info": {
   "codemirror_mode": {
    "name": "ipython",
    "version": 3
   },
   "file_extension": ".py",
   "mimetype": "text/x-python",
   "name": "python",
   "nbconvert_exporter": "python",
   "pygments_lexer": "ipython3",
   "version": "3.9.6"
  }
 },
 "nbformat": 4,
 "nbformat_minor": 5
}
