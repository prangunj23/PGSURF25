{
 "cells": [
  {
   "cell_type": "code",
   "execution_count": 1,
   "id": "31a8f696",
   "metadata": {},
   "outputs": [
    {
     "name": "stderr",
     "output_type": "stream",
     "text": [
      "/Users/pranitgunjal/Library/Python/3.9/lib/python/site-packages/urllib3/__init__.py:35: NotOpenSSLWarning: urllib3 v2 only supports OpenSSL 1.1.1+, currently the 'ssl' module is compiled with 'LibreSSL 2.8.3'. See: https://github.com/urllib3/urllib3/issues/3020\n",
      "  warnings.warn(\n"
     ]
    }
   ],
   "source": [
    "import sys\n",
    "sys.path.append('../utilities/')\n",
    "import pandas as pd\n",
    "import numpy as np\n",
    "from sklearn import svm\n",
    "from sklearn.model_selection import train_test_split, GridSearchCV\n",
    "from sklearn.metrics import accuracy_score, precision_score, recall_score, roc_auc_score\n",
    "import torch\n",
    "from sentence_transformers import SentenceTransformer\n",
    "from joblib import dump\n",
    "from openai import OpenAI\n",
    "from tqdm import tqdm\n",
    "from mmd import MMD\n",
    "import re\n",
    "from sklearn.feature_extraction.text import CountVectorizer"
   ]
  },
  {
   "cell_type": "code",
   "execution_count": 2,
   "id": "090b9d21",
   "metadata": {},
   "outputs": [],
   "source": [
    "import os\n",
    "from dotenv import load_dotenv"
   ]
  },
  {
   "cell_type": "markdown",
   "id": "97899697",
   "metadata": {},
   "source": [
    "# **Tools Setup**"
   ]
  },
  {
   "cell_type": "code",
   "execution_count": 3,
   "id": "4a921d81",
   "metadata": {},
   "outputs": [],
   "source": [
    "load_dotenv()\n",
    "API_KEY = os.getenv(\"OPENAI_API_KEY\")\n",
    "client = OpenAI(api_key=API_KEY)"
   ]
  },
  {
   "cell_type": "code",
   "execution_count": 4,
   "id": "6e13e837",
   "metadata": {},
   "outputs": [],
   "source": [
    "sentence_transformer = SentenceTransformer('all-mpnet-base-v2')"
   ]
  },
  {
   "cell_type": "markdown",
   "id": "c6e706d4",
   "metadata": {},
   "source": [
    "# **DataFrame Reading**"
   ]
  },
  {
   "cell_type": "code",
   "execution_count": 5,
   "id": "818a0cca",
   "metadata": {},
   "outputs": [],
   "source": [
    "speeches_df = pd.read_csv('../data/initial_datasets/speeches/speeches_train.csv')"
   ]
  },
  {
   "cell_type": "markdown",
   "id": "bc7413d9",
   "metadata": {},
   "source": [
    "# **Aggregate Stats**"
   ]
  },
  {
   "cell_type": "code",
   "execution_count": 6,
   "id": "03f3ee74",
   "metadata": {},
   "outputs": [],
   "source": [
    "speeches_df['phrase_len'] = speeches_df['text'].str.len()"
   ]
  },
  {
   "cell_type": "code",
   "execution_count": 7,
   "id": "08798077",
   "metadata": {},
   "outputs": [],
   "source": [
    "avg_len = speeches_df['phrase_len'].mean()\n",
    "std_len = speeches_df['phrase_len'].std()"
   ]
  },
  {
   "cell_type": "markdown",
   "id": "196a066d",
   "metadata": {},
   "source": [
    "# **Word Frequencies**"
   ]
  },
  {
   "cell_type": "code",
   "execution_count": 8,
   "id": "d9eac151",
   "metadata": {},
   "outputs": [],
   "source": [
    "speeches_df['text'] = speeches_df['text'].astype(str)"
   ]
  },
  {
   "cell_type": "code",
   "execution_count": 9,
   "id": "1344300c",
   "metadata": {},
   "outputs": [
    {
     "name": "stderr",
     "output_type": "stream",
     "text": [
      "/var/folders/lv/pnwq6bmj4tq68bsvy__37qyh0000gn/T/ipykernel_12006/2056867475.py:1: FutureWarning: Downcasting behavior in `replace` is deprecated and will be removed in a future version. To retain the old behavior, explicitly call `result.infer_objects(copy=False)`. To opt-in to the future behavior, set `pd.set_option('future.no_silent_downcasting', True)`\n",
      "  speeches_df['label'] = speeches_df['label'].replace({'Republican': -1, 'Democrat': 1})\n"
     ]
    }
   ],
   "source": [
    "speeches_df['label'] = speeches_df['label'].replace({'Republican': -1, 'Democrat': 1})"
   ]
  },
  {
   "cell_type": "markdown",
   "id": "b5d2d7d3",
   "metadata": {},
   "source": [
    "# **Republican Counts**"
   ]
  },
  {
   "cell_type": "code",
   "execution_count": 10,
   "id": "229022fb",
   "metadata": {},
   "outputs": [],
   "source": [
    "vectorizer = CountVectorizer()\n",
    "X = vectorizer.fit_transform(speeches_df[speeches_df['label'] == -1]['text'])\n",
    "counts = pd.DataFrame(X.toarray(), columns=vectorizer.get_feature_names_out())\n",
    "rep_counts = counts.sum().sort_values(ascending=False)"
   ]
  },
  {
   "cell_type": "code",
   "execution_count": 11,
   "id": "a1c0b44a",
   "metadata": {},
   "outputs": [],
   "source": [
    "rep_counts = rep_counts.reset_index()\n",
    "rep_counts.columns = ['text', 'count']\n",
    "rep_counts['freq'] = rep_counts['count'] / rep_counts['count'].sum()"
   ]
  },
  {
   "cell_type": "code",
   "execution_count": 12,
   "id": "6a9bcc88",
   "metadata": {},
   "outputs": [
    {
     "data": {
      "application/vnd.microsoft.datawrangler.viewer.v0+json": {
       "columns": [
        {
         "name": "index",
         "rawType": "int64",
         "type": "integer"
        },
        {
         "name": "text",
         "rawType": "object",
         "type": "string"
        },
        {
         "name": "count",
         "rawType": "int64",
         "type": "integer"
        },
        {
         "name": "freq",
         "rawType": "float64",
         "type": "float"
        }
       ],
       "ref": "2ab79590-5f1a-4570-a30f-352d152cc318",
       "rows": [
        [
         "0",
         "the",
         "32634",
         "0.045412102936326484"
        ],
        [
         "1",
         "and",
         "25244",
         "0.03512848950556553"
        ],
        [
         "2",
         "to",
         "19377",
         "0.026964218869804445"
        ],
        [
         "3",
         "of",
         "16493",
         "0.022950965671656328"
        ],
        [
         "4",
         "we",
         "16302",
         "0.02268517809854735"
        ],
        [
         "5",
         "you",
         "16136",
         "0.022454179474798188"
        ],
        [
         "6",
         "it",
         "12828",
         "0.017850905695507634"
        ],
        [
         "7",
         "that",
         "12285",
         "0.01709528971541248"
        ],
        [
         "8",
         "in",
         "11291",
         "0.015712081088866285"
        ],
        [
         "9",
         "they",
         "10666",
         "0.01484235735487094"
        ],
        [
         "10",
         "is",
         "8451",
         "0.011760056441591442"
        ],
        [
         "11",
         "have",
         "7592",
         "0.01056470814158824"
        ],
        [
         "12",
         "are",
         "6533",
         "0.00909104824670653"
        ],
        [
         "13",
         "for",
         "6479",
         "0.009015904116089333"
        ],
        [
         "14",
         "he",
         "5807",
         "0.008080777157297539"
        ],
        [
         "15",
         "our",
         "5736",
         "0.007981976541115668"
        ],
        [
         "16",
         "this",
         "5274",
         "0.007339076756946309"
        ],
        [
         "17",
         "but",
         "4506",
         "0.006270360232612831"
        ],
        [
         "18",
         "will",
         "4420",
         "0.006150686246815072"
        ],
        [
         "19",
         "all",
         "4147",
         "0.0057707909198059055"
        ],
        [
         "20",
         "was",
         "4105",
         "0.005712345484881419"
        ],
        [
         "21",
         "with",
         "4036",
         "0.0056163279846483324"
        ],
        [
         "22",
         "on",
         "3987",
         "0.005548141643903098"
        ],
        [
         "23",
         "people",
         "3958",
         "0.005507786462645713"
        ],
        [
         "24",
         "be",
         "3729",
         "0.005189119686509819"
        ],
        [
         "25",
         "know",
         "3702",
         "0.005151547621201221"
        ],
        [
         "26",
         "great",
         "3474",
         "0.004834272403039719"
        ],
        [
         "27",
         "what",
         "3464",
         "0.004820356823295794"
        ],
        [
         "28",
         "not",
         "3387",
         "0.004713206859267567"
        ],
        [
         "29",
         "so",
         "3332",
         "0.004636671170675977"
        ],
        [
         "30",
         "said",
         "3280",
         "0.004564310156007565"
        ],
        [
         "31",
         "re",
         "3246",
         "0.004516997184878218"
        ],
        [
         "32",
         "your",
         "3193",
         "0.004443244612235412"
        ],
        [
         "33",
         "do",
         "3132",
         "0.004358359575797467"
        ],
        [
         "34",
         "going",
         "2993",
         "0.004164933017356902"
        ],
        [
         "35",
         "one",
         "2607",
         "0.003627791639241378"
        ],
        [
         "36",
         "want",
         "2584",
         "0.0035957858058303497"
        ],
        [
         "37",
         "don",
         "2461",
         "0.003424624174980066"
        ],
        [
         "38",
         "like",
         "2458",
         "0.003420449501056888"
        ],
        [
         "39",
         "president",
         "2453",
         "0.0034134917111849255"
        ],
        [
         "40",
         "very",
         "2446",
         "0.0034037508053641778"
        ],
        [
         "41",
         "years",
         "2344",
         "0.0032618118919761374"
        ],
        [
         "42",
         "american",
         "2295",
         "0.003193625551230903"
        ],
        [
         "43",
         "thank",
         "2210",
         "0.003075343123407536"
        ],
        [
         "44",
         "up",
         "2185",
         "0.003040554174047722"
        ],
        [
         "45",
         "about",
         "2170",
         "0.003019680804431834"
        ],
        [
         "46",
         "at",
         "2162",
         "0.0030085483406366935"
        ],
        [
         "47",
         "as",
         "2158",
         "0.003002982108739123"
        ],
        [
         "48",
         "because",
         "2132",
         "0.002966801601404917"
        ],
        [
         "49",
         "by",
         "2130",
         "0.002964018485456132"
        ]
       ],
       "shape": {
        "columns": 3,
        "rows": 14869
       }
      },
      "text/html": [
       "<div>\n",
       "<style scoped>\n",
       "    .dataframe tbody tr th:only-of-type {\n",
       "        vertical-align: middle;\n",
       "    }\n",
       "\n",
       "    .dataframe tbody tr th {\n",
       "        vertical-align: top;\n",
       "    }\n",
       "\n",
       "    .dataframe thead th {\n",
       "        text-align: right;\n",
       "    }\n",
       "</style>\n",
       "<table border=\"1\" class=\"dataframe\">\n",
       "  <thead>\n",
       "    <tr style=\"text-align: right;\">\n",
       "      <th></th>\n",
       "      <th>text</th>\n",
       "      <th>count</th>\n",
       "      <th>freq</th>\n",
       "    </tr>\n",
       "  </thead>\n",
       "  <tbody>\n",
       "    <tr>\n",
       "      <th>0</th>\n",
       "      <td>the</td>\n",
       "      <td>32634</td>\n",
       "      <td>0.045412</td>\n",
       "    </tr>\n",
       "    <tr>\n",
       "      <th>1</th>\n",
       "      <td>and</td>\n",
       "      <td>25244</td>\n",
       "      <td>0.035128</td>\n",
       "    </tr>\n",
       "    <tr>\n",
       "      <th>2</th>\n",
       "      <td>to</td>\n",
       "      <td>19377</td>\n",
       "      <td>0.026964</td>\n",
       "    </tr>\n",
       "    <tr>\n",
       "      <th>3</th>\n",
       "      <td>of</td>\n",
       "      <td>16493</td>\n",
       "      <td>0.022951</td>\n",
       "    </tr>\n",
       "    <tr>\n",
       "      <th>4</th>\n",
       "      <td>we</td>\n",
       "      <td>16302</td>\n",
       "      <td>0.022685</td>\n",
       "    </tr>\n",
       "    <tr>\n",
       "      <th>...</th>\n",
       "      <td>...</td>\n",
       "      <td>...</td>\n",
       "      <td>...</td>\n",
       "    </tr>\n",
       "    <tr>\n",
       "      <th>14864</th>\n",
       "      <td>pakistani</td>\n",
       "      <td>1</td>\n",
       "      <td>0.000001</td>\n",
       "    </tr>\n",
       "    <tr>\n",
       "      <th>14865</th>\n",
       "      <td>pajamas</td>\n",
       "      <td>1</td>\n",
       "      <td>0.000001</td>\n",
       "    </tr>\n",
       "    <tr>\n",
       "      <th>14866</th>\n",
       "      <td>pair</td>\n",
       "      <td>1</td>\n",
       "      <td>0.000001</td>\n",
       "    </tr>\n",
       "    <tr>\n",
       "      <th>14867</th>\n",
       "      <td>painted</td>\n",
       "      <td>1</td>\n",
       "      <td>0.000001</td>\n",
       "    </tr>\n",
       "    <tr>\n",
       "      <th>14868</th>\n",
       "      <td>zvika</td>\n",
       "      <td>1</td>\n",
       "      <td>0.000001</td>\n",
       "    </tr>\n",
       "  </tbody>\n",
       "</table>\n",
       "<p>14869 rows × 3 columns</p>\n",
       "</div>"
      ],
      "text/plain": [
       "            text  count      freq\n",
       "0            the  32634  0.045412\n",
       "1            and  25244  0.035128\n",
       "2             to  19377  0.026964\n",
       "3             of  16493  0.022951\n",
       "4             we  16302  0.022685\n",
       "...          ...    ...       ...\n",
       "14864  pakistani      1  0.000001\n",
       "14865    pajamas      1  0.000001\n",
       "14866       pair      1  0.000001\n",
       "14867    painted      1  0.000001\n",
       "14868      zvika      1  0.000001\n",
       "\n",
       "[14869 rows x 3 columns]"
      ]
     },
     "execution_count": 12,
     "metadata": {},
     "output_type": "execute_result"
    }
   ],
   "source": [
    "rep_counts"
   ]
  },
  {
   "cell_type": "markdown",
   "id": "7d0b2589",
   "metadata": {},
   "source": [
    "# **Democratic Counts**"
   ]
  },
  {
   "cell_type": "code",
   "execution_count": 13,
   "id": "7093d9a5",
   "metadata": {},
   "outputs": [],
   "source": [
    "vectorizer = CountVectorizer()\n",
    "X = vectorizer.fit_transform(speeches_df[speeches_df['label'] == 1]['text'])\n",
    "counts = pd.DataFrame(X.toarray(), columns=vectorizer.get_feature_names_out())\n",
    "dem_counts = counts.sum().sort_values(ascending=False)"
   ]
  },
  {
   "cell_type": "code",
   "execution_count": 14,
   "id": "2fb9cf5c",
   "metadata": {},
   "outputs": [],
   "source": [
    "dem_counts = dem_counts.reset_index()\n",
    "dem_counts.columns = ['text', 'count']\n",
    "dem_counts['freq'] = dem_counts['count'] / dem_counts['count'].sum()"
   ]
  },
  {
   "cell_type": "code",
   "execution_count": 15,
   "id": "9907372f",
   "metadata": {},
   "outputs": [
    {
     "data": {
      "application/vnd.microsoft.datawrangler.viewer.v0+json": {
       "columns": [
        {
         "name": "index",
         "rawType": "int64",
         "type": "integer"
        },
        {
         "name": "text",
         "rawType": "object",
         "type": "string"
        },
        {
         "name": "count",
         "rawType": "int64",
         "type": "integer"
        },
        {
         "name": "freq",
         "rawType": "float64",
         "type": "float"
        }
       ],
       "ref": "d63f82ea-0f0e-44e9-97a7-142caf141168",
       "rows": [
        [
         "0",
         "the",
         "10096",
         "0.05007290726394414"
        ],
        [
         "1",
         "to",
         "6954",
         "0.034489599555612864"
        ],
        [
         "2",
         "and",
         "6587",
         "0.032669397795919174"
        ],
        [
         "3",
         "of",
         "5031",
         "0.024952139109043477"
        ],
        [
         "4",
         "we",
         "4615",
         "0.02288891313620267"
        ],
        [
         "5",
         "in",
         "3941",
         "0.019546090285975024"
        ],
        [
         "6",
         "that",
         "3414",
         "0.016932340075188717"
        ],
        [
         "7",
         "it",
         "3018",
         "0.014968307658734489"
        ],
        [
         "8",
         "is",
         "2990",
         "0.01482943667979328"
        ],
        [
         "9",
         "you",
         "2916",
         "0.014462420521162945"
        ],
        [
         "10",
         "for",
         "2118",
         "0.010504597621338518"
        ],
        [
         "11",
         "are",
         "2037",
         "0.010102863717972881"
        ],
        [
         "12",
         "have",
         "1961",
         "0.009725928203703887"
        ],
        [
         "13",
         "this",
         "1956",
         "0.009701129814607244"
        ],
        [
         "14",
         "our",
         "1588",
         "0.007875968377094224"
        ],
        [
         "15",
         "he",
         "1430",
         "0.0070923392816402645"
        ],
        [
         "16",
         "on",
         "1424",
         "0.007062581214724291"
        ],
        [
         "17",
         "not",
         "1358",
         "0.006735242478648587"
        ],
        [
         "18",
         "will",
         "1339",
         "0.006641008600081339"
        ],
        [
         "19",
         "they",
         "1328",
         "0.006586452144068721"
        ],
        [
         "20",
         "who",
         "1160",
         "0.005753226270421474"
        ],
        [
         "21",
         "what",
         "1146",
         "0.005683790780950869"
        ],
        [
         "22",
         "be",
         "1146",
         "0.005683790780950869"
        ],
        [
         "23",
         "people",
         "1142",
         "0.005663952069673554"
        ],
        [
         "24",
         "with",
         "1105",
         "0.005480443990358386"
        ],
        [
         "25",
         "about",
         "1079",
         "0.0053514923670558365"
        ],
        [
         "26",
         "as",
         "953",
         "0.0047265729618204"
        ],
        [
         "27",
         "all",
         "909",
         "0.00450834713776993"
        ],
        [
         "28",
         "but",
         "893",
         "0.004428992292660669"
        ],
        [
         "29",
         "president",
         "879",
         "0.0043595568031900645"
        ],
        [
         "30",
         "so",
         "869",
         "0.004309960024996776"
        ],
        [
         "31",
         "can",
         "865",
         "0.004290121313719461"
        ],
        [
         "32",
         "do",
         "851",
         "0.004220685824248857"
        ],
        [
         "33",
         "was",
         "823",
         "0.004081814845307649"
        ],
        [
         "34",
         "know",
         "811",
         "0.004022298711475703"
        ],
        [
         "35",
         "my",
         "789",
         "0.003913185799450468"
        ],
        [
         "36",
         "going",
         "739",
         "0.003665201908484025"
        ],
        [
         "37",
         "america",
         "723",
         "0.003585847063374763"
        ],
        [
         "38",
         "more",
         "700",
         "0.0034717744735301994"
        ],
        [
         "39",
         "has",
         "697",
         "0.003456895440072213"
        ],
        [
         "40",
         "one",
         "681",
         "0.0033775405949629514"
        ],
        [
         "41",
         "when",
         "668",
         "0.003313064783311676"
        ],
        [
         "42",
         "their",
         "661",
         "0.003278347038576374"
        ],
        [
         "43",
         "at",
         "651",
         "0.0032287502603830856"
        ],
        [
         "44",
         "your",
         "631",
         "0.0031295567039965086"
        ],
        [
         "45",
         "by",
         "626",
         "0.003104758314899864"
        ],
        [
         "46",
         "us",
         "618",
         "0.0030650808923452333"
        ],
        [
         "47",
         "there",
         "615",
         "0.0030502018588872467"
        ],
        [
         "48",
         "get",
         "614",
         "0.0030452421810679177"
        ],
        [
         "49",
         "trump",
         "608",
         "0.0030154841141519445"
        ]
       ],
       "shape": {
        "columns": 3,
        "rows": 8823
       }
      },
      "text/html": [
       "<div>\n",
       "<style scoped>\n",
       "    .dataframe tbody tr th:only-of-type {\n",
       "        vertical-align: middle;\n",
       "    }\n",
       "\n",
       "    .dataframe tbody tr th {\n",
       "        vertical-align: top;\n",
       "    }\n",
       "\n",
       "    .dataframe thead th {\n",
       "        text-align: right;\n",
       "    }\n",
       "</style>\n",
       "<table border=\"1\" class=\"dataframe\">\n",
       "  <thead>\n",
       "    <tr style=\"text-align: right;\">\n",
       "      <th></th>\n",
       "      <th>text</th>\n",
       "      <th>count</th>\n",
       "      <th>freq</th>\n",
       "    </tr>\n",
       "  </thead>\n",
       "  <tbody>\n",
       "    <tr>\n",
       "      <th>0</th>\n",
       "      <td>the</td>\n",
       "      <td>10096</td>\n",
       "      <td>0.050073</td>\n",
       "    </tr>\n",
       "    <tr>\n",
       "      <th>1</th>\n",
       "      <td>to</td>\n",
       "      <td>6954</td>\n",
       "      <td>0.034490</td>\n",
       "    </tr>\n",
       "    <tr>\n",
       "      <th>2</th>\n",
       "      <td>and</td>\n",
       "      <td>6587</td>\n",
       "      <td>0.032669</td>\n",
       "    </tr>\n",
       "    <tr>\n",
       "      <th>3</th>\n",
       "      <td>of</td>\n",
       "      <td>5031</td>\n",
       "      <td>0.024952</td>\n",
       "    </tr>\n",
       "    <tr>\n",
       "      <th>4</th>\n",
       "      <td>we</td>\n",
       "      <td>4615</td>\n",
       "      <td>0.022889</td>\n",
       "    </tr>\n",
       "    <tr>\n",
       "      <th>...</th>\n",
       "      <td>...</td>\n",
       "      <td>...</td>\n",
       "      <td>...</td>\n",
       "    </tr>\n",
       "    <tr>\n",
       "      <th>8818</th>\n",
       "      <td>interior</td>\n",
       "      <td>1</td>\n",
       "      <td>0.000005</td>\n",
       "    </tr>\n",
       "    <tr>\n",
       "      <th>8819</th>\n",
       "      <td>interfered</td>\n",
       "      <td>1</td>\n",
       "      <td>0.000005</td>\n",
       "    </tr>\n",
       "    <tr>\n",
       "      <th>8820</th>\n",
       "      <td>interdisciplinary</td>\n",
       "      <td>1</td>\n",
       "      <td>0.000005</td>\n",
       "    </tr>\n",
       "    <tr>\n",
       "      <th>8821</th>\n",
       "      <td>intercommarble</td>\n",
       "      <td>1</td>\n",
       "      <td>0.000005</td>\n",
       "    </tr>\n",
       "    <tr>\n",
       "      <th>8822</th>\n",
       "      <td>zuber</td>\n",
       "      <td>1</td>\n",
       "      <td>0.000005</td>\n",
       "    </tr>\n",
       "  </tbody>\n",
       "</table>\n",
       "<p>8823 rows × 3 columns</p>\n",
       "</div>"
      ],
      "text/plain": [
       "                   text  count      freq\n",
       "0                   the  10096  0.050073\n",
       "1                    to   6954  0.034490\n",
       "2                   and   6587  0.032669\n",
       "3                    of   5031  0.024952\n",
       "4                    we   4615  0.022889\n",
       "...                 ...    ...       ...\n",
       "8818           interior      1  0.000005\n",
       "8819         interfered      1  0.000005\n",
       "8820  interdisciplinary      1  0.000005\n",
       "8821     intercommarble      1  0.000005\n",
       "8822              zuber      1  0.000005\n",
       "\n",
       "[8823 rows x 3 columns]"
      ]
     },
     "execution_count": 15,
     "metadata": {},
     "output_type": "execute_result"
    }
   ],
   "source": [
    "dem_counts"
   ]
  },
  {
   "cell_type": "markdown",
   "id": "7b304128",
   "metadata": {},
   "source": [
    "# **Compare Across Both**"
   ]
  },
  {
   "cell_type": "code",
   "execution_count": 16,
   "id": "76d98016",
   "metadata": {},
   "outputs": [],
   "source": [
    "rep_counts['rank'] = rep_counts.index+1\n",
    "dem_counts['rank'] = dem_counts.index+1"
   ]
  },
  {
   "cell_type": "code",
   "execution_count": 17,
   "id": "c2aaaa9c",
   "metadata": {},
   "outputs": [],
   "source": [
    "merged_df = pd.merge(dem_counts, rep_counts, how='outer', on='rank')\n",
    "merged_df = merged_df.drop(columns=['rank'])\n",
    "merged_df = merged_df.rename(columns={'text_x': 'dem_text', 'freq_x': 'dem_freq', 'text_y': 'rep_text', 'freq_y': 'rep_freq'})"
   ]
  },
  {
   "cell_type": "code",
   "execution_count": 18,
   "id": "8bdca708",
   "metadata": {},
   "outputs": [],
   "source": [
    "merged_df = merged_df.iloc[:100]"
   ]
  },
  {
   "cell_type": "markdown",
   "id": "e155af8d",
   "metadata": {},
   "source": [
    "# **Chat Generation**"
   ]
  },
  {
   "cell_type": "markdown",
   "id": "9ce525bd",
   "metadata": {},
   "source": [
    "## **Instruction Based Prompting**"
   ]
  },
  {
   "cell_type": "code",
   "execution_count": 19,
   "id": "7de36de4",
   "metadata": {},
   "outputs": [],
   "source": [
    "common_words = \"\\n\".join([\n",
    "    f\"{row['dem_text']}: {row['dem_freq']};  {row['rep_text']}: {row['rep_freq']}\"\n",
    "    for _, row in merged_df.iterrows()\n",
    "])"
   ]
  },
  {
   "cell_type": "code",
   "execution_count": 20,
   "id": "d9852066",
   "metadata": {},
   "outputs": [],
   "source": [
    "instruction = (\n",
    "    \"You are a data generator tasked with creating realistic Political speeches. \"\n",
    "    \"These speeches should be labeled according to their political affiliation: Republican or Democrat.\\n\"\n",
    "    \"Base the style on typical political speeches — include political jargons as well as themes that would be discussed in these types of speeches\\n\"\n",
    "    \"You will be given statistics about the distribution, including average speech length, standard deviation of the lengths of the speeches, and most common words associated with each affiliation and their frequency.\\n\"\n",
    "    \"Generate exactly 10 realistic speeches, one per line.\\n\"\n",
    "    \"Each line should follow this format: the speech in double quotes, followed by a space and then the label (-1 for Republican, 1 for Democrat).\\n\"\n",
    "    \"No extra formatting — just plain text output, one line per comment.\\n\"\n",
    "    \"Here is the format:\\n\"\n",
    "    \"\\\"<speech>\\\" <label>\\n\"\n",
    ")\n",
    "input = (\n",
    "    f\"Here is the average length of all the speeches: {avg_len} characters. \"\n",
    "    f\"Here is the standard deviation of the length for all the speeches: {std_len} characters.\\n\"\n",
    "    f\"Here are the most frequent words (format: word: frequency (sentiment)):\\n\\n{common_words}\\n\"\n",
    "    f\"Now, generate the 10 new speeches below:\"\n",
    ")"
   ]
  },
  {
   "cell_type": "code",
   "execution_count": 21,
   "id": "3837b8a9",
   "metadata": {},
   "outputs": [],
   "source": [
    "res = []\n",
    "for i in range(100):\n",
    "    response = client.responses.create(\n",
    "        model=\"gpt-4o\",\n",
    "        instructions=instruction,\n",
    "        input=input\n",
    "    )\n",
    "    res.append(response.output_text)"
   ]
  },
  {
   "cell_type": "code",
   "execution_count": 22,
   "id": "a0e1eb42",
   "metadata": {},
   "outputs": [],
   "source": [
    "labels = []\n",
    "sentences = []\n",
    "for i in range(100):\n",
    "    for word in res[i].split(\"\\n\"):\n",
    "        match = re.match(r'\"(.*?)\"\\s*(-?\\d+)', word)\n",
    "        if match:\n",
    "            quoted = match.group(1)      \n",
    "            label = match.group(2)       \n",
    "            sentences.append(quoted)\n",
    "            labels.append(int(label))"
   ]
  },
  {
   "cell_type": "code",
   "execution_count": 23,
   "id": "feda9e5a",
   "metadata": {},
   "outputs": [],
   "source": [
    "generated_df = pd.DataFrame({\n",
    "    'sentences': sentences,\n",
    "    'labels': labels\n",
    "})"
   ]
  },
  {
   "cell_type": "code",
   "execution_count": 25,
   "id": "40e0cbaf",
   "metadata": {},
   "outputs": [],
   "source": [
    "generated_df.to_csv('../data/generated/speeches/privacy_preserving_synthetic.csv', index=False)"
   ]
  }
 ],
 "metadata": {
  "kernelspec": {
   "display_name": "Python 3",
   "language": "python",
   "name": "python3"
  },
  "language_info": {
   "codemirror_mode": {
    "name": "ipython",
    "version": 3
   },
   "file_extension": ".py",
   "mimetype": "text/x-python",
   "name": "python",
   "nbconvert_exporter": "python",
   "pygments_lexer": "ipython3",
   "version": "3.9.6"
  }
 },
 "nbformat": 4,
 "nbformat_minor": 5
}
