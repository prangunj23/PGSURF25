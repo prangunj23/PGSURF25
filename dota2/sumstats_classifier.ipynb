{
 "cells": [
  {
   "cell_type": "code",
   "execution_count": 1,
   "id": "c31d7ff3",
   "metadata": {},
   "outputs": [],
   "source": [
    "import sys\n",
    "sys.path.append('../utilities/')"
   ]
  },
  {
   "cell_type": "code",
   "execution_count": 2,
   "id": "473eb862",
   "metadata": {},
   "outputs": [
    {
     "name": "stderr",
     "output_type": "stream",
     "text": [
      "/Users/pranitgunjal/Library/Python/3.9/lib/python/site-packages/urllib3/__init__.py:35: NotOpenSSLWarning: urllib3 v2 only supports OpenSSL 1.1.1+, currently the 'ssl' module is compiled with 'LibreSSL 2.8.3'. See: https://github.com/urllib3/urllib3/issues/3020\n",
      "  warnings.warn(\n"
     ]
    }
   ],
   "source": [
    "import pandas as pd\n",
    "import numpy as np\n",
    "from sklearn import svm\n",
    "from sklearn.model_selection import train_test_split, GridSearchCV\n",
    "from sklearn.metrics import accuracy_score, precision_score, recall_score, roc_auc_score\n",
    "import torch\n",
    "from sentence_transformers import SentenceTransformer\n",
    "from joblib import dump\n",
    "from openai import OpenAI\n",
    "from tqdm import tqdm\n",
    "from mmd import MMD\n",
    "import re\n",
    "from sklearn.feature_extraction.text import CountVectorizer"
   ]
  },
  {
   "cell_type": "code",
   "execution_count": 51,
   "id": "e11ae461",
   "metadata": {},
   "outputs": [],
   "source": [
    "orig_df = pd.read_csv('../data/initial_datasets/dota2_test.csv')\n",
    "gen_df = pd.read_csv('../data/generated/dota2/control/control_gen.csv')\n",
    "orig_df = orig_df.sample(n=1000)"
   ]
  },
  {
   "cell_type": "code",
   "execution_count": 52,
   "id": "3b4d68c6",
   "metadata": {},
   "outputs": [
    {
     "data": {
      "application/vnd.microsoft.datawrangler.viewer.v0+json": {
       "columns": [
        {
         "name": "index",
         "rawType": "int64",
         "type": "integer"
        },
        {
         "name": "translated_message",
         "rawType": "object",
         "type": "string"
        },
        {
         "name": "label",
         "rawType": "int64",
         "type": "integer"
        }
       ],
       "ref": "91626e54-c3c0-4909-8b94-8aa6ebd2d0dd",
       "rows": [
        [
         "317",
         "\"good luck next\"",
         "0"
        ],
        [
         "285",
         "\"MY EARTHSHAKER STAY BEHIND WITH ECHO\"",
         "0"
        ],
        [
         "167",
         "\"and so\"",
         "0"
        ],
        [
         "920",
         "17",
         "0"
        ],
        [
         "258",
         "\"Will he be coming?\"",
         "0"
        ],
        [
         "377",
         "\"bravo\"",
         "0"
        ],
        [
         "780",
         "HAHAHA",
         "0"
        ],
        [
         "24",
         "I know",
         "0"
        ],
        [
         "829",
         "games",
         "0"
        ],
        [
         "256",
         "\"you too phoenix\"",
         "0"
        ],
        [
         "112",
         "\"so trash\"",
         "0"
        ],
        [
         "203",
         "useless Bounty Hunter lost game",
         "0"
        ],
        [
         "449",
         "sad",
         "0"
        ],
        [
         "376",
         "\"Do you want Anti-Mage?\"",
         "0"
        ],
        [
         "820",
         "u so good",
         "0"
        ],
        [
         "912",
         "\"enough\"",
         "0"
        ],
        [
         "681",
         "\"And did you see how the LC died, such a pro :D\"",
         "0"
        ],
        [
         "212",
         "\"saw me teleport in and already had your cores use a teleport to come top lol\"",
         "0"
        ],
        [
         "747",
         "hahahaha",
         "0"
        ],
        [
         "319",
         "\"Is there a ward on the high ground?\"",
         "0"
        ],
        [
         "368",
         "\"check profile\"",
         "0"
        ],
        [
         "480",
         "Easy mid",
         "0"
        ],
        [
         "315",
         "\"really?\"",
         "0"
        ],
        [
         "87",
         "\"how disgusting can't kill a dumbass\"",
         "0"
        ],
        [
         "616",
         "wait",
         "0"
        ],
        [
         "77",
         "\"easy\"",
         "0"
        ],
        [
         "479",
         "HAHAHA",
         "0"
        ],
        [
         "536",
         "\"rampage incoming\"",
         "0"
        ],
        [
         "501",
         "\"you fucked up the lanes\"",
         "0"
        ],
        [
         "947",
         "\"go collect books for tomorrow)\"",
         "0"
        ],
        [
         "271",
         "\"you saw\"",
         "0"
        ],
        [
         "105",
         "\"+1 report for Puck\"",
         "0"
        ],
        [
         "34",
         "\"Hello\"",
         "0"
        ],
        [
         "451",
         "t",
         "0"
        ],
        [
         "576",
         "loser",
         "0"
        ],
        [
         "228",
         "\"but can't both so fast\"",
         "0"
        ],
        [
         "766",
         "1k MMR",
         "0"
        ],
        [
         "700",
         "gg",
         "0"
        ],
        [
         "197",
         "\"combo hahaha\"",
         "0"
        ],
        [
         "122",
         "))",
         "0"
        ],
        [
         "813",
         "\"Like I said, I'm going to laugh my ass off when I win haha\"",
         "0"
        ],
        [
         "646",
         "\"easy top little hands\"",
         "0"
        ],
        [
         "7",
         "\"what script\"",
         "0"
        ],
        [
         "504",
         "\"faggot\"",
         "1"
        ],
        [
         "990",
         "\"animal on Sven\"",
         "0"
        ],
        [
         "262",
         "\"fuck you\"",
         "1"
        ],
        [
         "371",
         "\"hazza\"",
         "0"
        ],
        [
         "428",
         "\"why ban techies? :P\"",
         "0"
        ],
        [
         "259",
         "\"do I care?\"",
         "0"
        ],
        [
         "588",
         "\"The dad is at Rosh.\"",
         "0"
        ]
       ],
       "shape": {
        "columns": 2,
        "rows": 1000
       }
      },
      "text/html": [
       "<div>\n",
       "<style scoped>\n",
       "    .dataframe tbody tr th:only-of-type {\n",
       "        vertical-align: middle;\n",
       "    }\n",
       "\n",
       "    .dataframe tbody tr th {\n",
       "        vertical-align: top;\n",
       "    }\n",
       "\n",
       "    .dataframe thead th {\n",
       "        text-align: right;\n",
       "    }\n",
       "</style>\n",
       "<table border=\"1\" class=\"dataframe\">\n",
       "  <thead>\n",
       "    <tr style=\"text-align: right;\">\n",
       "      <th></th>\n",
       "      <th>translated_message</th>\n",
       "      <th>label</th>\n",
       "    </tr>\n",
       "  </thead>\n",
       "  <tbody>\n",
       "    <tr>\n",
       "      <th>317</th>\n",
       "      <td>\"good luck next\"</td>\n",
       "      <td>0</td>\n",
       "    </tr>\n",
       "    <tr>\n",
       "      <th>285</th>\n",
       "      <td>\"MY EARTHSHAKER STAY BEHIND WITH ECHO\"</td>\n",
       "      <td>0</td>\n",
       "    </tr>\n",
       "    <tr>\n",
       "      <th>167</th>\n",
       "      <td>\"and so\"</td>\n",
       "      <td>0</td>\n",
       "    </tr>\n",
       "    <tr>\n",
       "      <th>920</th>\n",
       "      <td>17</td>\n",
       "      <td>0</td>\n",
       "    </tr>\n",
       "    <tr>\n",
       "      <th>258</th>\n",
       "      <td>\"Will he be coming?\"</td>\n",
       "      <td>0</td>\n",
       "    </tr>\n",
       "    <tr>\n",
       "      <th>...</th>\n",
       "      <td>...</td>\n",
       "      <td>...</td>\n",
       "    </tr>\n",
       "    <tr>\n",
       "      <th>387</th>\n",
       "      <td>\"go defend\"</td>\n",
       "      <td>0</td>\n",
       "    </tr>\n",
       "    <tr>\n",
       "      <th>418</th>\n",
       "      <td>some day</td>\n",
       "      <td>0</td>\n",
       "    </tr>\n",
       "    <tr>\n",
       "      <th>759</th>\n",
       "      <td>jakiro</td>\n",
       "      <td>0</td>\n",
       "    </tr>\n",
       "    <tr>\n",
       "      <th>83</th>\n",
       "      <td>\"Fucking idiot\"</td>\n",
       "      <td>0</td>\n",
       "    </tr>\n",
       "    <tr>\n",
       "      <th>240</th>\n",
       "      <td>\"ugh fuck stupid schoolboy(((\"</td>\n",
       "      <td>1</td>\n",
       "    </tr>\n",
       "  </tbody>\n",
       "</table>\n",
       "<p>1000 rows × 2 columns</p>\n",
       "</div>"
      ],
      "text/plain": [
       "                         translated_message  label\n",
       "317                        \"good luck next\"      0\n",
       "285  \"MY EARTHSHAKER STAY BEHIND WITH ECHO\"      0\n",
       "167                                \"and so\"      0\n",
       "920                                      17      0\n",
       "258                    \"Will he be coming?\"      0\n",
       "..                                      ...    ...\n",
       "387                             \"go defend\"      0\n",
       "418                                some day      0\n",
       "759                                  jakiro      0\n",
       "83                          \"Fucking idiot\"      0\n",
       "240          \"ugh fuck stupid schoolboy(((\"      1\n",
       "\n",
       "[1000 rows x 2 columns]"
      ]
     },
     "execution_count": 52,
     "metadata": {},
     "output_type": "execute_result"
    }
   ],
   "source": [
    "orig_df"
   ]
  },
  {
   "cell_type": "code",
   "execution_count": 53,
   "id": "15ba4a31",
   "metadata": {},
   "outputs": [
    {
     "data": {
      "application/vnd.microsoft.datawrangler.viewer.v0+json": {
       "columns": [
        {
         "name": "index",
         "rawType": "int64",
         "type": "integer"
        },
        {
         "name": "sentences",
         "rawType": "object",
         "type": "string"
        },
        {
         "name": "labels",
         "rawType": "int64",
         "type": "integer"
        }
       ],
       "ref": "08d79e5b-cf18-4216-addf-5c67c9585edc",
       "rows": [
        [
         "0",
         "I'm reporting u aftr game",
         "0"
        ],
        [
         "1",
         "nice play team, wp!",
         "1"
        ],
        [
         "2",
         "wtf r u doin?",
         "0"
        ],
        [
         "3",
         "keep it up, ur doing gr8!",
         "1"
        ],
        [
         "4",
         "lol uninstall pls",
         "0"
        ],
        [
         "5",
         "any tips for mid lane?",
         "1"
        ],
        [
         "6",
         "u suck, srsly",
         "0"
        ],
        [
         "7",
         "thx 4 the help, appreciate it",
         "1"
        ],
        [
         "8",
         "go back to tutorial",
         "0"
        ],
        [
         "9",
         "gj everyone, we got this",
         "1"
        ],
        [
         "10",
         "ez noobs lol",
         "0"
        ],
        [
         "11",
         "nice play, team!",
         "1"
        ],
        [
         "12",
         "why u feed bro???",
         "0"
        ],
        [
         "13",
         "gj everyone, wp!",
         "1"
        ],
        [
         "14",
         "can u stop dying pls",
         "0"
        ],
        [
         "15",
         "we got this guys!",
         "1"
        ],
        [
         "16",
         "fkin report him",
         "0"
        ],
        [
         "17",
         "thx for support <3",
         "1"
        ],
        [
         "18",
         "this is hopeless with u",
         "0"
        ],
        [
         "19",
         "let's push mid, glhf!",
         "1"
        ],
        [
         "20",
         "ez game lol",
         "1"
        ],
        [
         "21",
         "stop feeding omg",
         "0"
        ],
        [
         "22",
         "nice play team :)",
         "1"
        ],
        [
         "23",
         "u so bad at this",
         "0"
        ],
        [
         "24",
         "good job everyone!",
         "1"
        ],
        [
         "25",
         "wtf u doing???",
         "0"
        ],
        [
         "26",
         "keep it up guys!",
         "1"
        ],
        [
         "27",
         "can u pls focus...",
         "0"
        ],
        [
         "28",
         "awesome gank ty",
         "1"
        ],
        [
         "29",
         "why u so toxic man",
         "0"
        ],
        [
         "30",
         "noob team, uninstall pls",
         "0"
        ],
        [
         "31",
         "wp, let's get next one!",
         "1"
        ],
        [
         "32",
         "report this idiot",
         "0"
        ],
        [
         "33",
         "nice save tyvm!",
         "1"
        ],
        [
         "34",
         "ugh tryhard much?",
         "0"
        ],
        [
         "35",
         "can we group up and push?",
         "1"
        ],
        [
         "36",
         "so bad, go play tetras",
         "0"
        ],
        [
         "37",
         "great stun, carry on!",
         "1"
        ],
        [
         "38",
         "y r u even playing",
         "0"
        ],
        [
         "39",
         "fun game, gg everyone",
         "1"
        ],
        [
         "40",
         "wtf r u doin????",
         "0"
        ],
        [
         "41",
         "nice play, keep it up!",
         "1"
        ],
        [
         "42",
         "omg u guys r trash",
         "0"
        ],
        [
         "43",
         "lol, that was funny :D",
         "1"
        ],
        [
         "44",
         "quit feeding n00b",
         "0"
        ],
        [
         "45",
         "let's push mid, team!",
         "1"
        ],
        [
         "46",
         "reported 4 being useless",
         "0"
        ],
        [
         "47",
         "stay safe, good healz!",
         "1"
        ],
        [
         "48",
         "y'all suck, uninstall!",
         "0"
        ],
        [
         "49",
         "tight game, well played all",
         "1"
        ]
       ],
       "shape": {
        "columns": 2,
        "rows": 1000
       }
      },
      "text/html": [
       "<div>\n",
       "<style scoped>\n",
       "    .dataframe tbody tr th:only-of-type {\n",
       "        vertical-align: middle;\n",
       "    }\n",
       "\n",
       "    .dataframe tbody tr th {\n",
       "        vertical-align: top;\n",
       "    }\n",
       "\n",
       "    .dataframe thead th {\n",
       "        text-align: right;\n",
       "    }\n",
       "</style>\n",
       "<table border=\"1\" class=\"dataframe\">\n",
       "  <thead>\n",
       "    <tr style=\"text-align: right;\">\n",
       "      <th></th>\n",
       "      <th>sentences</th>\n",
       "      <th>labels</th>\n",
       "    </tr>\n",
       "  </thead>\n",
       "  <tbody>\n",
       "    <tr>\n",
       "      <th>0</th>\n",
       "      <td>I'm reporting u aftr game</td>\n",
       "      <td>0</td>\n",
       "    </tr>\n",
       "    <tr>\n",
       "      <th>1</th>\n",
       "      <td>nice play team, wp!</td>\n",
       "      <td>1</td>\n",
       "    </tr>\n",
       "    <tr>\n",
       "      <th>2</th>\n",
       "      <td>wtf r u doin?</td>\n",
       "      <td>0</td>\n",
       "    </tr>\n",
       "    <tr>\n",
       "      <th>3</th>\n",
       "      <td>keep it up, ur doing gr8!</td>\n",
       "      <td>1</td>\n",
       "    </tr>\n",
       "    <tr>\n",
       "      <th>4</th>\n",
       "      <td>lol uninstall pls</td>\n",
       "      <td>0</td>\n",
       "    </tr>\n",
       "    <tr>\n",
       "      <th>...</th>\n",
       "      <td>...</td>\n",
       "      <td>...</td>\n",
       "    </tr>\n",
       "    <tr>\n",
       "      <th>995</th>\n",
       "      <td>let's push mid, we got this</td>\n",
       "      <td>1</td>\n",
       "    </tr>\n",
       "    <tr>\n",
       "      <th>996</th>\n",
       "      <td>u can't last hit, uninstall</td>\n",
       "      <td>0</td>\n",
       "    </tr>\n",
       "    <tr>\n",
       "      <th>997</th>\n",
       "      <td>nice save back there</td>\n",
       "      <td>1</td>\n",
       "    </tr>\n",
       "    <tr>\n",
       "      <th>998</th>\n",
       "      <td>stop throwing, wtf</td>\n",
       "      <td>0</td>\n",
       "    </tr>\n",
       "    <tr>\n",
       "      <th>999</th>\n",
       "      <td>come on, we can still win this</td>\n",
       "      <td>1</td>\n",
       "    </tr>\n",
       "  </tbody>\n",
       "</table>\n",
       "<p>1000 rows × 2 columns</p>\n",
       "</div>"
      ],
      "text/plain": [
       "                          sentences  labels\n",
       "0         I'm reporting u aftr game       0\n",
       "1               nice play team, wp!       1\n",
       "2                     wtf r u doin?       0\n",
       "3         keep it up, ur doing gr8!       1\n",
       "4                 lol uninstall pls       0\n",
       "..                              ...     ...\n",
       "995     let's push mid, we got this       1\n",
       "996     u can't last hit, uninstall       0\n",
       "997            nice save back there       1\n",
       "998              stop throwing, wtf       0\n",
       "999  come on, we can still win this       1\n",
       "\n",
       "[1000 rows x 2 columns]"
      ]
     },
     "execution_count": 53,
     "metadata": {},
     "output_type": "execute_result"
    }
   ],
   "source": [
    "gen_df"
   ]
  },
  {
   "cell_type": "code",
   "execution_count": 54,
   "id": "faba0fdc",
   "metadata": {},
   "outputs": [],
   "source": [
    "orig_df = orig_df.rename(columns={'translated_message': 'sentences', 'label': 'labels'})\n",
    "orig_df['labels'] = orig_df['labels'].fillna(0)\n",
    "orig_df['labels'] = orig_df['labels'].replace({'x': 1})\n",
    "orig_df['labels'] = orig_df['labels'].astype(int)\n",
    "orig_df = orig_df[['sentences', 'labels']]"
   ]
  },
  {
   "cell_type": "markdown",
   "id": "af8c5482",
   "metadata": {},
   "source": [
    "# **Tools**"
   ]
  },
  {
   "cell_type": "code",
   "execution_count": 55,
   "id": "660187a7",
   "metadata": {},
   "outputs": [],
   "source": [
    "sentence_transformer = SentenceTransformer('all-mpnet-base-v2')"
   ]
  },
  {
   "cell_type": "markdown",
   "id": "290b9b50",
   "metadata": {},
   "source": [
    "# **MMD**"
   ]
  },
  {
   "cell_type": "code",
   "execution_count": 56,
   "id": "53f75063",
   "metadata": {},
   "outputs": [],
   "source": [
    "X = np.array(sentence_transformer.encode(orig_df['sentences'].to_list()))\n",
    "Y = np.array(sentence_transformer.encode(gen_df['sentences'].to_list()))"
   ]
  },
  {
   "cell_type": "code",
   "execution_count": 57,
   "id": "0afea103",
   "metadata": {},
   "outputs": [],
   "source": [
    "def report_MMD(X, Y, normalize=False):\n",
    "    \n",
    "    tensorX = torch.tensor(X)\n",
    "    tensorY = torch.tensor(Y)\n",
    "    rbf_mmd = MMD(tensorX, tensorY, \"rbf\")\n",
    "    scale_mmd = MMD(tensorX, tensorY, \"multiscale\")\n",
    "\n",
    "\n",
    "    if normalize:\n",
    "        return (rbf_mmd.item() / np.sqrt((1.0 / X.shape[0]) + (1.0 / Y.shape[0]))), (scale_mmd.item() / np.sqrt(1.0 / X.shape[0] + 1.0 / Y.shape[0]))\n",
    "    else:\n",
    "        return rbf_mmd.item(), scale_mmd.item()"
   ]
  },
  {
   "cell_type": "code",
   "execution_count": 58,
   "id": "6147b1d6",
   "metadata": {},
   "outputs": [
    {
     "data": {
      "text/plain": [
       "(0.8111742953883601, 3.2885409826869734)"
      ]
     },
     "execution_count": 58,
     "metadata": {},
     "output_type": "execute_result"
    }
   ],
   "source": [
    "report_MMD(X, Y, normalize=True)"
   ]
  },
  {
   "cell_type": "code",
   "execution_count": 60,
   "id": "33486b17",
   "metadata": {},
   "outputs": [],
   "source": [
    "import numpy as np\n",
    "import ot\n",
    "\n",
    "def wasserstein(X, Y):\n",
    "    \n",
    "    a = np.ones((X.shape[0],)) / X.shape[0]\n",
    "    b = np.ones((Y.shape[0],)) / Y.shape[0]\n",
    "\n",
    "    M = ot.dist(X, Y)\n",
    "    M /= M.max()\n",
    "\n",
    "    return ot.emd2(a, b, M)"
   ]
  },
  {
   "cell_type": "code",
   "execution_count": 61,
   "id": "d65a5e93",
   "metadata": {},
   "outputs": [
    {
     "name": "stderr",
     "output_type": "stream",
     "text": [
      "Python(49215) MallocStackLogging: can't turn off malloc stack logging because it was not enabled.\n",
      "huggingface/tokenizers: The current process just got forked, after parallelism has already been used. Disabling parallelism to avoid deadlocks...\n",
      "To disable this warning, you can either:\n",
      "\t- Avoid using `tokenizers` before the fork if possible\n",
      "\t- Explicitly set the environment variable TOKENIZERS_PARALLELISM=(true | false)\n"
     ]
    },
    {
     "data": {
      "text/plain": [
       "0.5633513201996674"
      ]
     },
     "execution_count": 61,
     "metadata": {},
     "output_type": "execute_result"
    }
   ],
   "source": [
    "wasserstein(X, Y)"
   ]
  },
  {
   "cell_type": "markdown",
   "id": "6ee749c9",
   "metadata": {},
   "source": [
    "# **Classification**"
   ]
  },
  {
   "cell_type": "markdown",
   "id": "463e1f16",
   "metadata": {},
   "source": [
    "## **Train on Synthetic Only**"
   ]
  },
  {
   "cell_type": "code",
   "execution_count": 62,
   "id": "bb0bebe2",
   "metadata": {},
   "outputs": [],
   "source": [
    "train_df = gen_df\n",
    "test_df = orig_df\n",
    "\n",
    "X_train = train_df['sentences']\n",
    "X_test = test_df['sentences']\n",
    "\n",
    "y_train = train_df['labels']\n",
    "y_test = test_df['labels']"
   ]
  },
  {
   "cell_type": "code",
   "execution_count": 63,
   "id": "f790a3f9",
   "metadata": {},
   "outputs": [],
   "source": [
    "X_train = np.array(sentence_transformer.encode(X_train.to_list()))\n",
    "X_test = np.array(sentence_transformer.encode(X_test.to_list()))"
   ]
  },
  {
   "cell_type": "code",
   "execution_count": 64,
   "id": "c1c56967",
   "metadata": {},
   "outputs": [
    {
     "name": "stdout",
     "output_type": "stream",
     "text": [
      "Train acc: 0.991\n",
      "Test acc: 0.297\n"
     ]
    }
   ],
   "source": [
    "model = svm.SVC(kernel='linear', probability=True, class_weight='balanced')\n",
    "model.fit(X_train, y_train)\n",
    "\n",
    "y_pred = model.predict(X_train)\n",
    "train_acc = accuracy_score(y_pred, y_train)\n",
    "print(f'Train acc: {train_acc}')\n",
    "\n",
    "y_pred = model.predict(X_test)\n",
    "test_acc = accuracy_score(y_pred, y_test)\n",
    "print(f'Test acc: {test_acc}')"
   ]
  },
  {
   "cell_type": "code",
   "execution_count": 65,
   "id": "0a152e55",
   "metadata": {},
   "outputs": [
    {
     "name": "stdout",
     "output_type": "stream",
     "text": [
      "0.01455604075691412\n",
      "0.2777777777777778\n"
     ]
    }
   ],
   "source": [
    "print(precision_score(y_test, y_pred))\n",
    "print(recall_score(y_test, y_pred))"
   ]
  },
  {
   "cell_type": "code",
   "execution_count": 66,
   "id": "f213a7d8",
   "metadata": {},
   "outputs": [
    {
     "name": "stdout",
     "output_type": "stream",
     "text": [
      "0.19412747810050715\n"
     ]
    }
   ],
   "source": [
    "y_prob = model.predict_proba(X_test)[:, 1]\n",
    "print(roc_auc_score(y_test, y_prob))"
   ]
  },
  {
   "cell_type": "markdown",
   "id": "70e12b13",
   "metadata": {},
   "source": [
    "# **Train on Synthetic + 100 Real**"
   ]
  },
  {
   "cell_type": "code",
   "execution_count": 67,
   "id": "3a39ffa6",
   "metadata": {},
   "outputs": [],
   "source": [
    "gen_df['type'] = 'synthetic'\n",
    "orig_df['type'] = 'original'"
   ]
  },
  {
   "cell_type": "code",
   "execution_count": 68,
   "id": "a8dce446",
   "metadata": {},
   "outputs": [
    {
     "name": "stderr",
     "output_type": "stream",
     "text": [
      "/var/folders/lv/pnwq6bmj4tq68bsvy__37qyh0000gn/T/ipykernel_91622/2126434482.py:5: FutureWarning: Downcasting behavior in `replace` is deprecated and will be removed in a future version. To retain the old behavior, explicitly call `result.infer_objects(copy=False)`. To opt-in to the future behavior, set `pd.set_option('future.no_silent_downcasting', True)`\n",
      "  orig_sample_df['labels'] = orig_sample_df['labels'].replace({'x': 1})\n"
     ]
    }
   ],
   "source": [
    "orig_sample_df = pd.read_csv('../data/initial_datasets/dota2_train_labels_translated_sanitized.csv')\n",
    "orig_sample_df = orig_sample_df.drop(orig_df.index)\n",
    "orig_sample_df = orig_sample_df.rename(columns={'translated_message': 'sentences', 'label': 'labels'})\n",
    "orig_sample_df['labels'] = orig_sample_df['labels'].fillna(0)\n",
    "orig_sample_df['labels'] = orig_sample_df['labels'].replace({'x': 1})\n",
    "orig_sample_df['labels'] = orig_sample_df['labels'].astype(int)\n",
    "orig_sample_df = orig_sample_df[['sentences', 'labels']]"
   ]
  },
  {
   "cell_type": "code",
   "execution_count": 69,
   "id": "afe5f3fd",
   "metadata": {},
   "outputs": [],
   "source": [
    "orig_sample_df['type'] = 'original'"
   ]
  },
  {
   "cell_type": "code",
   "execution_count": null,
   "id": "0f026cf2",
   "metadata": {},
   "outputs": [
    {
     "data": {
      "application/vnd.microsoft.datawrangler.viewer.v0+json": {
       "columns": [
        {
         "name": "index",
         "rawType": "int64",
         "type": "integer"
        },
        {
         "name": "sentences",
         "rawType": "object",
         "type": "string"
        },
        {
         "name": "labels",
         "rawType": "int64",
         "type": "integer"
        },
        {
         "name": "type",
         "rawType": "object",
         "type": "string"
        }
       ],
       "ref": "6ed1b81b-d516-4001-ad5f-b2f84f75054e",
       "rows": [
        [
         "1000",
         "\"you will\"",
         "0",
         "original"
        ],
        [
         "1001",
         ") you won't )",
         "0",
         "original"
        ],
        [
         "1002",
         "\"Bristle, I fucked your family in the ass.\"",
         "0",
         "original"
        ],
        [
         "1003",
         "\"Bristle, your mom is under my table sucking.\"",
         "0",
         "original"
        ],
        [
         "1004",
         "gg",
         "0",
         "original"
        ],
        [
         "1005",
         "\"easy game\"",
         "0",
         "original"
        ],
        [
         "1006",
         "\"30 damage\"",
         "0",
         "original"
        ],
        [
         "1007",
         "\"Shadow Blade Power Treads\"",
         "0",
         "original"
        ],
        [
         "1008",
         "\")\"",
         "0",
         "original"
        ],
        [
         "1009",
         "\"crystalis and 2 bf\"",
         "0",
         "original"
        ],
        [
         "1010",
         "\"Puck report dummy\"",
         "0",
         "original"
        ],
        [
         "1011",
         "\"+\"",
         "0",
         "original"
        ],
        [
         "1012",
         "REPORT",
         "0",
         "original"
        ],
        [
         "1013",
         "HEY",
         "0",
         "original"
        ],
        [
         "1014",
         "\"oops\"",
         "0",
         "original"
        ],
        [
         "1015",
         "|D",
         "0",
         "original"
        ],
        [
         "1016",
         "1k MMR",
         "0",
         "original"
        ],
        [
         "1017",
         "\"what to expect\"",
         "0",
         "original"
        ],
        [
         "1018",
         "\"0 wards\"",
         "0",
         "original"
        ],
        [
         "1019",
         "NOTHING",
         "0",
         "original"
        ],
        [
         "1020",
         "gg",
         "0",
         "original"
        ],
        [
         "1021",
         "\")\"",
         "0",
         "original"
        ],
        [
         "1022",
         "\"12 wins in a row on Legion\"",
         "0",
         "original"
        ],
        [
         "1023",
         "\"IMAGINE\"",
         "0",
         "original"
        ],
        [
         "1024",
         "\"NUDE\"",
         "0",
         "original"
        ],
        [
         "1025",
         "\"I don't care\"",
         "0",
         "original"
        ],
        [
         "1026",
         "?",
         "0",
         "original"
        ],
        [
         "1027",
         "\")\"",
         "0",
         "original"
        ],
        [
         "1028",
         "\"there was no bf\"",
         "0",
         "original"
        ],
        [
         "1029",
         "\"ACHE HE'S FEEDING?\"",
         "0",
         "original"
        ],
        [
         "1030",
         "\"18 level)\"",
         "0",
         "original"
        ],
        [
         "1031",
         "XD",
         "0",
         "original"
        ],
        [
         "1032",
         "\"What?\"",
         "0",
         "original"
        ],
        [
         "1033",
         "lol",
         "0",
         "original"
        ],
        [
         "1034",
         "\"revenge\"",
         "0",
         "original"
        ],
        [
         "1035",
         "wp",
         "0",
         "original"
        ],
        [
         "1036",
         "\"my f***ing support\"",
         "0",
         "original"
        ],
        [
         "1037",
         "lord",
         "0",
         "original"
        ],
        [
         "1038",
         "\"throw a report\"",
         "0",
         "original"
        ],
        [
         "1039",
         "plz",
         "0",
         "original"
        ],
        [
         "1040",
         "everyone",
         "0",
         "original"
        ],
        [
         "1041",
         "AI",
         "0",
         "original"
        ],
        [
         "1042",
         "\"faggot\"",
         "0",
         "original"
        ],
        [
         "1043",
         "RAMGA",
         "0",
         "original"
        ],
        [
         "1044",
         "\"easy\"",
         "0",
         "original"
        ],
        [
         "1045",
         "?",
         "0",
         "original"
        ],
        [
         "1046",
         "RAMPAGE",
         "0",
         "original"
        ],
        [
         "1047",
         "ALMOST",
         "0",
         "original"
        ],
        [
         "1048",
         "\"look at my team :(\"",
         "0",
         "original"
        ],
        [
         "1049",
         "PUDGE",
         "0",
         "original"
        ]
       ],
       "shape": {
        "columns": 3,
        "rows": 2459
       }
      },
      "text/html": [
       "<div>\n",
       "<style scoped>\n",
       "    .dataframe tbody tr th:only-of-type {\n",
       "        vertical-align: middle;\n",
       "    }\n",
       "\n",
       "    .dataframe tbody tr th {\n",
       "        vertical-align: top;\n",
       "    }\n",
       "\n",
       "    .dataframe thead th {\n",
       "        text-align: right;\n",
       "    }\n",
       "</style>\n",
       "<table border=\"1\" class=\"dataframe\">\n",
       "  <thead>\n",
       "    <tr style=\"text-align: right;\">\n",
       "      <th></th>\n",
       "      <th>sentences</th>\n",
       "      <th>labels</th>\n",
       "      <th>type</th>\n",
       "    </tr>\n",
       "  </thead>\n",
       "  <tbody>\n",
       "    <tr>\n",
       "      <th>1000</th>\n",
       "      <td>\"you will\"</td>\n",
       "      <td>0</td>\n",
       "      <td>original</td>\n",
       "    </tr>\n",
       "    <tr>\n",
       "      <th>1001</th>\n",
       "      <td>) you won't )</td>\n",
       "      <td>0</td>\n",
       "      <td>original</td>\n",
       "    </tr>\n",
       "    <tr>\n",
       "      <th>1002</th>\n",
       "      <td>\"Bristle, I fucked your family in the ass.\"</td>\n",
       "      <td>0</td>\n",
       "      <td>original</td>\n",
       "    </tr>\n",
       "    <tr>\n",
       "      <th>1003</th>\n",
       "      <td>\"Bristle, your mom is under my table sucking.\"</td>\n",
       "      <td>0</td>\n",
       "      <td>original</td>\n",
       "    </tr>\n",
       "    <tr>\n",
       "      <th>1004</th>\n",
       "      <td>gg</td>\n",
       "      <td>0</td>\n",
       "      <td>original</td>\n",
       "    </tr>\n",
       "    <tr>\n",
       "      <th>...</th>\n",
       "      <td>...</td>\n",
       "      <td>...</td>\n",
       "      <td>...</td>\n",
       "    </tr>\n",
       "    <tr>\n",
       "      <th>3454</th>\n",
       "      <td>\"my Luna hits the one with leggings, now I see...</td>\n",
       "      <td>0</td>\n",
       "      <td>original</td>\n",
       "    </tr>\n",
       "    <tr>\n",
       "      <th>3455</th>\n",
       "      <td>GG</td>\n",
       "      <td>0</td>\n",
       "      <td>original</td>\n",
       "    </tr>\n",
       "    <tr>\n",
       "      <th>3456</th>\n",
       "      <td>\"my shadow doesn't know how to use ult\"</td>\n",
       "      <td>0</td>\n",
       "      <td>original</td>\n",
       "    </tr>\n",
       "    <tr>\n",
       "      <th>3457</th>\n",
       "      <td>GG</td>\n",
       "      <td>0</td>\n",
       "      <td>original</td>\n",
       "    </tr>\n",
       "    <tr>\n",
       "      <th>3458</th>\n",
       "      <td>GG REPORT SLARDAR</td>\n",
       "      <td>0</td>\n",
       "      <td>original</td>\n",
       "    </tr>\n",
       "  </tbody>\n",
       "</table>\n",
       "<p>2459 rows × 3 columns</p>\n",
       "</div>"
      ],
      "text/plain": [
       "                                              sentences  labels      type\n",
       "1000                                         \"you will\"       0  original\n",
       "1001                                      ) you won't )       0  original\n",
       "1002        \"Bristle, I fucked your family in the ass.\"       0  original\n",
       "1003     \"Bristle, your mom is under my table sucking.\"       0  original\n",
       "1004                                                 gg       0  original\n",
       "...                                                 ...     ...       ...\n",
       "3454  \"my Luna hits the one with leggings, now I see...       0  original\n",
       "3455                                                 GG       0  original\n",
       "3456            \"my shadow doesn't know how to use ult\"       0  original\n",
       "3457                                                 GG       0  original\n",
       "3458                                  GG REPORT SLARDAR       0  original\n",
       "\n",
       "[2459 rows x 3 columns]"
      ]
     },
     "execution_count": 73,
     "metadata": {},
     "output_type": "execute_result"
    }
   ],
   "source": []
  },
  {
   "cell_type": "code",
   "execution_count": 70,
   "id": "e8a07132",
   "metadata": {},
   "outputs": [
    {
     "data": {
      "application/vnd.microsoft.datawrangler.viewer.v0+json": {
       "columns": [
        {
         "name": "index",
         "rawType": "int64",
         "type": "integer"
        },
        {
         "name": "sentences",
         "rawType": "object",
         "type": "string"
        },
        {
         "name": "labels",
         "rawType": "int64",
         "type": "integer"
        },
        {
         "name": "type",
         "rawType": "object",
         "type": "string"
        }
       ],
       "ref": "5fd404af-061d-4267-a4b5-d33a33e3ecfb",
       "rows": [
        [
         "0",
         "I'm reporting u aftr game",
         "0",
         "synthetic"
        ],
        [
         "1",
         "nice play team, wp!",
         "1",
         "synthetic"
        ],
        [
         "2",
         "wtf r u doin?",
         "0",
         "synthetic"
        ],
        [
         "3",
         "keep it up, ur doing gr8!",
         "1",
         "synthetic"
        ],
        [
         "4",
         "lol uninstall pls",
         "0",
         "synthetic"
        ],
        [
         "5",
         "any tips for mid lane?",
         "1",
         "synthetic"
        ],
        [
         "6",
         "u suck, srsly",
         "0",
         "synthetic"
        ],
        [
         "7",
         "thx 4 the help, appreciate it",
         "1",
         "synthetic"
        ],
        [
         "8",
         "go back to tutorial",
         "0",
         "synthetic"
        ],
        [
         "9",
         "gj everyone, we got this",
         "1",
         "synthetic"
        ],
        [
         "10",
         "ez noobs lol",
         "0",
         "synthetic"
        ],
        [
         "11",
         "nice play, team!",
         "1",
         "synthetic"
        ],
        [
         "12",
         "why u feed bro???",
         "0",
         "synthetic"
        ],
        [
         "13",
         "gj everyone, wp!",
         "1",
         "synthetic"
        ],
        [
         "14",
         "can u stop dying pls",
         "0",
         "synthetic"
        ],
        [
         "15",
         "we got this guys!",
         "1",
         "synthetic"
        ],
        [
         "16",
         "fkin report him",
         "0",
         "synthetic"
        ],
        [
         "17",
         "thx for support <3",
         "1",
         "synthetic"
        ],
        [
         "18",
         "this is hopeless with u",
         "0",
         "synthetic"
        ],
        [
         "19",
         "let's push mid, glhf!",
         "1",
         "synthetic"
        ],
        [
         "20",
         "ez game lol",
         "1",
         "synthetic"
        ],
        [
         "21",
         "stop feeding omg",
         "0",
         "synthetic"
        ],
        [
         "22",
         "nice play team :)",
         "1",
         "synthetic"
        ],
        [
         "23",
         "u so bad at this",
         "0",
         "synthetic"
        ],
        [
         "24",
         "good job everyone!",
         "1",
         "synthetic"
        ],
        [
         "25",
         "wtf u doing???",
         "0",
         "synthetic"
        ],
        [
         "26",
         "keep it up guys!",
         "1",
         "synthetic"
        ],
        [
         "27",
         "can u pls focus...",
         "0",
         "synthetic"
        ],
        [
         "28",
         "awesome gank ty",
         "1",
         "synthetic"
        ],
        [
         "29",
         "why u so toxic man",
         "0",
         "synthetic"
        ],
        [
         "30",
         "noob team, uninstall pls",
         "0",
         "synthetic"
        ],
        [
         "31",
         "wp, let's get next one!",
         "1",
         "synthetic"
        ],
        [
         "32",
         "report this idiot",
         "0",
         "synthetic"
        ],
        [
         "33",
         "nice save tyvm!",
         "1",
         "synthetic"
        ],
        [
         "34",
         "ugh tryhard much?",
         "0",
         "synthetic"
        ],
        [
         "35",
         "can we group up and push?",
         "1",
         "synthetic"
        ],
        [
         "36",
         "so bad, go play tetras",
         "0",
         "synthetic"
        ],
        [
         "37",
         "great stun, carry on!",
         "1",
         "synthetic"
        ],
        [
         "38",
         "y r u even playing",
         "0",
         "synthetic"
        ],
        [
         "39",
         "fun game, gg everyone",
         "1",
         "synthetic"
        ],
        [
         "40",
         "wtf r u doin????",
         "0",
         "synthetic"
        ],
        [
         "41",
         "nice play, keep it up!",
         "1",
         "synthetic"
        ],
        [
         "42",
         "omg u guys r trash",
         "0",
         "synthetic"
        ],
        [
         "43",
         "lol, that was funny :D",
         "1",
         "synthetic"
        ],
        [
         "44",
         "quit feeding n00b",
         "0",
         "synthetic"
        ],
        [
         "45",
         "let's push mid, team!",
         "1",
         "synthetic"
        ],
        [
         "46",
         "reported 4 being useless",
         "0",
         "synthetic"
        ],
        [
         "47",
         "stay safe, good healz!",
         "1",
         "synthetic"
        ],
        [
         "48",
         "y'all suck, uninstall!",
         "0",
         "synthetic"
        ],
        [
         "49",
         "tight game, well played all",
         "1",
         "synthetic"
        ]
       ],
       "shape": {
        "columns": 3,
        "rows": 1000
       }
      },
      "text/html": [
       "<div>\n",
       "<style scoped>\n",
       "    .dataframe tbody tr th:only-of-type {\n",
       "        vertical-align: middle;\n",
       "    }\n",
       "\n",
       "    .dataframe tbody tr th {\n",
       "        vertical-align: top;\n",
       "    }\n",
       "\n",
       "    .dataframe thead th {\n",
       "        text-align: right;\n",
       "    }\n",
       "</style>\n",
       "<table border=\"1\" class=\"dataframe\">\n",
       "  <thead>\n",
       "    <tr style=\"text-align: right;\">\n",
       "      <th></th>\n",
       "      <th>sentences</th>\n",
       "      <th>labels</th>\n",
       "      <th>type</th>\n",
       "    </tr>\n",
       "  </thead>\n",
       "  <tbody>\n",
       "    <tr>\n",
       "      <th>0</th>\n",
       "      <td>I'm reporting u aftr game</td>\n",
       "      <td>0</td>\n",
       "      <td>synthetic</td>\n",
       "    </tr>\n",
       "    <tr>\n",
       "      <th>1</th>\n",
       "      <td>nice play team, wp!</td>\n",
       "      <td>1</td>\n",
       "      <td>synthetic</td>\n",
       "    </tr>\n",
       "    <tr>\n",
       "      <th>2</th>\n",
       "      <td>wtf r u doin?</td>\n",
       "      <td>0</td>\n",
       "      <td>synthetic</td>\n",
       "    </tr>\n",
       "    <tr>\n",
       "      <th>3</th>\n",
       "      <td>keep it up, ur doing gr8!</td>\n",
       "      <td>1</td>\n",
       "      <td>synthetic</td>\n",
       "    </tr>\n",
       "    <tr>\n",
       "      <th>4</th>\n",
       "      <td>lol uninstall pls</td>\n",
       "      <td>0</td>\n",
       "      <td>synthetic</td>\n",
       "    </tr>\n",
       "    <tr>\n",
       "      <th>...</th>\n",
       "      <td>...</td>\n",
       "      <td>...</td>\n",
       "      <td>...</td>\n",
       "    </tr>\n",
       "    <tr>\n",
       "      <th>995</th>\n",
       "      <td>let's push mid, we got this</td>\n",
       "      <td>1</td>\n",
       "      <td>synthetic</td>\n",
       "    </tr>\n",
       "    <tr>\n",
       "      <th>996</th>\n",
       "      <td>u can't last hit, uninstall</td>\n",
       "      <td>0</td>\n",
       "      <td>synthetic</td>\n",
       "    </tr>\n",
       "    <tr>\n",
       "      <th>997</th>\n",
       "      <td>nice save back there</td>\n",
       "      <td>1</td>\n",
       "      <td>synthetic</td>\n",
       "    </tr>\n",
       "    <tr>\n",
       "      <th>998</th>\n",
       "      <td>stop throwing, wtf</td>\n",
       "      <td>0</td>\n",
       "      <td>synthetic</td>\n",
       "    </tr>\n",
       "    <tr>\n",
       "      <th>999</th>\n",
       "      <td>come on, we can still win this</td>\n",
       "      <td>1</td>\n",
       "      <td>synthetic</td>\n",
       "    </tr>\n",
       "  </tbody>\n",
       "</table>\n",
       "<p>1000 rows × 3 columns</p>\n",
       "</div>"
      ],
      "text/plain": [
       "                          sentences  labels       type\n",
       "0         I'm reporting u aftr game       0  synthetic\n",
       "1               nice play team, wp!       1  synthetic\n",
       "2                     wtf r u doin?       0  synthetic\n",
       "3         keep it up, ur doing gr8!       1  synthetic\n",
       "4                 lol uninstall pls       0  synthetic\n",
       "..                              ...     ...        ...\n",
       "995     let's push mid, we got this       1  synthetic\n",
       "996     u can't last hit, uninstall       0  synthetic\n",
       "997            nice save back there       1  synthetic\n",
       "998              stop throwing, wtf       0  synthetic\n",
       "999  come on, we can still win this       1  synthetic\n",
       "\n",
       "[1000 rows x 3 columns]"
      ]
     },
     "execution_count": 70,
     "metadata": {},
     "output_type": "execute_result"
    }
   ],
   "source": [
    "gen_df"
   ]
  },
  {
   "cell_type": "code",
   "execution_count": 74,
   "id": "a537ed6f",
   "metadata": {},
   "outputs": [],
   "source": [
    "train_df = pd.concat([gen_df.sample(n=900), orig_sample_df.sample(n=100)]).sample(frac=1).reset_index(drop=True)\n",
    "test_df = orig_df.sample(frac=1).reset_index(drop=True)\n",
    "\n",
    "X_train = train_df['sentences']\n",
    "X_test = test_df['sentences']\n",
    "\n",
    "y_train = train_df['labels']\n",
    "y_test = test_df['labels']"
   ]
  },
  {
   "cell_type": "code",
   "execution_count": 76,
   "id": "e60a850b",
   "metadata": {},
   "outputs": [
    {
     "data": {
      "application/vnd.microsoft.datawrangler.viewer.v0+json": {
       "columns": [
        {
         "name": "type",
         "rawType": "object",
         "type": "string"
        },
        {
         "name": "count",
         "rawType": "int64",
         "type": "integer"
        }
       ],
       "ref": "0abe05f4-476c-4e3b-942c-c7c412a2fb8f",
       "rows": [
        [
         "synthetic",
         "900"
        ],
        [
         "original",
         "100"
        ]
       ],
       "shape": {
        "columns": 1,
        "rows": 2
       }
      },
      "text/plain": [
       "type\n",
       "synthetic    900\n",
       "original     100\n",
       "Name: count, dtype: int64"
      ]
     },
     "execution_count": 76,
     "metadata": {},
     "output_type": "execute_result"
    }
   ],
   "source": [
    "train_df['type'].value_counts()"
   ]
  },
  {
   "cell_type": "code",
   "execution_count": 77,
   "id": "d98c672c",
   "metadata": {},
   "outputs": [],
   "source": [
    "X_train = np.array(sentence_transformer.encode(X_train.to_list()))\n",
    "X_test = np.array(sentence_transformer.encode(X_test.to_list()))"
   ]
  },
  {
   "cell_type": "code",
   "execution_count": 78,
   "id": "55653730",
   "metadata": {},
   "outputs": [
    {
     "name": "stdout",
     "output_type": "stream",
     "text": [
      "Train acc: 0.981\n",
      "Test acc: 0.891\n"
     ]
    }
   ],
   "source": [
    "model = svm.SVC(kernel='linear', probability=True, class_weight='balanced')\n",
    "model.fit(X_train, y_train)\n",
    "\n",
    "y_pred = model.predict(X_train)\n",
    "train_acc = accuracy_score(y_pred, y_train)\n",
    "print(f'Train acc: {train_acc}')\n",
    "\n",
    "y_pred = model.predict(X_test)\n",
    "test_acc = accuracy_score(y_pred, y_test)\n",
    "print(f'Test acc: {test_acc}')"
   ]
  },
  {
   "cell_type": "code",
   "execution_count": 81,
   "id": "5be7dd90",
   "metadata": {},
   "outputs": [
    {
     "name": "stdout",
     "output_type": "stream",
     "text": [
      "0.0\n",
      "0.0\n"
     ]
    }
   ],
   "source": [
    "print(precision_score(y_test, y_pred))\n",
    "print(recall_score(y_test, y_pred))"
   ]
  },
  {
   "cell_type": "code",
   "execution_count": 82,
   "id": "02d00f0d",
   "metadata": {},
   "outputs": [
    {
     "name": "stdout",
     "output_type": "stream",
     "text": [
      "0.22697671738128167\n"
     ]
    }
   ],
   "source": [
    "y_prob = model.predict_proba(X_test)[:, 1]\n",
    "print(roc_auc_score(y_test, y_prob))"
   ]
  },
  {
   "cell_type": "markdown",
   "id": "d336451d",
   "metadata": {},
   "source": [
    "# **Wasserstein**"
   ]
  },
  {
   "cell_type": "code",
   "execution_count": 28,
   "id": "ba32029f",
   "metadata": {},
   "outputs": [],
   "source": [
    "import numpy as np\n",
    "import ot\n",
    "\n",
    "def wasserstein(X, Y):\n",
    "    \n",
    "    a = np.ones((X.shape[0],)) / X.shape[0]\n",
    "    b = np.ones((Y.shape[0],)) / Y.shape[0]\n",
    "\n",
    "    M = ot.dist(X, Y)\n",
    "    M /= M.max()\n",
    "\n",
    "    return ot.emd2(a, b, M)"
   ]
  },
  {
   "cell_type": "code",
   "execution_count": 5,
   "id": "9132fd3e",
   "metadata": {},
   "outputs": [
    {
     "data": {
      "application/vnd.microsoft.datawrangler.viewer.v0+json": {
       "columns": [
        {
         "name": "index",
         "rawType": "int64",
         "type": "integer"
        },
        {
         "name": "sentences",
         "rawType": "object",
         "type": "string"
        },
        {
         "name": "labels",
         "rawType": "int64",
         "type": "integer"
        }
       ],
       "ref": "f74ebd8f-44e1-420f-8bdd-4abc51bacbf0",
       "rows": [
        [
         "0",
         "gg ez noobs learn to play",
         "0"
        ],
        [
         "1",
         "nice play team, keep it up!",
         "1"
        ],
        [
         "2",
         "fucking idiot stop feeding",
         "0"
        ],
        [
         "3",
         "good fight, let's keep pushing",
         "1"
        ],
        [
         "4",
         "report this faggot feeder",
         "0"
        ],
        [
         "5",
         "lol ur so trash, get gud",
         "0"
        ],
        [
         "6",
         "well played everyone, that was fun",
         "1"
        ],
        [
         "7",
         "u bitch stop ks my kills",
         "0"
        ],
        [
         "8",
         "thanks for the support guys!",
         "1"
        ],
        [
         "9",
         "can we focus the tower pls",
         "1"
        ],
        [
         "10",
         "gg guys well played :)",
         "1"
        ],
        [
         "11",
         "wtf is wrong with you idiots",
         "0"
        ],
        [
         "12",
         "haha ez game!",
         "0"
        ],
        [
         "13",
         "thank you for support, team",
         "1"
        ],
        [
         "14",
         "you fucking suck man",
         "0"
        ],
        [
         "15",
         "nicely done bro",
         "1"
        ],
        [
         "16",
         "report this faggot pls",
         "0"
        ],
        [
         "17",
         "lets go next round, we got this",
         "1"
        ],
        [
         "18",
         "u play like trash omg",
         "0"
        ],
        [
         "19",
         "lol good luck next game",
         "1"
        ],
        [
         "20",
         "I can't believe you did that, gg",
         "1"
        ],
        [
         "21",
         "Stop feeding, you fucking retard!",
         "0"
        ],
        [
         "22",
         "Lol that was a good game, nice plays",
         "1"
        ],
        [
         "23",
         "You're trash and everyone knows it",
         "0"
        ],
        [
         "24",
         "Ez game, don't cry now",
         "0"
        ],
        [
         "25",
         "Well played team, let's do it again",
         "1"
        ],
        [
         "26",
         "Why are you AFK, idiot?",
         "0"
        ],
        [
         "27",
         "Thanks for the game, was fun",
         "1"
        ],
        [
         "28",
         "Fucking noobs, learn to play",
         "0"
        ],
        [
         "29",
         "Hehe, nice moves dude, gg",
         "1"
        ],
        [
         "30",
         "I'm done with u idiots",
         "0"
        ],
        [
         "31",
         "gg ty for the game",
         "1"
        ],
        [
         "32",
         "can you stop feeding pls",
         "0"
        ],
        [
         "33",
         "haha ez life",
         "1"
        ],
        [
         "34",
         "fucking noob team",
         "0"
        ],
        [
         "35",
         "thank you for the support",
         "1"
        ],
        [
         "36",
         "go back to base lol",
         "1"
        ],
        [
         "37",
         "u guys are such trash",
         "0"
        ],
        [
         "38",
         "nice plays guys",
         "1"
        ],
        [
         "39",
         "why are you all so bad?",
         "0"
        ],
        [
         "40",
         "you guys need to report that noob",
         "0"
        ],
        [
         "41",
         "lol gg we almost had it",
         "1"
        ],
        [
         "42",
         "can u stop feeding idiot",
         "0"
        ],
        [
         "43",
         "easy game gg good job team",
         "1"
        ],
        [
         "44",
         "why is this team so fucking bad",
         "0"
        ],
        [
         "45",
         "haha nice play that was awesome",
         "1"
        ],
        [
         "46",
         "fucking hell this game is trash",
         "0"
        ],
        [
         "47",
         "u guys did great, well played",
         "1"
        ],
        [
         "48",
         "retard just uninstall pls",
         "0"
        ],
        [
         "49",
         "gg wp, see you next game",
         "1"
        ]
       ],
       "shape": {
        "columns": 2,
        "rows": 1000
       }
      },
      "text/html": [
       "<div>\n",
       "<style scoped>\n",
       "    .dataframe tbody tr th:only-of-type {\n",
       "        vertical-align: middle;\n",
       "    }\n",
       "\n",
       "    .dataframe tbody tr th {\n",
       "        vertical-align: top;\n",
       "    }\n",
       "\n",
       "    .dataframe thead th {\n",
       "        text-align: right;\n",
       "    }\n",
       "</style>\n",
       "<table border=\"1\" class=\"dataframe\">\n",
       "  <thead>\n",
       "    <tr style=\"text-align: right;\">\n",
       "      <th></th>\n",
       "      <th>sentences</th>\n",
       "      <th>labels</th>\n",
       "    </tr>\n",
       "  </thead>\n",
       "  <tbody>\n",
       "    <tr>\n",
       "      <th>0</th>\n",
       "      <td>gg ez noobs learn to play</td>\n",
       "      <td>0</td>\n",
       "    </tr>\n",
       "    <tr>\n",
       "      <th>1</th>\n",
       "      <td>nice play team, keep it up!</td>\n",
       "      <td>1</td>\n",
       "    </tr>\n",
       "    <tr>\n",
       "      <th>2</th>\n",
       "      <td>fucking idiot stop feeding</td>\n",
       "      <td>0</td>\n",
       "    </tr>\n",
       "    <tr>\n",
       "      <th>3</th>\n",
       "      <td>good fight, let's keep pushing</td>\n",
       "      <td>1</td>\n",
       "    </tr>\n",
       "    <tr>\n",
       "      <th>4</th>\n",
       "      <td>report this faggot feeder</td>\n",
       "      <td>0</td>\n",
       "    </tr>\n",
       "    <tr>\n",
       "      <th>...</th>\n",
       "      <td>...</td>\n",
       "      <td>...</td>\n",
       "    </tr>\n",
       "    <tr>\n",
       "      <th>995</th>\n",
       "      <td>stop feeding you retard</td>\n",
       "      <td>0</td>\n",
       "    </tr>\n",
       "    <tr>\n",
       "      <th>996</th>\n",
       "      <td>gg wp guys, let's queue again</td>\n",
       "      <td>1</td>\n",
       "    </tr>\n",
       "    <tr>\n",
       "      <th>997</th>\n",
       "      <td>bunch of noob bitches</td>\n",
       "      <td>0</td>\n",
       "    </tr>\n",
       "    <tr>\n",
       "      <th>998</th>\n",
       "      <td>easy game, good teamwork</td>\n",
       "      <td>1</td>\n",
       "    </tr>\n",
       "    <tr>\n",
       "      <th>999</th>\n",
       "      <td>you're trash, no skill!</td>\n",
       "      <td>0</td>\n",
       "    </tr>\n",
       "  </tbody>\n",
       "</table>\n",
       "<p>1000 rows × 2 columns</p>\n",
       "</div>"
      ],
      "text/plain": [
       "                          sentences  labels\n",
       "0         gg ez noobs learn to play       0\n",
       "1       nice play team, keep it up!       1\n",
       "2        fucking idiot stop feeding       0\n",
       "3    good fight, let's keep pushing       1\n",
       "4         report this faggot feeder       0\n",
       "..                              ...     ...\n",
       "995         stop feeding you retard       0\n",
       "996   gg wp guys, let's queue again       1\n",
       "997           bunch of noob bitches       0\n",
       "998        easy game, good teamwork       1\n",
       "999         you're trash, no skill!       0\n",
       "\n",
       "[1000 rows x 2 columns]"
      ]
     },
     "execution_count": 5,
     "metadata": {},
     "output_type": "execute_result"
    }
   ],
   "source": [
    "gen_df"
   ]
  },
  {
   "cell_type": "code",
   "execution_count": null,
   "id": "f1791ef8",
   "metadata": {},
   "outputs": [
    {
     "data": {
      "application/vnd.microsoft.datawrangler.viewer.v0+json": {
       "columns": [
        {
         "name": "index",
         "rawType": "int64",
         "type": "integer"
        },
        {
         "name": "message",
         "rawType": "object",
         "type": "string"
        },
        {
         "name": "label",
         "rawType": "object",
         "type": "unknown"
        },
        {
         "name": "player",
         "rawType": "int64",
         "type": "integer"
        },
        {
         "name": "special_token_message",
         "rawType": "object",
         "type": "string"
        },
        {
         "name": "match",
         "rawType": "int64",
         "type": "integer"
        },
        {
         "name": "translated_message",
         "rawType": "object",
         "type": "string"
        },
        {
         "name": "sanitized_translated_message",
         "rawType": "object",
         "type": "string"
        }
       ],
       "ref": "70001e87-a768-406b-8f7a-cc4a5696ec85",
       "rows": [
        [
         "986",
         "mk",
         null,
         "2",
         "[Team0][Player2]: mk",
         "33",
         "mk",
         "mk"
        ],
        [
         "2898",
         "trip",
         null,
         "4",
         "[Team0][Player4]: trip",
         "64",
         "trip",
         "trip"
        ],
        [
         "3315",
         ")))",
         null,
         "9",
         "[Team1][Player4]: )))",
         "82",
         ")))",
         ")))"
        ],
        [
         "1720",
         "QUE PEGA ISSO",
         null,
         "5",
         "[Team1][Player0]: QUE PEGA ISSO",
         "42",
         "\"WHAT'S UP WITH THAT\"",
         "WHAT'S UP WITH THAT"
        ],
        [
         "552",
         "вот и думай мусорка на морте",
         null,
         "2",
         "[Team0][Player2]: вот и думай мусорка на морте",
         "30",
         "\"there you go, think about it, trash on Mortred\"",
         "there you go, think about it, **** on Mortred"
        ],
        [
         "1060",
         "lotar",
         null,
         "7",
         "[Team1][Player2]: lotar",
         "94",
         "Shadow Blade",
         "Shadow Blade"
        ],
        [
         "1607",
         "hahaha",
         null,
         "2",
         "[Team0][Player2]: hahaha",
         "43",
         "hahaha",
         "hahaha"
        ],
        [
         "560",
         "смотрят",
         null,
         "9",
         "[Team1][Player4]: смотрят",
         "30",
         "\"watching\"",
         "watching"
        ],
        [
         "2029",
         "MMR",
         null,
         "8",
         "[Team1][Player3]: MMR",
         "10",
         "MMR",
         "MMR"
        ],
        [
         "2140",
         "except",
         null,
         "3",
         "[Team0][Player3]: except",
         "10",
         "except",
         "except"
        ],
        [
         "2682",
         "helping you",
         null,
         "2",
         "[Team0][Player2]: helping you",
         "35",
         "helping you",
         "helping you"
        ],
        [
         "1848",
         "gg",
         null,
         "1",
         "[Team0][Player1]: gg",
         "26",
         "gg",
         "gg"
        ],
        [
         "2315",
         "gg",
         null,
         "1",
         "[Team0][Player1]: gg",
         "16",
         "gg",
         "gg"
        ],
        [
         "1213",
         "u won",
         null,
         "9",
         "[Team1][Player4]: u won",
         "12",
         "\"you won\"",
         "you won"
        ],
        [
         "1415",
         "hp",
         null,
         "9",
         "[Team1][Player4]: hp",
         "37",
         "\"hp\"",
         "hp"
        ],
        [
         "2496",
         "c утреца на юморок потянуло",
         null,
         "1",
         "[Team0][Player1]: c утреца на юморок потянуло",
         "27",
         "\"felt like some humor in the morning\"",
         "felt like some humor in the morning"
        ],
        [
         "1283",
         "выодим",
         null,
         "9",
         "[Team1][Player4]: выодим",
         "40",
         "\"we're going out\"",
         "we're going out"
        ],
        [
         "1479",
         "noob doom",
         null,
         "5",
         "[Team1][Player0]: noob doom",
         "43",
         "\"noob doom\"",
         "noob doom"
        ],
        [
         "1047",
         "POCHTI",
         null,
         "7",
         "[Team1][Player2]: POCHTI",
         "94",
         "ALMOST",
         "ALMOST"
        ],
        [
         "1031",
         "XD",
         null,
         "4",
         "[Team0][Player4]: XD",
         "94",
         "XD",
         "XD"
        ],
        [
         "3302",
         "ахахахахахахахахахахах",
         null,
         "4",
         "[Team0][Player4]: ахахахахахахахахахахах",
         "14",
         "hahahahahahahahahahahah",
         "hahahahahahahahahahahah"
        ],
        [
         "75",
         "==",
         null,
         "8",
         "[Team1][Player3]: ==",
         "13",
         "==",
         "=="
        ],
        [
         "1208",
         "LMAO",
         null,
         "3",
         "[Team0][Player3]: LMAO",
         "47",
         "LMAO",
         "LMAO"
        ],
        [
         "2409",
         ")",
         null,
         "1",
         "[Team0][Player1]: )",
         "93",
         "\")\"",
         "\")\""
        ],
        [
         "2005",
         "akin",
         null,
         "8",
         "[Team1][Player3]: akin",
         "10",
         "\"mine\"",
         "mine"
        ],
        [
         "1579",
         "rofl",
         null,
         "2",
         "[Team0][Player2]: rofl",
         "43",
         "rofl",
         "rofl"
        ],
        [
         "257",
         "chapo",
         null,
         "3",
         "[Team0][Player3]: chapo",
         "9",
         "\"chapo\"",
         "chapo"
        ],
        [
         "752",
         ":DDD",
         null,
         "7",
         "[Team1][Player2]: :DDD",
         "89",
         ":DDD",
         ":DDD"
        ],
        [
         "3400",
         "ЛИВНИТЕ ПЛИЗ",
         null,
         "0",
         "[Team0][Player0]: ЛИВНИТЕ ПЛИЗ",
         "74",
         "\"PLEASE LEAVE\"",
         "PLEASE LEAVE"
        ],
        [
         "2423",
         "они сами приходят",
         null,
         "2",
         "[Team0][Player2]: они сами приходят",
         "15",
         "\"they come on their own\"",
         "they come on their own"
        ],
        [
         "1111",
         "как мы выйграли",
         null,
         "5",
         "[Team1][Player0]: как мы выйграли",
         "94",
         "\"how did we win\"",
         "how did we win"
        ],
        [
         "60",
         "end",
         null,
         "3",
         "[Team0][Player3]: end",
         "13",
         "end",
         "end"
        ],
        [
         "2705",
         "i beat ez so many dusa",
         null,
         "6",
         "[Team1][Player1]: i beat ez so many dusa",
         "35",
         "\"I beat so many Medusas easily.\"",
         "I beat so many Medusas easily."
        ],
        [
         "3199",
         ")",
         null,
         "7",
         "[Team1][Player2]: )",
         "71",
         "\")\"",
         "\")\""
        ],
        [
         "2836",
         "just trying to keep the troops happy",
         null,
         "5",
         "[Team1][Player0]: just trying to keep the troops happy",
         "66",
         "just trying to keep the troops happy",
         "just trying to keep the troops happy"
        ],
        [
         "1135",
         "rly",
         null,
         "7",
         "[Team1][Player2]: rly",
         "90",
         "rly",
         "rly"
        ],
        [
         "3084",
         "или ты хочешь сказать что тебе не помогали?",
         null,
         "7",
         "[Team1][Player2]: или ты хочешь сказать что тебе не помогали?",
         "62",
         "\"Or are you trying to say that no one helped you?\"",
         "Or are you trying to say that no one helped you?"
        ],
        [
         "1743",
         "gg",
         null,
         "4",
         "[Team0][Player4]: gg",
         "42",
         "gg",
         "gg"
        ],
        [
         "1551",
         "mirana",
         null,
         "4",
         "[Team0][Player4]: mirana",
         "43",
         "\"mirana\"",
         "mirana"
        ],
        [
         "896",
         "ой",
         null,
         "5",
         "[Team1][Player0]: ой",
         "3",
         "\"oh\"",
         "oh"
        ],
        [
         "3225",
         "get techies, get your -25 mmr",
         null,
         "4",
         "[Team0][Player4]: get techies, get your -25 mmr",
         "71",
         "\"get techies, get your -25 MMR\"",
         "get techies, get your -25 MMR"
        ],
        [
         "1736",
         "tY",
         null,
         "4",
         "[Team0][Player4]: tY",
         "42",
         "thank you",
         "thank you"
        ],
        [
         "1617",
         "pls",
         null,
         "3",
         "[Team0][Player3]: pls",
         "86",
         "please",
         "please"
        ],
        [
         "466",
         "HAHHA",
         null,
         "5",
         "[Team1][Player0]: HAHHA",
         "63",
         "HAHA",
         "HAHA"
        ],
        [
         "3171",
         "DDDD",
         null,
         "6",
         "[Team1][Player1]: DDDD",
         "71",
         "DDDD",
         "DDDD"
        ],
        [
         "2959",
         "ah se fude",
         null,
         "1",
         "[Team0][Player1]: ah se fude",
         "54",
         "\"ah fuck off\"",
         "ah **** off"
        ],
        [
         "3094",
         "gel la",
         null,
         "6",
         "[Team1][Player1]: gel la",
         "62",
         "\"come on\"",
         "come on"
        ],
        [
         "3226",
         "nvm",
         null,
         "6",
         "[Team1][Player1]: nvm",
         "71",
         "never mind",
         "never mind"
        ],
        [
         "252",
         "fucking peruvians",
         "x",
         "3",
         "[Team0][Player3]: fucking peruvians",
         "9",
         "\"fucking peruvians\"",
         "f***ing peruvians"
        ],
        [
         "575",
         "I am suck dick",
         null,
         "0",
         "[Team0][Player0]: I am suck dick",
         "44",
         "\"I am sucking dick\"",
         "I am sucking ****"
        ]
       ],
       "shape": {
        "columns": 7,
        "rows": 1000
       }
      },
      "text/html": [
       "<div>\n",
       "<style scoped>\n",
       "    .dataframe tbody tr th:only-of-type {\n",
       "        vertical-align: middle;\n",
       "    }\n",
       "\n",
       "    .dataframe tbody tr th {\n",
       "        vertical-align: top;\n",
       "    }\n",
       "\n",
       "    .dataframe thead th {\n",
       "        text-align: right;\n",
       "    }\n",
       "</style>\n",
       "<table border=\"1\" class=\"dataframe\">\n",
       "  <thead>\n",
       "    <tr style=\"text-align: right;\">\n",
       "      <th></th>\n",
       "      <th>message</th>\n",
       "      <th>label</th>\n",
       "      <th>player</th>\n",
       "      <th>special_token_message</th>\n",
       "      <th>match</th>\n",
       "      <th>translated_message</th>\n",
       "      <th>sanitized_translated_message</th>\n",
       "    </tr>\n",
       "  </thead>\n",
       "  <tbody>\n",
       "    <tr>\n",
       "      <th>986</th>\n",
       "      <td>mk</td>\n",
       "      <td>NaN</td>\n",
       "      <td>2</td>\n",
       "      <td>[Team0][Player2]: mk</td>\n",
       "      <td>33</td>\n",
       "      <td>mk</td>\n",
       "      <td>mk</td>\n",
       "    </tr>\n",
       "    <tr>\n",
       "      <th>2898</th>\n",
       "      <td>trip</td>\n",
       "      <td>NaN</td>\n",
       "      <td>4</td>\n",
       "      <td>[Team0][Player4]: trip</td>\n",
       "      <td>64</td>\n",
       "      <td>trip</td>\n",
       "      <td>trip</td>\n",
       "    </tr>\n",
       "    <tr>\n",
       "      <th>3315</th>\n",
       "      <td>)))</td>\n",
       "      <td>NaN</td>\n",
       "      <td>9</td>\n",
       "      <td>[Team1][Player4]: )))</td>\n",
       "      <td>82</td>\n",
       "      <td>)))</td>\n",
       "      <td>)))</td>\n",
       "    </tr>\n",
       "    <tr>\n",
       "      <th>1720</th>\n",
       "      <td>QUE PEGA ISSO</td>\n",
       "      <td>NaN</td>\n",
       "      <td>5</td>\n",
       "      <td>[Team1][Player0]: QUE PEGA ISSO</td>\n",
       "      <td>42</td>\n",
       "      <td>\"WHAT'S UP WITH THAT\"</td>\n",
       "      <td>WHAT'S UP WITH THAT</td>\n",
       "    </tr>\n",
       "    <tr>\n",
       "      <th>552</th>\n",
       "      <td>вот и думай мусорка на морте</td>\n",
       "      <td>NaN</td>\n",
       "      <td>2</td>\n",
       "      <td>[Team0][Player2]: вот и думай мусорка на морте</td>\n",
       "      <td>30</td>\n",
       "      <td>\"there you go, think about it, trash on Mortred\"</td>\n",
       "      <td>there you go, think about it, **** on Mortred</td>\n",
       "    </tr>\n",
       "    <tr>\n",
       "      <th>...</th>\n",
       "      <td>...</td>\n",
       "      <td>...</td>\n",
       "      <td>...</td>\n",
       "      <td>...</td>\n",
       "      <td>...</td>\n",
       "      <td>...</td>\n",
       "      <td>...</td>\n",
       "    </tr>\n",
       "    <tr>\n",
       "      <th>78</th>\n",
       "      <td>x3 gem</td>\n",
       "      <td>NaN</td>\n",
       "      <td>9</td>\n",
       "      <td>[Team1][Player4]: x3 gem</td>\n",
       "      <td>13</td>\n",
       "      <td>\"x3 gem\"</td>\n",
       "      <td>x3 gem</td>\n",
       "    </tr>\n",
       "    <tr>\n",
       "      <th>1680</th>\n",
       "      <td>gg</td>\n",
       "      <td>NaN</td>\n",
       "      <td>5</td>\n",
       "      <td>[Team1][Player0]: gg</td>\n",
       "      <td>84</td>\n",
       "      <td>gg</td>\n",
       "      <td>gg</td>\n",
       "    </tr>\n",
       "    <tr>\n",
       "      <th>2369</th>\n",
       "      <td>gg</td>\n",
       "      <td>NaN</td>\n",
       "      <td>2</td>\n",
       "      <td>[Team0][Player2]: gg</td>\n",
       "      <td>80</td>\n",
       "      <td>gg</td>\n",
       "      <td>gg</td>\n",
       "    </tr>\n",
       "    <tr>\n",
       "      <th>1442</th>\n",
       "      <td>i also kill</td>\n",
       "      <td>NaN</td>\n",
       "      <td>1</td>\n",
       "      <td>[Team0][Player1]: i also kill</td>\n",
       "      <td>43</td>\n",
       "      <td>\"i also kill\"</td>\n",
       "      <td>i also kill</td>\n",
       "    </tr>\n",
       "    <tr>\n",
       "      <th>2352</th>\n",
       "      <td>pa</td>\n",
       "      <td>NaN</td>\n",
       "      <td>3</td>\n",
       "      <td>[Team0][Player3]: pa</td>\n",
       "      <td>80</td>\n",
       "      <td>\"bro\"</td>\n",
       "      <td>bro</td>\n",
       "    </tr>\n",
       "  </tbody>\n",
       "</table>\n",
       "<p>1000 rows × 7 columns</p>\n",
       "</div>"
      ],
      "text/plain": [
       "                           message label  player  \\\n",
       "986                             mk   NaN       2   \n",
       "2898                          trip   NaN       4   \n",
       "3315                           )))   NaN       9   \n",
       "1720                 QUE PEGA ISSO   NaN       5   \n",
       "552   вот и думай мусорка на морте   NaN       2   \n",
       "...                            ...   ...     ...   \n",
       "78                          x3 gem   NaN       9   \n",
       "1680                            gg   NaN       5   \n",
       "2369                            gg   NaN       2   \n",
       "1442                   i also kill   NaN       1   \n",
       "2352                            pa   NaN       3   \n",
       "\n",
       "                               special_token_message  match  \\\n",
       "986                             [Team0][Player2]: mk     33   \n",
       "2898                          [Team0][Player4]: trip     64   \n",
       "3315                           [Team1][Player4]: )))     82   \n",
       "1720                 [Team1][Player0]: QUE PEGA ISSO     42   \n",
       "552   [Team0][Player2]: вот и думай мусорка на морте     30   \n",
       "...                                              ...    ...   \n",
       "78                          [Team1][Player4]: x3 gem     13   \n",
       "1680                            [Team1][Player0]: gg     84   \n",
       "2369                            [Team0][Player2]: gg     80   \n",
       "1442                   [Team0][Player1]: i also kill     43   \n",
       "2352                            [Team0][Player3]: pa     80   \n",
       "\n",
       "                                    translated_message  \\\n",
       "986                                                 mk   \n",
       "2898                                              trip   \n",
       "3315                                               )))   \n",
       "1720                             \"WHAT'S UP WITH THAT\"   \n",
       "552   \"there you go, think about it, trash on Mortred\"   \n",
       "...                                                ...   \n",
       "78                                            \"x3 gem\"   \n",
       "1680                                                gg   \n",
       "2369                                                gg   \n",
       "1442                                     \"i also kill\"   \n",
       "2352                                             \"bro\"   \n",
       "\n",
       "                       sanitized_translated_message  \n",
       "986                                              mk  \n",
       "2898                                           trip  \n",
       "3315                                            )))  \n",
       "1720                            WHAT'S UP WITH THAT  \n",
       "552   there you go, think about it, **** on Mortred  \n",
       "...                                             ...  \n",
       "78                                           x3 gem  \n",
       "1680                                             gg  \n",
       "2369                                             gg  \n",
       "1442                                    i also kill  \n",
       "2352                                            bro  \n",
       "\n",
       "[1000 rows x 7 columns]"
      ]
     },
     "execution_count": 15,
     "metadata": {},
     "output_type": "execute_result"
    }
   ],
   "source": [
    "orig_d"
   ]
  },
  {
   "cell_type": "code",
   "execution_count": 26,
   "id": "dd833741",
   "metadata": {},
   "outputs": [],
   "source": [
    "X = np.array(sentence_transformer.encode(orig_df['translated_message'].to_list()))\n",
    "Y = np.array(sentence_transformer.encode(gen_df['sentences'].to_list()))"
   ]
  },
  {
   "cell_type": "code",
   "execution_count": 29,
   "id": "b9bee8d4",
   "metadata": {},
   "outputs": [
    {
     "name": "stderr",
     "output_type": "stream",
     "text": [
      "huggingface/tokenizers: The current process just got forked, after parallelism has already been used. Disabling parallelism to avoid deadlocks...\n",
      "To disable this warning, you can either:\n",
      "\t- Avoid using `tokenizers` before the fork if possible\n",
      "\t- Explicitly set the environment variable TOKENIZERS_PARALLELISM=(true | false)\n"
     ]
    },
    {
     "data": {
      "text/plain": [
       "0.5516760837584738"
      ]
     },
     "execution_count": 29,
     "metadata": {},
     "output_type": "execute_result"
    }
   ],
   "source": [
    "wasserstein(X, Y)"
   ]
  },
  {
   "cell_type": "markdown",
   "id": "4b82e7cf",
   "metadata": {},
   "source": [
    "# **Classifier**"
   ]
  },
  {
   "cell_type": "code",
   "execution_count": 49,
   "id": "88d301c7",
   "metadata": {},
   "outputs": [
    {
     "data": {
      "application/vnd.microsoft.datawrangler.viewer.v0+json": {
       "columns": [
        {
         "name": "index",
         "rawType": "int64",
         "type": "integer"
        },
        {
         "name": "sentences",
         "rawType": "object",
         "type": "string"
        },
        {
         "name": "labels",
         "rawType": "int64",
         "type": "integer"
        },
        {
         "name": "type",
         "rawType": "object",
         "type": "string"
        }
       ],
       "ref": "963606c2-d74a-486e-adbd-c60916c63e36",
       "rows": [
        [
         "3094",
         "\"come on\"",
         "0",
         "original"
        ],
        [
         "1046",
         "RAMPAGE",
         "0",
         "original"
        ],
        [
         "214",
         "\"fucking lag\"",
         "0",
         "original"
        ],
        [
         "1971",
         "\"your mom, idiot?\"",
         "0",
         "original"
        ],
        [
         "1973",
         "\"nothing\"",
         "0",
         "original"
        ],
        [
         "2758",
         "\"good luck next\"",
         "0",
         "original"
        ],
        [
         "964",
         "\"fuck\"",
         "0",
         "original"
        ],
        [
         "1577",
         "\"You're such a fool.\"",
         "0",
         "original"
        ],
        [
         "463",
         "slark",
         "0",
         "original"
        ],
        [
         "1442",
         "\"i also kill\"",
         "0",
         "original"
        ],
        [
         "945",
         "\"Do you think I don't give a fuck?\"",
         "0",
         "original"
        ],
        [
         "2269",
         "\"yes\"",
         "0",
         "original"
        ],
        [
         "2454",
         "\"the previous one\"",
         "0",
         "original"
        ],
        [
         "1030",
         "\"18 level)\"",
         "0",
         "original"
        ],
        [
         "783",
         "ez team",
         "0",
         "original"
        ],
        [
         "2198",
         "lol",
         "0",
         "original"
        ],
        [
         "1416",
         "Gg Jugger",
         "0",
         "original"
        ],
        [
         "3392",
         "gg",
         "0",
         "original"
        ],
        [
         "2856",
         "be a bro",
         "0",
         "original"
        ],
        [
         "1545",
         "juke",
         "0",
         "original"
        ],
        [
         "3284",
         "\"ahahaha\"",
         "0",
         "original"
        ],
        [
         "2172",
         "hahaha",
         "0",
         "original"
        ],
        [
         "2526",
         "1 minute",
         "0",
         "original"
        ],
        [
         "449",
         "\"idiot\"",
         "0",
         "original"
        ],
        [
         "1674",
         "\"end this please\"",
         "0",
         "original"
        ],
        [
         "3436",
         "\"and my carries??\"",
         "0",
         "original"
        ],
        [
         "3365",
         "The message appears to be gibberish or a random string of characters and does not translate to any meaningful content in English.",
         "0",
         "original"
        ],
        [
         "876",
         "\"+\"",
         "0",
         "original"
        ],
        [
         "430",
         "\"??\"",
         "0",
         "original"
        ],
        [
         "1025",
         "\"I don't care\"",
         "0",
         "original"
        ],
        [
         "426",
         "\"why always easy\"",
         "0",
         "original"
        ],
        [
         "3448",
         "\"the slardar says\"",
         "0",
         "original"
        ],
        [
         "3289",
         "\"hahaha\"",
         "0",
         "original"
        ],
        [
         "1727",
         "gg slark",
         "0",
         "original"
        ],
        [
         "918",
         "\"easy snake faggot\"",
         "1",
         "original"
        ],
        [
         "3184",
         "\"you got no number\"",
         "0",
         "original"
        ],
        [
         "2537",
         "+",
         "0",
         "original"
        ],
        [
         "1854",
         "gg",
         "0",
         "original"
        ],
        [
         "1128",
         "\"pussy\"",
         "0",
         "original"
        ],
        [
         "520",
         "\"Bitch\"",
         "0",
         "original"
        ],
        [
         "2817",
         "\"STAY ON ME\"",
         "0",
         "original"
        ],
        [
         "3225",
         "\"get techies, get your -25 MMR\"",
         "0",
         "original"
        ],
        [
         "757",
         "\"I BELIEVE\"",
         "0",
         "original"
        ],
        [
         "3164",
         "\"gg that's what happens when you trust a cursed carry\"",
         "0",
         "original"
        ],
        [
         "988",
         "\"you can leave right away\"",
         "0",
         "original"
        ],
        [
         "1441",
         "?",
         "0",
         "original"
        ],
        [
         "681",
         "\"you piece of idiot\"",
         "1",
         "original"
        ],
        [
         "478",
         "crybaby",
         "0",
         "original"
        ],
        [
         "2089",
         "kill me",
         "0",
         "original"
        ],
        [
         "2654",
         "nope",
         "0",
         "original"
        ]
       ],
       "shape": {
        "columns": 3,
        "rows": 1000
       }
      },
      "text/html": [
       "<div>\n",
       "<style scoped>\n",
       "    .dataframe tbody tr th:only-of-type {\n",
       "        vertical-align: middle;\n",
       "    }\n",
       "\n",
       "    .dataframe tbody tr th {\n",
       "        vertical-align: top;\n",
       "    }\n",
       "\n",
       "    .dataframe thead th {\n",
       "        text-align: right;\n",
       "    }\n",
       "</style>\n",
       "<table border=\"1\" class=\"dataframe\">\n",
       "  <thead>\n",
       "    <tr style=\"text-align: right;\">\n",
       "      <th></th>\n",
       "      <th>sentences</th>\n",
       "      <th>labels</th>\n",
       "      <th>type</th>\n",
       "    </tr>\n",
       "  </thead>\n",
       "  <tbody>\n",
       "    <tr>\n",
       "      <th>3094</th>\n",
       "      <td>\"come on\"</td>\n",
       "      <td>0</td>\n",
       "      <td>original</td>\n",
       "    </tr>\n",
       "    <tr>\n",
       "      <th>1046</th>\n",
       "      <td>RAMPAGE</td>\n",
       "      <td>0</td>\n",
       "      <td>original</td>\n",
       "    </tr>\n",
       "    <tr>\n",
       "      <th>214</th>\n",
       "      <td>\"fucking lag\"</td>\n",
       "      <td>0</td>\n",
       "      <td>original</td>\n",
       "    </tr>\n",
       "    <tr>\n",
       "      <th>1971</th>\n",
       "      <td>\"your mom, idiot?\"</td>\n",
       "      <td>0</td>\n",
       "      <td>original</td>\n",
       "    </tr>\n",
       "    <tr>\n",
       "      <th>1973</th>\n",
       "      <td>\"nothing\"</td>\n",
       "      <td>0</td>\n",
       "      <td>original</td>\n",
       "    </tr>\n",
       "    <tr>\n",
       "      <th>...</th>\n",
       "      <td>...</td>\n",
       "      <td>...</td>\n",
       "      <td>...</td>\n",
       "    </tr>\n",
       "    <tr>\n",
       "      <th>179</th>\n",
       "      <td>snipshit</td>\n",
       "      <td>0</td>\n",
       "      <td>original</td>\n",
       "    </tr>\n",
       "    <tr>\n",
       "      <th>603</th>\n",
       "      <td>Gg</td>\n",
       "      <td>0</td>\n",
       "      <td>original</td>\n",
       "    </tr>\n",
       "    <tr>\n",
       "      <th>294</th>\n",
       "      <td>game</td>\n",
       "      <td>0</td>\n",
       "      <td>original</td>\n",
       "    </tr>\n",
       "    <tr>\n",
       "      <th>2813</th>\n",
       "      <td>\"well at least\"</td>\n",
       "      <td>0</td>\n",
       "      <td>original</td>\n",
       "    </tr>\n",
       "    <tr>\n",
       "      <th>2398</th>\n",
       "      <td>sCCC</td>\n",
       "      <td>0</td>\n",
       "      <td>original</td>\n",
       "    </tr>\n",
       "  </tbody>\n",
       "</table>\n",
       "<p>1000 rows × 3 columns</p>\n",
       "</div>"
      ],
      "text/plain": [
       "               sentences  labels      type\n",
       "3094           \"come on\"       0  original\n",
       "1046             RAMPAGE       0  original\n",
       "214        \"fucking lag\"       0  original\n",
       "1971  \"your mom, idiot?\"       0  original\n",
       "1973           \"nothing\"       0  original\n",
       "...                  ...     ...       ...\n",
       "179             snipshit       0  original\n",
       "603                   Gg       0  original\n",
       "294                 game       0  original\n",
       "2813     \"well at least\"       0  original\n",
       "2398                sCCC       0  original\n",
       "\n",
       "[1000 rows x 3 columns]"
      ]
     },
     "execution_count": 49,
     "metadata": {},
     "output_type": "execute_result"
    }
   ],
   "source": [
    "orig_df"
   ]
  },
  {
   "cell_type": "code",
   "execution_count": 50,
   "id": "a9580fc8",
   "metadata": {},
   "outputs": [
    {
     "data": {
      "application/vnd.microsoft.datawrangler.viewer.v0+json": {
       "columns": [
        {
         "name": "index",
         "rawType": "int64",
         "type": "integer"
        },
        {
         "name": "sentences",
         "rawType": "object",
         "type": "string"
        },
        {
         "name": "labels",
         "rawType": "int64",
         "type": "integer"
        },
        {
         "name": "type",
         "rawType": "object",
         "type": "string"
        }
       ],
       "ref": "2a5565c9-4ee6-4002-ae32-2d0dd67ec6e8",
       "rows": [
        [
         "0",
         "gg ez noobs learn to play",
         "0",
         "synthetic"
        ],
        [
         "1",
         "nice play team, keep it up!",
         "1",
         "synthetic"
        ],
        [
         "2",
         "fucking idiot stop feeding",
         "0",
         "synthetic"
        ],
        [
         "3",
         "good fight, let's keep pushing",
         "1",
         "synthetic"
        ],
        [
         "4",
         "report this faggot feeder",
         "0",
         "synthetic"
        ],
        [
         "5",
         "lol ur so trash, get gud",
         "0",
         "synthetic"
        ],
        [
         "6",
         "well played everyone, that was fun",
         "1",
         "synthetic"
        ],
        [
         "7",
         "u bitch stop ks my kills",
         "0",
         "synthetic"
        ],
        [
         "8",
         "thanks for the support guys!",
         "1",
         "synthetic"
        ],
        [
         "9",
         "can we focus the tower pls",
         "1",
         "synthetic"
        ],
        [
         "10",
         "gg guys well played :)",
         "1",
         "synthetic"
        ],
        [
         "11",
         "wtf is wrong with you idiots",
         "0",
         "synthetic"
        ],
        [
         "12",
         "haha ez game!",
         "0",
         "synthetic"
        ],
        [
         "13",
         "thank you for support, team",
         "1",
         "synthetic"
        ],
        [
         "14",
         "you fucking suck man",
         "0",
         "synthetic"
        ],
        [
         "15",
         "nicely done bro",
         "1",
         "synthetic"
        ],
        [
         "16",
         "report this faggot pls",
         "0",
         "synthetic"
        ],
        [
         "17",
         "lets go next round, we got this",
         "1",
         "synthetic"
        ],
        [
         "18",
         "u play like trash omg",
         "0",
         "synthetic"
        ],
        [
         "19",
         "lol good luck next game",
         "1",
         "synthetic"
        ],
        [
         "20",
         "I can't believe you did that, gg",
         "1",
         "synthetic"
        ],
        [
         "21",
         "Stop feeding, you fucking retard!",
         "0",
         "synthetic"
        ],
        [
         "22",
         "Lol that was a good game, nice plays",
         "1",
         "synthetic"
        ],
        [
         "23",
         "You're trash and everyone knows it",
         "0",
         "synthetic"
        ],
        [
         "24",
         "Ez game, don't cry now",
         "0",
         "synthetic"
        ],
        [
         "25",
         "Well played team, let's do it again",
         "1",
         "synthetic"
        ],
        [
         "26",
         "Why are you AFK, idiot?",
         "0",
         "synthetic"
        ],
        [
         "27",
         "Thanks for the game, was fun",
         "1",
         "synthetic"
        ],
        [
         "28",
         "Fucking noobs, learn to play",
         "0",
         "synthetic"
        ],
        [
         "29",
         "Hehe, nice moves dude, gg",
         "1",
         "synthetic"
        ],
        [
         "30",
         "I'm done with u idiots",
         "0",
         "synthetic"
        ],
        [
         "31",
         "gg ty for the game",
         "1",
         "synthetic"
        ],
        [
         "32",
         "can you stop feeding pls",
         "0",
         "synthetic"
        ],
        [
         "33",
         "haha ez life",
         "1",
         "synthetic"
        ],
        [
         "34",
         "fucking noob team",
         "0",
         "synthetic"
        ],
        [
         "35",
         "thank you for the support",
         "1",
         "synthetic"
        ],
        [
         "36",
         "go back to base lol",
         "1",
         "synthetic"
        ],
        [
         "37",
         "u guys are such trash",
         "0",
         "synthetic"
        ],
        [
         "38",
         "nice plays guys",
         "1",
         "synthetic"
        ],
        [
         "39",
         "why are you all so bad?",
         "0",
         "synthetic"
        ],
        [
         "40",
         "you guys need to report that noob",
         "0",
         "synthetic"
        ],
        [
         "41",
         "lol gg we almost had it",
         "1",
         "synthetic"
        ],
        [
         "42",
         "can u stop feeding idiot",
         "0",
         "synthetic"
        ],
        [
         "43",
         "easy game gg good job team",
         "1",
         "synthetic"
        ],
        [
         "44",
         "why is this team so fucking bad",
         "0",
         "synthetic"
        ],
        [
         "45",
         "haha nice play that was awesome",
         "1",
         "synthetic"
        ],
        [
         "46",
         "fucking hell this game is trash",
         "0",
         "synthetic"
        ],
        [
         "47",
         "u guys did great, well played",
         "1",
         "synthetic"
        ],
        [
         "48",
         "retard just uninstall pls",
         "0",
         "synthetic"
        ],
        [
         "49",
         "gg wp, see you next game",
         "1",
         "synthetic"
        ]
       ],
       "shape": {
        "columns": 3,
        "rows": 1000
       }
      },
      "text/html": [
       "<div>\n",
       "<style scoped>\n",
       "    .dataframe tbody tr th:only-of-type {\n",
       "        vertical-align: middle;\n",
       "    }\n",
       "\n",
       "    .dataframe tbody tr th {\n",
       "        vertical-align: top;\n",
       "    }\n",
       "\n",
       "    .dataframe thead th {\n",
       "        text-align: right;\n",
       "    }\n",
       "</style>\n",
       "<table border=\"1\" class=\"dataframe\">\n",
       "  <thead>\n",
       "    <tr style=\"text-align: right;\">\n",
       "      <th></th>\n",
       "      <th>sentences</th>\n",
       "      <th>labels</th>\n",
       "      <th>type</th>\n",
       "    </tr>\n",
       "  </thead>\n",
       "  <tbody>\n",
       "    <tr>\n",
       "      <th>0</th>\n",
       "      <td>gg ez noobs learn to play</td>\n",
       "      <td>0</td>\n",
       "      <td>synthetic</td>\n",
       "    </tr>\n",
       "    <tr>\n",
       "      <th>1</th>\n",
       "      <td>nice play team, keep it up!</td>\n",
       "      <td>1</td>\n",
       "      <td>synthetic</td>\n",
       "    </tr>\n",
       "    <tr>\n",
       "      <th>2</th>\n",
       "      <td>fucking idiot stop feeding</td>\n",
       "      <td>0</td>\n",
       "      <td>synthetic</td>\n",
       "    </tr>\n",
       "    <tr>\n",
       "      <th>3</th>\n",
       "      <td>good fight, let's keep pushing</td>\n",
       "      <td>1</td>\n",
       "      <td>synthetic</td>\n",
       "    </tr>\n",
       "    <tr>\n",
       "      <th>4</th>\n",
       "      <td>report this faggot feeder</td>\n",
       "      <td>0</td>\n",
       "      <td>synthetic</td>\n",
       "    </tr>\n",
       "    <tr>\n",
       "      <th>...</th>\n",
       "      <td>...</td>\n",
       "      <td>...</td>\n",
       "      <td>...</td>\n",
       "    </tr>\n",
       "    <tr>\n",
       "      <th>995</th>\n",
       "      <td>stop feeding you retard</td>\n",
       "      <td>0</td>\n",
       "      <td>synthetic</td>\n",
       "    </tr>\n",
       "    <tr>\n",
       "      <th>996</th>\n",
       "      <td>gg wp guys, let's queue again</td>\n",
       "      <td>1</td>\n",
       "      <td>synthetic</td>\n",
       "    </tr>\n",
       "    <tr>\n",
       "      <th>997</th>\n",
       "      <td>bunch of noob bitches</td>\n",
       "      <td>0</td>\n",
       "      <td>synthetic</td>\n",
       "    </tr>\n",
       "    <tr>\n",
       "      <th>998</th>\n",
       "      <td>easy game, good teamwork</td>\n",
       "      <td>1</td>\n",
       "      <td>synthetic</td>\n",
       "    </tr>\n",
       "    <tr>\n",
       "      <th>999</th>\n",
       "      <td>you're trash, no skill!</td>\n",
       "      <td>0</td>\n",
       "      <td>synthetic</td>\n",
       "    </tr>\n",
       "  </tbody>\n",
       "</table>\n",
       "<p>1000 rows × 3 columns</p>\n",
       "</div>"
      ],
      "text/plain": [
       "                          sentences  labels       type\n",
       "0         gg ez noobs learn to play       0  synthetic\n",
       "1       nice play team, keep it up!       1  synthetic\n",
       "2        fucking idiot stop feeding       0  synthetic\n",
       "3    good fight, let's keep pushing       1  synthetic\n",
       "4         report this faggot feeder       0  synthetic\n",
       "..                              ...     ...        ...\n",
       "995         stop feeding you retard       0  synthetic\n",
       "996   gg wp guys, let's queue again       1  synthetic\n",
       "997           bunch of noob bitches       0  synthetic\n",
       "998        easy game, good teamwork       1  synthetic\n",
       "999         you're trash, no skill!       0  synthetic\n",
       "\n",
       "[1000 rows x 3 columns]"
      ]
     },
     "execution_count": 50,
     "metadata": {},
     "output_type": "execute_result"
    }
   ],
   "source": [
    "gen_df"
   ]
  }
 ],
 "metadata": {
  "kernelspec": {
   "display_name": "Python 3",
   "language": "python",
   "name": "python3"
  },
  "language_info": {
   "codemirror_mode": {
    "name": "ipython",
    "version": 3
   },
   "file_extension": ".py",
   "mimetype": "text/x-python",
   "name": "python",
   "nbconvert_exporter": "python",
   "pygments_lexer": "ipython3",
   "version": "3.9.6"
  }
 },
 "nbformat": 4,
 "nbformat_minor": 5
}
