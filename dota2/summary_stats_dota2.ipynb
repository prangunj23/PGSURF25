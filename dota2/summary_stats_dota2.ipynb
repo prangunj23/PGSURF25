{
 "cells": [
  {
   "cell_type": "code",
   "execution_count": 3,
   "id": "822cc750",
   "metadata": {},
   "outputs": [],
   "source": [
    "import sys\n",
    "sys.path.append('../utilities/')"
   ]
  },
  {
   "cell_type": "code",
   "execution_count": 4,
   "id": "1805289d",
   "metadata": {},
   "outputs": [],
   "source": [
    "import pandas as pd\n",
    "import numpy as np\n",
    "from sklearn import svm\n",
    "from sklearn.model_selection import train_test_split, GridSearchCV\n",
    "from sklearn.metrics import accuracy_score, precision_score, recall_score, roc_auc_score\n",
    "import torch\n",
    "from sentence_transformers import SentenceTransformer\n",
    "from joblib import dump\n",
    "from openai import OpenAI\n",
    "from tqdm import tqdm\n",
    "from mmd import MMD\n",
    "import re\n",
    "from sklearn.feature_extraction.text import CountVectorizer"
   ]
  },
  {
   "cell_type": "code",
   "execution_count": null,
   "id": "0ab97984",
   "metadata": {},
   "outputs": [],
   "source": [
    "import os\n",
    "from dotenv import load_dotenv"
   ]
  },
  {
   "cell_type": "markdown",
   "id": "6b8bf497",
   "metadata": {},
   "source": [
    "# **Tools Setup**"
   ]
  },
  {
   "cell_type": "code",
   "execution_count": null,
   "id": "24d8731d",
   "metadata": {},
   "outputs": [],
   "source": [
    "load_dotenv()\n",
    "API_KEY = os.getenv(\"OPENAI_API_KEY\")\n",
    "client = OpenAI(api_key=API_KEY)"
   ]
  },
  {
   "cell_type": "code",
   "execution_count": 4,
   "id": "65994b55",
   "metadata": {},
   "outputs": [],
   "source": [
    "sentence_transformer = SentenceTransformer('all-mpnet-base-v2')"
   ]
  },
  {
   "cell_type": "markdown",
   "id": "2e9489a5",
   "metadata": {},
   "source": [
    "# **DataFrame Reading**"
   ]
  },
  {
   "cell_type": "code",
   "execution_count": 5,
   "id": "caa9793d",
   "metadata": {},
   "outputs": [],
   "source": [
    "df = pd.read_csv('../data/initial_datasets/dota2_train_labels_translated_sanitized.csv')"
   ]
  },
  {
   "cell_type": "code",
   "execution_count": 6,
   "id": "12ec792b",
   "metadata": {},
   "outputs": [],
   "source": [
    "sample_df = df.sample(n=1000)"
   ]
  },
  {
   "cell_type": "code",
   "execution_count": 19,
   "id": "3d1f11ae",
   "metadata": {},
   "outputs": [
    {
     "data": {
      "application/vnd.microsoft.datawrangler.viewer.v0+json": {
       "columns": [
        {
         "name": "index",
         "rawType": "int64",
         "type": "integer"
        },
        {
         "name": "message",
         "rawType": "object",
         "type": "string"
        },
        {
         "name": "label",
         "rawType": "object",
         "type": "unknown"
        },
        {
         "name": "player",
         "rawType": "int64",
         "type": "integer"
        },
        {
         "name": "special_token_message",
         "rawType": "object",
         "type": "string"
        },
        {
         "name": "match",
         "rawType": "int64",
         "type": "integer"
        },
        {
         "name": "translated_message",
         "rawType": "object",
         "type": "string"
        },
        {
         "name": "sanitized_translated_message",
         "rawType": "object",
         "type": "string"
        }
       ],
       "ref": "6c2feedb-7b17-4776-bf8f-0768f5add4ed",
       "rows": [
        [
         "185",
         "EZ",
         null,
         "3",
         "[Team0][Player3]: EZ",
         "21",
         "Easy",
         "Easy"
        ],
        [
         "846",
         "tal vez la voltee jaja",
         null,
         "4",
         "[Team0][Player4]: tal vez la voltee jaja",
         "70",
         "\"maybe I messed it up haha\"",
         "maybe I messed it up haha"
        ],
        [
         "1690",
         "gg",
         null,
         "5",
         "[Team1][Player0]: gg",
         "84",
         "gg",
         "gg"
        ],
        [
         "1215",
         "SO HARD TO BE HERE",
         null,
         "9",
         "[Team1][Player4]: SO HARD TO BE HERE",
         "12",
         "SO HARD TO BE HERE",
         "SO HARD TO BE HERE"
        ],
        [
         "3036",
         "sorry guys",
         null,
         "2",
         "[Team0][Player2]: sorry guys",
         "67",
         "sorry guys",
         "sorry guys"
        ],
        [
         "2642",
         "run lil bitch",
         "x",
         "9",
         "[Team1][Player4]: run lil bitch",
         "35",
         "run lil bitch",
         "run lil b****"
        ],
        [
         "2483",
         "го купол на фонтан",
         null,
         "3",
         "[Team0][Player3]: го купол на фонтан",
         "27",
         "\"Let's use the Chronosphere on the fountain\"",
         "Let's use the Chronosphere on the fountain"
        ],
        [
         "3219",
         "ez",
         null,
         "6",
         "[Team1][Player1]: ez",
         "71",
         "easy",
         "easy"
        ],
        [
         "689",
         "вовремя",
         null,
         "9",
         "[Team1][Player4]: вовремя",
         "75",
         "\"on time\"",
         "on time"
        ],
        [
         "1029",
         "ACHE ON FIDIT ?",
         null,
         "7",
         "[Team1][Player2]: ACHE ON FIDIT ?",
         "94",
         "\"ACHE HE'S FEEDING?\"",
         "ACHE HE'S FEEDING?"
        ],
        [
         "514",
         "он соляру прожал",
         null,
         "9",
         "[Team1][Player4]: он соляру прожал",
         "30",
         "\"he used solar\"",
         "he used solar"
        ],
        [
         "2804",
         "una anal por asco",
         null,
         "4",
         "[Team0][Player4]: una anal por asco",
         "66",
         "\"an anal for disgust\"",
         "\"an **** for disgust\""
        ],
        [
         "1498",
         "DONT LIE",
         null,
         "5",
         "[Team1][Player0]: DONT LIE",
         "43",
         "DONT LIE",
         "DONT LIE"
        ],
        [
         "1886",
         "lol",
         null,
         "2",
         "[Team0][Player2]: lol",
         "57",
         "lol",
         "lol"
        ],
        [
         "2916",
         "gege",
         null,
         "5",
         "[Team1][Player0]: gege",
         "64",
         "gg",
         "gg"
        ],
        [
         "2847",
         "shadow no ase nada de ñao",
         null,
         "4",
         "[Team0][Player4]: shadow no ase nada de ñao",
         "66",
         "\"shadow does nothing at all\"",
         "shadow does nothing at all"
        ],
        [
         "2366",
         "gg",
         null,
         "3",
         "[Team0][Player3]: gg",
         "80",
         "gg",
         "gg"
        ],
        [
         "3054",
         "я приду",
         null,
         "4",
         "[Team0][Player4]: я приду",
         "78",
         "\"I will come\"",
         "I will come"
        ],
        [
         "317",
         "bastard",
         "x",
         "7",
         "[Team1][Player2]: bastard",
         "25",
         "bastard",
         "b******"
        ],
        [
         "1917",
         "wtf",
         null,
         "0",
         "[Team0][Player0]: wtf",
         "5",
         "What the fuck",
         "What the ****"
        ],
        [
         "3131",
         "как мом выродок?",
         null,
         "2",
         "[Team0][Player2]: как мом выродок?",
         "95",
         "\"how's the mom, degenerate?\"",
         "\"how's the mom, **********?\""
        ],
        [
         "2731",
         "yup",
         null,
         "3",
         "[Team0][Player3]: yup",
         "35",
         "yup",
         "yup"
        ],
        [
         "2436",
         "почему у вас попадается бустер",
         null,
         "8",
         "[Team1][Player3]: почему у вас попадается бустер",
         "15",
         "\"why do you get a booster\"",
         "why do you get a booster"
        ],
        [
         "18",
         "not in jungle?",
         null,
         "1",
         "[Team0][Player1]: not in jungle?",
         "39",
         "\"not in jungle?\"",
         "not in jungle?"
        ],
        [
         "947",
         "u menya sapporti farmili vsy igru",
         null,
         "0",
         "[Team0][Player0]: u menya sapporti farmili vsy igru",
         "33",
         "\"My supports farmed the whole game\"",
         "My supports farmed the whole game"
        ],
        [
         "2255",
         "GG retard",
         "x",
         "6",
         "[Team1][Player1]: GG retard",
         "81",
         "GG retard",
         "GG ******"
        ],
        [
         "715",
         "R",
         null,
         "7",
         "[Team1][Player2]: R",
         "89",
         "R",
         "R"
        ],
        [
         "3269",
         "3 сек",
         null,
         "5",
         "[Team1][Player0]: 3 сек",
         "14",
         "\"3 sec\"",
         "3 sec"
        ],
        [
         "369",
         "a vot",
         null,
         "6",
         "[Team1][Player1]: a vot",
         "52",
         "\"and here\"",
         "and here"
        ],
        [
         "289",
         "player",
         null,
         "7",
         "[Team1][Player2]: player",
         "25",
         "\"player\"",
         "player"
        ],
        [
         "2506",
         "YA JDAL VOID",
         null,
         "7",
         "[Team1][Player2]: YA JDAL VOID",
         "27",
         "\"I WAS WAITING FOR VOID\"",
         "I WAS WAITING FOR VOID"
        ],
        [
         "3393",
         "wp tinker",
         null,
         "0",
         "[Team0][Player0]: wp tinker",
         "51",
         "\"well played tinker\"",
         "well played tinker"
        ],
        [
         "34",
         "end =)",
         null,
         "9",
         "[Team1][Player4]: end =)",
         "39",
         "end =)",
         "end =)"
        ],
        [
         "936",
         "faster pls",
         null,
         "0",
         "[Team0][Player0]: faster pls",
         "33",
         "faster please",
         "faster please"
        ],
        [
         "546",
         "не?",
         null,
         "9",
         "[Team1][Player4]: не?",
         "30",
         "\"no?\"",
         "no?"
        ],
        [
         "1009",
         "кристалис и 2 бф",
         null,
         "4",
         "[Team0][Player4]: кристалис и 2 бф",
         "94",
         "\"crystalis and 2 bf\"",
         "crystalis and 2 bf"
        ],
        [
         "73",
         "gg",
         null,
         "6",
         "[Team1][Player1]: gg",
         "13",
         "gg",
         "gg"
        ],
        [
         "2581",
         "NU YA TOHCNO",
         null,
         "9",
         "[Team1][Player4]: NU YA TOHCNO",
         "79",
         "\"Well, I definitely\"",
         "Well, I definitely"
        ],
        [
         "2865",
         "",
         null,
         "5",
         "[Team1][Player0]: ",
         "66",
         "🎵",
         "🎵"
        ],
        [
         "1395",
         "ye jugger farm so slowly",
         null,
         "0",
         "[Team0][Player0]: ye jugger farm so slowly",
         "37",
         "\"yeah, Juggernaut farms so slowly\"",
         "yeah, Juggernaut farms so slowly"
        ],
        [
         "2308",
         "see",
         null,
         "4",
         "[Team0][Player4]: see",
         "16",
         "see",
         "see"
        ],
        [
         "1057",
         "тебя фиданули и вообще пытаются помочь",
         null,
         "5",
         "[Team1][Player0]: тебя фиданули и вообще пытаются помочь",
         "94",
         "\"They fed you and are generally trying to help.\"",
         "They fed you and are generally trying to help."
        ],
        [
         "2126",
         "Dota 5",
         null,
         "8",
         "[Team1][Player3]: Dota 5",
         "10",
         "Dota 5",
         "Dota 5"
        ],
        [
         "821",
         "ok ustedes se lo buscaron",
         null,
         "4",
         "[Team0][Player4]: ok ustedes se lo buscaron",
         "70",
         "\"ok you brought this on yourselves\"",
         "ok you brought this on yourselves"
        ],
        [
         "17",
         "oh kratos",
         null,
         "1",
         "[Team0][Player1]: oh kratos",
         "39",
         "oh kratos",
         "oh kratos"
        ],
        [
         "311",
         "FRST DOTA BS",
         null,
         "9",
         "[Team1][Player4]: FRST DOTA BS",
         "25",
         "\"First Dota BS\"",
         "First Dota BS"
        ],
        [
         "2718",
         "go push pls",
         null,
         "6",
         "[Team1][Player1]: go push pls",
         "35",
         "\"go push please\"",
         "go push please"
        ],
        [
         "2390",
         "xd",
         null,
         "4",
         "[Team0][Player4]: xd",
         "29",
         "xd",
         "xd"
        ],
        [
         "231",
         "lol",
         null,
         "2",
         "[Team0][Player2]: lol",
         "9",
         "lol",
         "lol"
        ],
        [
         "3317",
         "gg",
         null,
         "6",
         "[Team1][Player1]: gg",
         "82",
         "gg",
         "gg"
        ]
       ],
       "shape": {
        "columns": 7,
        "rows": 1000
       }
      },
      "text/html": [
       "<div>\n",
       "<style scoped>\n",
       "    .dataframe tbody tr th:only-of-type {\n",
       "        vertical-align: middle;\n",
       "    }\n",
       "\n",
       "    .dataframe tbody tr th {\n",
       "        vertical-align: top;\n",
       "    }\n",
       "\n",
       "    .dataframe thead th {\n",
       "        text-align: right;\n",
       "    }\n",
       "</style>\n",
       "<table border=\"1\" class=\"dataframe\">\n",
       "  <thead>\n",
       "    <tr style=\"text-align: right;\">\n",
       "      <th></th>\n",
       "      <th>message</th>\n",
       "      <th>label</th>\n",
       "      <th>player</th>\n",
       "      <th>special_token_message</th>\n",
       "      <th>match</th>\n",
       "      <th>translated_message</th>\n",
       "      <th>sanitized_translated_message</th>\n",
       "    </tr>\n",
       "  </thead>\n",
       "  <tbody>\n",
       "    <tr>\n",
       "      <th>185</th>\n",
       "      <td>EZ</td>\n",
       "      <td>NaN</td>\n",
       "      <td>3</td>\n",
       "      <td>[Team0][Player3]: EZ</td>\n",
       "      <td>21</td>\n",
       "      <td>Easy</td>\n",
       "      <td>Easy</td>\n",
       "    </tr>\n",
       "    <tr>\n",
       "      <th>846</th>\n",
       "      <td>tal vez la voltee jaja</td>\n",
       "      <td>NaN</td>\n",
       "      <td>4</td>\n",
       "      <td>[Team0][Player4]: tal vez la voltee jaja</td>\n",
       "      <td>70</td>\n",
       "      <td>\"maybe I messed it up haha\"</td>\n",
       "      <td>maybe I messed it up haha</td>\n",
       "    </tr>\n",
       "    <tr>\n",
       "      <th>1690</th>\n",
       "      <td>gg</td>\n",
       "      <td>NaN</td>\n",
       "      <td>5</td>\n",
       "      <td>[Team1][Player0]: gg</td>\n",
       "      <td>84</td>\n",
       "      <td>gg</td>\n",
       "      <td>gg</td>\n",
       "    </tr>\n",
       "    <tr>\n",
       "      <th>1215</th>\n",
       "      <td>SO HARD TO BE HERE</td>\n",
       "      <td>NaN</td>\n",
       "      <td>9</td>\n",
       "      <td>[Team1][Player4]: SO HARD TO BE HERE</td>\n",
       "      <td>12</td>\n",
       "      <td>SO HARD TO BE HERE</td>\n",
       "      <td>SO HARD TO BE HERE</td>\n",
       "    </tr>\n",
       "    <tr>\n",
       "      <th>3036</th>\n",
       "      <td>sorry guys</td>\n",
       "      <td>NaN</td>\n",
       "      <td>2</td>\n",
       "      <td>[Team0][Player2]: sorry guys</td>\n",
       "      <td>67</td>\n",
       "      <td>sorry guys</td>\n",
       "      <td>sorry guys</td>\n",
       "    </tr>\n",
       "    <tr>\n",
       "      <th>...</th>\n",
       "      <td>...</td>\n",
       "      <td>...</td>\n",
       "      <td>...</td>\n",
       "      <td>...</td>\n",
       "      <td>...</td>\n",
       "      <td>...</td>\n",
       "      <td>...</td>\n",
       "    </tr>\n",
       "    <tr>\n",
       "      <th>624</th>\n",
       "      <td>haha</td>\n",
       "      <td>NaN</td>\n",
       "      <td>5</td>\n",
       "      <td>[Team1][Player0]: haha</td>\n",
       "      <td>18</td>\n",
       "      <td>haha</td>\n",
       "      <td>haha</td>\n",
       "    </tr>\n",
       "    <tr>\n",
       "      <th>3081</th>\n",
       "      <td>АХах</td>\n",
       "      <td>NaN</td>\n",
       "      <td>7</td>\n",
       "      <td>[Team1][Player2]: АХах</td>\n",
       "      <td>62</td>\n",
       "      <td>\"Ahah\"</td>\n",
       "      <td>Ahah</td>\n",
       "    </tr>\n",
       "    <tr>\n",
       "      <th>479</th>\n",
       "      <td>ang tanga mo</td>\n",
       "      <td>x</td>\n",
       "      <td>5</td>\n",
       "      <td>[Team1][Player0]: ang tanga mo</td>\n",
       "      <td>63</td>\n",
       "      <td>\"you're so stupid\"</td>\n",
       "      <td>you're so s*****</td>\n",
       "    </tr>\n",
       "    <tr>\n",
       "      <th>2410</th>\n",
       "      <td>АААААААААА</td>\n",
       "      <td>NaN</td>\n",
       "      <td>5</td>\n",
       "      <td>[Team1][Player0]: АААААААААА</td>\n",
       "      <td>93</td>\n",
       "      <td>\"AAAAAAAAA\"</td>\n",
       "      <td>AAAAAAAAA</td>\n",
       "    </tr>\n",
       "    <tr>\n",
       "      <th>1515</th>\n",
       "      <td>OFFLANE GOD</td>\n",
       "      <td>NaN</td>\n",
       "      <td>5</td>\n",
       "      <td>[Team1][Player0]: OFFLANE GOD</td>\n",
       "      <td>43</td>\n",
       "      <td>OFFLANE GOD</td>\n",
       "      <td>OFFLANE GOD</td>\n",
       "    </tr>\n",
       "  </tbody>\n",
       "</table>\n",
       "<p>1000 rows × 7 columns</p>\n",
       "</div>"
      ],
      "text/plain": [
       "                     message label  player  \\\n",
       "185                       EZ   NaN       3   \n",
       "846   tal vez la voltee jaja   NaN       4   \n",
       "1690                      gg   NaN       5   \n",
       "1215      SO HARD TO BE HERE   NaN       9   \n",
       "3036              sorry guys   NaN       2   \n",
       "...                      ...   ...     ...   \n",
       "624                     haha   NaN       5   \n",
       "3081                    АХах   NaN       7   \n",
       "479             ang tanga mo     x       5   \n",
       "2410              АААААААААА   NaN       5   \n",
       "1515             OFFLANE GOD   NaN       5   \n",
       "\n",
       "                         special_token_message  match  \\\n",
       "185                       [Team0][Player3]: EZ     21   \n",
       "846   [Team0][Player4]: tal vez la voltee jaja     70   \n",
       "1690                      [Team1][Player0]: gg     84   \n",
       "1215      [Team1][Player4]: SO HARD TO BE HERE     12   \n",
       "3036              [Team0][Player2]: sorry guys     67   \n",
       "...                                        ...    ...   \n",
       "624                     [Team1][Player0]: haha     18   \n",
       "3081                    [Team1][Player2]: АХах     62   \n",
       "479             [Team1][Player0]: ang tanga mo     63   \n",
       "2410              [Team1][Player0]: АААААААААА     93   \n",
       "1515             [Team1][Player0]: OFFLANE GOD     43   \n",
       "\n",
       "               translated_message sanitized_translated_message  \n",
       "185                          Easy                         Easy  \n",
       "846   \"maybe I messed it up haha\"    maybe I messed it up haha  \n",
       "1690                           gg                           gg  \n",
       "1215           SO HARD TO BE HERE           SO HARD TO BE HERE  \n",
       "3036                   sorry guys                   sorry guys  \n",
       "...                           ...                          ...  \n",
       "624                          haha                         haha  \n",
       "3081                       \"Ahah\"                         Ahah  \n",
       "479            \"you're so stupid\"             you're so s*****  \n",
       "2410                  \"AAAAAAAAA\"                    AAAAAAAAA  \n",
       "1515                  OFFLANE GOD                  OFFLANE GOD  \n",
       "\n",
       "[1000 rows x 7 columns]"
      ]
     },
     "execution_count": 19,
     "metadata": {},
     "output_type": "execute_result"
    }
   ],
   "source": [
    "sample_df"
   ]
  },
  {
   "cell_type": "code",
   "execution_count": 24,
   "id": "a7f73cf8",
   "metadata": {},
   "outputs": [],
   "source": [
    "sample_df['label'] = sample_df['label'].fillna(0)\n",
    "sample_df['label'] = sample_df['label'].replace({'x': 1})\n",
    "sample_df['label'] = sample_df['label'].astype(int)"
   ]
  },
  {
   "cell_type": "markdown",
   "id": "1c3efaeb",
   "metadata": {},
   "source": [
    "# **Aggregate Stats**"
   ]
  },
  {
   "cell_type": "code",
   "execution_count": 42,
   "id": "0219809c",
   "metadata": {},
   "outputs": [],
   "source": [
    "sample_df['phrase_len'] = sample_df['translated_message'].str.len()\n",
    "avg_len = sample_df['phrase_len'].mean()\n",
    "std_len = sample_df['phrase_len'].std()"
   ]
  },
  {
   "cell_type": "markdown",
   "id": "285fb7b2",
   "metadata": {},
   "source": [
    "## **Word Frequencies**"
   ]
  },
  {
   "cell_type": "code",
   "execution_count": 43,
   "id": "49cb681a",
   "metadata": {},
   "outputs": [],
   "source": [
    "vectorizer = CountVectorizer()\n",
    "X = vectorizer.fit_transform(sample_df['translated_message'])\n",
    "counts = pd.DataFrame(X.toarray(), columns=vectorizer.get_feature_names_out())\n",
    "total_counts = counts.sum().sort_values(ascending=False)"
   ]
  },
  {
   "cell_type": "code",
   "execution_count": 44,
   "id": "c823ab98",
   "metadata": {},
   "outputs": [],
   "source": [
    "total_counts = total_counts.reset_index()\n",
    "total_counts.columns = ['text', 'count']\n",
    "total_counts['freq'] = total_counts['count'] / total_counts['count'].sum()"
   ]
  },
  {
   "cell_type": "markdown",
   "id": "606fd91b",
   "metadata": {},
   "source": [
    "## **Non-toxic data Frequency**"
   ]
  },
  {
   "cell_type": "code",
   "execution_count": 45,
   "id": "ca379c64",
   "metadata": {},
   "outputs": [],
   "source": [
    "non_toxic_df = sample_df[sample_df['label'] == 0]\n",
    "X = vectorizer.fit_transform(non_toxic_df['translated_message'])\n",
    "counts = pd.DataFrame(X.toarray(), columns=vectorizer.get_feature_names_out())\n",
    "positive_counts = counts.sum().sort_values(ascending=False)"
   ]
  },
  {
   "cell_type": "markdown",
   "id": "8bc8f8dd",
   "metadata": {},
   "source": [
    "## **Toxic data Frequency**"
   ]
  },
  {
   "cell_type": "code",
   "execution_count": 51,
   "id": "40027154",
   "metadata": {},
   "outputs": [],
   "source": [
    "toxic_df = sample_df[sample_df['label'] == 1]\n",
    "X = vectorizer.fit_transform(toxic_df['translated_message'])\n",
    "counts = pd.DataFrame(X.toarray(), columns=vectorizer.get_feature_names_out())\n",
    "negative_counts = counts.sum().sort_values(ascending=False)"
   ]
  },
  {
   "cell_type": "code",
   "execution_count": 52,
   "id": "80cc7f9c",
   "metadata": {},
   "outputs": [
    {
     "data": {
      "application/vnd.microsoft.datawrangler.viewer.v0+json": {
       "columns": [
        {
         "name": "index",
         "rawType": "object",
         "type": "string"
        },
        {
         "name": "0",
         "rawType": "int64",
         "type": "integer"
        }
       ],
       "ref": "8d1da64d-371d-4857-b7bb-ae20b9b3acdc",
       "rows": [
        [
         "you",
         "12"
        ],
        [
         "fucking",
         "6"
        ],
        [
         "bitch",
         "6"
        ],
        [
         "fuck",
         "4"
        ],
        [
         "go",
         "4"
        ],
        [
         "easy",
         "3"
        ],
        [
         "yourself",
         "3"
        ],
        [
         "retard",
         "3"
        ],
        [
         "faggot",
         "3"
        ],
        [
         "hell",
         "2"
        ],
        [
         "is",
         "2"
        ],
        [
         "idiots",
         "2"
        ],
        [
         "little",
         "2"
        ],
        [
         "idiot",
         "2"
        ],
        [
         "of",
         "2"
        ],
        [
         "bullshit",
         "2"
        ],
        [
         "your",
         "2"
        ],
        [
         "and",
         "2"
        ],
        [
         "am",
         "2"
        ],
        [
         "so",
         "2"
        ],
        [
         "sad",
         "1"
        ],
        [
         "say",
         "1"
        ],
        [
         "report",
         "1"
        ],
        [
         "russian",
         "1"
        ],
        [
         "run",
         "1"
        ],
        [
         "silent",
         "1"
        ],
        [
         "re",
         "1"
        ],
        [
         "proper",
         "1"
        ],
        [
         "pissed",
         "1"
        ],
        [
         "peruvian",
         "1"
        ],
        [
         "out",
         "1"
        ],
        [
         "oh",
         "1"
        ],
        [
         "off",
         "1"
        ],
        [
         "see",
         "1"
        ],
        [
         "10",
         "1"
        ],
        [
         "sk",
         "1"
        ],
        [
         "tinker",
         "1"
        ],
        [
         "with",
         "1"
        ],
        [
         "why",
         "1"
        ],
        [
         "whores",
         "1"
        ],
        [
         "where",
         "1"
        ],
        [
         "we",
         "1"
        ],
        [
         "void",
         "1"
        ],
        [
         "trash",
         "1"
        ],
        [
         "to",
         "1"
        ],
        [
         "this",
         "1"
        ],
        [
         "snake",
         "1"
        ],
        [
         "they",
         "1"
        ],
        [
         "then",
         "1"
        ],
        [
         "the",
         "1"
        ]
       ],
       "shape": {
        "columns": 1,
        "rows": 99
       }
      },
      "text/plain": [
       "you         12\n",
       "fucking      6\n",
       "bitch        6\n",
       "fuck         4\n",
       "go           4\n",
       "            ..\n",
       "gg           1\n",
       "game         1\n",
       "fucktard     1\n",
       "fuckface     1\n",
       "zero         1\n",
       "Length: 99, dtype: int64"
      ]
     },
     "execution_count": 52,
     "metadata": {},
     "output_type": "execute_result"
    }
   ],
   "source": [
    "negative_counts"
   ]
  },
  {
   "cell_type": "markdown",
   "id": "c9b4f1b0",
   "metadata": {},
   "source": [
    "## **Compare Across Both**"
   ]
  },
  {
   "cell_type": "code",
   "execution_count": 53,
   "id": "6f67194f",
   "metadata": {},
   "outputs": [],
   "source": [
    "positive_counts = positive_counts.reset_index()\n",
    "positive_counts.columns = ['word', 'freq']\n",
    "negative_counts = negative_counts.reset_index()\n",
    "negative_counts.columns = ['word', 'freq']"
   ]
  },
  {
   "cell_type": "code",
   "execution_count": 54,
   "id": "42b8f25a",
   "metadata": {},
   "outputs": [],
   "source": [
    "positive_counts['freq'] = positive_counts['freq'] / positive_counts['freq'].sum()\n",
    "negative_counts['freq'] = negative_counts['freq'] / negative_counts['freq'].sum()"
   ]
  },
  {
   "cell_type": "code",
   "execution_count": null,
   "id": "8f75f943",
   "metadata": {},
   "outputs": [],
   "source": [
    "positive_counts['rank'] = positive_counts.index+1\n",
    "negative_counts['rank'] = negative_counts.index+1"
   ]
  },
  {
   "cell_type": "code",
   "execution_count": 77,
   "id": "64f852ca",
   "metadata": {},
   "outputs": [],
   "source": [
    "merged_df = pd.merge(positive_counts, negative_counts, how='outer', on='rank')\n",
    "merged_df = merged_df.drop(columns=['rank'])\n",
    "merged_df = merged_df.rename(columns={'word_x': 'non_toxic_word', 'freq_x': 'non_toxic_freq', 'word_y': 'toxic_word', 'freq_y': 'toxic_freq'})"
   ]
  },
  {
   "cell_type": "code",
   "execution_count": 78,
   "id": "b09931b6",
   "metadata": {},
   "outputs": [],
   "source": [
    "merged_df = merged_df.iloc[:99]"
   ]
  },
  {
   "cell_type": "code",
   "execution_count": 79,
   "id": "a59605f0",
   "metadata": {},
   "outputs": [
    {
     "data": {
      "application/vnd.microsoft.datawrangler.viewer.v0+json": {
       "columns": [
        {
         "name": "index",
         "rawType": "int64",
         "type": "integer"
        },
        {
         "name": "non_toxic_word",
         "rawType": "object",
         "type": "string"
        },
        {
         "name": "non_toxic_freq",
         "rawType": "float64",
         "type": "float"
        },
        {
         "name": "toxic_word",
         "rawType": "object",
         "type": "string"
        },
        {
         "name": "toxic_freq",
         "rawType": "float64",
         "type": "float"
        }
       ],
       "ref": "9c0daba9-0b7c-474c-8ec0-d5b951effb15",
       "rows": [
        [
         "0",
         "you",
         "0.04103214890016921",
         "you",
         "0.08275862068965517"
        ],
        [
         "1",
         "the",
         "0.024534686971235193",
         "fucking",
         "0.041379310344827586"
        ],
        [
         "2",
         "gg",
         "0.021573604060913704",
         "bitch",
         "0.041379310344827586"
        ],
        [
         "3",
         "to",
         "0.01734348561759729",
         "fuck",
         "0.027586206896551724"
        ],
        [
         "4",
         "easy",
         "0.014382402707275803",
         "go",
         "0.027586206896551724"
        ],
        [
         "5",
         "lol",
         "0.013959390862944163",
         "easy",
         "0.020689655172413793"
        ],
        [
         "6",
         "is",
         "0.011844331641285956",
         "yourself",
         "0.020689655172413793"
        ],
        [
         "7",
         "haha",
         "0.011421319796954314",
         "retard",
         "0.020689655172413793"
        ],
        [
         "8",
         "it",
         "0.010998307952622674",
         "faggot",
         "0.020689655172413793"
        ],
        [
         "9",
         "and",
         "0.010998307952622674",
         "hell",
         "0.013793103448275862"
        ],
        [
         "10",
         "what",
         "0.010575296108291032",
         "is",
         "0.013793103448275862"
        ],
        [
         "11",
         "fuck",
         "0.00972927241962775",
         "idiots",
         "0.013793103448275862"
        ],
        [
         "12",
         "report",
         "0.009306260575296108",
         "little",
         "0.013793103448275862"
        ],
        [
         "13",
         "in",
         "0.009306260575296108",
         "idiot",
         "0.013793103448275862"
        ],
        [
         "14",
         "game",
         "0.009306260575296108",
         "of",
         "0.013793103448275862"
        ],
        [
         "15",
         "are",
         "0.009306260575296108",
         "bullshit",
         "0.013793103448275862"
        ],
        [
         "16",
         "no",
         "0.008460236886632826",
         "your",
         "0.013793103448275862"
        ],
        [
         "17",
         "good",
         "0.008460236886632826",
         "and",
         "0.013793103448275862"
        ],
        [
         "18",
         "that",
         "0.008037225042301184",
         "am",
         "0.013793103448275862"
        ],
        [
         "19",
         "why",
         "0.007614213197969543",
         "so",
         "0.013793103448275862"
        ],
        [
         "20",
         "not",
         "0.0071912013536379014",
         "sad",
         "0.006896551724137931"
        ],
        [
         "21",
         "can",
         "0.00676818950930626",
         "say",
         "0.006896551724137931"
        ],
        [
         "22",
         "me",
         "0.00676818950930626",
         "report",
         "0.006896551724137931"
        ],
        [
         "23",
         "on",
         "0.00676818950930626",
         "russian",
         "0.006896551724137931"
        ],
        [
         "24",
         "my",
         "0.00676818950930626",
         "run",
         "0.006896551724137931"
        ],
        [
         "25",
         "so",
         "0.006345177664974619",
         "silent",
         "0.006896551724137931"
        ],
        [
         "26",
         "this",
         "0.006345177664974619",
         "re",
         "0.006896551724137931"
        ],
        [
         "27",
         "how",
         "0.006345177664974619",
         "proper",
         "0.006896551724137931"
        ],
        [
         "28",
         "mid",
         "0.006345177664974619",
         "pissed",
         "0.006896551724137931"
        ],
        [
         "29",
         "for",
         "0.005922165820642978",
         "peruvian",
         "0.006896551724137931"
        ],
        [
         "30",
         "your",
         "0.005922165820642978",
         "out",
         "0.006896551724137931"
        ],
        [
         "31",
         "hahaha",
         "0.005922165820642978",
         "oh",
         "0.006896551724137931"
        ],
        [
         "32",
         "please",
         "0.005922165820642978",
         "off",
         "0.006896551724137931"
        ],
        [
         "33",
         "with",
         "0.005922165820642978",
         "see",
         "0.006896551724137931"
        ],
        [
         "34",
         "he",
         "0.005922165820642978",
         "10",
         "0.006896551724137931"
        ],
        [
         "35",
         "fucking",
         "0.005499153976311337",
         "sk",
         "0.006896551724137931"
        ],
        [
         "36",
         "xd",
         "0.005499153976311337",
         "tinker",
         "0.006896551724137931"
        ],
        [
         "37",
         "of",
         "0.005076142131979695",
         "with",
         "0.006896551724137931"
        ],
        [
         "38",
         "like",
         "0.005076142131979695",
         "why",
         "0.006896551724137931"
        ],
        [
         "39",
         "nice",
         "0.005076142131979695",
         "whores",
         "0.006896551724137931"
        ],
        [
         "40",
         "do",
         "0.004653130287648054",
         "where",
         "0.006896551724137931"
        ],
        [
         "41",
         "up",
         "0.004230118443316413",
         "we",
         "0.006896551724137931"
        ],
        [
         "42",
         "or",
         "0.004230118443316413",
         "void",
         "0.006896551724137931"
        ],
        [
         "43",
         "already",
         "0.004230118443316413",
         "trash",
         "0.006896551724137931"
        ],
        [
         "44",
         "have",
         "0.004230118443316413",
         "to",
         "0.006896551724137931"
        ],
        [
         "45",
         "end",
         "0.004230118443316413",
         "this",
         "0.006896551724137931"
        ],
        [
         "46",
         "go",
         "0.004230118443316413",
         "snake",
         "0.006896551724137931"
        ],
        [
         "47",
         "don",
         "0.0038071065989847717",
         "they",
         "0.006896551724137931"
        ],
        [
         "48",
         "yeah",
         "0.0038071065989847717",
         "then",
         "0.006896551724137931"
        ],
        [
         "49",
         "did",
         "0.0038071065989847717",
         "the",
         "0.006896551724137931"
        ]
       ],
       "shape": {
        "columns": 4,
        "rows": 99
       }
      },
      "text/html": [
       "<div>\n",
       "<style scoped>\n",
       "    .dataframe tbody tr th:only-of-type {\n",
       "        vertical-align: middle;\n",
       "    }\n",
       "\n",
       "    .dataframe tbody tr th {\n",
       "        vertical-align: top;\n",
       "    }\n",
       "\n",
       "    .dataframe thead th {\n",
       "        text-align: right;\n",
       "    }\n",
       "</style>\n",
       "<table border=\"1\" class=\"dataframe\">\n",
       "  <thead>\n",
       "    <tr style=\"text-align: right;\">\n",
       "      <th></th>\n",
       "      <th>non_toxic_word</th>\n",
       "      <th>non_toxic_freq</th>\n",
       "      <th>toxic_word</th>\n",
       "      <th>toxic_freq</th>\n",
       "    </tr>\n",
       "  </thead>\n",
       "  <tbody>\n",
       "    <tr>\n",
       "      <th>0</th>\n",
       "      <td>you</td>\n",
       "      <td>0.041032</td>\n",
       "      <td>you</td>\n",
       "      <td>0.082759</td>\n",
       "    </tr>\n",
       "    <tr>\n",
       "      <th>1</th>\n",
       "      <td>the</td>\n",
       "      <td>0.024535</td>\n",
       "      <td>fucking</td>\n",
       "      <td>0.041379</td>\n",
       "    </tr>\n",
       "    <tr>\n",
       "      <th>2</th>\n",
       "      <td>gg</td>\n",
       "      <td>0.021574</td>\n",
       "      <td>bitch</td>\n",
       "      <td>0.041379</td>\n",
       "    </tr>\n",
       "    <tr>\n",
       "      <th>3</th>\n",
       "      <td>to</td>\n",
       "      <td>0.017343</td>\n",
       "      <td>fuck</td>\n",
       "      <td>0.027586</td>\n",
       "    </tr>\n",
       "    <tr>\n",
       "      <th>4</th>\n",
       "      <td>easy</td>\n",
       "      <td>0.014382</td>\n",
       "      <td>go</td>\n",
       "      <td>0.027586</td>\n",
       "    </tr>\n",
       "    <tr>\n",
       "      <th>...</th>\n",
       "      <td>...</td>\n",
       "      <td>...</td>\n",
       "      <td>...</td>\n",
       "      <td>...</td>\n",
       "    </tr>\n",
       "    <tr>\n",
       "      <th>94</th>\n",
       "      <td>lost</td>\n",
       "      <td>0.002115</td>\n",
       "      <td>gg</td>\n",
       "      <td>0.006897</td>\n",
       "    </tr>\n",
       "    <tr>\n",
       "      <th>95</th>\n",
       "      <td>wait</td>\n",
       "      <td>0.002115</td>\n",
       "      <td>game</td>\n",
       "      <td>0.006897</td>\n",
       "    </tr>\n",
       "    <tr>\n",
       "      <th>96</th>\n",
       "      <td>didn</td>\n",
       "      <td>0.001692</td>\n",
       "      <td>fucktard</td>\n",
       "      <td>0.006897</td>\n",
       "    </tr>\n",
       "    <tr>\n",
       "      <th>97</th>\n",
       "      <td>sniper</td>\n",
       "      <td>0.001692</td>\n",
       "      <td>fuckface</td>\n",
       "      <td>0.006897</td>\n",
       "    </tr>\n",
       "    <tr>\n",
       "      <th>98</th>\n",
       "      <td>minute</td>\n",
       "      <td>0.001692</td>\n",
       "      <td>zero</td>\n",
       "      <td>0.006897</td>\n",
       "    </tr>\n",
       "  </tbody>\n",
       "</table>\n",
       "<p>99 rows × 4 columns</p>\n",
       "</div>"
      ],
      "text/plain": [
       "   non_toxic_word  non_toxic_freq toxic_word  toxic_freq\n",
       "0             you        0.041032        you    0.082759\n",
       "1             the        0.024535    fucking    0.041379\n",
       "2              gg        0.021574      bitch    0.041379\n",
       "3              to        0.017343       fuck    0.027586\n",
       "4            easy        0.014382         go    0.027586\n",
       "..            ...             ...        ...         ...\n",
       "94           lost        0.002115         gg    0.006897\n",
       "95           wait        0.002115       game    0.006897\n",
       "96           didn        0.001692   fucktard    0.006897\n",
       "97         sniper        0.001692   fuckface    0.006897\n",
       "98         minute        0.001692       zero    0.006897\n",
       "\n",
       "[99 rows x 4 columns]"
      ]
     },
     "execution_count": 79,
     "metadata": {},
     "output_type": "execute_result"
    }
   ],
   "source": [
    "merged_df"
   ]
  },
  {
   "cell_type": "markdown",
   "id": "bd9b679e",
   "metadata": {},
   "source": [
    "# **Chat Generation**"
   ]
  },
  {
   "cell_type": "markdown",
   "id": "ce132148",
   "metadata": {},
   "source": [
    "## **Instruction Based Prompting**"
   ]
  },
  {
   "cell_type": "code",
   "execution_count": 80,
   "id": "71342d49",
   "metadata": {},
   "outputs": [],
   "source": [
    "common_words = \"\\n\".join([\n",
    "    f\"{row['non_toxic_word']}: {row['non_toxic_freq']};  {row['toxic_word']}: {row['toxic_freq']}\"\n",
    "    for _, row in merged_df.iterrows()\n",
    "])"
   ]
  },
  {
   "cell_type": "code",
   "execution_count": 81,
   "id": "c2d146a7",
   "metadata": {},
   "outputs": [],
   "source": [
    "instruction = (\n",
    "    \"You are a data generator tasked with creating realistic DOTA 2 chat messages. \"\n",
    "    \"These chat messages should be labeled according to their sentiment: toxic or non-toxic.\\n\"\n",
    "    \"Base the style on typical video game chat messages — include informal internet language, typos, and abbreviations\\n\"\n",
    "    \"You will be given statistics about the distribution, including average chat length, standard deviation, and most common words associated with each label and their frequency.\\n\"\n",
    "    \"Generate exactly 10 realistic DOTA 2 chat messages, one per line.\\n\"\n",
    "    \"Each line should follow this format: the chat message in double quotes, followed by a space and then the label (0 for toxic, 1 for non-toxic).\\n\"\n",
    "    \"No extra formatting — just plain text output, one line per comment.\\n\"\n",
    "    \"Here is the format:\\n\"\n",
    "    \"\\\"gg dawg\\\" 0\\n\"\n",
    "    \"\\\"I hate u bitch\\\" 1\"\n",
    ")\n",
    "input = (\n",
    "    f\"Here is the average length of all the comments: {avg_len}. \"\n",
    "    f\"Here is the standard deviation of the length for all the comments: {std_len}.\\n\"\n",
    "    f\"Here are the most frequent words (format: word: frequency (sentiment)):\\n\\n{common_words}\\n\"\n",
    "    f\"Now, generate the 10 new comments below:\"\n",
    ")"
   ]
  },
  {
   "cell_type": "code",
   "execution_count": 87,
   "id": "8006cfd0",
   "metadata": {},
   "outputs": [],
   "source": [
    "res = []\n",
    "for i in range(50):\n",
    "    response = client.responses.create(\n",
    "        model=\"gpt-4o\",\n",
    "        instructions=instruction,\n",
    "        input=input\n",
    "    )\n",
    "    res.append(response.output_text)"
   ]
  },
  {
   "cell_type": "code",
   "execution_count": 88,
   "id": "e6210899",
   "metadata": {},
   "outputs": [],
   "source": [
    "labels = []\n",
    "sentences = []\n",
    "for i in range(50):\n",
    "    for word in res[i].split(\"\\n\"):\n",
    "        match = re.match(r'\"(.*?)\"\\s*(-?\\d+)', word)\n",
    "        if match:\n",
    "            quoted = match.group(1)      \n",
    "            label = match.group(2)       \n",
    "            sentences.append(quoted)\n",
    "            labels.append(int(label))"
   ]
  },
  {
   "cell_type": "code",
   "execution_count": 89,
   "id": "cb0c09b2",
   "metadata": {},
   "outputs": [],
   "source": [
    "generated_df = pd.DataFrame({\n",
    "    'sentences': sentences,\n",
    "    'labels': labels\n",
    "})"
   ]
  },
  {
   "cell_type": "code",
   "execution_count": 86,
   "id": "37777d35",
   "metadata": {},
   "outputs": [],
   "source": [
    "old_df = generated_df"
   ]
  },
  {
   "cell_type": "code",
   "execution_count": 91,
   "id": "c803f0b1",
   "metadata": {},
   "outputs": [],
   "source": [
    "generated_df = pd.concat([old_df, generated_df], axis=0)"
   ]
  },
  {
   "cell_type": "code",
   "execution_count": 92,
   "id": "1c75b1d3",
   "metadata": {},
   "outputs": [],
   "source": [
    "generated_df.to_csv('../data/generated/dota2/privacy_protected/summary_stats_dota2_gen.csv', index=False)"
   ]
  }
 ],
 "metadata": {
  "kernelspec": {
   "display_name": "Python 3",
   "language": "python",
   "name": "python3"
  },
  "language_info": {
   "codemirror_mode": {
    "name": "ipython",
    "version": 3
   },
   "file_extension": ".py",
   "mimetype": "text/x-python",
   "name": "python",
   "nbconvert_exporter": "python",
   "pygments_lexer": "ipython3",
   "version": "3.9.6"
  }
 },
 "nbformat": 4,
 "nbformat_minor": 5
}
