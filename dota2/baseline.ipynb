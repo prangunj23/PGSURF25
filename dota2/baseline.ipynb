{
 "cells": [
  {
   "cell_type": "code",
   "execution_count": 1,
   "id": "2ce9dc96",
   "metadata": {},
   "outputs": [
    {
     "name": "stderr",
     "output_type": "stream",
     "text": [
      "/Users/pranitgunjal/Library/Python/3.9/lib/python/site-packages/urllib3/__init__.py:35: NotOpenSSLWarning: urllib3 v2 only supports OpenSSL 1.1.1+, currently the 'ssl' module is compiled with 'LibreSSL 2.8.3'. See: https://github.com/urllib3/urllib3/issues/3020\n",
      "  warnings.warn(\n"
     ]
    }
   ],
   "source": [
    "import sys\n",
    "sys.path.append('../utilities/')\n",
    "import pandas as pd\n",
    "import numpy as np\n",
    "from sklearn import svm\n",
    "from sklearn.model_selection import train_test_split, GridSearchCV\n",
    "from sklearn.metrics import accuracy_score, precision_score, recall_score, roc_auc_score\n",
    "import torch\n",
    "from sentence_transformers import SentenceTransformer\n",
    "from joblib import dump\n",
    "from openai import OpenAI\n",
    "from tqdm import tqdm\n",
    "from mmd import MMD\n",
    "import re\n",
    "from sklearn.feature_extraction.text import CountVectorizer"
   ]
  },
  {
   "cell_type": "markdown",
   "id": "3ddac6f8",
   "metadata": {},
   "source": [
    "# **Transformer**"
   ]
  },
  {
   "cell_type": "code",
   "execution_count": 2,
   "id": "3811595f",
   "metadata": {},
   "outputs": [],
   "source": [
    "sentence_transformer = SentenceTransformer('all-mpnet-base-v2')"
   ]
  },
  {
   "cell_type": "markdown",
   "id": "590c00e9",
   "metadata": {},
   "source": [
    "# **Data Pre-processing**"
   ]
  },
  {
   "cell_type": "code",
   "execution_count": 3,
   "id": "d2af953e",
   "metadata": {},
   "outputs": [],
   "source": [
    "train_df = pd.read_csv('../data/initial_datasets/dota2/dota2_train.csv')\n",
    "test_df = pd.read_csv('../data/initial_datasets/dota2/dota2_test.csv')"
   ]
  },
  {
   "cell_type": "code",
   "execution_count": 4,
   "id": "4864e438",
   "metadata": {},
   "outputs": [
    {
     "data": {
      "application/vnd.microsoft.datawrangler.viewer.v0+json": {
       "columns": [
        {
         "name": "index",
         "rawType": "int64",
         "type": "integer"
        },
        {
         "name": "translated_message",
         "rawType": "object",
         "type": "string"
        },
        {
         "name": "label",
         "rawType": "int64",
         "type": "integer"
        }
       ],
       "ref": "096726ba-4605-4105-961a-1e653425fefb",
       "rows": [
        [
         "0",
         "\"faggot\"",
         "0"
        ],
        [
         "1",
         "\"there's a monkey\"",
         "0"
        ],
        [
         "2",
         "\"Sniper, how do you like our mid player?\"",
         "0"
        ],
        [
         "3",
         "\"You're all corpses, guys\"",
         "0"
        ],
        [
         "4",
         "\"Not bad\"",
         "0"
        ],
        [
         "5",
         "lol",
         "0"
        ],
        [
         "6",
         "\"he saved himself once, if only there was another save tp\"",
         "0"
        ],
        [
         "7",
         "\"then it would be fine\"",
         "0"
        ],
        [
         "8",
         "\"he plays together with Tiny\"",
         "0"
        ],
        [
         "9",
         "\"two dumbasses\"",
         "1"
        ],
        [
         "10",
         "Hello Kratos",
         "0"
        ],
        [
         "11",
         "I hope you enjoy the game.",
         "0"
        ],
        [
         "12",
         "zzz",
         "0"
        ],
        [
         "13",
         "oh kratos",
         "0"
        ],
        [
         "14",
         "HAHAHAHA",
         "0"
        ],
        [
         "15",
         "pure shit",
         "0"
        ],
        [
         "16",
         "LOL",
         "0"
        ],
        [
         "17",
         "no team",
         "0"
        ],
        [
         "18",
         "\"how does it feel Kratos fag\"",
         "1"
        ],
        [
         "19",
         "\"yeah jugg threw in our game too\"",
         "0"
        ],
        [
         "20",
         "\"we had him last game\"",
         "0"
        ],
        [
         "21",
         "\"but now he's sucking mine\"",
         "1"
        ],
        [
         "22",
         "\"I have no team, end this.\"",
         "0"
        ],
        [
         "23",
         "end",
         "0"
        ],
        [
         "24",
         "\"how does it feel, faggot\"",
         "1"
        ],
        [
         "25",
         "MISSILES!",
         "0"
        ],
        [
         "26",
         "end =)",
         "0"
        ],
        [
         "27",
         "lol",
         "0"
        ],
        [
         "28",
         "\"gg tyu\"",
         "0"
        ],
        [
         "29",
         "commend",
         "0"
        ],
        [
         "30",
         "\"fucking faggot krratos\"",
         "1"
        ],
        [
         "31",
         "\"don't pause for nothing\"",
         "0"
        ],
        [
         "32",
         "\"discussing\"",
         "0"
        ],
        [
         "33",
         "kill",
         "0"
        ],
        [
         "34",
         "sorry",
         "0"
        ],
        [
         "35",
         "\"}wtf\"",
         "0"
        ],
        [
         "36",
         "What the fuck",
         "0"
        ],
        [
         "37",
         ":O",
         "0"
        ],
        [
         "38",
         "Lol",
         "0"
        ],
        [
         "39",
         "\"your pause\"",
         "0"
        ],
        [
         "40",
         "think",
         "0"
        ],
        [
         "41",
         "\"gonna push more?\"",
         "0"
        ],
        [
         "42",
         "end",
         "0"
        ],
        [
         "43",
         "\"can you people push\"",
         "0"
        ],
        [
         "44",
         "\"you don't defend\"",
         "0"
        ],
        [
         "45",
         "\"i have to go to another game\"",
         "0"
        ],
        [
         "46",
         "COMMend us",
         "0"
        ],
        [
         "47",
         "lol storm",
         "0"
        ],
        [
         "48",
         "Haha",
         "0"
        ],
        [
         "49",
         "wow",
         "0"
        ]
       ],
       "shape": {
        "columns": 2,
        "rows": 2459
       }
      },
      "text/html": [
       "<div>\n",
       "<style scoped>\n",
       "    .dataframe tbody tr th:only-of-type {\n",
       "        vertical-align: middle;\n",
       "    }\n",
       "\n",
       "    .dataframe tbody tr th {\n",
       "        vertical-align: top;\n",
       "    }\n",
       "\n",
       "    .dataframe thead th {\n",
       "        text-align: right;\n",
       "    }\n",
       "</style>\n",
       "<table border=\"1\" class=\"dataframe\">\n",
       "  <thead>\n",
       "    <tr style=\"text-align: right;\">\n",
       "      <th></th>\n",
       "      <th>translated_message</th>\n",
       "      <th>label</th>\n",
       "    </tr>\n",
       "  </thead>\n",
       "  <tbody>\n",
       "    <tr>\n",
       "      <th>0</th>\n",
       "      <td>\"faggot\"</td>\n",
       "      <td>0</td>\n",
       "    </tr>\n",
       "    <tr>\n",
       "      <th>1</th>\n",
       "      <td>\"there's a monkey\"</td>\n",
       "      <td>0</td>\n",
       "    </tr>\n",
       "    <tr>\n",
       "      <th>2</th>\n",
       "      <td>\"Sniper, how do you like our mid player?\"</td>\n",
       "      <td>0</td>\n",
       "    </tr>\n",
       "    <tr>\n",
       "      <th>3</th>\n",
       "      <td>\"You're all corpses, guys\"</td>\n",
       "      <td>0</td>\n",
       "    </tr>\n",
       "    <tr>\n",
       "      <th>4</th>\n",
       "      <td>\"Not bad\"</td>\n",
       "      <td>0</td>\n",
       "    </tr>\n",
       "    <tr>\n",
       "      <th>...</th>\n",
       "      <td>...</td>\n",
       "      <td>...</td>\n",
       "    </tr>\n",
       "    <tr>\n",
       "      <th>2454</th>\n",
       "      <td>\"my Luna hits the one with leggings, now I see...</td>\n",
       "      <td>0</td>\n",
       "    </tr>\n",
       "    <tr>\n",
       "      <th>2455</th>\n",
       "      <td>GG</td>\n",
       "      <td>0</td>\n",
       "    </tr>\n",
       "    <tr>\n",
       "      <th>2456</th>\n",
       "      <td>\"my shadow doesn't know how to use ult\"</td>\n",
       "      <td>0</td>\n",
       "    </tr>\n",
       "    <tr>\n",
       "      <th>2457</th>\n",
       "      <td>GG</td>\n",
       "      <td>0</td>\n",
       "    </tr>\n",
       "    <tr>\n",
       "      <th>2458</th>\n",
       "      <td>GG REPORT SLARDAR</td>\n",
       "      <td>0</td>\n",
       "    </tr>\n",
       "  </tbody>\n",
       "</table>\n",
       "<p>2459 rows × 2 columns</p>\n",
       "</div>"
      ],
      "text/plain": [
       "                                     translated_message  label\n",
       "0                                              \"faggot\"      0\n",
       "1                                    \"there's a monkey\"      0\n",
       "2             \"Sniper, how do you like our mid player?\"      0\n",
       "3                            \"You're all corpses, guys\"      0\n",
       "4                                             \"Not bad\"      0\n",
       "...                                                 ...    ...\n",
       "2454  \"my Luna hits the one with leggings, now I see...      0\n",
       "2455                                                 GG      0\n",
       "2456            \"my shadow doesn't know how to use ult\"      0\n",
       "2457                                                 GG      0\n",
       "2458                                  GG REPORT SLARDAR      0\n",
       "\n",
       "[2459 rows x 2 columns]"
      ]
     },
     "execution_count": 4,
     "metadata": {},
     "output_type": "execute_result"
    }
   ],
   "source": [
    "train_df"
   ]
  },
  {
   "cell_type": "code",
   "execution_count": 5,
   "id": "39e1f8af",
   "metadata": {},
   "outputs": [
    {
     "data": {
      "application/vnd.microsoft.datawrangler.viewer.v0+json": {
       "columns": [
        {
         "name": "index",
         "rawType": "int64",
         "type": "integer"
        },
        {
         "name": "translated_message",
         "rawType": "object",
         "type": "string"
        },
        {
         "name": "label",
         "rawType": "int64",
         "type": "integer"
        }
       ],
       "ref": "cb620543-07b5-45f6-908c-a7f49b080d49",
       "rows": [
        [
         "0",
         "?",
         "0"
        ],
        [
         "1",
         "\"is this solo?\"",
         "0"
        ],
        [
         "2",
         "lol",
         "0"
        ],
        [
         "3",
         "\"please report that kunka please\"",
         "0"
        ],
        [
         "4",
         "\"dauhdasduhas\"",
         "0"
        ],
        [
         "5",
         "\"What the fuck, mid come back\"",
         "0"
        ],
        [
         "6",
         "\"bullshit\"",
         "0"
        ],
        [
         "7",
         "\"what script\"",
         "0"
        ],
        [
         "8",
         "\"Don't bullshit\"",
         "0"
        ],
        [
         "9",
         "Thank you",
         "0"
        ],
        [
         "10",
         "\"Animal\"",
         "0"
        ],
        [
         "11",
         "\"Why so\"",
         "0"
        ],
        [
         "12",
         "\"Idiot\"",
         "0"
        ],
        [
         "13",
         "\"))\"",
         "0"
        ],
        [
         "14",
         "\"Who replaced?\"",
         "0"
        ],
        [
         "15",
         "\"yeah, you too\"",
         "0"
        ],
        [
         "16",
         "\"please kill me\"",
         "0"
        ],
        [
         "17",
         "\"you are shit)\"",
         "0"
        ],
        [
         "18",
         "\"rat\"",
         "0"
        ],
        [
         "19",
         "another dog",
         "0"
        ],
        [
         "20",
         "\"you have a lot of buybacks\"",
         "0"
        ],
        [
         "21",
         "GG",
         "0"
        ],
        [
         "22",
         "\"noob\"",
         "0"
        ],
        [
         "23",
         "\"...\"",
         "0"
        ],
        [
         "24",
         "I know",
         "0"
        ],
        [
         "25",
         "gg commend",
         "0"
        ],
        [
         "26",
         "\")\"",
         "0"
        ],
        [
         "27",
         "\"toilet\"",
         "0"
        ],
        [
         "28",
         "gg wp",
         "0"
        ],
        [
         "29",
         "Bastard",
         "0"
        ],
        [
         "30",
         "\"miss you chulupi\"",
         "0"
        ],
        [
         "31",
         "Gfg",
         "0"
        ],
        [
         "32",
         "\"go incest\"",
         "0"
        ],
        [
         "33",
         "\"thanks sniper\"",
         "0"
        ],
        [
         "34",
         "\"Hello\"",
         "0"
        ],
        [
         "35",
         "\"cancer lost to cancer monkey\"",
         "0"
        ],
        [
         "36",
         "\"like the tinker\"",
         "0"
        ],
        [
         "37",
         "Wew",
         "0"
        ],
        [
         "38",
         "\"your carry solo kill\"",
         "0"
        ],
        [
         "39",
         "L O L",
         "0"
        ],
        [
         "40",
         "OH FUCK",
         "0"
        ],
        [
         "41",
         "\"face is a fan\"",
         "0"
        ],
        [
         "42",
         "\"he told us to suck a dick\"",
         "0"
        ],
        [
         "43",
         "\"and Void's mother with the cauldron\"",
         "0"
        ],
        [
         "44",
         "\"Brazil detected\"",
         "0"
        ],
        [
         "45",
         "?",
         "0"
        ],
        [
         "46",
         "Gg",
         "0"
        ],
        [
         "47",
         "|sec",
         "0"
        ],
        [
         "48",
         ":(",
         "0"
        ],
        [
         "49",
         "\"where are you from\"",
         "0"
        ]
       ],
       "shape": {
        "columns": 2,
        "rows": 1000
       }
      },
      "text/html": [
       "<div>\n",
       "<style scoped>\n",
       "    .dataframe tbody tr th:only-of-type {\n",
       "        vertical-align: middle;\n",
       "    }\n",
       "\n",
       "    .dataframe tbody tr th {\n",
       "        vertical-align: top;\n",
       "    }\n",
       "\n",
       "    .dataframe thead th {\n",
       "        text-align: right;\n",
       "    }\n",
       "</style>\n",
       "<table border=\"1\" class=\"dataframe\">\n",
       "  <thead>\n",
       "    <tr style=\"text-align: right;\">\n",
       "      <th></th>\n",
       "      <th>translated_message</th>\n",
       "      <th>label</th>\n",
       "    </tr>\n",
       "  </thead>\n",
       "  <tbody>\n",
       "    <tr>\n",
       "      <th>0</th>\n",
       "      <td>?</td>\n",
       "      <td>0</td>\n",
       "    </tr>\n",
       "    <tr>\n",
       "      <th>1</th>\n",
       "      <td>\"is this solo?\"</td>\n",
       "      <td>0</td>\n",
       "    </tr>\n",
       "    <tr>\n",
       "      <th>2</th>\n",
       "      <td>lol</td>\n",
       "      <td>0</td>\n",
       "    </tr>\n",
       "    <tr>\n",
       "      <th>3</th>\n",
       "      <td>\"please report that kunka please\"</td>\n",
       "      <td>0</td>\n",
       "    </tr>\n",
       "    <tr>\n",
       "      <th>4</th>\n",
       "      <td>\"dauhdasduhas\"</td>\n",
       "      <td>0</td>\n",
       "    </tr>\n",
       "    <tr>\n",
       "      <th>...</th>\n",
       "      <td>...</td>\n",
       "      <td>...</td>\n",
       "    </tr>\n",
       "    <tr>\n",
       "      <th>995</th>\n",
       "      <td>so close</td>\n",
       "      <td>0</td>\n",
       "    </tr>\n",
       "    <tr>\n",
       "      <th>996</th>\n",
       "      <td>\"I had ping\"</td>\n",
       "      <td>0</td>\n",
       "    </tr>\n",
       "    <tr>\n",
       "      <th>997</th>\n",
       "      <td>\"sf well done\"</td>\n",
       "      <td>0</td>\n",
       "    </tr>\n",
       "    <tr>\n",
       "      <th>998</th>\n",
       "      <td>x</td>\n",
       "      <td>0</td>\n",
       "    </tr>\n",
       "    <tr>\n",
       "      <th>999</th>\n",
       "      <td>\"ancient, right?\"</td>\n",
       "      <td>0</td>\n",
       "    </tr>\n",
       "  </tbody>\n",
       "</table>\n",
       "<p>1000 rows × 2 columns</p>\n",
       "</div>"
      ],
      "text/plain": [
       "                    translated_message  label\n",
       "0                                    ?      0\n",
       "1                      \"is this solo?\"      0\n",
       "2                                  lol      0\n",
       "3    \"please report that kunka please\"      0\n",
       "4                       \"dauhdasduhas\"      0\n",
       "..                                 ...    ...\n",
       "995                           so close      0\n",
       "996                       \"I had ping\"      0\n",
       "997                     \"sf well done\"      0\n",
       "998                                  x      0\n",
       "999                  \"ancient, right?\"      0\n",
       "\n",
       "[1000 rows x 2 columns]"
      ]
     },
     "execution_count": 5,
     "metadata": {},
     "output_type": "execute_result"
    }
   ],
   "source": [
    "test_df"
   ]
  },
  {
   "cell_type": "markdown",
   "id": "368b33e1",
   "metadata": {},
   "source": [
    "# **Classifier**"
   ]
  },
  {
   "cell_type": "code",
   "execution_count": 7,
   "id": "4d42a13a",
   "metadata": {},
   "outputs": [],
   "source": [
    "train_df = train_df.sample(n=1000)"
   ]
  },
  {
   "cell_type": "code",
   "execution_count": 8,
   "id": "9e95ea38",
   "metadata": {},
   "outputs": [],
   "source": [
    "X_train = np.array(sentence_transformer.encode(train_df['translated_message'].to_list()))\n",
    "X_test = np.array(sentence_transformer.encode(test_df['translated_message'].to_list()))"
   ]
  },
  {
   "cell_type": "code",
   "execution_count": 9,
   "id": "d51ce69f",
   "metadata": {},
   "outputs": [],
   "source": [
    "y_train = train_df['label']\n",
    "y_test = test_df['label']"
   ]
  },
  {
   "cell_type": "code",
   "execution_count": 12,
   "id": "6bad0652",
   "metadata": {},
   "outputs": [
    {
     "name": "stdout",
     "output_type": "stream",
     "text": [
      "Train acc: 0.941\n",
      "Test acc: 0.916\n"
     ]
    }
   ],
   "source": [
    "model = svm.SVC(kernel='linear', probability=True, class_weight='balanced')\n",
    "model.fit(X_train, y_train)\n",
    "\n",
    "y_pred = model.predict(X_train)\n",
    "train_acc = accuracy_score(y_pred, y_train)\n",
    "print(f'Train acc: {train_acc}')\n",
    "\n",
    "y_pred = model.predict(X_test)\n",
    "test_acc = accuracy_score(y_pred, y_test)\n",
    "print(f'Test acc: {test_acc}')"
   ]
  },
  {
   "cell_type": "code",
   "execution_count": 13,
   "id": "a96455f0",
   "metadata": {},
   "outputs": [
    {
     "name": "stdout",
     "output_type": "stream",
     "text": [
      "0.24468085106382978\n",
      "0.6388888888888888\n"
     ]
    }
   ],
   "source": [
    "print(precision_score(y_test, y_pred))\n",
    "print(recall_score(y_test, y_pred))"
   ]
  },
  {
   "cell_type": "code",
   "execution_count": 14,
   "id": "50870b6c",
   "metadata": {},
   "outputs": [
    {
     "name": "stdout",
     "output_type": "stream",
     "text": [
      "0.9014522821576763\n"
     ]
    }
   ],
   "source": [
    "y_prob = model.predict_proba(X_test)[:, 1]\n",
    "print(roc_auc_score(y_test, y_prob))"
   ]
  }
 ],
 "metadata": {
  "kernelspec": {
   "display_name": "Python 3",
   "language": "python",
   "name": "python3"
  },
  "language_info": {
   "codemirror_mode": {
    "name": "ipython",
    "version": 3
   },
   "file_extension": ".py",
   "mimetype": "text/x-python",
   "name": "python",
   "nbconvert_exporter": "python",
   "pygments_lexer": "ipython3",
   "version": "3.9.6"
  }
 },
 "nbformat": 4,
 "nbformat_minor": 5
}
