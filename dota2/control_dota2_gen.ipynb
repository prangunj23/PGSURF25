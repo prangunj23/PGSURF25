{
 "cells": [
  {
   "cell_type": "code",
   "execution_count": 3,
   "id": "98c77ba7",
   "metadata": {},
   "outputs": [
    {
     "name": "stderr",
     "output_type": "stream",
     "text": [
      "/Users/pranitgunjal/Library/Python/3.9/lib/python/site-packages/urllib3/__init__.py:35: NotOpenSSLWarning: urllib3 v2 only supports OpenSSL 1.1.1+, currently the 'ssl' module is compiled with 'LibreSSL 2.8.3'. See: https://github.com/urllib3/urllib3/issues/3020\n",
      "  warnings.warn(\n"
     ]
    }
   ],
   "source": [
    "import sys\n",
    "sys.path.append('../utilities/')\n",
    "import pandas as pd\n",
    "import numpy as np\n",
    "from sklearn import svm\n",
    "from sklearn.model_selection import train_test_split, GridSearchCV\n",
    "from sklearn.metrics import accuracy_score, precision_score, recall_score, roc_auc_score\n",
    "import torch\n",
    "from sentence_transformers import SentenceTransformer\n",
    "from joblib import dump\n",
    "from openai import OpenAI\n",
    "from tqdm import tqdm\n",
    "from mmd import MMD\n",
    "import re\n",
    "from sklearn.feature_extraction.text import CountVectorizer"
   ]
  },
  {
   "cell_type": "code",
   "execution_count": 4,
   "id": "82467135",
   "metadata": {},
   "outputs": [],
   "source": [
    "import os\n",
    "from dotenv import load_dotenv"
   ]
  },
  {
   "cell_type": "code",
   "execution_count": 5,
   "id": "040bca54",
   "metadata": {},
   "outputs": [],
   "source": [
    "load_dotenv()\n",
    "API_KEY = os.getenv(\"OPENAI_API_KEY\")\n",
    "client = OpenAI(api_key=API_KEY)"
   ]
  },
  {
   "cell_type": "code",
   "execution_count": 3,
   "id": "338b4cf5",
   "metadata": {},
   "outputs": [],
   "source": [
    "instruction = (\n",
    "    \"You are a data generator tasked with creating realistic DOTA 2 chat messages. \"\n",
    "    \"These chat messages should be labeled according to their sentiment: toxic or non-toxic.\\n\"\n",
    "    \"Base the style on typical video game chat messages — include informal internet language, typos, and abbreviations\\n\"\n",
    "    \"Generate exactly 10 realistic DOTA 2 chat messages, one per line.\\n\"\n",
    "    \"Each line should follow this format: the chat message in double quotes, followed by a space and then the label (0 for toxic, 1 for non-toxic).\\n\"\n",
    "    \"No extra formatting — just plain text output, one line per comment.\\n\"\n",
    "    \"Here is the format:\\n\"\n",
    "    \"\\\"gg dawg\\\" 0\\n\"\n",
    "    \"\\\"I hate u bitch\\\" 1\"\n",
    ")\n",
    "input = (\n",
    "    f\"Now, generate the 10 new comments below:\"\n",
    ")"
   ]
  },
  {
   "cell_type": "code",
   "execution_count": 4,
   "id": "9e63e2f0",
   "metadata": {},
   "outputs": [],
   "source": [
    "res = []\n",
    "for i in range(100):\n",
    "    response = client.responses.create(\n",
    "        model=\"gpt-4o\",\n",
    "        instructions=instruction,\n",
    "        input=input\n",
    "    )\n",
    "    res.append(response.output_text)"
   ]
  },
  {
   "cell_type": "code",
   "execution_count": 8,
   "id": "94c49c0e",
   "metadata": {},
   "outputs": [],
   "source": [
    "labels = []\n",
    "sentences = []\n",
    "for i in range(100):\n",
    "    for word in res[i].split(\"\\n\"):\n",
    "        match = re.match(r'\"(.*?)\"\\s*(-?\\d+)', word)\n",
    "        if match:\n",
    "            quoted = match.group(1)      \n",
    "            label = match.group(2)       \n",
    "            sentences.append(quoted)\n",
    "            labels.append(int(label))"
   ]
  },
  {
   "cell_type": "code",
   "execution_count": 9,
   "id": "1a03b165",
   "metadata": {},
   "outputs": [],
   "source": [
    "generated_df = pd.DataFrame({\n",
    "    'sentences': sentences,\n",
    "    'labels': labels\n",
    "})"
   ]
  },
  {
   "cell_type": "code",
   "execution_count": 10,
   "id": "051718f4",
   "metadata": {},
   "outputs": [
    {
     "data": {
      "application/vnd.microsoft.datawrangler.viewer.v0+json": {
       "columns": [
        {
         "name": "index",
         "rawType": "int64",
         "type": "integer"
        },
        {
         "name": "sentences",
         "rawType": "object",
         "type": "string"
        },
        {
         "name": "labels",
         "rawType": "int64",
         "type": "integer"
        }
       ],
       "ref": "9edb5258-25b8-4ed6-9047-bc3205466124",
       "rows": [
        [
         "0",
         "I'm reporting u aftr game",
         "0"
        ],
        [
         "1",
         "nice play team, wp!",
         "1"
        ],
        [
         "2",
         "wtf r u doin?",
         "0"
        ],
        [
         "3",
         "keep it up, ur doing gr8!",
         "1"
        ],
        [
         "4",
         "lol uninstall pls",
         "0"
        ],
        [
         "5",
         "any tips for mid lane?",
         "1"
        ],
        [
         "6",
         "u suck, srsly",
         "0"
        ],
        [
         "7",
         "thx 4 the help, appreciate it",
         "1"
        ],
        [
         "8",
         "go back to tutorial",
         "0"
        ],
        [
         "9",
         "gj everyone, we got this",
         "1"
        ],
        [
         "10",
         "ez noobs lol",
         "0"
        ],
        [
         "11",
         "nice play, team!",
         "1"
        ],
        [
         "12",
         "why u feed bro???",
         "0"
        ],
        [
         "13",
         "gj everyone, wp!",
         "1"
        ],
        [
         "14",
         "can u stop dying pls",
         "0"
        ],
        [
         "15",
         "we got this guys!",
         "1"
        ],
        [
         "16",
         "fkin report him",
         "0"
        ],
        [
         "17",
         "thx for support <3",
         "1"
        ],
        [
         "18",
         "this is hopeless with u",
         "0"
        ],
        [
         "19",
         "let's push mid, glhf!",
         "1"
        ],
        [
         "20",
         "ez game lol",
         "1"
        ],
        [
         "21",
         "stop feeding omg",
         "0"
        ],
        [
         "22",
         "nice play team :)",
         "1"
        ],
        [
         "23",
         "u so bad at this",
         "0"
        ],
        [
         "24",
         "good job everyone!",
         "1"
        ],
        [
         "25",
         "wtf u doing???",
         "0"
        ],
        [
         "26",
         "keep it up guys!",
         "1"
        ],
        [
         "27",
         "can u pls focus...",
         "0"
        ],
        [
         "28",
         "awesome gank ty",
         "1"
        ],
        [
         "29",
         "why u so toxic man",
         "0"
        ],
        [
         "30",
         "noob team, uninstall pls",
         "0"
        ],
        [
         "31",
         "wp, let's get next one!",
         "1"
        ],
        [
         "32",
         "report this idiot",
         "0"
        ],
        [
         "33",
         "nice save tyvm!",
         "1"
        ],
        [
         "34",
         "ugh tryhard much?",
         "0"
        ],
        [
         "35",
         "can we group up and push?",
         "1"
        ],
        [
         "36",
         "so bad, go play tetras",
         "0"
        ],
        [
         "37",
         "great stun, carry on!",
         "1"
        ],
        [
         "38",
         "y r u even playing",
         "0"
        ],
        [
         "39",
         "fun game, gg everyone",
         "1"
        ],
        [
         "40",
         "wtf r u doin????",
         "0"
        ],
        [
         "41",
         "nice play, keep it up!",
         "1"
        ],
        [
         "42",
         "omg u guys r trash",
         "0"
        ],
        [
         "43",
         "lol, that was funny :D",
         "1"
        ],
        [
         "44",
         "quit feeding n00b",
         "0"
        ],
        [
         "45",
         "let's push mid, team!",
         "1"
        ],
        [
         "46",
         "reported 4 being useless",
         "0"
        ],
        [
         "47",
         "stay safe, good healz!",
         "1"
        ],
        [
         "48",
         "y'all suck, uninstall!",
         "0"
        ],
        [
         "49",
         "tight game, well played all",
         "1"
        ]
       ],
       "shape": {
        "columns": 2,
        "rows": 1000
       }
      },
      "text/html": [
       "<div>\n",
       "<style scoped>\n",
       "    .dataframe tbody tr th:only-of-type {\n",
       "        vertical-align: middle;\n",
       "    }\n",
       "\n",
       "    .dataframe tbody tr th {\n",
       "        vertical-align: top;\n",
       "    }\n",
       "\n",
       "    .dataframe thead th {\n",
       "        text-align: right;\n",
       "    }\n",
       "</style>\n",
       "<table border=\"1\" class=\"dataframe\">\n",
       "  <thead>\n",
       "    <tr style=\"text-align: right;\">\n",
       "      <th></th>\n",
       "      <th>sentences</th>\n",
       "      <th>labels</th>\n",
       "    </tr>\n",
       "  </thead>\n",
       "  <tbody>\n",
       "    <tr>\n",
       "      <th>0</th>\n",
       "      <td>I'm reporting u aftr game</td>\n",
       "      <td>0</td>\n",
       "    </tr>\n",
       "    <tr>\n",
       "      <th>1</th>\n",
       "      <td>nice play team, wp!</td>\n",
       "      <td>1</td>\n",
       "    </tr>\n",
       "    <tr>\n",
       "      <th>2</th>\n",
       "      <td>wtf r u doin?</td>\n",
       "      <td>0</td>\n",
       "    </tr>\n",
       "    <tr>\n",
       "      <th>3</th>\n",
       "      <td>keep it up, ur doing gr8!</td>\n",
       "      <td>1</td>\n",
       "    </tr>\n",
       "    <tr>\n",
       "      <th>4</th>\n",
       "      <td>lol uninstall pls</td>\n",
       "      <td>0</td>\n",
       "    </tr>\n",
       "    <tr>\n",
       "      <th>...</th>\n",
       "      <td>...</td>\n",
       "      <td>...</td>\n",
       "    </tr>\n",
       "    <tr>\n",
       "      <th>995</th>\n",
       "      <td>let's push mid, we got this</td>\n",
       "      <td>1</td>\n",
       "    </tr>\n",
       "    <tr>\n",
       "      <th>996</th>\n",
       "      <td>u can't last hit, uninstall</td>\n",
       "      <td>0</td>\n",
       "    </tr>\n",
       "    <tr>\n",
       "      <th>997</th>\n",
       "      <td>nice save back there</td>\n",
       "      <td>1</td>\n",
       "    </tr>\n",
       "    <tr>\n",
       "      <th>998</th>\n",
       "      <td>stop throwing, wtf</td>\n",
       "      <td>0</td>\n",
       "    </tr>\n",
       "    <tr>\n",
       "      <th>999</th>\n",
       "      <td>come on, we can still win this</td>\n",
       "      <td>1</td>\n",
       "    </tr>\n",
       "  </tbody>\n",
       "</table>\n",
       "<p>1000 rows × 2 columns</p>\n",
       "</div>"
      ],
      "text/plain": [
       "                          sentences  labels\n",
       "0         I'm reporting u aftr game       0\n",
       "1               nice play team, wp!       1\n",
       "2                     wtf r u doin?       0\n",
       "3         keep it up, ur doing gr8!       1\n",
       "4                 lol uninstall pls       0\n",
       "..                              ...     ...\n",
       "995     let's push mid, we got this       1\n",
       "996     u can't last hit, uninstall       0\n",
       "997            nice save back there       1\n",
       "998              stop throwing, wtf       0\n",
       "999  come on, we can still win this       1\n",
       "\n",
       "[1000 rows x 2 columns]"
      ]
     },
     "execution_count": 10,
     "metadata": {},
     "output_type": "execute_result"
    }
   ],
   "source": [
    "generated_df"
   ]
  },
  {
   "cell_type": "code",
   "execution_count": 12,
   "id": "6abf9421",
   "metadata": {},
   "outputs": [],
   "source": [
    "generated_df.to_csv('../data/generated/dota2/control/control_gen.csv', index=False)"
   ]
  }
 ],
 "metadata": {
  "kernelspec": {
   "display_name": "Python 3",
   "language": "python",
   "name": "python3"
  },
  "language_info": {
   "codemirror_mode": {
    "name": "ipython",
    "version": 3
   },
   "file_extension": ".py",
   "mimetype": "text/x-python",
   "name": "python",
   "nbconvert_exporter": "python",
   "pygments_lexer": "ipython3",
   "version": "3.9.6"
  }
 },
 "nbformat": 4,
 "nbformat_minor": 5
}
