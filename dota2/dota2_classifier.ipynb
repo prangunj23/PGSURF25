{
 "cells": [
  {
   "cell_type": "code",
   "execution_count": 6,
   "id": "f7853015",
   "metadata": {},
   "outputs": [],
   "source": [
    "import sys\n",
    "sys.path.append('../utilities/')\n",
    "import pandas as pd\n",
    "import numpy as np\n",
    "from sklearn import svm\n",
    "from sklearn.model_selection import train_test_split, GridSearchCV\n",
    "from sklearn.metrics import accuracy_score, precision_score, recall_score, roc_auc_score\n",
    "import torch\n",
    "from sentence_transformers import SentenceTransformer\n",
    "from joblib import dump\n",
    "from openai import OpenAI\n",
    "from tqdm import tqdm\n",
    "from mmd import MMD\n",
    "import re\n",
    "from sklearn.feature_extraction.text import CountVectorizer"
   ]
  },
  {
   "cell_type": "markdown",
   "id": "65d08ea9",
   "metadata": {},
   "source": [
    "# **Transformer**"
   ]
  },
  {
   "cell_type": "code",
   "execution_count": 3,
   "id": "2581e34c",
   "metadata": {},
   "outputs": [],
   "source": [
    "sentence_transformer = SentenceTransformer('all-mpnet-base-v2')"
   ]
  },
  {
   "cell_type": "markdown",
   "id": "f3b55fb4",
   "metadata": {},
   "source": [
    "# **Data Pre-processing**"
   ]
  },
  {
   "cell_type": "code",
   "execution_count": 9,
   "id": "e2b0bf3d",
   "metadata": {},
   "outputs": [],
   "source": [
    "df = pd.read_csv('../data/initial_datasets/dota2_train_labels_translated_sanitized.csv')"
   ]
  },
  {
   "cell_type": "code",
   "execution_count": 10,
   "id": "d75e8fdd",
   "metadata": {},
   "outputs": [
    {
     "name": "stderr",
     "output_type": "stream",
     "text": [
      "/var/folders/lv/pnwq6bmj4tq68bsvy__37qyh0000gn/T/ipykernel_69911/2336875256.py:1: FutureWarning: Downcasting behavior in `replace` is deprecated and will be removed in a future version. To retain the old behavior, explicitly call `result.infer_objects(copy=False)`. To opt-in to the future behavior, set `pd.set_option('future.no_silent_downcasting', True)`\n",
      "  df['label'] = df['label'].replace({'x': 1})\n"
     ]
    }
   ],
   "source": [
    "df['label'] = df['label'].replace({'x': 1})\n",
    "df['label'] = df['label'].fillna(0)\n",
    "df['label'] = df['label'].astype(int)"
   ]
  },
  {
   "cell_type": "code",
   "execution_count": 12,
   "id": "a54b6f90",
   "metadata": {},
   "outputs": [
    {
     "data": {
      "application/vnd.microsoft.datawrangler.viewer.v0+json": {
       "columns": [
        {
         "name": "label",
         "rawType": "int64",
         "type": "integer"
        },
        {
         "name": "count",
         "rawType": "int64",
         "type": "integer"
        }
       ],
       "ref": "6002b156-d480-4abd-b22a-5111942a5a51",
       "rows": [
        [
         "0",
         "3320"
        ],
        [
         "1",
         "139"
        ]
       ],
       "shape": {
        "columns": 1,
        "rows": 2
       }
      },
      "text/plain": [
       "label\n",
       "0    3320\n",
       "1     139\n",
       "Name: count, dtype: int64"
      ]
     },
     "execution_count": 12,
     "metadata": {},
     "output_type": "execute_result"
    }
   ],
   "source": [
    "df['label'].value_counts()"
   ]
  },
  {
   "cell_type": "code",
   "execution_count": 6,
   "id": "619fdbcf",
   "metadata": {},
   "outputs": [],
   "source": [
    "group, data = next(iter(df.groupby('match')))"
   ]
  },
  {
   "cell_type": "code",
   "execution_count": 8,
   "id": "2c713780",
   "metadata": {},
   "outputs": [
    {
     "data": {
      "application/vnd.microsoft.datawrangler.viewer.v0+json": {
       "columns": [
        {
         "name": "index",
         "rawType": "int64",
         "type": "integer"
        },
        {
         "name": "message",
         "rawType": "object",
         "type": "string"
        },
        {
         "name": "label",
         "rawType": "int64",
         "type": "integer"
        },
        {
         "name": "player",
         "rawType": "int64",
         "type": "integer"
        },
        {
         "name": "special_token_message",
         "rawType": "object",
         "type": "string"
        },
        {
         "name": "match",
         "rawType": "int64",
         "type": "integer"
        },
        {
         "name": "translated_message",
         "rawType": "object",
         "type": "string"
        },
        {
         "name": "sanitized_translated_message",
         "rawType": "object",
         "type": "string"
        }
       ],
       "ref": "04f981ea-80a0-46c6-86ba-43c46c37ed5e",
       "rows": [
        [
         "786",
         "я уверен",
         "0",
         "2",
         "[Team0][Player2]: я уверен",
         "0",
         "\"I'm sure\"",
         "I'm sure"
        ],
        [
         "787",
         "что тут вард",
         "0",
         "2",
         "[Team0][Player2]: что тут вард",
         "0",
         "\"that there's a ward here\"",
         "that there's a ward here"
        ],
        [
         "788",
         "я прав?",
         "0",
         "2",
         "[Team0][Player2]: я прав?",
         "0",
         "\"Am I right?\"",
         "Am I right?"
        ],
        [
         "789",
         "на хг есть вард?",
         "0",
         "2",
         "[Team0][Player2]: на хг есть вард?",
         "0",
         "\"Is there a ward on the high ground?\"",
         "Is there a ward on the high ground?"
        ],
        [
         "790",
         "ставь сентри",
         "0",
         "7",
         "[Team1][Player2]: ставь сентри",
         "0",
         "\"Place a sentry.\"",
         "Place a sentry."
        ],
        [
         "791",
         "когда против тебя пудж, тут всегда вард",
         "0",
         "2",
         "[Team0][Player2]: когда против тебя пудж, тут всегда вард",
         "0",
         "\"When you're up against Pudge, there's always a ward here.\"",
         "When you're up against Pudge, there's always a ward here."
        ],
        [
         "792",
         "узнаешь",
         "0",
         "7",
         "[Team1][Player2]: узнаешь",
         "0",
         "\"you'll find out\"",
         "you'll find out"
        ],
        [
         "793",
         "или он ближе к руне?",
         "0",
         "2",
         "[Team0][Player2]: или он ближе к руне?",
         "0",
         "\"or is it closer to the rune?\"",
         "\"or is it closer to the rune?\""
        ],
        [
         "794",
         "hg",
         "0",
         "6",
         "[Team1][Player1]: hg",
         "0",
         "\"high ground\"",
         "high ground"
        ],
        [
         "795",
         "ставь сентри дружок",
         "0",
         "7",
         "[Team1][Player2]: ставь сентри дружок",
         "0",
         "\"Place a sentry, buddy\"",
         "Place a sentry, buddy"
        ],
        [
         "796",
         "двухходовочка ск",
         "0",
         "4",
         "[Team0][Player4]: двухходовочка ск",
         "0",
         "\"Two-step move SK\"",
         "Two-step move SK"
        ],
        [
         "797",
         "не прокатит",
         "0",
         "4",
         "[Team0][Player4]: не прокатит",
         "0",
         "\"won't work\"",
         "won't work"
        ],
        [
         "798",
         "слушай тинкера",
         "0",
         "7",
         "[Team1][Player2]: слушай тинкера",
         "0",
         "\"listen to Tinker\"",
         "listen to Tinker"
        ],
        [
         "799",
         ";-)",
         "0",
         "7",
         "[Team1][Player2]: ;-)",
         "0",
         ";-)",
         ";-)"
        ],
        [
         "800",
         "подождем",
         "0",
         "2",
         "[Team0][Player2]: подождем",
         "0",
         "\"let's wait\"",
         "let's wait"
        ],
        [
         "801",
         "тинкер в муте",
         "0",
         "2",
         "[Team0][Player2]: тинкер в муте",
         "0",
         "\"tinker is muted\"",
         "tinker is muted"
        ],
        [
         "802",
         "лол",
         "0",
         "2",
         "[Team0][Player2]: лол",
         "0",
         "lol",
         "lol"
        ],
        [
         "803",
         "Жаль",
         "0",
         "7",
         "[Team1][Player2]: Жаль",
         "0",
         "\"Too bad\"",
         "Too bad"
        ],
        [
         "804",
         "удачной вам игры",
         "0",
         "2",
         "[Team0][Player2]: удачной вам игры",
         "0",
         "\"Good luck with your game\"",
         "Good luck with your game"
        ],
        [
         "805",
         "не просто так в муте был",
         "0",
         "2",
         "[Team0][Player2]: не просто так в муте был",
         "0",
         "\"wasn't in mute for no reason\"",
         "wasn't in mute for no reason"
        ],
        [
         "806",
         "МИД БЛЯТЬ НИК",
         "0",
         "2",
         "[Team0][Player2]: МИД БЛЯТЬ НИК",
         "0",
         "\"MID FUCKING NICK\"",
         "MID ******* NICK"
        ],
        [
         "807",
         "АХАХАХ",
         "0",
         "2",
         "[Team0][Player2]: АХАХАХ",
         "0",
         "\"HAHAHA\"",
         "HAHAHA"
        ],
        [
         "808",
         "откуда видел",
         "0",
         "4",
         "[Team0][Player4]: откуда видел",
         "0",
         "\"how did you see\"",
         "how did you see"
        ],
        [
         "809",
         "пидарас",
         "0",
         "4",
         "[Team0][Player4]: пидарас",
         "0",
         "Faggot",
         "F*****"
        ],
        [
         "810",
         "slabeishiy invoker",
         "0",
         "9",
         "[Team1][Player4]: slabeishiy invoker",
         "0",
         "\"weakest invoker\"",
         "weakest invoker"
        ],
        [
         "811",
         "kak i tinker",
         "0",
         "9",
         "[Team1][Player4]: kak i tinker",
         "0",
         "\"like the tinker\"",
         "like the tinker"
        ],
        [
         "812",
         "я тут в роли корма",
         "0",
         "2",
         "[Team0][Player2]: я тут в роли корма",
         "0",
         "\"I'm here as the feed.\"",
         "I'm here as the feed."
        ],
        [
         "813",
         "gg",
         "0",
         "4",
         "[Team0][Player4]: gg",
         "0",
         "gg",
         "gg"
        ]
       ],
       "shape": {
        "columns": 7,
        "rows": 28
       }
      },
      "text/html": [
       "<div>\n",
       "<style scoped>\n",
       "    .dataframe tbody tr th:only-of-type {\n",
       "        vertical-align: middle;\n",
       "    }\n",
       "\n",
       "    .dataframe tbody tr th {\n",
       "        vertical-align: top;\n",
       "    }\n",
       "\n",
       "    .dataframe thead th {\n",
       "        text-align: right;\n",
       "    }\n",
       "</style>\n",
       "<table border=\"1\" class=\"dataframe\">\n",
       "  <thead>\n",
       "    <tr style=\"text-align: right;\">\n",
       "      <th></th>\n",
       "      <th>message</th>\n",
       "      <th>label</th>\n",
       "      <th>player</th>\n",
       "      <th>special_token_message</th>\n",
       "      <th>match</th>\n",
       "      <th>translated_message</th>\n",
       "      <th>sanitized_translated_message</th>\n",
       "    </tr>\n",
       "  </thead>\n",
       "  <tbody>\n",
       "    <tr>\n",
       "      <th>786</th>\n",
       "      <td>я уверен</td>\n",
       "      <td>0</td>\n",
       "      <td>2</td>\n",
       "      <td>[Team0][Player2]: я уверен</td>\n",
       "      <td>0</td>\n",
       "      <td>\"I'm sure\"</td>\n",
       "      <td>I'm sure</td>\n",
       "    </tr>\n",
       "    <tr>\n",
       "      <th>787</th>\n",
       "      <td>что тут вард</td>\n",
       "      <td>0</td>\n",
       "      <td>2</td>\n",
       "      <td>[Team0][Player2]: что тут вард</td>\n",
       "      <td>0</td>\n",
       "      <td>\"that there's a ward here\"</td>\n",
       "      <td>that there's a ward here</td>\n",
       "    </tr>\n",
       "    <tr>\n",
       "      <th>788</th>\n",
       "      <td>я прав?</td>\n",
       "      <td>0</td>\n",
       "      <td>2</td>\n",
       "      <td>[Team0][Player2]: я прав?</td>\n",
       "      <td>0</td>\n",
       "      <td>\"Am I right?\"</td>\n",
       "      <td>Am I right?</td>\n",
       "    </tr>\n",
       "    <tr>\n",
       "      <th>789</th>\n",
       "      <td>на хг есть вард?</td>\n",
       "      <td>0</td>\n",
       "      <td>2</td>\n",
       "      <td>[Team0][Player2]: на хг есть вард?</td>\n",
       "      <td>0</td>\n",
       "      <td>\"Is there a ward on the high ground?\"</td>\n",
       "      <td>Is there a ward on the high ground?</td>\n",
       "    </tr>\n",
       "    <tr>\n",
       "      <th>790</th>\n",
       "      <td>ставь сентри</td>\n",
       "      <td>0</td>\n",
       "      <td>7</td>\n",
       "      <td>[Team1][Player2]: ставь сентри</td>\n",
       "      <td>0</td>\n",
       "      <td>\"Place a sentry.\"</td>\n",
       "      <td>Place a sentry.</td>\n",
       "    </tr>\n",
       "    <tr>\n",
       "      <th>791</th>\n",
       "      <td>когда против тебя пудж, тут всегда вард</td>\n",
       "      <td>0</td>\n",
       "      <td>2</td>\n",
       "      <td>[Team0][Player2]: когда против тебя пудж, тут ...</td>\n",
       "      <td>0</td>\n",
       "      <td>\"When you're up against Pudge, there's always ...</td>\n",
       "      <td>When you're up against Pudge, there's always a...</td>\n",
       "    </tr>\n",
       "    <tr>\n",
       "      <th>792</th>\n",
       "      <td>узнаешь</td>\n",
       "      <td>0</td>\n",
       "      <td>7</td>\n",
       "      <td>[Team1][Player2]: узнаешь</td>\n",
       "      <td>0</td>\n",
       "      <td>\"you'll find out\"</td>\n",
       "      <td>you'll find out</td>\n",
       "    </tr>\n",
       "    <tr>\n",
       "      <th>793</th>\n",
       "      <td>или он ближе к руне?</td>\n",
       "      <td>0</td>\n",
       "      <td>2</td>\n",
       "      <td>[Team0][Player2]: или он ближе к руне?</td>\n",
       "      <td>0</td>\n",
       "      <td>\"or is it closer to the rune?\"</td>\n",
       "      <td>\"or is it closer to the rune?\"</td>\n",
       "    </tr>\n",
       "    <tr>\n",
       "      <th>794</th>\n",
       "      <td>hg</td>\n",
       "      <td>0</td>\n",
       "      <td>6</td>\n",
       "      <td>[Team1][Player1]: hg</td>\n",
       "      <td>0</td>\n",
       "      <td>\"high ground\"</td>\n",
       "      <td>high ground</td>\n",
       "    </tr>\n",
       "    <tr>\n",
       "      <th>795</th>\n",
       "      <td>ставь сентри дружок</td>\n",
       "      <td>0</td>\n",
       "      <td>7</td>\n",
       "      <td>[Team1][Player2]: ставь сентри дружок</td>\n",
       "      <td>0</td>\n",
       "      <td>\"Place a sentry, buddy\"</td>\n",
       "      <td>Place a sentry, buddy</td>\n",
       "    </tr>\n",
       "    <tr>\n",
       "      <th>796</th>\n",
       "      <td>двухходовочка ск</td>\n",
       "      <td>0</td>\n",
       "      <td>4</td>\n",
       "      <td>[Team0][Player4]: двухходовочка ск</td>\n",
       "      <td>0</td>\n",
       "      <td>\"Two-step move SK\"</td>\n",
       "      <td>Two-step move SK</td>\n",
       "    </tr>\n",
       "    <tr>\n",
       "      <th>797</th>\n",
       "      <td>не прокатит</td>\n",
       "      <td>0</td>\n",
       "      <td>4</td>\n",
       "      <td>[Team0][Player4]: не прокатит</td>\n",
       "      <td>0</td>\n",
       "      <td>\"won't work\"</td>\n",
       "      <td>won't work</td>\n",
       "    </tr>\n",
       "    <tr>\n",
       "      <th>798</th>\n",
       "      <td>слушай тинкера</td>\n",
       "      <td>0</td>\n",
       "      <td>7</td>\n",
       "      <td>[Team1][Player2]: слушай тинкера</td>\n",
       "      <td>0</td>\n",
       "      <td>\"listen to Tinker\"</td>\n",
       "      <td>listen to Tinker</td>\n",
       "    </tr>\n",
       "    <tr>\n",
       "      <th>799</th>\n",
       "      <td>;-)</td>\n",
       "      <td>0</td>\n",
       "      <td>7</td>\n",
       "      <td>[Team1][Player2]: ;-)</td>\n",
       "      <td>0</td>\n",
       "      <td>;-)</td>\n",
       "      <td>;-)</td>\n",
       "    </tr>\n",
       "    <tr>\n",
       "      <th>800</th>\n",
       "      <td>подождем</td>\n",
       "      <td>0</td>\n",
       "      <td>2</td>\n",
       "      <td>[Team0][Player2]: подождем</td>\n",
       "      <td>0</td>\n",
       "      <td>\"let's wait\"</td>\n",
       "      <td>let's wait</td>\n",
       "    </tr>\n",
       "    <tr>\n",
       "      <th>801</th>\n",
       "      <td>тинкер в муте</td>\n",
       "      <td>0</td>\n",
       "      <td>2</td>\n",
       "      <td>[Team0][Player2]: тинкер в муте</td>\n",
       "      <td>0</td>\n",
       "      <td>\"tinker is muted\"</td>\n",
       "      <td>tinker is muted</td>\n",
       "    </tr>\n",
       "    <tr>\n",
       "      <th>802</th>\n",
       "      <td>лол</td>\n",
       "      <td>0</td>\n",
       "      <td>2</td>\n",
       "      <td>[Team0][Player2]: лол</td>\n",
       "      <td>0</td>\n",
       "      <td>lol</td>\n",
       "      <td>lol</td>\n",
       "    </tr>\n",
       "    <tr>\n",
       "      <th>803</th>\n",
       "      <td>Жаль</td>\n",
       "      <td>0</td>\n",
       "      <td>7</td>\n",
       "      <td>[Team1][Player2]: Жаль</td>\n",
       "      <td>0</td>\n",
       "      <td>\"Too bad\"</td>\n",
       "      <td>Too bad</td>\n",
       "    </tr>\n",
       "    <tr>\n",
       "      <th>804</th>\n",
       "      <td>удачной вам игры</td>\n",
       "      <td>0</td>\n",
       "      <td>2</td>\n",
       "      <td>[Team0][Player2]: удачной вам игры</td>\n",
       "      <td>0</td>\n",
       "      <td>\"Good luck with your game\"</td>\n",
       "      <td>Good luck with your game</td>\n",
       "    </tr>\n",
       "    <tr>\n",
       "      <th>805</th>\n",
       "      <td>не просто так в муте был</td>\n",
       "      <td>0</td>\n",
       "      <td>2</td>\n",
       "      <td>[Team0][Player2]: не просто так в муте был</td>\n",
       "      <td>0</td>\n",
       "      <td>\"wasn't in mute for no reason\"</td>\n",
       "      <td>wasn't in mute for no reason</td>\n",
       "    </tr>\n",
       "    <tr>\n",
       "      <th>806</th>\n",
       "      <td>МИД БЛЯТЬ НИК</td>\n",
       "      <td>0</td>\n",
       "      <td>2</td>\n",
       "      <td>[Team0][Player2]: МИД БЛЯТЬ НИК</td>\n",
       "      <td>0</td>\n",
       "      <td>\"MID FUCKING NICK\"</td>\n",
       "      <td>MID ******* NICK</td>\n",
       "    </tr>\n",
       "    <tr>\n",
       "      <th>807</th>\n",
       "      <td>АХАХАХ</td>\n",
       "      <td>0</td>\n",
       "      <td>2</td>\n",
       "      <td>[Team0][Player2]: АХАХАХ</td>\n",
       "      <td>0</td>\n",
       "      <td>\"HAHAHA\"</td>\n",
       "      <td>HAHAHA</td>\n",
       "    </tr>\n",
       "    <tr>\n",
       "      <th>808</th>\n",
       "      <td>откуда видел</td>\n",
       "      <td>0</td>\n",
       "      <td>4</td>\n",
       "      <td>[Team0][Player4]: откуда видел</td>\n",
       "      <td>0</td>\n",
       "      <td>\"how did you see\"</td>\n",
       "      <td>how did you see</td>\n",
       "    </tr>\n",
       "    <tr>\n",
       "      <th>809</th>\n",
       "      <td>пидарас</td>\n",
       "      <td>0</td>\n",
       "      <td>4</td>\n",
       "      <td>[Team0][Player4]: пидарас</td>\n",
       "      <td>0</td>\n",
       "      <td>Faggot</td>\n",
       "      <td>F*****</td>\n",
       "    </tr>\n",
       "    <tr>\n",
       "      <th>810</th>\n",
       "      <td>slabeishiy invoker</td>\n",
       "      <td>0</td>\n",
       "      <td>9</td>\n",
       "      <td>[Team1][Player4]: slabeishiy invoker</td>\n",
       "      <td>0</td>\n",
       "      <td>\"weakest invoker\"</td>\n",
       "      <td>weakest invoker</td>\n",
       "    </tr>\n",
       "    <tr>\n",
       "      <th>811</th>\n",
       "      <td>kak i tinker</td>\n",
       "      <td>0</td>\n",
       "      <td>9</td>\n",
       "      <td>[Team1][Player4]: kak i tinker</td>\n",
       "      <td>0</td>\n",
       "      <td>\"like the tinker\"</td>\n",
       "      <td>like the tinker</td>\n",
       "    </tr>\n",
       "    <tr>\n",
       "      <th>812</th>\n",
       "      <td>я тут в роли корма</td>\n",
       "      <td>0</td>\n",
       "      <td>2</td>\n",
       "      <td>[Team0][Player2]: я тут в роли корма</td>\n",
       "      <td>0</td>\n",
       "      <td>\"I'm here as the feed.\"</td>\n",
       "      <td>I'm here as the feed.</td>\n",
       "    </tr>\n",
       "    <tr>\n",
       "      <th>813</th>\n",
       "      <td>gg</td>\n",
       "      <td>0</td>\n",
       "      <td>4</td>\n",
       "      <td>[Team0][Player4]: gg</td>\n",
       "      <td>0</td>\n",
       "      <td>gg</td>\n",
       "      <td>gg</td>\n",
       "    </tr>\n",
       "  </tbody>\n",
       "</table>\n",
       "</div>"
      ],
      "text/plain": [
       "                                     message  label  player  \\\n",
       "786                                 я уверен      0       2   \n",
       "787                             что тут вард      0       2   \n",
       "788                                  я прав?      0       2   \n",
       "789                         на хг есть вард?      0       2   \n",
       "790                             ставь сентри      0       7   \n",
       "791  когда против тебя пудж, тут всегда вард      0       2   \n",
       "792                                  узнаешь      0       7   \n",
       "793                     или он ближе к руне?      0       2   \n",
       "794                                       hg      0       6   \n",
       "795                      ставь сентри дружок      0       7   \n",
       "796                         двухходовочка ск      0       4   \n",
       "797                              не прокатит      0       4   \n",
       "798                           слушай тинкера      0       7   \n",
       "799                                      ;-)      0       7   \n",
       "800                                 подождем      0       2   \n",
       "801                            тинкер в муте      0       2   \n",
       "802                                      лол      0       2   \n",
       "803                                     Жаль      0       7   \n",
       "804                         удачной вам игры      0       2   \n",
       "805                 не просто так в муте был      0       2   \n",
       "806                            МИД БЛЯТЬ НИК      0       2   \n",
       "807                                   АХАХАХ      0       2   \n",
       "808                             откуда видел      0       4   \n",
       "809                                  пидарас      0       4   \n",
       "810                       slabeishiy invoker      0       9   \n",
       "811                             kak i tinker      0       9   \n",
       "812                       я тут в роли корма      0       2   \n",
       "813                                       gg      0       4   \n",
       "\n",
       "                                 special_token_message  match  \\\n",
       "786                         [Team0][Player2]: я уверен      0   \n",
       "787                     [Team0][Player2]: что тут вард      0   \n",
       "788                          [Team0][Player2]: я прав?      0   \n",
       "789                 [Team0][Player2]: на хг есть вард?      0   \n",
       "790                     [Team1][Player2]: ставь сентри      0   \n",
       "791  [Team0][Player2]: когда против тебя пудж, тут ...      0   \n",
       "792                          [Team1][Player2]: узнаешь      0   \n",
       "793             [Team0][Player2]: или он ближе к руне?      0   \n",
       "794                               [Team1][Player1]: hg      0   \n",
       "795              [Team1][Player2]: ставь сентри дружок      0   \n",
       "796                 [Team0][Player4]: двухходовочка ск      0   \n",
       "797                      [Team0][Player4]: не прокатит      0   \n",
       "798                   [Team1][Player2]: слушай тинкера      0   \n",
       "799                              [Team1][Player2]: ;-)      0   \n",
       "800                         [Team0][Player2]: подождем      0   \n",
       "801                    [Team0][Player2]: тинкер в муте      0   \n",
       "802                              [Team0][Player2]: лол      0   \n",
       "803                             [Team1][Player2]: Жаль      0   \n",
       "804                 [Team0][Player2]: удачной вам игры      0   \n",
       "805         [Team0][Player2]: не просто так в муте был      0   \n",
       "806                    [Team0][Player2]: МИД БЛЯТЬ НИК      0   \n",
       "807                           [Team0][Player2]: АХАХАХ      0   \n",
       "808                     [Team0][Player4]: откуда видел      0   \n",
       "809                          [Team0][Player4]: пидарас      0   \n",
       "810               [Team1][Player4]: slabeishiy invoker      0   \n",
       "811                     [Team1][Player4]: kak i tinker      0   \n",
       "812               [Team0][Player2]: я тут в роли корма      0   \n",
       "813                               [Team0][Player4]: gg      0   \n",
       "\n",
       "                                    translated_message  \\\n",
       "786                                         \"I'm sure\"   \n",
       "787                         \"that there's a ward here\"   \n",
       "788                                      \"Am I right?\"   \n",
       "789              \"Is there a ward on the high ground?\"   \n",
       "790                                  \"Place a sentry.\"   \n",
       "791  \"When you're up against Pudge, there's always ...   \n",
       "792                                  \"you'll find out\"   \n",
       "793                     \"or is it closer to the rune?\"   \n",
       "794                                      \"high ground\"   \n",
       "795                            \"Place a sentry, buddy\"   \n",
       "796                                 \"Two-step move SK\"   \n",
       "797                                       \"won't work\"   \n",
       "798                                 \"listen to Tinker\"   \n",
       "799                                                ;-)   \n",
       "800                                       \"let's wait\"   \n",
       "801                                  \"tinker is muted\"   \n",
       "802                                                lol   \n",
       "803                                          \"Too bad\"   \n",
       "804                         \"Good luck with your game\"   \n",
       "805                     \"wasn't in mute for no reason\"   \n",
       "806                                 \"MID FUCKING NICK\"   \n",
       "807                                           \"HAHAHA\"   \n",
       "808                                  \"how did you see\"   \n",
       "809                                             Faggot   \n",
       "810                                  \"weakest invoker\"   \n",
       "811                                  \"like the tinker\"   \n",
       "812                            \"I'm here as the feed.\"   \n",
       "813                                                 gg   \n",
       "\n",
       "                          sanitized_translated_message  \n",
       "786                                           I'm sure  \n",
       "787                           that there's a ward here  \n",
       "788                                        Am I right?  \n",
       "789                Is there a ward on the high ground?  \n",
       "790                                    Place a sentry.  \n",
       "791  When you're up against Pudge, there's always a...  \n",
       "792                                    you'll find out  \n",
       "793                     \"or is it closer to the rune?\"  \n",
       "794                                        high ground  \n",
       "795                              Place a sentry, buddy  \n",
       "796                                   Two-step move SK  \n",
       "797                                         won't work  \n",
       "798                                   listen to Tinker  \n",
       "799                                                ;-)  \n",
       "800                                         let's wait  \n",
       "801                                    tinker is muted  \n",
       "802                                                lol  \n",
       "803                                            Too bad  \n",
       "804                           Good luck with your game  \n",
       "805                       wasn't in mute for no reason  \n",
       "806                                   MID ******* NICK  \n",
       "807                                             HAHAHA  \n",
       "808                                    how did you see  \n",
       "809                                             F*****  \n",
       "810                                    weakest invoker  \n",
       "811                                    like the tinker  \n",
       "812                              I'm here as the feed.  \n",
       "813                                                 gg  "
      ]
     },
     "execution_count": 8,
     "metadata": {},
     "output_type": "execute_result"
    }
   ],
   "source": [
    "data"
   ]
  },
  {
   "cell_type": "code",
   "execution_count": 34,
   "id": "830c788a",
   "metadata": {},
   "outputs": [],
   "source": [
    "df['group_chat_id'] = df.groupby('match').cumcount()"
   ]
  },
  {
   "cell_type": "code",
   "execution_count": 1,
   "id": "2c61f27b",
   "metadata": {},
   "outputs": [
    {
     "ename": "NameError",
     "evalue": "name 'df' is not defined",
     "output_type": "error",
     "traceback": [
      "\u001b[0;31m---------------------------------------------------------------------------\u001b[0m",
      "\u001b[0;31mNameError\u001b[0m                                 Traceback (most recent call last)",
      "Cell \u001b[0;32mIn[1], line 1\u001b[0m\n\u001b[0;32m----> 1\u001b[0m \u001b[43mdf\u001b[49m\n",
      "\u001b[0;31mNameError\u001b[0m: name 'df' is not defined"
     ]
    }
   ],
   "source": [
    "df"
   ]
  },
  {
   "cell_type": "code",
   "execution_count": 36,
   "id": "04a9d734",
   "metadata": {},
   "outputs": [
    {
     "data": {
      "application/vnd.microsoft.datawrangler.viewer.v0+json": {
       "columns": [
        {
         "name": "index",
         "rawType": "int64",
         "type": "integer"
        },
        {
         "name": "translated_message",
         "rawType": "object",
         "type": "string"
        },
        {
         "name": "label",
         "rawType": "int64",
         "type": "integer"
        },
        {
         "name": "player",
         "rawType": "int64",
         "type": "integer"
        },
        {
         "name": "group_chat_id",
         "rawType": "int64",
         "type": "integer"
        }
       ],
       "ref": "747ab302-e748-410b-bdf0-52c7e289956b",
       "rows": [
        [
         "0",
         "\"report invoker\"",
         "0",
         "1",
         "0"
        ],
        [
         "1",
         "\"Feeding with the courier\"",
         "0",
         "1",
         "1"
        ],
        [
         "2",
         "\"+ threw mid\"",
         "0",
         "1",
         "2"
        ],
        [
         "3",
         "Easy mid",
         "0",
         "1",
         "3"
        ],
        [
         "4",
         "\"faggot\"",
         "0",
         "7",
         "4"
        ],
        [
         "5",
         "\"there's a monkey\"",
         "0",
         "3",
         "5"
        ],
        [
         "6",
         "\"Sniper, how do you like our mid player?\"",
         "0",
         "1",
         "6"
        ],
        [
         "7",
         "\"You're all corpses, guys\"",
         "0",
         "2",
         "7"
        ],
        [
         "8",
         "\"Not bad\"",
         "0",
         "9",
         "8"
        ],
        [
         "9",
         "lol",
         "0",
         "6",
         "9"
        ],
        [
         "10",
         "\"he saved himself once, if only there was another save tp\"",
         "0",
         "9",
         "10"
        ],
        [
         "11",
         "\"then it would be fine\"",
         "0",
         "9",
         "11"
        ],
        [
         "12",
         "\"he plays together with Tiny\"",
         "0",
         "1",
         "12"
        ],
        [
         "13",
         "\"two dumbasses\"",
         "1",
         "1",
         "13"
        ],
        [
         "14",
         "Hello Kratos",
         "0",
         "1",
         "0"
        ],
        [
         "15",
         "I hope you enjoy the game.",
         "0",
         "1",
         "1"
        ],
        [
         "16",
         "zzz",
         "0",
         "9",
         "2"
        ],
        [
         "17",
         "oh kratos",
         "0",
         "1",
         "3"
        ],
        [
         "18",
         "\"not in jungle?\"",
         "0",
         "1",
         "4"
        ],
        [
         "19",
         "HAHAHAHA",
         "0",
         "1",
         "5"
        ],
        [
         "20",
         "pure shit",
         "0",
         "1",
         "6"
        ],
        [
         "21",
         "\"what's wrong pussy\"",
         "1",
         "1",
         "7"
        ],
        [
         "22",
         "LOL",
         "0",
         "1",
         "8"
        ],
        [
         "23",
         "no team",
         "0",
         "9",
         "9"
        ],
        [
         "24",
         "lol",
         "0",
         "9",
         "10"
        ],
        [
         "25",
         "\"how does it feel Kratos fag\"",
         "1",
         "1",
         "11"
        ],
        [
         "26",
         "\"yeah jugg threw in our game too\"",
         "0",
         "1",
         "12"
        ],
        [
         "27",
         "\"we had him last game\"",
         "0",
         "1",
         "13"
        ],
        [
         "28",
         "\"he told us to suck a dick\"",
         "0",
         "1",
         "14"
        ],
        [
         "29",
         "\"but now he's sucking mine\"",
         "1",
         "1",
         "15"
        ],
        [
         "30",
         "\"I have no team, end this.\"",
         "0",
         "9",
         "16"
        ],
        [
         "31",
         "end",
         "0",
         "9",
         "17"
        ],
        [
         "32",
         "\"how does it feel, faggot\"",
         "1",
         "1",
         "18"
        ],
        [
         "33",
         "MISSILES!",
         "0",
         "9",
         "19"
        ],
        [
         "34",
         "end =)",
         "0",
         "9",
         "20"
        ],
        [
         "35",
         "missiles indeed",
         "0",
         "0",
         "21"
        ],
        [
         "36",
         "lol",
         "0",
         "9",
         "22"
        ],
        [
         "37",
         "\"gg tyu\"",
         "0",
         "3",
         "23"
        ],
        [
         "38",
         "gg",
         "0",
         "4",
         "24"
        ],
        [
         "39",
         "Thank you",
         "0",
         "0",
         "25"
        ],
        [
         "40",
         "enjoy your anal rimming",
         "1",
         "1",
         "26"
        ],
        [
         "41",
         "gg",
         "0",
         "0",
         "27"
        ],
        [
         "42",
         "commend",
         "0",
         "4",
         "28"
        ],
        [
         "43",
         "\"fucking faggot krratos\"",
         "1",
         "1",
         "29"
        ],
        [
         "44",
         "?",
         "0",
         "3",
         "0"
        ],
        [
         "45",
         "\"don't pause for nothing\"",
         "0",
         "3",
         "1"
        ],
        [
         "46",
         "\"discussing\"",
         "0",
         "8",
         "2"
        ],
        [
         "47",
         "\"tactical pause\"",
         "0",
         "5",
         "3"
        ],
        [
         "48",
         "kill",
         "0",
         "8",
         "4"
        ],
        [
         "49",
         "sorry",
         "0",
         "8",
         "5"
        ]
       ],
       "shape": {
        "columns": 4,
        "rows": 3459
       }
      },
      "text/html": [
       "<div>\n",
       "<style scoped>\n",
       "    .dataframe tbody tr th:only-of-type {\n",
       "        vertical-align: middle;\n",
       "    }\n",
       "\n",
       "    .dataframe tbody tr th {\n",
       "        vertical-align: top;\n",
       "    }\n",
       "\n",
       "    .dataframe thead th {\n",
       "        text-align: right;\n",
       "    }\n",
       "</style>\n",
       "<table border=\"1\" class=\"dataframe\">\n",
       "  <thead>\n",
       "    <tr style=\"text-align: right;\">\n",
       "      <th></th>\n",
       "      <th>translated_message</th>\n",
       "      <th>label</th>\n",
       "      <th>player</th>\n",
       "      <th>group_chat_id</th>\n",
       "    </tr>\n",
       "  </thead>\n",
       "  <tbody>\n",
       "    <tr>\n",
       "      <th>0</th>\n",
       "      <td>\"report invoker\"</td>\n",
       "      <td>0</td>\n",
       "      <td>1</td>\n",
       "      <td>0</td>\n",
       "    </tr>\n",
       "    <tr>\n",
       "      <th>1</th>\n",
       "      <td>\"Feeding with the courier\"</td>\n",
       "      <td>0</td>\n",
       "      <td>1</td>\n",
       "      <td>1</td>\n",
       "    </tr>\n",
       "    <tr>\n",
       "      <th>2</th>\n",
       "      <td>\"+ threw mid\"</td>\n",
       "      <td>0</td>\n",
       "      <td>1</td>\n",
       "      <td>2</td>\n",
       "    </tr>\n",
       "    <tr>\n",
       "      <th>3</th>\n",
       "      <td>Easy mid</td>\n",
       "      <td>0</td>\n",
       "      <td>1</td>\n",
       "      <td>3</td>\n",
       "    </tr>\n",
       "    <tr>\n",
       "      <th>4</th>\n",
       "      <td>\"faggot\"</td>\n",
       "      <td>0</td>\n",
       "      <td>7</td>\n",
       "      <td>4</td>\n",
       "    </tr>\n",
       "    <tr>\n",
       "      <th>...</th>\n",
       "      <td>...</td>\n",
       "      <td>...</td>\n",
       "      <td>...</td>\n",
       "      <td>...</td>\n",
       "    </tr>\n",
       "    <tr>\n",
       "      <th>3454</th>\n",
       "      <td>\"my Luna hits the one with leggings, now I see...</td>\n",
       "      <td>0</td>\n",
       "      <td>3</td>\n",
       "      <td>46</td>\n",
       "    </tr>\n",
       "    <tr>\n",
       "      <th>3455</th>\n",
       "      <td>GG</td>\n",
       "      <td>0</td>\n",
       "      <td>6</td>\n",
       "      <td>47</td>\n",
       "    </tr>\n",
       "    <tr>\n",
       "      <th>3456</th>\n",
       "      <td>\"my shadow doesn't know how to use ult\"</td>\n",
       "      <td>0</td>\n",
       "      <td>3</td>\n",
       "      <td>48</td>\n",
       "    </tr>\n",
       "    <tr>\n",
       "      <th>3457</th>\n",
       "      <td>GG</td>\n",
       "      <td>0</td>\n",
       "      <td>9</td>\n",
       "      <td>49</td>\n",
       "    </tr>\n",
       "    <tr>\n",
       "      <th>3458</th>\n",
       "      <td>GG REPORT SLARDAR</td>\n",
       "      <td>0</td>\n",
       "      <td>2</td>\n",
       "      <td>50</td>\n",
       "    </tr>\n",
       "  </tbody>\n",
       "</table>\n",
       "<p>3459 rows × 4 columns</p>\n",
       "</div>"
      ],
      "text/plain": [
       "                                     translated_message  label  player  \\\n",
       "0                                      \"report invoker\"      0       1   \n",
       "1                            \"Feeding with the courier\"      0       1   \n",
       "2                                         \"+ threw mid\"      0       1   \n",
       "3                                              Easy mid      0       1   \n",
       "4                                              \"faggot\"      0       7   \n",
       "...                                                 ...    ...     ...   \n",
       "3454  \"my Luna hits the one with leggings, now I see...      0       3   \n",
       "3455                                                 GG      0       6   \n",
       "3456            \"my shadow doesn't know how to use ult\"      0       3   \n",
       "3457                                                 GG      0       9   \n",
       "3458                                  GG REPORT SLARDAR      0       2   \n",
       "\n",
       "      group_chat_id  \n",
       "0                 0  \n",
       "1                 1  \n",
       "2                 2  \n",
       "3                 3  \n",
       "4                 4  \n",
       "...             ...  \n",
       "3454             46  \n",
       "3455             47  \n",
       "3456             48  \n",
       "3457             49  \n",
       "3458             50  \n",
       "\n",
       "[3459 rows x 4 columns]"
      ]
     },
     "execution_count": 36,
     "metadata": {},
     "output_type": "execute_result"
    }
   ],
   "source": [
    "df[['translated_message', 'label', 'player', 'group_chat_id']]"
   ]
  },
  {
   "cell_type": "markdown",
   "id": "f986cd72",
   "metadata": {},
   "source": [
    "# **Model For Just Text and Label**"
   ]
  },
  {
   "cell_type": "code",
   "execution_count": 39,
   "id": "a66ab118",
   "metadata": {},
   "outputs": [],
   "source": [
    "X_train, X_test, y_train, y_test = train_test_split(df[['translated_message']], df[['label']], test_size=0.3)"
   ]
  },
  {
   "cell_type": "code",
   "execution_count": 44,
   "id": "16fd7574",
   "metadata": {},
   "outputs": [],
   "source": [
    "X_train = np.array(sentence_transformer.encode(X_train['translated_message'].to_list()))\n",
    "X_test = np.array(sentence_transformer.encode(X_test['translated_message'].to_list()))"
   ]
  },
  {
   "cell_type": "code",
   "execution_count": 48,
   "id": "112aaf74",
   "metadata": {},
   "outputs": [
    {
     "name": "stderr",
     "output_type": "stream",
     "text": [
      "/Users/pranitgunjal/Library/Python/3.9/lib/python/site-packages/sklearn/utils/validation.py:1408: DataConversionWarning: A column-vector y was passed when a 1d array was expected. Please change the shape of y to (n_samples, ), for example using ravel().\n",
      "  y = column_or_1d(y, warn=True)\n"
     ]
    },
    {
     "name": "stdout",
     "output_type": "stream",
     "text": [
      "Train acc: 0.9653035935563816\n",
      "Test acc: 0.9653179190751445\n"
     ]
    }
   ],
   "source": [
    "model = svm.SVC(kernel='linear', probability=True)\n",
    "model.fit(X_train, y_train)\n",
    "\n",
    "y_pred = model.predict(X_train)\n",
    "train_acc = accuracy_score(y_pred, y_train)\n",
    "print(f'Train acc: {train_acc}')\n",
    "\n",
    "y_pred = model.predict(X_test)\n",
    "test_acc = accuracy_score(y_pred, y_test)\n",
    "print(f'Test acc: {test_acc}')"
   ]
  },
  {
   "cell_type": "code",
   "execution_count": 49,
   "id": "209fc321",
   "metadata": {},
   "outputs": [
    {
     "name": "stdout",
     "output_type": "stream",
     "text": [
      "1.0\n",
      "0.1\n"
     ]
    }
   ],
   "source": [
    "print(precision_score(y_test, y_pred))\n",
    "print(recall_score(y_test, y_pred))"
   ]
  },
  {
   "cell_type": "code",
   "execution_count": 50,
   "id": "aee4fa1a",
   "metadata": {},
   "outputs": [
    {
     "name": "stdout",
     "output_type": "stream",
     "text": [
      "0.8583041082164329\n"
     ]
    }
   ],
   "source": [
    "y_prob = model.predict_proba(X_test)[:, 1]\n",
    "print(roc_auc_score(y_test, y_prob))"
   ]
  },
  {
   "cell_type": "markdown",
   "id": "4d77fa47",
   "metadata": {},
   "source": [
    "# **Model w/ Match-Chat-ID**"
   ]
  },
  {
   "cell_type": "code",
   "execution_count": 51,
   "id": "25c84d0f",
   "metadata": {},
   "outputs": [
    {
     "data": {
      "text/plain": [
       "array([ 0,  1,  2, ..., 48, 49, 50])"
      ]
     },
     "execution_count": 51,
     "metadata": {},
     "output_type": "execute_result"
    }
   ],
   "source": [
    "np.array(df['group_chat_id'])"
   ]
  },
  {
   "cell_type": "code",
   "execution_count": 52,
   "id": "69408fbb",
   "metadata": {},
   "outputs": [],
   "source": [
    "X_train, X_test, y_train, y_test = train_test_split(df[['translated_message', 'group_chat_id']], df['label'], test_size=0.3)"
   ]
  },
  {
   "cell_type": "markdown",
   "id": "e76d719e",
   "metadata": {},
   "source": []
  },
  {
   "cell_type": "markdown",
   "id": "e6265640",
   "metadata": {},
   "source": []
  },
  {
   "cell_type": "code",
   "execution_count": 55,
   "id": "e432955b",
   "metadata": {},
   "outputs": [],
   "source": [
    "train_messages = np.array(sentence_transformer.encode(X_train['translated_message'].to_list()))"
   ]
  },
  {
   "cell_type": "code",
   "execution_count": 65,
   "id": "3ae4d118",
   "metadata": {},
   "outputs": [],
   "source": [
    "test_messages = np.array(sentence_transformer.encode(X_test['translated_message'].to_list()))"
   ]
  },
  {
   "cell_type": "code",
   "execution_count": 66,
   "id": "6782308e",
   "metadata": {},
   "outputs": [],
   "source": [
    "X_train = np.concatenate((train_messages, np.array(X_train['group_chat_id']).reshape(-1, 1)), axis=1)\n",
    "X_test = np.concatenate((test_messages, np.array(X_test['group_chat_id']).reshape(-1, 1)), axis=1)"
   ]
  },
  {
   "cell_type": "code",
   "execution_count": 67,
   "id": "158a8158",
   "metadata": {},
   "outputs": [
    {
     "name": "stdout",
     "output_type": "stream",
     "text": [
      "Train acc: 0.9644774886410574\n",
      "Test acc: 0.9682080924855492\n"
     ]
    }
   ],
   "source": [
    "model = svm.SVC(kernel='linear', probability=True)\n",
    "model.fit(X_train, y_train)\n",
    "\n",
    "y_pred = model.predict(X_train)\n",
    "train_acc = accuracy_score(y_pred, y_train)\n",
    "print(f'Train acc: {train_acc}')\n",
    "\n",
    "y_pred = model.predict(X_test)\n",
    "test_acc = accuracy_score(y_pred, y_test)\n",
    "print(f'Test acc: {test_acc}')"
   ]
  },
  {
   "cell_type": "code",
   "execution_count": 68,
   "id": "2633e33e",
   "metadata": {},
   "outputs": [
    {
     "name": "stdout",
     "output_type": "stream",
     "text": [
      "0.8333333333333334\n",
      "0.13513513513513514\n"
     ]
    }
   ],
   "source": [
    "print(precision_score(y_test, y_pred))\n",
    "print(recall_score(y_test, y_pred))"
   ]
  },
  {
   "cell_type": "code",
   "execution_count": 69,
   "id": "17d782d0",
   "metadata": {},
   "outputs": [
    {
     "name": "stdout",
     "output_type": "stream",
     "text": [
      "0.8810108810108811\n"
     ]
    }
   ],
   "source": [
    "y_prob = model.predict_proba(X_test)[:, 1]\n",
    "print(roc_auc_score(y_test, y_prob))"
   ]
  },
  {
   "cell_type": "markdown",
   "id": "d662bf2c",
   "metadata": {},
   "source": [
    "# **Wasserstein**"
   ]
  },
  {
   "cell_type": "code",
   "execution_count": 5,
   "id": "1305c64a",
   "metadata": {},
   "outputs": [],
   "source": [
    "import numpy as np\n",
    "import ot\n",
    "\n",
    "def wasserstein(X, Y):\n",
    "    \n",
    "    a = np.ones((X.shape[0],)) / X.shape[0]\n",
    "    b = np.ones((Y.shape[0],)) / Y.shape[0]\n",
    "\n",
    "    M = ot.dist(X, Y)\n",
    "    M /= M.max()\n",
    "\n",
    "    return ot.emd2(a, b, M)"
   ]
  },
  {
   "cell_type": "code",
   "execution_count": 4,
   "id": "60287415",
   "metadata": {},
   "outputs": [
    {
     "name": "stdout",
     "output_type": "stream",
     "text": [
      "Defaulting to user installation because normal site-packages is not writeable\n",
      "\u001b[33mWARNING: Ignoring invalid distribution -andas (/Users/pranitgunjal/Library/Python/3.9/lib/python/site-packages)\u001b[0m\n",
      "\u001b[33mWARNING: Ignoring invalid distribution -andas (/Users/pranitgunjal/Library/Python/3.9/lib/python/site-packages)\u001b[0m\n",
      "Collecting POT\n",
      "  Downloading POT-0.9.5-cp39-cp39-macosx_11_0_arm64.whl (344 kB)\n",
      "\u001b[K     |████████████████████████████████| 344 kB 8.8 MB/s eta 0:00:01\n",
      "\u001b[?25hRequirement already satisfied: scipy>=1.6 in /Users/pranitgunjal/Library/Python/3.9/lib/python/site-packages (from POT) (1.13.1)\n",
      "Requirement already satisfied: numpy>=1.16 in /Users/pranitgunjal/Library/Python/3.9/lib/python/site-packages (from POT) (1.26.4)\n",
      "\u001b[33mWARNING: Ignoring invalid distribution -andas (/Users/pranitgunjal/Library/Python/3.9/lib/python/site-packages)\u001b[0m\n",
      "Installing collected packages: POT\n",
      "\u001b[33mWARNING: Ignoring invalid distribution -andas (/Users/pranitgunjal/Library/Python/3.9/lib/python/site-packages)\u001b[0m\n",
      "Successfully installed POT-0.9.5\n",
      "\u001b[33mWARNING: Ignoring invalid distribution -andas (/Users/pranitgunjal/Library/Python/3.9/lib/python/site-packages)\u001b[0m\n",
      "\u001b[33mWARNING: Ignoring invalid distribution -andas (/Users/pranitgunjal/Library/Python/3.9/lib/python/site-packages)\u001b[0m\n",
      "\u001b[33mWARNING: Ignoring invalid distribution -andas (/Users/pranitgunjal/Library/Python/3.9/lib/python/site-packages)\u001b[0m\n",
      "\u001b[33mWARNING: You are using pip version 21.2.4; however, version 25.1.1 is available.\n",
      "You should consider upgrading via the '/Library/Developer/CommandLineTools/usr/bin/python3 -m pip install --upgrade pip' command.\u001b[0m\n"
     ]
    }
   ],
   "source": [
    "wasserstein()"
   ]
  }
 ],
 "metadata": {
  "kernelspec": {
   "display_name": "Python 3",
   "language": "python",
   "name": "python3"
  },
  "language_info": {
   "codemirror_mode": {
    "name": "ipython",
    "version": 3
   },
   "file_extension": ".py",
   "mimetype": "text/x-python",
   "name": "python",
   "nbconvert_exporter": "python",
   "pygments_lexer": "ipython3",
   "version": "3.9.6"
  }
 },
 "nbformat": 4,
 "nbformat_minor": 5
}
