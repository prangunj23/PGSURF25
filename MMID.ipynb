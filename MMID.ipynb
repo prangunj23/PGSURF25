{
 "cells": [
  {
   "cell_type": "code",
   "execution_count": 1,
   "id": "7350ed5e",
   "metadata": {},
   "outputs": [
    {
     "name": "stderr",
     "output_type": "stream",
     "text": [
      "/Users/pranitgunjal/Library/Python/3.9/lib/python/site-packages/urllib3/__init__.py:35: NotOpenSSLWarning: urllib3 v2 only supports OpenSSL 1.1.1+, currently the 'ssl' module is compiled with 'LibreSSL 2.8.3'. See: https://github.com/urllib3/urllib3/issues/3020\n",
      "  warnings.warn(\n"
     ]
    }
   ],
   "source": [
    "import torch\n",
    "import pandas as pd\n",
    "from sentence_transformers import SentenceTransformer\n",
    "import numpy as np\n",
    "import matplotlib.pyplot as plt"
   ]
  },
  {
   "cell_type": "code",
   "execution_count": 37,
   "id": "91d5162a",
   "metadata": {},
   "outputs": [],
   "source": [
    "sentence_transformer = SentenceTransformer('all-mpnet-base-v2')"
   ]
  },
  {
   "cell_type": "markdown",
   "id": "dc9821f7",
   "metadata": {},
   "source": [
    "- Add Train-Test Split\n",
    "- Use privacy protection (keyword extraction based generations)\n",
    "- 2 Player Simulated Data\n",
    "- Game Events Simulation"
   ]
  },
  {
   "cell_type": "code",
   "execution_count": 38,
   "id": "61d8823e",
   "metadata": {},
   "outputs": [],
   "source": [
    "def MMD(X, Y, kernel=\"rbf\", device=None):\n",
    "    \"\"\"\n",
    "    Compute the empirical Maximum Mean Discrepancy (MMD) between two samples X and Y.\n",
    "\n",
    "    Args:\n",
    "        X (torch.Tensor): Samples from distribution P, shape (n, m)\n",
    "        Y (torch.Tensor): Samples from distribution Q, shape (l, m)\n",
    "        kernel (str): Kernel type, \"rbf\" or \"multiscale\"\n",
    "        device (torch.device or None): Device to run on (e.g., torch.device(\"cuda\"))\n",
    "    \n",
    "    Returns:\n",
    "        torch.Tensor: Scalar MMD distance between the two distributions.\n",
    "    \"\"\"\n",
    "    if device is None:\n",
    "        device = X.device\n",
    "\n",
    "    X = X.to(device)\n",
    "    Y = Y.to(device)\n",
    "\n",
    "    n = X.size(0)\n",
    "    l = Y.size(0)\n",
    "\n",
    "    # Compute squared Euclidean distances\n",
    "    XX_dist = torch.cdist(X, X, p=2).pow(2)  # (n, n)\n",
    "    YY_dist = torch.cdist(Y, Y, p=2).pow(2)  # (l, l)\n",
    "    XY_dist = torch.cdist(X, Y, p=2).pow(2)  # (n, l)\n",
    "\n",
    "    # Initialize kernels\n",
    "    if kernel == \"rbf\":\n",
    "        bandwidths = [10, 15, 20, 50]\n",
    "        def compute_kernel(dists):\n",
    "            K = 0\n",
    "            for a in bandwidths:\n",
    "                K += torch.exp(-0.5 * dists / a)\n",
    "            return K\n",
    "\n",
    "    elif kernel == \"multiscale\":\n",
    "        bandwidths = [0.2, 0.5, 0.9, 1.3]\n",
    "        def compute_kernel(dists):\n",
    "            K = 0\n",
    "            for a in bandwidths:\n",
    "                K += (a**2) / (a**2 + dists)\n",
    "            return K\n",
    "\n",
    "    else:\n",
    "        raise ValueError(\"Unknown kernel. Use 'rbf' or 'multiscale'.\")\n",
    "\n",
    "    # Apply kernel\n",
    "    K_xx = compute_kernel(XX_dist)\n",
    "    K_yy = compute_kernel(YY_dist)\n",
    "    K_xy = compute_kernel(XY_dist)\n",
    "\n",
    "    # MMD estimate\n",
    "    mmd = K_xx.mean() + K_yy.mean() - 2 * K_xy.mean()\n",
    "    return mmd\n"
   ]
  },
  {
   "cell_type": "code",
   "execution_count": 108,
   "id": "6f9b3aff",
   "metadata": {},
   "outputs": [],
   "source": [
    "# device = torch.device(\"cuda\" if torch.cuda.is_available() else \"cpu\")\n",
    "\n",
    "# def MMD(x, y, kernel):\n",
    "#     \"\"\"Emprical maximum mean discrepancy. The lower the result\n",
    "#        the more evidence that distributions are the same.\n",
    "\n",
    "#     Args:\n",
    "#         x: first sample, distribution P\n",
    "#         y: second sample, distribution Q\n",
    "#         kernel: kernel type such as \"multiscale\" or \"rbf\"\n",
    "#     \"\"\"\n",
    "#     xx, yy, zz = torch.mm(x, x.t()), torch.mm(y, y.t()), torch.mm(x, y.t())\n",
    "#     rx = (x.pow(2).sum(1)).unsqueeze(1)  \n",
    "#     ry = (y.pow(2).sum(1)).unsqueeze(0)  \n",
    "\n",
    "#     dxx = rx + rx.t() - 2 * torch.mm(x, x.t())   \n",
    "#     dyy = ry.t() + ry - 2 * torch.mm(y, y.t())  \n",
    "#     dxy = rx + ry - 2 * torch.mm(x, y.t())       \n",
    "    \n",
    "#     XX, YY, XY = (torch.zeros_like(dxx).to(device),\n",
    "#                   torch.zeros_like(dyy).to(device),\n",
    "#                   torch.zeros_like(dxy).to(device))\n",
    "    \n",
    "#     if kernel == \"multiscale\":\n",
    "        \n",
    "#         bandwidth_range = [0.2, 0.5, 0.9, 1.3]\n",
    "#         for a in bandwidth_range:\n",
    "#             XX += a**2 * (a**2 + dxx)**-1\n",
    "#             YY += a**2 * (a**2 + dyy)**-1\n",
    "#             XY += a**2 * (a**2 + dxy)**-1\n",
    "            \n",
    "#     if kernel == \"rbf\":\n",
    "      \n",
    "#         bandwidth_range = [10, 15, 20, 50]\n",
    "#         for a in bandwidth_range:\n",
    "#             XX += torch.exp(-0.5*dxx/a)\n",
    "#             YY += torch.exp(-0.5*dyy/a)\n",
    "#             XY += torch.exp(-0.5*dxy/a)\n",
    "      \n",
    "      \n",
    "\n",
    "#     return torch.mean(XX + YY - 2. * XY)"
   ]
  },
  {
   "cell_type": "code",
   "execution_count": 2,
   "id": "f6a3cbca",
   "metadata": {},
   "outputs": [
    {
     "data": {
      "application/vnd.microsoft.datawrangler.viewer.v0+json": {
       "columns": [
        {
         "name": "index",
         "rawType": "int64",
         "type": "integer"
        },
        {
         "name": "match_id",
         "rawType": "int64",
         "type": "integer"
        },
        {
         "name": "player_name",
         "rawType": "object",
         "type": "string"
        },
        {
         "name": "player_chat",
         "rawType": "object",
         "type": "string"
        },
        {
         "name": "action",
         "rawType": "object",
         "type": "string"
        }
       ],
       "ref": "e43bc323-b3a4-444d-a489-8ac338f73927",
       "rows": [
        [
         "0",
         "22398",
         "JCamz",
         "nice lighting bolt zeus. report all of you. clock*",
         "NOT-PROSOCIAL"
        ],
        [
         "1",
         "26872",
         "zua halucynka.",
         "ty",
         "PROSOCIAL"
        ],
        [
         "2",
         "24083",
         "cnywad",
         "ggwp",
         "PROSOCIAL"
        ],
        [
         "3",
         "47512",
         "StartWithA.BANG",
         "LOL . Ez",
         "NOT-PROSOCIAL"
        ],
        [
         "4",
         "22039",
         "Sol'ka",
         "sry. ggwp",
         "PROSOCIAL"
        ],
        [
         "5",
         "20244",
         "PiKaChu \"no freinds\"",
         "u guys are good but im pro",
         "UNCLEAR"
        ],
        [
         "6",
         "38201",
         "3,5",
         "idiot",
         "NOT-PROSOCIAL"
        ],
        [
         "7",
         "9987",
         "[BnT]Nightmare",
         "hahah. LOL. funny shit. i can say. wtf is bkb. hahah. you frst",
         "UNCLEAR"
        ],
        [
         "8",
         "25020",
         "ℕﯤﺖﮢﯔﭫﮱ | eyestri",
         "xDDDDD. rly?. gege. lol. throne attacked. idiots. xD",
         "NOT-PROSOCIAL"
        ],
        [
         "9",
         "15818",
         "ChubbyBunny<3",
         "reconnecting. awts. zzz. if you are pro then wait . play fairly. life is unfair when evil exist :. :p. reconnecting. you'll regret",
         "UNCLEAR"
        ],
        [
         "10",
         "32322",
         "\"Rocio\" ツ",
         "eyy juger. no salis de ahy so mierdas",
         "NOT-PROSOCIAL"
        ],
        [
         "11",
         "35029",
         "Tylos",
         "ty. i will reset my pc. why",
         "UNCLEAR"
        ],
        [
         "12",
         "7491",
         "4K Só TEM NOOB",
         "end. end. cry. ganho mais. chora. legal. passa o dia jogando isso. parabens. ganhou oq com isso. nuub",
         "NOT-PROSOCIAL"
        ],
        [
         "13",
         "11934",
         "Crio_J 진마왕",
         "2 vs 8 XD. said. 1 13 . 4 12. XDDDD",
         "UNCLEAR"
        ],
        [
         "14",
         "48157",
         "Arnold Twerkzenegger",
         "ggwp",
         "PROSOCIAL"
        ],
        [
         "15",
         "35515",
         "ShTfearless",
         "pls. report doom. moron and brainless. and little girl",
         "NOT-PROSOCIAL"
        ],
        [
         "16",
         "46343",
         "dani",
         "whats happenin playa. rekt",
         "NOT-PROSOCIAL"
        ],
        [
         "17",
         "36470",
         "Killer",
         "alxim report plz. gg. nice alximik we have. its not real to win. skazali suka mantu i gorelku soberi. on daun. report alximu plz. repot alximika",
         "NOT-PROSOCIAL"
        ],
        [
         "18",
         "48905",
         "noogman",
         "no?. had almost full mana?. timber carry imba. no hex. just ff report timber",
         "NOT-PROSOCIAL"
        ],
        [
         "19",
         "18893",
         "LunCai",
         "gg. idioy zeus",
         "NOT-PROSOCIAL"
        ],
        [
         "20",
         "43047",
         "suckmeoff",
         "fuck off mate. BAAHAHA. yeah i know. thought he was gonna take it. dat tower range. why arnt you farming am. AHAHAHAH. fuck you zues. WWEEEEEEEL. >>>>>>>. FUCCCCCCK. FUCKKKK. WTF. RACKKKKKKS. GG BOYS. YEAASASSS. GG. FUCKING GG",
         "NOT-PROSOCIAL"
        ],
        [
         "21",
         "39370",
         "Denis♡",
         "imba. no no no. not ez. gg. hard line wisp and husk. nice",
         "PROSOCIAL"
        ],
        [
         "22",
         "33923",
         "Nil",
         "well you guys are obviously a stack. well there might be a booster shit among you. gg try hard booster shit ",
         "NOT-PROSOCIAL"
        ],
        [
         "23",
         "47440",
         "Kal_3L",
         "GO ROSH. oooops. YOU ARE A THOUGH GUY. HUH?. true. Cya in fight. nigga. only. TY. gg. leave. you cant win against 9k invoker. STONEHARDER. though now?. HE IS NOT AFK. O.o",
         "NOT-PROSOCIAL"
        ],
        [
         "24",
         "28834",
         "KoiL",
         "space created. ?. esperen hdps'. :D",
         "UNCLEAR"
        ],
        [
         "25",
         "27413",
         "baKKhus",
         "gg",
         "PROSOCIAL"
        ],
        [
         "26",
         "23845",
         "Zyhm",
         "gg",
         "PROSOCIAL"
        ],
        [
         "27",
         "486",
         "NB",
         "NOOOOOOOOOOOOO. omg sir hard game. :L",
         "UNCLEAR"
        ],
        [
         "28",
         "22722",
         "Je'W.Danny Dorito",
         "gg. fuck your icy tits. lina is my whore. haha . 2 fast 4 you icy tits. gg",
         "NOT-PROSOCIAL"
        ],
        [
         "29",
         "12100",
         "Mr.Realguy",
         "english?. double penetration",
         "NOT-PROSOCIAL"
        ],
        [
         "30",
         "23756",
         "Bewbarmak",
         "gg",
         "PROSOCIAL"
        ],
        [
         "31",
         "15312",
         "AC3",
         "funniest team chat ever",
         "UNCLEAR"
        ],
        [
         "32",
         "12420",
         "GG.Green Tea",
         "ez. iam lae. ez",
         "NOT-PROSOCIAL"
        ],
        [
         "33",
         "5880",
         "smurfing 4k acc",
         "why idk. nice wr. omg. stop. wr pls. mercy. im sure can i carrie this shit. roflmaoe. classci. absoutly. u won top. wp we. wr",
         "UNCLEAR"
        ],
        [
         "34",
         "49930",
         "Cptn.Canuck",
         "ggwp",
         "PROSOCIAL"
        ],
        [
         "35",
         "674",
         "avskz",
         "gg. push it in bebe",
         "PROSOCIAL"
        ],
        [
         "36",
         "7577",
         "bjchu92",
         "?. wut",
         "UNCLEAR"
        ],
        [
         "37",
         "47102",
         "fiera",
         ":P. .i.. REPORT SLARK . PLEASE. 4-10",
         "NOT-PROSOCIAL"
        ],
        [
         "38",
         "25854",
         "MMR IS REAL LIFE",
         "ez. :d. oups. gg",
         "UNCLEAR"
        ],
        [
         "39",
         "49490",
         "Kun.",
         "that cri",
         "UNCLEAR"
        ],
        [
         "40",
         "43827",
         "GOKIL",
         "?. Gg",
         "PROSOCIAL"
        ],
        [
         "41",
         "43762",
         "panicman",
         "space create..... d",
         "UNCLEAR"
        ],
        [
         "42",
         "37657",
         "nightfury",
         "GG. haha",
         "PROSOCIAL"
        ],
        [
         "43",
         "32120",
         "GG.MADAfaka",
         "ty",
         "PROSOCIAL"
        ],
        [
         "44",
         "38149",
         "rVn",
         "how long?. .... g?",
         "UNCLEAR"
        ],
        [
         "45",
         "12544",
         "Aurora",
         "dang. dang. 1 reconnected 1 disconnected. are you he-man ?. no. get rid of qop. NO. WAY. i go get breakfast. anyone wanna join /. DANTIT",
         "UNCLEAR"
        ],
        [
         "46",
         "46364",
         "Farbror Björn",
         "U2 friend. ?",
         "UNCLEAR"
        ],
        [
         "47",
         "22787",
         "dondo",
         "gg",
         "PROSOCIAL"
        ],
        [
         "48",
         "46200",
         "midgate",
         "can u rpeort this jugg guys?. well u got this. 4v5. isnt a match. LOL. 20 creeps and he ulti. FOR FUCK SAKE REPORT THSI NOOB. nice rat game. ez to do with this 'carry'. u suck . what there is to explain. u fucked our game. u think?. 1k mmr jugg. ur a nobody",
         "NOT-PROSOCIAL"
        ],
        [
         "49",
         "28403",
         "Kingslayer",
         "report please. bg",
         "UNCLEAR"
        ]
       ],
       "shape": {
        "columns": 4,
        "rows": 5000
       }
      },
      "text/html": [
       "<div>\n",
       "<style scoped>\n",
       "    .dataframe tbody tr th:only-of-type {\n",
       "        vertical-align: middle;\n",
       "    }\n",
       "\n",
       "    .dataframe tbody tr th {\n",
       "        vertical-align: top;\n",
       "    }\n",
       "\n",
       "    .dataframe thead th {\n",
       "        text-align: right;\n",
       "    }\n",
       "</style>\n",
       "<table border=\"1\" class=\"dataframe\">\n",
       "  <thead>\n",
       "    <tr style=\"text-align: right;\">\n",
       "      <th></th>\n",
       "      <th>match_id</th>\n",
       "      <th>player_name</th>\n",
       "      <th>player_chat</th>\n",
       "      <th>action</th>\n",
       "    </tr>\n",
       "  </thead>\n",
       "  <tbody>\n",
       "    <tr>\n",
       "      <th>0</th>\n",
       "      <td>22398</td>\n",
       "      <td>JCamz</td>\n",
       "      <td>nice lighting bolt zeus. report all of you. cl...</td>\n",
       "      <td>NOT-PROSOCIAL</td>\n",
       "    </tr>\n",
       "    <tr>\n",
       "      <th>1</th>\n",
       "      <td>26872</td>\n",
       "      <td>zua halucynka.</td>\n",
       "      <td>ty</td>\n",
       "      <td>PROSOCIAL</td>\n",
       "    </tr>\n",
       "    <tr>\n",
       "      <th>2</th>\n",
       "      <td>24083</td>\n",
       "      <td>cnywad</td>\n",
       "      <td>ggwp</td>\n",
       "      <td>PROSOCIAL</td>\n",
       "    </tr>\n",
       "    <tr>\n",
       "      <th>3</th>\n",
       "      <td>47512</td>\n",
       "      <td>StartWithA.BANG</td>\n",
       "      <td>LOL . Ez</td>\n",
       "      <td>NOT-PROSOCIAL</td>\n",
       "    </tr>\n",
       "    <tr>\n",
       "      <th>4</th>\n",
       "      <td>22039</td>\n",
       "      <td>Sol'ka</td>\n",
       "      <td>sry. ggwp</td>\n",
       "      <td>PROSOCIAL</td>\n",
       "    </tr>\n",
       "    <tr>\n",
       "      <th>...</th>\n",
       "      <td>...</td>\n",
       "      <td>...</td>\n",
       "      <td>...</td>\n",
       "      <td>...</td>\n",
       "    </tr>\n",
       "    <tr>\n",
       "      <th>4995</th>\n",
       "      <td>18647</td>\n",
       "      <td>Phantasm</td>\n",
       "      <td>yea. line problem?. valve?. fuck this</td>\n",
       "      <td>NOT-PROSOCIAL</td>\n",
       "    </tr>\n",
       "    <tr>\n",
       "      <th>4996</th>\n",
       "      <td>37574</td>\n",
       "      <td>1of3</td>\n",
       "      <td>gl hf. I'm not exe still nice to meet you. gg wp</td>\n",
       "      <td>PROSOCIAL</td>\n",
       "    </tr>\n",
       "    <tr>\n",
       "      <th>4997</th>\n",
       "      <td>28742</td>\n",
       "      <td>PookieMarkCow</td>\n",
       "      <td>pls respond. in any kind. including insult. cr...</td>\n",
       "      <td>UNCLEAR</td>\n",
       "    </tr>\n",
       "    <tr>\n",
       "      <th>4998</th>\n",
       "      <td>28276</td>\n",
       "      <td>Madara</td>\n",
       "      <td>np. FF. afk</td>\n",
       "      <td>NOT-PROSOCIAL</td>\n",
       "    </tr>\n",
       "    <tr>\n",
       "      <th>4999</th>\n",
       "      <td>38572</td>\n",
       "      <td>dickhead</td>\n",
       "      <td>ggwp commend my team</td>\n",
       "      <td>PROSOCIAL</td>\n",
       "    </tr>\n",
       "  </tbody>\n",
       "</table>\n",
       "<p>5000 rows × 4 columns</p>\n",
       "</div>"
      ],
      "text/plain": [
       "      match_id      player_name  \\\n",
       "0        22398            JCamz   \n",
       "1        26872   zua halucynka.   \n",
       "2        24083           cnywad   \n",
       "3        47512  StartWithA.BANG   \n",
       "4        22039           Sol'ka   \n",
       "...        ...              ...   \n",
       "4995     18647         Phantasm   \n",
       "4996     37574             1of3   \n",
       "4997     28742    PookieMarkCow   \n",
       "4998     28276           Madara   \n",
       "4999     38572         dickhead   \n",
       "\n",
       "                                            player_chat         action  \n",
       "0     nice lighting bolt zeus. report all of you. cl...  NOT-PROSOCIAL  \n",
       "1                                                    ty      PROSOCIAL  \n",
       "2                                                  ggwp      PROSOCIAL  \n",
       "3                                              LOL . Ez  NOT-PROSOCIAL  \n",
       "4                                             sry. ggwp      PROSOCIAL  \n",
       "...                                                 ...            ...  \n",
       "4995              yea. line problem?. valve?. fuck this  NOT-PROSOCIAL  \n",
       "4996   gl hf. I'm not exe still nice to meet you. gg wp      PROSOCIAL  \n",
       "4997  pls respond. in any kind. including insult. cr...        UNCLEAR  \n",
       "4998                                        np. FF. afk  NOT-PROSOCIAL  \n",
       "4999                               ggwp commend my team      PROSOCIAL  \n",
       "\n",
       "[5000 rows x 4 columns]"
      ]
     },
     "execution_count": 2,
     "metadata": {},
     "output_type": "execute_result"
    }
   ],
   "source": [
    "df = pd.read_csv('../CODsurf/cmb_prosocial_labeled.csv')\n",
    "player_chats = df['player_chat']\n",
    "df"
   ]
  },
  {
   "cell_type": "code",
   "execution_count": 25,
   "id": "51d9ca4e",
   "metadata": {},
   "outputs": [
    {
     "name": "stdout",
     "output_type": "stream",
     "text": [
      "(). afk. nesite. naxui. yasno. afk. idi naxui. kuda vi po 1 . eblani]\\. gem u invoka. gem. u voka. da nesite uje. zaebali. no def. zaebalo. defatb. mid fastom\n",
      "\n",
      "+5\n",
      "\n",
      "GG. bobo miri\n",
      "\n",
      "look at my team. all 0 kills. so rubbish sia. ikr\n",
      "\n",
      "solo farm top\n"
     ]
    }
   ],
   "source": [
    "print(\"\\n\\n\".join(df['player_chat'].sample(n=5).to_list()))"
   ]
  },
  {
   "cell_type": "markdown",
   "id": "cda59867",
   "metadata": {},
   "source": [
    "# **Getting Distribution of Chat Lengths**"
   ]
  },
  {
   "cell_type": "code",
   "execution_count": 40,
   "id": "3567e8ce",
   "metadata": {},
   "outputs": [
    {
     "data": {
      "image/png": "[encoded data removed]",
      "text/plain": [
       "<Figure size 640x480 with 1 Axes>"
      ]
     },
     "metadata": {},
     "output_type": "display_data"
    }
   ],
   "source": [
    "chat_lengths = df['player_chat'].str.len()\n",
    "plt.hist(chat_lengths, bins=7, color='skyblue', edgecolor='black')\n",
    "plt.show()"
   ]
  },
  {
   "cell_type": "code",
   "execution_count": 111,
   "id": "58e33cad",
   "metadata": {},
   "outputs": [
    {
     "data": {
      "application/vnd.microsoft.datawrangler.viewer.v0+json": {
       "columns": [
        {
         "name": "index",
         "rawType": "int64",
         "type": "integer"
        },
        {
         "name": "player_chat",
         "rawType": "object",
         "type": "string"
        }
       ],
       "ref": "5a847c5f-cc29-431c-b949-d245ab747363",
       "rows": [
        [
         "0",
         "nice lighting bolt zeus. report all of you. clock*"
        ],
        [
         "1",
         "ty"
        ],
        [
         "2",
         "ggwp"
        ],
        [
         "3",
         "LOL . Ez"
        ],
        [
         "4",
         "sry. ggwp"
        ],
        [
         "5",
         "u guys are good but im pro"
        ],
        [
         "6",
         "idiot"
        ],
        [
         "7",
         "hahah. LOL. funny shit. i can say. wtf is bkb. hahah. you frst"
        ],
        [
         "8",
         "xDDDDD. rly?. gege. lol. throne attacked. idiots. xD"
        ],
        [
         "9",
         "reconnecting. awts. zzz. if you are pro then wait . play fairly. life is unfair when evil exist :. :p. reconnecting. you'll regret"
        ],
        [
         "10",
         "eyy juger. no salis de ahy so mierdas"
        ],
        [
         "11",
         "ty. i will reset my pc. why"
        ],
        [
         "12",
         "end. end. cry. ganho mais. chora. legal. passa o dia jogando isso. parabens. ganhou oq com isso. nuub"
        ],
        [
         "13",
         "2 vs 8 XD. said. 1 13 . 4 12. XDDDD"
        ],
        [
         "14",
         "ggwp"
        ],
        [
         "15",
         "pls. report doom. moron and brainless. and little girl"
        ],
        [
         "16",
         "whats happenin playa. rekt"
        ],
        [
         "17",
         "alxim report plz. gg. nice alximik we have. its not real to win. skazali suka mantu i gorelku soberi. on daun. report alximu plz. repot alximika"
        ],
        [
         "18",
         "no?. had almost full mana?. timber carry imba. no hex. just ff report timber"
        ],
        [
         "19",
         "gg. idioy zeus"
        ],
        [
         "20",
         "fuck off mate. BAAHAHA. yeah i know. thought he was gonna take it. dat tower range. why arnt you farming am. AHAHAHAH. fuck you zues. WWEEEEEEEL. >>>>>>>. FUCCCCCCK. FUCKKKK. WTF. RACKKKKKKS. GG BOYS. YEAASASSS. GG. FUCKING GG"
        ],
        [
         "21",
         "imba. no no no. not ez. gg. hard line wisp and husk. nice"
        ],
        [
         "22",
         "well you guys are obviously a stack. well there might be a booster shit among you. gg try hard booster shit "
        ],
        [
         "23",
         "GO ROSH. oooops. YOU ARE A THOUGH GUY. HUH?. true. Cya in fight. nigga. only. TY. gg. leave. you cant win against 9k invoker. STONEHARDER. though now?. HE IS NOT AFK. O.o"
        ],
        [
         "24",
         "space created. ?. esperen hdps'. :D"
        ],
        [
         "25",
         "gg"
        ],
        [
         "26",
         "gg"
        ],
        [
         "27",
         "NOOOOOOOOOOOOO. omg sir hard game. :L"
        ],
        [
         "28",
         "gg. fuck your icy tits. lina is my whore. haha . 2 fast 4 you icy tits. gg"
        ],
        [
         "29",
         "english?. double penetration"
        ],
        [
         "30",
         "gg"
        ],
        [
         "31",
         "funniest team chat ever"
        ],
        [
         "32",
         "ez. iam lae. ez"
        ],
        [
         "33",
         "why idk. nice wr. omg. stop. wr pls. mercy. im sure can i carrie this shit. roflmaoe. classci. absoutly. u won top. wp we. wr"
        ],
        [
         "34",
         "ggwp"
        ],
        [
         "35",
         "gg. push it in bebe"
        ],
        [
         "36",
         "?. wut"
        ],
        [
         "37",
         ":P. .i.. REPORT SLARK . PLEASE. 4-10"
        ],
        [
         "38",
         "ez. :d. oups. gg"
        ],
        [
         "39",
         "that cri"
        ],
        [
         "40",
         "?. Gg"
        ],
        [
         "41",
         "space create..... d"
        ],
        [
         "42",
         "GG. haha"
        ],
        [
         "43",
         "ty"
        ],
        [
         "44",
         "how long?. .... g?"
        ],
        [
         "45",
         "dang. dang. 1 reconnected 1 disconnected. are you he-man ?. no. get rid of qop. NO. WAY. i go get breakfast. anyone wanna join /. DANTIT"
        ],
        [
         "46",
         "U2 friend. ?"
        ],
        [
         "47",
         "gg"
        ],
        [
         "48",
         "can u rpeort this jugg guys?. well u got this. 4v5. isnt a match. LOL. 20 creeps and he ulti. FOR FUCK SAKE REPORT THSI NOOB. nice rat game. ez to do with this 'carry'. u suck . what there is to explain. u fucked our game. u think?. 1k mmr jugg. ur a nobody"
        ],
        [
         "49",
         "report please. bg"
        ]
       ],
       "shape": {
        "columns": 1,
        "rows": 5000
       }
      },
      "text/plain": [
       "0       nice lighting bolt zeus. report all of you. cl...\n",
       "1                                                      ty\n",
       "2                                                    ggwp\n",
       "3                                                LOL . Ez\n",
       "4                                               sry. ggwp\n",
       "                              ...                        \n",
       "4995                yea. line problem?. valve?. fuck this\n",
       "4996     gl hf. I'm not exe still nice to meet you. gg wp\n",
       "4997    pls respond. in any kind. including insult. cr...\n",
       "4998                                          np. FF. afk\n",
       "4999                                 ggwp commend my team\n",
       "Name: player_chat, Length: 5000, dtype: object"
      ]
     },
     "execution_count": 111,
     "metadata": {},
     "output_type": "execute_result"
    }
   ],
   "source": [
    "player_chats"
   ]
  },
  {
   "cell_type": "code",
   "execution_count": 41,
   "id": "a11433ce",
   "metadata": {},
   "outputs": [],
   "source": [
    "X = sentence_transformer.encode(player_chats.tolist())\n",
    "activision_data = np.array(X)"
   ]
  },
  {
   "cell_type": "markdown",
   "id": "8b8745a8",
   "metadata": {},
   "source": [
    "# **MMD Helper Method**\n",
    "- Processes messages and computes MMD"
   ]
  },
  {
   "cell_type": "code",
   "execution_count": 42,
   "id": "77094e08",
   "metadata": {},
   "outputs": [],
   "source": [
    "def report_MMD(new_sentences, X, sentence_transformer=sentence_transformer, normalize=False):\n",
    "    \n",
    "    Y = sentence_transformer.encode(new_sentences)\n",
    "    Y = np.array(Y)\n",
    "\n",
    "    tensorX = torch.tensor(X)\n",
    "    tensorY = torch.tensor(Y)\n",
    "    rbf_mmd = MMD(tensorX, tensorY, \"rbf\")\n",
    "    scale_mmd = MMD(tensorX, tensorY, \"multiscale\")\n",
    "\n",
    "    if normalize:\n",
    "        print(rbf_mmd / np.sqrt((1.0 / X.shape[0] + 1.0 / Y.shape[0])))\n",
    "        print(scale_mmd / np.sqrt((1.0 / X.shape[0] + 1.0 / Y.shape[0])))\n",
    "    else:\n",
    "        print(rbf_mmd)\n",
    "        print(scale_mmd)"
   ]
  },
  {
   "cell_type": "markdown",
   "id": "6e6465ed",
   "metadata": {},
   "source": [
    "# **Control Testing**\n",
    "- Asking the LLM to generate what it thinks to be player chat content"
   ]
  },
  {
   "cell_type": "code",
   "execution_count": 43,
   "id": "cbf1963b",
   "metadata": {},
   "outputs": [],
   "source": [
    "new_sentences = ['Alright, team, we\\'ve got this! Keep the pressure on and don\\'t let them regroup—I\\'ll hold the point for as long as I can. Stay sharp!']\n",
    "more_new_sentences = [\n",
    "  \"Let's push the objective, we're so close to taking it! Stay on me, I'll lead the charge.\",\n",
    "  \"Heads up, they've got a sniper on the right side. I'll try to distract them while you flank.\",\n",
    "  \"Got your back, don't worry. If you need healing, just call out and I'll drop the medkit.\",\n",
    "  \"Watch out, enemy ults incoming! We need to group up or we're gonna get wiped.\",\n",
    "  \"I'm about to make a big play—everyone ready? This is our moment to turn the game around!\"\n",
    "]"
   ]
  },
  {
   "cell_type": "code",
   "execution_count": 44,
   "id": "c0d956f4",
   "metadata": {},
   "outputs": [
    {
     "name": "stdout",
     "output_type": "stream",
     "text": [
      "tensor(0.1944)\n",
      "tensor(3.0539)\n"
     ]
    }
   ],
   "source": [
    "report_MMD(new_sentences, activision_data, normalize=True)"
   ]
  },
  {
   "cell_type": "code",
   "execution_count": 45,
   "id": "a91116ee",
   "metadata": {},
   "outputs": [
    {
     "name": "stdout",
     "output_type": "stream",
     "text": [
      "tensor(0.2012)\n",
      "tensor(1.8387)\n"
     ]
    }
   ],
   "source": [
    "report_MMD(more_new_sentences, activision_data, normalize=True)"
   ]
  },
  {
   "cell_type": "markdown",
   "id": "718c11d7",
   "metadata": {},
   "source": [
    "# **Giving LLM Data**\n",
    "- Uploading the CSV and asking it to generate something similar to the given text"
   ]
  },
  {
   "cell_type": "code",
   "execution_count": 46,
   "id": "09b4f3af",
   "metadata": {},
   "outputs": [],
   "source": [
    "new_sentences = ['gg wp. lol. u got juked hard. ez game. why u feed so much XD']\n",
    "more_new_sentences = [\n",
    "    \"bruh. this pudge hook from mars. XD. gg anyway\",\n",
    "    \"lol. reported for feeding. but nice ult tho. gg\",\n",
    "    \"ez mid. u even trying? haha gg wp\",\n",
    "    \"omg. we won that? insane teamfight. wp boys\",\n",
    "    \"yo support buy wards pls. or we lose again. lmao\"\n",
    "]"
   ]
  },
  {
   "cell_type": "code",
   "execution_count": 47,
   "id": "0ac42c7d",
   "metadata": {},
   "outputs": [
    {
     "name": "stdout",
     "output_type": "stream",
     "text": [
      "tensor(0.1371)\n",
      "tensor(2.8233)\n"
     ]
    }
   ],
   "source": [
    "report_MMD(new_sentences, activision_data, normalize=True)"
   ]
  },
  {
   "cell_type": "code",
   "execution_count": 48,
   "id": "12c3f81f",
   "metadata": {},
   "outputs": [
    {
     "name": "stdout",
     "output_type": "stream",
     "text": [
      "tensor(0.0888)\n",
      "tensor(1.4153)\n"
     ]
    }
   ],
   "source": [
    "report_MMD(more_new_sentences, activision_data, normalize=True)"
   ]
  },
  {
   "cell_type": "markdown",
   "id": "fe31cc4a",
   "metadata": {},
   "source": [
    "# **Category Specific Results**\n",
    "- Giving the LLM a sample of specific (i.e Prosocial, or Not Prosocial) data and seeing the results"
   ]
  },
  {
   "cell_type": "code",
   "execution_count": 18,
   "id": "aa3bdb3a",
   "metadata": {},
   "outputs": [],
   "source": [
    "prosocial_chats = df[df['action'] == 'PROSOCIAL']['player_chat']\n",
    "not_prosocial_chats = df[df['action'] == 'NOT-PROSOCIAL']['player_chat']"
   ]
  },
  {
   "cell_type": "code",
   "execution_count": 19,
   "id": "8c8844bf",
   "metadata": {},
   "outputs": [],
   "source": [
    "prosocial_data = np.array(sentence_transformer.encode(prosocial_chats.tolist()))\n",
    "not_prosocial_data = np.array(sentence_transformer.encode(not_prosocial_chats.tolist()))"
   ]
  },
  {
   "cell_type": "markdown",
   "id": "fd1b738f",
   "metadata": {},
   "source": [
    "## **Not-Prosocial**"
   ]
  },
  {
   "cell_type": "code",
   "execution_count": 20,
   "id": "9a7f7dbf",
   "metadata": {},
   "outputs": [],
   "source": [
    "new_sentences = ['lol you call that a play? uninstall pls']\n",
    "more_new_sentences = [\n",
    "    \"bruh ur brain afk or what\",\n",
    "    \"ez win ty for the feed\",\n",
    "    \"report this clown asap\",\n",
    "    \"wow nice throw, pro move lol\",\n",
    "    \"can u not play next time thx\"\n",
    "]"
   ]
  },
  {
   "cell_type": "code",
   "execution_count": 32,
   "id": "93705c42",
   "metadata": {},
   "outputs": [
    {
     "name": "stdout",
     "output_type": "stream",
     "text": [
      "tensor(0.1760)\n",
      "tensor(2.9602)\n"
     ]
    }
   ],
   "source": [
    "report_MMD(new_sentences, not_prosocial_data, normalize=True)"
   ]
  },
  {
   "cell_type": "code",
   "execution_count": 33,
   "id": "eec14b29",
   "metadata": {},
   "outputs": [
    {
     "name": "stdout",
     "output_type": "stream",
     "text": [
      "tensor(0.1656)\n",
      "tensor(1.6710)\n"
     ]
    }
   ],
   "source": [
    "report_MMD(more_new_sentences, not_prosocial_data, normalize=True)"
   ]
  },
  {
   "cell_type": "markdown",
   "id": "d39f03eb",
   "metadata": {},
   "source": [
    "## **Prosocial**"
   ]
  },
  {
   "cell_type": "code",
   "execution_count": 24,
   "id": "6a437a98",
   "metadata": {},
   "outputs": [],
   "source": [
    "new_sentences = ['nice push top. wp team gg']\n",
    "more_new_sentences = [\n",
    "    \"gg wp. that comeback was wild\",\n",
    "    \"nice stun chain. well played\",\n",
    "    \"wp guys. held high ground like champs\",\n",
    "    \"gg. tough match but fun\",\n",
    "    \"lol that bait mid was clean. wp\"\n",
    "]"
   ]
  },
  {
   "cell_type": "code",
   "execution_count": 34,
   "id": "9e6eac0d",
   "metadata": {},
   "outputs": [
    {
     "name": "stdout",
     "output_type": "stream",
     "text": [
      "tensor(0.1555)\n",
      "tensor(3.2113)\n"
     ]
    }
   ],
   "source": [
    "report_MMD(new_sentences, prosocial_data, normalize=True)"
   ]
  },
  {
   "cell_type": "code",
   "execution_count": 35,
   "id": "07adc46a",
   "metadata": {},
   "outputs": [
    {
     "name": "stdout",
     "output_type": "stream",
     "text": [
      "tensor(0.2036)\n",
      "tensor(2.6333)\n"
     ]
    }
   ],
   "source": [
    "report_MMD(more_new_sentences, prosocial_data, normalize=True)"
   ]
  }
 ],
 "metadata": {
  "kernelspec": {
   "display_name": "Python 3",
   "language": "python",
   "name": "python3"
  },
  "language_info": {
   "codemirror_mode": {
    "name": "ipython",
    "version": 3
   },
   "file_extension": ".py",
   "mimetype": "text/x-python",
   "name": "python",
   "nbconvert_exporter": "python",
   "pygments_lexer": "ipython3",
   "version": "3.9.6"
  }
 },
 "nbformat": 4,
 "nbformat_minor": 5
}
