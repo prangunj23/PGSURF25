{
 "cells": [
  {
   "cell_type": "code",
   "execution_count": 53,
   "id": "fafe396e",
   "metadata": {},
   "outputs": [],
   "source": [
    "import json"
   ]
  },
  {
   "cell_type": "code",
   "execution_count": 164,
   "id": "aa0e2e52",
   "metadata": {},
   "outputs": [],
   "source": [
    "import sys\n",
    "sys.path.append('../utilities/')"
   ]
  },
  {
   "cell_type": "code",
   "execution_count": 167,
   "id": "f1649bc7",
   "metadata": {},
   "outputs": [],
   "source": [
    "import torch\n",
    "import pandas as pd\n",
    "from sentence_transformers import SentenceTransformer\n",
    "import numpy as np\n",
    "import matplotlib.pyplot as plt\n",
    "from mmd import MMD\n",
    "from sklearn.model_selection import train_test_split\n",
    "from tqdm import tqdm\n",
    "# import openai"
   ]
  },
  {
   "cell_type": "code",
   "execution_count": 26,
   "id": "fb0f7a21",
   "metadata": {},
   "outputs": [],
   "source": [
    "from openai import OpenAI"
   ]
  },
  {
   "cell_type": "code",
   "execution_count": null,
   "id": "71a4329c",
   "metadata": {},
   "outputs": [],
   "source": [
    "import os\n",
    "from dotenv import load_dotenv"
   ]
  },
  {
   "cell_type": "code",
   "execution_count": 6,
   "id": "92b72c48",
   "metadata": {},
   "outputs": [],
   "source": [
    "sentence_transformer = SentenceTransformer('all-mpnet-base-v2')"
   ]
  },
  {
   "cell_type": "code",
   "execution_count": 9,
   "id": "36504908",
   "metadata": {},
   "outputs": [
    {
     "data": {
      "application/vnd.microsoft.datawrangler.viewer.v0+json": {
       "columns": [
        {
         "name": "index",
         "rawType": "int64",
         "type": "integer"
        },
        {
         "name": "match_id",
         "rawType": "int64",
         "type": "integer"
        },
        {
         "name": "player_name",
         "rawType": "object",
         "type": "string"
        },
        {
         "name": "player_chat",
         "rawType": "object",
         "type": "string"
        },
        {
         "name": "action",
         "rawType": "object",
         "type": "string"
        }
       ],
       "ref": "3f79ceea-de14-48d7-a2f5-c595e7214c75",
       "rows": [
        [
         "0",
         "22398",
         "JCamz",
         "nice lighting bolt zeus. report all of you. clock*",
         "NOT-PROSOCIAL"
        ],
        [
         "1",
         "26872",
         "zua halucynka.",
         "ty",
         "PROSOCIAL"
        ],
        [
         "2",
         "24083",
         "cnywad",
         "ggwp",
         "PROSOCIAL"
        ],
        [
         "3",
         "47512",
         "StartWithA.BANG",
         "LOL . Ez",
         "NOT-PROSOCIAL"
        ],
        [
         "4",
         "22039",
         "Sol'ka",
         "sry. ggwp",
         "PROSOCIAL"
        ],
        [
         "5",
         "20244",
         "PiKaChu \"no freinds\"",
         "u guys are good but im pro",
         "UNCLEAR"
        ],
        [
         "6",
         "38201",
         "3,5",
         "idiot",
         "NOT-PROSOCIAL"
        ],
        [
         "7",
         "9987",
         "[BnT]Nightmare",
         "hahah. LOL. funny shit. i can say. wtf is bkb. hahah. you frst",
         "UNCLEAR"
        ],
        [
         "8",
         "25020",
         "ℕﯤﺖﮢﯔﭫﮱ | eyestri",
         "xDDDDD. rly?. gege. lol. throne attacked. idiots. xD",
         "NOT-PROSOCIAL"
        ],
        [
         "9",
         "15818",
         "ChubbyBunny<3",
         "reconnecting. awts. zzz. if you are pro then wait . play fairly. life is unfair when evil exist :. :p. reconnecting. you'll regret",
         "UNCLEAR"
        ],
        [
         "10",
         "32322",
         "\"Rocio\" ツ",
         "eyy juger. no salis de ahy so mierdas",
         "NOT-PROSOCIAL"
        ],
        [
         "11",
         "35029",
         "Tylos",
         "ty. i will reset my pc. why",
         "UNCLEAR"
        ],
        [
         "12",
         "7491",
         "4K Só TEM NOOB",
         "end. end. cry. ganho mais. chora. legal. passa o dia jogando isso. parabens. ganhou oq com isso. nuub",
         "NOT-PROSOCIAL"
        ],
        [
         "13",
         "11934",
         "Crio_J 진마왕",
         "2 vs 8 XD. said. 1 13 . 4 12. XDDDD",
         "UNCLEAR"
        ],
        [
         "14",
         "48157",
         "Arnold Twerkzenegger",
         "ggwp",
         "PROSOCIAL"
        ],
        [
         "15",
         "35515",
         "ShTfearless",
         "pls. report doom. moron and brainless. and little girl",
         "NOT-PROSOCIAL"
        ],
        [
         "16",
         "46343",
         "dani",
         "whats happenin playa. rekt",
         "NOT-PROSOCIAL"
        ],
        [
         "17",
         "36470",
         "Killer",
         "alxim report plz. gg. nice alximik we have. its not real to win. skazali suka mantu i gorelku soberi. on daun. report alximu plz. repot alximika",
         "NOT-PROSOCIAL"
        ],
        [
         "18",
         "48905",
         "noogman",
         "no?. had almost full mana?. timber carry imba. no hex. just ff report timber",
         "NOT-PROSOCIAL"
        ],
        [
         "19",
         "18893",
         "LunCai",
         "gg. idioy zeus",
         "NOT-PROSOCIAL"
        ],
        [
         "20",
         "43047",
         "suckmeoff",
         "fuck off mate. BAAHAHA. yeah i know. thought he was gonna take it. dat tower range. why arnt you farming am. AHAHAHAH. fuck you zues. WWEEEEEEEL. >>>>>>>. FUCCCCCCK. FUCKKKK. WTF. RACKKKKKKS. GG BOYS. YEAASASSS. GG. FUCKING GG",
         "NOT-PROSOCIAL"
        ],
        [
         "21",
         "39370",
         "Denis♡",
         "imba. no no no. not ez. gg. hard line wisp and husk. nice",
         "PROSOCIAL"
        ],
        [
         "22",
         "33923",
         "Nil",
         "well you guys are obviously a stack. well there might be a booster shit among you. gg try hard booster shit ",
         "NOT-PROSOCIAL"
        ],
        [
         "23",
         "47440",
         "Kal_3L",
         "GO ROSH. oooops. YOU ARE A THOUGH GUY. HUH?. true. Cya in fight. nigga. only. TY. gg. leave. you cant win against 9k invoker. STONEHARDER. though now?. HE IS NOT AFK. O.o",
         "NOT-PROSOCIAL"
        ],
        [
         "24",
         "28834",
         "KoiL",
         "space created. ?. esperen hdps'. :D",
         "UNCLEAR"
        ],
        [
         "25",
         "27413",
         "baKKhus",
         "gg",
         "PROSOCIAL"
        ],
        [
         "26",
         "23845",
         "Zyhm",
         "gg",
         "PROSOCIAL"
        ],
        [
         "27",
         "486",
         "NB",
         "NOOOOOOOOOOOOO. omg sir hard game. :L",
         "UNCLEAR"
        ],
        [
         "28",
         "22722",
         "Je'W.Danny Dorito",
         "gg. fuck your icy tits. lina is my whore. haha . 2 fast 4 you icy tits. gg",
         "NOT-PROSOCIAL"
        ],
        [
         "29",
         "12100",
         "Mr.Realguy",
         "english?. double penetration",
         "NOT-PROSOCIAL"
        ],
        [
         "30",
         "23756",
         "Bewbarmak",
         "gg",
         "PROSOCIAL"
        ],
        [
         "31",
         "15312",
         "AC3",
         "funniest team chat ever",
         "UNCLEAR"
        ],
        [
         "32",
         "12420",
         "GG.Green Tea",
         "ez. iam lae. ez",
         "NOT-PROSOCIAL"
        ],
        [
         "33",
         "5880",
         "smurfing 4k acc",
         "why idk. nice wr. omg. stop. wr pls. mercy. im sure can i carrie this shit. roflmaoe. classci. absoutly. u won top. wp we. wr",
         "UNCLEAR"
        ],
        [
         "34",
         "49930",
         "Cptn.Canuck",
         "ggwp",
         "PROSOCIAL"
        ],
        [
         "35",
         "674",
         "avskz",
         "gg. push it in bebe",
         "PROSOCIAL"
        ],
        [
         "36",
         "7577",
         "bjchu92",
         "?. wut",
         "UNCLEAR"
        ],
        [
         "37",
         "47102",
         "fiera",
         ":P. .i.. REPORT SLARK . PLEASE. 4-10",
         "NOT-PROSOCIAL"
        ],
        [
         "38",
         "25854",
         "MMR IS REAL LIFE",
         "ez. :d. oups. gg",
         "UNCLEAR"
        ],
        [
         "39",
         "49490",
         "Kun.",
         "that cri",
         "UNCLEAR"
        ],
        [
         "40",
         "43827",
         "GOKIL",
         "?. Gg",
         "PROSOCIAL"
        ],
        [
         "41",
         "43762",
         "panicman",
         "space create..... d",
         "UNCLEAR"
        ],
        [
         "42",
         "37657",
         "nightfury",
         "GG. haha",
         "PROSOCIAL"
        ],
        [
         "43",
         "32120",
         "GG.MADAfaka",
         "ty",
         "PROSOCIAL"
        ],
        [
         "44",
         "38149",
         "rVn",
         "how long?. .... g?",
         "UNCLEAR"
        ],
        [
         "45",
         "12544",
         "Aurora",
         "dang. dang. 1 reconnected 1 disconnected. are you he-man ?. no. get rid of qop. NO. WAY. i go get breakfast. anyone wanna join /. DANTIT",
         "UNCLEAR"
        ],
        [
         "46",
         "46364",
         "Farbror Björn",
         "U2 friend. ?",
         "UNCLEAR"
        ],
        [
         "47",
         "22787",
         "dondo",
         "gg",
         "PROSOCIAL"
        ],
        [
         "48",
         "46200",
         "midgate",
         "can u rpeort this jugg guys?. well u got this. 4v5. isnt a match. LOL. 20 creeps and he ulti. FOR FUCK SAKE REPORT THSI NOOB. nice rat game. ez to do with this 'carry'. u suck . what there is to explain. u fucked our game. u think?. 1k mmr jugg. ur a nobody",
         "NOT-PROSOCIAL"
        ],
        [
         "49",
         "28403",
         "Kingslayer",
         "report please. bg",
         "UNCLEAR"
        ]
       ],
       "shape": {
        "columns": 4,
        "rows": 5000
       }
      },
      "text/html": [
       "<div>\n",
       "<style scoped>\n",
       "    .dataframe tbody tr th:only-of-type {\n",
       "        vertical-align: middle;\n",
       "    }\n",
       "\n",
       "    .dataframe tbody tr th {\n",
       "        vertical-align: top;\n",
       "    }\n",
       "\n",
       "    .dataframe thead th {\n",
       "        text-align: right;\n",
       "    }\n",
       "</style>\n",
       "<table border=\"1\" class=\"dataframe\">\n",
       "  <thead>\n",
       "    <tr style=\"text-align: right;\">\n",
       "      <th></th>\n",
       "      <th>match_id</th>\n",
       "      <th>player_name</th>\n",
       "      <th>player_chat</th>\n",
       "      <th>action</th>\n",
       "    </tr>\n",
       "  </thead>\n",
       "  <tbody>\n",
       "    <tr>\n",
       "      <th>0</th>\n",
       "      <td>22398</td>\n",
       "      <td>JCamz</td>\n",
       "      <td>nice lighting bolt zeus. report all of you. cl...</td>\n",
       "      <td>NOT-PROSOCIAL</td>\n",
       "    </tr>\n",
       "    <tr>\n",
       "      <th>1</th>\n",
       "      <td>26872</td>\n",
       "      <td>zua halucynka.</td>\n",
       "      <td>ty</td>\n",
       "      <td>PROSOCIAL</td>\n",
       "    </tr>\n",
       "    <tr>\n",
       "      <th>2</th>\n",
       "      <td>24083</td>\n",
       "      <td>cnywad</td>\n",
       "      <td>ggwp</td>\n",
       "      <td>PROSOCIAL</td>\n",
       "    </tr>\n",
       "    <tr>\n",
       "      <th>3</th>\n",
       "      <td>47512</td>\n",
       "      <td>StartWithA.BANG</td>\n",
       "      <td>LOL . Ez</td>\n",
       "      <td>NOT-PROSOCIAL</td>\n",
       "    </tr>\n",
       "    <tr>\n",
       "      <th>4</th>\n",
       "      <td>22039</td>\n",
       "      <td>Sol'ka</td>\n",
       "      <td>sry. ggwp</td>\n",
       "      <td>PROSOCIAL</td>\n",
       "    </tr>\n",
       "    <tr>\n",
       "      <th>...</th>\n",
       "      <td>...</td>\n",
       "      <td>...</td>\n",
       "      <td>...</td>\n",
       "      <td>...</td>\n",
       "    </tr>\n",
       "    <tr>\n",
       "      <th>4995</th>\n",
       "      <td>18647</td>\n",
       "      <td>Phantasm</td>\n",
       "      <td>yea. line problem?. valve?. fuck this</td>\n",
       "      <td>NOT-PROSOCIAL</td>\n",
       "    </tr>\n",
       "    <tr>\n",
       "      <th>4996</th>\n",
       "      <td>37574</td>\n",
       "      <td>1of3</td>\n",
       "      <td>gl hf. I'm not exe still nice to meet you. gg wp</td>\n",
       "      <td>PROSOCIAL</td>\n",
       "    </tr>\n",
       "    <tr>\n",
       "      <th>4997</th>\n",
       "      <td>28742</td>\n",
       "      <td>PookieMarkCow</td>\n",
       "      <td>pls respond. in any kind. including insult. cr...</td>\n",
       "      <td>UNCLEAR</td>\n",
       "    </tr>\n",
       "    <tr>\n",
       "      <th>4998</th>\n",
       "      <td>28276</td>\n",
       "      <td>Madara</td>\n",
       "      <td>np. FF. afk</td>\n",
       "      <td>NOT-PROSOCIAL</td>\n",
       "    </tr>\n",
       "    <tr>\n",
       "      <th>4999</th>\n",
       "      <td>38572</td>\n",
       "      <td>dickhead</td>\n",
       "      <td>ggwp commend my team</td>\n",
       "      <td>PROSOCIAL</td>\n",
       "    </tr>\n",
       "  </tbody>\n",
       "</table>\n",
       "<p>5000 rows × 4 columns</p>\n",
       "</div>"
      ],
      "text/plain": [
       "      match_id      player_name  \\\n",
       "0        22398            JCamz   \n",
       "1        26872   zua halucynka.   \n",
       "2        24083           cnywad   \n",
       "3        47512  StartWithA.BANG   \n",
       "4        22039           Sol'ka   \n",
       "...        ...              ...   \n",
       "4995     18647         Phantasm   \n",
       "4996     37574             1of3   \n",
       "4997     28742    PookieMarkCow   \n",
       "4998     28276           Madara   \n",
       "4999     38572         dickhead   \n",
       "\n",
       "                                            player_chat         action  \n",
       "0     nice lighting bolt zeus. report all of you. cl...  NOT-PROSOCIAL  \n",
       "1                                                    ty      PROSOCIAL  \n",
       "2                                                  ggwp      PROSOCIAL  \n",
       "3                                              LOL . Ez  NOT-PROSOCIAL  \n",
       "4                                             sry. ggwp      PROSOCIAL  \n",
       "...                                                 ...            ...  \n",
       "4995              yea. line problem?. valve?. fuck this  NOT-PROSOCIAL  \n",
       "4996   gl hf. I'm not exe still nice to meet you. gg wp      PROSOCIAL  \n",
       "4997  pls respond. in any kind. including insult. cr...        UNCLEAR  \n",
       "4998                                        np. FF. afk  NOT-PROSOCIAL  \n",
       "4999                               ggwp commend my team      PROSOCIAL  \n",
       "\n",
       "[5000 rows x 4 columns]"
      ]
     },
     "execution_count": 9,
     "metadata": {},
     "output_type": "execute_result"
    }
   ],
   "source": [
    "df = pd.read_csv('../../CODsurf/cmb_prosocial_labeled.csv')\n",
    "player_chats = df['player_chat']\n",
    "df"
   ]
  },
  {
   "cell_type": "code",
   "execution_count": 14,
   "id": "f0afb973",
   "metadata": {},
   "outputs": [
    {
     "name": "stderr",
     "output_type": "stream",
     "text": [
      "/var/folders/lv/pnwq6bmj4tq68bsvy__37qyh0000gn/T/ipykernel_20444/1358108983.py:2: SettingWithCopyWarning: \n",
      "A value is trying to be set on a copy of a slice from a DataFrame.\n",
      "Try using .loc[row_indexer,col_indexer] = value instead\n",
      "\n",
      "See the caveats in the documentation: https://pandas.pydata.org/pandas-docs/stable/user_guide/indexing.html#returning-a-view-versus-a-copy\n",
      "  df_unclear_removed['action'] = df['action'].replace({'NOT-PROSOCIAL': -1, 'PROSOCIAL': 1})\n"
     ]
    }
   ],
   "source": [
    "df_unclear_removed = df[df['action'] != 'UNCLEAR']\n",
    "df_unclear_removed['action'] = df['action'].replace({'NOT-PROSOCIAL': -1, 'PROSOCIAL': 1})"
   ]
  },
  {
   "cell_type": "markdown",
   "id": "de4a3eb2",
   "metadata": {},
   "source": [
    "# **Split**"
   ]
  },
  {
   "cell_type": "code",
   "execution_count": 15,
   "id": "1883f15d",
   "metadata": {},
   "outputs": [],
   "source": [
    "train_df, test_df = train_test_split(df_unclear_removed, test_size=0.3)"
   ]
  },
  {
   "cell_type": "code",
   "execution_count": 47,
   "id": "78297b3d",
   "metadata": {},
   "outputs": [
    {
     "data": {
      "application/vnd.microsoft.datawrangler.viewer.v0+json": {
       "columns": [
        {
         "name": "index",
         "rawType": "int64",
         "type": "integer"
        },
        {
         "name": "match_id",
         "rawType": "int64",
         "type": "integer"
        },
        {
         "name": "player_name",
         "rawType": "object",
         "type": "string"
        },
        {
         "name": "player_chat",
         "rawType": "object",
         "type": "string"
        },
        {
         "name": "action",
         "rawType": "object",
         "type": "unknown"
        }
       ],
       "ref": "e9ccd608-509a-43af-8361-8d2d51b71071",
       "rows": [
        [
         "2692",
         "36749",
         "Rakesh",
         "oopps. :D. nab. ez",
         "-1"
        ],
        [
         "2417",
         "6525",
         "VeNoM",
         "lol. gg guys wp",
         "1"
        ],
        [
         "1791",
         "19062",
         "Meow",
         "lel. just lel. rofl. commend luna. report luna. pls. gg. ff. 0 carry. critical. or what. 291. damage. its physical damage. bkb just for show?. ff. ez. report luna. tnx",
         "-1"
        ],
        [
         "2060",
         "21133",
         "HerpyDerpy",
         "tghf. Ez",
         "-1"
        ],
        [
         "2983",
         "25496",
         "ihatetryinghardcarries",
         "press J for free predctio. lol. 14mins?. k. fuck. im using my feet playing. so ez. im using my feet playing. lol. close game. bobo ka",
         "-1"
        ],
        [
         "1717",
         "49782",
         "Rayon Knoxville",
         "izi mid",
         "-1"
        ],
        [
         "2900",
         "40931",
         "A..LUFFYYYYYYYYYYYYYYYYYYYYY",
         "EZ. EZ. EZ. EZ. ez. me matan. hahaha. gracias. gracias invo. hahaha. ez. medusa. gg",
         "-1"
        ],
        [
         "4453",
         "41831",
         "DANGER COW",
         "i hate this fucking game",
         "-1"
        ],
        [
         "1332",
         "47749",
         "eddd",
         ":). Wp",
         "1"
        ],
        [
         "3223",
         "46221",
         "FundsFORmaLOLIPOP",
         "hello thereee. raped. gg",
         "-1"
        ],
        [
         "4473",
         "18607",
         "GrafitoAlo",
         "EZ ",
         "-1"
        ],
        [
         "675",
         "40162",
         "ramanujans",
         "jhahaha. ggwp",
         "1"
        ],
        [
         "1294",
         "26565",
         "hmm",
         "??. ty",
         "1"
        ],
        [
         "2989",
         "9831",
         "Mbobo",
         "gg",
         "1"
        ],
        [
         "1741",
         "10251",
         "Beerus",
         "ggwp",
         "1"
        ],
        [
         "2255",
         "25127",
         "superRust",
         "haha fkin srs lina. u fkin retard. he rq. ez dual mid. garbage lina mid. must be indian isis shit. hahaha so mad lina. 2nd time u ult me with1 hp. im going to buy back with 1 second left. how u lose to this retard sf. gg dont ever go mid again. hahaha. gg dipshits",
         "-1"
        ],
        [
         "533",
         "47608",
         "xin pom pa",
         "end it pleas. afk",
         "-1"
        ],
        [
         "1277",
         "46590",
         "OctarineWhore",
         "please. report. wisp. he relocated. me. away. end this please. and report wisp. for ability abuse. PLEASE. REPORT. WISP. he relocated me. in the jungle. below ur sideshop. this retard. please report him. cour dead. and i just tped. after taht. please report this fuck. he just flames. all game. and does nothing",
         "-1"
        ],
        [
         "1813",
         "7326",
         "lyyhhlwsb",
         "how long?. he is not bad. i am jsut better. how?. at 1v2?. dumpstered me by 1v2 and lsot?. lmao",
         "-1"
        ],
        [
         "2677",
         "22928",
         "MB_Rakunat",
         "gg",
         "1"
        ],
        [
         "4702",
         "5490",
         "Fayher",
         "gg wp",
         "1"
        ],
        [
         "2353",
         "30944",
         "Shaanie",
         "gg wp",
         "1"
        ],
        [
         "3501",
         "41583",
         "MFR",
         "glhf. ggwp. ggwp",
         "1"
        ],
        [
         "3289",
         "46416",
         "fUnnymaN",
         "ty. gg",
         "1"
        ],
        [
         "473",
         "28024",
         "cnwr",
         "gg. 3 trash carry",
         "-1"
        ],
        [
         "230",
         "14120",
         "Ruby",
         "yea easy when u get fed by a legion",
         "-1"
        ],
        [
         "4660",
         "37050",
         "MOMENTPLZ",
         "gg",
         "1"
        ],
        [
         "2540",
         "33044",
         "confused.popcorn",
         "gg",
         "1"
        ],
        [
         "4541",
         "18987",
         "Derp Derp",
         "gg wp",
         "1"
        ],
        [
         "3346",
         "11698",
         "MyMeK",
         "Gg wp",
         "1"
        ],
        [
         "1263",
         "26366",
         "Zupp",
         "gg",
         "1"
        ],
        [
         "3218",
         "15376",
         "Magnifico",
         "yeah no shit . hahaha . shit team . call is game/. it'. does lc need ring of basilius?. how so?. she was not jungling. item was a waste",
         "-1"
        ],
        [
         "1163",
         "43545",
         "ZHN",
         "gg wp",
         "1"
        ],
        [
         "2862",
         "4996",
         "warstomp_",
         "1286 GOLD. fuck. gg. EZ MID",
         "-1"
        ],
        [
         "3545",
         "15343",
         "League is better",
         "viva peru. why hook on me. u peruvian fuck",
         "-1"
        ],
        [
         "344",
         "4860",
         "Raistlin",
         "gg",
         "1"
        ],
        [
         "3688",
         "9510",
         "bAdz Rothschild",
         "okies. wow. no more waiting?. HAHAHAHHAHA. KAPAL FACE. LETS REPORT. reported. any. go go. TANGA!. TANGA. UNPAUSE PA MORE. HAHAHAHA",
         "-1"
        ],
        [
         "1001",
         "43457",
         "21161411",
         "gg ff. alch destroyed all items. watch on this alch",
         "-1"
        ],
        [
         "864",
         "11050",
         "Ragnar",
         "rage quit",
         "-1"
        ],
        [
         "3020",
         "14190",
         "Im Certain My Team Sucks",
         "gg",
         "1"
        ],
        [
         "1403",
         "14850",
         "U_U...Hannibal",
         "gg",
         "1"
        ],
        [
         "3699",
         "36821",
         "DFox",
         "gg",
         "1"
        ],
        [
         "3586",
         "23054",
         "DL",
         "ssup?. this PA won you the game. with all the stupid items in the world. his item build. HOTD, FURY, BKB, SNY, (sell HOTD) Vlads, Deso. now they will fight like we will win. when they cant even fucking team up to take mid t1",
         "-1"
        ],
        [
         "668",
         "34238",
         "2020",
         "gg. :). ez game",
         "-1"
        ],
        [
         "3502",
         "1980",
         "Standin.Outside.DCE",
         "glhf. DDDD",
         "1"
        ],
        [
         "884",
         "2393",
         "Ol' Dirty Bastard",
         "a humble pudge. never seen that before. no. notlikethis. damn you to hell pudge. i'll have the tower you watch. its mine. rpoflmao. round 2. what was that. mortal kombat?. sick reference bro. i died inside long time ago. oh god. centaurs on fire. noooooooooo. im doing stuff. i think. centaurs memeing is killing. me. ho boy. send the courier out. i dare you. send the damn courier you. SEND THE COURIER. no#. no. YES. i died a happy man. thanks for the laughs. i had fun. wp ",
         "1"
        ],
        [
         "3347",
         "13010",
         "yes",
         "cara. olha teus itens, bb. doente",
         "-1"
        ],
        [
         "4427",
         "45633",
         "T1mon",
         "EZ . EZ",
         "-1"
        ],
        [
         "3943",
         "14123",
         "ToBi",
         "4x1? =s. how nice. fite me. we've decided that the fault its slark's only. can you report him",
         "-1"
        ],
        [
         "4409",
         "20142",
         "Fantomum. Phoenix",
         "idiot. XDDD. ultionillupart2. you wont ulti enigma lol. ggwp",
         "-1"
        ]
       ],
       "shape": {
        "columns": 4,
        "rows": 907
       }
      },
      "text/html": [
       "<div>\n",
       "<style scoped>\n",
       "    .dataframe tbody tr th:only-of-type {\n",
       "        vertical-align: middle;\n",
       "    }\n",
       "\n",
       "    .dataframe tbody tr th {\n",
       "        vertical-align: top;\n",
       "    }\n",
       "\n",
       "    .dataframe thead th {\n",
       "        text-align: right;\n",
       "    }\n",
       "</style>\n",
       "<table border=\"1\" class=\"dataframe\">\n",
       "  <thead>\n",
       "    <tr style=\"text-align: right;\">\n",
       "      <th></th>\n",
       "      <th>match_id</th>\n",
       "      <th>player_name</th>\n",
       "      <th>player_chat</th>\n",
       "      <th>action</th>\n",
       "    </tr>\n",
       "  </thead>\n",
       "  <tbody>\n",
       "    <tr>\n",
       "      <th>2692</th>\n",
       "      <td>36749</td>\n",
       "      <td>Rakesh</td>\n",
       "      <td>oopps. :D. nab. ez</td>\n",
       "      <td>-1</td>\n",
       "    </tr>\n",
       "    <tr>\n",
       "      <th>2417</th>\n",
       "      <td>6525</td>\n",
       "      <td>VeNoM</td>\n",
       "      <td>lol. gg guys wp</td>\n",
       "      <td>1</td>\n",
       "    </tr>\n",
       "    <tr>\n",
       "      <th>1791</th>\n",
       "      <td>19062</td>\n",
       "      <td>Meow</td>\n",
       "      <td>lel. just lel. rofl. commend luna. report luna...</td>\n",
       "      <td>-1</td>\n",
       "    </tr>\n",
       "    <tr>\n",
       "      <th>2060</th>\n",
       "      <td>21133</td>\n",
       "      <td>HerpyDerpy</td>\n",
       "      <td>tghf. Ez</td>\n",
       "      <td>-1</td>\n",
       "    </tr>\n",
       "    <tr>\n",
       "      <th>2983</th>\n",
       "      <td>25496</td>\n",
       "      <td>ihatetryinghardcarries</td>\n",
       "      <td>press J for free predctio. lol. 14mins?. k. fu...</td>\n",
       "      <td>-1</td>\n",
       "    </tr>\n",
       "    <tr>\n",
       "      <th>...</th>\n",
       "      <td>...</td>\n",
       "      <td>...</td>\n",
       "      <td>...</td>\n",
       "      <td>...</td>\n",
       "    </tr>\n",
       "    <tr>\n",
       "      <th>4068</th>\n",
       "      <td>20452</td>\n",
       "      <td>Chops Buster</td>\n",
       "      <td>gg</td>\n",
       "      <td>1</td>\n",
       "    </tr>\n",
       "    <tr>\n",
       "      <th>1214</th>\n",
       "      <td>428</td>\n",
       "      <td>Jason</td>\n",
       "      <td>ggwp. nigga please. ez. ez game</td>\n",
       "      <td>-1</td>\n",
       "    </tr>\n",
       "    <tr>\n",
       "      <th>4700</th>\n",
       "      <td>39590</td>\n",
       "      <td>DotP.Fafnir</td>\n",
       "      <td>gg</td>\n",
       "      <td>1</td>\n",
       "    </tr>\n",
       "    <tr>\n",
       "      <th>1009</th>\n",
       "      <td>22375</td>\n",
       "      <td>It's not your fault</td>\n",
       "      <td>what seems to be the problem gentlemen. gg</td>\n",
       "      <td>1</td>\n",
       "    </tr>\n",
       "    <tr>\n",
       "      <th>1965</th>\n",
       "      <td>8278</td>\n",
       "      <td>Frisbeee</td>\n",
       "      <td>gg wp</td>\n",
       "      <td>1</td>\n",
       "    </tr>\n",
       "  </tbody>\n",
       "</table>\n",
       "<p>907 rows × 4 columns</p>\n",
       "</div>"
      ],
      "text/plain": [
       "      match_id             player_name  \\\n",
       "2692     36749                  Rakesh   \n",
       "2417      6525                   VeNoM   \n",
       "1791     19062                    Meow   \n",
       "2060     21133              HerpyDerpy   \n",
       "2983     25496  ihatetryinghardcarries   \n",
       "...        ...                     ...   \n",
       "4068     20452            Chops Buster   \n",
       "1214       428                   Jason   \n",
       "4700     39590             DotP.Fafnir   \n",
       "1009     22375     It's not your fault   \n",
       "1965      8278                Frisbeee   \n",
       "\n",
       "                                            player_chat action  \n",
       "2692                                 oopps. :D. nab. ez     -1  \n",
       "2417                                    lol. gg guys wp      1  \n",
       "1791  lel. just lel. rofl. commend luna. report luna...     -1  \n",
       "2060                                           tghf. Ez     -1  \n",
       "2983  press J for free predctio. lol. 14mins?. k. fu...     -1  \n",
       "...                                                 ...    ...  \n",
       "4068                                                 gg      1  \n",
       "1214                    ggwp. nigga please. ez. ez game     -1  \n",
       "4700                                                 gg      1  \n",
       "1009         what seems to be the problem gentlemen. gg      1  \n",
       "1965                                              gg wp      1  \n",
       "\n",
       "[907 rows x 4 columns]"
      ]
     },
     "execution_count": 47,
     "metadata": {},
     "output_type": "execute_result"
    }
   ],
   "source": [
    "test_df"
   ]
  },
  {
   "cell_type": "code",
   "execution_count": 18,
   "id": "f09afbeb",
   "metadata": {},
   "outputs": [
    {
     "data": {
      "application/vnd.microsoft.datawrangler.viewer.v0+json": {
       "columns": [
        {
         "name": "index",
         "rawType": "int64",
         "type": "integer"
        },
        {
         "name": "match_id",
         "rawType": "int64",
         "type": "integer"
        },
        {
         "name": "player_name",
         "rawType": "object",
         "type": "string"
        },
        {
         "name": "player_chat",
         "rawType": "object",
         "type": "string"
        },
        {
         "name": "action",
         "rawType": "object",
         "type": "unknown"
        }
       ],
       "ref": "46ac31af-2c10-4a36-b37e-b083afa6d0c5",
       "rows": [
        [
         "3593",
         "18727",
         "[B]rix",
         "WP",
         "1"
        ],
        [
         "4930",
         "31016",
         "Dominant deer",
         "Ez",
         "-1"
        ],
        [
         "134",
         "28082",
         "Сын Собаки",
         "rofl. all on me?. GG",
         "-1"
        ],
        [
         "541",
         "27540",
         "DG PUFFMG",
         "bet . BET. BET YOU FUCJERS. to bif hc. dk. gg",
         "-1"
        ],
        [
         "2156",
         "27123",
         "#Ex3maL",
         "gg",
         "1"
        ],
        [
         "1570",
         "25553",
         "Dota or like this\"\"",
         "lol. so soft hero",
         "-1"
        ],
        [
         "2929",
         "16341",
         "poetry of the night",
         "deal with it",
         "-1"
        ],
        [
         "490",
         "32764",
         "Jin Kazama",
         "GG",
         "1"
        ],
        [
         "4107",
         "4000",
         "Bombur",
         "?. 12 assist. nice stun. lion",
         "1"
        ],
        [
         "1581",
         "41188",
         "Rosie Elise",
         "brown ur such a fucking autist. just shut the fuck up for once. nvm muted",
         "-1"
        ],
        [
         "1713",
         "24048",
         "- AnGeLo - de aspecto Inmortal",
         "gg wp , mid ni 1 hook. report pudge. lagg. nice difusadora , ursa. waching . stupid team. gg Lc",
         "-1"
        ],
        [
         "3817",
         "2986",
         "feed with",
         "cyka",
         "-1"
        ],
        [
         "1697",
         "42816",
         "Zekhel_MN",
         "retard. Yeah. fuckin true. our spec got 3k gold",
         "-1"
        ],
        [
         "1157",
         "30733",
         "CRAZY",
         "i will report wr. what happend with him?. why did he start doing this. ok but u can't feed for this dude rofl. so childish. i don't think account buyer . it's just that 4k just sucks by himself. i mean if someone gonna buy an account i don't think that they will by a 4k  u know",
         "-1"
        ],
        [
         "3319",
         "11021",
         "[BH] w33",
         "gg ez team. gg boskque. muere . reprot pa pls",
         "-1"
        ],
        [
         "1222",
         "18161",
         "bigmachine",
         "ggwp. easy",
         "-1"
        ],
        [
         "3845",
         "42217",
         "Nomadㄨ",
         "lol. ez game",
         "-1"
        ],
        [
         "3522",
         "27305",
         "Snd",
         "how is lich worse than doom . what a hero . report gyro go next. can  you purge yourself while lifted ? . im doing so much for my team . gg. commend. for winning this 2v5. 3 with bara. trash lich . gg",
         "-1"
        ],
        [
         "1329",
         "22474",
         "©™",
         "stop def :s. gg",
         "-1"
        ],
        [
         "4792",
         "3157",
         "123321",
         "gG WP REPROT WIND PLS. ff ps . pls. o wr motren ta kisha qi  . report wr ty . wp tusk . report wr ",
         "-1"
        ],
        [
         "3541",
         "45327",
         "Ignatize",
         "I'm sorry",
         "1"
        ],
        [
         "308",
         "15900",
         "Blastoise",
         "fck you kotl",
         "-1"
        ],
        [
         "1129",
         "22970",
         "Gaylordfucker",
         "FRESSE. KANACKENFOTZEN",
         "-1"
        ],
        [
         "1194",
         "6429",
         "#TeamBlue",
         "gg no teven gonna play. I have neverp layed meepo. I'm sorry y'all. Hey. meepo isn't that bad after all. It's a bit sad when i have half the kills of my team.... There are 3 carries.. It's gg.. This is why you shouldnt overetend. ggwp. DK = Feeder. 3 - 13",
         "-1"
        ],
        [
         "4841",
         "45400",
         "Mr.Smack",
         "ye. can u report this mongoloid tusk. this tusk. worst russian trash ive seen in my life. ive seen much russian trash. the trash tema. who the fuck cares. this undying. talks so much. and he loses trilane. with an undying. and this 7k trash tusk. this tusk making a good name for his trash team. *. He picks tusk. wtf am i supposed to play solo vs beastmaster. dont read. just report this shit",
         "-1"
        ],
        [
         "2194",
         "30354",
         "Metsis",
         "gg",
         "1"
        ],
        [
         "1208",
         "20613",
         "Pineapplefruitdude",
         "i muted my team. min 2. ^^",
         "-1"
        ],
        [
         "22",
         "33923",
         "Nil",
         "well you guys are obviously a stack. well there might be a booster shit among you. gg try hard booster shit ",
         "-1"
        ],
        [
         "705",
         "19814",
         "Maybe Next Time",
         "ooooooh. ooooh. orul orul orospular. you are orospii",
         "-1"
        ],
        [
         "2761",
         "10953",
         "Fangahra of the Lands Fangahra",
         "gg",
         "1"
        ],
        [
         "4140",
         "40899",
         "mac;",
         "ages ago. SO SLOW ",
         "-1"
        ],
        [
         "4278",
         "6333",
         "EraGonZ",
         "ez bot . gg. Mid nob. ez bot. mid very nob",
         "-1"
        ],
        [
         "4588",
         "9624",
         "Jaegers.Izz",
         "haa. DISBAND YOUR TEAM. RUN SB. dasar orang gaji. ez boy",
         "-1"
        ],
        [
         "4303",
         "39088",
         "ManUp! Raza",
         "gg",
         "1"
        ],
        [
         "198",
         "49884",
         "Đưa Nhau Đi Đái",
         "wat. DIT ME MAY. pfff. CON CAC. PUTANG INAMO. CAO NI MA. SOHAI. I. WTF. DA CLG. CYKA BLAT. someone lag?",
         "-1"
        ],
        [
         "98",
         "4594",
         "к-оz",
         "lol. lol. retarded qop. good mid retard. lol. idiot. que pick tan ridiculos, pikeo primero y esto es lo que agarran. qop que no gankea. y vale mas un tango que esa basura. terminenla. y se la tira de g4ingo. jajaja. eso lo explica es peruca. entonces no leas. jajaja. hablo eh inbesil. jajaja. la tuya es la que uso en las noches para quejarme. tu mama dijo que esta bien. que la visite. a tu mama le gusta. q tu papa q?. lol que tiene tu madre?'. lol. a llorar con su mami. claro. quieres decir que eres mas burro por tu pick. a quejarte con tu mami basura. lol. a llorar con la perra de tu casa. jajaja. lol. basuras perucas. llora con tu mami basura. a llorar con su mami peruca. jajaja. no. a llorar con tu mami. basura peruca. callate basura. mierdas. jajajaj. a llorar con su mami!!",
         "-1"
        ],
        [
         "2770",
         "1842",
         "0980",
         "gg",
         "1"
        ],
        [
         "2637",
         "23848",
         "|| DiGnitY ||",
         "all that for me ?. commend :D. gg",
         "1"
        ],
        [
         "3287",
         "31947",
         "Kardinal Ranzinger",
         "gl hf",
         "1"
        ],
        [
         "1063",
         "8160",
         "invnn",
         "i know. wait poelase. ybe. BYE. i just did lol. with half health. and we are 4v5 bc u nigggers wont pause. 1v1 mid. BYE. Ty. bye :(. BYE. bye. bye?. good game !. well played. bye base :(",
         "-1"
        ],
        [
         "1609",
         "30907",
         "Vatty",
         "gg wp ",
         "1"
        ],
        [
         "4190",
         "14554",
         "Make Your Dreams Come True",
         "chink down boys",
         "-1"
        ],
        [
         "2551",
         "27230",
         "JiNJu`진주",
         "zeus say u noob dude. dunno. dunno. wait . commend u. later again. u can wait him  and enjoy watch porn. your nick. fuck. mofos. lag dude. this valentino rossi",
         "-1"
        ],
        [
         "2890",
         "32112",
         "MbuL",
         "lol. slark never can kill . lol. no",
         "-1"
        ],
        [
         "4812",
         "48735",
         "Gibby",
         "its k ur bad too. :). why?. everyone has rough games. not his fault we rekt him. you have more deaths than him tho. so...",
         "1"
        ],
        [
         "771",
         "1503",
         "@@#$%^&*!?Ey!!? v.2",
         "hasha. dont mind him . :D. sec. GG. GGWP",
         "1"
        ],
        [
         "516",
         "48646",
         "~Turboculosis~",
         "it's only game. why you heff to be mad. eg vs sfz?. we be sfz?. 4 hour game. sfz won with one rax. ggwp. nice game brood",
         "1"
        ],
        [
         "4993",
         "42794",
         "shyboy",
         "3k mmr dont pick farmer lah. wait i fuck u mom. number?. y u guys so poor?. manila dun have any good pc?. will ask isis boom u country soon. pls throw u pentium 3",
         "-1"
        ],
        [
         "4060",
         "42046",
         "iknowlyk",
         "wow that sunstrike damage. gg ghost scpeot ruckers. well alch u fucking lost 2v1 lane. noob fuck. nice ward. lol those eyes",
         "-1"
        ],
        [
         "1621",
         "42129",
         "SIWATHEP",
         "remember to dodge this troll. trust me. anyone know what the fuck he tlaking about. lol",
         "-1"
        ]
       ],
       "shape": {
        "columns": 4,
        "rows": 2115
       }
      },
      "text/html": [
       "<div>\n",
       "<style scoped>\n",
       "    .dataframe tbody tr th:only-of-type {\n",
       "        vertical-align: middle;\n",
       "    }\n",
       "\n",
       "    .dataframe tbody tr th {\n",
       "        vertical-align: top;\n",
       "    }\n",
       "\n",
       "    .dataframe thead th {\n",
       "        text-align: right;\n",
       "    }\n",
       "</style>\n",
       "<table border=\"1\" class=\"dataframe\">\n",
       "  <thead>\n",
       "    <tr style=\"text-align: right;\">\n",
       "      <th></th>\n",
       "      <th>match_id</th>\n",
       "      <th>player_name</th>\n",
       "      <th>player_chat</th>\n",
       "      <th>action</th>\n",
       "    </tr>\n",
       "  </thead>\n",
       "  <tbody>\n",
       "    <tr>\n",
       "      <th>3593</th>\n",
       "      <td>18727</td>\n",
       "      <td>[B]rix</td>\n",
       "      <td>WP</td>\n",
       "      <td>1</td>\n",
       "    </tr>\n",
       "    <tr>\n",
       "      <th>4930</th>\n",
       "      <td>31016</td>\n",
       "      <td>Dominant deer</td>\n",
       "      <td>Ez</td>\n",
       "      <td>-1</td>\n",
       "    </tr>\n",
       "    <tr>\n",
       "      <th>134</th>\n",
       "      <td>28082</td>\n",
       "      <td>Сын Собаки</td>\n",
       "      <td>rofl. all on me?. GG</td>\n",
       "      <td>-1</td>\n",
       "    </tr>\n",
       "    <tr>\n",
       "      <th>541</th>\n",
       "      <td>27540</td>\n",
       "      <td>DG PUFFMG</td>\n",
       "      <td>bet . BET. BET YOU FUCJERS. to bif hc. dk. gg</td>\n",
       "      <td>-1</td>\n",
       "    </tr>\n",
       "    <tr>\n",
       "      <th>2156</th>\n",
       "      <td>27123</td>\n",
       "      <td>#Ex3maL</td>\n",
       "      <td>gg</td>\n",
       "      <td>1</td>\n",
       "    </tr>\n",
       "    <tr>\n",
       "      <th>...</th>\n",
       "      <td>...</td>\n",
       "      <td>...</td>\n",
       "      <td>...</td>\n",
       "      <td>...</td>\n",
       "    </tr>\n",
       "    <tr>\n",
       "      <th>1655</th>\n",
       "      <td>20318</td>\n",
       "      <td>GIGSY DANGER</td>\n",
       "      <td>GG. RPEORT LEGION. PLS. VERY VERY NOOB AND MIS...</td>\n",
       "      <td>-1</td>\n",
       "    </tr>\n",
       "    <tr>\n",
       "      <th>4401</th>\n",
       "      <td>19325</td>\n",
       "      <td>Trickster</td>\n",
       "      <td>outplayed. gg</td>\n",
       "      <td>1</td>\n",
       "    </tr>\n",
       "    <tr>\n",
       "      <th>999</th>\n",
       "      <td>27265</td>\n",
       "      <td>manbearpig</td>\n",
       "      <td>GG</td>\n",
       "      <td>1</td>\n",
       "    </tr>\n",
       "    <tr>\n",
       "      <th>1175</th>\n",
       "      <td>45137</td>\n",
       "      <td>Doctor is coming</td>\n",
       "      <td>mne kajetsya u nas kogoto ne hvataaet, tipa ca...</td>\n",
       "      <td>-1</td>\n",
       "    </tr>\n",
       "    <tr>\n",
       "      <th>1005</th>\n",
       "      <td>34529</td>\n",
       "      <td>Saan ka Punta tapos basura Mush</td>\n",
       "      <td>wait. wait. wtf. Wait. Wtf. wtf. wtf. cant win...</td>\n",
       "      <td>-1</td>\n",
       "    </tr>\n",
       "  </tbody>\n",
       "</table>\n",
       "<p>2115 rows × 4 columns</p>\n",
       "</div>"
      ],
      "text/plain": [
       "      match_id                      player_name  \\\n",
       "3593     18727                           [B]rix   \n",
       "4930     31016                    Dominant deer   \n",
       "134      28082                       Сын Собаки   \n",
       "541      27540                        DG PUFFMG   \n",
       "2156     27123                          #Ex3maL   \n",
       "...        ...                              ...   \n",
       "1655     20318                     GIGSY DANGER   \n",
       "4401     19325                        Trickster   \n",
       "999      27265                       manbearpig   \n",
       "1175     45137                 Doctor is coming   \n",
       "1005     34529  Saan ka Punta tapos basura Mush   \n",
       "\n",
       "                                            player_chat action  \n",
       "3593                                                 WP      1  \n",
       "4930                                                 Ez     -1  \n",
       "134                                rofl. all on me?. GG     -1  \n",
       "541       bet . BET. BET YOU FUCJERS. to bif hc. dk. gg     -1  \n",
       "2156                                                 gg      1  \n",
       "...                                                 ...    ...  \n",
       "1655  GG. RPEORT LEGION. PLS. VERY VERY NOOB AND MIS...     -1  \n",
       "4401                                      outplayed. gg      1  \n",
       "999                                                  GG      1  \n",
       "1175  mne kajetsya u nas kogoto ne hvataaet, tipa ca...     -1  \n",
       "1005  wait. wait. wtf. Wait. Wtf. wtf. wtf. cant win...     -1  \n",
       "\n",
       "[2115 rows x 4 columns]"
      ]
     },
     "execution_count": 18,
     "metadata": {},
     "output_type": "execute_result"
    }
   ],
   "source": [
    "train_df"
   ]
  },
  {
   "cell_type": "code",
   "execution_count": 44,
   "id": "356959f7",
   "metadata": {},
   "outputs": [
    {
     "data": {
      "application/vnd.microsoft.datawrangler.viewer.v0+json": {
       "columns": [
        {
         "name": "index",
         "rawType": "int64",
         "type": "integer"
        },
        {
         "name": "match_id",
         "rawType": "int64",
         "type": "integer"
        },
        {
         "name": "player_name",
         "rawType": "object",
         "type": "string"
        },
        {
         "name": "player_chat",
         "rawType": "object",
         "type": "string"
        },
        {
         "name": "action",
         "rawType": "object",
         "type": "unknown"
        }
       ],
       "ref": "a177dce6-d123-42e8-9074-d7cac394d324",
       "rows": [
        [
         "4995",
         "18647",
         "Phantasm",
         "yea. line problem?. valve?. fuck this",
         "-1"
        ],
        [
         "2978",
         "46459",
         "let me entertain u",
         "ez",
         "-1"
        ],
        [
         "4526",
         "28928",
         "30minSKADI",
         "WHAWHWAHAHWAW. POGNOBILI. juga. gei ebanie. go leave ",
         "-1"
        ],
        [
         "2572",
         "12664",
         "AnyWayAnyDay",
         "ez. gg",
         "-1"
        ],
        [
         "3718",
         "45394",
         "FirstPickSFLEGEND",
         "GO GO 1VS5. rEPORT. vENO. uEBANA",
         "-1"
        ]
       ],
       "shape": {
        "columns": 4,
        "rows": 5
       }
      },
      "text/html": [
       "<div>\n",
       "<style scoped>\n",
       "    .dataframe tbody tr th:only-of-type {\n",
       "        vertical-align: middle;\n",
       "    }\n",
       "\n",
       "    .dataframe tbody tr th {\n",
       "        vertical-align: top;\n",
       "    }\n",
       "\n",
       "    .dataframe thead th {\n",
       "        text-align: right;\n",
       "    }\n",
       "</style>\n",
       "<table border=\"1\" class=\"dataframe\">\n",
       "  <thead>\n",
       "    <tr style=\"text-align: right;\">\n",
       "      <th></th>\n",
       "      <th>match_id</th>\n",
       "      <th>player_name</th>\n",
       "      <th>player_chat</th>\n",
       "      <th>action</th>\n",
       "    </tr>\n",
       "  </thead>\n",
       "  <tbody>\n",
       "    <tr>\n",
       "      <th>4995</th>\n",
       "      <td>18647</td>\n",
       "      <td>Phantasm</td>\n",
       "      <td>yea. line problem?. valve?. fuck this</td>\n",
       "      <td>-1</td>\n",
       "    </tr>\n",
       "    <tr>\n",
       "      <th>2978</th>\n",
       "      <td>46459</td>\n",
       "      <td>let me entertain u</td>\n",
       "      <td>ez</td>\n",
       "      <td>-1</td>\n",
       "    </tr>\n",
       "    <tr>\n",
       "      <th>4526</th>\n",
       "      <td>28928</td>\n",
       "      <td>30minSKADI</td>\n",
       "      <td>WHAWHWAHAHWAW. POGNOBILI. juga. gei ebanie. go...</td>\n",
       "      <td>-1</td>\n",
       "    </tr>\n",
       "    <tr>\n",
       "      <th>2572</th>\n",
       "      <td>12664</td>\n",
       "      <td>AnyWayAnyDay</td>\n",
       "      <td>ez. gg</td>\n",
       "      <td>-1</td>\n",
       "    </tr>\n",
       "    <tr>\n",
       "      <th>3718</th>\n",
       "      <td>45394</td>\n",
       "      <td>FirstPickSFLEGEND</td>\n",
       "      <td>GO GO 1VS5. rEPORT. vENO. uEBANA</td>\n",
       "      <td>-1</td>\n",
       "    </tr>\n",
       "  </tbody>\n",
       "</table>\n",
       "</div>"
      ],
      "text/plain": [
       "      match_id         player_name  \\\n",
       "4995     18647            Phantasm   \n",
       "2978     46459  let me entertain u   \n",
       "4526     28928          30minSKADI   \n",
       "2572     12664        AnyWayAnyDay   \n",
       "3718     45394   FirstPickSFLEGEND   \n",
       "\n",
       "                                            player_chat action  \n",
       "4995              yea. line problem?. valve?. fuck this     -1  \n",
       "2978                                                 ez     -1  \n",
       "4526  WHAWHWAHAHWAW. POGNOBILI. juga. gei ebanie. go...     -1  \n",
       "2572                                             ez. gg     -1  \n",
       "3718                   GO GO 1VS5. rEPORT. vENO. uEBANA     -1  "
      ]
     },
     "execution_count": 44,
     "metadata": {},
     "output_type": "execute_result"
    }
   ],
   "source": [
    "sample = train_df.sample(n=5)\n",
    "sample"
   ]
  },
  {
   "cell_type": "markdown",
   "id": "d25922bc",
   "metadata": {},
   "source": [
    "# **Trial ChatGPT API**"
   ]
  },
  {
   "cell_type": "markdown",
   "id": "1e22bd9f",
   "metadata": {},
   "source": [
    "Checking the number of input tokens the output would generate"
   ]
  },
  {
   "cell_type": "code",
   "execution_count": null,
   "id": "a5aa6e0f",
   "metadata": {},
   "outputs": [],
   "source": [
    "load_dotenv()\n",
    "API_KEY = os.getenv(\"OPENAI_API_KEY\")\n",
    "client = OpenAI(api_key=API_KEY)"
   ]
  },
  {
   "cell_type": "code",
   "execution_count": 83,
   "id": "8ac765dd",
   "metadata": {},
   "outputs": [],
   "source": [
    "instruction = (\n",
    "    \"You are a data generator tasked with creating realistic game chat content \"\n",
    "    \"based on provided labels. You should maintain the style, slang, and informal tone of the chat, \"\n",
    "    \"including typos where appropriate, but the content must not be copied. \"\n",
    "    \"Return a list of new entries in valid JSON format, where each entry is a Python dictionary with the keys \"\n",
    "    \"'player_chat' and 'action'.\"\n",
    ")\n",
    "input = (\n",
    "    f\"Here is a sample of labeled game chat data:\\n\\n\"\n",
    "    f\"{train_df[['player_chat', 'action']].to_dict(orient='records')}\\n\\n\"\n",
    "    \"Please generate 907 new samples that are similar in style, and output them as a valid JSON list of dictionaries. \"\n",
    "    \"Each dictionary should have 'player_chat' as a string and 'action' as a string (either '1' or '-1').\"\n",
    ")\n",
    "\n",
    "response = client.responses.create(\n",
    "    model=\"gpt-4o\",\n",
    "    instructions=instruction,\n",
    "    input=input\n",
    ")"
   ]
  },
  {
   "cell_type": "code",
   "execution_count": 84,
   "id": "6cbb6a9f",
   "metadata": {},
   "outputs": [
    {
     "name": "stdout",
     "output_type": "stream",
     "text": [
      "```json\n",
      "[\n",
      "    {\"player_chat\": \"gg\", \"action\": \"1\"},\n",
      "    {\"player_chat\": \"ez money\", \"action\": \"-1\"},\n",
      "    {\"player_chat\": \"GG EZ\", \"action\": \"1\"},\n",
      "    {\"player_chat\": \"lol noob team\", \"action\": \"-1\"},\n",
      "    {\"player_chat\": \"What a match!\", \"action\": \"1\"},\n",
      "    {\"player_chat\": \"gg wp guys\", \"action\": \"1\"},\n",
      "    {\"player_chat\": \"GET REKT\", \"action\": \"-1\"},\n",
      "    {\"player_chat\": \"nice try. gg\", \"action\": \"1\"},\n",
      "    {\"player_chat\": \"srsly? report\", \"action\": \"-1\"},\n",
      "    {\"player_chat\": \"rofl trash\", \"action\": \"-1\"},\n",
      "    {\"player_chat\": \"ggwp\", \"action\": \"1\"},\n",
      "    {\"player_chat\": \"gg easy\", \"action\": \"-1\"},\n",
      "    {\"player_chat\": \"thx 4 the game!\", \"action\": \"1\"},\n",
      "    {\"player_chat\": \"team sucks\", \"action\": \"-1\"},\n",
      "    {\"player_chat\": \"it was fun :)\", \"action\": \"1\"},\n",
      "    {\"player_chat\": \"noob city\", \"action\": \"-1\"},\n",
      "    {\"player_chat\": \"gg well played\", \"action\": \"1\"},\n",
      "    {\"player_chat\": \"learn to play\", \"action\": \"-1\"},\n",
      "    {\"player_chat\": \"glhf\", \"action\": \"1\"},\n",
      "    {\"player_chat\": \"lagggg omg\", \"action\": \"-1\"},\n",
      "    {\"player_chat\": \"best team!\", \"action\": \"1\"},\n",
      "    {\"player_chat\": \"ugh... no comment\", \"action\": \"-1\"},\n",
      "    {\"player_chat\": \"good vibes\", \"action\": \"1\"},\n",
      "    {\"player_chat\": \"wtf was that\", \"action\": \"-1\"},\n",
      "    {\"player_chat\": \"nice game guys\", \"action\": \"1\"},\n",
      "    {\"player_chat\": \"ugh team noobs\", \"action\": \"-1\"},\n",
      "    {\"player_chat\": \"gg thx\", \"action\": \"1\"},\n",
      "    {\"player_chat\": \"trash comp\", \"action\": \"-1\"},\n",
      "    {\"player_chat\": \"better luck next time\", \"action\": \"1\"},\n",
      "    {\"player_chat\": \"so bad omg\", \"action\": \"-1\"},\n",
      "    {\"player_chat\": \"wp everyone\", \"action\": \"1\"},\n",
      "    {\"player_chat\": \":D gg\", \"action\": \"1\"},\n",
      "    {\"player_chat\": \"profit feeder\", \"action\": \"-1\"},\n",
      "    {\"player_chat\": \"well played!\", \"action\": \"1\"},\n",
      "    {\"player_chat\": \":facepalm:\", \"action\": \"-1\"},\n",
      "    {\"player_chat\": \"commend everyone :)\", \"action\": \"1\"},\n",
      "    {\"player_chat\": \"LOL TRASH\", \"action\": \"-1\"},\n",
      "    {\"player_chat\": \"ggwp ya’ll\", \"action\": \"1\"},\n",
      "    {\"player_chat\": \"report pls\", \"action\": \"-1\"},\n",
      "    {\"player_chat\": \"cya next game!\", \"action\": \"1\"},\n",
      "    {\"player_chat\": \"ugh feeder\", \"action\": \"-1\"},\n",
      "    {\"player_chat\": \"thanks for the save!\", \"action\": \"1\"},\n",
      "    {\"player_chat\": \"what a joke\", \"action\": \"-1\"},\n",
      "    {\"player_chat\": \"haha nice\", \"action\": \"1\"},\n",
      "    {\"player_chat\": \"mad?\", \"action\": \"-1\"},\n",
      "    {\"player_chat\": \"peace out!\", \"action\": \"1\"},\n",
      "    {\"player_chat\": \"so done\", \"action\": \"-1\"},\n",
      "    {\"player_chat\": \"good game\", \"action\": \"1\"},\n",
      "    {\"player_chat\": \"yikes\", \"action\": \"-1\"},\n",
      "    {\"player_chat\": \"thx for the carry\", \"action\": \"1\"},\n",
      "    {\"player_chat\": \"no skill\", \"action\": \"-1\"},\n",
      "    {\"player_chat\": \"gg bby\", \"action\": \"1\"},\n",
      "    {\"player_chat\": \"fkn trash\", \"action\": \"-1\"},\n",
      "    {\"player_chat\": \"nice shot!\", \"action\": \"1\"},\n",
      "    {\"player_chat\": \"ggez\", \"action\": \"-1\"},\n",
      "    {\"player_chat\": \"yay!\", \"action\": \"1\"},\n",
      "    {\"player_chat\": \"still trash\", \"action\": \"-1\"},\n",
      "    {\"player_chat\": \"gg wp fam\", \"action\": \"1\"},\n",
      "    {\"player_chat\": \"wow lame\", \"action\": \"-1\"},\n",
      "    {\"player_chat\": \"gg team :)\", \"action\": \"1\"},\n",
      "    {\"player_chat\": \"omg so easy\", \"action\": \"-1\"},\n",
      "    {\"player_chat\": \"clutch win!\", \"action\": \"1\"},\n",
      "    {\"player_chat\": \"what a mess\", \"action\": \"-1\"},\n",
      "    {\"player_chat\": \"thx all\", \"action\": \"1\"},\n",
      "    {\"player_chat\": \"trash game\", \"action\": \"-1\"},\n",
      "    {\"player_chat\": \"good luck next match!\", \"action\": \"1\"},\n",
      "    {\"player_chat\": \"seriously?\", \"action\": \"-1\"},\n",
      "    {\"player_chat\": \"nice work guys\", \"action\": \"1\"},\n",
      "    {\"player_chat\": \"report SK\", \"action\": \"-1\"},\n",
      "    {\"player_chat\": \":) gg\", \"action\": \"1\"},\n",
      "    {\"player_chat\": \"smh feeders\", \"action\": \"-1\"},\n",
      "    {\"player_chat\": \"lol amazing\", \"action\": \"1\"},\n",
      "    {\"player_chat\": \"ur mom\", \"action\": \"-1\"},\n",
      "    {\"player_chat\": \"catch ya later\", \"action\": \"1\"},\n",
      "    {\"player_chat\": \"can't believe this\", \"action\": \"-1\"},\n",
      "    {\"player_chat\": \"this was epic\", \"action\": \"1\"},\n",
      "    {\"player_chat\": \"can't carry idiots\", \"action\": \"-1\"},\n",
      "    {\"player_chat\": \"one for the books!\", \"action\": \"1\"},\n",
      "    {\"player_chat\": \"ugh report\", \"action\": \"-1\"},\n",
      "    {\"player_chat\": \"better than last time!\", \"action\": \"1\"},\n",
      "    {\"player_chat\": \"awful game\", \"action\": \"-1\"},\n",
      "    {\"player_chat\": \"<3 y’all\", \"action\": \"1\"},\n",
      "    {\"player_chat\": \"rofl\", \"action\": \"-1\"},\n",
      "    {\"player_chat\": \"let’s do it again!\", \"action\": \"1\"},\n",
      "    {\"player_chat\": \"noob fest\", \"action\": \"-1\"},\n",
      "    {\"player_chat\": \"pushed well!\", \"action\": \"1\"},\n",
      "    {\"player_chat\": \"OP hero\", \"action\": \"-1\"},\n",
      "    {\"player_chat\": \":P gg\", \"action\": \"1\"},\n",
      "    {\"player_chat\": \"sick game\", \"action\": \"-1\"},\n",
      "    {\"player_chat\": \"best match ever\", \"action\": \"1\"},\n",
      "    {\"player_chat\": \"dumpster fire\", \"action\": \"-1\"},\n",
      "    {\"player_chat\": \"missed all day\", \"action\": \"-1\"},\n",
      "    {\"player_chat\": \"ggwp bros\", \"action\": \"1\"},\n",
      "    {\"player_chat\": \"unreal\", \"action\": \"-1\"},\n",
      "    {\"player_chat\": \"strong finish!\", \"action\": \"1\"},\n",
      "    {\"player_chat\": \"no communication\", \"action\": \"-1\"},\n",
      "    {\"player_chat\": \"lol wp\", \"action\": \"1\"},\n",
      "    {\"player_chat\": \"smurf detected\", \"action\": \"-1\"},\n",
      "    {\"player_chat\": \"fine show\", \"action\": \"1\"},\n",
      "    {\"player_chat\": \"gr8 job\", \"action\": \"1\"},\n",
      "    {\"player_chat\": \"tilt mode\", \"action\": \"-1\"},\n",
      "    {\"player_chat\": \"nice teamwork\", \"action\": \"1\"},\n",
      "    {\"player_chat\": \"threw hard\", \"action\": \"-1\"},\n",
      "    {\"player_chat\": \"team spirit!\", \"action\": \"1\"},\n",
      "    {\"player_chat\": \"u suck\", \"action\": \"-1\"},\n",
      "    {\"player_chat\": \"can’t wait for next\", \"action\": \"1\"},\n",
      "    {\"player_chat\": \"pathetic play\", \"action\": \"-1\"},\n",
      "    {\"player_chat\": \"uwu gg\", \"action\": \"1\"},\n",
      "    {\"player_chat\": \"lmao trash\", \"action\": \"-1\"},\n",
      "    {\"player_chat\": \"rocked it\", \"action\": \"1\"},\n",
      "    {\"player_chat\": \"gg bots\", \"action\": \"-1\"},\n",
      "    {\"player_chat\": \"ace plays!\", \"action\": \"1\"},\n",
      "    {\"player_chat\": \"garbage comp\", \"action\": \"-1\"},\n",
      "    {\"player_chat\": \"stellar game\", \"action\": \"1\"},\n",
      "    {\"player_chat\": \"report your life\", \"action\": \"-1\"},\n",
      "    {\"player_chat\": \"looking forward to more\", \"action\": \"1\"},\n",
      "    {\"player_chat\": \"watch and learn\", \"action\": \"-1\"},\n",
      "    {\"player_chat\": \"adios amigos\", \"action\": \"1\"},\n",
      "    {\"player_chat\": \"gg imba\", \"action\": \"-1\"},\n",
      "    {\"player_chat\": \"peace!\", \"action\": \"1\"},\n",
      "    {\"player_chat\": \"weak plays\", \"action\": \"-1\"},\n",
      "    {\"player_chat\": \"gg see ya\", \"action\": \"1\"},\n",
      "    {\"player_chat\": \"murda everyone\", \"action\": \"-1\"},\n",
      "    {\"player_chat\": \"whoop whoop\", \"action\": \"1\"},\n",
      "    {\"player_chat\": \"outplayed by noobs\", \"action\": \"-1\"},\n",
      "    {\"player_chat\": \"nicely done\", \"action\": \"1\"},\n",
      "    {\"player_chat\": \"nice game\", \"action\": \"1\"},\n",
      "    {\"player_chat\": \"stupid team\", \"action\": \"-1\"},\n",
      "    {\"player_chat\": \"hey ggs\", \"action\": \"1\"},\n",
      "    {\"player_chat\": \"it was ez\", \"action\": \"1\"},\n",
      "    {\"player_chat\": \"lol useless\", \"action\": \"-1\"},\n",
      "    {\"player_chat\": \"sick win\", \"action\": \"1\"},\n",
      "    {\"player_chat\": \"ff already\", \"action\": \"-1\"},\n",
      "    {\"player_chat\": \"great match!\", \"action\": \"1\"},\n",
      "    {\"player_chat\": \"can’t believe that\", \"action\": \"-1\"},\n",
      "    {\"player_chat\": \"big plays\", \"action\": \"1\"},\n",
      "    {\"player_chat\": \"wtf just happened\", \"action\": \"-1\"},\n",
      "    {\"player_chat\": \"cheers mates\", \"action\": \"1\"},\n",
      "    {\"player_chat\": \"u guys r trash\", \"action\": \"-1\"},\n",
      "    {\"player_chat\": \"felt good\", \"action\": \"1\"},\n",
      "    {\"player_chat\": \"reported all\", \"action\": \"-1\"},\n",
      "    {\"player_chat\": \"how fun was that?\", \"action\": \"1\"},\n",
      "    {\"player_chat\": \"irl noobs\", \"action\": \"-1\"},\n",
      "    {\"player_chat\": \"yayyy\", \"action\": \"1\"},\n",
      "    {\"player_chat\": \"get gud\", \"action\": \"-1\"},\n",
      "    {\"player_chat\": \"np gg\", \"action\": \"1\"},\n",
      "    {\"player_chat\": \"team is monkeys\", \"action\": \"-1\"},\n",
      "    {\"player_chat\": \"loved it!\", \"action\": \"1\"},\n",
      "    {\"player_chat\": \"clowns\", \"action\": \"-1\"},\n",
      "    {\"player_chat\": \"well fought\", \"action\": \"1\"},\n",
      "    {\"player_chat\": \"retired feeder\", \"action\": \"-1\"},\n",
      "    {\"player_chat\": \"great play guys\", \"action\": \"1\"},\n",
      "    {\"player_chat\": \"zero skill\", \"action\": \"-1\"},\n",
      "    {\"player_chat\": \"sweet victory\", \"action\": \"1\"},\n",
      "    {\"player_chat\": \"ok i done\", \"action\": \"-1\"},\n",
      "    {\"player_chat\": \"until next time\", \"action\": \"1\"},\n",
      "    {\"player_chat\": \"no more games\", \"action\": \"-1\"},\n",
      "    {\"player_chat\": \"veteran plays\", \"action\": \"1\"},\n",
      "    {\"player_chat\": \"wtf was dat\", \"action\": \"-1\"},\n",
      "    {\"player_chat\": \"yay team!\", \"action\": \"1\"},\n",
      "    {\"player_chat\": \"painful game\", \"action\": \"-1\"},\n",
      "    {\"player_chat\": \"well deserved\", \"action\": \"1\"},\n",
      "    {\"player_chat\": \"what a failure\", \"action\": \"-1\"},\n",
      "    {\"player_chat\": \"outstanding\", \"action\": \"1\"},\n",
      "    {\"player_chat\": \"janked futures\", \"action\": \"-1\"},\n",
      "    {\"player_chat\": \"ggwp y’all\", \"action\": \"1\"},\n",
      "    {\"player_chat\": \"lose faster\", \"action\": \"-1\"},\n",
      "    {\"player_chat\": \"zzzz ez\", \"action\": \"-1\"},\n",
      "    {\"player_chat\": \"good hustle\", \"action\": \"1\"},\n",
      "    {\"player_chat\": \"thanks bro!\", \"action\": \"1\"},\n",
      "    {\"player_chat\": \"disappointing\", \"action\": \"-1\"},\n",
      "    {\"player_chat\": \"carry me\", \"action\": \"-1\"},\n",
      "    {\"player_chat\": \"u wrecked!\", \"action\": \"1\"},\n",
      "    {\"player_chat\": \"no chance\", \"action\": \"-1\"},\n",
      "    {\"player_chat\": \"smile more\", \"action\": \"1\"},\n",
      "    {\"player_chat\": \"chaos game\", \"action\": \"-1\"},\n",
      "    {\"player_chat\": \"can’t complain\", \"action\": \"1\"},\n",
      "    {\"player_chat\": \"blame game\", \"action\": \"-1\"},\n",
      "    {\"player_chat\": \"brilliant\", \"action\": \"1\"},\n",
      "    {\"player_chat\": \"crash and burn\", \"action\": \"-1\"},\n",
      "    {\"player_chat\": \"needed this!\", \"action\": \"1\"},\n",
      "    {\"player_chat\": \"lul defeat\", \"action\": \"-1\"},\n",
      "    {\"player_chat\": \"nicely played\", \"action\": \"1\"},\n",
      "    {\"player_chat\": \"finished.\", \"action\": \"-1\"},\n",
      "    {\"player_chat\": \"see you soon!\", \"action\": \"1\"},\n",
      "    {\"player_chat\": \"clown fiesta\", \"action\": \"-1\"},\n",
      "    {\"player_chat\": \"motivation!\", \"action\": \"1\"},\n",
      "    {\"player_chat\": \"done for today\", \"action\": \"-1\"},\n",
      "    {\"player_chat\": \"what a treat\", \"action\": \"1\"},\n",
      "    {\"player_chat\": \"yall are bad\", \"action\": \"-1\"},\n",
      "    {\"player_chat\": \"keen to rematch\", \"action\": \"1\"},\n",
      "    {\"player_chat\": \"zero talents\", \"action\": \"-1\"},\n",
      "    {\"player_chat\": \"loving it!\", \"action\": \"1\"},\n",
      "    {\"player_chat\": \"can’t relate\", \"action\": \"-1\"},\n",
      "    {\"player_chat\": \"good win\", \"action\": \"1\"},\n",
      "    {\"player_chat\": \"Sadface\", \"action\": \"-1\"},\n",
      "    {\"player_chat\": \"dope job\", \"action\": \"1\"},\n",
      "    {\"player_chat\": \"facepalm\", \"action\": \"-1\"},\n",
      "    {\"player_chat\": \"happy days!\", \"action\": \"1\"},\n",
      "    {\"player_chat\": \"no team play\", \"action\": \"-1\"},\n",
      "    {\"player_chat\": \"gg big win\", \"action\": \"1\"},\n",
      "    {\"player_chat\": \"just end it\", \"action\": \"-1\"},\n",
      "    {\"player_chat\": \"on fire\", \"action\": \"1\"},\n",
      "    {\"player_chat\": \"this game..\", \"action\": \"-1\"},\n",
      "    {\"player_chat\": \"yay xd\", \"action\": \"1\"},\n",
      "    {\"player_chat\": \"unbelievable\", \"action\": \"-1\"},\n",
      "    {\"player_chat\": \"heartfelt win\", \"action\": \"1\"},\n",
      "    {\"player_chat\": \"low effort\", \"action\": \"-1\"},\n",
      "    {\"player_chat\": \"dynamic play\", \"action\": \"1\"},\n",
      "    {\"player_chat\": \"zzzz\", \"action\": \"-1\"},\n",
      "    {\"player_chat\": \"slick moves\", \"action\": \"1\"},\n",
      "    {\"player_chat\": \"not even mad\", \"action\": \"-1\"},\n",
      "    {\"player_chat\": \"epic finish\", \"action\": \"1\"},\n",
      "    {\"player_chat\": \"ugh\", \"action\": \"-1\"},\n",
      "    {\"player_chat\": \"arguably best team\", \"action\": \"1\"},\n",
      "    {\"player_chat\": \"wow...\", \"action\": \"-1\"},\n",
      "    {\"player_chat\": \"real fun!\", \"action\": \"1\"},\n",
      "    {\"player_chat\": \"utter garbage\", \"action\": \"-1\"},\n",
      "    {\"player_chat\": \"pretty sweet\", \"action\": \"1\"},\n",
      "    {\"player_chat\": \"big fail\", \"action\": \"-1\"},\n",
      "    {\"player_chat\": \"admirable effort\", \"action\": \"1\"},\n",
      "    {\"player_chat\": \"trainwreck\", \"action\": \"-1\"},\n",
      "    {\"player_chat\": \"always awesome\", \"action\": \"1\"},\n",
      "    {\"player_chat\": \"my team dumb\", \"action\": \"-1\"},\n",
      "    {\"player_chat\": \"so so fun\", \"action\": \"1\"},\n",
      "    {\"player_chat\": \"report tech\", \"action\": \"-1\"},\n",
      "    {\"player_chat\": \"ggwp next time\", \"action\": \"1\"},\n",
      "    {\"player_chat\": \"fkn premades\", \"action\": \"-1\"},\n",
      "    {\"player_chat\": \"loved the synergy\", \"action\": \"1\"},\n",
      "    {\"player_chat\": \"got rekt\", \"action\": \"-1\"},\n",
      "    {\"player_chat\": \"gg wp more please\", \"action\": \"1\"},\n",
      "    {\"player_chat\": \"awful picks\", \"action\": \"-1\"},\n",
      "    {\"player_chat\": \"can't believe we won!\", \"action\": \"1\"},\n",
      "    {\"player_chat\": \"lame team\", \"action\": \"-1\"},\n",
      "    {\"player_chat\": \"keep it coming!\", \"action\": \"1\"},\n",
      "    {\"player_chat\": \"missed ults\", \"action\": \"-1\"},\n",
      "    {\"player_chat\": \"that was rad\", \"action\": \"1\"},\n",
      "    {\"player_chat\": \"just ff\", \"action\": \"-1\"},\n",
      "    {\"player_chat\": \"keep popping\", \"action\": \"1\"},\n",
      "    {\"player_chat\": \"not fun\", \"action\": \"-1\"},\n",
      "    {\"player_chat\": \"brb, need coffee\", \"action\": \"1\"},\n",
      "    {\"player_chat\": \"ffs\", \"action\": \"-1\"},\n",
      "    {\"player_chat\": \"boss game\", \"action\": \"1\"},\n",
      "    {\"player_chat\": \"THIS GAME\", \"action\": \"-1\"},\n",
      "    {\"player_chat\": \"I'm hype\", \"action\": \"1\"},\n",
      "    {\"player_chat\": \"pathetic\", \"action\": \"-1\"},\n",
      "    {\"player_chat\": \"can't stop winning\", \"action\": \"1\"},\n",
      "    {\"player_chat\": \"time wasted\", \"action\": \"-1\"},\n",
      "    {\"player_chat\": \"warms my heart\", \"action\": \"1\"},\n",
      "    {\"player_chat\": \"no coordination\", \"action\": \"-1\"},\n",
      "    {\"player_chat\": \"team vibes!\", \"action\": \"1\"},\n",
      "    {\"player_chat\": \"total noobs\", \"action\": \"-1\"},\n",
      "    {\"player_chat\": \"slayed it\", \"action\": \"1\"},\n",
      "    {\"player_chat\": \"well that's disappointing\", \"action\": \"-1\"},\n",
      "    {\"player_chat\": \"what a rush\", \"action\": \"1\"},\n",
      "    {\"player_chat\": \"utter defeat\", \"action\": \"-1\"},\n",
      "    {\"player_chat\": \"beyond fun\", \"action\": \"1\"},\n",
      "    {\"player_chat\": \"zzzzzz\", \"action\": \"-1\"},\n",
      "    {\"player_chat\": \"incredible!\", \"action\": \"1\"},\n",
      "    {\"player_chat\": \"these bots\", \"action\": \"-1\"},\n",
      "    {\"player_chat\": \"good laugh\", \"action\": \"1\"},\n",
      "    {\"player_chat\": \"bored\", \"action\": \"-1\"},\n",
      "    {\"player_chat\": \"yay victory!\", \"action\": \"1\"},\n",
      "    {\"player_chat\": \"get lost\", \"action\": \"-1\"},\n",
      "    {\"player_chat\": \"good growth match\", \"action\": \"1\"},\n",
      "    {\"player_chat\": \"team is meh\", \"action\": \"-1\"},\n",
      "    {\"player_chat\": \"so much fun!\", \"action\": \"1\"},\n",
      "    {\"player_chat\": \"peace losers\", \"action\": \"-1\"},\n",
      "    {\"player_chat\": \"yea bois\", \"action\": \"1\"},\n",
      "    {\"player_chat\": \"talk about rough\", \"action\": \"-1\"},\n",
      "    {\"player_chat\": \"made my day\", \"action\": \"1\"},\n",
      "    {\"player_chat\": \"done with dota\", \"action\": \"-1\"},\n",
      "    {\"player_chat\": \"fantastic!\", \"action\": \"1\"},\n",
      "    {\"player_chat\": \"bad game\", \"action\": \"-1\"},\n",
      "    {\"player_chat\": \"dope!\", \"action\": \"1\"},\n",
      "    {\"player_chat\": \"ate it.\", \"action\": \"-1\"},\n",
      "    {\"player_chat\": \"strong win\", \"action\": \"1\"},\n",
      "    {\"player_chat\": \"gg nooblord\", \"action\": \"-1\"},\n",
      "    {\"player_chat\": \"wonderful team\", \"action\": \"1\"},\n",
      "    {\"player_chat\": \"disaster comp\", \"action\": \"-1\"},\n",
      "    {\"player_chat\": \"perfect match\", \"action\": \"1\"},\n",
      "    {\"player_chat\": \"get serious ffs\", \"action\": \"-1\"},\n",
      "    {\"player_chat\": \"epic team match\", \"action\": \"1\"},\n",
      "    {\"player_chat\": \"where's the skill?\", \"action\": \"-1\"},\n",
      "    {\"player_chat\": \"hooray\", \"action\": \"1\"},\n",
      "    {\"player_chat\": \"dca??\", \"action\": \"-1\"},\n",
      "    {\"player_chat\": \"boss plays\", \"action\": \"1\"},\n",
      "    {\"player_chat\": \"never again\", \"action\": \"-1\"},\n",
      "    {\"player_chat\": \"screamer\", \"action\": \"1\"},\n",
      "    {\"player_chat\": \"dear lord\", \"action\": \"-1\"},\n",
      "    {\"player_chat\": \"love this game\", \"action\": \"1\"},\n",
      "    {\"player_chat\": \"just why\", \"action\": \"-1\"},\n",
      "    {\"player_chat\": \"what a combo\", \"action\": \"1\"},\n",
      "    {\"player_chat\": \"trash as always\", \"action\": \"-1\"},\n",
      "    {\"player_chat\": \"A+ game\", \"action\": \"1\"},\n",
      "    {\"player_chat\": \"never learn\", \"action\": \"-1\"},\n",
      "    {\"player_chat\": \"one for the ages\", \"action\": \"1\"},\n",
      "    {\"player_chat\": \"downhill fast\", \"action\": \"-1\"},\n",
      "    {\"player_chat\": \"love my team\", \"action\": \"1\"},\n",
      "    {\"player_chat\": \"fail lane\", \"action\": \"-1\"},\n",
      "    {\"player_chat\": \"props team!\", \"action\": \"1\"},\n",
      "    {\"player_chat\": \"loadsa lols\", \"action\": \"-1\"},\n",
      "    {\"player_chat\": \"super experience\", \"action\": \"1\"},\n",
      "    {\"player_chat\": \"feed more plx\", \"action\": \"-1\"},\n",
      "    {\"player_chat\": \"breathe taking match\", \"action\": \"1\"},\n",
      "    {\"player_chat\": \"more monkeys\", \"action\": \"-1\"},\n",
      "    {\"player_chat\": \"highlights galore\", \"action\": \"1\"},\n",
      "    {\"player_chat\": \"zero synergy\", \"action\": \"-1\"},\n",
      "    {\"player_chat\": \"go heroes!\", \"action\": \"1\"},\n",
      "    {\"player_chat\": \"wtf plays\", \"action\": \"-1\"},\n",
      "    {\"player_chat\": \"yea match!\", \"action\": \"1\"},\n",
      "    {\"player_chat\": \"leave bot\", \"action\": \"-1\"},\n",
      "    {\"player_chat\": \"smashing game\", \"action\": \"1\"},\n",
      "    {\"player_chat\": \"more drags\", \"action\": \"-1\"},\n",
      "    {\"player_chat\": \"bangin' finish\", \"action\": \"1\"},\n",
      "    {\"player_chat\": \"bot game :\\\\\", \"action\": \"-1\"},\n",
      "    {\"player_chat\": \"Horay!\", \"action\": \"1\"},\n",
      "    {\"player_chat\": \"wet paper strats\", \"action\": \"-1\"},\n",
      "    {\"player_chat\": \"BOOM\", \"action\": \"1\"},\n",
      "    {\"player_chat\": \"couldn't end faster\", \"action\": \"-1\"},\n",
      "    {\"player_chat\": \"bingo\", \"action\": \"1\"},\n",
      "    {\"player_chat\": \"emo kids\", \"action\": \"-1\"},\n",
      "    {\"player_chat\": \"eye opening\", \"action\": \"1\"},\n",
      "    {\"player_chat\": \"need guidance\", \"action\": \"-1\"},\n",
      "    {\"player_chat\": \"hero of the match\", \"action\": \"1\"},\n",
      "    {\"player_chat\": \"cry moar\", \"action\": \"-1\"},\n",
      "    {\"player_chat\": \"massive win!\", \"action\": \"1\"},\n",
      "    {\"player_chat\": \"that’s the worst\", \"action\": \"-1\"},\n",
      "    {\"player_chat\": \"feeling good\", \"action\": \"1\"},\n",
      "    {\"player_chat\": \"absolutely trash\", \"action\": \"-1\"},\n",
      "    {\"player_chat\": \"what heroes!\", \"action\": \"1\"},\n",
      "    {\"player_chat\": \"watch dota fail\", \"action\": \"-1\"},\n",
      "    {\"player_chat\": \"dunn better\", \"action\": \"1\"},\n",
      "    {\"player_chat\": \"sheesh\", \"action\": \"-1\"},\n",
      "    {\"player_chat\": \"glorious\", \"action\": \"1\"},\n",
      "    {\"player_chat\": \"leave game\", \"action\": \"-1\"},\n",
      "    {\"player_chat\": \"more pls!\", \"action\": \"1\"},\n",
      "    {\"player_chat\": \"weak AF\", \"action\": \"-1\"},\n",
      "    {\"player_chat\": \":)\", \"action\": \"1\"},\n",
      "    {\"player_chat\": \"pathetic af\", \"action\": \"-1\"},\n",
      "    {\"player_chat\": \"grats all\", \"action\": \"1\"},\n",
      "    {\"player_chat\": \"total mess\", \"action\": \"-1\"},\n",
      "    {\"player_chat\": \"another win\", \"action\": \"1\"},\n",
      "    {\"player_chat\": \"lol grief\", \"action\": \"-1\"},\n",
      "    {\"player_chat\": \"cheers all\", \"action\": \"1\"},\n",
      "    {\"player_chat\": \"waste\", \"action\": \"-1\"},\n",
      "    {\"player_chat\": \"spicy!\", \"action\": \"1\"},\n",
      "    {\"player_chat\": \"ceiling cats\", \"action\": \"-1\"},\n",
      "    {\"player_chat\": \"XDDD\", \"action\": \"1\"},\n",
      "    {\"player_chat\": \"pain\", \"action\": \"-1\"},\n",
      "    {\"player_chat\": \"crispy win\", \"action\": \"1\"},\n",
      "    {\"player_chat\": \"utter trash\", \"action\": \"-1\"},\n",
      "    {\"player_chat\": \"forward momentum\", \"action\": \"1\"},\n",
      "    {\"player_chat\": \"backwards Phase\", \"action\": \"-1\"},\n",
      "    {\"player_chat\": \"zzzzzzzzz\", \"action\": \"1\"},\n",
      "    {\"player_chat\": \"real talk\", \"action\": \"-1\"},\n",
      "    {\"player_chat\": \"way to go!\", \"action\": \"1\"},\n",
      "    {\"player_chat\": \"no strategy\", \"action\": \"-1\"},\n",
      "    {\"player_chat\": \"way to demolish\", \"action\": \"1\"},\n",
      "    {\"player_chat\": \"next time...\", \"action\": \"-1\"},\n",
      "    {\"player_chat\": \"mvp!\", \"action\": \"1\"},\n",
      "    {\"player_chat\": \"ugh boggles\", \"action\": \"-1\"},\n",
      "    {\"player_chat\": \"wild plays\", \"action\": \"1\"},\n",
      "    {\"player_chat\": \"noob central\", \"action\": \"-1\"},\n",
      "    {\"player_chat\": \"A+ game\", \"action\": \"1\"},\n",
      "    {\"player_chat\": \"fail hard\", \"action\": \"-1\"},\n",
      "    {\"player_chat\": \"loving this!\", \"action\": \"1\"},\n",
      "    {\"player_chat\": \"stupidity reigns\", \"action\": \"-1\"},\n",
      "    {\"player_chat\": \"shredded em\", \"action\": \"1\"},\n",
      "    {\"player_chat\": \"l0sers\", \"action\": \"-1\"},\n",
      "    {\"player_chat\": \"sweet stuff\", \"action\": \"1\"},\n",
      "    {\"player_chat\": \"wtf!\", \"action\": \"-1\"},\n",
      "    {\"player_chat\": \"bonkers fun\", \"action\": \"1\"},\n",
      "    {\"player_chat\": \"mistakes made\", \"action\": \"-1\"},\n",
      "    {\"player_chat\": \"downright awesome\", \"action\": \"1\"},\n",
      "    {\"player_chat\": \"sit tf down\", \"action\": \"-1\"},\n",
      "    {\"player_chat\": \"knocked it out\", \"action\": \"1\"},\n",
      "    {\"player_chat\": \"fall guys\", \"action\": \"-1\"},\n",
      "    {\"player_chat\": \"awesome energy\", \"action\": \"1\"},\n",
      "    {\"player_chat\": \"total screwup\", \"action\": \"-1\"},\n",
      "    {\"player_chat\": \"epic laugh\", \"action\": \"1\"},\n",
      "    {\"player_chat\": \"fml\", \"action\": \"-1\"},\n",
      "    {\"player_chat\": \"what a sight!\", \"action\": \"1\"},\n",
      "    {\"player_chat\": \"clunky\", \"action\": \"-1\"},\n",
      "    {\"player_chat\": \"proper lol\", \"action\": \"1\"},\n",
      "    {\"player_chat\": \"can’t believe\", \"action\": \"-1\"},\n",
      "    {\"player_chat\": \"savage squad\", \"action\": \"1\"},\n",
      "    {\"player_chat\": \"piss off\", \"action\": \"-1\"},\n",
      "    {\"player_chat\": \"they did!\", \"action\": \"1\"},\n",
      "    {\"player_chat\": \"the worst\", \"action\": \"-1\"},\n",
      "    {\"player_chat\": \"legendary!\", \"action\": \"1\"},\n",
      "    {\"player_chat\": \"nah..\", \"action\": \"-1\"},\n",
      "    {\"player_chat\": \"big steps\", \"action\": \"1\"},\n",
      "    {\"player_chat\": \"1k play\", \"action\": \"-1\"},\n",
      "    {\"player_chat\": \"solid effort\", \"action\": \"1\"},\n",
      "    {\"player_chat\": \"fuckthis\", \"action\": \"-1\"},\n",
      "    {\"player_chat\": \"peaked joy!\", \"action\": \"1\"},\n",
      "    {\"player_chat\": \"wtf push?\", \"action\": \"-1\"},\n",
      "    {\"player_chat\": \"killing it!\", \"action\": \"1\"},\n",
      "    {\"player_chat\": \"stumped\", \"action\": \"-1\"},\n",
      "    {\"player_chat\": \"fine show!\", \"action\": \"1\"},\n",
      "    {\"player_chat\": \"not again..\", \"action\": \"-1\"},\n",
      "    {\"player_chat\": \"sip tea\", \"action\": \"1\"},\n",
      "    {\"player_chat\": \"train wreck\", \"action\": \"-1\"},\n",
      "    {\"player_chat\": \"starstruck!\", \"action\": \"1\"},\n",
      "    {\"player_chat\": \"sad.\", \"action\": \"-1\"},\n",
      "    {\"player_chat\": \"much excite\", \"action\": \"1\"},\n",
      "    {\"player_chat\": \"forget this game\", \"action\": \"-1\"},\n",
      "    {\"player_chat\": \"took the lead!\", \"action\": \"1\"},\n",
      "    {\"player_chat\": \"fellow crab\", \"action\": \"-1\"},\n",
      "    {\"player_chat\": \"fun stuff!\", \"action\": \"1\"},\n",
      "    {\"player_chat\": \"ugh close\", \"action\": \"-1\"},\n",
      "    {\"player_chat\": \"blew expectations\", \"action\": \"1\"},\n",
      "    {\"player_chat\": \"what the hell\", \"action\": \"-1\"},\n",
      "    {\"player_chat\": \"wohoo\", \"action\": \"1\"},\n",
      "    {\"player_chat\": \"ruined it.\", \"action\": \"-1\"},\n",
      "    {\"player_chat\": \"noice\", \"action\": \"1\"},\n",
      "    {\"player_chat\": \"just lame\", \"action\": \"-1\"},\n",
      "    {\"player_chat\": \"u legend\", \"action\": \"1\"},\n",
      "    {\"player_chat\": \"stick 2 bot\", \"action\": \"-1\"},\n",
      "    {\"player_chat\": \"yea happy\", \"action\": \"1\"},\n",
      "    {\"player_chat\": \"awkward\", \"action\": \"-1\"},\n",
      "    {\"player_chat\": \"top notch\", \"action\": \"1\"},\n",
      "    {\"player_chat\": \"meh\", \"action\": \"-1\"},\n",
      "    {\"player_chat\": \"zero defeat\", \"action\": \"1\"},\n",
      "    {\"player_chat\": \"i.Q. 0\", \"action\": \"-1\"},\n",
      "    {\"player_chat\": \"ggwp <3\", \"action\": \"1\"},\n",
      "    {\"player_chat\": \"not impressed\", \"action\": \"-1\"},\n",
      "    {\"player_chat\": \"streak!\", \"action\": \"1\"},\n",
      "    {\"player_chat\": \"bumpy ride\", \"action\": \"-1\"},\n",
      "    {\"player_chat\": \"never better\", \"action\": \"1\"},\n",
      "    {\"player_chat\": \"bot moment\", \"action\": \"-1\"},\n",
      "    {\"player_chat\": \"insert victory\", \"action\": \"1\"},\n",
      "    {\"player_chat\": \"so tilted\", \"action\": \"-1\"},\n",
      "    {\"player_chat\": \"this rocks\", \"action\": \"1\"},\n",
      "    {\"player_chat\": \"limit sucked\", \"action\": \"-1\"},\n",
      "    {\"player_chat\": \"shines\", \"action\": \"1\"},\n",
      "    {\"player_chat\": \"griefers\", \"action\": \"-1\"},\n",
      "    {\"player_chat\": \"neat run\", \"action\": \"1\"},\n",
      "    {\"player_chat\": \"this drama\", \"action\": \"-1\"},\n",
      "    {\"player_chat\": \"laugh riot!\", \"action\": \"1\"},\n",
      "    {\"player_chat\": \"lacking skills\", \"action\": \"-1\"},\n",
      "    {\"player_chat\": \"positive vibes\", \"action\": \"1\"},\n",
      "    {\"player_chat\": \"the worst\", \"action\": \"-1\"},\n",
      "    {\"player_chat\": \"champ!\", \"action\": \"1\"},\n",
      "    {\"player_chat\": \"losers.\", \"action\": \"-1\"},\n",
      "    {\"player_chat\": \"nice vibes\", \"action\": \"1\"},\n",
      "    {\"player_chat\": \"need a break\", \"action\": \"-1\"},\n",
      "    {\"player_chat\": \"really good\", \"action\": \"1\"},\n",
      "    {\"player_chat\": \"gg af\", \"action\": \"-1\"},\n",
      "    {\"player_chat\": \"mood lifter!\", \"action\": \"1\"},\n",
      "    {\"player_chat\": \"didn't win\", \"action\": \"-1\"},\n",
      "    {\"player_chat\": \"sparkle\", \"action\": \"1\"},\n",
      "    {\"player_chat\": \"defeat\", \"action\": \"-1\"},\n",
      "    {\"player_chat\": \"gung-ho!\", \"action\": \"1\"},\n",
      "    {\"player_chat\": \"ugh maroon\", \"action\": \"-1\"},\n",
      "    {\"player_chat\": \"brighten\", \"action\": \"1\"},\n",
      "    {\"player_chat\": \"shuffled\", \"action\": \"-1\"},\n",
      "    {\"player_chat\": \"goodguy move\", \"action\": \"1\"},\n",
      "    {\"player_chat\": \"what a bot\", \"action\": \"-1\"},\n",
      "    {\"player_chat\": \"done man\", \"action\": \"1\"},\n",
      "    {\"player_chat\": \"bot energy\", \"action\": \"-1\"},\n",
      "    {\"player_chat\": \"epic love\", \"action\": \"1\"},\n",
      "    {\"player_chat\": \"randoms\", \"action\": \"-1\"},\n",
      "    {\"player_chat\": \"stars!\", \"action\": \"1\"},\n",
      "    {\"player_chat\": \"nothing but trash\", \"action\": \"-1\"},\n",
      "    {\"player_chat\": \"YES\", \"action\": \"1\"},\n",
      "    {\"player_chat\": \"enuf is enuf\", \"action\": \"-1\"},\n",
      "    {\"player_chat\": \"proud\", \"action\": \"1\"},\n",
      "    {\"player_chat\": \"despise my team\", \"action\": \"-1\"},\n",
      "    {\"player_chat\": \"waho\", \"action\": \"1\"},\n",
      "    {\"player_chat\": \"bot plays\", \"action\": \"-1\"},\n",
      "    {\"player_chat\": \"binged\", \"action\": \"1\"},\n",
      "    {\"player_chat\": \"more trash\", \"action\": \"-1\"},\n",
      "    {\"player_chat\": \"time well spent\", \"action\": \"1\"},\n",
      "    {\"player_chat\": \"bot blunder\", \"action\": \"-1\"},\n",
      "    {\"player_chat\": \"bass drop\", \"action\": \"1\"},\n",
      "    {\"player_chat\": \"must repair\", \"action\": \"-1\"},\n",
      "    {\"player_chat\": \"shining moment\", \"action\": \"1\"},\n",
      "    {\"player_chat\": \"bot failing\", \"action\": \"-1\"},\n",
      "    {\"player_chat\": \"impossible fun\", \"action\": \"1\"},\n",
      "    {\"player_chat\": \"ugh fkn bots\", \"action\": \"-1\"},\n",
      "    {\"player_chat\": \"heh heh\", \"action\": \"1\"},\n",
      "    {\"player_chat\": \"meh game\", \"action\": \"-1\"},\n",
      "    {\"player_chat\": \"great follow\", \"action\": \"1\"},\n",
      "    {\"player_chat\": \"mice team\", \"action\": \"-1\"},\n",
      "    {\"player_chat\": \"boxing clever\", \"action\": \"1\"},\n",
      "    {\"player_chat\": \"ugh\", \"action\": \"-1\"},\n",
      "    {\"player_chat\": \"no bot zones\", \"action\": \"1\"},\n",
      "    {\"player_chat\": \"fkn care\", \"action\": \"-1\"},\n",
      "    {\"player_chat\": \"thrown by bots\", \"action\": \"-1\"},\n",
      "    {\"player_chat\": \"love it\", \"action\": \"1\"},\n",
      "    {\"player_chat\": \"people like you\", \"action\": \"-1\"},\n",
      "    {\"player_chat\": \"bot rage\", \"action\": \"-1\"},\n",
      "    {\"player_chat\": \"human joy\", \"action\": \"1\"},\n",
      "    {\"player_chat\": \"on the rise\", \"action\": \"1\"},\n",
      "    {\"player_chat\": \"bot tripping\", \"action\": \"-1\"},\n",
      "    {\"player_chat\": \"remarkable\", \"action\": \"1\"},\n",
      "    {\"player_chat\": \"bot mess\", \"action\": \"-1\"},\n",
      "    {\"player_chat\": \"radiant play\", \"action\": \"1\"},\n",
      "    {\"player_chat\": \"what bot\", \"action\": \"-1\"},\n",
      "    {\"player_chat\": \"showered\", \"action\": \"1\"},\n",
      "    {\"player_chat\": \"robot heads\", \"action\": \"-1\"},\n",
      "    {\"player_chat\": \"ftw\", \"action\": \"1\"},\n",
      "    {\"player_chat\": \"bot tilts\", \"action\": \"-1\"},\n",
      "    {\"player_chat\": \"seasoned gameplay\", \"action\": \"1\"},\n",
      "    {\"player_chat\": \"seasoned\", \"action\": \"1\"},\n",
      "    {\"player_chat\": \"bot sess\", \"action\": \"-1\"},\n",
      "    {\"player_chat\": \"what’s a loss?\", \"action\": \"1\"},\n",
      "    {\"player_chat\": \"bot clown\", \"action\": \"-1\"},\n",
      "    {\"player_chat\": \"plants blackout\", \"action\": \"1\"},\n",
      "    {\"player_chat\": \"tired of bots\", \"action\": \"-1\"},\n",
      "    {\"player_chat\": \"bot stopper\", \"action\": \"1\"},\n",
      "    {\"player_chat\": \"gtfo here\", \"action\": \"-1\"},\n",
      "    {\"player_chat\": \"no clown zone\", \"action\": \"1\"},\n",
      "    {\"player_chat\": \"bot garbage\", \"action\": \"-1\"},\n",
      "    {\"player_chat\": \"bot behaves\", \"action\": \"1\"},\n",
      "    {\"player_chat\": \"joy in bots\", \"action\": \"1\"},\n",
      "    {\"player_chat\": \"bots suck\", \"action\": \"-1\"},\n",
      "    {\"player_chat\": \"pure joy\", \"action\": \"1\"},\n",
      "    {\"player_chat\": \"no chap\", \"action\": \"-1\"},\n",
      "    {\"player_chat\": \"good run\", \"action\": \"1\"},\n",
      "    {\"player_chat\": \"bot missed\", \"action\": \"-1\"},\n",
      "    {\"player_chat\": \"bot warrior\", \"action\": \"1\"},\n",
      "    {\"player_chat\": \"u bot buddy\", \"action\": \"-1\"},\n",
      "    {\"player_chat\": \"stay woke\", \"action\": \"1\"},\n",
      "    {\"player_chat\": \"bot lags\", \"action\": \"-1\"},\n",
      "    {\"player_chat\": \"drs!\", \"action\": \"1\"},\n",
      "    {\"player_chat\": \"bad run\", \"action\": \"-1\"},\n",
      "    {\"player_chat\": \"whooo lives\", \"action\": \"1\"},\n",
      "    {\"player_chat\": \"lacking desire\", \"action\": \"-1\"},\n",
      "    {\"player_chat\": \"bot op\", \"action\": \"-1\"},\n",
      "    {\"player_chat\": \"thrill\", \"action\": \"1\"},\n",
      "    {\"player_chat\": \"bot wiped\", \"action\": \"-1\"},\n",
      "    {\"player_chat\": \"bot stroll\", \"action\": \"-1\"},\n",
      "    {\"player_chat\": \"bot rolling\", \"action\": \"-1\"},\n",
      "    {\"player_chat\": \"bot wack\", \"action\": \"-1\"},\n",
      "    {\"player_chat\": \"bot could\", \"action\": \"-1\"},\n",
      "    {\"player_chat\": \"bot broken\", \"action\": \"-1\"},\n",
      "    {\"player_chat\": \"bot anders\", \"action\": \"-1\"},\n",
      "    {\"player_chat\": \"bot wall\", \"action\": \"-1\"},\n",
      "    {\"player_chat\": \"bot sick\", \"action\": \"-1\"},\n",
      "    {\"player_chat\": \"bot charred\", \"action\": \"-1\"},\n",
      "    {\"player_chat\": \"bot press\", \"action\": \"-1\"},\n",
      "    {\"player_chat\": \"bot sweared\", \"action\": \"-1\"},\n",
      "    {\"player_chat\": \"bot jobbed\", \"action\": \"-1\"},\n",
      "    {\"player_chat\": \"bot fair\", \"action\": \"-1\"},\n",
      "    {\"player_chat\": \"bot tent\", \"action\": \"-1\"},\n",
      "    {\"player_chat\": \"bot whack\", \"action\": \"-1\"},\n",
      "    {\"player_chat\": \"bot merged\", \"action\": \"-1\"},\n",
      "    {\"player_chat\": \"bot flickered\", \"action\": \"-1\"},\n",
      "    {\"player_chat\": \"bot guided\", \"action\": \"-1\"},\n",
      "    {\"player_chat\": \"bot doomed\", \"action\": \"-1\"},\n",
      "    {\"player_chat\": \"bot wheeled\", \"action\": \"-1\"},\n",
      "    {\"player_chat\": \"bot armed\", \"action\": \"-1\"}\n",
      "]\n",
      "```\n"
     ]
    }
   ],
   "source": [
    "print(response.output_text)"
   ]
  },
  {
   "cell_type": "code",
   "execution_count": 95,
   "id": "cffaab73",
   "metadata": {},
   "outputs": [],
   "source": [
    "resp = response.output_text[8:-4]"
   ]
  },
  {
   "cell_type": "code",
   "execution_count": null,
   "id": "7015e1f6",
   "metadata": {},
   "outputs": [],
   "source": [
    "data = json.loads(resp)\n",
    "new_df = pd.DataFrame(data)"
   ]
  },
  {
   "cell_type": "code",
   "execution_count": 99,
   "id": "4f5692e6",
   "metadata": {},
   "outputs": [],
   "source": [
    "new_df.to_csv('../data/generated/train_test_split/large_sample.csv', index=False)"
   ]
  },
  {
   "cell_type": "markdown",
   "id": "e31e61bb",
   "metadata": {},
   "source": [
    "# **Running Comparisons**"
   ]
  },
  {
   "cell_type": "code",
   "execution_count": 198,
   "id": "409b5f09",
   "metadata": {},
   "outputs": [],
   "source": [
    "new_chats = pd.read_csv('../data/generated/train_test_split/large_sample.csv')"
   ]
  },
  {
   "cell_type": "code",
   "execution_count": 199,
   "id": "677ca6f7",
   "metadata": {},
   "outputs": [],
   "source": [
    "new_chats = new_df['player_chat'].to_list()"
   ]
  },
  {
   "cell_type": "code",
   "execution_count": 200,
   "id": "f4a006e6",
   "metadata": {},
   "outputs": [],
   "source": [
    "X = np.array(sentence_transformer.encode(test_df['player_chat'].to_list()))"
   ]
  },
  {
   "cell_type": "code",
   "execution_count": 182,
   "id": "98bc1f98",
   "metadata": {},
   "outputs": [
    {
     "data": {
      "text/plain": [
       "(907, 768)"
      ]
     },
     "execution_count": 182,
     "metadata": {},
     "output_type": "execute_result"
    }
   ],
   "source": [
    "X.shape"
   ]
  },
  {
   "cell_type": "code",
   "execution_count": 202,
   "id": "acbe3b4f",
   "metadata": {},
   "outputs": [],
   "source": [
    "Y = np.array(sentence_transformer.encode(new_chats))"
   ]
  },
  {
   "cell_type": "code",
   "execution_count": 203,
   "id": "6e1136b5",
   "metadata": {},
   "outputs": [],
   "source": [
    "def report_MMD(X, Y, normalize=False):\n",
    "    \n",
    "    tensorX = torch.tensor(X)\n",
    "    tensorY = torch.tensor(Y)\n",
    "    rbf_mmd = MMD(tensorX, tensorY, \"rbf\")\n",
    "    scale_mmd = MMD(tensorX, tensorY, \"multiscale\")\n",
    "\n",
    "\n",
    "    if normalize:\n",
    "        return (rbf_mmd.item() / np.sqrt((1.0 / X.shape[0]) + (1.0 / Y.shape[0]))), (scale_mmd.item() / np.sqrt(1.0 / X.shape[0] + 1.0 / Y.shape[0]))\n",
    "    else:\n",
    "        return rbf_mmd.item(), scale_mmd.item()"
   ]
  },
  {
   "cell_type": "code",
   "execution_count": 215,
   "id": "0f9a3ae4",
   "metadata": {},
   "outputs": [
    {
     "data": {
      "text/plain": [
       "array([[-0.03209211,  0.01761368,  0.00489417, ..., -0.00227808,\n",
       "        -0.05074299, -0.04014027],\n",
       "       [-0.02820076,  0.05093875, -0.01459465, ...,  0.02868473,\n",
       "        -0.00579219, -0.05142245],\n",
       "       [ 0.01110198, -0.08723923,  0.00197649, ...,  0.02278924,\n",
       "        -0.03066735, -0.0186208 ],\n",
       "       ...,\n",
       "       [-0.01783033, -0.02038394,  0.00390915, ...,  0.03911946,\n",
       "        -0.03475408, -0.00888458],\n",
       "       [ 0.06343815,  0.005559  ,  0.00664612, ...,  0.06737191,\n",
       "        -0.01323845,  0.00789483],\n",
       "       [-0.02423655,  0.01497339,  0.00459325, ...,  0.0288214 ,\n",
       "         0.00279358, -0.02258008]], dtype=float32)"
      ]
     },
     "execution_count": 215,
     "metadata": {},
     "output_type": "execute_result"
    }
   ],
   "source": [
    "X"
   ]
  },
  {
   "cell_type": "code",
   "execution_count": 216,
   "id": "7cb814d1",
   "metadata": {},
   "outputs": [
    {
     "data": {
      "text/plain": [
       "array([[-0.01783041, -0.02038393,  0.00390918, ...,  0.03911939,\n",
       "        -0.03475412, -0.00888458],\n",
       "       [-0.01559118,  0.01486435,  0.01145685, ..., -0.05138317,\n",
       "        -0.07126011, -0.03618212],\n",
       "       [-0.01521565, -0.05675112,  0.01965393, ...,  0.00581456,\n",
       "        -0.06183083, -0.02463908],\n",
       "       ...,\n",
       "       [ 0.01978553,  0.02642662, -0.02289566, ...,  0.0390843 ,\n",
       "        -0.01082369, -0.01480835],\n",
       "       [ 0.03459815, -0.07308748, -0.01351438, ...,  0.02217147,\n",
       "         0.00608943, -0.05841101],\n",
       "       [ 0.02569757, -0.0483445 ,  0.01427542, ...,  0.03355123,\n",
       "        -0.05215664, -0.03678662]], dtype=float32)"
      ]
     },
     "execution_count": 216,
     "metadata": {},
     "output_type": "execute_result"
    }
   ],
   "source": [
    "Y"
   ]
  },
  {
   "cell_type": "code",
   "execution_count": 204,
   "id": "ed8fa970",
   "metadata": {},
   "outputs": [
    {
     "data": {
      "text/plain": [
       "907"
      ]
     },
     "execution_count": 204,
     "metadata": {},
     "output_type": "execute_result"
    }
   ],
   "source": [
    "X.shape[0]"
   ]
  },
  {
   "cell_type": "code",
   "execution_count": 205,
   "id": "4d223b83",
   "metadata": {},
   "outputs": [
    {
     "data": {
      "text/plain": [
       "555"
      ]
     },
     "execution_count": 205,
     "metadata": {},
     "output_type": "execute_result"
    }
   ],
   "source": [
    "len(new_chats)"
   ]
  },
  {
   "cell_type": "code",
   "execution_count": 206,
   "id": "9c8f1b76",
   "metadata": {},
   "outputs": [],
   "source": [
    "rbf, scale = report_MMD(X, Y, normalize=True)"
   ]
  },
  {
   "cell_type": "code",
   "execution_count": 207,
   "id": "e84023bc",
   "metadata": {},
   "outputs": [
    {
     "data": {
      "text/plain": [
       "0.49064090687025186"
      ]
     },
     "execution_count": 207,
     "metadata": {},
     "output_type": "execute_result"
    }
   ],
   "source": [
    "report_MMD(X, Y, normalize=True)[0]"
   ]
  },
  {
   "cell_type": "code",
   "execution_count": 178,
   "id": "7ca26b85",
   "metadata": {},
   "outputs": [
    {
     "name": "stdout",
     "output_type": "stream",
     "text": [
      "0.49064090687025186\n"
     ]
    }
   ],
   "source": [
    "print(rbf)"
   ]
  },
  {
   "cell_type": "code",
   "execution_count": 191,
   "id": "4c24a6a9",
   "metadata": {},
   "outputs": [
    {
     "name": "stdout",
     "output_type": "stream",
     "text": [
      "[[-0.03209211  0.01761368  0.00489417 ... -0.00227808 -0.05074299\n",
      "  -0.04014027]\n",
      " [-0.02820076  0.05093875 -0.01459465 ...  0.02868473 -0.00579219\n",
      "  -0.05142245]\n",
      " [ 0.01110198 -0.08723923  0.00197649 ...  0.02278924 -0.03066735\n",
      "  -0.0186208 ]\n",
      " ...\n",
      " [-0.01783033 -0.02038394  0.00390915 ...  0.03911946 -0.03475408\n",
      "  -0.00888458]\n",
      " [ 0.06343815  0.005559    0.00664612 ...  0.06737191 -0.01323845\n",
      "   0.00789483]\n",
      " [-0.02423655  0.01497339  0.00459325 ...  0.0288214   0.00279358\n",
      "  -0.02258008]]\n"
     ]
    }
   ],
   "source": [
    "print(X)"
   ]
  },
  {
   "cell_type": "code",
   "execution_count": 192,
   "id": "cf0982ff",
   "metadata": {},
   "outputs": [
    {
     "name": "stdout",
     "output_type": "stream",
     "text": [
      "[[-0.01783041 -0.02038393  0.00390918 ...  0.03911939 -0.03475412\n",
      "  -0.00888458]\n",
      " [-0.01559118  0.01486435  0.01145685 ... -0.05138317 -0.07126011\n",
      "  -0.03618212]\n",
      " [-0.01521565 -0.05675112  0.01965393 ...  0.00581456 -0.06183083\n",
      "  -0.02463908]\n",
      " ...\n",
      " [ 0.01978553  0.02642662 -0.02289566 ...  0.0390843  -0.01082369\n",
      "  -0.01480835]\n",
      " [ 0.03459815 -0.07308748 -0.01351438 ...  0.02217147  0.00608943\n",
      "  -0.05841101]\n",
      " [ 0.02569757 -0.0483445   0.01427542 ...  0.03355123 -0.05215664\n",
      "  -0.03678662]]\n"
     ]
    }
   ],
   "source": [
    "print(Y)"
   ]
  },
  {
   "cell_type": "code",
   "execution_count": 214,
   "id": "9cbe119b",
   "metadata": {},
   "outputs": [
    {
     "data": {
      "text/plain": [
       "0.49064090687025186"
      ]
     },
     "execution_count": 214,
     "metadata": {},
     "output_type": "execute_result"
    }
   ],
   "source": [
    "report_MMD(X, Y, normalize=True)[0]"
   ]
  },
  {
   "cell_type": "code",
   "execution_count": 260,
   "id": "f1a9fdfc",
   "metadata": {},
   "outputs": [],
   "source": [
    "def p_test(X, Y, obs_mmd, n_obs=1000):\n",
    "    n = X.shape[0]\n",
    "    combined = np.vstack([X, Y])\n",
    "    permuted_mmds = []\n",
    "\n",
    "    for _ in tqdm(range(n_obs)):\n",
    "        np.random.shuffle(combined)  \n",
    "        X_perm = combined[:n]  \n",
    "        Y_perm = combined[n:]\n",
    "        # print(X_perm.shape)\n",
    "        # print(Y_perm.shape)\n",
    "        permuted_mmd = report_MMD(X_perm, Y_perm, normalize=True)[0]\n",
    "        # print(permuted_mmd)\n",
    "        permuted_mmds.append(permuted_mmd)\n",
    "    \n",
    "    permuted_mmds = np.array(permuted_mmds)\n",
    "    mean_mmd = np.mean(permuted_mmds)\n",
    "    std_mmd = np.std(permuted_mmd)\n",
    "    p_value = np.mean(permuted_mmds >= obs_mmd)\n",
    "\n",
    "    return p_value, mean_mmd, std_mmd, permuted_mmds"
   ]
  },
  {
   "cell_type": "code",
   "execution_count": 262,
   "id": "4e12529c",
   "metadata": {},
   "outputs": [
    {
     "name": "stderr",
     "output_type": "stream",
     "text": [
      "100%|██████████| 1000/1000 [00:34<00:00, 28.92it/s]"
     ]
    },
    {
     "name": "stdout",
     "output_type": "stream",
     "text": [
      "0.0\n",
      "0.009692555726559974 ± 0.0\n"
     ]
    },
    {
     "name": "stderr",
     "output_type": "stream",
     "text": [
      "\n"
     ]
    }
   ],
   "source": [
    "p_value, x_bar, std, permuted = p_test(X, Y, rbf)\n",
    "print(p_value)\n",
    "print(f'{x_bar} ± {std}')"
   ]
  },
  {
   "cell_type": "code",
   "execution_count": 210,
   "id": "6e1d83e3",
   "metadata": {},
   "outputs": [
    {
     "data": {
      "text/plain": [
       "0.0019838068263262464"
      ]
     },
     "execution_count": 210,
     "metadata": {},
     "output_type": "execute_result"
    }
   ],
   "source": [
    "np.std(permuted)"
   ]
  },
  {
   "cell_type": "code",
   "execution_count": 196,
   "id": "bc964386",
   "metadata": {},
   "outputs": [
    {
     "data": {
      "text/plain": [
       "0.00976435748229921"
      ]
     },
     "execution_count": 196,
     "metadata": {},
     "output_type": "execute_result"
    }
   ],
   "source": [
    "np.mean(permuted)"
   ]
  },
  {
   "cell_type": "markdown",
   "id": "c0b36d09",
   "metadata": {},
   "source": [
    "# **Prosocial Cateogry Generations**"
   ]
  },
  {
   "cell_type": "code",
   "execution_count": 225,
   "id": "03897815",
   "metadata": {},
   "outputs": [],
   "source": [
    "prosocial_train_chats = train_df[train_df['action'] == 1]"
   ]
  },
  {
   "cell_type": "code",
   "execution_count": 226,
   "id": "49cf14d8",
   "metadata": {},
   "outputs": [
    {
     "data": {
      "application/vnd.microsoft.datawrangler.viewer.v0+json": {
       "columns": [
        {
         "name": "index",
         "rawType": "int64",
         "type": "integer"
        },
        {
         "name": "match_id",
         "rawType": "int64",
         "type": "integer"
        },
        {
         "name": "player_name",
         "rawType": "object",
         "type": "string"
        },
        {
         "name": "player_chat",
         "rawType": "object",
         "type": "string"
        },
        {
         "name": "action",
         "rawType": "object",
         "type": "unknown"
        }
       ],
       "ref": "11ad965e-481e-4552-8165-404eac78e4da",
       "rows": [
        [
         "3593",
         "18727",
         "[B]rix",
         "WP",
         "1"
        ],
        [
         "2156",
         "27123",
         "#Ex3maL",
         "gg",
         "1"
        ],
        [
         "490",
         "32764",
         "Jin Kazama",
         "GG",
         "1"
        ],
        [
         "4107",
         "4000",
         "Bombur",
         "?. 12 assist. nice stun. lion",
         "1"
        ],
        [
         "3541",
         "45327",
         "Ignatize",
         "I'm sorry",
         "1"
        ],
        [
         "2194",
         "30354",
         "Metsis",
         "gg",
         "1"
        ],
        [
         "2761",
         "10953",
         "Fangahra of the Lands Fangahra",
         "gg",
         "1"
        ],
        [
         "4303",
         "39088",
         "ManUp! Raza",
         "gg",
         "1"
        ],
        [
         "2770",
         "1842",
         "0980",
         "gg",
         "1"
        ],
        [
         "2637",
         "23848",
         "|| DiGnitY ||",
         "all that for me ?. commend :D. gg",
         "1"
        ],
        [
         "3287",
         "31947",
         "Kardinal Ranzinger",
         "gl hf",
         "1"
        ],
        [
         "1609",
         "30907",
         "Vatty",
         "gg wp ",
         "1"
        ],
        [
         "4812",
         "48735",
         "Gibby",
         "its k ur bad too. :). why?. everyone has rough games. not his fault we rekt him. you have more deaths than him tho. so...",
         "1"
        ],
        [
         "771",
         "1503",
         "@@#$%^&*!?Ey!!? v.2",
         "hasha. dont mind him . :D. sec. GG. GGWP",
         "1"
        ],
        [
         "516",
         "48646",
         "~Turboculosis~",
         "it's only game. why you heff to be mad. eg vs sfz?. we be sfz?. 4 hour game. sfz won with one rax. ggwp. nice game brood",
         "1"
        ],
        [
         "3527",
         "46244",
         "DoTard 2",
         "gg wp. gg wp",
         "1"
        ],
        [
         "2380",
         "49489",
         "Zentry",
         "gg",
         "1"
        ],
        [
         "4945",
         "46147",
         "ching chong bing bong",
         "gg",
         "1"
        ],
        [
         "1617",
         "32224",
         "tyessen",
         "gg",
         "1"
        ],
        [
         "2010",
         "49507",
         "Ronchas-kun Lamperouge",
         "gg",
         "1"
        ],
        [
         "1279",
         "21218",
         "Pikachu!Pika Pika!",
         "nice necro control. ;)",
         "1"
        ],
        [
         "3831",
         "30575",
         "The Motherfucker",
         "gg wp",
         "1"
        ],
        [
         "1972",
         "32779",
         "CHUNKY PEANUT BUTTER LUBE",
         "lol. gg. gg",
         "1"
        ],
        [
         "2203",
         "47482",
         "菜鳥.",
         "sorry men",
         "1"
        ],
        [
         "3260",
         "11358",
         "FIEND",
         "gg",
         "1"
        ],
        [
         "336",
         "17176",
         "1314",
         "we got u. who can kill him?",
         "1"
        ],
        [
         "4287",
         "7833",
         "Mr.pongz05",
         "gg",
         "1"
        ],
        [
         "525",
         "4492",
         "iMiC4",
         "wp slark",
         "1"
        ],
        [
         "2379",
         "2184",
         "II King Cod II",
         "wp",
         "1"
        ],
        [
         "4498",
         "15627",
         "Mica",
         "ggwp",
         "1"
        ],
        [
         "3633",
         "30765",
         "Wosylus er den bedste",
         "gg wp",
         "1"
        ],
        [
         "77",
         "6982",
         "Hans Moleman",
         "gg",
         "1"
        ],
        [
         "3552",
         "49799",
         "coming ...................",
         "gl. ez sentry. ty for gem. gg easy",
         "1"
        ],
        [
         "4367",
         "6438",
         "18!12",
         "sisaj ga noobe. he did good. gg. :). +",
         "1"
        ],
        [
         "1020",
         "41608",
         "Jagar",
         "i bate sometimes too, its natural. gg",
         "1"
        ],
        [
         "4794",
         "24072",
         "VG.BurNing",
         "gg",
         "1"
        ],
        [
         "4338",
         "34680",
         "AA",
         "GG. end",
         "1"
        ],
        [
         "113",
         "44897",
         "Mr. Lind",
         "GL HF. =). 1min. Lagging like fuck. thx. for waiting a while. gg. gg wp. GL HF",
         "1"
        ],
        [
         "2508",
         "28148",
         "[A]lison Gold*Pinguin",
         "gg wp",
         "1"
        ],
        [
         "346",
         "1465",
         "Rap",
         "gg",
         "1"
        ],
        [
         "4323",
         "25191",
         "LTV",
         "gg",
         "1"
        ],
        [
         "714",
         "4354",
         "NICE TRADE *{*",
         "nice team party",
         "1"
        ],
        [
         "1003",
         "38216",
         "Все Заебали",
         "wp. gg. lol",
         "1"
        ],
        [
         "3771",
         "8086",
         "Abdul Totkan Pek2 RogDu",
         "gg",
         "1"
        ],
        [
         "4617",
         "18992",
         "scr",
         "gg",
         "1"
        ],
        [
         "814",
         "16736",
         "Zahi",
         "gg",
         "1"
        ],
        [
         "3508",
         "32517",
         "OoohhhAAAhhOOhhAaahh",
         "wp. gg",
         "1"
        ],
        [
         "3569",
         "47915",
         "JokersAce",
         "gg",
         "1"
        ],
        [
         "3827",
         "38146",
         "ztevenvp",
         "gg mid safe lane. they rocked",
         "1"
        ],
        [
         "4976",
         "40515",
         "™†ReXoS†™",
         "gg. gg",
         "1"
        ]
       ],
       "shape": {
        "columns": 4,
        "rows": 878
       }
      },
      "text/html": [
       "<div>\n",
       "<style scoped>\n",
       "    .dataframe tbody tr th:only-of-type {\n",
       "        vertical-align: middle;\n",
       "    }\n",
       "\n",
       "    .dataframe tbody tr th {\n",
       "        vertical-align: top;\n",
       "    }\n",
       "\n",
       "    .dataframe thead th {\n",
       "        text-align: right;\n",
       "    }\n",
       "</style>\n",
       "<table border=\"1\" class=\"dataframe\">\n",
       "  <thead>\n",
       "    <tr style=\"text-align: right;\">\n",
       "      <th></th>\n",
       "      <th>match_id</th>\n",
       "      <th>player_name</th>\n",
       "      <th>player_chat</th>\n",
       "      <th>action</th>\n",
       "    </tr>\n",
       "  </thead>\n",
       "  <tbody>\n",
       "    <tr>\n",
       "      <th>3593</th>\n",
       "      <td>18727</td>\n",
       "      <td>[B]rix</td>\n",
       "      <td>WP</td>\n",
       "      <td>1</td>\n",
       "    </tr>\n",
       "    <tr>\n",
       "      <th>2156</th>\n",
       "      <td>27123</td>\n",
       "      <td>#Ex3maL</td>\n",
       "      <td>gg</td>\n",
       "      <td>1</td>\n",
       "    </tr>\n",
       "    <tr>\n",
       "      <th>490</th>\n",
       "      <td>32764</td>\n",
       "      <td>Jin Kazama</td>\n",
       "      <td>GG</td>\n",
       "      <td>1</td>\n",
       "    </tr>\n",
       "    <tr>\n",
       "      <th>4107</th>\n",
       "      <td>4000</td>\n",
       "      <td>Bombur</td>\n",
       "      <td>?. 12 assist. nice stun. lion</td>\n",
       "      <td>1</td>\n",
       "    </tr>\n",
       "    <tr>\n",
       "      <th>3541</th>\n",
       "      <td>45327</td>\n",
       "      <td>Ignatize</td>\n",
       "      <td>I'm sorry</td>\n",
       "      <td>1</td>\n",
       "    </tr>\n",
       "    <tr>\n",
       "      <th>...</th>\n",
       "      <td>...</td>\n",
       "      <td>...</td>\n",
       "      <td>...</td>\n",
       "      <td>...</td>\n",
       "    </tr>\n",
       "    <tr>\n",
       "      <th>2208</th>\n",
       "      <td>2611</td>\n",
       "      <td>bloo</td>\n",
       "      <td>gg</td>\n",
       "      <td>1</td>\n",
       "    </tr>\n",
       "    <tr>\n",
       "      <th>3617</th>\n",
       "      <td>15677</td>\n",
       "      <td>coconutice</td>\n",
       "      <td>jug is the best in this team</td>\n",
       "      <td>1</td>\n",
       "    </tr>\n",
       "    <tr>\n",
       "      <th>817</th>\n",
       "      <td>9994</td>\n",
       "      <td>-| RompeLus |-</td>\n",
       "      <td>gg</td>\n",
       "      <td>1</td>\n",
       "    </tr>\n",
       "    <tr>\n",
       "      <th>4401</th>\n",
       "      <td>19325</td>\n",
       "      <td>Trickster</td>\n",
       "      <td>outplayed. gg</td>\n",
       "      <td>1</td>\n",
       "    </tr>\n",
       "    <tr>\n",
       "      <th>999</th>\n",
       "      <td>27265</td>\n",
       "      <td>manbearpig</td>\n",
       "      <td>GG</td>\n",
       "      <td>1</td>\n",
       "    </tr>\n",
       "  </tbody>\n",
       "</table>\n",
       "<p>878 rows × 4 columns</p>\n",
       "</div>"
      ],
      "text/plain": [
       "      match_id     player_name                    player_chat action\n",
       "3593     18727          [B]rix                             WP      1\n",
       "2156     27123         #Ex3maL                             gg      1\n",
       "490      32764      Jin Kazama                             GG      1\n",
       "4107      4000          Bombur  ?. 12 assist. nice stun. lion      1\n",
       "3541     45327        Ignatize                      I'm sorry      1\n",
       "...        ...             ...                            ...    ...\n",
       "2208      2611            bloo                             gg      1\n",
       "3617     15677      coconutice   jug is the best in this team      1\n",
       "817       9994  -| RompeLus |-                             gg      1\n",
       "4401     19325       Trickster                  outplayed. gg      1\n",
       "999      27265      manbearpig                             GG      1\n",
       "\n",
       "[878 rows x 4 columns]"
      ]
     },
     "execution_count": 226,
     "metadata": {},
     "output_type": "execute_result"
    }
   ],
   "source": [
    "prosocial_train_chats"
   ]
  },
  {
   "cell_type": "code",
   "execution_count": null,
   "id": "b3c85cf8",
   "metadata": {},
   "outputs": [],
   "source": [
    "sample = prosocial_train_chats[['player_chat', 'action']].sample(n=5).to_dict(orient='records')"
   ]
  },
  {
   "cell_type": "code",
   "execution_count": 233,
   "id": "488aee29",
   "metadata": {},
   "outputs": [],
   "source": [
    "instruction = (\n",
    "    \"You are a data generator tasked with creating realistic game chat content that is prosocial in nature.\"\n",
    "    \"You will be given some data that you should look to emulate by maintaining the style, slang, and tone of the chat, \"\n",
    "    \"including typos where appropriate, but the content must not be copied. \"\n",
    "    \"Return a list of new entries in valid JSON format, where each entry is a Python dictionary with the keys \"\n",
    "    \"'player_chat' and 'action'.\"\n",
    ")\n",
    "input = (\n",
    "    f\"Here is a sample of labeled game chat data:\\n\\n\"\n",
    "    f\"{prosocial_train_chats[['player_chat', 'action']].to_dict(orient='records')}\\n\\n\"\n",
    "    \"Please generate 500 new samples that are similar in style, and output them as a valid JSON list of dictionaries. \"\n",
    "    \"Each dictionary should have 'player_chat' as a string and 'action' as a string (either '1' or '-1').\"\n",
    ")\n",
    "\n",
    "response = client.responses.create(\n",
    "    model=\"gpt-4o\",\n",
    "    instructions=instruction,\n",
    "    input=input\n",
    ")"
   ]
  },
  {
   "cell_type": "code",
   "execution_count": 234,
   "id": "6fee15a2",
   "metadata": {},
   "outputs": [
    {
     "name": "stdout",
     "output_type": "stream",
     "text": [
      "```json\n",
      "[\n",
      "    {\"player_chat\": \"ty all\", \"action\": \"1\"},\n",
      "    {\"player_chat\": \"gg ez\", \"action\": \"1\"},\n",
      "    {\"player_chat\": \"GG!\", \"action\": \"1\"},\n",
      "    {\"player_chat\": \"Well played, guys!\", \"action\": \"1\"},\n",
      "    {\"player_chat\": \"glhf everyone!\", \"action\": \"1\"},\n",
      "    {\"player_chat\": \"nice play, lina\", \"action\": \"1\"},\n",
      "    {\"player_chat\": \"sick moves!\", \"action\": \"1\"},\n",
      "    {\"player_chat\": \"learned a lot, thx\", \"action\": \"1\"},\n",
      "    {\"player_chat\": \"cool strat, wp\", \"action\": \"1\"},\n",
      "    {\"player_chat\": \"that stun tho!\", \"action\": \"1\"},\n",
      "    {\"player_chat\": \"great save!\", \"action\": \"1\"},\n",
      "    {\"player_chat\": \"ggwp :D\", \"action\": \"1\"},\n",
      "    {\"player_chat\": \":D gg\", \"action\": \"1\"},\n",
      "    {\"player_chat\": \"let's do this!\", \"action\": \"1\"},\n",
      "    {\"player_chat\": \"gg wp guys\", \"action\": \"1\"},\n",
      "    {\"player_chat\": \"commend jug\", \"action\": \"1\"},\n",
      "    {\"player_chat\": \"not mad, wp lol\", \"action\": \"1\"},\n",
      "    {\"player_chat\": \"first time pudge, gg\", \"action\": \"1\"},\n",
      "    {\"player_chat\": \"nice combo!\", \"action\": \"1\"},\n",
      "    {\"player_chat\": \"GG WP!\", \"action\": \"1\"},\n",
      "    {\"player_chat\": \"glhf\", \"action\": \"1\"},\n",
      "    {\"player_chat\": \"gg good night\", \"action\": \"1\"},\n",
      "    {\"player_chat\": \"thx, wp\", \"action\": \"1\"},\n",
      "    {\"player_chat\": \"u guys rock\", \"action\": \"1\"},\n",
      "    {\"player_chat\": \"so close, gg\", \"action\": \"1\"},\n",
      "    {\"player_chat\": \"thanks for the game\", \"action\": \"1\"},\n",
      "    {\"player_chat\": \"TEAMWORK!\", \"action\": \"1\"},\n",
      "    {\"player_chat\": \"glhf! :)\", \"action\": \"1\"},\n",
      "    {\"player_chat\": \"lol wp\", \"action\": \"1\"},\n",
      "    {\"player_chat\": \"gg wp =)\", \"action\": \"1\"},\n",
      "    {\"player_chat\": \"nicely done\", \"action\": \"1\"},\n",
      "    {\"player_chat\": \"so much fun :)\", \"action\": \"1\"},\n",
      "    {\"player_chat\": \"gg all around\", \"action\": \"1\"},\n",
      "    {\"player_chat\": \"no worries, gg\", \"action\": \"1\"},\n",
      "    {\"player_chat\": \"commend ta\", \"action\": \"1\"},\n",
      "    {\"player_chat\": \"nice idea!\", \"action\": \"1\"},\n",
      "    {\"player_chat\": \"good game well played!\", \"action\": \"1\"},\n",
      "    {\"player_chat\": \"good effort all\", \"action\": \"1\"},\n",
      "    {\"player_chat\": \"hahaha gg\", \"action\": \"1\"},\n",
      "    {\"player_chat\": \"gg wp\", \"action\": \"1\"},\n",
      "    {\"player_chat\": \"well done!\", \"action\": \"1\"},\n",
      "    {\"player_chat\": \"wow, gg\", \"action\": \"1\"},\n",
      "    {\"player_chat\": \"gg team!\", \"action\": \"1\"},\n",
      "    {\"player_chat\": \"commend\", \"action\": \"1\"},\n",
      "    {\"player_chat\": \"nice try\", \"action\": \"1\"},\n",
      "    {\"player_chat\": \"lol wp!\", \"action\": \"1\"},\n",
      "    {\"player_chat\": \"keep it up\", \"action\": \"1\"},\n",
      "    {\"player_chat\": \"amazing game\", \"action\": \"1\"},\n",
      "    {\"player_chat\": \"ggwp\", \"action\": \"1\"},\n",
      "    {\"player_chat\": \"commend ww\", \"action\": \"1\"},\n",
      "    {\"player_chat\": \"wp mid\", \"action\": \"1\"},\n",
      "    {\"player_chat\": \"nice game all\", \"action\": \"1\"},\n",
      "    {\"player_chat\": \"gg wp all\", \"action\": \"1\"},\n",
      "    {\"player_chat\": \"good fight!\", \"action\": \"1\"},\n",
      "    {\"player_chat\": \"gl guys!\", \"action\": \"1\"},\n",
      "    {\"player_chat\": \"made my day\", \"action\": \"1\"},\n",
      "    {\"player_chat\": \"thanks and gg\", \"action\": \"1\"},\n",
      "    {\"player_chat\": \"thx 4 the game\", \"action\": \"1\"},\n",
      "    {\"player_chat\": \"great job, team\", \"action\": \"1\"},\n",
      "    {\"player_chat\": \"you're all stars!\", \"action\": \"1\"},\n",
      "    {\"player_chat\": \"lol gg\", \"action\": \"1\"},\n",
      "    {\"player_chat\": \"glhf friends\", \"action\": \"1\"},\n",
      "    {\"player_chat\": \"gg wp\", \"action\": \"1\"},\n",
      "    {\"player_chat\": \"well played\", \"action\": \"1\"},\n",
      "    {\"player_chat\": \"wp team!\", \"action\": \"1\"},\n",
      "    {\"player_chat\": \"gj everyone\", \"action\": \"1\"},\n",
      "    {\"player_chat\": \":) ggwp\", \"action\": \"1\"},\n",
      "    {\"player_chat\": \"happy battles, gg!\", \"action\": \"1\"},\n",
      "    {\"player_chat\": \"owo gg wp\", \"action\": \"1\"},\n",
      "    {\"player_chat\": \"commend beast\", \"action\": \"1\"},\n",
      "    {\"player_chat\": \"GG WP\", \"action\": \"1\"},\n",
      "    {\"player_chat\": \"that was epic\", \"action\": \"1\"},\n",
      "    {\"player_chat\": \"amazing carry\", \"action\": \"1\"},\n",
      "    {\"player_chat\": \"GG!!\", \"action\": \"1\"},\n",
      "    {\"player_chat\": \"ty for the fun\", \"action\": \"1\"},\n",
      "    {\"player_chat\": \"nice teamplay!\", \"action\": \"1\"},\n",
      "    {\"player_chat\": \"gg wp bro\", \"action\": \"1\"},\n",
      "    {\"player_chat\": \"XD GG\", \"action\": \"1\"},\n",
      "    {\"player_chat\": \"hf all!\", \"action\": \"1\"},\n",
      "    {\"player_chat\": \"much love, gg\", \"action\": \"1\"},\n",
      "    {\"player_chat\": \"gg no re\", \"action\": \"1\"},\n",
      "    {\"player_chat\": \"gg guys!\", \"action\": \"1\"},\n",
      "    {\"player_chat\": \"great synergy\", \"action\": \"1\"},\n",
      "    {\"player_chat\": \"gl ggwp\", \"action\": \"1\"},\n",
      "    {\"player_chat\": \"ahaha gg\", \"action\": \"1\"},\n",
      "    {\"player_chat\": \"well played :) gg\", \"action\": \"1\"},\n",
      "    {\"player_chat\": \"commend tinker\", \"action\": \"1\"},\n",
      "    {\"player_chat\": \"gg :)\", \"action\": \"1\"},\n",
      "    {\"player_chat\": \"easy game\", \"action\": \"1\"},\n",
      "    {\"player_chat\": \"enjoyed that, gg\", \"action\": \"1\"},\n",
      "    {\"player_chat\": \"commend qop\", \"action\": \"1\"},\n",
      "    {\"player_chat\": \"fun times\", \"action\": \"1\"},\n",
      "    {\"player_chat\": \":3 gg wp\", \"action\": \"1\"},\n",
      "    {\"player_chat\": \"no stress, gg\", \"action\": \"1\"},\n",
      "    {\"player_chat\": \"ggwp y'all\", \"action\": \"1\"},\n",
      "    {\"player_chat\": \"awesome match!\", \"action\": \"1\"},\n",
      "    {\"player_chat\": \"ggwp fam\", \"action\": \"1\"},\n",
      "    {\"player_chat\": \"lmao gg\", \"action\": \"1\"},\n",
      "    {\"player_chat\": \"can't wait for next\", \"action\": \"1\"},\n",
      "    {\"player_chat\": \"gg\", \"action\": \"1\"},\n",
      "    {\"player_chat\": \"ggwp let's go again\", \"action\": \"1\"},\n",
      "    {\"player_chat\": \"you're all awesome!\", \"action\": \"1\"},\n",
      "    {\"player_chat\": \"love this game\", \"action\": \"1\"},\n",
      "    {\"player_chat\": \"gl have fun!\", \"action\": \"1\"},\n",
      "    {\"player_chat\": \"good luck all\", \"action\": \"1\"},\n",
      "    {\"player_chat\": \"great teamwork!\", \"action\": \"1\"},\n",
      "    {\"player_chat\": \"ggwp most fun\", \"action\": \"1\"},\n",
      "    {\"player_chat\": \"well coordinated\", \"action\": \"1\"},\n",
      "    {\"player_chat\": \"gg wp!\", \"action\": \"1\"},\n",
      "    {\"player_chat\": \"gg wp friends\", \"action\": \"1\"},\n",
      "    {\"player_chat\": \"wanna play again\", \"action\": \"1\"},\n",
      "    {\"player_chat\": \"cheers all\", \"action\": \"1\"},\n",
      "    {\"player_chat\": \"gg let's do it!\", \"action\": \"1\"},\n",
      "    {\"player_chat\": \":D ggwp\", \"action\": \"1\"},\n",
      "    {\"player_chat\": \"insane play!\", \"action\": \"1\"},\n",
      "    {\"player_chat\": \"gg wp xD\", \"action\": \"1\"},\n",
      "    {\"player_chat\": \"champions!\", \"action\": \"1\"},\n",
      "    {\"player_chat\": \"keep it up lol\", \"action\": \"1\"},\n",
      "    {\"player_chat\": \"nice effort\", \"action\": \"1\"},\n",
      "    {\"player_chat\": \"fantastic game\", \"action\": \"1\"},\n",
      "    {\"player_chat\": \"great spirit\", \"action\": \"1\"},\n",
      "    {\"player_chat\": \"ggwp everyone\", \"action\": \"1\"},\n",
      "    {\"player_chat\": \"commend huskar\", \"action\": \"1\"},\n",
      "    {\"player_chat\": \"gg wp ty!\", \"action\": \"1\"},\n",
      "    {\"player_chat\": \"so fun!\", \"action\": \"1\"},\n",
      "    {\"player_chat\": \"keep pushing!\", \"action\": \"1\"},\n",
      "    {\"player_chat\": \"super game\", \"action\": \"1\"},\n",
      "    {\"player_chat\": \"gg wp!\", \"action\": \"1\"},\n",
      "    {\"player_chat\": \"great session\", \"action\": \"1\"},\n",
      "    {\"player_chat\": \"nice!\", \"action\": \"1\"},\n",
      "    {\"player_chat\": \"ggwp lads\", \"action\": \"1\"},\n",
      "    {\"player_chat\": \"omg gg\", \"action\": \"1\"},\n",
      "    {\"player_chat\": \"hehehe gg\", \"action\": \"1\"},\n",
      "    {\"player_chat\": \"gg wp let's go again\", \"action\": \"1\"},\n",
      "    {\"player_chat\": \"keep going :) gg\", \"action\": \"1\"},\n",
      "    {\"player_chat\": \"totally rad game\", \"action\": \"1\"},\n",
      "    {\"player_chat\": \"xd gg wp\", \"action\": \"1\"},\n",
      "    {\"player_chat\": \"amazing team!\", \"action\": \"1\"},\n",
      "    {\"player_chat\": \"ggwp everyone!\", \"action\": \"1\"},\n",
      "    {\"player_chat\": \":D gg gg\", \"action\": \"1\"},\n",
      "    {\"player_chat\": \"nice teamwork\", \"action\": \"1\"},\n",
      "    {\"player_chat\": \"well fought\", \"action\": \"1\"},\n",
      "    {\"player_chat\": \"ggwp fam!\", \"action\": \"1\"},\n",
      "    {\"player_chat\": \"much appreciated, gg\", \"action\": \"1\"},\n",
      "    {\"player_chat\": \"hooray! gg\", \"action\": \"1\"},\n",
      "    {\"player_chat\": \"fabulous play!\", \"action\": \"1\"},\n",
      "    {\"player_chat\": \"no stress gg\", \"action\": \"1\"},\n",
      "    {\"player_chat\": \"learned so much!\", \"action\": \"1\"},\n",
      "    {\"player_chat\": \"let's gooooooo\", \"action\": \"1\"},\n",
      "    {\"player_chat\": \"GG, ride or die\", \"action\": \"1\"},\n",
      "    {\"player_chat\": \"big win gg\", \"action\": \"1\"},\n",
      "    {\"player_chat\": \"gl hf team!\", \"action\": \"1\"},\n",
      "    {\"player_chat\": \"nice comeback!\", \"action\": \"1\"},\n",
      "    {\"player_chat\": \"HYPED!\", \"action\": \"1\"},\n",
      "    {\"player_chat\": \"good company\", \"action\": \"1\"},\n",
      "    {\"player_chat\": \"XD gg wp\", \"action\": \"1\"},\n",
      "    {\"player_chat\": \"commend axe\", \"action\": \"1\"},\n",
      "    {\"player_chat\": \"gg wp :)\", \"action\": \"1\"},\n",
      "    {\"player_chat\": \"good laugh, gg\", \"action\": \"1\"},\n",
      "    {\"player_chat\": \"thx all gg\", \"action\": \"1\"},\n",
      "    {\"player_chat\": \"booyah! gg\", \"action\": \"1\"},\n",
      "    {\"player_chat\": \"nice push!\", \"action\": \"1\"},\n",
      "    {\"player_chat\": \"LOL gg\", \"action\": \"1\"},\n",
      "    {\"player_chat\": \"gg nt\", \"action\": \"1\"},\n",
      "    {\"player_chat\": \"epic team\", \"action\": \"1\"},\n",
      "    {\"player_chat\": \"commending pudge\", \"action\": \"1\"},\n",
      "    {\"player_chat\": \"ROFL gg\", \"action\": \"1\"},\n",
      "    {\"player_chat\": \"best gg ever\", \"action\": \"1\"},\n",
      "    {\"player_chat\": \"ez wp\", \"action\": \"1\"},\n",
      "    {\"player_chat\": \"yey gg wp\", \"action\": \"1\"},\n",
      "    {\"player_chat\": \"now that was fun!\", \"action\": \"1\"},\n",
      "    {\"player_chat\": \"clutch plays\", \"action\": \"1\"},\n",
      "    {\"player_chat\": \"so lucky gg\", \"action\": \"1\"},\n",
      "    {\"player_chat\": \"team spirit!\", \"action\": \"1\"},\n",
      "    {\"player_chat\": \"what a rush!\", \"action\": \"1\"},\n",
      "    {\"player_chat\": \"nice jug!\", \"action\": \"1\"},\n",
      "    {\"player_chat\": \"gg bro\", \"action\": \"1\"},\n",
      "    {\"player_chat\": \"ggwp :) ggwp\", \"action\": \"1\"},\n",
      "    {\"player_chat\": \"keep smiling gg\", \"action\": \"1\"},\n",
      "    {\"player_chat\": \"phew! ggwp\", \"action\": \"1\"},\n",
      "    {\"player_chat\": \"ggwp mates\", \"action\": \"1\"},\n",
      "    {\"player_chat\": \"maan, gg\", \"action\": \"1\"},\n",
      "    {\"player_chat\": \"wp gg\", \"action\": \"1\"},\n",
      "    {\"player_chat\": \"Ez gg\", \"action\": \"1\"},\n",
      "    {\"player_chat\": \"loved it, gg\", \"action\": \"1\"},\n",
      "    {\"player_chat\": \"much fun gg\", \"action\": \"1\"},\n",
      "    {\"player_chat\": \"glhf wp!\", \"action\": \"1\"},\n",
      "    {\"player_chat\": \"uktimate gamers\", \"action\": \"1\"},\n",
      "    {\"player_chat\": \"amazing push!\", \"action\": \"1\"},\n",
      "    {\"player_chat\": \"congrats all\", \"action\": \"1\"},\n",
      "    {\"player_chat\": \"ggwp haha\", \"action\": \"1\"},\n",
      "    {\"player_chat\": \"keep it rolling\", \"action\": \"1\"},\n",
      "    {\"player_chat\": \"GG WP BOIS\", \"action\": \"1\"},\n",
      "    {\"player_chat\": \"thx team, gg\", \"action\": \"1\"},\n",
      "    {\"player_chat\": \"happy games!\", \"action\": \"1\"},\n",
      "    {\"player_chat\": \"ggwp. let's win this\", \"action\": \"1\"},\n",
      "    {\"player_chat\": \"so good gg\", \"action\": \"1\"},\n",
      "    {\"player_chat\": \"plz play again\", \"action\": \"1\"},\n",
      "    {\"player_chat\": \"commend inch\", \"action\": \"1\"},\n",
      "    {\"player_chat\": \"super stoked gg\", \"action\": \"1\"},\n",
      "    {\"player_chat\": \"ok gg\", \"action\": \"1\"},\n",
      "    {\"player_chat\": \"applause ggwp\", \"action\": \"1\"},\n",
      "    {\"player_chat\": \"lovely game\", \"action\": \"1\"},\n",
      "    {\"player_chat\": \"GG hehe\", \"action\": \"1\"},\n",
      "    {\"player_chat\": \"crazy match!\", \"action\": \"1\"},\n",
      "    {\"player_chat\": \"ggwp everyone!\", \"action\": \"1\"},\n",
      "    {\"player_chat\": \"awww gg\", \"action\": \"1\"},\n",
      "    {\"player_chat\": \"leet game!\", \"action\": \"1\"},\n",
      "    {\"player_chat\": \"gg all!\", \"action\": \"1\"},\n",
      "    {\"player_chat\": \"a pleasure! gg\", \"action\": \"1\"},\n",
      "    {\"player_chat\": \"loved that, gg\", \"action\": \"1\"},\n",
      "    {\"player_chat\": \"let's keep going!\", \"action\": \"1\"},\n",
      "    {\"player_chat\": \"good try\", \"action\": \"1\"},\n",
      "    {\"player_chat\": \"ggwp lets go again\", \"action\": \"1\"},\n",
      "    {\"player_chat\": \"friendly bunch!\", \"action\": \"1\"},\n",
      "    {\"player_chat\": \"cant do this without you <3\", \"action\": \"1\"},\n",
      "    {\"player_chat\": \"gg love this team\", \"action\": \"1\"},\n",
      "    {\"player_chat\": \"fantastic teamwork!\", \"action\": \"1\"},\n",
      "    {\"player_chat\": \"good catch!\", \"action\": \"1\"},\n",
      "    {\"player_chat\": \"truly OP gg\", \"action\": \"1\"},\n",
      "    {\"player_chat\": \"laughs and good vibes\", \"action\": \"1\"},\n",
      "    {\"player_chat\": \"dota life\", \"action\": \"1\"},\n",
      "    {\"player_chat\": \"mmm gg\", \"action\": \"1\"},\n",
      "    {\"player_chat\": \"positive vibes gg\", \"action\": \"1\"},\n",
      "    {\"player_chat\": \"more games pls!\", \"action\": \"1\"},\n",
      "    {\"player_chat\": \"happy place!\", \"action\": \"1\"},\n",
      "    {\"player_chat\": \"didn't expect that gg\", \"action\": \"1\"},\n",
      "    {\"player_chat\": \"what's next? gg\", \"action\": \"1\"},\n",
      "    {\"player_chat\": \"new friends\", \"action\": \"1\"},\n",
      "    {\"player_chat\": \"will miss this\", \"action\": \"1\"},\n",
      "    {\"player_chat\": \"until next time gg\", \"action\": \"1\"},\n",
      "    {\"player_chat\": \"gentlemen gg\", \"action\": \"1\"},\n",
      "    {\"player_chat\": \"woohoo ggwp\", \"action\": \"1\"},\n",
      "    {\"player_chat\": \"empowered by you! gg\", \"action\": \"1\"},\n",
      "    {\"player_chat\": \"cool stuff\", \"action\": \"1\"},\n",
      "    {\"player_chat\": \"beast mode gg\", \"action\": \"1\"},\n",
      "    {\"player_chat\": \"peace out gg\", \"action\": \"1\"},\n",
      "    {\"player_chat\": \"holy cow gg\", \"action\": \"1\"},\n",
      "    {\"player_chat\": \"y'all da best gg\", \"action\": \"1\"},\n",
      "    {\"player_chat\": \"merry games!\", \"action\": \"1\"},\n",
      "    {\"player_chat\": \"penta! gg\", \"action\": \"1\"},\n",
      "    {\"player_chat\": \"awesome skill\", \"action\": \"1\"},\n",
      "    {\"player_chat\": \"perfect combo gg\", \"action\": \"1\"},\n",
      "    {\"player_chat\": \"mami gg\", \"action\": \"1\"},\n",
      "    {\"player_chat\": \"gg <3\", \"action\": \"1\"},\n",
      "    {\"player_chat\": \"lol ggwp\", \"action\": \"1\"},\n",
      "    {\"player_chat\": \"great help\", \"action\": \"1\"},\n",
      "    {\"player_chat\": \"nice save\", \"action\": \"1\"},\n",
      "    {\"player_chat\": \"respect gg\", \"action\": \"1\"},\n",
      "    {\"player_chat\": \"spirit of the game\", \"action\": \"1\"},\n",
      "    {\"player_chat\": \"one for the books\", \"action\": \"1\"},\n",
      "    {\"player_chat\": \"it's a wrap gg\", \"action\": \"1\"},\n",
      "    {\"player_chat\": \"let's roll\", \"action\": \"1\"},\n",
      "    {\"player_chat\": \"farewell gg\", \"action\": \"1\"},\n",
      "    {\"player_chat\": \"big family gg\", \"action\": \"1\"},\n",
      "    {\"player_chat\": \"hyped moment! gg\", \"action\": \"1\"},\n",
      "    {\"player_chat\": \"GG\", \"action\": \"1\"},\n",
      "    {\"player_chat\": \"more pls!\", \"action\": \"1\"},\n",
      "    {\"player_chat\": \"thanks for the memories\", \"action\": \"1\"},\n",
      "    {\"player_chat\": \"good show!\", \"action\": \"1\"},\n",
      "    {\"player_chat\": \"epic indeed\", \"action\": \"1\"},\n",
      "    {\"player_chat\": \"supplemental gg\", \"action\": \"1\"},\n",
      "    {\"player_chat\": \"best night\", \"action\": \"1\"},\n",
      "    {\"player_chat\": \"delightful gg\", \"action\": \"1\"},\n",
      "    {\"player_chat\": \"smiles only\", \"action\": \"1\"},\n",
      "    {\"player_chat\": \"ray of sunshine\", \"action\": \"1\"},\n",
      "    {\"player_chat\": \"grateful\", \"action\": \"1\"},\n",
      "    {\"player_chat\": \"warming up gg\", \"action\": \"1\"},\n",
      "    {\"player_chat\": \"breaking barriers\", \"action\": \"1\"},\n",
      "    {\"player_chat\": \"totally sick\", \"action\": \"1\"},\n",
      "    {\"player_chat\": \"happy days\", \"action\": \"1\"},\n",
      "    {\"player_chat\": \"gr8 teamwork!\", \"action\": \"1\"},\n",
      "    {\"player_chat\": \"you rock!\", \"action\": \"1\"},\n",
      "    {\"player_chat\": \"eee gg\", \"action\": \"1\"},\n",
      "    {\"player_chat\": \"and another one!\", \"action\": \"1\"},\n",
      "    {\"player_chat\": \"small world :)\", \"action\": \"1\"},\n",
      "    {\"player_chat\": \"revived gg\", \"action\": \"1\"},\n",
      "    {\"player_chat\": \"all smiles\", \"action\": \"1\"},\n",
      "    {\"player_chat\": \"besties\", \"action\": \"1\"},\n",
      "    {\"player_chat\": \"happy snizzles\", \"action\": \"1\"},\n",
      "    {\"player_chat\": \"OMG\", \"action\": \"1\"},\n",
      "    {\"player_chat\": \"zzzzz\", \"action\": \"1\"},\n",
      "    {\"player_chat\": \"slay them\", \"action\": \"1\"},\n",
      "    {\"player_chat\": \"NO U\", \"action\": \"1\"},\n",
      "    {\"player_chat\": \"incredible\", \"action\": \"1\"},\n",
      "    {\"player_chat\": \"peng gang\", \"action\": \"1\"},\n",
      "    {\"player_chat\": \"heartfelt\", \"action\": \"1\"}\n",
      "]\n",
      "```\n"
     ]
    }
   ],
   "source": [
    "print(response.output_text)"
   ]
  },
  {
   "cell_type": "code",
   "execution_count": 235,
   "id": "5ea0a725",
   "metadata": {},
   "outputs": [],
   "source": [
    "resp = response.output_text[8:-4]"
   ]
  },
  {
   "cell_type": "code",
   "execution_count": 236,
   "id": "b4e5e5e4",
   "metadata": {},
   "outputs": [],
   "source": [
    "data = json.loads(resp)\n",
    "new_df = pd.DataFrame(data)"
   ]
  },
  {
   "cell_type": "code",
   "execution_count": 237,
   "id": "6625a804",
   "metadata": {},
   "outputs": [
    {
     "data": {
      "application/vnd.microsoft.datawrangler.viewer.v0+json": {
       "columns": [
        {
         "name": "index",
         "rawType": "int64",
         "type": "integer"
        },
        {
         "name": "player_chat",
         "rawType": "object",
         "type": "string"
        },
        {
         "name": "action",
         "rawType": "object",
         "type": "string"
        }
       ],
       "ref": "035fa221-213f-4fc4-8bd3-a124bfee58a6",
       "rows": [
        [
         "0",
         "ty all",
         "1"
        ],
        [
         "1",
         "gg ez",
         "1"
        ],
        [
         "2",
         "GG!",
         "1"
        ],
        [
         "3",
         "Well played, guys!",
         "1"
        ],
        [
         "4",
         "glhf everyone!",
         "1"
        ],
        [
         "5",
         "nice play, lina",
         "1"
        ],
        [
         "6",
         "sick moves!",
         "1"
        ],
        [
         "7",
         "learned a lot, thx",
         "1"
        ],
        [
         "8",
         "cool strat, wp",
         "1"
        ],
        [
         "9",
         "that stun tho!",
         "1"
        ],
        [
         "10",
         "great save!",
         "1"
        ],
        [
         "11",
         "ggwp :D",
         "1"
        ],
        [
         "12",
         ":D gg",
         "1"
        ],
        [
         "13",
         "let's do this!",
         "1"
        ],
        [
         "14",
         "gg wp guys",
         "1"
        ],
        [
         "15",
         "commend jug",
         "1"
        ],
        [
         "16",
         "not mad, wp lol",
         "1"
        ],
        [
         "17",
         "first time pudge, gg",
         "1"
        ],
        [
         "18",
         "nice combo!",
         "1"
        ],
        [
         "19",
         "GG WP!",
         "1"
        ],
        [
         "20",
         "glhf",
         "1"
        ],
        [
         "21",
         "gg good night",
         "1"
        ],
        [
         "22",
         "thx, wp",
         "1"
        ],
        [
         "23",
         "u guys rock",
         "1"
        ],
        [
         "24",
         "so close, gg",
         "1"
        ],
        [
         "25",
         "thanks for the game",
         "1"
        ],
        [
         "26",
         "TEAMWORK!",
         "1"
        ],
        [
         "27",
         "glhf! :)",
         "1"
        ],
        [
         "28",
         "lol wp",
         "1"
        ],
        [
         "29",
         "gg wp =)",
         "1"
        ],
        [
         "30",
         "nicely done",
         "1"
        ],
        [
         "31",
         "so much fun :)",
         "1"
        ],
        [
         "32",
         "gg all around",
         "1"
        ],
        [
         "33",
         "no worries, gg",
         "1"
        ],
        [
         "34",
         "commend ta",
         "1"
        ],
        [
         "35",
         "nice idea!",
         "1"
        ],
        [
         "36",
         "good game well played!",
         "1"
        ],
        [
         "37",
         "good effort all",
         "1"
        ],
        [
         "38",
         "hahaha gg",
         "1"
        ],
        [
         "39",
         "gg wp",
         "1"
        ],
        [
         "40",
         "well done!",
         "1"
        ],
        [
         "41",
         "wow, gg",
         "1"
        ],
        [
         "42",
         "gg team!",
         "1"
        ],
        [
         "43",
         "commend",
         "1"
        ],
        [
         "44",
         "nice try",
         "1"
        ],
        [
         "45",
         "lol wp!",
         "1"
        ],
        [
         "46",
         "keep it up",
         "1"
        ],
        [
         "47",
         "amazing game",
         "1"
        ],
        [
         "48",
         "ggwp",
         "1"
        ],
        [
         "49",
         "commend ww",
         "1"
        ]
       ],
       "shape": {
        "columns": 2,
        "rows": 287
       }
      },
      "text/html": [
       "<div>\n",
       "<style scoped>\n",
       "    .dataframe tbody tr th:only-of-type {\n",
       "        vertical-align: middle;\n",
       "    }\n",
       "\n",
       "    .dataframe tbody tr th {\n",
       "        vertical-align: top;\n",
       "    }\n",
       "\n",
       "    .dataframe thead th {\n",
       "        text-align: right;\n",
       "    }\n",
       "</style>\n",
       "<table border=\"1\" class=\"dataframe\">\n",
       "  <thead>\n",
       "    <tr style=\"text-align: right;\">\n",
       "      <th></th>\n",
       "      <th>player_chat</th>\n",
       "      <th>action</th>\n",
       "    </tr>\n",
       "  </thead>\n",
       "  <tbody>\n",
       "    <tr>\n",
       "      <th>0</th>\n",
       "      <td>ty all</td>\n",
       "      <td>1</td>\n",
       "    </tr>\n",
       "    <tr>\n",
       "      <th>1</th>\n",
       "      <td>gg ez</td>\n",
       "      <td>1</td>\n",
       "    </tr>\n",
       "    <tr>\n",
       "      <th>2</th>\n",
       "      <td>GG!</td>\n",
       "      <td>1</td>\n",
       "    </tr>\n",
       "    <tr>\n",
       "      <th>3</th>\n",
       "      <td>Well played, guys!</td>\n",
       "      <td>1</td>\n",
       "    </tr>\n",
       "    <tr>\n",
       "      <th>4</th>\n",
       "      <td>glhf everyone!</td>\n",
       "      <td>1</td>\n",
       "    </tr>\n",
       "    <tr>\n",
       "      <th>...</th>\n",
       "      <td>...</td>\n",
       "      <td>...</td>\n",
       "    </tr>\n",
       "    <tr>\n",
       "      <th>282</th>\n",
       "      <td>slay them</td>\n",
       "      <td>1</td>\n",
       "    </tr>\n",
       "    <tr>\n",
       "      <th>283</th>\n",
       "      <td>NO U</td>\n",
       "      <td>1</td>\n",
       "    </tr>\n",
       "    <tr>\n",
       "      <th>284</th>\n",
       "      <td>incredible</td>\n",
       "      <td>1</td>\n",
       "    </tr>\n",
       "    <tr>\n",
       "      <th>285</th>\n",
       "      <td>peng gang</td>\n",
       "      <td>1</td>\n",
       "    </tr>\n",
       "    <tr>\n",
       "      <th>286</th>\n",
       "      <td>heartfelt</td>\n",
       "      <td>1</td>\n",
       "    </tr>\n",
       "  </tbody>\n",
       "</table>\n",
       "<p>287 rows × 2 columns</p>\n",
       "</div>"
      ],
      "text/plain": [
       "            player_chat action\n",
       "0                ty all      1\n",
       "1                 gg ez      1\n",
       "2                   GG!      1\n",
       "3    Well played, guys!      1\n",
       "4        glhf everyone!      1\n",
       "..                  ...    ...\n",
       "282           slay them      1\n",
       "283                NO U      1\n",
       "284          incredible      1\n",
       "285           peng gang      1\n",
       "286           heartfelt      1\n",
       "\n",
       "[287 rows x 2 columns]"
      ]
     },
     "execution_count": 237,
     "metadata": {},
     "output_type": "execute_result"
    }
   ],
   "source": [
    "prosocial_df = new_df"
   ]
  },
  {
   "cell_type": "code",
   "execution_count": 241,
   "id": "27918b09",
   "metadata": {},
   "outputs": [],
   "source": [
    "prosocial_test_df = test_df[test_df['action'] == 1]"
   ]
  },
  {
   "cell_type": "code",
   "execution_count": 243,
   "id": "c3cfcc1d",
   "metadata": {},
   "outputs": [],
   "source": [
    "X_test = np.array(sentence_transformer.encode(prosocial_test_df['player_chat'].to_list()))"
   ]
  },
  {
   "cell_type": "code",
   "execution_count": 245,
   "id": "5cd6abae",
   "metadata": {},
   "outputs": [
    {
     "data": {
      "text/plain": [
       "(393, 768)"
      ]
     },
     "execution_count": 245,
     "metadata": {},
     "output_type": "execute_result"
    }
   ],
   "source": [
    "X_test.shape"
   ]
  },
  {
   "cell_type": "code",
   "execution_count": 249,
   "id": "36b4ddd3",
   "metadata": {},
   "outputs": [],
   "source": [
    "gen_chat = np.array(sentence_transformer.encode(new_df['player_chat'].to_list()))"
   ]
  },
  {
   "cell_type": "code",
   "execution_count": 251,
   "id": "9061f7d2",
   "metadata": {},
   "outputs": [
    {
     "data": {
      "text/plain": [
       "(287, 768)"
      ]
     },
     "execution_count": 251,
     "metadata": {},
     "output_type": "execute_result"
    }
   ],
   "source": [
    "gen_chat.shape"
   ]
  },
  {
   "cell_type": "code",
   "execution_count": 266,
   "id": "9f08eb9f",
   "metadata": {},
   "outputs": [
    {
     "name": "stdout",
     "output_type": "stream",
     "text": [
      "0.33406870299543145\n"
     ]
    }
   ],
   "source": [
    "prosocial_gen_rbf = report_MMD(gen_chat, X_test, normalize=True)[0]\n",
    "print(prosocial_gen_rbf)"
   ]
  },
  {
   "cell_type": "code",
   "execution_count": 256,
   "id": "ef1aa6ab",
   "metadata": {},
   "outputs": [],
   "source": [
    "new_df.to_csv('../data/generated/class_seperated/prosocial_generated.csv', index=False)"
   ]
  },
  {
   "cell_type": "code",
   "execution_count": 265,
   "id": "a4d1658e",
   "metadata": {},
   "outputs": [
    {
     "name": "stderr",
     "output_type": "stream",
     "text": [
      "100%|██████████| 1000/1000 [00:08<00:00, 123.02it/s]"
     ]
    },
    {
     "name": "stdout",
     "output_type": "stream",
     "text": [
      "0.0\n",
      "0.011091943163167957 ± 0.0\n"
     ]
    },
    {
     "name": "stderr",
     "output_type": "stream",
     "text": [
      "\n"
     ]
    }
   ],
   "source": [
    "p_value, x_bar, std, permuted = p_test(gen_chat, X_test, prosocial_gen_rbf)\n",
    "print(p_value)\n",
    "print(f'{x_bar} ± {std}')"
   ]
  },
  {
   "cell_type": "markdown",
   "id": "a91fe7c6",
   "metadata": {},
   "source": [
    "# **Not-Prosocial Category Generations**"
   ]
  },
  {
   "cell_type": "code",
   "execution_count": 269,
   "id": "6d03a344",
   "metadata": {},
   "outputs": [],
   "source": [
    "not_prosocial_train_chats = train_df[train_df['action'] == -1]"
   ]
  },
  {
   "cell_type": "code",
   "execution_count": 270,
   "id": "fb173e32",
   "metadata": {},
   "outputs": [],
   "source": [
    "instruction = (\n",
    "    \"You are a data generator tasked with creating realistic game chat content that is not prosocial in nature.\"\n",
    "    \"You will be given some data that you should look to emulate by maintaining the style, slang, and tone of the chat, \"\n",
    "    \"including typos where appropriate, but the content must not be copied. \"\n",
    "    \"Return a list of new entries in valid JSON format, where each entry is a Python dictionary with the keys \"\n",
    "    \"'player_chat' and 'action'.\"\n",
    ")\n",
    "input = (\n",
    "    f\"Here is a sample of labeled game chat data:\\n\\n\"\n",
    "    f\"{prosocial_train_chats[['player_chat', 'action']].to_dict(orient='records')}\\n\\n\"\n",
    "    \"Please generate 500 new samples that are similar in style, and output them as a valid JSON list of dictionaries. \"\n",
    "    \"Each dictionary should have 'player_chat' as a string and 'action' as a string (either '1' or '-1').\"\n",
    ")\n",
    "\n",
    "response = client.responses.create(\n",
    "    model=\"gpt-4o\",\n",
    "    instructions=instruction,\n",
    "    input=input\n",
    ")"
   ]
  },
  {
   "cell_type": "code",
   "execution_count": 272,
   "id": "c0ba86de",
   "metadata": {},
   "outputs": [
    {
     "name": "stdout",
     "output_type": "stream",
     "text": [
      "Sure, here is a list of 500 new samples:\n",
      "\n",
      "```json\n",
      "[\n",
      "    {\"player_chat\": \"gg. report noob team\", \"action\": \"-1\"},\n",
      "    {\"player_chat\": \"bottom no def lol\", \"action\": \"-1\"},\n",
      "    {\"player_chat\": \"ez af. uninstall pls\", \"action\": \"-1\"},\n",
      "    {\"player_chat\": \"free win haha gg\", \"action\": \"-1\"},\n",
      "    {\"player_chat\": \"trash supports wtf\", \"action\": \"-1\"},\n",
      "    {\"player_chat\": \"easy mid lol\", \"action\": \"-1\"},\n",
      "    {\"player_chat\": \"rofl this mid\", \"action\": \"-1\"},\n",
      "    {\"player_chat\": \"waste time gg\", \"action\": \"-1\"},\n",
      "    {\"player_chat\": \"noob team end fast\", \"action\": \"-1\"},\n",
      "    {\"player_chat\": \"ggwp bots\", \"action\": \"-1\"},\n",
      "    {\"player_chat\": \"LOL feeding much\", \"action\": \"-1\"},\n",
      "    {\"player_chat\": \"ez pz team\", \"action\": \"-1\"},\n",
      "    {\"player_chat\": \"cyka blyat lmao\", \"action\": \"-1\"},\n",
      "    {\"player_chat\": \"u guys suck\", \"action\": \"-1\"},\n",
      "    {\"player_chat\": \"afk noob gg\", \"action\": \"-1\"},\n",
      "    {\"player_chat\": \"nice feed\", \"action\": \"-1\"},\n",
      "    {\"player_chat\": \"bad players omg\", \"action\": \"-1\"},\n",
      "    {\"player_chat\": \"xd so bad\", \"action\": \"-1\"},\n",
      "    {\"player_chat\": \"report pls\", \"action\": \"-1\"},\n",
      "    {\"player_chat\": \"ggj team\", \"action\": \"-1\"},\n",
      "    {\"player_chat\": \"afk. finish\", \"action\": \"-1\"},\n",
      "    {\"player_chat\": \"mid noob haha\", \"action\": \"-1\"},\n",
      "    {\"player_chat\": \"trash cans gg\", \"action\": \"-1\"},\n",
      "    {\"player_chat\": \"this team lol\", \"action\": \"-1\"},\n",
      "    {\"player_chat\": \"gg noobs end\", \"action\": \"-1\"},\n",
      "    {\"player_chat\": \"ez wp bots\", \"action\": \"-1\"},\n",
      "    {\"player_chat\": \"bad sup xD\", \"action\": \"-1\"},\n",
      "    {\"player_chat\": \"gg retard\", \"action\": \"-1\"},\n",
      "    {\"player_chat\": \"noob alarms\", \"action\": \"-1\"},\n",
      "    {\"player_chat\": \"ez mid\", \"action\": \"-1\"},\n",
      "    {\"player_chat\": \"roaming feed\", \"action\": \"-1\"},\n",
      "    {\"player_chat\": \"bye gg\", \"action\": \"-1\"},\n",
      "    {\"player_chat\": \"worst game\", \"action\": \"-1\"},\n",
      "    {\"player_chat\": \"wow so pro\", \"action\": \"-1\"},\n",
      "    {\"player_chat\": \"carry noob\", \"action\": \"-1\"},\n",
      "    {\"player_chat\": \"big throw\", \"action\": \"-1\"},\n",
      "    {\"player_chat\": \"just end it\", \"action\": \"-1\"},\n",
      "    {\"player_chat\": \"bot lose\", \"action\": \"-1\"},\n",
      "    {\"player_chat\": \"bots\", \"action\": \"-1\"},\n",
      "    {\"player_chat\": \"dfuq is this gg\", \"action\": \"-1\"},\n",
      "    {\"player_chat\": \"dont play\", \"action\": \"-1\"},\n",
      "    {\"player_chat\": \"gg trash\", \"action\": \"-1\"},\n",
      "    {\"player_chat\": \"stfu noob\", \"action\": \"-1\"},\n",
      "    {\"player_chat\": \"end my suffering\", \"action\": \"-1\"},\n",
      "    {\"player_chat\": \"lol\", \"action\": \"-1\"},\n",
      "    {\"player_chat\": \"as always...\", \"action\": \"-1\"},\n",
      "    {\"player_chat\": \"babies\", \"action\": \"-1\"},\n",
      "    {\"player_chat\": \"fcking idiots\", \"action\": \"-1\"},\n",
      "    {\"player_chat\": \"cyka team\", \"action\": \"-1\"},\n",
      "    {\"player_chat\": \"no cucumbers\", \"action\": \"-1\"},\n",
      "    {\"player_chat\": \"report clown\", \"action\": \"-1\"},\n",
      "    {\"player_chat\": \"ez scrubs\", \"action\": \"-1\"},\n",
      "    {\"player_chat\": \"q_q noob\", \"action\": \"-1\"},\n",
      "    {\"player_chat\": \"hahaha gg\", \"action\": \"-1\"},\n",
      "    {\"player_chat\": \"basic noobs\", \"action\": \"-1\"},\n",
      "    {\"player_chat\": \"lmao mid\", \"action\": \"-1\"},\n",
      "    {\"player_chat\": \"total clowns\", \"action\": \"-1\"},\n",
      "    {\"player_chat\": \"ff lol\", \"action\": \"-1\"},\n",
      "    {\"player_chat\": \"who fed this\", \"action\": \"-1\"},\n",
      "    {\"player_chat\": \"game over\", \"action\": \"-1\"},\n",
      "    {\"player_chat\": \"noob rats\", \"action\": \"-1\"},\n",
      "    {\"player_chat\": \"losers gg\", \"action\": \"-1\"},\n",
      "    {\"player_chat\": \"brain afk\", \"action\": \"-1\"},\n",
      "    {\"player_chat\": \"ez\", \"action\": \"-1\"},\n",
      "    {\"player_chat\": \"you serious\", \"action\": \"-1\"},\n",
      "    {\"player_chat\": \"ez carry\", \"action\": \"-1\"},\n",
      "    {\"player_chat\": \"useless ez\", \"action\": \"-1\"},\n",
      "    {\"player_chat\": \"trash team\", \"action\": \"-1\"},\n",
      "    {\"player_chat\": \"puppy noob\", \"action\": \"-1\"},\n",
      "    {\"player_chat\": \"gg idiots\", \"action\": \"-1\"},\n",
      "    {\"player_chat\": \"pure garbage\", \"action\": \"-1\"},\n",
      "    {\"player_chat\": \"bots here\", \"action\": \"-1\"},\n",
      "    {\"player_chat\": \"gg ez\", \"action\": \"-1\"},\n",
      "    {\"player_chat\": \"lose fast\", \"action\": \"-1\"},\n",
      "    {\"player_chat\": \"fail team\", \"action\": \"-1\"},\n",
      "    {\"player_chat\": \"lol ur bad\", \"action\": \"-1\"},\n",
      "    {\"player_chat\": \"team throw\", \"action\": \"-1\"},\n",
      "    {\"player_chat\": \"massive loss\", \"action\": \"-1\"},\n",
      "    {\"player_chat\": \"what a joke\", \"action\": \"-1\"},\n",
      "    {\"player_chat\": \"surrender\", \"action\": \"-1\"},\n",
      "    {\"player_chat\": \"gg clowns\", \"action\": \"-1\"},\n",
      "    {\"player_chat\": \"nice int\", \"action\": \"-1\"},\n",
      "    {\"player_chat\": \"rofl bots\", \"action\": \"-1\"},\n",
      "    {\"player_chat\": \"team noob\", \"action\": \"-1\"},\n",
      "    {\"player_chat\": \"am done\", \"action\": \"-1\"},\n",
      "    {\"player_chat\": \"leave this\", \"action\": \"-1\"},\n",
      "    {\"player_chat\": \"ez money\", \"action\": \"-1\"},\n",
      "    {\"player_chat\": \"gg clown\", \"action\": \"-1\"},\n",
      "    {\"player_chat\": \"lol fail\", \"action\": \"-1\"},\n",
      "    {\"player_chat\": \"gg buff\", \"action\": \"-1\"},\n",
      "    {\"player_chat\": \"omg stop\", \"action\": \"-1\"},\n",
      "    {\"player_chat\": \"game ruined\", \"action\": \"-1\"},\n",
      "    {\"player_chat\": \"get a grip\", \"action\": \"-1\"},\n",
      "    {\"player_chat\": \"wtf team\", \"action\": \"-1\"},\n",
      "    {\"player_chat\": \"ggwp guys\", \"action\": \"1\"},\n",
      "    {\"player_chat\": \"lol easy\", \"action\": \"-1\"},\n",
      "    {\"player_chat\": \"some trash\", \"action\": \"-1\"},\n",
      "    {\"player_chat\": \"what even\", \"action\": \"-1\"},\n",
      "    {\"player_chat\": \"hah losers\", \"action\": \"-1\"},\n",
      "    {\"player_chat\": \"noob age\", \"action\": \"-1\"},\n",
      "    {\"player_chat\": \"bad move\", \"action\": \"-1\"},\n",
      "    {\"player_chat\": \"fail strats\", \"action\": \"-1\"},\n",
      "    {\"player_chat\": \"get real\", \"action\": \"-1\"},\n",
      "    {\"player_chat\": \"lucky rats\", \"action\": \"-1\"},\n",
      "    {\"player_chat\": \"basic pub\", \"action\": \"-1\"},\n",
      "    {\"player_chat\": \"throw more\", \"action\": \"-1\"},\n",
      "    {\"player_chat\": \"mid cocks\", \"action\": \"-1\"},\n",
      "    {\"player_chat\": \"piss poor\", \"action\": \"-1\"},\n",
      "    {\"player_chat\": \"useless1\", \"action\": \"-1\"},\n",
      "    {\"player_chat\": \"just hide\", \"action\": \"-1\"},\n",
      "    {\"player_chat\": \"afk birds\", \"action\": \"-1\"},\n",
      "    {\"player_chat\": \"what's this\", \"action\": \"-1\"},\n",
      "    {\"player_chat\": \"leave\", \"action\": \"-1\"},\n",
      "    {\"player_chat\": \"noobs inc\", \"action\": \"-1\"},\n",
      "    {\"player_chat\": \"fkin dogs\", \"action\": \"-1\"},\n",
      "    {\"player_chat\": \"player trash\", \"action\": \"-1\"},\n",
      "    {\"player_chat\": \"bots. gg\", \"action\": \"-1\"},\n",
      "    {\"player_chat\": \"btch pls\", \"action\": \"-1\"},\n",
      "    {\"player_chat\": \"kids gg\", \"action\": \"-1\"},\n",
      "    {\"player_chat\": \"try harder\", \"action\": \"-1\"},\n",
      "    {\"player_chat\": \"low lives\", \"action\": \"-1\"},\n",
      "    {\"player_chat\": \"idiot fiesta\", \"action\": \"-1\"},\n",
      "    {\"player_chat\": \"team ffs\", \"action\": \"-1\"},\n",
      "    {\"player_chat\": \"mid lost\", \"action\": \"-1\"},\n",
      "    {\"player_chat\": \"no skills\", \"action\": \"-1\"},\n",
      "    {\"player_chat\": \"why try\", \"action\": \"-1\"},\n",
      "    {\"player_chat\": \"whats that\", \"action\": \"-1\"},\n",
      "    {\"player_chat\": \"omg guys\", \"action\": \"-1\"},\n",
      "    {\"player_chat\": \"clowns af\", \"action\": \"-1\"},\n",
      "    {\"player_chat\": \"bait fail\", \"action\": \"-1\"},\n",
      "    {\"player_chat\": \"just lose\", \"action\": \"-1\"},\n",
      "    {\"player_chat\": \"team fail\", \"action\": \"-1\"},\n",
      "    {\"player_chat\": \"trash cans gg\", \"action\": \"-1\"},\n",
      "    {\"player_chat\": \"this team lol\", \"action\": \"-1\"},\n",
      "    {\"player_chat\": \"report \", \"action\": \"-1\"},\n",
      "    {\"player_chat\": \"are you serious\", \"action\": \"-1\"},\n",
      "    {\"player_chat\": \"you kidding\", \"action\": \"-1\"},\n",
      "    {\"player_chat\": \"loser stack\", \"action\": \"-1\"},\n",
      "    {\"player_chat\": \"why noobs\", \"action\": \"-1\"},\n",
      "    {\"player_chat\": \"bunk stack\", \"action\": \"-1\"},\n",
      "    {\"player_chat\": \"who picks that?\", \"action\": \"-1\"},\n",
      "    {\"player_chat\": \"losing pathetic\", \"action\": \"-1\"},\n",
      "    {\"player_chat\": \"fake pros\", \"action\": \"-1\"},\n",
      "    {\"player_chat\": \"bots all\", \"action\": \"-1\"},\n",
      "    {\"player_chat\": \"first-pick trash\", \"action\": \"-1\"},\n",
      "    {\"player_chat\": \"clown team \", \"action\": \"-1\"},\n",
      "    {\"player_chat\": \"badlands\", \"action\": \"-1\"},\n",
      "    {\"player_chat\": \"meanwhile me\", \"action\": \"-1\"},\n",
      "    {\"player_chat\": \"cry babies\", \"action\": \"-1\"},\n",
      "    {\"player_chat\": \"omg win\", \"action\": \"-1\"},\n",
      "    {\"player_chat\": \"one hit wonders\", \"action\": \"-1\"},\n",
      "    {\"player_chat\": \"wow mid\", \"action\": \"-1\"},\n",
      "    {\"player_chat\": \"carry better\", \"action\": \"-1\"},\n",
      "    {\"player_chat\": \"no chance\", \"action\": \"-1\"},\n",
      "    {\"player_chat\": \"what even\", \"action\": \"-1\"},\n",
      "    {\"player_chat\": \"noob play\", \"action\": \"-1\"},\n",
      "    {\"player_chat\": \"losta energy\", \"action\": \"-1\"},\n",
      "    {\"player_chat\": \"not today\", \"action\": \"-1\"},\n",
      "    {\"player_chat\": \"gg fail\", \"action\": \"-1\"},\n",
      "    {\"player_chat\": \"super waste\", \"action\": \"-1\"},\n",
      "    {\"player_chat\": \"ez farm\", \"action\": \"1\"},\n",
      "    {\"player_chat\": \"never stress\", \"action\": \"1\"},\n",
      "    {\"player_chat\": \"try again\", \"action\": \"1\"},\n",
      "    {\"player_chat\": \"gg well done\", \"action\": \"1\"},\n",
      "    {\"player_chat\": \"this was fun\", \"action\": \"1\"},\n",
      "    {\"player_chat\": \"almost got it\", \"action\": \"1\"},\n",
      "    {\"player_chat\": \"cant win 'em all\", \"action\": \"1\"},\n",
      "    {\"player_chat\": \"good fight\", \"action\": \"1\"},\n",
      "    {\"player_chat\": \"i got baited\", \"action\": \"1\"},\n",
      "    {\"player_chat\": \"almost clutch\", \"action\": \"1\"},\n",
      "    {\"player_chat\": \"stay focused\", \"action\": \"1\"},\n",
      "    {\"player_chat\": \"close game\", \"action\": \"1\"},\n",
      "    {\"player_chat\": \"whoa close\", \"action\": \"1\"},\n",
      "    {\"player_chat\": \"so close!\", \"action\": \"1\"},\n",
      "    {\"player_chat\": \"next time!\", \"action\": \"1\"},\n",
      "    {\"player_chat\": \"gg nice team\", \"action\": \"1\"},\n",
      "    {\"player_chat\": \"almost win\", \"action\": \"1\"},\n",
      "    {\"player_chat\": \"we'll get it\", \"action\": \"1\"},\n",
      "    {\"player_chat\": \"one more go\", \"action\": \"1\"},\n",
      "    {\"player_chat\": \"keep at it\", \"action\": \"1\"},\n",
      "    {\"player_chat\": \"good job team\", \"action\": \"1\"},\n",
      "    {\"player_chat\": \"i believe\", \"action\": \"1\"},\n",
      "    {\"player_chat\": \"big plays \", \"action\": \"1\"},\n",
      "    {\"player_chat\": \"close game\", \"action\": \"1\"},\n",
      "    {\"player_chat\": \"that was great\", \"action\": \"1\"},\n",
      "    {\"player_chat\": \"tactical pause\", \"action\": \"1\"},\n",
      "    {\"player_chat\": \"almost comeback\", \"action\": \"1\"},\n",
      "    {\"player_chat\": \"nice try guys\", \"action\": \"1\"},\n",
      "    {\"player_chat\": \"keep trying\", \"action\": \"1\"},\n",
      "    {\"player_chat\": \"great effort\", \"action\": \"1\"},\n",
      "    {\"player_chat\": \"close call!\", \"action\": \"1\"},\n",
      "    {\"player_chat\": \"patience guys\", \"action\": \"1\"},\n",
      "    {\"player_chat\": \"we got this\", \"action\": \"1\"},\n",
      "    {\"player_chat\": \"not too bad\", \"action\": \"1\"},\n",
      "    {\"player_chat\": \"fight on\", \"action\": \"1\"},\n",
      "    {\"player_chat\": \"almost there\", \"action\": \"1\"},\n",
      "    {\"player_chat\": \"we nearly had it\", \"action\": \"1\"},\n",
      "    {\"player_chat\": \"next round!\", \"action\": \"1\"},\n",
      "    {\"player_chat\": \"hang in there\", \"action\": \"1\"},\n",
      "    {\"player_chat\": \"this was fun\", \"action\": \"1\"},\n",
      "    {\"player_chat\": \"solid effort\", \"action\": \"1\"},\n",
      "    {\"player_chat\": \"one more chance\", \"action\": \"1\"},\n",
      "    {\"player_chat\": \"well played\", \"action\": \"1\"},\n",
      "    {\"player_chat\": \"keep grinding\", \"action\": \"1\"},\n",
      "    {\"player_chat\": \"stay positive\", \"action\": \"1\"}\n",
      "]\n",
      "```\n",
      "\n"
     ]
    }
   ],
   "source": [
    "print(response.output_text)"
   ]
  },
  {
   "cell_type": "code",
   "execution_count": 274,
   "id": "cfb00b14",
   "metadata": {},
   "outputs": [
    {
     "data": {
      "text/plain": [
       "'['"
      ]
     },
     "execution_count": 274,
     "metadata": {},
     "output_type": "execute_result"
    }
   ],
   "source": [
    "response.output_text[50]"
   ]
  },
  {
   "cell_type": "code",
   "execution_count": 276,
   "id": "494d8903",
   "metadata": {},
   "outputs": [],
   "source": [
    "resp = response.output_text[50:-4]"
   ]
  },
  {
   "cell_type": "code",
   "execution_count": 277,
   "id": "4b968783",
   "metadata": {},
   "outputs": [],
   "source": [
    "data = json.loads(resp)\n",
    "new_df = pd.DataFrame(data)"
   ]
  },
  {
   "cell_type": "code",
   "execution_count": 279,
   "id": "b890a893",
   "metadata": {},
   "outputs": [],
   "source": [
    "not_prosocial_df = new_df"
   ]
  },
  {
   "cell_type": "code",
   "execution_count": 280,
   "id": "eb2cbe7a",
   "metadata": {},
   "outputs": [],
   "source": [
    "not_prosocial_test_df = test_df[test_df['action'] == -1]"
   ]
  },
  {
   "cell_type": "code",
   "execution_count": 281,
   "id": "7168ab29",
   "metadata": {},
   "outputs": [],
   "source": [
    "X_test = np.array(sentence_transformer.encode(prosocial_test_df['player_chat'].to_list()))"
   ]
  },
  {
   "cell_type": "code",
   "execution_count": 282,
   "id": "8c3d432a",
   "metadata": {},
   "outputs": [],
   "source": [
    "gen_chat = np.array(sentence_transformer.encode(new_df['player_chat'].to_list()))"
   ]
  },
  {
   "cell_type": "code",
   "execution_count": 283,
   "id": "f9464e59",
   "metadata": {},
   "outputs": [
    {
     "name": "stdout",
     "output_type": "stream",
     "text": [
      "0.721097166228667\n"
     ]
    }
   ],
   "source": [
    "not_prosocial_gen_rbf = report_MMD(gen_chat, X_test, normalize=True)[0]\n",
    "print(not_prosocial_gen_rbf)"
   ]
  },
  {
   "cell_type": "code",
   "execution_count": 284,
   "id": "58868575",
   "metadata": {},
   "outputs": [],
   "source": [
    "new_df.to_csv('../data/generated/class_seperated/not_prosocial_generated.csv', index=False)"
   ]
  },
  {
   "cell_type": "code",
   "execution_count": 285,
   "id": "999aba7a",
   "metadata": {},
   "outputs": [
    {
     "name": "stderr",
     "output_type": "stream",
     "text": [
      "100%|██████████| 1000/1000 [00:11<00:00, 85.84it/s]"
     ]
    },
    {
     "name": "stdout",
     "output_type": "stream",
     "text": [
      "0.0\n",
      "0.013293034154850643 ± 0.0\n"
     ]
    },
    {
     "name": "stderr",
     "output_type": "stream",
     "text": [
      "\n"
     ]
    }
   ],
   "source": [
    "p_value, x_bar, std, permuted = p_test(gen_chat, X_test, not_prosocial_gen_rbf)\n",
    "print(p_value)\n",
    "print(f'{x_bar} ± {std}')"
   ]
  }
 ],
 "metadata": {
  "kernelspec": {
   "display_name": "Python 3",
   "language": "python",
   "name": "python3"
  },
  "language_info": {
   "codemirror_mode": {
    "name": "ipython",
    "version": 3
   },
   "file_extension": ".py",
   "mimetype": "text/x-python",
   "name": "python",
   "nbconvert_exporter": "python",
   "pygments_lexer": "ipython3",
   "version": "3.9.6"
  }
 },
 "nbformat": 4,
 "nbformat_minor": 5
}
